{
 "cells": [
  {
   "cell_type": "markdown",
   "metadata": {},
   "source": [
    "# MTH-IDS Adoption Using UNSW-NB15\n",
    "This is an adoption of the method described in the paper entitled \"[**MTH-IDS: A Multi-Tiered Hybrid Intrusion Detection System for Internet of Vehicles**](https://arxiv.org/pdf/2105.13289.pdf)\" accepted in IEEE Internet of Things Journal using UNSW-NB15 dataset to test its performance.  "
   ]
  },
  {
   "cell_type": "markdown",
   "metadata": {},
   "source": [
    "## Import libraries"
   ]
  },
  {
   "cell_type": "code",
   "execution_count": 1,
   "metadata": {
    "collapsed": true
   },
   "outputs": [],
   "source": [
    "import warnings\n",
    "warnings.filterwarnings(\"ignore\")"
   ]
  },
  {
   "cell_type": "code",
   "execution_count": 2,
   "metadata": {
    "collapsed": false
   },
   "outputs": [],
   "source": [
    "import os\n",
    "import time\n",
    "import datetime\n",
    "import numpy as np\n",
    "import pandas as pd\n",
    "import seaborn as sns\n",
    "import matplotlib.pyplot as plt\n",
    "from sklearn.preprocessing import LabelEncoder\n",
    "from sklearn.model_selection import train_test_split\n",
    "from sklearn.metrics import classification_report,confusion_matrix,accuracy_score,precision_recall_fscore_support\n",
    "from sklearn.metrics import f1_score,roc_auc_score\n",
    "from sklearn.ensemble import RandomForestClassifier,ExtraTreesClassifier\n",
    "from sklearn.tree import DecisionTreeClassifier\n",
    "import xgboost as xgb\n",
    "from xgboost import plot_importance"
   ]
  },
  {
   "cell_type": "markdown",
   "metadata": {},
   "source": [
    "## Read the UNSW-NB15 dataset\n",
    "The UNSW-NB15 dataset is publicly available at: https://research.unsw.edu.au/projects/unsw-nb15-dataset  \n",
    "This notebook uses a merged version of the dataset, please firstly run Prepare_UNSW-NB15_Dataset.ipynb to automatically download the dataset and do the merge  \n",
    "*Note: This project downloads the dataset from Kaggle, which is found to be just a copy of the original dataset*"
   ]
  },
  {
   "cell_type": "code",
   "execution_count": 3,
   "metadata": {
    "collapsed": false
   },
   "outputs": [],
   "source": [
    "#Read dataset\n",
    "df = pd.read_csv('data/UNSW-NB15.csv')"
   ]
  },
  {
   "cell_type": "code",
   "execution_count": 4,
   "metadata": {
    "collapsed": false
   },
   "outputs": [
    {
     "data": {
      "text/html": [
       "<div>\n",
       "<style scoped>\n",
       "    .dataframe tbody tr th:only-of-type {\n",
       "        vertical-align: middle;\n",
       "    }\n",
       "\n",
       "    .dataframe tbody tr th {\n",
       "        vertical-align: top;\n",
       "    }\n",
       "\n",
       "    .dataframe thead th {\n",
       "        text-align: right;\n",
       "    }\n",
       "</style>\n",
       "<table border=\"1\" class=\"dataframe\">\n",
       "  <thead>\n",
       "    <tr style=\"text-align: right;\">\n",
       "      <th></th>\n",
       "      <th>srcip</th>\n",
       "      <th>sport</th>\n",
       "      <th>dstip</th>\n",
       "      <th>dsport</th>\n",
       "      <th>proto</th>\n",
       "      <th>state</th>\n",
       "      <th>dur</th>\n",
       "      <th>sbytes</th>\n",
       "      <th>dbytes</th>\n",
       "      <th>sttl</th>\n",
       "      <th>...</th>\n",
       "      <th>ct_ftp_cmd</th>\n",
       "      <th>ct_srv_src</th>\n",
       "      <th>ct_srv_dst</th>\n",
       "      <th>ct_dst_ltm</th>\n",
       "      <th>ct_src_ltm</th>\n",
       "      <th>ct_src_dport_ltm</th>\n",
       "      <th>ct_dst_sport_ltm</th>\n",
       "      <th>ct_dst_src_ltm</th>\n",
       "      <th>attack_cat</th>\n",
       "      <th>label</th>\n",
       "    </tr>\n",
       "  </thead>\n",
       "  <tbody>\n",
       "    <tr>\n",
       "      <th>0</th>\n",
       "      <td>59.166.0.0</td>\n",
       "      <td>1390.0</td>\n",
       "      <td>149.171.126.6</td>\n",
       "      <td>53.0</td>\n",
       "      <td>udp</td>\n",
       "      <td>CON</td>\n",
       "      <td>0.001055</td>\n",
       "      <td>132</td>\n",
       "      <td>164</td>\n",
       "      <td>31</td>\n",
       "      <td>...</td>\n",
       "      <td>0.0</td>\n",
       "      <td>3</td>\n",
       "      <td>7</td>\n",
       "      <td>1</td>\n",
       "      <td>3</td>\n",
       "      <td>1</td>\n",
       "      <td>1</td>\n",
       "      <td>1</td>\n",
       "      <td>Normal</td>\n",
       "      <td>0</td>\n",
       "    </tr>\n",
       "    <tr>\n",
       "      <th>1</th>\n",
       "      <td>59.166.0.0</td>\n",
       "      <td>33661.0</td>\n",
       "      <td>149.171.126.9</td>\n",
       "      <td>1024.0</td>\n",
       "      <td>udp</td>\n",
       "      <td>CON</td>\n",
       "      <td>0.036133</td>\n",
       "      <td>528</td>\n",
       "      <td>304</td>\n",
       "      <td>31</td>\n",
       "      <td>...</td>\n",
       "      <td>0.0</td>\n",
       "      <td>2</td>\n",
       "      <td>4</td>\n",
       "      <td>2</td>\n",
       "      <td>3</td>\n",
       "      <td>1</td>\n",
       "      <td>1</td>\n",
       "      <td>2</td>\n",
       "      <td>Normal</td>\n",
       "      <td>0</td>\n",
       "    </tr>\n",
       "    <tr>\n",
       "      <th>2</th>\n",
       "      <td>59.166.0.6</td>\n",
       "      <td>1464.0</td>\n",
       "      <td>149.171.126.7</td>\n",
       "      <td>53.0</td>\n",
       "      <td>udp</td>\n",
       "      <td>CON</td>\n",
       "      <td>0.001119</td>\n",
       "      <td>146</td>\n",
       "      <td>178</td>\n",
       "      <td>31</td>\n",
       "      <td>...</td>\n",
       "      <td>0.0</td>\n",
       "      <td>12</td>\n",
       "      <td>8</td>\n",
       "      <td>1</td>\n",
       "      <td>2</td>\n",
       "      <td>2</td>\n",
       "      <td>1</td>\n",
       "      <td>1</td>\n",
       "      <td>Normal</td>\n",
       "      <td>0</td>\n",
       "    </tr>\n",
       "    <tr>\n",
       "      <th>3</th>\n",
       "      <td>59.166.0.5</td>\n",
       "      <td>3593.0</td>\n",
       "      <td>149.171.126.5</td>\n",
       "      <td>53.0</td>\n",
       "      <td>udp</td>\n",
       "      <td>CON</td>\n",
       "      <td>0.001209</td>\n",
       "      <td>132</td>\n",
       "      <td>164</td>\n",
       "      <td>31</td>\n",
       "      <td>...</td>\n",
       "      <td>0.0</td>\n",
       "      <td>6</td>\n",
       "      <td>9</td>\n",
       "      <td>1</td>\n",
       "      <td>1</td>\n",
       "      <td>1</td>\n",
       "      <td>1</td>\n",
       "      <td>1</td>\n",
       "      <td>Normal</td>\n",
       "      <td>0</td>\n",
       "    </tr>\n",
       "    <tr>\n",
       "      <th>4</th>\n",
       "      <td>59.166.0.3</td>\n",
       "      <td>49664.0</td>\n",
       "      <td>149.171.126.0</td>\n",
       "      <td>53.0</td>\n",
       "      <td>udp</td>\n",
       "      <td>CON</td>\n",
       "      <td>0.001169</td>\n",
       "      <td>146</td>\n",
       "      <td>178</td>\n",
       "      <td>31</td>\n",
       "      <td>...</td>\n",
       "      <td>0.0</td>\n",
       "      <td>7</td>\n",
       "      <td>9</td>\n",
       "      <td>1</td>\n",
       "      <td>1</td>\n",
       "      <td>1</td>\n",
       "      <td>1</td>\n",
       "      <td>1</td>\n",
       "      <td>Normal</td>\n",
       "      <td>0</td>\n",
       "    </tr>\n",
       "    <tr>\n",
       "      <th>...</th>\n",
       "      <td>...</td>\n",
       "      <td>...</td>\n",
       "      <td>...</td>\n",
       "      <td>...</td>\n",
       "      <td>...</td>\n",
       "      <td>...</td>\n",
       "      <td>...</td>\n",
       "      <td>...</td>\n",
       "      <td>...</td>\n",
       "      <td>...</td>\n",
       "      <td>...</td>\n",
       "      <td>...</td>\n",
       "      <td>...</td>\n",
       "      <td>...</td>\n",
       "      <td>...</td>\n",
       "      <td>...</td>\n",
       "      <td>...</td>\n",
       "      <td>...</td>\n",
       "      <td>...</td>\n",
       "      <td>...</td>\n",
       "      <td>...</td>\n",
       "    </tr>\n",
       "    <tr>\n",
       "      <th>2539734</th>\n",
       "      <td>59.166.0.5</td>\n",
       "      <td>33094.0</td>\n",
       "      <td>149.171.126.7</td>\n",
       "      <td>43433.0</td>\n",
       "      <td>tcp</td>\n",
       "      <td>FIN</td>\n",
       "      <td>0.087306</td>\n",
       "      <td>320</td>\n",
       "      <td>1828</td>\n",
       "      <td>31</td>\n",
       "      <td>...</td>\n",
       "      <td>-1.0</td>\n",
       "      <td>1</td>\n",
       "      <td>2</td>\n",
       "      <td>3</td>\n",
       "      <td>3</td>\n",
       "      <td>1</td>\n",
       "      <td>1</td>\n",
       "      <td>3</td>\n",
       "      <td>Normal</td>\n",
       "      <td>0</td>\n",
       "    </tr>\n",
       "    <tr>\n",
       "      <th>2539735</th>\n",
       "      <td>59.166.0.7</td>\n",
       "      <td>20848.0</td>\n",
       "      <td>149.171.126.4</td>\n",
       "      <td>21.0</td>\n",
       "      <td>tcp</td>\n",
       "      <td>CON</td>\n",
       "      <td>0.365058</td>\n",
       "      <td>456</td>\n",
       "      <td>346</td>\n",
       "      <td>31</td>\n",
       "      <td>...</td>\n",
       "      <td>2.0</td>\n",
       "      <td>2</td>\n",
       "      <td>2</td>\n",
       "      <td>2</td>\n",
       "      <td>2</td>\n",
       "      <td>2</td>\n",
       "      <td>2</td>\n",
       "      <td>2</td>\n",
       "      <td>Normal</td>\n",
       "      <td>0</td>\n",
       "    </tr>\n",
       "    <tr>\n",
       "      <th>2539736</th>\n",
       "      <td>59.166.0.3</td>\n",
       "      <td>21511.0</td>\n",
       "      <td>149.171.126.9</td>\n",
       "      <td>21.0</td>\n",
       "      <td>tcp</td>\n",
       "      <td>CON</td>\n",
       "      <td>6.335154</td>\n",
       "      <td>1802</td>\n",
       "      <td>2088</td>\n",
       "      <td>31</td>\n",
       "      <td>...</td>\n",
       "      <td>2.0</td>\n",
       "      <td>2</td>\n",
       "      <td>2</td>\n",
       "      <td>4</td>\n",
       "      <td>2</td>\n",
       "      <td>2</td>\n",
       "      <td>2</td>\n",
       "      <td>2</td>\n",
       "      <td>Normal</td>\n",
       "      <td>0</td>\n",
       "    </tr>\n",
       "    <tr>\n",
       "      <th>2539737</th>\n",
       "      <td>59.166.0.9</td>\n",
       "      <td>35433.0</td>\n",
       "      <td>149.171.126.0</td>\n",
       "      <td>80.0</td>\n",
       "      <td>tcp</td>\n",
       "      <td>CON</td>\n",
       "      <td>2.200934</td>\n",
       "      <td>3498</td>\n",
       "      <td>166054</td>\n",
       "      <td>31</td>\n",
       "      <td>...</td>\n",
       "      <td>-1.0</td>\n",
       "      <td>1</td>\n",
       "      <td>1</td>\n",
       "      <td>2</td>\n",
       "      <td>4</td>\n",
       "      <td>2</td>\n",
       "      <td>2</td>\n",
       "      <td>2</td>\n",
       "      <td>Normal</td>\n",
       "      <td>0</td>\n",
       "    </tr>\n",
       "    <tr>\n",
       "      <th>2539738</th>\n",
       "      <td>175.45.176.0</td>\n",
       "      <td>17293.0</td>\n",
       "      <td>149.171.126.17</td>\n",
       "      <td>110.0</td>\n",
       "      <td>tcp</td>\n",
       "      <td>CON</td>\n",
       "      <td>0.942984</td>\n",
       "      <td>574</td>\n",
       "      <td>676</td>\n",
       "      <td>62</td>\n",
       "      <td>...</td>\n",
       "      <td>-1.0</td>\n",
       "      <td>1</td>\n",
       "      <td>1</td>\n",
       "      <td>2</td>\n",
       "      <td>4</td>\n",
       "      <td>2</td>\n",
       "      <td>2</td>\n",
       "      <td>2</td>\n",
       "      <td>Exploits</td>\n",
       "      <td>1</td>\n",
       "    </tr>\n",
       "  </tbody>\n",
       "</table>\n",
       "<p>2539739 rows × 49 columns</p>\n",
       "</div>"
      ],
      "text/plain": [
       "                srcip    sport           dstip   dsport proto state       dur  \\\n",
       "0          59.166.0.0   1390.0   149.171.126.6     53.0   udp   CON  0.001055   \n",
       "1          59.166.0.0  33661.0   149.171.126.9   1024.0   udp   CON  0.036133   \n",
       "2          59.166.0.6   1464.0   149.171.126.7     53.0   udp   CON  0.001119   \n",
       "3          59.166.0.5   3593.0   149.171.126.5     53.0   udp   CON  0.001209   \n",
       "4          59.166.0.3  49664.0   149.171.126.0     53.0   udp   CON  0.001169   \n",
       "...               ...      ...             ...      ...   ...   ...       ...   \n",
       "2539734    59.166.0.5  33094.0   149.171.126.7  43433.0   tcp   FIN  0.087306   \n",
       "2539735    59.166.0.7  20848.0   149.171.126.4     21.0   tcp   CON  0.365058   \n",
       "2539736    59.166.0.3  21511.0   149.171.126.9     21.0   tcp   CON  6.335154   \n",
       "2539737    59.166.0.9  35433.0   149.171.126.0     80.0   tcp   CON  2.200934   \n",
       "2539738  175.45.176.0  17293.0  149.171.126.17    110.0   tcp   CON  0.942984   \n",
       "\n",
       "         sbytes  dbytes  sttl  ...  ct_ftp_cmd  ct_srv_src  ct_srv_dst  \\\n",
       "0           132     164    31  ...         0.0           3           7   \n",
       "1           528     304    31  ...         0.0           2           4   \n",
       "2           146     178    31  ...         0.0          12           8   \n",
       "3           132     164    31  ...         0.0           6           9   \n",
       "4           146     178    31  ...         0.0           7           9   \n",
       "...         ...     ...   ...  ...         ...         ...         ...   \n",
       "2539734     320    1828    31  ...        -1.0           1           2   \n",
       "2539735     456     346    31  ...         2.0           2           2   \n",
       "2539736    1802    2088    31  ...         2.0           2           2   \n",
       "2539737    3498  166054    31  ...        -1.0           1           1   \n",
       "2539738     574     676    62  ...        -1.0           1           1   \n",
       "\n",
       "        ct_dst_ltm  ct_src_ltm  ct_src_dport_ltm  ct_dst_sport_ltm  \\\n",
       "0                1           3                 1                 1   \n",
       "1                2           3                 1                 1   \n",
       "2                1           2                 2                 1   \n",
       "3                1           1                 1                 1   \n",
       "4                1           1                 1                 1   \n",
       "...            ...         ...               ...               ...   \n",
       "2539734          3           3                 1                 1   \n",
       "2539735          2           2                 2                 2   \n",
       "2539736          4           2                 2                 2   \n",
       "2539737          2           4                 2                 2   \n",
       "2539738          2           4                 2                 2   \n",
       "\n",
       "         ct_dst_src_ltm  attack_cat  label  \n",
       "0                     1      Normal      0  \n",
       "1                     2      Normal      0  \n",
       "2                     1      Normal      0  \n",
       "3                     1      Normal      0  \n",
       "4                     1      Normal      0  \n",
       "...                 ...         ...    ...  \n",
       "2539734               3      Normal      0  \n",
       "2539735               2      Normal      0  \n",
       "2539736               2      Normal      0  \n",
       "2539737               2      Normal      0  \n",
       "2539738               2    Exploits      1  \n",
       "\n",
       "[2539739 rows x 49 columns]"
      ]
     },
     "execution_count": 4,
     "metadata": {},
     "output_type": "execute_result"
    }
   ],
   "source": [
    "df"
   ]
  },
  {
   "cell_type": "code",
   "execution_count": 5,
   "metadata": {
    "collapsed": false
   },
   "outputs": [
    {
     "data": {
      "text/plain": [
       "Normal            2218456\n",
       "Generic            215481\n",
       "Exploits            44525\n",
       "Fuzzers             24246\n",
       "DoS                 16353\n",
       "Reconnaissance      13987\n",
       "Analysis             2677\n",
       "Backdoor             2329\n",
       "Shellcode            1511\n",
       "Worms                 174\n",
       "Name: attack_cat, dtype: int64"
      ]
     },
     "execution_count": 5,
     "metadata": {},
     "output_type": "execute_result"
    }
   ],
   "source": [
    "df['attack_cat'].value_counts()"
   ]
  },
  {
   "cell_type": "markdown",
   "metadata": {},
   "source": [
    "### Early Feature Selection (remove useless features in the dataset)\n",
    "Refering to the training set included in the files downloaded from Kaggle"
   ]
  },
  {
   "cell_type": "code",
   "execution_count": 6,
   "metadata": {},
   "outputs": [
    {
     "name": "stdout",
     "output_type": "stream",
     "text": [
      "['dur', 'proto', 'service', 'state', 'spkts', 'dpkts', 'sbytes', 'dbytes', 'sttl', 'dttl', 'sload', 'dload', 'sloss', 'dloss', 'sintpkt', 'dintpkt', 'sjit', 'djit', 'swin', 'stcpb', 'dtcpb', 'dwin', 'tcprtt', 'synack', 'ackdat', 'smeansz', 'dmeansz', 'trans_depth', 'res_bdy_len', 'ct_srv_src', 'ct_state_ttl', 'ct_dst_ltm', 'ct_src_dport_ltm', 'ct_dst_sport_ltm', 'ct_dst_src_ltm', 'is_ftp_login', 'ct_ftp_cmd', 'ct_flw_http_mthd', 'ct_src_ltm', 'ct_srv_dst', 'is_sm_ips_ports', 'attack_cat']\n"
     ]
    }
   ],
   "source": [
    "# # Read the downloaded training set\n",
    "# df_training = pd.read_csv('data/achieve/UNSW_NB15_training-set.csv', index_col='id')\n",
    "# # Get feature set\n",
    "# features = df_training.columns.to_list()\n",
    "# # Adjustments\n",
    "# # Rename some feature names to match the complete dataset\n",
    "# rename_dict = {\n",
    "#     'smean': 'smeansz',\n",
    "#     'dmean': 'dmeansz',\n",
    "#     'response_body_len': 'res_bdy_len',\n",
    "#     'sinpkt': 'sintpkt',\n",
    "#     'dinpkt': 'dintpkt'\n",
    "# }\n",
    "# features = list(map(lambda x: rename_dict[x] if x in rename_dict else x, features))\n",
    "# # Remove feature 'rate' since it is not in the dataset\n",
    "# features.remove('rate')\n",
    "# # Remove feature 'label' to match the original code of MTH-IDS_IoTJ\n",
    "# features.remove('label')\n",
    "# # Release Memory\n",
    "# del df_training\n",
    "\n",
    "# For convenience\n",
    "features = ['dur', 'proto', 'service', 'state', 'spkts', 'dpkts', 'sbytes', 'dbytes', 'sttl', 'dttl', 'sload', 'dload', 'sloss', 'dloss',\n",
    " 'sintpkt', 'dintpkt', 'sjit', 'djit', 'swin', 'stcpb', 'dtcpb', 'dwin', 'tcprtt', 'synack', 'ackdat', 'smeansz', 'dmeansz', 'trans_depth',\n",
    " 'res_bdy_len', 'ct_srv_src', 'ct_state_ttl', 'ct_dst_ltm', 'ct_src_dport_ltm', 'ct_dst_sport_ltm', 'ct_dst_src_ltm', 'is_ftp_login',\n",
    " 'ct_ftp_cmd', 'ct_flw_http_mthd', 'ct_src_ltm', 'ct_srv_dst', 'is_sm_ips_ports', 'attack_cat']\n",
    "\n",
    "print(features)"
   ]
  },
  {
   "cell_type": "code",
   "execution_count": 7,
   "metadata": {},
   "outputs": [],
   "source": [
    "# Only keep the influencing features\n",
    "df = df[features]"
   ]
  },
  {
   "cell_type": "markdown",
   "metadata": {},
   "source": [
    "### Preprocessing (normalization and padding values)"
   ]
  },
  {
   "cell_type": "code",
   "execution_count": 8,
   "metadata": {
    "collapsed": false
   },
   "outputs": [],
   "source": [
    "# Z-score normalization\n",
    "features = df.dtypes[df.dtypes != 'object'].index\n",
    "df[features] = df[features].apply(\n",
    "    lambda x: (x - x.mean()) / (x.std()))\n",
    "# Fill empty values by 0\n",
    "df = df.fillna(0)"
   ]
  },
  {
   "cell_type": "markdown",
   "metadata": {},
   "source": [
    "### Data sampling\n",
    "Due to the space limit of GitHub files and the large size of network traffic data, we sample a small-sized subset for model learning using **k-means cluster sampling**"
   ]
  },
  {
   "cell_type": "code",
   "execution_count": 9,
   "metadata": {},
   "outputs": [],
   "source": [
    "temp_labels = df['attack_cat'].value_counts().index.to_list()"
   ]
  },
  {
   "cell_type": "code",
   "execution_count": 10,
   "metadata": {
    "collapsed": false
   },
   "outputs": [],
   "source": [
    "labelencoder = LabelEncoder()\n",
    "for col_name in df.dtypes[df.dtypes == 'object'].index:\n",
    "      df[col_name] = labelencoder.fit_transform(df[col_name])"
   ]
  },
  {
   "cell_type": "code",
   "execution_count": 11,
   "metadata": {
    "collapsed": false
   },
   "outputs": [
    {
     "data": {
      "text/plain": [
       "6    2218456\n",
       "5     215481\n",
       "3      44525\n",
       "4      24246\n",
       "2      16353\n",
       "7      13987\n",
       "0       2677\n",
       "1       2329\n",
       "8       1511\n",
       "9        174\n",
       "Name: attack_cat, dtype: int64"
      ]
     },
     "execution_count": 11,
     "metadata": {},
     "output_type": "execute_result"
    }
   ],
   "source": [
    "df['attack_cat'].value_counts()"
   ]
  },
  {
   "cell_type": "code",
   "execution_count": 12,
   "metadata": {},
   "outputs": [
    {
     "data": {
      "text/plain": [
       "['Analysis',\n",
       " 'Backdoor',\n",
       " 'DoS',\n",
       " 'Exploits',\n",
       " 'Fuzzers',\n",
       " 'Generic',\n",
       " 'Normal',\n",
       " 'Reconnaissance',\n",
       " 'Shellcode',\n",
       " 'Worms']"
      ]
     },
     "execution_count": 12,
     "metadata": {},
     "output_type": "execute_result"
    }
   ],
   "source": [
    "label_names = []\n",
    "temp_series = df['attack_cat'].value_counts().index.to_list()\n",
    "for i in range(len(temp_labels)):\n",
    "    label_names.append(temp_labels[temp_series.index(i)])\n",
    "del temp_labels\n",
    "del temp_series\n",
    "label_names"
   ]
  },
  {
   "cell_type": "code",
   "execution_count": 13,
   "metadata": {
    "collapsed": false
   },
   "outputs": [],
   "source": [
    "# retain the minority class instances and sample the majority class instances\n",
    "df_minor = df[(df['attack_cat']==0)|(df['attack_cat']==1)|(df['attack_cat']==9)|(df['attack_cat']==2)|(df['attack_cat']==10)]\n",
    "df_major = df.drop(df_minor.index)"
   ]
  },
  {
   "cell_type": "code",
   "execution_count": 14,
   "metadata": {
    "collapsed": false
   },
   "outputs": [],
   "source": [
    "X = df_major.drop(['attack_cat'],axis=1) \n",
    "y = df_major.iloc[:, -1].values.reshape(-1,1)\n",
    "y=np.ravel(y)"
   ]
  },
  {
   "cell_type": "code",
   "execution_count": 15,
   "metadata": {
    "collapsed": false,
    "scrolled": true
   },
   "outputs": [],
   "source": [
    "# use k-means to cluster the data samples and select a proportion of data from each cluster\n",
    "from sklearn.cluster import MiniBatchKMeans\n",
    "kmeans = MiniBatchKMeans(n_clusters=1000, random_state=0).fit(X)"
   ]
  },
  {
   "cell_type": "code",
   "execution_count": 16,
   "metadata": {
    "collapsed": false
   },
   "outputs": [],
   "source": [
    "klabel=kmeans.labels_\n",
    "df_major['klabel']=klabel"
   ]
  },
  {
   "cell_type": "code",
   "execution_count": 17,
   "metadata": {
    "collapsed": false,
    "scrolled": true
   },
   "outputs": [
    {
     "data": {
      "text/plain": [
       "406    13180\n",
       "47      9189\n",
       "555     9022\n",
       "708     8407\n",
       "453     8246\n",
       "       ...  \n",
       "86        93\n",
       "359       92\n",
       "303       74\n",
       "966       74\n",
       "405       54\n",
       "Name: klabel, Length: 1000, dtype: int64"
      ]
     },
     "execution_count": 17,
     "metadata": {},
     "output_type": "execute_result"
    }
   ],
   "source": [
    "df_major['klabel'].value_counts()"
   ]
  },
  {
   "cell_type": "code",
   "execution_count": 18,
   "metadata": {
    "collapsed": false
   },
   "outputs": [],
   "source": [
    "cols = list(df_major)\n",
    "cols.insert(41, cols.pop(cols.index('attack_cat')))\n",
    "df_major = df_major.loc[:, cols]"
   ]
  },
  {
   "cell_type": "code",
   "execution_count": 19,
   "metadata": {
    "collapsed": false,
    "scrolled": true
   },
   "outputs": [
    {
     "data": {
      "text/html": [
       "<div>\n",
       "<style scoped>\n",
       "    .dataframe tbody tr th:only-of-type {\n",
       "        vertical-align: middle;\n",
       "    }\n",
       "\n",
       "    .dataframe tbody tr th {\n",
       "        vertical-align: top;\n",
       "    }\n",
       "\n",
       "    .dataframe thead th {\n",
       "        text-align: right;\n",
       "    }\n",
       "</style>\n",
       "<table border=\"1\" class=\"dataframe\">\n",
       "  <thead>\n",
       "    <tr style=\"text-align: right;\">\n",
       "      <th></th>\n",
       "      <th>dur</th>\n",
       "      <th>proto</th>\n",
       "      <th>service</th>\n",
       "      <th>state</th>\n",
       "      <th>spkts</th>\n",
       "      <th>dpkts</th>\n",
       "      <th>sbytes</th>\n",
       "      <th>dbytes</th>\n",
       "      <th>sttl</th>\n",
       "      <th>dttl</th>\n",
       "      <th>...</th>\n",
       "      <th>ct_dst_sport_ltm</th>\n",
       "      <th>ct_dst_src_ltm</th>\n",
       "      <th>is_ftp_login</th>\n",
       "      <th>ct_ftp_cmd</th>\n",
       "      <th>ct_flw_http_mthd</th>\n",
       "      <th>ct_src_ltm</th>\n",
       "      <th>ct_srv_dst</th>\n",
       "      <th>is_sm_ips_ports</th>\n",
       "      <th>attack_cat</th>\n",
       "      <th>klabel</th>\n",
       "    </tr>\n",
       "  </thead>\n",
       "  <tbody>\n",
       "    <tr>\n",
       "      <th>0</th>\n",
       "      <td>-0.047237</td>\n",
       "      <td>119</td>\n",
       "      <td>2</td>\n",
       "      <td>2</td>\n",
       "      <td>-0.410191</td>\n",
       "      <td>-0.335218</td>\n",
       "      <td>-0.074599</td>\n",
       "      <td>-0.225120</td>\n",
       "      <td>-0.425873</td>\n",
       "      <td>-0.041315</td>\n",
       "      <td>...</td>\n",
       "      <td>-0.419941</td>\n",
       "      <td>-0.519288</td>\n",
       "      <td>1.024811</td>\n",
       "      <td>0.984974</td>\n",
       "      <td>0.511771</td>\n",
       "      <td>-0.475500</td>\n",
       "      <td>-0.183860</td>\n",
       "      <td>-0.040675</td>\n",
       "      <td>6</td>\n",
       "      <td>240</td>\n",
       "    </tr>\n",
       "    <tr>\n",
       "      <th>1</th>\n",
       "      <td>-0.044718</td>\n",
       "      <td>119</td>\n",
       "      <td>0</td>\n",
       "      <td>2</td>\n",
       "      <td>-0.383975</td>\n",
       "      <td>-0.318758</td>\n",
       "      <td>-0.067579</td>\n",
       "      <td>-0.224251</td>\n",
       "      <td>-0.425873</td>\n",
       "      <td>-0.041315</td>\n",
       "      <td>...</td>\n",
       "      <td>-0.419941</td>\n",
       "      <td>-0.430468</td>\n",
       "      <td>1.024811</td>\n",
       "      <td>0.984974</td>\n",
       "      <td>0.511771</td>\n",
       "      <td>-0.475500</td>\n",
       "      <td>-0.461052</td>\n",
       "      <td>-0.040675</td>\n",
       "      <td>6</td>\n",
       "      <td>416</td>\n",
       "    </tr>\n",
       "    <tr>\n",
       "      <th>2</th>\n",
       "      <td>-0.047232</td>\n",
       "      <td>119</td>\n",
       "      <td>2</td>\n",
       "      <td>2</td>\n",
       "      <td>-0.410191</td>\n",
       "      <td>-0.335218</td>\n",
       "      <td>-0.074351</td>\n",
       "      <td>-0.225033</td>\n",
       "      <td>-0.425873</td>\n",
       "      <td>-0.041315</td>\n",
       "      <td>...</td>\n",
       "      <td>-0.419941</td>\n",
       "      <td>-0.519288</td>\n",
       "      <td>1.024811</td>\n",
       "      <td>0.984974</td>\n",
       "      <td>0.511771</td>\n",
       "      <td>-0.597372</td>\n",
       "      <td>-0.091463</td>\n",
       "      <td>-0.040675</td>\n",
       "      <td>6</td>\n",
       "      <td>520</td>\n",
       "    </tr>\n",
       "    <tr>\n",
       "      <th>3</th>\n",
       "      <td>-0.047226</td>\n",
       "      <td>119</td>\n",
       "      <td>2</td>\n",
       "      <td>2</td>\n",
       "      <td>-0.410191</td>\n",
       "      <td>-0.335218</td>\n",
       "      <td>-0.074599</td>\n",
       "      <td>-0.225120</td>\n",
       "      <td>-0.425873</td>\n",
       "      <td>-0.041315</td>\n",
       "      <td>...</td>\n",
       "      <td>-0.419941</td>\n",
       "      <td>-0.519288</td>\n",
       "      <td>1.024811</td>\n",
       "      <td>0.984974</td>\n",
       "      <td>0.511771</td>\n",
       "      <td>-0.719244</td>\n",
       "      <td>0.000935</td>\n",
       "      <td>-0.040675</td>\n",
       "      <td>6</td>\n",
       "      <td>240</td>\n",
       "    </tr>\n",
       "    <tr>\n",
       "      <th>4</th>\n",
       "      <td>-0.047229</td>\n",
       "      <td>119</td>\n",
       "      <td>2</td>\n",
       "      <td>2</td>\n",
       "      <td>-0.410191</td>\n",
       "      <td>-0.335218</td>\n",
       "      <td>-0.074351</td>\n",
       "      <td>-0.225033</td>\n",
       "      <td>-0.425873</td>\n",
       "      <td>-0.041315</td>\n",
       "      <td>...</td>\n",
       "      <td>-0.419941</td>\n",
       "      <td>-0.519288</td>\n",
       "      <td>1.024811</td>\n",
       "      <td>0.984974</td>\n",
       "      <td>0.511771</td>\n",
       "      <td>-0.719244</td>\n",
       "      <td>0.000935</td>\n",
       "      <td>-0.040675</td>\n",
       "      <td>6</td>\n",
       "      <td>240</td>\n",
       "    </tr>\n",
       "    <tr>\n",
       "      <th>...</th>\n",
       "      <td>...</td>\n",
       "      <td>...</td>\n",
       "      <td>...</td>\n",
       "      <td>...</td>\n",
       "      <td>...</td>\n",
       "      <td>...</td>\n",
       "      <td>...</td>\n",
       "      <td>...</td>\n",
       "      <td>...</td>\n",
       "      <td>...</td>\n",
       "      <td>...</td>\n",
       "      <td>...</td>\n",
       "      <td>...</td>\n",
       "      <td>...</td>\n",
       "      <td>...</td>\n",
       "      <td>...</td>\n",
       "      <td>...</td>\n",
       "      <td>...</td>\n",
       "      <td>...</td>\n",
       "      <td>...</td>\n",
       "      <td>...</td>\n",
       "    </tr>\n",
       "    <tr>\n",
       "      <th>2539734</th>\n",
       "      <td>-0.041043</td>\n",
       "      <td>113</td>\n",
       "      <td>4</td>\n",
       "      <td>5</td>\n",
       "      <td>-0.357758</td>\n",
       "      <td>-0.285839</td>\n",
       "      <td>-0.071266</td>\n",
       "      <td>-0.214791</td>\n",
       "      <td>-0.425873</td>\n",
       "      <td>-0.041315</td>\n",
       "      <td>...</td>\n",
       "      <td>-0.419941</td>\n",
       "      <td>-0.341649</td>\n",
       "      <td>-0.853666</td>\n",
       "      <td>-0.831158</td>\n",
       "      <td>-0.704894</td>\n",
       "      <td>-0.475500</td>\n",
       "      <td>-0.645847</td>\n",
       "      <td>-0.040675</td>\n",
       "      <td>6</td>\n",
       "      <td>626</td>\n",
       "    </tr>\n",
       "    <tr>\n",
       "      <th>2539735</th>\n",
       "      <td>-0.021098</td>\n",
       "      <td>113</td>\n",
       "      <td>3</td>\n",
       "      <td>2</td>\n",
       "      <td>-0.331542</td>\n",
       "      <td>-0.302299</td>\n",
       "      <td>-0.068855</td>\n",
       "      <td>-0.223990</td>\n",
       "      <td>-0.425873</td>\n",
       "      <td>-0.041315</td>\n",
       "      <td>...</td>\n",
       "      <td>-0.257991</td>\n",
       "      <td>-0.430468</td>\n",
       "      <td>4.781765</td>\n",
       "      <td>4.617237</td>\n",
       "      <td>-0.704894</td>\n",
       "      <td>-0.597372</td>\n",
       "      <td>-0.645847</td>\n",
       "      <td>-0.040675</td>\n",
       "      <td>6</td>\n",
       "      <td>196</td>\n",
       "    </tr>\n",
       "    <tr>\n",
       "      <th>2539736</th>\n",
       "      <td>0.407611</td>\n",
       "      <td>113</td>\n",
       "      <td>3</td>\n",
       "      <td>2</td>\n",
       "      <td>-0.016943</td>\n",
       "      <td>-0.104781</td>\n",
       "      <td>-0.044994</td>\n",
       "      <td>-0.213177</td>\n",
       "      <td>-0.425873</td>\n",
       "      <td>-0.041315</td>\n",
       "      <td>...</td>\n",
       "      <td>-0.257991</td>\n",
       "      <td>-0.430468</td>\n",
       "      <td>4.781765</td>\n",
       "      <td>4.617237</td>\n",
       "      <td>-0.704894</td>\n",
       "      <td>-0.597372</td>\n",
       "      <td>-0.645847</td>\n",
       "      <td>-0.040675</td>\n",
       "      <td>6</td>\n",
       "      <td>31</td>\n",
       "    </tr>\n",
       "    <tr>\n",
       "      <th>2539737</th>\n",
       "      <td>0.110735</td>\n",
       "      <td>113</td>\n",
       "      <td>5</td>\n",
       "      <td>2</td>\n",
       "      <td>0.323872</td>\n",
       "      <td>0.602988</td>\n",
       "      <td>-0.014928</td>\n",
       "      <td>0.804579</td>\n",
       "      <td>-0.425873</td>\n",
       "      <td>-0.041315</td>\n",
       "      <td>...</td>\n",
       "      <td>-0.257991</td>\n",
       "      <td>-0.430468</td>\n",
       "      <td>-0.853666</td>\n",
       "      <td>-0.831158</td>\n",
       "      <td>2.945100</td>\n",
       "      <td>-0.353628</td>\n",
       "      <td>-0.738245</td>\n",
       "      <td>-0.040675</td>\n",
       "      <td>6</td>\n",
       "      <td>225</td>\n",
       "    </tr>\n",
       "    <tr>\n",
       "      <th>2539738</th>\n",
       "      <td>0.020403</td>\n",
       "      <td>113</td>\n",
       "      <td>7</td>\n",
       "      <td>2</td>\n",
       "      <td>-0.279109</td>\n",
       "      <td>-0.252919</td>\n",
       "      <td>-0.066763</td>\n",
       "      <td>-0.221942</td>\n",
       "      <td>-0.010472</td>\n",
       "      <td>5.162652</td>\n",
       "      <td>...</td>\n",
       "      <td>-0.257991</td>\n",
       "      <td>-0.430468</td>\n",
       "      <td>-0.853666</td>\n",
       "      <td>-0.831158</td>\n",
       "      <td>-0.704894</td>\n",
       "      <td>-0.353628</td>\n",
       "      <td>-0.738245</td>\n",
       "      <td>-0.040675</td>\n",
       "      <td>3</td>\n",
       "      <td>118</td>\n",
       "    </tr>\n",
       "  </tbody>\n",
       "</table>\n",
       "<p>2518206 rows × 43 columns</p>\n",
       "</div>"
      ],
      "text/plain": [
       "              dur  proto  service  state     spkts     dpkts    sbytes  \\\n",
       "0       -0.047237    119        2      2 -0.410191 -0.335218 -0.074599   \n",
       "1       -0.044718    119        0      2 -0.383975 -0.318758 -0.067579   \n",
       "2       -0.047232    119        2      2 -0.410191 -0.335218 -0.074351   \n",
       "3       -0.047226    119        2      2 -0.410191 -0.335218 -0.074599   \n",
       "4       -0.047229    119        2      2 -0.410191 -0.335218 -0.074351   \n",
       "...           ...    ...      ...    ...       ...       ...       ...   \n",
       "2539734 -0.041043    113        4      5 -0.357758 -0.285839 -0.071266   \n",
       "2539735 -0.021098    113        3      2 -0.331542 -0.302299 -0.068855   \n",
       "2539736  0.407611    113        3      2 -0.016943 -0.104781 -0.044994   \n",
       "2539737  0.110735    113        5      2  0.323872  0.602988 -0.014928   \n",
       "2539738  0.020403    113        7      2 -0.279109 -0.252919 -0.066763   \n",
       "\n",
       "           dbytes      sttl      dttl  ...  ct_dst_sport_ltm  ct_dst_src_ltm  \\\n",
       "0       -0.225120 -0.425873 -0.041315  ...         -0.419941       -0.519288   \n",
       "1       -0.224251 -0.425873 -0.041315  ...         -0.419941       -0.430468   \n",
       "2       -0.225033 -0.425873 -0.041315  ...         -0.419941       -0.519288   \n",
       "3       -0.225120 -0.425873 -0.041315  ...         -0.419941       -0.519288   \n",
       "4       -0.225033 -0.425873 -0.041315  ...         -0.419941       -0.519288   \n",
       "...           ...       ...       ...  ...               ...             ...   \n",
       "2539734 -0.214791 -0.425873 -0.041315  ...         -0.419941       -0.341649   \n",
       "2539735 -0.223990 -0.425873 -0.041315  ...         -0.257991       -0.430468   \n",
       "2539736 -0.213177 -0.425873 -0.041315  ...         -0.257991       -0.430468   \n",
       "2539737  0.804579 -0.425873 -0.041315  ...         -0.257991       -0.430468   \n",
       "2539738 -0.221942 -0.010472  5.162652  ...         -0.257991       -0.430468   \n",
       "\n",
       "         is_ftp_login  ct_ftp_cmd  ct_flw_http_mthd  ct_src_ltm  ct_srv_dst  \\\n",
       "0            1.024811    0.984974          0.511771   -0.475500   -0.183860   \n",
       "1            1.024811    0.984974          0.511771   -0.475500   -0.461052   \n",
       "2            1.024811    0.984974          0.511771   -0.597372   -0.091463   \n",
       "3            1.024811    0.984974          0.511771   -0.719244    0.000935   \n",
       "4            1.024811    0.984974          0.511771   -0.719244    0.000935   \n",
       "...               ...         ...               ...         ...         ...   \n",
       "2539734     -0.853666   -0.831158         -0.704894   -0.475500   -0.645847   \n",
       "2539735      4.781765    4.617237         -0.704894   -0.597372   -0.645847   \n",
       "2539736      4.781765    4.617237         -0.704894   -0.597372   -0.645847   \n",
       "2539737     -0.853666   -0.831158          2.945100   -0.353628   -0.738245   \n",
       "2539738     -0.853666   -0.831158         -0.704894   -0.353628   -0.738245   \n",
       "\n",
       "         is_sm_ips_ports  attack_cat  klabel  \n",
       "0              -0.040675           6     240  \n",
       "1              -0.040675           6     416  \n",
       "2              -0.040675           6     520  \n",
       "3              -0.040675           6     240  \n",
       "4              -0.040675           6     240  \n",
       "...                  ...         ...     ...  \n",
       "2539734        -0.040675           6     626  \n",
       "2539735        -0.040675           6     196  \n",
       "2539736        -0.040675           6      31  \n",
       "2539737        -0.040675           6     225  \n",
       "2539738        -0.040675           3     118  \n",
       "\n",
       "[2518206 rows x 43 columns]"
      ]
     },
     "execution_count": 19,
     "metadata": {},
     "output_type": "execute_result"
    }
   ],
   "source": [
    "df_major"
   ]
  },
  {
   "cell_type": "code",
   "execution_count": 20,
   "metadata": {
    "collapsed": false
   },
   "outputs": [],
   "source": [
    "def typicalSampling(group):\n",
    "    name = group.name\n",
    "    frac = 0.024\n",
    "    return group.sample(frac=frac)\n",
    "\n",
    "result = df_major.groupby(\n",
    "    'klabel', group_keys=False\n",
    ").apply(typicalSampling)"
   ]
  },
  {
   "cell_type": "code",
   "execution_count": 21,
   "metadata": {
    "collapsed": false
   },
   "outputs": [
    {
     "data": {
      "text/plain": [
       "6    53233\n",
       "5     5178\n",
       "3     1065\n",
       "4      584\n",
       "7      352\n",
       "8       35\n",
       "Name: attack_cat, dtype: int64"
      ]
     },
     "execution_count": 21,
     "metadata": {},
     "output_type": "execute_result"
    }
   ],
   "source": [
    "result['attack_cat'].value_counts()"
   ]
  },
  {
   "cell_type": "code",
   "execution_count": 22,
   "metadata": {
    "collapsed": false,
    "scrolled": true
   },
   "outputs": [
    {
     "data": {
      "text/html": [
       "<div>\n",
       "<style scoped>\n",
       "    .dataframe tbody tr th:only-of-type {\n",
       "        vertical-align: middle;\n",
       "    }\n",
       "\n",
       "    .dataframe tbody tr th {\n",
       "        vertical-align: top;\n",
       "    }\n",
       "\n",
       "    .dataframe thead th {\n",
       "        text-align: right;\n",
       "    }\n",
       "</style>\n",
       "<table border=\"1\" class=\"dataframe\">\n",
       "  <thead>\n",
       "    <tr style=\"text-align: right;\">\n",
       "      <th></th>\n",
       "      <th>dur</th>\n",
       "      <th>proto</th>\n",
       "      <th>service</th>\n",
       "      <th>state</th>\n",
       "      <th>spkts</th>\n",
       "      <th>dpkts</th>\n",
       "      <th>sbytes</th>\n",
       "      <th>dbytes</th>\n",
       "      <th>sttl</th>\n",
       "      <th>dttl</th>\n",
       "      <th>...</th>\n",
       "      <th>ct_dst_sport_ltm</th>\n",
       "      <th>ct_dst_src_ltm</th>\n",
       "      <th>is_ftp_login</th>\n",
       "      <th>ct_ftp_cmd</th>\n",
       "      <th>ct_flw_http_mthd</th>\n",
       "      <th>ct_src_ltm</th>\n",
       "      <th>ct_srv_dst</th>\n",
       "      <th>is_sm_ips_ports</th>\n",
       "      <th>attack_cat</th>\n",
       "      <th>klabel</th>\n",
       "    </tr>\n",
       "  </thead>\n",
       "  <tbody>\n",
       "    <tr>\n",
       "      <th>782914</th>\n",
       "      <td>-0.047235</td>\n",
       "      <td>119</td>\n",
       "      <td>2</td>\n",
       "      <td>2</td>\n",
       "      <td>-0.410191</td>\n",
       "      <td>-0.335218</td>\n",
       "      <td>-0.074351</td>\n",
       "      <td>-0.225033</td>\n",
       "      <td>-0.425873</td>\n",
       "      <td>-0.041315</td>\n",
       "      <td>...</td>\n",
       "      <td>-0.419941</td>\n",
       "      <td>-0.519288</td>\n",
       "      <td>1.024811</td>\n",
       "      <td>0.984974</td>\n",
       "      <td>0.511771</td>\n",
       "      <td>-0.597372</td>\n",
       "      <td>-0.738245</td>\n",
       "      <td>-0.040675</td>\n",
       "      <td>6</td>\n",
       "      <td>0</td>\n",
       "    </tr>\n",
       "    <tr>\n",
       "      <th>526760</th>\n",
       "      <td>-0.047237</td>\n",
       "      <td>119</td>\n",
       "      <td>2</td>\n",
       "      <td>2</td>\n",
       "      <td>-0.410191</td>\n",
       "      <td>-0.335218</td>\n",
       "      <td>-0.074351</td>\n",
       "      <td>-0.225033</td>\n",
       "      <td>-0.425873</td>\n",
       "      <td>-0.041315</td>\n",
       "      <td>...</td>\n",
       "      <td>-0.419941</td>\n",
       "      <td>-0.430468</td>\n",
       "      <td>1.024811</td>\n",
       "      <td>0.984974</td>\n",
       "      <td>0.511771</td>\n",
       "      <td>-0.475500</td>\n",
       "      <td>-0.738245</td>\n",
       "      <td>-0.040675</td>\n",
       "      <td>6</td>\n",
       "      <td>0</td>\n",
       "    </tr>\n",
       "    <tr>\n",
       "      <th>57391</th>\n",
       "      <td>-0.047244</td>\n",
       "      <td>119</td>\n",
       "      <td>2</td>\n",
       "      <td>2</td>\n",
       "      <td>-0.410191</td>\n",
       "      <td>-0.335218</td>\n",
       "      <td>-0.074634</td>\n",
       "      <td>-0.225132</td>\n",
       "      <td>-0.425873</td>\n",
       "      <td>-0.041315</td>\n",
       "      <td>...</td>\n",
       "      <td>-0.419941</td>\n",
       "      <td>-0.519288</td>\n",
       "      <td>1.024811</td>\n",
       "      <td>0.984974</td>\n",
       "      <td>0.511771</td>\n",
       "      <td>-0.597372</td>\n",
       "      <td>-0.645847</td>\n",
       "      <td>-0.040675</td>\n",
       "      <td>6</td>\n",
       "      <td>0</td>\n",
       "    </tr>\n",
       "    <tr>\n",
       "      <th>78075</th>\n",
       "      <td>-0.047243</td>\n",
       "      <td>119</td>\n",
       "      <td>2</td>\n",
       "      <td>2</td>\n",
       "      <td>-0.410191</td>\n",
       "      <td>-0.335218</td>\n",
       "      <td>-0.074351</td>\n",
       "      <td>-0.225033</td>\n",
       "      <td>-0.425873</td>\n",
       "      <td>-0.041315</td>\n",
       "      <td>...</td>\n",
       "      <td>-0.419941</td>\n",
       "      <td>-0.519288</td>\n",
       "      <td>1.024811</td>\n",
       "      <td>0.984974</td>\n",
       "      <td>0.511771</td>\n",
       "      <td>-0.597372</td>\n",
       "      <td>-0.645847</td>\n",
       "      <td>-0.040675</td>\n",
       "      <td>6</td>\n",
       "      <td>0</td>\n",
       "    </tr>\n",
       "    <tr>\n",
       "      <th>388081</th>\n",
       "      <td>-0.047235</td>\n",
       "      <td>119</td>\n",
       "      <td>2</td>\n",
       "      <td>2</td>\n",
       "      <td>-0.410191</td>\n",
       "      <td>-0.335218</td>\n",
       "      <td>-0.074351</td>\n",
       "      <td>-0.225033</td>\n",
       "      <td>-0.425873</td>\n",
       "      <td>-0.041315</td>\n",
       "      <td>...</td>\n",
       "      <td>-0.419941</td>\n",
       "      <td>-0.519288</td>\n",
       "      <td>1.024811</td>\n",
       "      <td>0.984974</td>\n",
       "      <td>0.511771</td>\n",
       "      <td>-0.597372</td>\n",
       "      <td>-0.645847</td>\n",
       "      <td>-0.040675</td>\n",
       "      <td>6</td>\n",
       "      <td>0</td>\n",
       "    </tr>\n",
       "    <tr>\n",
       "      <th>...</th>\n",
       "      <td>...</td>\n",
       "      <td>...</td>\n",
       "      <td>...</td>\n",
       "      <td>...</td>\n",
       "      <td>...</td>\n",
       "      <td>...</td>\n",
       "      <td>...</td>\n",
       "      <td>...</td>\n",
       "      <td>...</td>\n",
       "      <td>...</td>\n",
       "      <td>...</td>\n",
       "      <td>...</td>\n",
       "      <td>...</td>\n",
       "      <td>...</td>\n",
       "      <td>...</td>\n",
       "      <td>...</td>\n",
       "      <td>...</td>\n",
       "      <td>...</td>\n",
       "      <td>...</td>\n",
       "      <td>...</td>\n",
       "      <td>...</td>\n",
       "    </tr>\n",
       "    <tr>\n",
       "      <th>397994</th>\n",
       "      <td>-0.047235</td>\n",
       "      <td>119</td>\n",
       "      <td>2</td>\n",
       "      <td>2</td>\n",
       "      <td>-0.410191</td>\n",
       "      <td>-0.335218</td>\n",
       "      <td>-0.074351</td>\n",
       "      <td>-0.225033</td>\n",
       "      <td>-0.425873</td>\n",
       "      <td>-0.041315</td>\n",
       "      <td>...</td>\n",
       "      <td>-0.419941</td>\n",
       "      <td>-0.519288</td>\n",
       "      <td>1.024811</td>\n",
       "      <td>0.984974</td>\n",
       "      <td>0.511771</td>\n",
       "      <td>-0.719244</td>\n",
       "      <td>-0.645847</td>\n",
       "      <td>-0.040675</td>\n",
       "      <td>6</td>\n",
       "      <td>999</td>\n",
       "    </tr>\n",
       "    <tr>\n",
       "      <th>719605</th>\n",
       "      <td>-0.047235</td>\n",
       "      <td>119</td>\n",
       "      <td>2</td>\n",
       "      <td>2</td>\n",
       "      <td>-0.410191</td>\n",
       "      <td>-0.335218</td>\n",
       "      <td>-0.074351</td>\n",
       "      <td>-0.225033</td>\n",
       "      <td>-0.425873</td>\n",
       "      <td>-0.041315</td>\n",
       "      <td>...</td>\n",
       "      <td>-0.419941</td>\n",
       "      <td>-0.519288</td>\n",
       "      <td>1.024811</td>\n",
       "      <td>0.984974</td>\n",
       "      <td>0.511771</td>\n",
       "      <td>-0.719244</td>\n",
       "      <td>-0.645847</td>\n",
       "      <td>-0.040675</td>\n",
       "      <td>6</td>\n",
       "      <td>999</td>\n",
       "    </tr>\n",
       "    <tr>\n",
       "      <th>50852</th>\n",
       "      <td>-0.047235</td>\n",
       "      <td>119</td>\n",
       "      <td>2</td>\n",
       "      <td>2</td>\n",
       "      <td>-0.410191</td>\n",
       "      <td>-0.335218</td>\n",
       "      <td>-0.074351</td>\n",
       "      <td>-0.225033</td>\n",
       "      <td>-0.425873</td>\n",
       "      <td>-0.041315</td>\n",
       "      <td>...</td>\n",
       "      <td>-0.419941</td>\n",
       "      <td>-0.519288</td>\n",
       "      <td>1.024811</td>\n",
       "      <td>0.984974</td>\n",
       "      <td>0.511771</td>\n",
       "      <td>-0.719244</td>\n",
       "      <td>-0.645847</td>\n",
       "      <td>-0.040675</td>\n",
       "      <td>6</td>\n",
       "      <td>999</td>\n",
       "    </tr>\n",
       "    <tr>\n",
       "      <th>899074</th>\n",
       "      <td>-0.047235</td>\n",
       "      <td>119</td>\n",
       "      <td>2</td>\n",
       "      <td>2</td>\n",
       "      <td>-0.410191</td>\n",
       "      <td>-0.335218</td>\n",
       "      <td>-0.074351</td>\n",
       "      <td>-0.225033</td>\n",
       "      <td>-0.425873</td>\n",
       "      <td>-0.041315</td>\n",
       "      <td>...</td>\n",
       "      <td>-0.419941</td>\n",
       "      <td>-0.519288</td>\n",
       "      <td>1.024811</td>\n",
       "      <td>0.984974</td>\n",
       "      <td>0.511771</td>\n",
       "      <td>-0.719244</td>\n",
       "      <td>-0.645847</td>\n",
       "      <td>-0.040675</td>\n",
       "      <td>6</td>\n",
       "      <td>999</td>\n",
       "    </tr>\n",
       "    <tr>\n",
       "      <th>367794</th>\n",
       "      <td>-0.047232</td>\n",
       "      <td>119</td>\n",
       "      <td>2</td>\n",
       "      <td>2</td>\n",
       "      <td>-0.410191</td>\n",
       "      <td>-0.335218</td>\n",
       "      <td>-0.074351</td>\n",
       "      <td>-0.225033</td>\n",
       "      <td>-0.425873</td>\n",
       "      <td>-0.041315</td>\n",
       "      <td>...</td>\n",
       "      <td>-0.419941</td>\n",
       "      <td>-0.519288</td>\n",
       "      <td>1.024811</td>\n",
       "      <td>0.984974</td>\n",
       "      <td>0.511771</td>\n",
       "      <td>-0.719244</td>\n",
       "      <td>-0.645847</td>\n",
       "      <td>-0.040675</td>\n",
       "      <td>6</td>\n",
       "      <td>999</td>\n",
       "    </tr>\n",
       "  </tbody>\n",
       "</table>\n",
       "<p>60447 rows × 43 columns</p>\n",
       "</div>"
      ],
      "text/plain": [
       "             dur  proto  service  state     spkts     dpkts    sbytes  \\\n",
       "782914 -0.047235    119        2      2 -0.410191 -0.335218 -0.074351   \n",
       "526760 -0.047237    119        2      2 -0.410191 -0.335218 -0.074351   \n",
       "57391  -0.047244    119        2      2 -0.410191 -0.335218 -0.074634   \n",
       "78075  -0.047243    119        2      2 -0.410191 -0.335218 -0.074351   \n",
       "388081 -0.047235    119        2      2 -0.410191 -0.335218 -0.074351   \n",
       "...          ...    ...      ...    ...       ...       ...       ...   \n",
       "397994 -0.047235    119        2      2 -0.410191 -0.335218 -0.074351   \n",
       "719605 -0.047235    119        2      2 -0.410191 -0.335218 -0.074351   \n",
       "50852  -0.047235    119        2      2 -0.410191 -0.335218 -0.074351   \n",
       "899074 -0.047235    119        2      2 -0.410191 -0.335218 -0.074351   \n",
       "367794 -0.047232    119        2      2 -0.410191 -0.335218 -0.074351   \n",
       "\n",
       "          dbytes      sttl      dttl  ...  ct_dst_sport_ltm  ct_dst_src_ltm  \\\n",
       "782914 -0.225033 -0.425873 -0.041315  ...         -0.419941       -0.519288   \n",
       "526760 -0.225033 -0.425873 -0.041315  ...         -0.419941       -0.430468   \n",
       "57391  -0.225132 -0.425873 -0.041315  ...         -0.419941       -0.519288   \n",
       "78075  -0.225033 -0.425873 -0.041315  ...         -0.419941       -0.519288   \n",
       "388081 -0.225033 -0.425873 -0.041315  ...         -0.419941       -0.519288   \n",
       "...          ...       ...       ...  ...               ...             ...   \n",
       "397994 -0.225033 -0.425873 -0.041315  ...         -0.419941       -0.519288   \n",
       "719605 -0.225033 -0.425873 -0.041315  ...         -0.419941       -0.519288   \n",
       "50852  -0.225033 -0.425873 -0.041315  ...         -0.419941       -0.519288   \n",
       "899074 -0.225033 -0.425873 -0.041315  ...         -0.419941       -0.519288   \n",
       "367794 -0.225033 -0.425873 -0.041315  ...         -0.419941       -0.519288   \n",
       "\n",
       "        is_ftp_login  ct_ftp_cmd  ct_flw_http_mthd  ct_src_ltm  ct_srv_dst  \\\n",
       "782914      1.024811    0.984974          0.511771   -0.597372   -0.738245   \n",
       "526760      1.024811    0.984974          0.511771   -0.475500   -0.738245   \n",
       "57391       1.024811    0.984974          0.511771   -0.597372   -0.645847   \n",
       "78075       1.024811    0.984974          0.511771   -0.597372   -0.645847   \n",
       "388081      1.024811    0.984974          0.511771   -0.597372   -0.645847   \n",
       "...              ...         ...               ...         ...         ...   \n",
       "397994      1.024811    0.984974          0.511771   -0.719244   -0.645847   \n",
       "719605      1.024811    0.984974          0.511771   -0.719244   -0.645847   \n",
       "50852       1.024811    0.984974          0.511771   -0.719244   -0.645847   \n",
       "899074      1.024811    0.984974          0.511771   -0.719244   -0.645847   \n",
       "367794      1.024811    0.984974          0.511771   -0.719244   -0.645847   \n",
       "\n",
       "        is_sm_ips_ports  attack_cat  klabel  \n",
       "782914        -0.040675           6       0  \n",
       "526760        -0.040675           6       0  \n",
       "57391         -0.040675           6       0  \n",
       "78075         -0.040675           6       0  \n",
       "388081        -0.040675           6       0  \n",
       "...                 ...         ...     ...  \n",
       "397994        -0.040675           6     999  \n",
       "719605        -0.040675           6     999  \n",
       "50852         -0.040675           6     999  \n",
       "899074        -0.040675           6     999  \n",
       "367794        -0.040675           6     999  \n",
       "\n",
       "[60447 rows x 43 columns]"
      ]
     },
     "execution_count": 22,
     "metadata": {},
     "output_type": "execute_result"
    }
   ],
   "source": [
    "result"
   ]
  },
  {
   "cell_type": "code",
   "execution_count": 23,
   "metadata": {
    "collapsed": false
   },
   "outputs": [],
   "source": [
    "result = result.drop(['klabel'],axis=1)\n",
    "result = result.append(df_minor)"
   ]
  },
  {
   "cell_type": "code",
   "execution_count": 24,
   "metadata": {
    "collapsed": false
   },
   "outputs": [],
   "source": [
    "result.to_csv('./data/UNSW-NB15_sample_km.csv',index=0)"
   ]
  },
  {
   "cell_type": "markdown",
   "metadata": {},
   "source": [
    "### split train set and test set"
   ]
  },
  {
   "cell_type": "code",
   "execution_count": 25,
   "metadata": {
    "collapsed": false
   },
   "outputs": [],
   "source": [
    "df=pd.read_csv('./data/UNSW-NB15_sample_km.csv')"
   ]
  },
  {
   "cell_type": "code",
   "execution_count": 26,
   "metadata": {
    "collapsed": false
   },
   "outputs": [],
   "source": [
    "X = df.drop(['attack_cat'],axis=1).values\n",
    "y = df.iloc[:, -1].values.reshape(-1,1)\n",
    "y=np.ravel(y)"
   ]
  },
  {
   "cell_type": "code",
   "execution_count": 27,
   "metadata": {
    "collapsed": true
   },
   "outputs": [],
   "source": [
    "X_train, X_test, y_train, y_test = train_test_split(X,y, train_size = 0.8, test_size = 0.2, random_state = 0,stratify = y)"
   ]
  },
  {
   "cell_type": "markdown",
   "metadata": {},
   "source": [
    "## Feature engineering"
   ]
  },
  {
   "cell_type": "code",
   "execution_count": 28,
   "metadata": {},
   "outputs": [],
   "source": [
    "# Prepare the result output\n",
    "output_df = pd.DataFrame(columns=['Accuracy', 'Precision', 'Recall', 'F1-Score', 'Train_time', 'Predict_time_per_record', 'HPO_time'])\n",
    "output_index = list()"
   ]
  },
  {
   "cell_type": "markdown",
   "metadata": {},
   "source": [
    "### Feature selection by information gain"
   ]
  },
  {
   "cell_type": "code",
   "execution_count": 29,
   "metadata": {
    "collapsed": true
   },
   "outputs": [],
   "source": [
    "from sklearn.feature_selection import mutual_info_classif\n",
    "importances = mutual_info_classif(X_train, y_train)"
   ]
  },
  {
   "cell_type": "code",
   "execution_count": 30,
   "metadata": {
    "collapsed": false
   },
   "outputs": [],
   "source": [
    "# calculate the sum of importance scores\n",
    "f_list = sorted(zip(map(lambda x: round(x, 4), importances), features), reverse=True)\n",
    "Sum = 0\n",
    "fs = []\n",
    "for i in range(0, len(f_list)):\n",
    "    Sum = Sum + f_list[i][0]\n",
    "    fs.append(f_list[i][1])"
   ]
  },
  {
   "cell_type": "code",
   "execution_count": 31,
   "metadata": {
    "collapsed": false
   },
   "outputs": [],
   "source": [
    "# select the important features from top to bottom until the accumulated importance reaches 90%\n",
    "f_list2 = sorted(zip(map(lambda x: round(x, 4), importances/Sum), features), reverse=True)\n",
    "Sum2 = 0\n",
    "fs = []\n",
    "for i in range(0, len(f_list2)):\n",
    "    Sum2 = Sum2 + f_list2[i][0]\n",
    "    fs.append(f_list2[i][1])\n",
    "    if Sum2>=0.9:\n",
    "        break        "
   ]
  },
  {
   "cell_type": "code",
   "execution_count": 32,
   "metadata": {
    "collapsed": true
   },
   "outputs": [],
   "source": [
    "X_fs = df[fs].values"
   ]
  },
  {
   "cell_type": "code",
   "execution_count": 33,
   "metadata": {
    "collapsed": false
   },
   "outputs": [
    {
     "data": {
      "text/plain": [
       "(81980, 28)"
      ]
     },
     "execution_count": 33,
     "metadata": {},
     "output_type": "execute_result"
    }
   ],
   "source": [
    "X_fs.shape"
   ]
  },
  {
   "cell_type": "markdown",
   "metadata": {},
   "source": [
    "### Feature selection by Fast Correlation Based Filter (FCBF)\n",
    "\n",
    "The module is imported from the GitHub repo: https://github.com/SantiagoEG/FCBF_module"
   ]
  },
  {
   "cell_type": "code",
   "execution_count": 34,
   "metadata": {
    "collapsed": true
   },
   "outputs": [],
   "source": [
    "from FCBF_module import FCBF, FCBFK, FCBFiP, get_i\n",
    "fcbf = FCBFK(k = 20)\n",
    "#fcbf.fit(X_fs, y)"
   ]
  },
  {
   "cell_type": "code",
   "execution_count": 35,
   "metadata": {
    "collapsed": false
   },
   "outputs": [],
   "source": [
    "t1 = time.time()\n",
    "X_fss = fcbf.fit_transform(X_fs,y)\n",
    "t2 = time.time()"
   ]
  },
  {
   "cell_type": "code",
   "execution_count": 36,
   "metadata": {},
   "outputs": [],
   "source": [
    "# Add to output sheet\n",
    "result_dict = {\n",
    "    'Accuracy': np.NaN,\n",
    "    'Precision': np.NaN,\n",
    "    'Recall': np.NaN,\n",
    "    'F1-Score': np.NaN,\n",
    "    'Train_time': t2-t1,\n",
    "    'Predict_time_per_record': np.NaN,\n",
    "    'HPO_time': np.NaN\n",
    "}\n",
    "output_df = output_df.append(result_dict, ignore_index=True)\n",
    "# Add index name\n",
    "output_index.append('FCBF')"
   ]
  },
  {
   "cell_type": "code",
   "execution_count": 37,
   "metadata": {
    "collapsed": false
   },
   "outputs": [
    {
     "data": {
      "text/plain": [
       "(81980, 20)"
      ]
     },
     "execution_count": 37,
     "metadata": {},
     "output_type": "execute_result"
    }
   ],
   "source": [
    "X_fss.shape"
   ]
  },
  {
   "cell_type": "markdown",
   "metadata": {},
   "source": [
    "### Re-split train & test sets after feature selection"
   ]
  },
  {
   "cell_type": "code",
   "execution_count": 38,
   "metadata": {
    "collapsed": true
   },
   "outputs": [],
   "source": [
    "X_train, X_test, y_train, y_test = train_test_split(X_fss,y, train_size = 0.8, test_size = 0.2, random_state = 0,stratify = y)"
   ]
  },
  {
   "cell_type": "code",
   "execution_count": 39,
   "metadata": {
    "collapsed": false
   },
   "outputs": [
    {
     "data": {
      "text/plain": [
       "(65584, 20)"
      ]
     },
     "execution_count": 39,
     "metadata": {},
     "output_type": "execute_result"
    }
   ],
   "source": [
    "X_train.shape"
   ]
  },
  {
   "cell_type": "code",
   "execution_count": 40,
   "metadata": {
    "collapsed": false
   },
   "outputs": [
    {
     "data": {
      "text/plain": [
       "6    42587\n",
       "2    13082\n",
       "5     4142\n",
       "0     2142\n",
       "1     1863\n",
       "3      852\n",
       "4      467\n",
       "7      282\n",
       "9      139\n",
       "8       28\n",
       "dtype: int64"
      ]
     },
     "execution_count": 40,
     "metadata": {},
     "output_type": "execute_result"
    }
   ],
   "source": [
    "pd.Series(y_train).value_counts()"
   ]
  },
  {
   "cell_type": "markdown",
   "metadata": {},
   "source": [
    "### SMOTE to solve class-imbalance"
   ]
  },
  {
   "cell_type": "code",
   "execution_count": 41,
   "metadata": {},
   "outputs": [],
   "source": [
    "sampling_strategy = dict()\n",
    "smote_threshold = 1000\n",
    "for key, value in df['attack_cat'].value_counts().to_dict().items():\n",
    "    if value < smote_threshold: sampling_strategy[key]=smote_threshold"
   ]
  },
  {
   "cell_type": "code",
   "execution_count": 42,
   "metadata": {
    "collapsed": false
   },
   "outputs": [],
   "source": [
    "from imblearn.over_sampling import SMOTE\n",
    "smote=SMOTE(n_jobs=-1,sampling_strategy=sampling_strategy)"
   ]
  },
  {
   "cell_type": "code",
   "execution_count": 44,
   "metadata": {
    "collapsed": true
   },
   "outputs": [],
   "source": [
    "X_train, y_train = smote.fit_resample(X_train, y_train)"
   ]
  },
  {
   "cell_type": "code",
   "execution_count": 45,
   "metadata": {
    "collapsed": false
   },
   "outputs": [
    {
     "data": {
      "text/plain": [
       "6    42587\n",
       "2    13082\n",
       "5     4142\n",
       "0     2142\n",
       "1     1863\n",
       "4     1000\n",
       "7     1000\n",
       "9     1000\n",
       "8     1000\n",
       "3      852\n",
       "dtype: int64"
      ]
     },
     "execution_count": 45,
     "metadata": {},
     "output_type": "execute_result"
    }
   ],
   "source": [
    "pd.Series(y_train).value_counts()"
   ]
  },
  {
   "cell_type": "code",
   "execution_count": 46,
   "metadata": {},
   "outputs": [],
   "source": [
    "X_combined = np.concatenate((X_train, X_test), axis=0)\n",
    "y_combined = np.concatenate((y_train, y_test), axis=0)"
   ]
  },
  {
   "cell_type": "markdown",
   "metadata": {},
   "source": [
    "## Machine learning model training"
   ]
  },
  {
   "cell_type": "markdown",
   "metadata": {},
   "source": [
    "### Training four base learners: decision tree, random forest, extra trees, XGBoost"
   ]
  },
  {
   "cell_type": "code",
   "execution_count": 47,
   "metadata": {},
   "outputs": [],
   "source": [
    "# The length of the test set for prediction time measurement\n",
    "len_test = X_test.shape[0]\n",
    "# Prepare the output dir\n",
    "output_dir = 'output/MTH-IDS/output-{}'.format(datetime.datetime.now().strftime('%y%m%d-%H%M%S'))\n",
    "img_dir = os.path.join(output_dir, 'img')\n",
    "os.makedirs(img_dir)\n",
    "# Prepare the log file\n",
    "log_file = open(os.path.join(output_dir, 'classification_report-{}'.format(datetime.datetime.now().strftime('%y%m%d-%H%M%S'))), 'w+')"
   ]
  },
  {
   "cell_type": "markdown",
   "metadata": {},
   "source": [
    "#### Apply XGBoost"
   ]
  },
  {
   "cell_type": "code",
   "execution_count": 48,
   "metadata": {
    "collapsed": false
   },
   "outputs": [
    {
     "name": "stdout",
     "output_type": "stream",
     "text": [
      "[22:25:49] WARNING: C:\\Windows\\Temp\\abs_557yfx631l\\croots\\recipe\\xgboost-split_1659548953302\\work\\src\\learner.cc:1115: Starting in XGBoost 1.3.0, the default evaluation metric used with the objective 'multi:softprob' was changed from 'merror' to 'mlogloss'. Explicitly set eval_metric if you'd like to restore the old behavior.\n",
      "Accuracy of XGBoost: 0.9194925591607709\n",
      "Precision of XGBoost: 0.9279779283188772\n",
      "Recall of XGBoost: 0.9194925591607709\n",
      "F1-score of XGBoost: 0.9023944394676798\n",
      "                precision    recall  f1-score   support\n",
      "\n",
      "      Analysis       0.84      0.20      0.33       535\n",
      "      Backdoor       0.81      0.09      0.17       466\n",
      "           DoS       0.74      0.97      0.84      3271\n",
      "      Exploits       0.85      0.10      0.18       213\n",
      "       Fuzzers       0.42      0.50      0.46       117\n",
      "       Generic       1.00      0.98      0.99      1036\n",
      "        Normal       1.00      0.99      0.99     10646\n",
      "Reconnaissance       0.85      0.74      0.79        70\n",
      "     Shellcode       0.08      0.57      0.14         7\n",
      "         Worms       0.69      0.89      0.78        35\n",
      "\n",
      "      accuracy                           0.92     16396\n",
      "     macro avg       0.73      0.60      0.57     16396\n",
      "  weighted avg       0.93      0.92      0.90     16396\n",
      "\n"
     ]
    },
    {
     "data": {
      "image/png": "[encoded data removed]",
      "text/plain": [
       "<Figure size 1800x1400 with 2 Axes>"
      ]
     },
     "metadata": {},
     "output_type": "display_data"
    }
   ],
   "source": [
    "xg = xgb.XGBClassifier(n_estimators = 10)\n",
    "t1 = time.time()\n",
    "xg.fit(X_train,y_train)\n",
    "t2 = time.time()\n",
    "xg_score=xg.score(X_test,y_test)\n",
    "t3 = time.time()\n",
    "y_predict=xg.predict(X_test)\n",
    "t4 = time.time()\n",
    "y_true=y_test\n",
    "print('Accuracy of XGBoost: '+ str(xg_score))\n",
    "precision,recall,fscore,none= precision_recall_fscore_support(y_true, y_predict, average='weighted') \n",
    "print('Precision of XGBoost: '+(str(precision)))\n",
    "print('Recall of XGBoost: '+(str(recall)))\n",
    "print('F1-score of XGBoost: '+(str(fscore)))\n",
    "report_str = classification_report(y_true,y_predict,target_names=label_names); log_file.write('******{}******\\n'.format('XGBoost (Original)')+report_str+'\\n'); print(report_str)\n",
    "cm=confusion_matrix(y_true,y_predict)\n",
    "f,ax=plt.subplots(figsize=(18,14))\n",
    "sns.heatmap(cm,annot=True,linewidth=1,linecolor=\"red\",fmt=\".0f\",ax=ax)\n",
    "ax.set_xticklabels(label_names)\n",
    "ax.set_yticklabels(label_names)\n",
    "plt.xlabel(\"y_pred\")\n",
    "plt.ylabel(\"y_true\")\n",
    "plt.savefig(os.path.join(img_dir, 'XGBoost_original.pdf'))\n",
    "plt.show()"
   ]
  },
  {
   "cell_type": "code",
   "execution_count": 49,
   "metadata": {},
   "outputs": [],
   "source": [
    "# Add to output sheet\n",
    "result_dict = {\n",
    "    'Accuracy': xg_score,\n",
    "    'Precision': precision,\n",
    "    'Recall': recall,\n",
    "    'F1-Score': fscore,\n",
    "    'Train_time': t2-t1,\n",
    "    'Predict_time_per_record': (t4-t3)/len_test,\n",
    "    'HPO_time': np.NaN\n",
    "}\n",
    "output_df = output_df.append(result_dict, ignore_index=True)\n",
    "# Add index name\n",
    "output_index.append('XGBoost (Original)')"
   ]
  },
  {
   "cell_type": "markdown",
   "metadata": {},
   "source": [
    "#### Hyperparameter optimization (HPO) of XGBoost using Bayesian optimization with tree-based Parzen estimator (BO-TPE)\n",
    "Based on the GitHub repo for HPO: https://github.com/LiYangHart/Hyperparameter-Optimization-of-Machine-Learning-Algorithms"
   ]
  },
  {
   "cell_type": "code",
   "execution_count": 50,
   "metadata": {
    "collapsed": false
   },
   "outputs": [
    {
     "name": "stdout",
     "output_type": "stream",
     "text": [
      "[22:25:58] WARNING: C:\\Windows\\Temp\\abs_557yfx631l\\croots\\recipe\\xgboost-split_1659548953302\\work\\src\\learner.cc:1115: Starting in XGBoost 1.3.0, the default evaluation metric used with the objective 'multi:softprob' was changed from 'merror' to 'mlogloss'. Explicitly set eval_metric if you'd like to restore the old behavior.\n",
      "[22:26:58] WARNING: C:\\Windows\\Temp\\abs_557yfx631l\\croots\\recipe\\xgboost-split_1659548953302\\work\\src\\learner.cc:1115: Starting in XGBoost 1.3.0, the default evaluation metric used with the objective 'multi:softprob' was changed from 'merror' to 'mlogloss'. Explicitly set eval_metric if you'd like to restore the old behavior.\n",
      "[22:27:07] WARNING: C:\\Windows\\Temp\\abs_557yfx631l\\croots\\recipe\\xgboost-split_1659548953302\\work\\src\\learner.cc:1115: Starting in XGBoost 1.3.0, the default evaluation metric used with the objective 'multi:softprob' was changed from 'merror' to 'mlogloss'. Explicitly set eval_metric if you'd like to restore the old behavior.\n",
      "[22:27:35] WARNING: C:\\Windows\\Temp\\abs_557yfx631l\\croots\\recipe\\xgboost-split_1659548953302\\work\\src\\learner.cc:1115: Starting in XGBoost 1.3.0, the default evaluation metric used with the objective 'multi:softprob' was changed from 'merror' to 'mlogloss'. Explicitly set eval_metric if you'd like to restore the old behavior.\n",
      "[22:27:47] WARNING: C:\\Windows\\Temp\\abs_557yfx631l\\croots\\recipe\\xgboost-split_1659548953302\\work\\src\\learner.cc:1115: Starting in XGBoost 1.3.0, the default evaluation metric used with the objective 'multi:softprob' was changed from 'merror' to 'mlogloss'. Explicitly set eval_metric if you'd like to restore the old behavior.\n",
      "[22:28:13] WARNING: C:\\Windows\\Temp\\abs_557yfx631l\\croots\\recipe\\xgboost-split_1659548953302\\work\\src\\learner.cc:1115: Starting in XGBoost 1.3.0, the default evaluation metric used with the objective 'multi:softprob' was changed from 'merror' to 'mlogloss'. Explicitly set eval_metric if you'd like to restore the old behavior.\n",
      "[22:29:13] WARNING: C:\\Windows\\Temp\\abs_557yfx631l\\croots\\recipe\\xgboost-split_1659548953302\\work\\src\\learner.cc:1115: Starting in XGBoost 1.3.0, the default evaluation metric used with the objective 'multi:softprob' was changed from 'merror' to 'mlogloss'. Explicitly set eval_metric if you'd like to restore the old behavior.\n",
      "[22:29:23] WARNING: C:\\Windows\\Temp\\abs_557yfx631l\\croots\\recipe\\xgboost-split_1659548953302\\work\\src\\learner.cc:1115: Starting in XGBoost 1.3.0, the default evaluation metric used with the objective 'multi:softprob' was changed from 'merror' to 'mlogloss'. Explicitly set eval_metric if you'd like to restore the old behavior.\n",
      "[22:30:23] WARNING: C:\\Windows\\Temp\\abs_557yfx631l\\croots\\recipe\\xgboost-split_1659548953302\\work\\src\\learner.cc:1115: Starting in XGBoost 1.3.0, the default evaluation metric used with the objective 'multi:softprob' was changed from 'merror' to 'mlogloss'. Explicitly set eval_metric if you'd like to restore the old behavior.\n",
      "[22:31:08] WARNING: C:\\Windows\\Temp\\abs_557yfx631l\\croots\\recipe\\xgboost-split_1659548953302\\work\\src\\learner.cc:1115: Starting in XGBoost 1.3.0, the default evaluation metric used with the objective 'multi:softprob' was changed from 'merror' to 'mlogloss'. Explicitly set eval_metric if you'd like to restore the old behavior.\n",
      "[22:31:37] WARNING: C:\\Windows\\Temp\\abs_557yfx631l\\croots\\recipe\\xgboost-split_1659548953302\\work\\src\\learner.cc:1115: Starting in XGBoost 1.3.0, the default evaluation metric used with the objective 'multi:softprob' was changed from 'merror' to 'mlogloss'. Explicitly set eval_metric if you'd like to restore the old behavior.\n",
      "[22:32:23] WARNING: C:\\Windows\\Temp\\abs_557yfx631l\\croots\\recipe\\xgboost-split_1659548953302\\work\\src\\learner.cc:1115: Starting in XGBoost 1.3.0, the default evaluation metric used with the objective 'multi:softprob' was changed from 'merror' to 'mlogloss'. Explicitly set eval_metric if you'd like to restore the old behavior.\n",
      "[22:33:21] WARNING: C:\\Windows\\Temp\\abs_557yfx631l\\croots\\recipe\\xgboost-split_1659548953302\\work\\src\\learner.cc:1115: Starting in XGBoost 1.3.0, the default evaluation metric used with the objective 'multi:softprob' was changed from 'merror' to 'mlogloss'. Explicitly set eval_metric if you'd like to restore the old behavior.\n",
      "[22:34:29] WARNING: C:\\Windows\\Temp\\abs_557yfx631l\\croots\\recipe\\xgboost-split_1659548953302\\work\\src\\learner.cc:1115: Starting in XGBoost 1.3.0, the default evaluation metric used with the objective 'multi:softprob' was changed from 'merror' to 'mlogloss'. Explicitly set eval_metric if you'd like to restore the old behavior.\n",
      "[22:34:36] WARNING: C:\\Windows\\Temp\\abs_557yfx631l\\croots\\recipe\\xgboost-split_1659548953302\\work\\src\\learner.cc:1115: Starting in XGBoost 1.3.0, the default evaluation metric used with the objective 'multi:softprob' was changed from 'merror' to 'mlogloss'. Explicitly set eval_metric if you'd like to restore the old behavior.\n",
      "[22:35:31] WARNING: C:\\Windows\\Temp\\abs_557yfx631l\\croots\\recipe\\xgboost-split_1659548953302\\work\\src\\learner.cc:1115: Starting in XGBoost 1.3.0, the default evaluation metric used with the objective 'multi:softprob' was changed from 'merror' to 'mlogloss'. Explicitly set eval_metric if you'd like to restore the old behavior.\n",
      "[22:36:37] WARNING: C:\\Windows\\Temp\\abs_557yfx631l\\croots\\recipe\\xgboost-split_1659548953302\\work\\src\\learner.cc:1115: Starting in XGBoost 1.3.0, the default evaluation metric used with the objective 'multi:softprob' was changed from 'merror' to 'mlogloss'. Explicitly set eval_metric if you'd like to restore the old behavior.\n",
      "[22:38:07] WARNING: C:\\Windows\\Temp\\abs_557yfx631l\\croots\\recipe\\xgboost-split_1659548953302\\work\\src\\learner.cc:1115: Starting in XGBoost 1.3.0, the default evaluation metric used with the objective 'multi:softprob' was changed from 'merror' to 'mlogloss'. Explicitly set eval_metric if you'd like to restore the old behavior.\n",
      "[22:38:37] WARNING: C:\\Windows\\Temp\\abs_557yfx631l\\croots\\recipe\\xgboost-split_1659548953302\\work\\src\\learner.cc:1115: Starting in XGBoost 1.3.0, the default evaluation metric used with the objective 'multi:softprob' was changed from 'merror' to 'mlogloss'. Explicitly set eval_metric if you'd like to restore the old behavior.\n",
      "[22:39:25] WARNING: C:\\Windows\\Temp\\abs_557yfx631l\\croots\\recipe\\xgboost-split_1659548953302\\work\\src\\learner.cc:1115: Starting in XGBoost 1.3.0, the default evaluation metric used with the objective 'multi:softprob' was changed from 'merror' to 'mlogloss'. Explicitly set eval_metric if you'd like to restore the old behavior.\n",
      "100%|██████████| 20/20 [13:48<00:00, 41.40s/trial, best loss: -0.921566235667236]\n",
      "XGBoost: Hyperopt estimated optimum {'learning_rate': 0.090882668751222, 'max_depth': 14.0, 'n_estimators': 55.0}\n"
     ]
    }
   ],
   "source": [
    "from hyperopt import hp, fmin, tpe, STATUS_OK, Trials\n",
    "from sklearn.model_selection import cross_val_score, StratifiedKFold\n",
    "def objective(params):\n",
    "    params = {\n",
    "        'n_estimators': int(params['n_estimators']), \n",
    "        'max_depth': int(params['max_depth']),\n",
    "        'learning_rate':  abs(float(params['learning_rate'])),\n",
    "\n",
    "    }\n",
    "    clf = xgb.XGBClassifier( **params)\n",
    "    clf.fit(X_train, y_train)\n",
    "    y_pred = clf.predict(X_test)\n",
    "    score = accuracy_score(y_test, y_pred)\n",
    "\n",
    "    return {'loss':-score, 'status': STATUS_OK }\n",
    "\n",
    "space = {\n",
    "    'n_estimators': hp.quniform('n_estimators', 10, 100, 5),\n",
    "    'max_depth': hp.quniform('max_depth', 4, 100, 1),\n",
    "    'learning_rate': hp.normal('learning_rate', 0.01, 0.9),\n",
    "}\n",
    "\n",
    "t1 = time.time()\n",
    "\n",
    "best = fmin(fn=objective,\n",
    "            space=space,\n",
    "            algo=tpe.suggest,\n",
    "            max_evals=20)\n",
    "\n",
    "t2 = time.time()\n",
    "\n",
    "print(\"XGBoost: Hyperopt estimated optimum {}\".format(best))"
   ]
  },
  {
   "cell_type": "code",
   "execution_count": 51,
   "metadata": {
    "collapsed": false
   },
   "outputs": [
    {
     "name": "stdout",
     "output_type": "stream",
     "text": [
      "[22:39:46] WARNING: C:\\Windows\\Temp\\abs_557yfx631l\\croots\\recipe\\xgboost-split_1659548953302\\work\\src\\learner.cc:1115: Starting in XGBoost 1.3.0, the default evaluation metric used with the objective 'multi:softprob' was changed from 'merror' to 'mlogloss'. Explicitly set eval_metric if you'd like to restore the old behavior.\n",
      "Accuracy of XGBoost: 0.921566235667236\n",
      "Precision of XGBoost: 0.9152286123031563\n",
      "Recall of XGBoost: 0.921566235667236\n",
      "F1-score of XGBoost: 0.9077657339995622\n",
      "                precision    recall  f1-score   support\n",
      "\n",
      "      Analysis       0.66      0.23      0.34       535\n",
      "      Backdoor       0.52      0.14      0.22       466\n",
      "           DoS       0.76      0.96      0.85      3271\n",
      "      Exploits       0.73      0.22      0.34       213\n",
      "       Fuzzers       0.45      0.46      0.46       117\n",
      "       Generic       1.00      0.98      0.99      1036\n",
      "        Normal       0.99      0.99      0.99     10646\n",
      "Reconnaissance       0.83      0.76      0.79        70\n",
      "     Shellcode       0.06      0.14      0.08         7\n",
      "         Worms       0.74      0.89      0.81        35\n",
      "\n",
      "      accuracy                           0.92     16396\n",
      "     macro avg       0.67      0.58      0.59     16396\n",
      "  weighted avg       0.92      0.92      0.91     16396\n",
      "\n"
     ]
    },
    {
     "data": {
      "image/png": "[encoded data removed]",
      "text/plain": [
       "<Figure size 1800x1400 with 2 Axes>"
      ]
     },
     "metadata": {},
     "output_type": "display_data"
    }
   ],
   "source": [
    "params = {\n",
    "    'n_estimators': int(best['n_estimators']), \n",
    "    'max_depth': int(best['max_depth']),\n",
    "    'learning_rate':  abs(float(best['learning_rate'])),\n",
    "}\n",
    "xg = xgb.XGBClassifier(**params)\n",
    "t3 = time.time()\n",
    "xg.fit(X_train,y_train)\n",
    "t4 = time.time()\n",
    "xg_score=xg.score(X_test,y_test)\n",
    "t5 = time.time()\n",
    "y_predict=xg.predict(X_test)\n",
    "t6 = time.time()\n",
    "y_true=y_test\n",
    "print('Accuracy of XGBoost: '+ str(xg_score))\n",
    "precision,recall,fscore,none= precision_recall_fscore_support(y_true, y_predict, average='weighted') \n",
    "print('Precision of XGBoost: '+(str(precision)))\n",
    "print('Recall of XGBoost: '+(str(recall)))\n",
    "print('F1-score of XGBoost: '+(str(fscore)))\n",
    "report_str = classification_report(y_true,y_predict,target_names=label_names); log_file.write('******{}******\\n'.format('XGBoost (BO-TPE)')+report_str+'\\n'); print(report_str)\n",
    "cm=confusion_matrix(y_true,y_predict)\n",
    "f,ax=plt.subplots(figsize=(18,14))\n",
    "sns.heatmap(cm,annot=True,linewidth=0.5,linecolor=\"red\",fmt=\".0f\",ax=ax)\n",
    "ax.set_xticklabels(label_names)\n",
    "ax.set_yticklabels(label_names)\n",
    "plt.xlabel(\"y_pred\")\n",
    "plt.ylabel(\"y_true\")\n",
    "plt.savefig(os.path.join(img_dir, 'XGBoost_BO-TPE.pdf'))\n",
    "plt.show()"
   ]
  },
  {
   "cell_type": "code",
   "execution_count": 52,
   "metadata": {},
   "outputs": [],
   "source": [
    "# Add to output sheet\n",
    "result_dict = {\n",
    "    'Accuracy': xg_score,\n",
    "    'Precision': precision,\n",
    "    'Recall': recall,\n",
    "    'F1-Score': fscore,\n",
    "    'HPO_time': t2-t1,\n",
    "    'Train_time': t4-t3,\n",
    "    'Predict_time_per_record': (t6-t5)/len_test\n",
    "}\n",
    "output_df = output_df.append(result_dict, ignore_index=True)\n",
    "# Add index name\n",
    "output_index.append('XGBoost (BO-TPE)')"
   ]
  },
  {
   "cell_type": "code",
   "execution_count": 53,
   "metadata": {
    "collapsed": false
   },
   "outputs": [],
   "source": [
    "xg_train=xg.predict(X_train)\n",
    "xg_test=xg.predict(X_test)"
   ]
  },
  {
   "cell_type": "markdown",
   "metadata": {},
   "source": [
    "#### Hyperparameter optimization (HPO) of XGBoost using Particle Swarm Optimization (PSO)\n",
    "Based on the GitHub repo for HPO: https://github.com/LiYangHart/Hyperparameter-Optimization-of-Machine-Learning-Algorithms"
   ]
  },
  {
   "cell_type": "code",
   "execution_count": 54,
   "metadata": {},
   "outputs": [
    {
     "name": "stdout",
     "output_type": "stream",
     "text": [
      "[22:40:36] WARNING: C:\\Windows\\Temp\\abs_557yfx631l\\croots\\recipe\\xgboost-split_1659548953302\\work\\src\\learner.cc:1115: Starting in XGBoost 1.3.0, the default evaluation metric used with the objective 'multi:softprob' was changed from 'merror' to 'mlogloss'. Explicitly set eval_metric if you'd like to restore the old behavior.\n"
     ]
    }
   ],
   "source": [
    "#XGBoost\n",
    "import optunity\n",
    "import optunity.metrics\n",
    "\n",
    "data= X_combined\n",
    "labels= y_combined.tolist()\n",
    "Y_train = y_train\n",
    "Y_test = y_test\n",
    "# Define the hyperparameter configuration space\n",
    "search = {\n",
    "    'n_estimators': [10, 100],\n",
    "    'max_depth': [5,50],\n",
    "    'learning_rate': [0.01, 0.9]\n",
    "}\n",
    "# Define the objective function\n",
    "@optunity.cross_validated(x=data, y=labels, num_folds=3)\n",
    "def performance(x_train, y_train, x_test, y_test,n_estimators=None, max_depth=None,learning_rate=None):\n",
    "    # fit the model\n",
    "    params = {\n",
    "        'n_estimators': int(n_estimators), \n",
    "        'max_depth': int(max_depth),\n",
    "        'learning_rate':  abs(float(learning_rate)),\n",
    "    }\n",
    "    model = xgb.XGBClassifier( **params)\n",
    "    model.fit(X_train, Y_train)\n",
    "    predictions = model.predict(X_test)\n",
    "    # scores=np.mean(cross_val_score(model, X, y, cv=3, n_jobs=-1,\n",
    "    #                                 scoring=\"accuracy\"))\n",
    "    #return optunity.metrics.roc_auc(y_test, predictions, positive=True)\n",
    "    return optunity.metrics.accuracy(Y_test, predictions)\n",
    "\n",
    "t1 = time.time()\n",
    "\n",
    "optimal_configuration, info, _ = optunity.maximize(performance,\n",
    "                                                  solver_name='particle swarm',\n",
    "                                                  num_evals=20,\n",
    "                                                   **search\n",
    "                                                  )\n",
    "\n",
    "t2 = time.time()\n",
    "\n",
    "print(optimal_configuration)\n",
    "print(\"Accuracy:\"+ str(info.optimum))"
   ]
  },
  {
   "cell_type": "code",
   "execution_count": null,
   "metadata": {},
   "outputs": [
    {
     "name": "stdout",
     "output_type": "stream",
     "text": [
      "[00:42:58] WARNING: D:\\bld\\xgboost-split_1645118015404\\work\\src\\learner.cc:1115: Starting in XGBoost 1.3.0, the default evaluation metric used with the objective 'multi:softprob' was changed from 'merror' to 'mlogloss'. Explicitly set eval_metric if you'd like to restore the old behavior.\n",
      "Accuracy of XGBoost: 0.9419173210846051\n",
      "Precision of XGBoost: 0.9437526349738788\n",
      "Recall of XGBoost: 0.9419173210846051\n",
      "F1-score of XGBoost: 0.9385153050657081\n",
      "              precision    recall  f1-score   support\n",
      "\n",
      "           0       0.52      0.76      0.62       535\n",
      "           1       0.59      0.25      0.35       359\n",
      "           2       0.52      0.96      0.68       107\n",
      "           3       0.11      0.03      0.04        71\n",
      "           4       0.78      0.45      0.57       218\n",
      "           5       0.47      0.48      0.47       119\n",
      "           6       1.00      0.98      0.99      1038\n",
      "           7       1.00      0.99      0.99     10646\n",
      "           8       0.73      0.82      0.77        68\n",
      "           9       0.84      0.92      0.88       302\n",
      "          10       0.73      0.94      0.83        35\n",
      "\n",
      "    accuracy                           0.94     13498\n",
      "   macro avg       0.66      0.69      0.65     13498\n",
      "weighted avg       0.94      0.94      0.94     13498\n",
      "\n"
     ]
    },
    {
     "data": {
      "image/png": "[encoded data removed]",
      "text/plain": [
       "<Figure size 360x360 with 2 Axes>"
      ]
     },
     "metadata": {
      "needs_background": "light"
     },
     "output_type": "display_data"
    }
   ],
   "source": [
    "params = {\n",
    "    'n_estimators': int(optimal_configuration['n_estimators']), \n",
    "    'max_depth': int(optimal_configuration['max_depth']), \n",
    "    'learning_rate': abs(float(optimal_configuration['learning_rate']))\n",
    "}\n",
    "xg = xgb.XGBClassifier(**params)\n",
    "t3 = time.time()\n",
    "xg.fit(X_train,y_train)\n",
    "t4 = time.time()\n",
    "xg_score=xg.score(X_test,y_test)\n",
    "t5 = time.time()\n",
    "y_predict=xg.predict(X_test)\n",
    "t6 = time.time()\n",
    "y_true=y_test\n",
    "print('Accuracy of XGBoost: '+ str(xg_score))\n",
    "precision,recall,fscore,none= precision_recall_fscore_support(y_true, y_predict, average='weighted') \n",
    "print('Precision of XGBoost: '+(str(precision)))\n",
    "print('Recall of XGBoost: '+(str(recall)))\n",
    "print('F1-score of XGBoost: '+(str(fscore)))\n",
    "report_str = classification_report(y_true,y_predict,target_names=label_names); log_file.write('******{}******\\n'.format('XGBoost (PSO)')+report_str+'\\n'); print(report_str)\n",
    "cm=confusion_matrix(y_true,y_predict)\n",
    "f,ax=plt.subplots(figsize=(18,14))\n",
    "sns.heatmap(cm,annot=True,linewidth=0.5,linecolor=\"red\",fmt=\".0f\",ax=ax)\n",
    "ax.set_xticklabels(label_names)\n",
    "ax.set_yticklabels(label_names)\n",
    "plt.xlabel(\"y_pred\")\n",
    "plt.ylabel(\"y_true\")\n",
    "plt.savefig(os.path.join(img_dir, 'XGBoost_PSO.pdf'))\n",
    "plt.show()"
   ]
  },
  {
   "cell_type": "code",
   "execution_count": null,
   "metadata": {},
   "outputs": [],
   "source": [
    "# Add to output sheet\n",
    "result_dict = {\n",
    "    'Accuracy': xg_score,\n",
    "    'Precision': precision,\n",
    "    'Recall': recall,\n",
    "    'F1-Score': fscore,\n",
    "    'HPO_time': t2-t1,\n",
    "    'Train_time': t4-t3,\n",
    "    'Predict_time_per_record': (t6-t5)/len_test\n",
    "}\n",
    "output_df = output_df.append(result_dict, ignore_index=True)\n",
    "# Add index name\n",
    "output_index.append('XGBoost (PSO)')"
   ]
  },
  {
   "cell_type": "markdown",
   "metadata": {},
   "source": [
    "#### Hyperparameter optimization (HPO) of XGBoost using Genetic Algorithm (GA)\n",
    "Based on the GitHub repo for HPO: https://github.com/LiYangHart/Hyperparameter-Optimization-of-Machine-Learning-Algorithms"
   ]
  },
  {
   "cell_type": "code",
   "execution_count": null,
   "metadata": {},
   "outputs": [
    {
     "name": "stdout",
     "output_type": "stream",
     "text": [
      "1 operators have been imported by TPOT.\n",
      "[00:43:06] WARNING: D:\\bld\\xgboost-split_1645118015404\\work\\src\\learner.cc:1115: Starting in XGBoost 1.3.0, the default evaluation metric used with the objective 'multi:softprob' was changed from 'merror' to 'mlogloss'. Explicitly set eval_metric if you'd like to restore the old behavior.\n",
      "[00:43:06] WARNING: D:\\bld\\xgboost-split_1645118015404\\work\\src\\learner.cc:1115: Starting in XGBoost 1.3.0, the default evaluation metric used with the objective 'multi:softprob' was changed from 'merror' to 'mlogloss'. Explicitly set eval_metric if you'd like to restore the old behavior.\n",
      "[00:43:07] WARNING: D:\\bld\\xgboost-split_1645118015404\\work\\src\\learner.cc:1115: Starting in XGBoost 1.3.0, the default evaluation metric used with the objective 'multi:softprob' was changed from 'merror' to 'mlogloss'. Explicitly set eval_metric if you'd like to restore the old behavior.\n",
      "[00:43:07] WARNING: D:\\bld\\xgboost-split_1645118015404\\work\\src\\learner.cc:1115: Starting in XGBoost 1.3.0, the default evaluation metric used with the objective 'multi:softprob' was changed from 'merror' to 'mlogloss'. Explicitly set eval_metric if you'd like to restore the old behavior.\n",
      "[00:43:07] WARNING: D:\\bld\\xgboost-split_1645118015404\\work\\src\\learner.cc:1115: Starting in XGBoost 1.3.0, the default evaluation metric used with the objective 'multi:softprob' was changed from 'merror' to 'mlogloss'. Explicitly set eval_metric if you'd like to restore the old behavior.\n",
      "[00:43:07] WARNING: D:\\bld\\xgboost-split_1645118015404\\work\\src\\learner.cc:1115: Starting in XGBoost 1.3.0, the default evaluation metric used with the objective 'multi:softprob' was changed from 'merror' to 'mlogloss'. Explicitly set eval_metric if you'd like to restore the old behavior.\n",
      "[00:43:07] WARNING: D:\\bld\\xgboost-split_1645118015404\\work\\src\\learner.cc:1115: Starting in XGBoost 1.3.0, the default evaluation metric used with the objective 'multi:softprob' was changed from 'merror' to 'mlogloss'. Explicitly set eval_metric if you'd like to restore the old behavior.\n",
      "[00:43:07] WARNING: D:\\bld\\xgboost-split_1645118015404\\work\\src\\learner.cc:1115: Starting in XGBoost 1.3.0, the default evaluation metric used with the objective 'multi:softprob' was changed from 'merror' to 'mlogloss'. Explicitly set eval_metric if you'd like to restore the old behavior.\n",
      "[00:43:08] WARNING: D:\\bld\\xgboost-split_1645118015404\\work\\src\\learner.cc:1115: Starting in XGBoost 1.3.0, the default evaluation metric used with the objective 'multi:softprob' was changed from 'merror' to 'mlogloss'. Explicitly set eval_metric if you'd like to restore the old behavior.\n",
      "[00:43:08] WARNING: D:\\bld\\xgboost-split_1645118015404\\work\\src\\learner.cc:1115: Starting in XGBoost 1.3.0, the default evaluation metric used with the objective 'multi:softprob' was changed from 'merror' to 'mlogloss'. Explicitly set eval_metric if you'd like to restore the old behavior.\n",
      "[00:43:08] WARNING: D:\\bld\\xgboost-split_1645118015404\\work\\src\\learner.cc:1115: Starting in XGBoost 1.3.0, the default evaluation metric used with the objective 'multi:softprob' was changed from 'merror' to 'mlogloss'. Explicitly set eval_metric if you'd like to restore the old behavior.\n",
      "[00:43:08] WARNING: D:\\bld\\xgboost-split_1645118015404\\work\\src\\learner.cc:1115: Starting in XGBoost 1.3.0, the default evaluation metric used with the objective 'multi:softprob' was changed from 'merror' to 'mlogloss'. Explicitly set eval_metric if you'd like to restore the old behavior.\n",
      "[00:43:08] WARNING: D:\\bld\\xgboost-split_1645118015404\\work\\src\\learner.cc:1115: Starting in XGBoost 1.3.0, the default evaluation metric used with the objective 'multi:softprob' was changed from 'merror' to 'mlogloss'. Explicitly set eval_metric if you'd like to restore the old behavior.\n",
      "[00:43:09] WARNING: D:\\bld\\xgboost-split_1645118015404\\work\\src\\learner.cc:1115: Starting in XGBoost 1.3.0, the default evaluation metric used with the objective 'multi:softprob' was changed from 'merror' to 'mlogloss'. Explicitly set eval_metric if you'd like to restore the old behavior.\n",
      "[00:43:09] WARNING: D:\\bld\\xgboost-split_1645118015404\\work\\src\\learner.cc:1115: Starting in XGBoost 1.3.0, the default evaluation metric used with the objective 'multi:softprob' was changed from 'merror' to 'mlogloss'. Explicitly set eval_metric if you'd like to restore the old behavior.\n",
      "[00:43:09] WARNING: D:\\bld\\xgboost-split_1645118015404\\work\\src\\learner.cc:1115: Starting in XGBoost 1.3.0, the default evaluation metric used with the objective 'multi:softprob' was changed from 'merror' to 'mlogloss'. Explicitly set eval_metric if you'd like to restore the old behavior.\n",
      "Optimization Progress:   0%|          | 0/25 [00:00<?, ?pipeline/s][00:43:09] WARNING: D:\\bld\\xgboost-split_1645118015404\\work\\src\\learner.cc:1115: Starting in XGBoost 1.3.0, the default evaluation metric used with the objective 'multi:softprob' was changed from 'merror' to 'mlogloss'. Explicitly set eval_metric if you'd like to restore the old behavior.\n",
      "[00:43:37] WARNING: D:\\bld\\xgboost-split_1645118015404\\work\\src\\learner.cc:1115: Starting in XGBoost 1.3.0, the default evaluation metric used with the objective 'multi:softprob' was changed from 'merror' to 'mlogloss'. Explicitly set eval_metric if you'd like to restore the old behavior.\n",
      "[00:43:52] WARNING: D:\\bld\\xgboost-split_1645118015404\\work\\src\\learner.cc:1115: Starting in XGBoost 1.3.0, the default evaluation metric used with the objective 'multi:softprob' was changed from 'merror' to 'mlogloss'. Explicitly set eval_metric if you'd like to restore the old behavior.\n",
      "[00:44:21] WARNING: D:\\bld\\xgboost-split_1645118015404\\work\\src\\learner.cc:1115: Starting in XGBoost 1.3.0, the default evaluation metric used with the objective 'multi:softprob' was changed from 'merror' to 'mlogloss'. Explicitly set eval_metric if you'd like to restore the old behavior.\n",
      "[00:44:39] WARNING: D:\\bld\\xgboost-split_1645118015404\\work\\src\\learner.cc:1115: Starting in XGBoost 1.3.0, the default evaluation metric used with the objective 'multi:softprob' was changed from 'merror' to 'mlogloss'. Explicitly set eval_metric if you'd like to restore the old behavior.\n",
      "[00:45:09] WARNING: D:\\bld\\xgboost-split_1645118015404\\work\\src\\learner.cc:1115: Starting in XGBoost 1.3.0, the default evaluation metric used with the objective 'multi:softprob' was changed from 'merror' to 'mlogloss'. Explicitly set eval_metric if you'd like to restore the old behavior.\n",
      "Optimization Progress:   4%|▍         | 1/25 [02:14<53:51, 134.63s/pipeline][00:45:24] WARNING: D:\\bld\\xgboost-split_1645118015404\\work\\src\\learner.cc:1115: Starting in XGBoost 1.3.0, the default evaluation metric used with the objective 'multi:softprob' was changed from 'merror' to 'mlogloss'. Explicitly set eval_metric if you'd like to restore the old behavior.\n",
      "[00:45:51] WARNING: D:\\bld\\xgboost-split_1645118015404\\work\\src\\learner.cc:1115: Starting in XGBoost 1.3.0, the default evaluation metric used with the objective 'multi:softprob' was changed from 'merror' to 'mlogloss'. Explicitly set eval_metric if you'd like to restore the old behavior.\n",
      "[00:46:08] WARNING: D:\\bld\\xgboost-split_1645118015404\\work\\src\\learner.cc:1115: Starting in XGBoost 1.3.0, the default evaluation metric used with the objective 'multi:softprob' was changed from 'merror' to 'mlogloss'. Explicitly set eval_metric if you'd like to restore the old behavior.\n",
      "[00:46:35] WARNING: D:\\bld\\xgboost-split_1645118015404\\work\\src\\learner.cc:1115: Starting in XGBoost 1.3.0, the default evaluation metric used with the objective 'multi:softprob' was changed from 'merror' to 'mlogloss'. Explicitly set eval_metric if you'd like to restore the old behavior.\n",
      "[00:46:55] WARNING: D:\\bld\\xgboost-split_1645118015404\\work\\src\\learner.cc:1115: Starting in XGBoost 1.3.0, the default evaluation metric used with the objective 'multi:softprob' was changed from 'merror' to 'mlogloss'. Explicitly set eval_metric if you'd like to restore the old behavior.\n",
      "[00:47:28] WARNING: D:\\bld\\xgboost-split_1645118015404\\work\\src\\learner.cc:1115: Starting in XGBoost 1.3.0, the default evaluation metric used with the objective 'multi:softprob' was changed from 'merror' to 'mlogloss'. Explicitly set eval_metric if you'd like to restore the old behavior.\n",
      "Optimization Progress:   8%|▊         | 2/25 [04:39<53:59, 140.85s/pipeline][00:47:49] WARNING: D:\\bld\\xgboost-split_1645118015404\\work\\src\\learner.cc:1115: Starting in XGBoost 1.3.0, the default evaluation metric used with the objective 'multi:softprob' was changed from 'merror' to 'mlogloss'. Explicitly set eval_metric if you'd like to restore the old behavior.\n",
      "[00:48:06] WARNING: D:\\bld\\xgboost-split_1645118015404\\work\\src\\learner.cc:1115: Starting in XGBoost 1.3.0, the default evaluation metric used with the objective 'multi:softprob' was changed from 'merror' to 'mlogloss'. Explicitly set eval_metric if you'd like to restore the old behavior.\n",
      "[00:48:22] WARNING: D:\\bld\\xgboost-split_1645118015404\\work\\src\\learner.cc:1115: Starting in XGBoost 1.3.0, the default evaluation metric used with the objective 'multi:softprob' was changed from 'merror' to 'mlogloss'. Explicitly set eval_metric if you'd like to restore the old behavior.\n",
      "Optimization Progress:  12%|█▏        | 3/25 [05:29<36:26, 99.40s/pipeline] [00:48:39] WARNING: D:\\bld\\xgboost-split_1645118015404\\work\\src\\learner.cc:1115: Starting in XGBoost 1.3.0, the default evaluation metric used with the objective 'multi:softprob' was changed from 'merror' to 'mlogloss'. Explicitly set eval_metric if you'd like to restore the old behavior.\n",
      "[00:49:39] WARNING: D:\\bld\\xgboost-split_1645118015404\\work\\src\\learner.cc:1115: Starting in XGBoost 1.3.0, the default evaluation metric used with the objective 'multi:softprob' was changed from 'merror' to 'mlogloss'. Explicitly set eval_metric if you'd like to restore the old behavior.\n",
      "[00:50:41] WARNING: D:\\bld\\xgboost-split_1645118015404\\work\\src\\learner.cc:1115: Starting in XGBoost 1.3.0, the default evaluation metric used with the objective 'multi:softprob' was changed from 'merror' to 'mlogloss'. Explicitly set eval_metric if you'd like to restore the old behavior.\n",
      "Optimization Progress:  16%|█▌        | 4/25 [08:33<46:22, 132.50s/pipeline][00:51:42] WARNING: D:\\bld\\xgboost-split_1645118015404\\work\\src\\learner.cc:1115: Starting in XGBoost 1.3.0, the default evaluation metric used with the objective 'multi:softprob' was changed from 'merror' to 'mlogloss'. Explicitly set eval_metric if you'd like to restore the old behavior.\n",
      "[00:52:15] WARNING: D:\\bld\\xgboost-split_1645118015404\\work\\src\\learner.cc:1115: Starting in XGBoost 1.3.0, the default evaluation metric used with the objective 'multi:softprob' was changed from 'merror' to 'mlogloss'. Explicitly set eval_metric if you'd like to restore the old behavior.\n",
      "                                                                            \n",
      "                                                                            \n",
      "TPOT closed during evaluation in one generation.\n",
      "WARNING: TPOT may not provide a good pipeline if TPOT is stopped/interrupted in a early generation.\n",
      "                                                                            \n",
      "                                                                            \n",
      "TPOT closed prematurely. Will use the current best pipeline.\n",
      "[00:52:31] WARNING: D:\\bld\\xgboost-split_1645118015404\\work\\src\\learner.cc:1115: Starting in XGBoost 1.3.0, the default evaluation metric used with the objective 'multi:softprob' was changed from 'merror' to 'mlogloss'. Explicitly set eval_metric if you'd like to restore the old behavior.\n"
     ]
    }
   ],
   "source": [
    "#Xgboost\n",
    "from tpot import TPOTClassifier\n",
    "# Define the hyperparameter configuration space\n",
    "parameters = {\n",
    "    'n_estimators': range(10,100),\n",
    "    'max_depth': range(4,100),\n",
    "    'learning_rate': [i/100 for i in range(1, 90)]\n",
    "}\n",
    "# Set the hyperparameters of GA                 \n",
    "ga = TPOTClassifier(generations= 3, population_size= 10, offspring_size= 5,\n",
    "                                 verbosity= 3, early_stop= 5,\n",
    "                                 config_dict=\n",
    "                                 {'xgboost.XGBClassifier': parameters}, \n",
    "                                 cv = 3, scoring = 'accuracy')\n",
    "t1 = time.time()\n",
    "ga.fit(X_combined, y_combined)\n",
    "t2 = time.time()"
   ]
  },
  {
   "cell_type": "code",
   "execution_count": null,
   "metadata": {},
   "outputs": [],
   "source": [
    "# Helper method: convert the values represented by string to its correct type\n",
    "def type_str(input_str:str):\n",
    "    # is integer\n",
    "    if input_str.isdecimal():\n",
    "        return int(input_str)\n",
    "    # is float\n",
    "    elif input_str.isdigit():\n",
    "        return float(input_str)\n",
    "    # is string\n",
    "    elif input_str.startswith('\"') and input_str.endswith('\"'):\n",
    "        # remove quotation marks\n",
    "        return input_str[1: -1]\n",
    "    else:\n",
    "        return input_str\n",
    "\n",
    "# Extract the optimized parameter from the generated pipeline\n",
    "def get_ga_optimized_parameters(fitted_tpot_obj: TPOTClassifier, classifier_name: str, temp_file_name:str='temp_ga_pipeline.py'):\n",
    "    # Export the pipeline\n",
    "    fitted_tpot_obj.export(output_file_name=temp_file_name)\n",
    "    # Read the optimized pipeline\n",
    "    with open(temp_file_name) as temp_file:\n",
    "        lines = temp_file.readlines()\n",
    "    for line in lines:\n",
    "        if classifier_name+'(' in line.strip():\n",
    "            pipeline = line\n",
    "            break\n",
    "    # Extract the optimized parameters\n",
    "    start_index = pipeline.index(classifier_name+'(')\n",
    "    end_index = pipeline.index(')')\n",
    "    parameters_str = pipeline[start_index+len(classifier_name)+1: end_index]\n",
    "    parameters = dict()\n",
    "    for temp_str in parameters_str.split(sep=','):\n",
    "        temp_list = temp_str.split('=')\n",
    "        parameters[temp_list[0].strip()] = type_str(temp_list[1].strip())\n",
    "    # Delect the temp file\n",
    "    os.remove(temp_file_name)\n",
    "    # Return the optimized parameters\n",
    "    return parameters"
   ]
  },
  {
   "cell_type": "code",
   "execution_count": null,
   "metadata": {},
   "outputs": [],
   "source": [
    "xg = xgb.XGBClassifier(**get_ga_optimized_parameters(ga, 'XGBClassifier'))\n",
    "t3 = time.time()\n",
    "xg.fit(X_train,y_train)\n",
    "t4 = time.time()\n",
    "xg_score=xg.score(X_test,y_test)\n",
    "t5 = time.time()\n",
    "y_predict=xg.predict(X_test)\n",
    "t6 = time.time()\n",
    "y_true=y_test\n",
    "print('Accuracy of XGBoost: '+ str(xg_score))\n",
    "precision,recall,fscore,none= precision_recall_fscore_support(y_true, y_predict, average='weighted') \n",
    "print('Precision of XGBoost: '+(str(precision)))\n",
    "print('Recall of XGBoost: '+(str(recall)))\n",
    "print('F1-score of XGBoost: '+(str(fscore)))\n",
    "report_str = classification_report(y_true,y_predict,target_names=label_names); log_file.write('******{}******\\n'.format('XGBoost (GA)')+report_str+'\\n'); print(report_str)\n",
    "cm=confusion_matrix(y_true,y_predict)\n",
    "f,ax=plt.subplots(figsize=(18,14))\n",
    "sns.heatmap(cm,annot=True,linewidth=0.5,linecolor=\"red\",fmt=\".0f\",ax=ax)\n",
    "ax.set_xticklabels(label_names)\n",
    "ax.set_yticklabels(label_names)\n",
    "plt.xlabel(\"y_pred\")\n",
    "plt.ylabel(\"y_true\")\n",
    "plt.savefig(os.path.join(img_dir, 'XGBoost_GA.pdf'))\n",
    "plt.show()"
   ]
  },
  {
   "cell_type": "code",
   "execution_count": null,
   "metadata": {},
   "outputs": [],
   "source": [
    "# Add to output sheet\n",
    "result_dict = {\n",
    "    'Accuracy': xg_score,\n",
    "    'Precision': precision,\n",
    "    'Recall': recall,\n",
    "    'F1-Score': fscore,\n",
    "    'HPO_time': t2-t1,\n",
    "    'Train_time': t4-t3,\n",
    "    'Predict_time_per_record': (t6-t5)/len_test\n",
    "}\n",
    "output_df = output_df.append(result_dict, ignore_index=True)\n",
    "# Add index name\n",
    "output_index.append('XGBoost (GA)')"
   ]
  },
  {
   "cell_type": "markdown",
   "metadata": {},
   "source": [
    "#### Apply RF"
   ]
  },
  {
   "cell_type": "code",
   "execution_count": null,
   "metadata": {
    "collapsed": false
   },
   "outputs": [
    {
     "name": "stdout",
     "output_type": "stream",
     "text": [
      "Accuracy of RF: 0.9339161357238109\n",
      "Precision of RF: 0.9349308548885727\n",
      "Recall of RF: 0.9339161357238109\n",
      "F1-score of RF: 0.9333519631755297\n",
      "              precision    recall  f1-score   support\n",
      "\n",
      "           0       0.46      0.58      0.51       535\n",
      "           1       0.34      0.25      0.28       359\n",
      "           2       0.46      0.75      0.57       107\n",
      "           3       0.10      0.07      0.08        73\n",
      "           4       0.70      0.50      0.59       216\n",
      "           5       0.52      0.54      0.53       124\n",
      "           6       1.00      0.97      0.99      1032\n",
      "           7       1.00      0.99      0.99     10649\n",
      "           8       0.87      0.79      0.83        66\n",
      "           9       0.89      0.96      0.92       302\n",
      "          10       0.80      0.94      0.87        35\n",
      "\n",
      "    accuracy                           0.93     13498\n",
      "   macro avg       0.65      0.67      0.65     13498\n",
      "weighted avg       0.93      0.93      0.93     13498\n",
      "\n"
     ]
    },
    {
     "data": {
      "image/png": "[encoded data removed]",
      "text/plain": [
       "<Figure size 360x360 with 2 Axes>"
      ]
     },
     "metadata": {
      "needs_background": "light"
     },
     "output_type": "display_data"
    }
   ],
   "source": [
    "rf = RandomForestClassifier(random_state = 0)\n",
    "t1 = time.time()\n",
    "rf.fit(X_train,y_train)\n",
    "t2 = time.time() \n",
    "rf_score=rf.score(X_test,y_test)\n",
    "t3 = time.time()\n",
    "y_predict=rf.predict(X_test)\n",
    "t4 = time.time()\n",
    "y_true=y_test\n",
    "print('Accuracy of RF: '+ str(rf_score))\n",
    "precision,recall,fscore,none= precision_recall_fscore_support(y_true, y_predict, average='weighted') \n",
    "print('Precision of RF: '+(str(precision)))\n",
    "print('Recall of RF: '+(str(recall)))\n",
    "print('F1-score of RF: '+(str(fscore)))\n",
    "report_str = classification_report(y_true,y_predict,target_names=label_names); log_file.write('******{}******\\n'.format('RF (Original)')+report_str+'\\n'); print(report_str)\n",
    "cm=confusion_matrix(y_true,y_predict)\n",
    "f,ax=plt.subplots(figsize=(18,14))\n",
    "sns.heatmap(cm,annot=True,linewidth=0.5,linecolor=\"red\",fmt=\".0f\",ax=ax)\n",
    "ax.set_xticklabels(label_names)\n",
    "ax.set_yticklabels(label_names)\n",
    "plt.xlabel(\"y_pred\")\n",
    "plt.ylabel(\"y_true\")\n",
    "plt.savefig(os.path.join(img_dir, 'RF_original.pdf'))\n",
    "plt.show()"
   ]
  },
  {
   "cell_type": "code",
   "execution_count": null,
   "metadata": {},
   "outputs": [],
   "source": [
    "# Add to output sheet\n",
    "result_dict = {\n",
    "    'Accuracy': rf_score,\n",
    "    'Precision': precision,\n",
    "    'Recall': recall,\n",
    "    'F1-Score': fscore,\n",
    "    'Train_time': t2-t1,\n",
    "    'Predict_time_per_record': (t4/t3)/len_test,\n",
    "    'HPO_time': np.NaN\n",
    "}\n",
    "output_df = output_df.append(result_dict, ignore_index=True)\n",
    "# Add index name\n",
    "output_index.append('RF (Original)')"
   ]
  },
  {
   "cell_type": "markdown",
   "metadata": {},
   "source": [
    "#### Hyperparameter optimization (HPO) of random forest using Bayesian optimization with tree-based Parzen estimator (BO-TPE)\n",
    "Based on the GitHub repo for HPO: https://github.com/LiYangHart/Hyperparameter-Optimization-of-Machine-Learning-Algorithms"
   ]
  },
  {
   "cell_type": "code",
   "execution_count": null,
   "metadata": {
    "collapsed": false
   },
   "outputs": [
    {
     "name": "stdout",
     "output_type": "stream",
     "text": [
      "100%|██████████| 20/20 [03:25<00:00, 10.27s/trial, best loss: -0.942584086531338] \n",
      "Random Forest: Hyperopt estimated optimum {'criterion': 1, 'max_depth': 12.0, 'max_features': 13.0, 'min_samples_leaf': 6.0, 'min_samples_split': 8.0, 'n_estimators': 62.0}\n"
     ]
    }
   ],
   "source": [
    "# Hyperparameter optimization of random forest\n",
    "from hyperopt import hp, fmin, tpe, STATUS_OK, Trials\n",
    "from sklearn.model_selection import cross_val_score, StratifiedKFold\n",
    "# Define the objective function\n",
    "def objective(params):\n",
    "    params = {\n",
    "        'n_estimators': int(params['n_estimators']), \n",
    "        'max_depth': int(params['max_depth']),\n",
    "        'max_features': int(params['max_features']),\n",
    "        \"min_samples_split\":int(params['min_samples_split']),\n",
    "        \"min_samples_leaf\":int(params['min_samples_leaf']),\n",
    "        \"criterion\":str(params['criterion'])\n",
    "    }\n",
    "    clf = RandomForestClassifier( **params)\n",
    "    clf.fit(X_train,y_train)\n",
    "    score=clf.score(X_test,y_test)\n",
    "\n",
    "    return {'loss':-score, 'status': STATUS_OK }\n",
    "# Define the hyperparameter configuration space\n",
    "available_criterion = ['gini','entropy']\n",
    "space = {\n",
    "    'n_estimators': hp.quniform('n_estimators', 10, 200, 1),\n",
    "    'max_depth': hp.quniform('max_depth', 5, 50, 1),\n",
    "    \"max_features\":hp.quniform('max_features', 1, 20, 1),\n",
    "    \"min_samples_split\":hp.quniform('min_samples_split',2,11,1),\n",
    "    \"min_samples_leaf\":hp.quniform('min_samples_leaf',1,11,1),\n",
    "    \"criterion\":hp.choice('criterion', available_criterion)\n",
    "}\n",
    "\n",
    "t1 = time.time()\n",
    "\n",
    "best = fmin(fn=objective,\n",
    "            space=space,\n",
    "            algo=tpe.suggest,\n",
    "            max_evals=20)\n",
    "\n",
    "t2 = time.time()\n",
    "\n",
    "print(\"Random Forest: Hyperopt estimated optimum {}\".format(best))"
   ]
  },
  {
   "cell_type": "code",
   "execution_count": null,
   "metadata": {
    "collapsed": false
   },
   "outputs": [
    {
     "name": "stdout",
     "output_type": "stream",
     "text": [
      "Accuracy of RF: 0.9413246406875092\n",
      "Precision of RF: 0.944240452028322\n",
      "Recall of RF: 0.9413246406875092\n",
      "F1-score of RF: 0.9386178860964776\n",
      "              precision    recall  f1-score   support\n",
      "\n",
      "           0       0.52      0.75      0.61       535\n",
      "           1       0.54      0.25      0.34       359\n",
      "           2       0.51      0.98      0.68       107\n",
      "           3       0.31      0.05      0.09        73\n",
      "           4       0.76      0.46      0.57       216\n",
      "           5       0.49      0.65      0.56       124\n",
      "           6       1.00      0.97      0.98      1032\n",
      "           7       1.00      0.99      0.99     10649\n",
      "           8       0.76      0.85      0.80        66\n",
      "           9       0.84      0.94      0.88       302\n",
      "          10       0.68      0.91      0.78        35\n",
      "\n",
      "    accuracy                           0.94     13498\n",
      "   macro avg       0.67      0.71      0.66     13498\n",
      "weighted avg       0.94      0.94      0.94     13498\n",
      "\n"
     ]
    },
    {
     "data": {
      "image/png": "[encoded data removed]",
      "text/plain": [
       "<Figure size 360x360 with 2 Axes>"
      ]
     },
     "metadata": {
      "needs_background": "light"
     },
     "output_type": "display_data"
    }
   ],
   "source": [
    "params = {\n",
    "    'n_estimators': int(best['n_estimators']), \n",
    "    'max_depth': int(best['max_depth']),\n",
    "    'max_features': int(best['max_features']),\n",
    "    \"min_samples_split\":int(best['min_samples_split']),\n",
    "    \"min_samples_leaf\":int(best['min_samples_leaf']),\n",
    "    \"criterion\":available_criterion[int(best['criterion'])]\n",
    "}\n",
    "rf_hpo = RandomForestClassifier(**params)\n",
    "t3 = time.time()\n",
    "rf_hpo.fit(X_train,y_train)\n",
    "t4 = time.time()\n",
    "rf_score=rf_hpo.score(X_test,y_test)\n",
    "t5 = time.time()\n",
    "y_predict=rf_hpo.predict(X_test)\n",
    "t6 = time.time()\n",
    "y_true=y_test\n",
    "print('Accuracy of RF: '+ str(rf_score))\n",
    "precision,recall,fscore,none= precision_recall_fscore_support(y_true, y_predict, average='weighted') \n",
    "print('Precision of RF: '+(str(precision)))\n",
    "print('Recall of RF: '+(str(recall)))\n",
    "print('F1-score of RF: '+(str(fscore)))\n",
    "report_str = classification_report(y_true,y_predict,target_names=label_names); log_file.write('******{}******\\n'.format('RF (BO-TPE)')+report_str+'\\n'); print(report_str)\n",
    "cm=confusion_matrix(y_true,y_predict)\n",
    "f,ax=plt.subplots(figsize=(18,14))\n",
    "sns.heatmap(cm,annot=True,linewidth=0.5,linecolor=\"red\",fmt=\".0f\",ax=ax)\n",
    "ax.set_xticklabels(label_names)\n",
    "ax.set_yticklabels(label_names)\n",
    "plt.xlabel(\"y_pred\")\n",
    "plt.ylabel(\"y_true\")\n",
    "plt.savefig(os.path.join(img_dir, 'RF_BO-TPE.pdf'))\n",
    "plt.show()"
   ]
  },
  {
   "cell_type": "code",
   "execution_count": null,
   "metadata": {},
   "outputs": [],
   "source": [
    "# Add to output sheet\n",
    "result_dict = {\n",
    "    'Accuracy': rf_score,\n",
    "    'Precision': precision,\n",
    "    'Recall': recall,\n",
    "    'F1-Score': fscore,\n",
    "    'HPO_time': t2-t1,\n",
    "    'Train_time': t4-t3,\n",
    "    'Predict_time_per_record': (t6-t5)/len_test\n",
    "}\n",
    "output_df = output_df.append(result_dict, ignore_index=True)\n",
    "# Add index name\n",
    "output_index.append('RF (BO-TPE)')"
   ]
  },
  {
   "cell_type": "code",
   "execution_count": null,
   "metadata": {
    "collapsed": true
   },
   "outputs": [],
   "source": [
    "rf_train=rf_hpo.predict(X_train)\n",
    "rf_test=rf_hpo.predict(X_test)"
   ]
  },
  {
   "cell_type": "markdown",
   "metadata": {},
   "source": [
    "#### Hyperparameter optimization (HPO) of random forest using Particle Swarm Optimization (PSO)\n",
    "Based on the GitHub repo for HPO: https://github.com/LiYangHart/Hyperparameter-Optimization-of-Machine-Learning-Algorithms"
   ]
  },
  {
   "cell_type": "code",
   "execution_count": null,
   "metadata": {},
   "outputs": [
    {
     "name": "stdout",
     "output_type": "stream",
     "text": [
      "{'n_estimators': 51.30859375, 'max_features': 3.634765625, 'max_depth': 16.865234375, 'min_samples_split': 7.220703125, 'min_samples_leaf': 8.87109375, 'criterion': 0.896484375}\n",
      "Accuracy:0.9420407961673335\n"
     ]
    }
   ],
   "source": [
    "#Random Forest\n",
    "import optunity\n",
    "import optunity.metrics\n",
    "\n",
    "data=X\n",
    "labels=y.tolist()\n",
    "Y_train = y_train\n",
    "Y_test = y_test\n",
    "# Define the hyperparameter configuration space\n",
    "search = {\n",
    "    'n_estimators': [10, 100],\n",
    "    'max_features': [1, 20],\n",
    "    'max_depth': [5,50],\n",
    "    \"min_samples_split\":[2,11],\n",
    "    \"min_samples_leaf\":[1,11],\n",
    "    \"criterion\":[0,1]\n",
    "         }\n",
    "available_criterion = ['gini', 'entropy']\n",
    "# Define the objective function\n",
    "@optunity.cross_validated(x=data, y=labels, num_folds=3)\n",
    "def performance(x_train, y_train, x_test, y_test,n_estimators=None, max_features=None,max_depth=None,min_samples_split=None,min_samples_leaf=None,criterion=None):\n",
    "    # fit the model\n",
    "    if criterion<0.5:\n",
    "        cri=available_criterion[0]\n",
    "    else:\n",
    "        cri=available_criterion[1]\n",
    "    model = RandomForestClassifier(n_estimators=int(n_estimators),\n",
    "                                   max_features=int(max_features),\n",
    "                                   max_depth=int(max_depth),\n",
    "                                   min_samples_split=int(min_samples_split),\n",
    "                                   min_samples_leaf=int(min_samples_leaf),\n",
    "                                   criterion=cri,\n",
    "                                  )\n",
    "    model.fit(X_train, Y_train)\n",
    "    predictions = model.predict(X_test)\n",
    "    # scores=np.mean(cross_val_score(model, X, y, cv=3, n_jobs=-1,\n",
    "    #                                 scoring=\"accuracy\"))\n",
    "    #return optunity.metrics.roc_auc(y_test, predictions, positive=True)\n",
    "    return optunity.metrics.accuracy(Y_test, predictions)\n",
    "\n",
    "t1 = time.time()\n",
    "\n",
    "optimal_configuration, info, _ = optunity.maximize(performance,\n",
    "                                                  solver_name='particle swarm',\n",
    "                                                  num_evals=20,\n",
    "                                                   **search\n",
    "                                                  )\n",
    "\n",
    "t2 = time.time()\n",
    "\n",
    "print(optimal_configuration)\n",
    "print(\"Accuracy:\"+ str(info.optimum))"
   ]
  },
  {
   "cell_type": "code",
   "execution_count": null,
   "metadata": {},
   "outputs": [
    {
     "name": "stdout",
     "output_type": "stream",
     "text": [
      "Accuracy of RF: 0.9422136612831531\n",
      "Precision of RF: 0.9465924092938208\n",
      "Recall of RF: 0.9422136612831531\n",
      "F1-score of RF: 0.9386356398629404\n",
      "              precision    recall  f1-score   support\n",
      "\n",
      "           0       0.52      0.79      0.63       535\n",
      "           1       0.66      0.23      0.34       359\n",
      "           2       0.50      0.91      0.65       107\n",
      "           3       0.40      0.03      0.05        73\n",
      "           4       0.69      0.45      0.55       216\n",
      "           5       0.53      0.64      0.58       124\n",
      "           6       1.00      0.97      0.98      1032\n",
      "           7       1.00      0.99      0.99     10649\n",
      "           8       0.77      0.85      0.81        66\n",
      "           9       0.83      0.94      0.88       302\n",
      "          10       0.52      0.89      0.65        35\n",
      "\n",
      "    accuracy                           0.94     13498\n",
      "   macro avg       0.67      0.70      0.65     13498\n",
      "weighted avg       0.95      0.94      0.94     13498\n",
      "\n"
     ]
    },
    {
     "data": {
      "image/png": "[encoded data removed]",
      "text/plain": [
       "<Figure size 360x360 with 2 Axes>"
      ]
     },
     "metadata": {
      "needs_background": "light"
     },
     "output_type": "display_data"
    }
   ],
   "source": [
    "params = {\n",
    "    'n_estimators': int(optimal_configuration['n_estimators']), \n",
    "    'min_samples_leaf': int(optimal_configuration['min_samples_leaf']), \n",
    "    'max_depth': int(optimal_configuration['max_depth']), \n",
    "    'min_samples_split': int(optimal_configuration['min_samples_split']), \n",
    "    'max_features': int(optimal_configuration['max_features']), \n",
    "    'criterion': available_criterion[int(optimal_configuration['criterion']+0.5)]\n",
    "}\n",
    "rf_hpo = RandomForestClassifier(**params)\n",
    "t3 = time.time()\n",
    "rf_hpo.fit(X_train,y_train)\n",
    "t4 = time.time()\n",
    "rf_score=rf_hpo.score(X_test,y_test)\n",
    "t5 = time.time()\n",
    "y_predict=rf_hpo.predict(X_test)\n",
    "t6 = time.time()\n",
    "y_true=y_test\n",
    "print('Accuracy of RF: '+ str(rf_score))\n",
    "precision,recall,fscore,none= precision_recall_fscore_support(y_true, y_predict, average='weighted') \n",
    "print('Precision of RF: '+(str(precision)))\n",
    "print('Recall of RF: '+(str(recall)))\n",
    "print('F1-score of RF: '+(str(fscore)))\n",
    "report_str = classification_report(y_true,y_predict,target_names=label_names); log_file.write('******{}******\\n'.format('RF (PSO)')+report_str+'\\n'); print(report_str)\n",
    "cm=confusion_matrix(y_true,y_predict)\n",
    "f,ax=plt.subplots(figsize=(18,14))\n",
    "sns.heatmap(cm,annot=True,linewidth=0.5,linecolor=\"red\",fmt=\".0f\",ax=ax)\n",
    "ax.set_xticklabels(label_names)\n",
    "ax.set_yticklabels(label_names)\n",
    "plt.xlabel(\"y_pred\")\n",
    "plt.ylabel(\"y_true\")\n",
    "plt.savefig(os.path.join(img_dir, 'RF_PSO.pdf'))\n",
    "plt.show()"
   ]
  },
  {
   "cell_type": "code",
   "execution_count": null,
   "metadata": {},
   "outputs": [],
   "source": [
    "# Add to output sheet\n",
    "result_dict = {\n",
    "    'Accuracy': rf_score,\n",
    "    'Precision': precision,\n",
    "    'Recall': recall,\n",
    "    'F1-Score': fscore,\n",
    "    'HPO_time': t2-t1,\n",
    "    'Train_time': t4-t3,\n",
    "    'Predict_time_per_record': (t6-t5)/len_test\n",
    "}\n",
    "output_df = output_df.append(result_dict, ignore_index=True)\n",
    "# Add index name\n",
    "output_index.append('RF (PSO)')"
   ]
  },
  {
   "cell_type": "markdown",
   "metadata": {},
   "source": [
    "#### Hyperparameter optimization (HPO) of random forest using Genetic Algorithm (GA)\n",
    "Based on the GitHub repo for HPO: https://github.com/LiYangHart/Hyperparameter-Optimization-of-Machine-Learning-Algorithms"
   ]
  },
  {
   "cell_type": "code",
   "execution_count": null,
   "metadata": {},
   "outputs": [
    {
     "name": "stdout",
     "output_type": "stream",
     "text": [
      "1 operators have been imported by TPOT.\n",
      "                                                                            \n",
      "Generation 1 - Current Pareto front scores:\n",
      "                                                                            \n",
      "-1\t0.9304163357178427\tRandomForestClassifier(CombineDFs(input_matrix, input_matrix), RandomForestClassifier__criterion=entropy, RandomForestClassifier__max_depth=15, RandomForestClassifier__max_features=7, RandomForestClassifier__min_samples_leaf=3, RandomForestClassifier__min_samples_split=9, RandomForestClassifier__n_estimators=81)\n",
      "                                                                            \n",
      "Generation 2 - Current Pareto front scores:\n",
      "                                                                            \n",
      "-1\t0.9304163357178427\tRandomForestClassifier(CombineDFs(input_matrix, input_matrix), RandomForestClassifier__criterion=entropy, RandomForestClassifier__max_depth=15, RandomForestClassifier__max_features=7, RandomForestClassifier__min_samples_leaf=3, RandomForestClassifier__min_samples_split=9, RandomForestClassifier__n_estimators=81)\n",
      "                                                                            \n",
      "Generation 3 - Current Pareto front scores:\n",
      "                                                                            \n",
      "-1\t0.9304163357178427\tRandomForestClassifier(CombineDFs(input_matrix, input_matrix), RandomForestClassifier__criterion=entropy, RandomForestClassifier__max_depth=15, RandomForestClassifier__max_features=7, RandomForestClassifier__min_samples_leaf=3, RandomForestClassifier__min_samples_split=9, RandomForestClassifier__n_estimators=81)\n",
      "                                                                            \r"
     ]
    }
   ],
   "source": [
    "#Random Forest\n",
    "from tpot import TPOTClassifier\n",
    "# Define the hyperparameter configuration space\n",
    "parameters = {\n",
    "    'n_estimators': range(20,200),\n",
    "    \"max_features\":range(1,20),\n",
    "    'max_depth': range(10,100),\n",
    "    \"min_samples_split\":range(2,11),\n",
    "    \"min_samples_leaf\":range(1,11),\n",
    "    \"criterion\":['gini','entropy']\n",
    "             }\n",
    "# Set the hyperparameters of GA                 \n",
    "ga = TPOTClassifier(generations= 3, population_size= 10, offspring_size= 5,\n",
    "                                 verbosity= 3, early_stop= 5,\n",
    "                                 config_dict=\n",
    "                                 {'sklearn.ensemble.RandomForestClassifier': parameters}, \n",
    "                                 cv = 3, scoring = 'accuracy')\n",
    "t1 = time.time()\n",
    "ga.fit(X_combined, y_combined)\n",
    "t2 = time.time()"
   ]
  },
  {
   "cell_type": "code",
   "execution_count": null,
   "metadata": {},
   "outputs": [
    {
     "name": "stdout",
     "output_type": "stream",
     "text": [
      "Accuracy of RF: 0.9396947695954956\n",
      "Precision of RF: 0.9412391157715357\n",
      "Recall of RF: 0.9396947695954956\n",
      "F1-score of RF: 0.9378138291293365\n",
      "              precision    recall  f1-score   support\n",
      "\n",
      "           0       0.50      0.69      0.58       535\n",
      "           1       0.47      0.26      0.33       359\n",
      "           2       0.50      0.91      0.64       107\n",
      "           3       0.25      0.07      0.11        73\n",
      "           4       0.72      0.50      0.59       216\n",
      "           5       0.50      0.62      0.56       124\n",
      "           6       1.00      0.97      0.98      1032\n",
      "           7       1.00      0.99      0.99     10649\n",
      "           8       0.85      0.83      0.84        66\n",
      "           9       0.84      0.94      0.89       302\n",
      "          10       0.73      0.91      0.81        35\n",
      "\n",
      "    accuracy                           0.94     13498\n",
      "   macro avg       0.67      0.70      0.67     13498\n",
      "weighted avg       0.94      0.94      0.94     13498\n",
      "\n"
     ]
    },
    {
     "data": {
      "image/png": "[encoded data removed]",
      "text/plain": [
       "<Figure size 360x360 with 2 Axes>"
      ]
     },
     "metadata": {
      "needs_background": "light"
     },
     "output_type": "display_data"
    }
   ],
   "source": [
    "rf_hpo = RandomForestClassifier(**get_ga_optimized_parameters(ga, 'RandomForestClassifier'))\n",
    "t3 = time.time()\n",
    "rf_hpo.fit(X_train,y_train)\n",
    "t4 = time.time()\n",
    "rf_score=rf_hpo.score(X_test,y_test)\n",
    "t5 = time.time()\n",
    "y_predict=rf_hpo.predict(X_test)\n",
    "t6 = time.time()\n",
    "y_true=y_test\n",
    "print('Accuracy of RF: '+ str(rf_score))\n",
    "precision,recall,fscore,none= precision_recall_fscore_support(y_true, y_predict, average='weighted') \n",
    "print('Precision of RF: '+(str(precision)))\n",
    "print('Recall of RF: '+(str(recall)))\n",
    "print('F1-score of RF: '+(str(fscore)))\n",
    "report_str = classification_report(y_true,y_predict,target_names=label_names); log_file.write('******{}******\\n'.format('RF (GA)')+report_str+'\\n'); print(report_str)\n",
    "cm=confusion_matrix(y_true,y_predict)\n",
    "f,ax=plt.subplots(figsize=(18,14))\n",
    "sns.heatmap(cm,annot=True,linewidth=0.5,linecolor=\"red\",fmt=\".0f\",ax=ax)\n",
    "ax.set_xticklabels(label_names)\n",
    "ax.set_yticklabels(label_names)\n",
    "plt.xlabel(\"y_pred\")\n",
    "plt.ylabel(\"y_true\")\n",
    "plt.savefig(os.path.join(img_dir, 'RF_GA.pdf'))\n",
    "plt.show()"
   ]
  },
  {
   "cell_type": "code",
   "execution_count": null,
   "metadata": {},
   "outputs": [],
   "source": [
    "# Add to output sheet\n",
    "result_dict = {\n",
    "    'Accuracy': rf_score,\n",
    "    'Precision': precision,\n",
    "    'Recall': recall,\n",
    "    'F1-Score': fscore,\n",
    "    'HPO_time': t2-t1,\n",
    "    'Train_time': t4-t3,\n",
    "    'Predict_time_per_record': (t6-t5)/len_test\n",
    "}\n",
    "output_df = output_df.append(result_dict, ignore_index=True)\n",
    "# Add index name\n",
    "output_index.append('RF (GA)')"
   ]
  },
  {
   "cell_type": "markdown",
   "metadata": {},
   "source": [
    "#### Apply DT"
   ]
  },
  {
   "cell_type": "code",
   "execution_count": null,
   "metadata": {
    "collapsed": false
   },
   "outputs": [
    {
     "name": "stdout",
     "output_type": "stream",
     "text": [
      "Accuracy of DT: 0.9252481849162839\n",
      "Precision of DT: 0.9257031294401957\n",
      "Recall of DT: 0.9252481849162839\n",
      "F1-score of DT: 0.924588163155752\n",
      "              precision    recall  f1-score   support\n",
      "\n",
      "           0       0.41      0.54      0.47       536\n",
      "           1       0.28      0.21      0.24       359\n",
      "           2       0.45      0.59      0.51       107\n",
      "           3       0.04      0.03      0.03        73\n",
      "           4       0.63      0.45      0.52       215\n",
      "           5       0.45      0.46      0.46       127\n",
      "           6       0.99      0.98      0.98      1034\n",
      "           7       0.99      0.99      0.99     10646\n",
      "           8       0.76      0.66      0.71        64\n",
      "           9       0.85      0.86      0.85       302\n",
      "          10       0.83      0.86      0.85        35\n",
      "\n",
      "    accuracy                           0.93     13498\n",
      "   macro avg       0.61      0.60      0.60     13498\n",
      "weighted avg       0.93      0.93      0.92     13498\n",
      "\n"
     ]
    },
    {
     "data": {
      "image/png": "[encoded data removed]",
      "text/plain": [
       "<Figure size 360x360 with 2 Axes>"
      ]
     },
     "metadata": {
      "needs_background": "light"
     },
     "output_type": "display_data"
    }
   ],
   "source": [
    "dt = DecisionTreeClassifier(random_state = 0)\n",
    "t1 = time.time()\n",
    "dt.fit(X_train,y_train)\n",
    "t2 = time.time() \n",
    "dt_score=dt.score(X_test,y_test)\n",
    "t3 = time.time()\n",
    "y_predict=dt.predict(X_test)\n",
    "t4 = time.time()\n",
    "y_true=y_test\n",
    "print('Accuracy of DT: '+ str(dt_score))\n",
    "precision,recall,fscore,none= precision_recall_fscore_support(y_true, y_predict, average='weighted') \n",
    "print('Precision of DT: '+(str(precision)))\n",
    "print('Recall of DT: '+(str(recall)))\n",
    "print('F1-score of DT: '+(str(fscore)))\n",
    "report_str = classification_report(y_true,y_predict,target_names=label_names); log_file.write('******{}******\\n'.format('DT (Original)')+report_str+'\\n'); print(report_str)\n",
    "cm=confusion_matrix(y_true,y_predict)\n",
    "f,ax=plt.subplots(figsize=(18,14))\n",
    "sns.heatmap(cm,annot=True,linewidth=0.5,linecolor=\"red\",fmt=\".0f\",ax=ax)\n",
    "ax.set_xticklabels(label_names)\n",
    "ax.set_yticklabels(label_names)\n",
    "plt.xlabel(\"y_pred\")\n",
    "plt.ylabel(\"y_true\")\n",
    "plt.savefig(os.path.join(img_dir, 'DT_original.pdf'))\n",
    "plt.show()"
   ]
  },
  {
   "cell_type": "code",
   "execution_count": null,
   "metadata": {},
   "outputs": [],
   "source": [
    "# Add to output sheet\n",
    "result_dict = {\n",
    "    'Accuracy': dt_score,\n",
    "    'Precision': precision,\n",
    "    'Recall': recall,\n",
    "    'F1-Score': fscore,\n",
    "    'Train_time': t2-t1,\n",
    "    'Predict_time_per_record': (t4-t3)/len_test,\n",
    "    'HPO_time': np.NaN\n",
    "}\n",
    "output_df = output_df.append(result_dict, ignore_index=True)\n",
    "# Add index name\n",
    "output_index.append('DT (Original)')"
   ]
  },
  {
   "cell_type": "markdown",
   "metadata": {},
   "source": [
    "#### Hyperparameter optimization (HPO) of decision tree using Bayesian optimization with tree-based Parzen estimator (BO-TPE)\n",
    "Based on the GitHub repo for HPO: https://github.com/LiYangHart/Hyperparameter-Optimization-of-Machine-Learning-Algorithms"
   ]
  },
  {
   "cell_type": "code",
   "execution_count": null,
   "metadata": {
    "collapsed": false
   },
   "outputs": [
    {
     "name": "stdout",
     "output_type": "stream",
     "text": [
      "100%|██████████| 50/50 [00:10<00:00,  4.70trial/s, best loss: -0.937842643354571] \n",
      "Decision tree: Hyperopt estimated optimum {'criterion': 1, 'max_depth': 10.0, 'max_features': 14.0, 'min_samples_leaf': 3.0, 'min_samples_split': 3.0}\n"
     ]
    }
   ],
   "source": [
    "# Hyperparameter optimization of decision tree\n",
    "from hyperopt import hp, fmin, tpe, STATUS_OK, Trials\n",
    "from sklearn.model_selection import cross_val_score, StratifiedKFold\n",
    "# Define the objective function\n",
    "def objective(params):\n",
    "    params = {\n",
    "        'max_depth': int(params['max_depth']),\n",
    "        'max_features': int(params['max_features']),\n",
    "        \"min_samples_split\":int(params['min_samples_split']),\n",
    "        \"min_samples_leaf\":int(params['min_samples_leaf']),\n",
    "        \"criterion\":str(params['criterion'])\n",
    "    }\n",
    "    clf = DecisionTreeClassifier( **params)\n",
    "    clf.fit(X_train,y_train)\n",
    "    score=clf.score(X_test,y_test)\n",
    "\n",
    "    return {'loss':-score, 'status': STATUS_OK }\n",
    "# Define the hyperparameter configuration space\n",
    "available_criterion = ['gini','entropy']\n",
    "space = {\n",
    "    'max_depth': hp.quniform('max_depth', 5, 50, 1),\n",
    "    \"max_features\":hp.quniform('max_features', 1, 20, 1),\n",
    "    \"min_samples_split\":hp.quniform('min_samples_split',2,11,1),\n",
    "    \"min_samples_leaf\":hp.quniform('min_samples_leaf',1,11,1),\n",
    "    \"criterion\":hp.choice('criterion',available_criterion)\n",
    "}\n",
    "\n",
    "t1 = time.time()\n",
    "\n",
    "best = fmin(fn=objective,\n",
    "            space=space,\n",
    "            algo=tpe.suggest,\n",
    "            max_evals=50)\n",
    "\n",
    "t2 = time.time()\n",
    "\n",
    "print(\"Decision tree: Hyperopt estimated optimum {}\".format(best))"
   ]
  },
  {
   "cell_type": "code",
   "execution_count": null,
   "metadata": {
    "collapsed": false
   },
   "outputs": [
    {
     "name": "stdout",
     "output_type": "stream",
     "text": [
      "Accuracy of DT: 0.9375463031560232\n",
      "Precision of DT: 0.943092848462321\n",
      "Recall of DT: 0.9375463031560232\n",
      "F1-score of DT: 0.935396470669343\n",
      "              precision    recall  f1-score   support\n",
      "\n",
      "           0       0.52      0.76      0.62       536\n",
      "           1       0.59      0.24      0.34       359\n",
      "           2       0.53      0.94      0.68       107\n",
      "           3       0.13      0.05      0.08        73\n",
      "           4       0.82      0.41      0.55       215\n",
      "           5       0.45      0.73      0.56       127\n",
      "           6       1.00      0.97      0.98      1034\n",
      "           7       1.00      0.99      0.99     10646\n",
      "           8       0.52      0.70      0.60        64\n",
      "           9       0.80      0.87      0.83       302\n",
      "          10       0.72      0.89      0.79        35\n",
      "\n",
      "    accuracy                           0.94     13498\n",
      "   macro avg       0.64      0.69      0.64     13498\n",
      "weighted avg       0.94      0.94      0.94     13498\n",
      "\n"
     ]
    },
    {
     "data": {
      "image/png": "[encoded data removed]",
      "text/plain": [
       "<Figure size 360x360 with 2 Axes>"
      ]
     },
     "metadata": {
      "needs_background": "light"
     },
     "output_type": "display_data"
    }
   ],
   "source": [
    "params = {\n",
    "    'max_depth': int(best['max_depth']),\n",
    "    'max_features': int(best['max_features']),\n",
    "    \"min_samples_split\":int(best['min_samples_split']),\n",
    "    \"min_samples_leaf\":int(best['min_samples_leaf']),\n",
    "    \"criterion\":available_criterion[int(best['criterion'])]\n",
    "}\n",
    "dt_hpo = DecisionTreeClassifier(**params)\n",
    "t3 = time.time()\n",
    "dt_hpo.fit(X_train,y_train)\n",
    "t4 = time.time()\n",
    "dt_score=dt_hpo.score(X_test,y_test)\n",
    "t5 = time.time()\n",
    "y_predict=dt_hpo.predict(X_test)\n",
    "t6 = time.time()\n",
    "y_true=y_test\n",
    "print('Accuracy of DT: '+ str(dt_score))\n",
    "precision,recall,fscore,none= precision_recall_fscore_support(y_true, y_predict, average='weighted') \n",
    "print('Precision of DT: '+(str(precision)))\n",
    "print('Recall of DT: '+(str(recall)))\n",
    "print('F1-score of DT: '+(str(fscore)))\n",
    "report_str = classification_report(y_true,y_predict,target_names=label_names); log_file.write('******{}******\\n'.format('DT (BO-TPE)')+report_str+'\\n'); print(report_str)\n",
    "cm=confusion_matrix(y_true,y_predict)\n",
    "f,ax=plt.subplots(figsize=(18,14))\n",
    "sns.heatmap(cm,annot=True,linewidth=0.5,linecolor=\"red\",fmt=\".0f\",ax=ax)\n",
    "ax.set_xticklabels(label_names)\n",
    "ax.set_yticklabels(label_names)\n",
    "plt.xlabel(\"y_pred\")\n",
    "plt.ylabel(\"y_true\")\n",
    "plt.savefig(os.path.join(img_dir, 'DT_BO-TPE.pdf'))\n",
    "plt.show()"
   ]
  },
  {
   "cell_type": "code",
   "execution_count": null,
   "metadata": {},
   "outputs": [],
   "source": [
    "# Add to output sheet\n",
    "result_dict = {\n",
    "    'Accuracy': dt_score,\n",
    "    'Precision': precision,\n",
    "    'Recall': recall,\n",
    "    'F1-Score': fscore,\n",
    "    'HPO_time': t2-t1,\n",
    "    'Train_time': t4-t3,\n",
    "    'Predict_time_per_record': (t6-t5)/len_test\n",
    "}\n",
    "output_df = output_df.append(result_dict, ignore_index=True)\n",
    "# Add index name\n",
    "output_index.append('DT (BO-TPE)')"
   ]
  },
  {
   "cell_type": "code",
   "execution_count": null,
   "metadata": {
    "collapsed": true
   },
   "outputs": [],
   "source": [
    "dt_train=dt_hpo.predict(X_train)\n",
    "dt_test=dt_hpo.predict(X_test)"
   ]
  },
  {
   "cell_type": "markdown",
   "metadata": {},
   "source": [
    "#### Hyperparameter optimization (HPO) of decision tree using Particle Swarm Optimization (PSO)\n",
    "Based on the GitHub repo for HPO: https://github.com/LiYangHart/Hyperparameter-Optimization-of-Machine-Learning-Algorithms"
   ]
  },
  {
   "cell_type": "code",
   "execution_count": null,
   "metadata": {},
   "outputs": [],
   "source": [
    "#Random Forest\n",
    "import optunity\n",
    "import optunity.metrics\n",
    "\n",
    "data=X_train\n",
    "labels=y_train.tolist()\n",
    "Y_train = y_train\n",
    "Y_test = y_test\n",
    "# Define the hyperparameter configuration space\n",
    "search = {\n",
    "    'max_features': [1, 20],\n",
    "    'max_depth': [5,50],\n",
    "    \"min_samples_split\":[2,11],\n",
    "    \"min_samples_leaf\":[1,11],\n",
    "    \"criterion\":[0,1]\n",
    "}\n",
    "available_criterion = ['gini', 'entropy']\n",
    "# Define the objective function\n",
    "@optunity.cross_validated(x=data, y=labels, num_folds=3)\n",
    "def performance(x_train, y_train, x_test, y_test,max_features=None,max_depth=None,min_samples_split=None,min_samples_leaf=None,criterion=None):\n",
    "    # fit the model\n",
    "    if criterion<0.5:\n",
    "        cri=available_criterion[0]\n",
    "    else:\n",
    "        cri=available_criterion[1]\n",
    "    model = DecisionTreeClassifier(max_features=int(max_features),\n",
    "                                   max_depth=int(max_depth),\n",
    "                                   min_samples_split=int(min_samples_split),\n",
    "                                   min_samples_leaf=int(min_samples_leaf),\n",
    "                                   criterion=cri,\n",
    "                                  )\n",
    "    model.fit(X_train, Y_train)\n",
    "    predictions = model.predict(X_test)\n",
    "    # scores=np.mean(cross_val_score(model, X, y, cv=3, n_jobs=-1,\n",
    "                                    # scoring=\"accuracy\"))\n",
    "    # return optunity.metrics.roc_auc(y_test, predictions, positive=True)\n",
    "    return optunity.metrics.accuracy(Y_test, predictions)\n",
    "\n",
    "t1 = time.time()\n",
    "\n",
    "optimal_configuration, info, _ = optunity.maximize(performance,\n",
    "                                                  solver_name='particle swarm',\n",
    "                                                  num_evals=20,\n",
    "                                                   **search\n",
    "                                                  )\n",
    "\n",
    "t2 = time.time()\n",
    "\n",
    "print(optimal_configuration)\n",
    "print(\"Accuracy:\"+ str(info.optimum))"
   ]
  },
  {
   "cell_type": "code",
   "execution_count": null,
   "metadata": {},
   "outputs": [],
   "source": [
    "params = {\n",
    "    'min_samples_leaf': int(optimal_configuration['min_samples_leaf']), \n",
    "    'max_depth': int(optimal_configuration['max_depth']), \n",
    "    'min_samples_split': int(optimal_configuration['min_samples_split']), \n",
    "    'max_features': int(optimal_configuration['max_features']), \n",
    "    'criterion': available_criterion[int(optimal_configuration['criterion']+0.5)]\n",
    "}\n",
    "dt_hpo = DecisionTreeClassifier(**params)\n",
    "t3 = time.time()\n",
    "dt_hpo.fit(X_train,y_train)\n",
    "t4 = time.time()\n",
    "dt_score=dt_hpo.score(X_test,y_test)\n",
    "t5 = time.time()\n",
    "y_predict=dt_hpo.predict(X_test)\n",
    "t6 = time.time()\n",
    "y_true=y_test\n",
    "print('Accuracy of DT: '+ str(dt_score))\n",
    "precision,recall,fscore,none= precision_recall_fscore_support(y_true, y_predict, average='weighted') \n",
    "print('Precision of DT: '+(str(precision)))\n",
    "print('Recall of DT: '+(str(recall)))\n",
    "print('F1-score of DT: '+(str(fscore)))\n",
    "report_str = classification_report(y_true,y_predict,target_names=label_names); log_file.write('******{}******\\n'.format('DT (PSO)')+report_str+'\\n'); print(report_str)\n",
    "cm=confusion_matrix(y_true,y_predict)\n",
    "f,ax=plt.subplots(figsize=(18,14))\n",
    "sns.heatmap(cm,annot=True,linewidth=0.5,linecolor=\"red\",fmt=\".0f\",ax=ax)\n",
    "ax.set_xticklabels(label_names)\n",
    "ax.set_yticklabels(label_names)\n",
    "plt.xlabel(\"y_pred\")\n",
    "plt.ylabel(\"y_true\")\n",
    "plt.savefig(os.path.join(img_dir, 'DT_PSO.pdf'))\n",
    "plt.show()"
   ]
  },
  {
   "cell_type": "code",
   "execution_count": null,
   "metadata": {},
   "outputs": [],
   "source": [
    "# Add to output sheet\n",
    "result_dict = {\n",
    "    'Accuracy': dt_score,\n",
    "    'Precision': precision,\n",
    "    'Recall': recall,\n",
    "    'F1-Score': fscore,\n",
    "    'HPO_time': t2-t1,\n",
    "    'Train_time': t4-t3,\n",
    "    'Predict_time_per_record': (t6-t5)/len_test\n",
    "}\n",
    "output_df = output_df.append(result_dict, ignore_index=True)\n",
    "# Add index name\n",
    "output_index.append('DT (PSO)')"
   ]
  },
  {
   "cell_type": "markdown",
   "metadata": {},
   "source": [
    "#### Hyperparameter optimization (HPO) of decision tree using Genetic Algorithm (GA)\n",
    "Based on the GitHub repo for HPO: https://github.com/LiYangHart/Hyperparameter-Optimization-of-Machine-Learning-Algorithms"
   ]
  },
  {
   "cell_type": "code",
   "execution_count": null,
   "metadata": {},
   "outputs": [],
   "source": [
    "#Random Forest\n",
    "from tpot import TPOTClassifier\n",
    "# Define the hyperparameter configuration space\n",
    "parameters = {\n",
    "    \"max_features\":range(1,20),\n",
    "    'max_depth': range(10,100),\n",
    "    \"min_samples_split\":range(2,11),\n",
    "    \"min_samples_leaf\":range(1,11),\n",
    "    \"criterion\":['gini','entropy']\n",
    "}\n",
    "# Set the hyperparameters of GA                 \n",
    "ga = TPOTClassifier(generations= 3, population_size= 10, offspring_size= 5,\n",
    "                                 verbosity= 3, early_stop= 5,\n",
    "                                 config_dict=\n",
    "                                 {'sklearn.tree.DecisionTreeClassifier': parameters}, \n",
    "                                 cv = 3, scoring = 'accuracy')\n",
    "t1 = time.time()\n",
    "ga.fit(X_combined, y_combined)\n",
    "t2 = time.time()"
   ]
  },
  {
   "cell_type": "code",
   "execution_count": null,
   "metadata": {},
   "outputs": [
    {
     "ename": "UnboundLocalError",
     "evalue": "local variable 'pipeline' referenced before assignment",
     "output_type": "error",
     "traceback": [
      "\u001b[1;31m---------------------------------------------------------------------------\u001b[0m",
      "\u001b[1;31mUnboundLocalError\u001b[0m                         Traceback (most recent call last)",
      "\u001b[1;32md:\\Documents\\GitHub\\IDS_project\\MTH-IDS_Adoptation_UNSW-NB15\\MTH_IDS_Adoption_UNSW-NB15_with_output.ipynb Cell 104\u001b[0m in \u001b[0;36m<cell line: 1>\u001b[1;34m()\u001b[0m\n\u001b[1;32m----> <a href='vscode-notebook-cell:/d%3A/Documents/GitHub/IDS_project/MTH-IDS_Adoptation_UNSW-NB15/MTH_IDS_Adoption_UNSW-NB15_with_output.ipynb#ch0000102?line=0'>1</a>\u001b[0m dt_hpo \u001b[39m=\u001b[39m DecisionTreeClassifier(\u001b[39m*\u001b[39m\u001b[39m*\u001b[39mget_ga_optimized_parameters(ga, \u001b[39m'\u001b[39;49m\u001b[39mDecisionTreeClassifier\u001b[39;49m\u001b[39m'\u001b[39;49m))\n\u001b[0;32m      <a href='vscode-notebook-cell:/d%3A/Documents/GitHub/IDS_project/MTH-IDS_Adoptation_UNSW-NB15/MTH_IDS_Adoption_UNSW-NB15_with_output.ipynb#ch0000102?line=1'>2</a>\u001b[0m dt_hpo\u001b[39m.\u001b[39mfit(X_train,y_train)\n\u001b[0;32m      <a href='vscode-notebook-cell:/d%3A/Documents/GitHub/IDS_project/MTH-IDS_Adoptation_UNSW-NB15/MTH_IDS_Adoption_UNSW-NB15_with_output.ipynb#ch0000102?line=2'>3</a>\u001b[0m dt_score\u001b[39m=\u001b[39mdt_hpo\u001b[39m.\u001b[39mscore(X_test,y_test)\n",
      "\u001b[1;32md:\\Documents\\GitHub\\IDS_project\\MTH-IDS_Adoptation_UNSW-NB15\\MTH_IDS_Adoption_UNSW-NB15_with_output.ipynb Cell 104\u001b[0m in \u001b[0;36mget_ga_optimized_parameters\u001b[1;34m(fitted_tpot_obj, classifier_name, temp_file_name)\u001b[0m\n\u001b[0;32m     <a href='vscode-notebook-cell:/d%3A/Documents/GitHub/IDS_project/MTH-IDS_Adoptation_UNSW-NB15/MTH_IDS_Adoption_UNSW-NB15_with_output.ipynb#ch0000102?line=25'>26</a>\u001b[0m         \u001b[39mbreak\u001b[39;00m\n\u001b[0;32m     <a href='vscode-notebook-cell:/d%3A/Documents/GitHub/IDS_project/MTH-IDS_Adoptation_UNSW-NB15/MTH_IDS_Adoption_UNSW-NB15_with_output.ipynb#ch0000102?line=26'>27</a>\u001b[0m \u001b[39m# Extract the optimized parameters\u001b[39;00m\n\u001b[1;32m---> <a href='vscode-notebook-cell:/d%3A/Documents/GitHub/IDS_project/MTH-IDS_Adoptation_UNSW-NB15/MTH_IDS_Adoption_UNSW-NB15_with_output.ipynb#ch0000102?line=27'>28</a>\u001b[0m start_index \u001b[39m=\u001b[39m pipeline\u001b[39m.\u001b[39mindex(classifier_name\u001b[39m+\u001b[39m\u001b[39m'\u001b[39m\u001b[39m(\u001b[39m\u001b[39m'\u001b[39m)\n\u001b[0;32m     <a href='vscode-notebook-cell:/d%3A/Documents/GitHub/IDS_project/MTH-IDS_Adoptation_UNSW-NB15/MTH_IDS_Adoption_UNSW-NB15_with_output.ipynb#ch0000102?line=28'>29</a>\u001b[0m end_index \u001b[39m=\u001b[39m pipeline\u001b[39m.\u001b[39mindex(\u001b[39m'\u001b[39m\u001b[39m)\u001b[39m\u001b[39m'\u001b[39m)\n\u001b[0;32m     <a href='vscode-notebook-cell:/d%3A/Documents/GitHub/IDS_project/MTH-IDS_Adoptation_UNSW-NB15/MTH_IDS_Adoption_UNSW-NB15_with_output.ipynb#ch0000102?line=29'>30</a>\u001b[0m parameters_str \u001b[39m=\u001b[39m pipeline[start_index\u001b[39m+\u001b[39m\u001b[39mlen\u001b[39m(classifier_name)\u001b[39m+\u001b[39m\u001b[39m1\u001b[39m: end_index]\n",
      "\u001b[1;31mUnboundLocalError\u001b[0m: local variable 'pipeline' referenced before assignment"
     ]
    }
   ],
   "source": [
    "dt_hpo = DecisionTreeClassifier(**get_ga_optimized_parameters(ga, 'DecisionTreeClassifier'))\n",
    "t3 = time.time()\n",
    "dt_hpo.fit(X_train,y_train)\n",
    "t4 = time.time()\n",
    "dt_score=dt_hpo.score(X_test,y_test)\n",
    "t5 = time.time()\n",
    "y_predict=dt_hpo.predict(X_test)\n",
    "t6 = time.time()\n",
    "y_true=y_test\n",
    "print('Accuracy of DT: '+ str(dt_score))\n",
    "precision,recall,fscore,none= precision_recall_fscore_support(y_true, y_predict, average='weighted') \n",
    "print('Precision of DT: '+(str(precision)))\n",
    "print('Recall of DT: '+(str(recall)))\n",
    "print('F1-score of DT: '+(str(fscore)))\n",
    "report_str = classification_report(y_true,y_predict,target_names=label_names); log_file.write('******{}******\\n'.format('DT (GA)')+report_str+'\\n'); print(report_str)\n",
    "cm=confusion_matrix(y_true,y_predict)\n",
    "f,ax=plt.subplots(figsize=(18,14))\n",
    "sns.heatmap(cm,annot=True,linewidth=0.5,linecolor=\"red\",fmt=\".0f\",ax=ax)\n",
    "ax.set_xticklabels(label_names)\n",
    "ax.set_yticklabels(label_names)\n",
    "plt.xlabel(\"y_pred\")\n",
    "plt.ylabel(\"y_true\")\n",
    "plt.savefig(os.path.join(img_dir, 'DT_GA.pdf'))\n",
    "plt.show()"
   ]
  },
  {
   "cell_type": "code",
   "execution_count": null,
   "metadata": {},
   "outputs": [],
   "source": [
    "# Add to output sheet\n",
    "result_dict = {\n",
    "    'Accuracy': dt_score,\n",
    "    'Precision': precision,\n",
    "    'Recall': recall,\n",
    "    'F1-Score': fscore,\n",
    "    'HPO_time': t2-t1,\n",
    "    'Train_time': t4-t3,\n",
    "    'Predict_time_per_record': (t6-t5)/len_test\n",
    "}\n",
    "output_df = output_df.append(result_dict, ignore_index=True)\n",
    "# Add index name\n",
    "output_index.append('DT (GA)')"
   ]
  },
  {
   "cell_type": "markdown",
   "metadata": {},
   "source": [
    "#### Apply ET"
   ]
  },
  {
   "cell_type": "code",
   "execution_count": null,
   "metadata": {
    "collapsed": false
   },
   "outputs": [
    {
     "name": "stdout",
     "output_type": "stream",
     "text": [
      "Accuracy of ET: 0.9310268187879686\n",
      "Precision of ET: 0.9320035200974949\n",
      "Recall of ET: 0.9310268187879686\n",
      "F1-score of ET: 0.9301638197966925\n",
      "              precision    recall  f1-score   support\n",
      "\n",
      "           0       0.43      0.59      0.50       536\n",
      "           1       0.31      0.22      0.26       359\n",
      "           2       0.45      0.59      0.51       107\n",
      "           3       0.07      0.04      0.05        73\n",
      "           4       0.72      0.46      0.56       215\n",
      "           5       0.55      0.59      0.57       127\n",
      "           6       0.99      0.98      0.98      1034\n",
      "           7       1.00      0.99      0.99     10646\n",
      "           8       0.74      0.66      0.69        64\n",
      "           9       0.85      0.95      0.90       302\n",
      "          10       0.75      0.86      0.80        35\n",
      "\n",
      "    accuracy                           0.93     13498\n",
      "   macro avg       0.62      0.63      0.62     13498\n",
      "weighted avg       0.93      0.93      0.93     13498\n",
      "\n"
     ]
    },
    {
     "data": {
      "image/png": "[encoded data removed]",
      "text/plain": [
       "<Figure size 360x360 with 2 Axes>"
      ]
     },
     "metadata": {
      "needs_background": "light"
     },
     "output_type": "display_data"
    }
   ],
   "source": [
    "et = ExtraTreesClassifier(random_state = 0)\n",
    "t1 = time.time()\n",
    "et.fit(X_train,y_train)\n",
    "t2 = time.time() \n",
    "et_score=et.score(X_test,y_test)\n",
    "t3 = time.time()\n",
    "y_predict=et.predict(X_test)\n",
    "t4 = time.time()\n",
    "y_true=y_test\n",
    "print('Accuracy of ET: '+ str(et_score))\n",
    "precision,recall,fscore,none= precision_recall_fscore_support(y_true, y_predict, average='weighted') \n",
    "print('Precision of ET: '+(str(precision)))\n",
    "print('Recall of ET: '+(str(recall)))\n",
    "print('F1-score of ET: '+(str(fscore)))\n",
    "report_str = classification_report(y_true,y_predict,target_names=label_names); log_file.write('******{}******\\n'.format('ET (Original)')+report_str+'\\n'); print(report_str)\n",
    "cm=confusion_matrix(y_true,y_predict)\n",
    "f,ax=plt.subplots(figsize=(18,14))\n",
    "sns.heatmap(cm,annot=True,linewidth=0.5,linecolor=\"red\",fmt=\".0f\",ax=ax)\n",
    "ax.set_xticklabels(label_names)\n",
    "ax.set_yticklabels(label_names)\n",
    "plt.xlabel(\"y_pred\")\n",
    "plt.ylabel(\"y_true\")\n",
    "plt.savefig(os.path.join(img_dir, 'ET_original.pdf'))\n",
    "plt.show()"
   ]
  },
  {
   "cell_type": "code",
   "execution_count": null,
   "metadata": {},
   "outputs": [],
   "source": [
    "# Add to output sheet\n",
    "result_dict = {\n",
    "    'Accuracy': et_score,\n",
    "    'Precision': precision,\n",
    "    'Recall': recall,\n",
    "    'F1-Score': fscore,\n",
    "    'Train_time': t2-t1,\n",
    "    'Predict_time_per_record': (t4-t3)/len_test,\n",
    "    'HPO_time': np.NaN\n",
    "}\n",
    "output_df = output_df.append(result_dict, ignore_index=True)\n",
    "# Add index name\n",
    "output_index.append('ET (Original)')"
   ]
  },
  {
   "cell_type": "markdown",
   "metadata": {},
   "source": [
    "#### Hyperparameter optimization (HPO) of extra trees using Bayesian optimization with tree-based Parzen estimator (BO-TPE)\n",
    "Based on the GitHub repo for HPO: https://github.com/LiYangHart/Hyperparameter-Optimization-of-Machine-Learning-Algorithms"
   ]
  },
  {
   "cell_type": "code",
   "execution_count": null,
   "metadata": {
    "collapsed": false
   },
   "outputs": [
    {
     "name": "stdout",
     "output_type": "stream",
     "text": [
      "100%|██████████| 20/20 [01:03<00:00,  3.15s/trial, best loss: -0.9393243443473107]\n",
      "Random Forest: Hyperopt estimated optimum {'criterion': 0, 'max_depth': 16.0, 'max_features': 14.0, 'min_samples_leaf': 3.0, 'min_samples_split': 10.0, 'n_estimators': 75.0}\n"
     ]
    }
   ],
   "source": [
    "# Hyperparameter optimization of extra trees\n",
    "from hyperopt import hp, fmin, tpe, STATUS_OK, Trials\n",
    "from sklearn.model_selection import cross_val_score, StratifiedKFold\n",
    "# Define the objective function\n",
    "def objective(params):\n",
    "    params = {\n",
    "        'n_estimators': int(params['n_estimators']), \n",
    "        'max_depth': int(params['max_depth']),\n",
    "        'max_features': int(params['max_features']),\n",
    "        \"min_samples_split\":int(params['min_samples_split']),\n",
    "        \"min_samples_leaf\":int(params['min_samples_leaf']),\n",
    "        \"criterion\":str(params['criterion'])\n",
    "    }\n",
    "    clf = ExtraTreesClassifier( **params)\n",
    "    clf.fit(X_train,y_train)\n",
    "    score=clf.score(X_test,y_test)\n",
    "\n",
    "    return {'loss':-score, 'status': STATUS_OK }\n",
    "# Define the hyperparameter configuration space\n",
    "available_criterion = ['gini','entropy']\n",
    "space = {\n",
    "    'n_estimators': hp.quniform('n_estimators', 10, 200, 1),\n",
    "    'max_depth': hp.quniform('max_depth', 5, 50, 1),\n",
    "    \"max_features\":hp.quniform('max_features', 1, 20, 1),\n",
    "    \"min_samples_split\":hp.quniform('min_samples_split',2,11,1),\n",
    "    \"min_samples_leaf\":hp.quniform('min_samples_leaf',1,11,1),\n",
    "    \"criterion\":hp.choice('criterion',available_criterion)\n",
    "}\n",
    "\n",
    "t1 = time.time()\n",
    "\n",
    "best = fmin(fn=objective,\n",
    "            space=space,\n",
    "            algo=tpe.suggest,\n",
    "            max_evals=20)\n",
    "\n",
    "t2 = time.time()\n",
    "\n",
    "print(\"Random Forest: Hyperopt estimated optimum {}\".format(best))"
   ]
  },
  {
   "cell_type": "code",
   "execution_count": null,
   "metadata": {
    "collapsed": false
   },
   "outputs": [
    {
     "name": "stdout",
     "output_type": "stream",
     "text": [
      "Accuracy of ET: 0.9388057489998518\n",
      "Precision of ET: 0.9424155857262476\n",
      "Recall of ET: 0.9388057489998518\n",
      "F1-score of ET: 0.9364766360699387\n",
      "              precision    recall  f1-score   support\n",
      "\n",
      "           0       0.50      0.73      0.60       536\n",
      "           1       0.54      0.24      0.33       359\n",
      "           2       0.53      0.90      0.66       107\n",
      "           3       0.12      0.05      0.07        73\n",
      "           4       0.83      0.43      0.56       215\n",
      "           5       0.52      0.64      0.57       127\n",
      "           6       0.99      0.97      0.98      1034\n",
      "           7       1.00      0.99      0.99     10646\n",
      "           8       0.62      0.75      0.68        64\n",
      "           9       0.80      0.92      0.86       302\n",
      "          10       0.62      0.91      0.74        35\n",
      "\n",
      "    accuracy                           0.94     13498\n",
      "   macro avg       0.64      0.69      0.64     13498\n",
      "weighted avg       0.94      0.94      0.94     13498\n",
      "\n"
     ]
    },
    {
     "data": {
      "image/png": "[encoded data removed]",
      "text/plain": [
       "<Figure size 360x360 with 2 Axes>"
      ]
     },
     "metadata": {
      "needs_background": "light"
     },
     "output_type": "display_data"
    }
   ],
   "source": [
    "params = {\n",
    "    'n_estimators': int(best['n_estimators']), \n",
    "    'max_depth': int(best['max_depth']),\n",
    "    'max_features': int(best['max_features']),\n",
    "    \"min_samples_split\":int(best['min_samples_split']),\n",
    "    \"min_samples_leaf\":int(best['min_samples_leaf']),\n",
    "    \"criterion\":available_criterion[int(best['criterion'])]\n",
    "}\n",
    "et_hpo = ExtraTreesClassifier(**params)\n",
    "t3 = time.time()\n",
    "et_hpo.fit(X_train,y_train) \n",
    "t4 = time.time()\n",
    "et_score=et_hpo.score(X_test,y_test)\n",
    "t5 = time.time()\n",
    "y_predict=et_hpo.predict(X_test)\n",
    "t6 = time.time()\n",
    "y_true=y_test\n",
    "print('Accuracy of ET: '+ str(et_score))\n",
    "precision,recall,fscore,none= precision_recall_fscore_support(y_true, y_predict, average='weighted') \n",
    "print('Precision of ET: '+(str(precision)))\n",
    "print('Recall of ET: '+(str(recall)))\n",
    "print('F1-score of ET: '+(str(fscore)))\n",
    "report_str = classification_report(y_true,y_predict,target_names=label_names); log_file.write('******{}******\\n'.format('ET (BO-TPE)')+report_str+'\\n'); print(report_str)\n",
    "cm=confusion_matrix(y_true,y_predict)\n",
    "f,ax=plt.subplots(figsize=(18,14))\n",
    "sns.heatmap(cm,annot=True,linewidth=0.5,linecolor=\"red\",fmt=\".0f\",ax=ax)\n",
    "ax.set_xticklabels(label_names)\n",
    "ax.set_yticklabels(label_names)\n",
    "plt.xlabel(\"y_pred\")\n",
    "plt.ylabel(\"y_true\")\n",
    "plt.savefig(os.path.join(img_dir, 'ET_BO-TPE.pdf'))\n",
    "plt.show()"
   ]
  },
  {
   "cell_type": "code",
   "execution_count": null,
   "metadata": {},
   "outputs": [],
   "source": [
    "# Add to output sheet\n",
    "result_dict = {\n",
    "    'Accuracy': et_score,\n",
    "    'Precision': precision,\n",
    "    'Recall': recall,\n",
    "    'F1-Score': fscore,\n",
    "    'HPO_time': t2-t1,\n",
    "    'Train_time': t4-t3,\n",
    "    'Predict_time_per_record': (t6-t5)/len_test\n",
    "}\n",
    "output_df = output_df.append(result_dict, ignore_index=True)\n",
    "# Add index name\n",
    "output_index.append('ET (BO-TPE)')"
   ]
  },
  {
   "cell_type": "code",
   "execution_count": null,
   "metadata": {
    "collapsed": true
   },
   "outputs": [],
   "source": [
    "et_train=et_hpo.predict(X_train)\n",
    "et_test=et_hpo.predict(X_test)"
   ]
  },
  {
   "cell_type": "markdown",
   "metadata": {},
   "source": [
    "#### Hyperparameter optimization (HPO) of extra trees using Particle Swarm Optimization (PSO)\n",
    "Based on the GitHub repo for HPO: https://github.com/LiYangHart/Hyperparameter-Optimization-of-Machine-Learning-Algorithms"
   ]
  },
  {
   "cell_type": "code",
   "execution_count": null,
   "metadata": {},
   "outputs": [],
   "source": [
    "#Random Forest\n",
    "import optunity\n",
    "import optunity.metrics\n",
    "\n",
    "data=X_train\n",
    "labels=y_train.tolist()\n",
    "Y_train = y_train\n",
    "Y_test = y_test\n",
    "# Define the hyperparameter configuration space\n",
    "search = {\n",
    "    'n_estimators': [10, 200],\n",
    "    'max_features': [1, 20],\n",
    "    'max_depth': [5,50],\n",
    "    \"min_samples_split\":[2,11],\n",
    "    \"min_samples_leaf\":[1,11],\n",
    "    \"criterion\":[0,1]\n",
    "}\n",
    "available_criterion = ['gini', 'entropy']\n",
    "# Define the objective function\n",
    "@optunity.cross_validated(x=data, y=labels, num_folds=3)\n",
    "def performance(x_train, y_train, x_test, y_test,n_estimators=None,max_features=None,max_depth=None,min_samples_split=None,min_samples_leaf=None,criterion=None):\n",
    "    # fit the model\n",
    "    if criterion<0.5:\n",
    "        cri=available_criterion[0]\n",
    "    else:\n",
    "        cri=available_criterion[1]\n",
    "    model = ExtraTreesClassifier(n_estimators=int(n_estimators),\n",
    "                                   max_features=int(max_features),\n",
    "                                   max_depth=int(max_depth),\n",
    "                                   min_samples_split=int(min_samples_split),\n",
    "                                   min_samples_leaf=int(min_samples_leaf),\n",
    "                                   criterion=cri,\n",
    "                                  )\n",
    "    model.fit(X_train, Y_train)\n",
    "    predictions = model.predict(X_test)\n",
    "    # scores=np.mean(cross_val_score(model, X, y, cv=3, n_jobs=-1,\n",
    "                                    # scoring=\"accuracy\"))\n",
    "    # return optunity.metrics.roc_auc(y_test, predictions, positive=True)\n",
    "    return optunity.metrics.accuracy(Y_test, predictions)\n",
    "\n",
    "t1 = time.time()\n",
    "\n",
    "optimal_configuration, info, _ = optunity.maximize(performance,\n",
    "                                                  solver_name='particle swarm',\n",
    "                                                  num_evals=20,\n",
    "                                                   **search\n",
    "                                                  )\n",
    "\n",
    "t2 = time.time()\n",
    "\n",
    "print(optimal_configuration)\n",
    "print(\"Accuracy:\"+ str(info.optimum))"
   ]
  },
  {
   "cell_type": "code",
   "execution_count": null,
   "metadata": {},
   "outputs": [],
   "source": [
    "params = {\n",
    "    'n_estimators': int(optimal_configuration['n_estimators']), \n",
    "    'min_samples_leaf': int(optimal_configuration['min_samples_leaf']), \n",
    "    'max_depth': int(optimal_configuration['max_depth']), \n",
    "    'min_samples_split': int(optimal_configuration['min_samples_split']), \n",
    "    'max_features': int(optimal_configuration['max_features']), \n",
    "    'criterion': available_criterion[int(optimal_configuration['criterion']+0.5)]\n",
    "}\n",
    "et_hpo = ExtraTreesClassifier(**params)\n",
    "t3 = time.time()\n",
    "et_hpo.fit(X_train,y_train)\n",
    "t4 = time.time() \n",
    "et_score=et_hpo.score(X_test,y_test)\n",
    "t5 = time.time()\n",
    "y_predict=et_hpo.predict(X_test)\n",
    "t6 = time.time()\n",
    "y_true=y_test\n",
    "print('Accuracy of ET: '+ str(et_score))\n",
    "precision,recall,fscore,none= precision_recall_fscore_support(y_true, y_predict, average='weighted') \n",
    "print('Precision of ET: '+(str(precision)))\n",
    "print('Recall of ET: '+(str(recall)))\n",
    "print('F1-score of ET: '+(str(fscore)))\n",
    "report_str = classification_report(y_true,y_predict,target_names=label_names); log_file.write('******{}******\\n'.format('ET (PSO)')+report_str+'\\n'); print(report_str)\n",
    "cm=confusion_matrix(y_true,y_predict)\n",
    "f,ax=plt.subplots(figsize=(18,14))\n",
    "sns.heatmap(cm,annot=True,linewidth=0.5,linecolor=\"red\",fmt=\".0f\",ax=ax)\n",
    "ax.set_xticklabels(label_names)\n",
    "ax.set_yticklabels(label_names)\n",
    "plt.xlabel(\"y_pred\")\n",
    "plt.ylabel(\"y_true\")\n",
    "plt.savefig(os.path.join(img_dir, 'ET_PSO.pdf'))\n",
    "plt.show()"
   ]
  },
  {
   "cell_type": "code",
   "execution_count": null,
   "metadata": {},
   "outputs": [],
   "source": [
    "# Add to output sheet\n",
    "result_dict = {\n",
    "    'Accuracy': et_score,\n",
    "    'Precision': precision,\n",
    "    'Recall': recall,\n",
    "    'F1-Score': fscore,\n",
    "    'HPO_time': t2-t1,\n",
    "    'Train_time': t4-t3,\n",
    "    'Predict_time_per_record': (t6-t5)/len_test\n",
    "}\n",
    "output_df = output_df.append(result_dict, ignore_index=True)\n",
    "# Add index name\n",
    "output_index.append('ET (PSO)')"
   ]
  },
  {
   "cell_type": "markdown",
   "metadata": {},
   "source": [
    "#### Hyperparameter optimization (HPO) of extra trees using Genetic Algorithm (GA)\n",
    "Based on the GitHub repo for HPO: https://github.com/LiYangHart/Hyperparameter-Optimization-of-Machine-Learning-Algorithms"
   ]
  },
  {
   "cell_type": "code",
   "execution_count": null,
   "metadata": {},
   "outputs": [],
   "source": [
    "#Random Forest\n",
    "from tpot import TPOTClassifier\n",
    "# Define the hyperparameter configuration space\n",
    "parameters = {\n",
    "    'n_estimators': range(20,200),\n",
    "    \"max_features\":range(1,20),\n",
    "    'max_depth': range(10,100),\n",
    "    \"min_samples_split\":range(2,11),\n",
    "    \"min_samples_leaf\":range(1,11),\n",
    "    \"criterion\":['gini','entropy']\n",
    "             }\n",
    "# Set the hyperparameters of GA                 \n",
    "ga = TPOTClassifier(generations= 3, population_size= 10, offspring_size= 5,\n",
    "                                 verbosity= 3, early_stop= 5,\n",
    "                                 config_dict=\n",
    "                                 {'sklearn.ensemble.ExtraTreesClassifier': parameters}, \n",
    "                                 cv = 3, scoring = 'accuracy')\n",
    "t1 = time.time()\n",
    "ga.fit(X_combined, y_combined)\n",
    "t2 = time.time()"
   ]
  },
  {
   "cell_type": "code",
   "execution_count": null,
   "metadata": {},
   "outputs": [],
   "source": [
    "et_hpo = ExtraTreesClassifier(**get_ga_optimized_parameters(ga, 'ExtraTreesClassifier'))\n",
    "t3 = time.time()\n",
    "et_hpo.fit(X_train,y_train)\n",
    "t4 = time.time() \n",
    "et_score=et_hpo.score(X_test,y_test)\n",
    "t5 = time.time()\n",
    "y_predict=et_hpo.predict(X_test)\n",
    "t6 = time.time()\n",
    "y_true=y_test\n",
    "print('Accuracy of ET: '+ str(et_score))\n",
    "precision,recall,fscore,none= precision_recall_fscore_support(y_true, y_predict, average='weighted') \n",
    "print('Precision of ET: '+(str(precision)))\n",
    "print('Recall of ET: '+(str(recall)))\n",
    "print('F1-score of ET: '+(str(fscore)))\n",
    "report_str = classification_report(y_true,y_predict,target_names=label_names); log_file.write('******{}******\\n'.format('ET (GA)')+report_str+'\\n'); print(report_str)\n",
    "cm=confusion_matrix(y_true,y_predict)\n",
    "f,ax=plt.subplots(figsize=(18,14))\n",
    "sns.heatmap(cm,annot=True,linewidth=0.5,linecolor=\"red\",fmt=\".0f\",ax=ax)\n",
    "ax.set_xticklabels(label_names)\n",
    "ax.set_yticklabels(label_names)\n",
    "plt.xlabel(\"y_pred\")\n",
    "plt.ylabel(\"y_true\")\n",
    "plt.savefig(os.path.join(img_dir, 'ET_GA.pdf'))\n",
    "plt.show()"
   ]
  },
  {
   "cell_type": "code",
   "execution_count": null,
   "metadata": {},
   "outputs": [],
   "source": [
    "# Add to output sheet\n",
    "result_dict = {\n",
    "    'Accuracy': et_score,\n",
    "    'Precision': precision,\n",
    "    'Recall': recall,\n",
    "    'F1-Score': fscore,\n",
    "    'HPO_time': t2-t1,\n",
    "    'Train_time': t4-t3,\n",
    "    'Predict_time_per_record': (t6-t5)/len_test\n",
    "}\n",
    "output_df = output_df.append(result_dict, ignore_index=True)\n",
    "# Add index name\n",
    "output_index.append('ET (GA)')"
   ]
  },
  {
   "cell_type": "markdown",
   "metadata": {},
   "source": [
    "### Apply stacking"
   ]
  },
  {
   "cell_type": "code",
   "execution_count": null,
   "metadata": {
    "collapsed": false
   },
   "outputs": [
    {
     "data": {
      "text/html": [
       "<div>\n",
       "<style scoped>\n",
       "    .dataframe tbody tr th:only-of-type {\n",
       "        vertical-align: middle;\n",
       "    }\n",
       "\n",
       "    .dataframe tbody tr th {\n",
       "        vertical-align: top;\n",
       "    }\n",
       "\n",
       "    .dataframe thead th {\n",
       "        text-align: right;\n",
       "    }\n",
       "</style>\n",
       "<table border=\"1\" class=\"dataframe\">\n",
       "  <thead>\n",
       "    <tr style=\"text-align: right;\">\n",
       "      <th></th>\n",
       "      <th>DecisionTree</th>\n",
       "      <th>RandomForest</th>\n",
       "      <th>ExtraTrees</th>\n",
       "      <th>XgBoost</th>\n",
       "    </tr>\n",
       "  </thead>\n",
       "  <tbody>\n",
       "    <tr>\n",
       "      <th>0</th>\n",
       "      <td>5</td>\n",
       "      <td>7</td>\n",
       "      <td>7</td>\n",
       "      <td>7</td>\n",
       "    </tr>\n",
       "    <tr>\n",
       "      <th>1</th>\n",
       "      <td>7</td>\n",
       "      <td>7</td>\n",
       "      <td>7</td>\n",
       "      <td>7</td>\n",
       "    </tr>\n",
       "    <tr>\n",
       "      <th>2</th>\n",
       "      <td>7</td>\n",
       "      <td>7</td>\n",
       "      <td>7</td>\n",
       "      <td>7</td>\n",
       "    </tr>\n",
       "    <tr>\n",
       "      <th>3</th>\n",
       "      <td>7</td>\n",
       "      <td>7</td>\n",
       "      <td>7</td>\n",
       "      <td>7</td>\n",
       "    </tr>\n",
       "    <tr>\n",
       "      <th>4</th>\n",
       "      <td>7</td>\n",
       "      <td>7</td>\n",
       "      <td>7</td>\n",
       "      <td>7</td>\n",
       "    </tr>\n",
       "  </tbody>\n",
       "</table>\n",
       "</div>"
      ],
      "text/plain": [
       "   DecisionTree  RandomForest  ExtraTrees  XgBoost\n",
       "0             5             7           7        7\n",
       "1             7             7           7        7\n",
       "2             7             7           7        7\n",
       "3             7             7           7        7\n",
       "4             7             7           7        7"
      ]
     },
     "execution_count": 63,
     "metadata": {},
     "output_type": "execute_result"
    }
   ],
   "source": [
    "base_predictions_train = pd.DataFrame( {\n",
    "    'DecisionTree': dt_train.ravel(),\n",
    "    'RandomForest': rf_train.ravel(),\n",
    "    'ExtraTrees': et_train.ravel(),\n",
    "    'XgBoost': xg_train.ravel(),\n",
    "    })\n",
    "base_predictions_train.head(5)"
   ]
  },
  {
   "cell_type": "code",
   "execution_count": null,
   "metadata": {
    "collapsed": false
   },
   "outputs": [],
   "source": [
    "dt_train=dt_train.reshape(-1, 1)\n",
    "et_train=et_train.reshape(-1, 1)\n",
    "rf_train=rf_train.reshape(-1, 1)\n",
    "xg_train=xg_train.reshape(-1, 1)\n",
    "dt_test=dt_test.reshape(-1, 1)\n",
    "et_test=et_test.reshape(-1, 1)\n",
    "rf_test=rf_test.reshape(-1, 1)\n",
    "xg_test=xg_test.reshape(-1, 1)"
   ]
  },
  {
   "cell_type": "code",
   "execution_count": null,
   "metadata": {
    "collapsed": false
   },
   "outputs": [
    {
     "data": {
      "text/plain": [
       "(57508, 1)"
      ]
     },
     "execution_count": 65,
     "metadata": {},
     "output_type": "execute_result"
    }
   ],
   "source": [
    "dt_train.shape"
   ]
  },
  {
   "cell_type": "code",
   "execution_count": null,
   "metadata": {
    "collapsed": false
   },
   "outputs": [],
   "source": [
    "x_train = np.concatenate(( dt_train, et_train, rf_train, xg_train), axis=1)\n",
    "x_test = np.concatenate(( dt_test, et_test, rf_test, xg_test), axis=1)"
   ]
  },
  {
   "cell_type": "code",
   "execution_count": null,
   "metadata": {
    "collapsed": false
   },
   "outputs": [
    {
     "name": "stdout",
     "output_type": "stream",
     "text": [
      "[20:35:02] WARNING: D:\\bld\\xgboost-split_1645118015404\\work\\src\\learner.cc:1115: Starting in XGBoost 1.3.0, the default evaluation metric used with the objective 'multi:softprob' was changed from 'merror' to 'mlogloss'. Explicitly set eval_metric if you'd like to restore the old behavior.\n",
      "Accuracy of Stacking: 0.937916728404208\n",
      "Precision of Stacking: 0.937970317946802\n",
      "Recall of Stacking: 0.937916728404208\n",
      "F1-score of Stacking: 0.9356090859731018\n",
      "              precision    recall  f1-score   support\n",
      "\n",
      "           0       0.49      0.68      0.56       536\n",
      "           1       0.41      0.22      0.29       359\n",
      "           2       0.52      0.90      0.66       107\n",
      "           3       0.10      0.05      0.07        73\n",
      "           4       0.73      0.47      0.57       215\n",
      "           5       0.52      0.54      0.53       127\n",
      "           6       0.99      0.98      0.99      1034\n",
      "           7       1.00      0.99      0.99     10646\n",
      "           8       0.76      0.69      0.72        64\n",
      "           9       0.87      0.96      0.91       302\n",
      "          10       0.89      0.91      0.90        35\n",
      "\n",
      "    accuracy                           0.94     13498\n",
      "   macro avg       0.66      0.67      0.66     13498\n",
      "weighted avg       0.94      0.94      0.94     13498\n",
      "\n"
     ]
    },
    {
     "data": {
      "image/png": "[encoded data removed]",
      "text/plain": [
       "<Figure size 360x360 with 2 Axes>"
      ]
     },
     "metadata": {
      "needs_background": "light"
     },
     "output_type": "display_data"
    }
   ],
   "source": [
    "t1 = time.time()\n",
    "stk = xgb.XGBClassifier().fit(x_train, y_train)\n",
    "t2 = time.time()\n",
    "y_predict=stk.predict(x_test)\n",
    "t3 = time.time()\n",
    "y_true=y_test\n",
    "stk_score=accuracy_score(y_true,y_predict)\n",
    "print('Accuracy of Stacking: '+ str(stk_score))\n",
    "precision,recall,fscore,none= precision_recall_fscore_support(y_true, y_predict, average='weighted') \n",
    "print('Precision of Stacking: '+(str(precision)))\n",
    "print('Recall of Stacking: '+(str(recall)))\n",
    "print('F1-score of Stacking: '+(str(fscore)))\n",
    "report_str = classification_report(y_true,y_predict,target_names=label_names); log_file.write('******{}******\\n'.format('Stacking (Original)')+report_str+'\\n'); print(report_str)\n",
    "cm=confusion_matrix(y_true,y_predict)\n",
    "f,ax=plt.subplots(figsize=(18,14))\n",
    "sns.heatmap(cm,annot=True,linewidth=0.5,linecolor=\"red\",fmt=\".0f\",ax=ax)\n",
    "ax.set_xticklabels(label_names)\n",
    "ax.set_yticklabels(label_names)\n",
    "plt.xlabel(\"y_pred\")\n",
    "plt.ylabel(\"y_true\")\n",
    "plt.savefig(os.path.join(img_dir, 'Stacking_original.pdf'))\n",
    "plt.show()"
   ]
  },
  {
   "cell_type": "code",
   "execution_count": null,
   "metadata": {},
   "outputs": [],
   "source": [
    "# Add to output sheet\n",
    "result_dict = {\n",
    "    'Accuracy': stk_score,\n",
    "    'Precision': precision,\n",
    "    'Recall': recall,\n",
    "    'F1-Score': fscore,\n",
    "    'Train_time': t2-t1,\n",
    "    'Predict_time_per_record': (t3-t2)/len_test\n",
    "}\n",
    "output_df = output_df.append(result_dict, ignore_index=True)\n",
    "# Add index name\n",
    "output_index.append('Stacking (Original)')"
   ]
  },
  {
   "cell_type": "markdown",
   "metadata": {},
   "source": [
    "#### Hyperparameter optimization (HPO) of the stacking ensemble model (XGBoost) using Bayesian optimization with tree-based Parzen estimator (BO-TPE)\n",
    "Based on the GitHub repo for HPO: https://github.com/LiYangHart/Hyperparameter-Optimization-of-Machine-Learning-Algorithms"
   ]
  },
  {
   "cell_type": "code",
   "execution_count": null,
   "metadata": {
    "collapsed": false
   },
   "outputs": [
    {
     "name": "stdout",
     "output_type": "stream",
     "text": [
      "[20:35:13] WARNING: D:\\bld\\xgboost-split_1645118015404\\work\\src\\learner.cc:1115: Starting in XGBoost 1.3.0, the default evaluation metric used with the objective 'multi:softprob' was changed from 'merror' to 'mlogloss'. Explicitly set eval_metric if you'd like to restore the old behavior.\n",
      "[20:35:21] WARNING: D:\\bld\\xgboost-split_1645118015404\\work\\src\\learner.cc:1115: Starting in XGBoost 1.3.0, the default evaluation metric used with the objective 'multi:softprob' was changed from 'merror' to 'mlogloss'. Explicitly set eval_metric if you'd like to restore the old behavior.\n",
      "[20:35:22] WARNING: D:\\bld\\xgboost-split_1645118015404\\work\\src\\learner.cc:1115: Starting in XGBoost 1.3.0, the default evaluation metric used with the objective 'multi:softprob' was changed from 'merror' to 'mlogloss'. Explicitly set eval_metric if you'd like to restore the old behavior.\n",
      "[20:35:23] WARNING: D:\\bld\\xgboost-split_1645118015404\\work\\src\\learner.cc:1115: Starting in XGBoost 1.3.0, the default evaluation metric used with the objective 'multi:softprob' was changed from 'merror' to 'mlogloss'. Explicitly set eval_metric if you'd like to restore the old behavior.\n",
      "[20:35:31] WARNING: D:\\bld\\xgboost-split_1645118015404\\work\\src\\learner.cc:1115: Starting in XGBoost 1.3.0, the default evaluation metric used with the objective 'multi:softprob' was changed from 'merror' to 'mlogloss'. Explicitly set eval_metric if you'd like to restore the old behavior.\n",
      "[20:35:36] WARNING: D:\\bld\\xgboost-split_1645118015404\\work\\src\\learner.cc:1115: Starting in XGBoost 1.3.0, the default evaluation metric used with the objective 'multi:softprob' was changed from 'merror' to 'mlogloss'. Explicitly set eval_metric if you'd like to restore the old behavior.\n",
      "[20:35:41] WARNING: D:\\bld\\xgboost-split_1645118015404\\work\\src\\learner.cc:1115: Starting in XGBoost 1.3.0, the default evaluation metric used with the objective 'multi:softprob' was changed from 'merror' to 'mlogloss'. Explicitly set eval_metric if you'd like to restore the old behavior.\n",
      "[20:35:43] WARNING: D:\\bld\\xgboost-split_1645118015404\\work\\src\\learner.cc:1115: Starting in XGBoost 1.3.0, the default evaluation metric used with the objective 'multi:softprob' was changed from 'merror' to 'mlogloss'. Explicitly set eval_metric if you'd like to restore the old behavior.\n",
      "[20:35:45] WARNING: D:\\bld\\xgboost-split_1645118015404\\work\\src\\learner.cc:1115: Starting in XGBoost 1.3.0, the default evaluation metric used with the objective 'multi:softprob' was changed from 'merror' to 'mlogloss'. Explicitly set eval_metric if you'd like to restore the old behavior.\n",
      "[20:35:50] WARNING: D:\\bld\\xgboost-split_1645118015404\\work\\src\\learner.cc:1115: Starting in XGBoost 1.3.0, the default evaluation metric used with the objective 'multi:softprob' was changed from 'merror' to 'mlogloss'. Explicitly set eval_metric if you'd like to restore the old behavior.\n",
      "[20:35:55] WARNING: D:\\bld\\xgboost-split_1645118015404\\work\\src\\learner.cc:1115: Starting in XGBoost 1.3.0, the default evaluation metric used with the objective 'multi:softprob' was changed from 'merror' to 'mlogloss'. Explicitly set eval_metric if you'd like to restore the old behavior.\n",
      "[20:35:58] WARNING: D:\\bld\\xgboost-split_1645118015404\\work\\src\\learner.cc:1115: Starting in XGBoost 1.3.0, the default evaluation metric used with the objective 'multi:softprob' was changed from 'merror' to 'mlogloss'. Explicitly set eval_metric if you'd like to restore the old behavior.\n",
      "[20:36:02] WARNING: D:\\bld\\xgboost-split_1645118015404\\work\\src\\learner.cc:1115: Starting in XGBoost 1.3.0, the default evaluation metric used with the objective 'multi:softprob' was changed from 'merror' to 'mlogloss'. Explicitly set eval_metric if you'd like to restore the old behavior.\n",
      "[20:36:05] WARNING: D:\\bld\\xgboost-split_1645118015404\\work\\src\\learner.cc:1115: Starting in XGBoost 1.3.0, the default evaluation metric used with the objective 'multi:softprob' was changed from 'merror' to 'mlogloss'. Explicitly set eval_metric if you'd like to restore the old behavior.\n",
      "[20:36:10] WARNING: D:\\bld\\xgboost-split_1645118015404\\work\\src\\learner.cc:1115: Starting in XGBoost 1.3.0, the default evaluation metric used with the objective 'multi:softprob' was changed from 'merror' to 'mlogloss'. Explicitly set eval_metric if you'd like to restore the old behavior.\n",
      "[20:36:17] WARNING: D:\\bld\\xgboost-split_1645118015404\\work\\src\\learner.cc:1115: Starting in XGBoost 1.3.0, the default evaluation metric used with the objective 'multi:softprob' was changed from 'merror' to 'mlogloss'. Explicitly set eval_metric if you'd like to restore the old behavior.\n",
      "[20:36:20] WARNING: D:\\bld\\xgboost-split_1645118015404\\work\\src\\learner.cc:1115: Starting in XGBoost 1.3.0, the default evaluation metric used with the objective 'multi:softprob' was changed from 'merror' to 'mlogloss'. Explicitly set eval_metric if you'd like to restore the old behavior.\n",
      "[20:36:25] WARNING: D:\\bld\\xgboost-split_1645118015404\\work\\src\\learner.cc:1115: Starting in XGBoost 1.3.0, the default evaluation metric used with the objective 'multi:softprob' was changed from 'merror' to 'mlogloss'. Explicitly set eval_metric if you'd like to restore the old behavior.\n",
      "[20:36:32] WARNING: D:\\bld\\xgboost-split_1645118015404\\work\\src\\learner.cc:1115: Starting in XGBoost 1.3.0, the default evaluation metric used with the objective 'multi:softprob' was changed from 'merror' to 'mlogloss'. Explicitly set eval_metric if you'd like to restore the old behavior.\n",
      "[20:36:33] WARNING: D:\\bld\\xgboost-split_1645118015404\\work\\src\\learner.cc:1115: Starting in XGBoost 1.3.0, the default evaluation metric used with the objective 'multi:softprob' was changed from 'merror' to 'mlogloss'. Explicitly set eval_metric if you'd like to restore the old behavior.\n",
      "100%|██████████| 20/20 [01:22<00:00,  4.13s/trial, best loss: -0.938064898503482]\n",
      "XGBoost: Hyperopt estimated optimum {'learning_rate': -0.07384706321994308, 'max_depth': 14.0, 'n_estimators': 20.0}\n"
     ]
    }
   ],
   "source": [
    "from hyperopt import hp, fmin, tpe, STATUS_OK, Trials\n",
    "from sklearn.model_selection import cross_val_score, StratifiedKFold\n",
    "def objective(params):\n",
    "    params = {\n",
    "        'n_estimators': int(params['n_estimators']), \n",
    "        'max_depth': int(params['max_depth']),\n",
    "        'learning_rate':  abs(float(params['learning_rate'])),\n",
    "\n",
    "    }\n",
    "    clf = xgb.XGBClassifier( **params)\n",
    "    clf.fit(x_train, y_train)\n",
    "    y_pred = clf.predict(x_test)\n",
    "    score = accuracy_score(y_test, y_pred)\n",
    "\n",
    "    return {'loss':-score, 'status': STATUS_OK }\n",
    "\n",
    "space = {\n",
    "    'n_estimators': hp.quniform('n_estimators', 10, 100, 5),\n",
    "    'max_depth': hp.quniform('max_depth', 4, 100, 1),\n",
    "    'learning_rate': hp.normal('learning_rate', 0.01, 0.9),\n",
    "}\n",
    "\n",
    "t1 = time.time()\n",
    "\n",
    "best = fmin(fn=objective,\n",
    "            space=space,\n",
    "            algo=tpe.suggest,\n",
    "            max_evals=20)\n",
    "\n",
    "t2 = time.time()\n",
    "\n",
    "print(\"XGBoost: Hyperopt estimated optimum {}\".format(best))"
   ]
  },
  {
   "cell_type": "code",
   "execution_count": null,
   "metadata": {
    "collapsed": false
   },
   "outputs": [
    {
     "name": "stdout",
     "output_type": "stream",
     "text": [
      "[20:36:45] WARNING: D:\\bld\\xgboost-split_1645118015404\\work\\src\\learner.cc:1115: Starting in XGBoost 1.3.0, the default evaluation metric used with the objective 'multi:softprob' was changed from 'merror' to 'mlogloss'. Explicitly set eval_metric if you'd like to restore the old behavior.\n",
      "Accuracy of XGBoost: 0.938064898503482\n",
      "Precision of XGBoost: 0.9381270173648902\n",
      "Recall of XGBoost: 0.938064898503482\n",
      "F1-score of XGBoost: 0.9356932609211833\n",
      "              precision    recall  f1-score   support\n",
      "\n",
      "           0       0.49      0.68      0.57       536\n",
      "           1       0.42      0.22      0.29       359\n",
      "           2       0.52      0.90      0.66       107\n",
      "           3       0.11      0.05      0.07        73\n",
      "           4       0.73      0.47      0.57       215\n",
      "           5       0.52      0.54      0.53       127\n",
      "           6       0.99      0.98      0.99      1034\n",
      "           7       1.00      0.99      0.99     10646\n",
      "           8       0.76      0.69      0.72        64\n",
      "           9       0.87      0.96      0.91       302\n",
      "          10       0.86      0.91      0.89        35\n",
      "\n",
      "    accuracy                           0.94     13498\n",
      "   macro avg       0.66      0.67      0.65     13498\n",
      "weighted avg       0.94      0.94      0.94     13498\n",
      "\n"
     ]
    },
    {
     "data": {
      "image/png": "[encoded data removed]",
      "text/plain": [
       "<Figure size 360x360 with 2 Axes>"
      ]
     },
     "metadata": {
      "needs_background": "light"
     },
     "output_type": "display_data"
    }
   ],
   "source": [
    "params = {\n",
    "    'n_estimators': int(best['n_estimators']), \n",
    "    'max_depth': int(best['max_depth']),\n",
    "    'learning_rate':  abs(float(best['learning_rate'])),\n",
    "}\n",
    "xg = xgb.XGBClassifier(**params)\n",
    "t3 = time.time()\n",
    "xg.fit(x_train,y_train)\n",
    "t4 = time.time()\n",
    "xg_score=xg.score(x_test,y_test)\n",
    "t5 = time.time()\n",
    "y_predict=xg.predict(x_test)\n",
    "t6 = time.time()\n",
    "y_true=y_test\n",
    "print('Accuracy of XGBoost: '+ str(xg_score))\n",
    "precision,recall,fscore,none= precision_recall_fscore_support(y_true, y_predict, average='weighted') \n",
    "print('Precision of XGBoost: '+(str(precision)))\n",
    "print('Recall of XGBoost: '+(str(recall)))\n",
    "print('F1-score of XGBoost: '+(str(fscore)))\n",
    "report_str = classification_report(y_true,y_predict,target_names=label_names); log_file.write('******{}******\\n'.format('Stacking (BO-TPE)')+report_str+'\\n'); print(report_str)\n",
    "cm=confusion_matrix(y_true,y_predict)\n",
    "f,ax=plt.subplots(figsize=(18,14))\n",
    "sns.heatmap(cm,annot=True,linewidth=0.5,linecolor=\"red\",fmt=\".0f\",ax=ax)\n",
    "ax.set_xticklabels(label_names)\n",
    "ax.set_yticklabels(label_names)\n",
    "plt.xlabel(\"y_pred\")\n",
    "plt.ylabel(\"y_true\")\n",
    "plt.savefig(os.path.join(img_dir, 'Stacking_BO-TPE.pdf'))\n",
    "plt.show()"
   ]
  },
  {
   "cell_type": "code",
   "execution_count": null,
   "metadata": {},
   "outputs": [],
   "source": [
    "# Add to output sheet\n",
    "result_dict = {\n",
    "    'Accuracy': xg_score,\n",
    "    'Precision': precision,\n",
    "    'Recall': recall,\n",
    "    'F1-Score': fscore,\n",
    "    'HPO_time': t2-t1,\n",
    "    'Train_time': t4-t3,\n",
    "    'Predict_time_per_record': (t6-t5)/len_test\n",
    "}\n",
    "output_df = output_df.append(result_dict, ignore_index=True)\n",
    "# Add index name\n",
    "output_index.append('Stacking (BO-TPE)')"
   ]
  },
  {
   "cell_type": "markdown",
   "metadata": {},
   "source": [
    "#### Hyperparameter optimization (HPO) of stacking ensemble model (XGBoost) using Particle Swarm Optimization (PSO)\n",
    "Based on the GitHub repo for HPO: https://github.com/LiYangHart/Hyperparameter-Optimization-of-Machine-Learning-Algorithms"
   ]
  },
  {
   "cell_type": "code",
   "execution_count": null,
   "metadata": {},
   "outputs": [],
   "source": [
    "#XGBoost\n",
    "import optunity\n",
    "import optunity.metrics\n",
    "\n",
    "data= X_combined\n",
    "labels= y_combined.tolist()\n",
    "Y_train = y_train\n",
    "Y_test = y_test\n",
    "# Define the hyperparameter configuration space\n",
    "search = {\n",
    "    'n_estimators': [10, 100],\n",
    "    'max_depth': [5,50],\n",
    "    'learning_rate': [0.01, 0.9]\n",
    "}\n",
    "# Define the objective function\n",
    "@optunity.cross_validated(x=data, y=labels, num_folds=3)\n",
    "def performance(x_train, y_train, x_test, y_test,n_estimators=None, max_depth=None,learning_rate=None):\n",
    "    # fit the model\n",
    "    params = {\n",
    "        'n_estimators': int(n_estimators), \n",
    "        'max_depth': int(max_depth),\n",
    "        'learning_rate':  abs(float(learning_rate)),\n",
    "    }\n",
    "    model = xgb.XGBClassifier( **params)\n",
    "    model.fit(X_train, Y_train)\n",
    "    predictions = model.predict(X_test)\n",
    "    # scores=np.mean(cross_val_score(model, X, y, cv=3, n_jobs=-1,\n",
    "    #                                 scoring=\"accuracy\"))\n",
    "    #return optunity.metrics.roc_auc(y_test, predictions, positive=True)\n",
    "    return optunity.metrics.accuracy(Y_test, predictions)\n",
    "\n",
    "t1 = time.time()\n",
    "\n",
    "optimal_configuration, info, _ = optunity.maximize(performance,\n",
    "                                                  solver_name='particle swarm',\n",
    "                                                  num_evals=20,\n",
    "                                                   **search\n",
    "                                                  )\n",
    "\n",
    "t2 = time.time()\n",
    "\n",
    "print(optimal_configuration)\n",
    "print(\"Accuracy:\"+ str(info.optimum))"
   ]
  },
  {
   "cell_type": "code",
   "execution_count": null,
   "metadata": {},
   "outputs": [],
   "source": [
    "params = {\n",
    "    'n_estimators': int(optimal_configuration['n_estimators']), \n",
    "    'max_depth': int(optimal_configuration['max_depth']), \n",
    "    'learning_rate': abs(float(optimal_configuration['learning_rate']))\n",
    "}\n",
    "xg = xgb.XGBClassifier(**params)\n",
    "t3 = time.time()\n",
    "xg.fit(x_train,y_train)\n",
    "t4 = time.time()\n",
    "xg_score=xg.score(x_test,y_test)\n",
    "t5 = time.time()\n",
    "y_predict=xg.predict(x_test)\n",
    "t6 = time.time()\n",
    "y_true=y_test\n",
    "print('Accuracy of XGBoost: '+ str(xg_score))\n",
    "precision,recall,fscore,none= precision_recall_fscore_support(y_true, y_predict, average='weighted') \n",
    "print('Precision of XGBoost: '+(str(precision)))\n",
    "print('Recall of XGBoost: '+(str(recall)))\n",
    "print('F1-score of XGBoost: '+(str(fscore)))\n",
    "report_str = classification_report(y_true,y_predict,target_names=label_names); log_file.write('******{}******\\n'.format('Stacking (PSO)')+report_str+'\\n'); print(report_str)\n",
    "cm=confusion_matrix(y_true,y_predict)\n",
    "f,ax=plt.subplots(figsize=(18,14))\n",
    "sns.heatmap(cm,annot=True,linewidth=0.5,linecolor=\"red\",fmt=\".0f\",ax=ax)\n",
    "ax.set_xticklabels(label_names)\n",
    "ax.set_yticklabels(label_names)\n",
    "plt.xlabel(\"y_pred\")\n",
    "plt.ylabel(\"y_true\")\n",
    "plt.savefig(os.path.join(img_dir, 'Stacking_PSO.pdf'))\n",
    "plt.show()"
   ]
  },
  {
   "cell_type": "code",
   "execution_count": null,
   "metadata": {},
   "outputs": [],
   "source": [
    "# Add to output sheet\n",
    "result_dict = {\n",
    "    'Accuracy': xg_score,\n",
    "    'Precision': precision,\n",
    "    'Recall': recall,\n",
    "    'F1-Score': fscore,\n",
    "    'HPO_time': t2-t1,\n",
    "    'Train_time': t4-t3,\n",
    "    'Predict_time_per_record': (t6-t5)/len_test\n",
    "}\n",
    "output_df = output_df.append(result_dict, ignore_index=True)\n",
    "# Add index name\n",
    "output_index.append('Stacking (PSO)')"
   ]
  },
  {
   "cell_type": "markdown",
   "metadata": {},
   "source": [
    "#### Hyperparameter optimization (HPO) of stacking ensemble model (XGBoost) using Genetic Algorithm (GA)\n",
    "Based on the GitHub repo for HPO: https://github.com/LiYangHart/Hyperparameter-Optimization-of-Machine-Learning-Algorithms"
   ]
  },
  {
   "cell_type": "code",
   "execution_count": null,
   "metadata": {},
   "outputs": [],
   "source": [
    "#XGBoost\n",
    "from tpot import TPOTClassifier\n",
    "# Define the hyperparameter configuration space\n",
    "parameters = {\n",
    "    'n_estimators': range(10,100),\n",
    "    'max_depth': range(4,100),\n",
    "    'learning_rate': [i/100 for i in range(1, 90)]\n",
    "}\n",
    "# Set the hyperparameters of GA                 \n",
    "ga = TPOTClassifier(generations= 3, population_size= 10, offspring_size= 5,\n",
    "                                 verbosity= 3, early_stop= 5,\n",
    "                                 config_dict=\n",
    "                                 {'xgboost.XGBClassifier': parameters}, \n",
    "                                 cv = 3, scoring = 'accuracy')\n",
    "t1 = time.time()\n",
    "ga.fit(X_combined, y_combined)\n",
    "t2 = time.time()"
   ]
  },
  {
   "cell_type": "code",
   "execution_count": null,
   "metadata": {},
   "outputs": [],
   "source": [
    "xg = xgb.XGBClassifier(**get_ga_optimized_parameters(ga, 'XGBClassifier'))\n",
    "t3 = time.time()\n",
    "xg.fit(x_train,y_train)\n",
    "t4 = time.time()\n",
    "xg_score=xg.score(x_test,y_test)\n",
    "t5 = time.time()\n",
    "y_predict=xg.predict(x_test)\n",
    "t6 = time.time()\n",
    "y_true=y_test\n",
    "print('Accuracy of XGBoost: '+ str(xg_score))\n",
    "precision,recall,fscore,none= precision_recall_fscore_support(y_true, y_predict, average='weighted') \n",
    "print('Precision of XGBoost: '+(str(precision)))\n",
    "print('Recall of XGBoost: '+(str(recall)))\n",
    "print('F1-score of XGBoost: '+(str(fscore)))\n",
    "report_str = classification_report(y_true,y_predict,target_names=label_names); log_file.write('******{}******\\n'.format('Stacking (GA)')+report_str+'\\n'); print(report_str)\n",
    "cm=confusion_matrix(y_true,y_predict)\n",
    "f,ax=plt.subplots(figsize=(18,14))\n",
    "sns.heatmap(cm,annot=True,linewidth=0.5,linecolor=\"red\",fmt=\".0f\",ax=ax)\n",
    "ax.set_xticklabels(label_names)\n",
    "ax.set_yticklabels(label_names)\n",
    "plt.xlabel(\"y_pred\")\n",
    "plt.ylabel(\"y_true\")\n",
    "plt.savefig(os.path.join(img_dir, 'Stacking_GA.pdf'))\n",
    "plt.show()"
   ]
  },
  {
   "cell_type": "code",
   "execution_count": null,
   "metadata": {},
   "outputs": [],
   "source": [
    "# Add to output sheet\n",
    "result_dict = {\n",
    "    'Accuracy': xg_score,\n",
    "    'Precision': precision,\n",
    "    'Recall': recall,\n",
    "    'F1-Score': fscore,\n",
    "    'HPO_time': t2-t1,\n",
    "    'Train_time': t4-t3,\n",
    "    'Predict_time_per_record': (t6-t5)/len_test\n",
    "}\n",
    "output_df = output_df.append(result_dict, ignore_index=True)\n",
    "# Add index name\n",
    "output_index.append('Stacking (GA)')"
   ]
  },
  {
   "cell_type": "code",
   "execution_count": null,
   "metadata": {},
   "outputs": [],
   "source": [
    "# Rename the index\n",
    "output_df.index = output_index\n",
    "# Save the result to file\n",
    "output_df.to_excel(os.path.join(output_dir, 'result-{}.xlsx'.format(datetime.datetime.now().strftime('%y%m%d-%H%M%S'))))\n",
    "# Close the logging file\n",
    "log_file.close()"
   ]
  },
  {
   "cell_type": "markdown",
   "metadata": {
    "collapsed": true
   },
   "source": [
    "## Anomaly-based IDS"
   ]
  },
  {
   "cell_type": "markdown",
   "metadata": {},
   "source": [
    "### Generate the port-scan datasets for unknown attack detection"
   ]
  },
  {
   "cell_type": "code",
   "execution_count": null,
   "metadata": {
    "collapsed": true
   },
   "outputs": [],
   "source": [
    "# df=pd.read_csv('./data/UNSW-NB15_sample_km.csv')"
   ]
  },
  {
   "cell_type": "code",
   "execution_count": null,
   "metadata": {
    "collapsed": false
   },
   "outputs": [
    {
     "data": {
      "text/plain": [
       "7     53253\n",
       "6      5190\n",
       "0      2677\n",
       "1      1795\n",
       "9      1511\n",
       "4      1008\n",
       "5       588\n",
       "2       534\n",
       "3       399\n",
       "8       360\n",
       "10      174\n",
       "Name: attack_cat, dtype: int64"
      ]
     },
     "execution_count": 92,
     "metadata": {},
     "output_type": "execute_result"
    }
   ],
   "source": [
    "# df['attack_cat'].value_counts()"
   ]
  },
  {
   "cell_type": "code",
   "execution_count": null,
   "metadata": {
    "collapsed": true
   },
   "outputs": [],
   "source": [
    "# df1 = df[df['attack_cat'] != 9]\n",
    "# df1['attack_cat'][df1['attack_cat'] != 7] = 1\n",
    "# df1.to_csv('./data/UNSW-NB15_sample_km_without_shellcode.csv',index=0)"
   ]
  },
  {
   "cell_type": "code",
   "execution_count": null,
   "metadata": {
    "collapsed": true
   },
   "outputs": [],
   "source": [
    "# df2 = df[df['attack_cat'] == 9]\n",
    "# df2['attack_cat'][df2['attack_cat'] == 9] = 1\n",
    "# df2.to_csv('./data/UNSW-NB15_sample_km_shellcode.csv',index=0)"
   ]
  },
  {
   "cell_type": "markdown",
   "metadata": {},
   "source": [
    "### Read the generated datasets for unknown attack detection"
   ]
  },
  {
   "cell_type": "code",
   "execution_count": null,
   "metadata": {
    "collapsed": true
   },
   "outputs": [],
   "source": [
    "# df1 = pd.read_csv('./data/UNSW-NB15_sample_km_without_shellcode.csv')\n",
    "# df2 = pd.read_csv('./data/UNSW-NB15_sample_km_shellcode.csv')"
   ]
  },
  {
   "cell_type": "code",
   "execution_count": null,
   "metadata": {
    "collapsed": false
   },
   "outputs": [],
   "source": [
    "# features = df1.drop(['attack_cat'],axis=1).dtypes[df1.dtypes != 'object'].index\n",
    "# df1[features] = df1[features].apply(\n",
    "#     lambda x: (x - x.mean()) / (x.std()))\n",
    "# df2[features] = df2[features].apply(\n",
    "#     lambda x: (x - x.mean()) / (x.std()))\n",
    "# df1 = df1.fillna(0)\n",
    "# df2 = df2.fillna(0)"
   ]
  },
  {
   "cell_type": "code",
   "execution_count": null,
   "metadata": {
    "collapsed": false
   },
   "outputs": [
    {
     "data": {
      "text/plain": [
       "7    53253\n",
       "1    12725\n",
       "Name: attack_cat, dtype: int64"
      ]
     },
     "execution_count": 97,
     "metadata": {},
     "output_type": "execute_result"
    }
   ],
   "source": [
    "# df1['attack_cat'].value_counts()"
   ]
  },
  {
   "cell_type": "code",
   "execution_count": null,
   "metadata": {
    "collapsed": false,
    "scrolled": true
   },
   "outputs": [
    {
     "data": {
      "text/plain": [
       "1    1511\n",
       "Name: attack_cat, dtype: int64"
      ]
     },
     "execution_count": 98,
     "metadata": {},
     "output_type": "execute_result"
    }
   ],
   "source": [
    "# df2['attack_cat'].value_counts()"
   ]
  },
  {
   "cell_type": "code",
   "execution_count": null,
   "metadata": {
    "collapsed": false
   },
   "outputs": [],
   "source": [
    "# df2p=df1[df1['attack_cat']==7]\n",
    "# df2pp=df2p.sample(n=None, frac=1511/53253, replace=False, weights=None, random_state=None, axis=0)\n",
    "# df2=pd.concat([df2, df2pp])"
   ]
  },
  {
   "cell_type": "code",
   "execution_count": null,
   "metadata": {
    "collapsed": false
   },
   "outputs": [
    {
     "data": {
      "text/plain": [
       "1    1511\n",
       "7    1511\n",
       "Name: attack_cat, dtype: int64"
      ]
     },
     "execution_count": 100,
     "metadata": {},
     "output_type": "execute_result"
    }
   ],
   "source": [
    "# df2['attack_cat'].value_counts()"
   ]
  },
  {
   "cell_type": "code",
   "execution_count": null,
   "metadata": {
    "collapsed": true
   },
   "outputs": [],
   "source": [
    "# df = df1.append(df2)"
   ]
  },
  {
   "cell_type": "code",
   "execution_count": null,
   "metadata": {
    "collapsed": false
   },
   "outputs": [
    {
     "data": {
      "text/plain": [
       "7    54764\n",
       "1    14236\n",
       "dtype: int64"
      ]
     },
     "execution_count": 102,
     "metadata": {},
     "output_type": "execute_result"
    }
   ],
   "source": [
    "# X = df.drop(['attack_cat'],axis=1).values\n",
    "# y = df.iloc[:, -1].values.reshape(-1,1)\n",
    "# y=np.ravel(y)\n",
    "# pd.Series(y).value_counts()"
   ]
  },
  {
   "cell_type": "markdown",
   "metadata": {},
   "source": [
    "### Feature engineering (IG, FCBF, and KPCA)"
   ]
  },
  {
   "cell_type": "markdown",
   "metadata": {},
   "source": [
    "#### Feature selection by information gain (IG)"
   ]
  },
  {
   "cell_type": "code",
   "execution_count": null,
   "metadata": {
    "collapsed": false
   },
   "outputs": [],
   "source": [
    "# from sklearn.feature_selection import mutual_info_classif\n",
    "# importances = mutual_info_classif(X, y)"
   ]
  },
  {
   "cell_type": "code",
   "execution_count": null,
   "metadata": {
    "collapsed": false
   },
   "outputs": [],
   "source": [
    "# # calculate the sum of importance scores\n",
    "# f_list = sorted(zip(map(lambda x: round(x, 4), importances), features), reverse=True)\n",
    "# Sum = 0\n",
    "# fs = []\n",
    "# for i in range(0, len(f_list)):\n",
    "#     Sum = Sum + f_list[i][0]\n",
    "#     fs.append(f_list[i][1])"
   ]
  },
  {
   "cell_type": "code",
   "execution_count": null,
   "metadata": {
    "collapsed": false
   },
   "outputs": [],
   "source": [
    "# # select the important features from top to bottom until the accumulated importance reaches 90%\n",
    "# f_list2 = sorted(zip(map(lambda x: round(x, 4), importances/Sum), features), reverse=True)\n",
    "# Sum2 = 0\n",
    "# fs = []\n",
    "# for i in range(0, len(f_list2)):\n",
    "#     Sum2 = Sum2 + f_list2[i][0]\n",
    "#     fs.append(f_list2[i][1])\n",
    "#     if Sum2>=0.9:\n",
    "#         break        "
   ]
  },
  {
   "cell_type": "code",
   "execution_count": null,
   "metadata": {
    "collapsed": false
   },
   "outputs": [],
   "source": [
    "# X_fs = df[fs].values"
   ]
  },
  {
   "cell_type": "code",
   "execution_count": null,
   "metadata": {
    "collapsed": false
   },
   "outputs": [
    {
     "data": {
      "text/plain": [
       "(69000, 30)"
      ]
     },
     "execution_count": 107,
     "metadata": {},
     "output_type": "execute_result"
    }
   ],
   "source": [
    "# X_fs.shape"
   ]
  },
  {
   "cell_type": "code",
   "execution_count": null,
   "metadata": {
    "collapsed": false
   },
   "outputs": [
    {
     "data": {
      "text/plain": [
       "array([[-0.5157852 , -0.11993092, -0.47661465, ..., -1.12489896,\n",
       "         1.06853583, -0.14827844],\n",
       "       [-0.5157852 , -0.12107443, -0.47661465, ..., -1.12489896,\n",
       "         1.06853583, -0.27440478],\n",
       "       [-0.5157852 , -0.12164619, -0.47661465, ..., -1.12489896,\n",
       "         1.06853583, -0.27440478],\n",
       "       ...,\n",
       "       [-0.17877201, -0.13079427, -0.47661465, ..., -1.12489896,\n",
       "        -0.82616322,  1.49136388],\n",
       "       [-0.5157852 , -0.10320709, -0.47661465, ...,  0.88895526,\n",
       "        -0.82616322, -0.65278377],\n",
       "       [-0.5157852 ,  1.18853067, -0.47661465, ...,  0.88895526,\n",
       "        -0.82616322, -0.65278377]])"
      ]
     },
     "execution_count": 108,
     "metadata": {},
     "output_type": "execute_result"
    }
   ],
   "source": [
    "# X_fs"
   ]
  },
  {
   "cell_type": "markdown",
   "metadata": {},
   "source": [
    "#### Feature selection by Fast Correlation Based Filter (FCBF)\n",
    "\n",
    "The module is imported from the GitHub repo: https://github.com/SantiagoEG/FCBF_module"
   ]
  },
  {
   "cell_type": "code",
   "execution_count": null,
   "metadata": {
    "collapsed": true
   },
   "outputs": [],
   "source": [
    "# from FCBF_module import FCBF, FCBFK, FCBFiP, get_i\n",
    "# fcbf = FCBFK(k = 20)\n",
    "# #fcbf.fit(X_fs, y)"
   ]
  },
  {
   "cell_type": "code",
   "execution_count": null,
   "metadata": {
    "collapsed": false
   },
   "outputs": [],
   "source": [
    "# X_fss = fcbf.fit_transform(X_fs,y)"
   ]
  },
  {
   "cell_type": "code",
   "execution_count": null,
   "metadata": {
    "collapsed": false
   },
   "outputs": [
    {
     "data": {
      "text/plain": [
       "(69000, 20)"
      ]
     },
     "execution_count": 111,
     "metadata": {},
     "output_type": "execute_result"
    }
   ],
   "source": [
    "# X_fss.shape"
   ]
  },
  {
   "cell_type": "code",
   "execution_count": null,
   "metadata": {
    "collapsed": false
   },
   "outputs": [
    {
     "data": {
      "text/plain": [
       "array([[-0.47661465, -0.5157852 , -0.06975683, ..., -0.34709766,\n",
       "        -0.4143315 , -0.26561907],\n",
       "       [-0.47661465, -0.5157852 , -0.06975683, ..., -0.33097366,\n",
       "        -0.4143315 , -0.26561907],\n",
       "       [-0.47661465, -0.5157852 , -0.06975683, ..., -0.3375741 ,\n",
       "        -0.4143315 , -0.26561907],\n",
       "       ...,\n",
       "       [-0.47661465, -0.17877201, -0.64650816, ...,  0.71506847,\n",
       "        -0.44488475, -0.26561907],\n",
       "       [-0.47661465, -0.5157852 , -0.06975683, ..., -0.3336002 ,\n",
       "        -0.29211847, -0.19592477],\n",
       "       [-0.47661465, -0.5157852 , -0.06975683, ..., -0.23107668,\n",
       "         0.31894669, -0.12623047]])"
      ]
     },
     "execution_count": 112,
     "metadata": {},
     "output_type": "execute_result"
    }
   ],
   "source": [
    "# X_fss"
   ]
  },
  {
   "cell_type": "markdown",
   "metadata": {},
   "source": [
    "####  kernel principal component analysis (KPCA)"
   ]
  },
  {
   "cell_type": "code",
   "execution_count": null,
   "metadata": {
    "collapsed": false
   },
   "outputs": [
    {
     "ename": "MemoryError",
     "evalue": "Unable to allocate 35.5 GiB for an array with shape (69000, 69000) and data type float64",
     "output_type": "error",
     "traceback": [
      "\u001b[1;31m---------------------------------------------------------------------------\u001b[0m",
      "\u001b[1;31mMemoryError\u001b[0m                               Traceback (most recent call last)",
      "\u001b[1;32md:\\Documents\\GitHub\\IDS_project\\MTH-IDS_Adoptation_UNSW-NB15\\MTH_IDS_Adoption_UNSW-NB15.ipynb Cell 116'\u001b[0m in \u001b[0;36m<cell line: 3>\u001b[1;34m()\u001b[0m\n\u001b[0;32m      <a href='vscode-notebook-cell:/d%3A/Documents/GitHub/IDS_project/MTH-IDS_Adoptation_UNSW-NB15/MTH_IDS_Adoption_UNSW-NB15.ipynb#ch0000116?line=0'>1</a>\u001b[0m \u001b[39mfrom\u001b[39;00m \u001b[39msklearn\u001b[39;00m\u001b[39m.\u001b[39;00m\u001b[39mdecomposition\u001b[39;00m \u001b[39mimport\u001b[39;00m KernelPCA\n\u001b[0;32m      <a href='vscode-notebook-cell:/d%3A/Documents/GitHub/IDS_project/MTH-IDS_Adoptation_UNSW-NB15/MTH_IDS_Adoption_UNSW-NB15.ipynb#ch0000116?line=1'>2</a>\u001b[0m kpca \u001b[39m=\u001b[39m KernelPCA(n_components \u001b[39m=\u001b[39m \u001b[39m10\u001b[39m, kernel \u001b[39m=\u001b[39m \u001b[39m'\u001b[39m\u001b[39mrbf\u001b[39m\u001b[39m'\u001b[39m)\n\u001b[1;32m----> <a href='vscode-notebook-cell:/d%3A/Documents/GitHub/IDS_project/MTH-IDS_Adoptation_UNSW-NB15/MTH_IDS_Adoption_UNSW-NB15.ipynb#ch0000116?line=2'>3</a>\u001b[0m kpca\u001b[39m.\u001b[39;49mfit(X_fss, y)\n\u001b[0;32m      <a href='vscode-notebook-cell:/d%3A/Documents/GitHub/IDS_project/MTH-IDS_Adoptation_UNSW-NB15/MTH_IDS_Adoption_UNSW-NB15.ipynb#ch0000116?line=3'>4</a>\u001b[0m X_kpca \u001b[39m=\u001b[39m kpca\u001b[39m.\u001b[39mtransform(X_fss)\n",
      "File \u001b[1;32md:\\Software\\anaconda3\\envs\\IDSml\\lib\\site-packages\\sklearn\\decomposition\\_kernel_pca.py:431\u001b[0m, in \u001b[0;36mKernelPCA.fit\u001b[1;34m(self, X, y)\u001b[0m\n\u001b[0;32m    <a href='file:///d%3A/Software/anaconda3/envs/IDSml/lib/site-packages/sklearn/decomposition/_kernel_pca.py?line=428'>429</a>\u001b[0m X \u001b[39m=\u001b[39m \u001b[39mself\u001b[39m\u001b[39m.\u001b[39m_validate_data(X, accept_sparse\u001b[39m=\u001b[39m\u001b[39m\"\u001b[39m\u001b[39mcsr\u001b[39m\u001b[39m\"\u001b[39m, copy\u001b[39m=\u001b[39m\u001b[39mself\u001b[39m\u001b[39m.\u001b[39mcopy_X)\n\u001b[0;32m    <a href='file:///d%3A/Software/anaconda3/envs/IDSml/lib/site-packages/sklearn/decomposition/_kernel_pca.py?line=429'>430</a>\u001b[0m \u001b[39mself\u001b[39m\u001b[39m.\u001b[39m_centerer \u001b[39m=\u001b[39m KernelCenterer()\n\u001b[1;32m--> <a href='file:///d%3A/Software/anaconda3/envs/IDSml/lib/site-packages/sklearn/decomposition/_kernel_pca.py?line=430'>431</a>\u001b[0m K \u001b[39m=\u001b[39m \u001b[39mself\u001b[39;49m\u001b[39m.\u001b[39;49m_get_kernel(X)\n\u001b[0;32m    <a href='file:///d%3A/Software/anaconda3/envs/IDSml/lib/site-packages/sklearn/decomposition/_kernel_pca.py?line=431'>432</a>\u001b[0m \u001b[39mself\u001b[39m\u001b[39m.\u001b[39m_fit_transform(K)\n\u001b[0;32m    <a href='file:///d%3A/Software/anaconda3/envs/IDSml/lib/site-packages/sklearn/decomposition/_kernel_pca.py?line=433'>434</a>\u001b[0m \u001b[39mif\u001b[39;00m \u001b[39mself\u001b[39m\u001b[39m.\u001b[39mfit_inverse_transform:\n\u001b[0;32m    <a href='file:///d%3A/Software/anaconda3/envs/IDSml/lib/site-packages/sklearn/decomposition/_kernel_pca.py?line=434'>435</a>\u001b[0m     \u001b[39m# no need to use the kernel to transform X, use shortcut expression\u001b[39;00m\n",
      "File \u001b[1;32md:\\Software\\anaconda3\\envs\\IDSml\\lib\\site-packages\\sklearn\\decomposition\\_kernel_pca.py:310\u001b[0m, in \u001b[0;36mKernelPCA._get_kernel\u001b[1;34m(self, X, Y)\u001b[0m\n\u001b[0;32m    <a href='file:///d%3A/Software/anaconda3/envs/IDSml/lib/site-packages/sklearn/decomposition/_kernel_pca.py?line=307'>308</a>\u001b[0m \u001b[39melse\u001b[39;00m:\n\u001b[0;32m    <a href='file:///d%3A/Software/anaconda3/envs/IDSml/lib/site-packages/sklearn/decomposition/_kernel_pca.py?line=308'>309</a>\u001b[0m     params \u001b[39m=\u001b[39m {\u001b[39m\"\u001b[39m\u001b[39mgamma\u001b[39m\u001b[39m\"\u001b[39m: \u001b[39mself\u001b[39m\u001b[39m.\u001b[39mgamma, \u001b[39m\"\u001b[39m\u001b[39mdegree\u001b[39m\u001b[39m\"\u001b[39m: \u001b[39mself\u001b[39m\u001b[39m.\u001b[39mdegree, \u001b[39m\"\u001b[39m\u001b[39mcoef0\u001b[39m\u001b[39m\"\u001b[39m: \u001b[39mself\u001b[39m\u001b[39m.\u001b[39mcoef0}\n\u001b[1;32m--> <a href='file:///d%3A/Software/anaconda3/envs/IDSml/lib/site-packages/sklearn/decomposition/_kernel_pca.py?line=309'>310</a>\u001b[0m \u001b[39mreturn\u001b[39;00m pairwise_kernels(\n\u001b[0;32m    <a href='file:///d%3A/Software/anaconda3/envs/IDSml/lib/site-packages/sklearn/decomposition/_kernel_pca.py?line=310'>311</a>\u001b[0m     X, Y, metric\u001b[39m=\u001b[39m\u001b[39mself\u001b[39m\u001b[39m.\u001b[39mkernel, filter_params\u001b[39m=\u001b[39m\u001b[39mTrue\u001b[39;00m, n_jobs\u001b[39m=\u001b[39m\u001b[39mself\u001b[39m\u001b[39m.\u001b[39mn_jobs, \u001b[39m*\u001b[39m\u001b[39m*\u001b[39mparams\n\u001b[0;32m    <a href='file:///d%3A/Software/anaconda3/envs/IDSml/lib/site-packages/sklearn/decomposition/_kernel_pca.py?line=311'>312</a>\u001b[0m )\n",
      "File \u001b[1;32md:\\Software\\anaconda3\\envs\\IDSml\\lib\\site-packages\\sklearn\\metrics\\pairwise.py:2053\u001b[0m, in \u001b[0;36mpairwise_kernels\u001b[1;34m(X, Y, metric, filter_params, n_jobs, **kwds)\u001b[0m\n\u001b[0;32m   <a href='file:///d%3A/Software/anaconda3/envs/IDSml/lib/site-packages/sklearn/metrics/pairwise.py?line=2049'>2050</a>\u001b[0m \u001b[39melse\u001b[39;00m:\n\u001b[0;32m   <a href='file:///d%3A/Software/anaconda3/envs/IDSml/lib/site-packages/sklearn/metrics/pairwise.py?line=2050'>2051</a>\u001b[0m     \u001b[39mraise\u001b[39;00m \u001b[39mValueError\u001b[39;00m(\u001b[39m\"\u001b[39m\u001b[39mUnknown kernel \u001b[39m\u001b[39m%r\u001b[39;00m\u001b[39m\"\u001b[39m \u001b[39m%\u001b[39m metric)\n\u001b[1;32m-> <a href='file:///d%3A/Software/anaconda3/envs/IDSml/lib/site-packages/sklearn/metrics/pairwise.py?line=2052'>2053</a>\u001b[0m \u001b[39mreturn\u001b[39;00m _parallel_pairwise(X, Y, func, n_jobs, \u001b[39m*\u001b[39m\u001b[39m*\u001b[39mkwds)\n",
      "File \u001b[1;32md:\\Software\\anaconda3\\envs\\IDSml\\lib\\site-packages\\sklearn\\metrics\\pairwise.py:1430\u001b[0m, in \u001b[0;36m_parallel_pairwise\u001b[1;34m(X, Y, func, n_jobs, **kwds)\u001b[0m\n\u001b[0;32m   <a href='file:///d%3A/Software/anaconda3/envs/IDSml/lib/site-packages/sklearn/metrics/pairwise.py?line=1426'>1427</a>\u001b[0m X, Y, dtype \u001b[39m=\u001b[39m _return_float_dtype(X, Y)\n\u001b[0;32m   <a href='file:///d%3A/Software/anaconda3/envs/IDSml/lib/site-packages/sklearn/metrics/pairwise.py?line=1428'>1429</a>\u001b[0m \u001b[39mif\u001b[39;00m effective_n_jobs(n_jobs) \u001b[39m==\u001b[39m \u001b[39m1\u001b[39m:\n\u001b[1;32m-> <a href='file:///d%3A/Software/anaconda3/envs/IDSml/lib/site-packages/sklearn/metrics/pairwise.py?line=1429'>1430</a>\u001b[0m     \u001b[39mreturn\u001b[39;00m func(X, Y, \u001b[39m*\u001b[39m\u001b[39m*\u001b[39mkwds)\n\u001b[0;32m   <a href='file:///d%3A/Software/anaconda3/envs/IDSml/lib/site-packages/sklearn/metrics/pairwise.py?line=1431'>1432</a>\u001b[0m \u001b[39m# enforce a threading backend to prevent data communication overhead\u001b[39;00m\n\u001b[0;32m   <a href='file:///d%3A/Software/anaconda3/envs/IDSml/lib/site-packages/sklearn/metrics/pairwise.py?line=1432'>1433</a>\u001b[0m fd \u001b[39m=\u001b[39m delayed(_dist_wrapper)\n",
      "File \u001b[1;32md:\\Software\\anaconda3\\envs\\IDSml\\lib\\site-packages\\sklearn\\metrics\\pairwise.py:1175\u001b[0m, in \u001b[0;36mrbf_kernel\u001b[1;34m(X, Y, gamma)\u001b[0m\n\u001b[0;32m   <a href='file:///d%3A/Software/anaconda3/envs/IDSml/lib/site-packages/sklearn/metrics/pairwise.py?line=1171'>1172</a>\u001b[0m \u001b[39mif\u001b[39;00m gamma \u001b[39mis\u001b[39;00m \u001b[39mNone\u001b[39;00m:\n\u001b[0;32m   <a href='file:///d%3A/Software/anaconda3/envs/IDSml/lib/site-packages/sklearn/metrics/pairwise.py?line=1172'>1173</a>\u001b[0m     gamma \u001b[39m=\u001b[39m \u001b[39m1.0\u001b[39m \u001b[39m/\u001b[39m X\u001b[39m.\u001b[39mshape[\u001b[39m1\u001b[39m]\n\u001b[1;32m-> <a href='file:///d%3A/Software/anaconda3/envs/IDSml/lib/site-packages/sklearn/metrics/pairwise.py?line=1174'>1175</a>\u001b[0m K \u001b[39m=\u001b[39m euclidean_distances(X, Y, squared\u001b[39m=\u001b[39;49m\u001b[39mTrue\u001b[39;49;00m)\n\u001b[0;32m   <a href='file:///d%3A/Software/anaconda3/envs/IDSml/lib/site-packages/sklearn/metrics/pairwise.py?line=1175'>1176</a>\u001b[0m K \u001b[39m*\u001b[39m\u001b[39m=\u001b[39m \u001b[39m-\u001b[39mgamma\n\u001b[0;32m   <a href='file:///d%3A/Software/anaconda3/envs/IDSml/lib/site-packages/sklearn/metrics/pairwise.py?line=1176'>1177</a>\u001b[0m np\u001b[39m.\u001b[39mexp(K, K)  \u001b[39m# exponentiate K in-place\u001b[39;00m\n",
      "File \u001b[1;32md:\\Software\\anaconda3\\envs\\IDSml\\lib\\site-packages\\sklearn\\metrics\\pairwise.py:330\u001b[0m, in \u001b[0;36meuclidean_distances\u001b[1;34m(X, Y, Y_norm_squared, squared, X_norm_squared)\u001b[0m\n\u001b[0;32m    <a href='file:///d%3A/Software/anaconda3/envs/IDSml/lib/site-packages/sklearn/metrics/pairwise.py?line=323'>324</a>\u001b[0m     \u001b[39mif\u001b[39;00m Y_norm_squared\u001b[39m.\u001b[39mshape \u001b[39m!=\u001b[39m (\u001b[39m1\u001b[39m, Y\u001b[39m.\u001b[39mshape[\u001b[39m0\u001b[39m]):\n\u001b[0;32m    <a href='file:///d%3A/Software/anaconda3/envs/IDSml/lib/site-packages/sklearn/metrics/pairwise.py?line=324'>325</a>\u001b[0m         \u001b[39mraise\u001b[39;00m \u001b[39mValueError\u001b[39;00m(\n\u001b[0;32m    <a href='file:///d%3A/Software/anaconda3/envs/IDSml/lib/site-packages/sklearn/metrics/pairwise.py?line=325'>326</a>\u001b[0m             \u001b[39mf\u001b[39m\u001b[39m\"\u001b[39m\u001b[39mIncompatible dimensions for Y of shape \u001b[39m\u001b[39m{\u001b[39;00mY\u001b[39m.\u001b[39mshape\u001b[39m}\u001b[39;00m\u001b[39m and \u001b[39m\u001b[39m\"\u001b[39m\n\u001b[0;32m    <a href='file:///d%3A/Software/anaconda3/envs/IDSml/lib/site-packages/sklearn/metrics/pairwise.py?line=326'>327</a>\u001b[0m             \u001b[39mf\u001b[39m\u001b[39m\"\u001b[39m\u001b[39mY_norm_squared of shape \u001b[39m\u001b[39m{\u001b[39;00moriginal_shape\u001b[39m}\u001b[39;00m\u001b[39m.\u001b[39m\u001b[39m\"\u001b[39m\n\u001b[0;32m    <a href='file:///d%3A/Software/anaconda3/envs/IDSml/lib/site-packages/sklearn/metrics/pairwise.py?line=327'>328</a>\u001b[0m         )\n\u001b[1;32m--> <a href='file:///d%3A/Software/anaconda3/envs/IDSml/lib/site-packages/sklearn/metrics/pairwise.py?line=329'>330</a>\u001b[0m \u001b[39mreturn\u001b[39;00m _euclidean_distances(X, Y, X_norm_squared, Y_norm_squared, squared)\n",
      "File \u001b[1;32md:\\Software\\anaconda3\\envs\\IDSml\\lib\\site-packages\\sklearn\\metrics\\pairwise.py:371\u001b[0m, in \u001b[0;36m_euclidean_distances\u001b[1;34m(X, Y, X_norm_squared, Y_norm_squared, squared)\u001b[0m\n\u001b[0;32m    <a href='file:///d%3A/Software/anaconda3/envs/IDSml/lib/site-packages/sklearn/metrics/pairwise.py?line=367'>368</a>\u001b[0m     distances \u001b[39m=\u001b[39m _euclidean_distances_upcast(X, XX, Y, YY)\n\u001b[0;32m    <a href='file:///d%3A/Software/anaconda3/envs/IDSml/lib/site-packages/sklearn/metrics/pairwise.py?line=368'>369</a>\u001b[0m \u001b[39melse\u001b[39;00m:\n\u001b[0;32m    <a href='file:///d%3A/Software/anaconda3/envs/IDSml/lib/site-packages/sklearn/metrics/pairwise.py?line=369'>370</a>\u001b[0m     \u001b[39m# if dtype is already float64, no need to chunk and upcast\u001b[39;00m\n\u001b[1;32m--> <a href='file:///d%3A/Software/anaconda3/envs/IDSml/lib/site-packages/sklearn/metrics/pairwise.py?line=370'>371</a>\u001b[0m     distances \u001b[39m=\u001b[39m \u001b[39m-\u001b[39m\u001b[39m2\u001b[39m \u001b[39m*\u001b[39m safe_sparse_dot(X, Y\u001b[39m.\u001b[39;49mT, dense_output\u001b[39m=\u001b[39;49m\u001b[39mTrue\u001b[39;49;00m)\n\u001b[0;32m    <a href='file:///d%3A/Software/anaconda3/envs/IDSml/lib/site-packages/sklearn/metrics/pairwise.py?line=371'>372</a>\u001b[0m     distances \u001b[39m+\u001b[39m\u001b[39m=\u001b[39m XX\n\u001b[0;32m    <a href='file:///d%3A/Software/anaconda3/envs/IDSml/lib/site-packages/sklearn/metrics/pairwise.py?line=372'>373</a>\u001b[0m     distances \u001b[39m+\u001b[39m\u001b[39m=\u001b[39m YY\n",
      "File \u001b[1;32md:\\Software\\anaconda3\\envs\\IDSml\\lib\\site-packages\\sklearn\\utils\\extmath.py:153\u001b[0m, in \u001b[0;36msafe_sparse_dot\u001b[1;34m(a, b, dense_output)\u001b[0m\n\u001b[0;32m    <a href='file:///d%3A/Software/anaconda3/envs/IDSml/lib/site-packages/sklearn/utils/extmath.py?line=150'>151</a>\u001b[0m         ret \u001b[39m=\u001b[39m np\u001b[39m.\u001b[39mdot(a, b)\n\u001b[0;32m    <a href='file:///d%3A/Software/anaconda3/envs/IDSml/lib/site-packages/sklearn/utils/extmath.py?line=151'>152</a>\u001b[0m \u001b[39melse\u001b[39;00m:\n\u001b[1;32m--> <a href='file:///d%3A/Software/anaconda3/envs/IDSml/lib/site-packages/sklearn/utils/extmath.py?line=152'>153</a>\u001b[0m     ret \u001b[39m=\u001b[39m a \u001b[39m@\u001b[39;49m b\n\u001b[0;32m    <a href='file:///d%3A/Software/anaconda3/envs/IDSml/lib/site-packages/sklearn/utils/extmath.py?line=154'>155</a>\u001b[0m \u001b[39mif\u001b[39;00m (\n\u001b[0;32m    <a href='file:///d%3A/Software/anaconda3/envs/IDSml/lib/site-packages/sklearn/utils/extmath.py?line=155'>156</a>\u001b[0m     sparse\u001b[39m.\u001b[39missparse(a)\n\u001b[0;32m    <a href='file:///d%3A/Software/anaconda3/envs/IDSml/lib/site-packages/sklearn/utils/extmath.py?line=156'>157</a>\u001b[0m     \u001b[39mand\u001b[39;00m sparse\u001b[39m.\u001b[39missparse(b)\n\u001b[0;32m    <a href='file:///d%3A/Software/anaconda3/envs/IDSml/lib/site-packages/sklearn/utils/extmath.py?line=157'>158</a>\u001b[0m     \u001b[39mand\u001b[39;00m dense_output\n\u001b[0;32m    <a href='file:///d%3A/Software/anaconda3/envs/IDSml/lib/site-packages/sklearn/utils/extmath.py?line=158'>159</a>\u001b[0m     \u001b[39mand\u001b[39;00m \u001b[39mhasattr\u001b[39m(ret, \u001b[39m\"\u001b[39m\u001b[39mtoarray\u001b[39m\u001b[39m\"\u001b[39m)\n\u001b[0;32m    <a href='file:///d%3A/Software/anaconda3/envs/IDSml/lib/site-packages/sklearn/utils/extmath.py?line=159'>160</a>\u001b[0m ):\n\u001b[0;32m    <a href='file:///d%3A/Software/anaconda3/envs/IDSml/lib/site-packages/sklearn/utils/extmath.py?line=160'>161</a>\u001b[0m     \u001b[39mreturn\u001b[39;00m ret\u001b[39m.\u001b[39mtoarray()\n",
      "\u001b[1;31mMemoryError\u001b[0m: Unable to allocate 35.5 GiB for an array with shape (69000, 69000) and data type float64"
     ]
    }
   ],
   "source": [
    "# from sklearn.decomposition import KernelPCA\n",
    "# kpca = KernelPCA(n_components = 10, kernel = 'rbf')\n",
    "# kpca.fit(X_fss, y)\n",
    "# X_kpca = kpca.transform(X_fss)\n",
    "\n",
    "# # from sklearn.decomposition import PCA\n",
    "# # kpca = PCA(n_components = 10)\n",
    "# # kpca.fit(X_fss, y)\n",
    "# # X_kpca = kpca.transform(X_fss)"
   ]
  },
  {
   "cell_type": "markdown",
   "metadata": {},
   "source": [
    "### Train-test split after feature selection"
   ]
  },
  {
   "cell_type": "code",
   "execution_count": null,
   "metadata": {
    "collapsed": true
   },
   "outputs": [],
   "source": [
    "# X_train = X_kpca[:len(df1)]\n",
    "# y_train = y[:len(df1)]\n",
    "# X_test = X_kpca[len(df1):]\n",
    "# y_test = y[len(df1):]"
   ]
  },
  {
   "cell_type": "markdown",
   "metadata": {},
   "source": [
    "### Solve class-imbalance by SMOTE"
   ]
  },
  {
   "cell_type": "code",
   "execution_count": null,
   "metadata": {
    "collapsed": false
   },
   "outputs": [
    {
     "data": {
      "text/plain": [
       "0    18225\n",
       "1     7320\n",
       "dtype: int64"
      ]
     },
     "execution_count": 87,
     "metadata": {},
     "output_type": "execute_result"
    }
   ],
   "source": [
    "# pd.Series(y_train).value_counts()"
   ]
  },
  {
   "cell_type": "code",
   "execution_count": null,
   "metadata": {
    "collapsed": false
   },
   "outputs": [],
   "source": [
    "# from imblearn.over_sampling import SMOTE\n",
    "# smote=SMOTE(n_jobs=-1,sampling_strategy={1:18225})\n",
    "# X_train, y_train = smote.fit_sample(X_train, y_train)"
   ]
  },
  {
   "cell_type": "code",
   "execution_count": null,
   "metadata": {
    "collapsed": false
   },
   "outputs": [
    {
     "data": {
      "text/plain": [
       "1    18225\n",
       "0    18225\n",
       "dtype: int64"
      ]
     },
     "execution_count": 89,
     "metadata": {},
     "output_type": "execute_result"
    }
   ],
   "source": [
    "# pd.Series(y_train).value_counts()"
   ]
  },
  {
   "cell_type": "code",
   "execution_count": null,
   "metadata": {
    "collapsed": false
   },
   "outputs": [
    {
     "data": {
      "text/plain": [
       "1    1255\n",
       "0    1255\n",
       "dtype: int64"
      ]
     },
     "execution_count": 90,
     "metadata": {},
     "output_type": "execute_result"
    }
   ],
   "source": [
    "# pd.Series(y_test).value_counts()"
   ]
  },
  {
   "cell_type": "markdown",
   "metadata": {},
   "source": [
    "### Apply the cluster labeling (CL) k-means method"
   ]
  },
  {
   "cell_type": "code",
   "execution_count": null,
   "metadata": {
    "collapsed": true
   },
   "outputs": [],
   "source": [
    "# from sklearn.cluster import KMeans\n",
    "# from sklearn.cluster import DBSCAN,MeanShift\n",
    "# from sklearn.cluster import SpectralClustering,AgglomerativeClustering,AffinityPropagation,Birch,MiniBatchKMeans,MeanShift \n",
    "# from sklearn.mixture import GaussianMixture, BayesianGaussianMixture\n",
    "# from sklearn.metrics import classification_report\n",
    "# from sklearn import metrics"
   ]
  },
  {
   "cell_type": "code",
   "execution_count": null,
   "metadata": {
    "collapsed": true
   },
   "outputs": [],
   "source": [
    "# def CL_kmeans(X_train, X_test, y_train, y_test,n,b=100):\n",
    "#     km_cluster = MiniBatchKMeans(n_clusters=n,batch_size=b)\n",
    "#     result = km_cluster.fit_predict(X_train)\n",
    "#     result2 = km_cluster.predict(X_test)\n",
    "\n",
    "#     count=0\n",
    "#     a=np.zeros(n)\n",
    "#     b=np.zeros(n)\n",
    "#     for v in range(0,n):\n",
    "#         for i in range(0,len(y_train)):\n",
    "#             if result[i]==v:\n",
    "#                 if y_train[i]==1:\n",
    "#                     a[v]=a[v]+1\n",
    "#                 else:\n",
    "#                     b[v]=b[v]+1\n",
    "#     list1=[]\n",
    "#     list2=[]\n",
    "#     for v in range(0,n):\n",
    "#         if a[v]<=b[v]:\n",
    "#             list1.append(v)\n",
    "#         else: \n",
    "#             list2.append(v)\n",
    "#     for v in range(0,len(y_test)):\n",
    "#         if result2[v] in list1:\n",
    "#             result2[v]=0\n",
    "#         elif result2[v] in list2:\n",
    "#             result2[v]=1\n",
    "#         else:\n",
    "#             print(\"-1\")\n",
    "#     print(classification_report(y_test, result2))\n",
    "#     cm=confusion_matrix(y_test,result2)\n",
    "#     acc=metrics.accuracy_score(y_test,result2)\n",
    "#     print(str(acc))\n",
    "#     print(cm)"
   ]
  },
  {
   "cell_type": "code",
   "execution_count": null,
   "metadata": {
    "collapsed": false
   },
   "outputs": [
    {
     "name": "stdout",
     "output_type": "stream",
     "text": [
      "              precision    recall  f1-score   support\n",
      "\n",
      "           0       0.58      0.69      0.63      1255\n",
      "           1       0.62      0.51      0.56      1255\n",
      "\n",
      "    accuracy                           0.60      2510\n",
      "   macro avg       0.60      0.60      0.60      2510\n",
      "weighted avg       0.60      0.60      0.60      2510\n",
      "\n",
      "0.5984063745019921\n",
      "[[864 391]\n",
      " [617 638]]\n"
     ]
    }
   ],
   "source": [
    "# CL_kmeans(X_train, X_test, y_train, y_test, 8)"
   ]
  },
  {
   "cell_type": "markdown",
   "metadata": {},
   "source": [
    "### Hyperparameter optimization of CL-k-means\n",
    "Tune \"k\""
   ]
  },
  {
   "cell_type": "code",
   "execution_count": null,
   "metadata": {
    "collapsed": false,
    "scrolled": true
   },
   "outputs": [
    {
     "name": "stdout",
     "output_type": "stream",
     "text": [
      "30 0.6972111553784861\n",
      "43 0.7127490039840637\n",
      "43 0.399203187250996\n",
      "43 0.47051792828685257\n",
      "32 0.653784860557769\n",
      "20 0.34860557768924305\n",
      "16 0.9195219123505977\n",
      "5 0.4370517928286853\n",
      "15 0.6729083665338645\n",
      "25 0.7063745019920319\n",
      "2 0.47808764940239046\n",
      "50 0.4199203187250996\n"
     ]
    },
    {
     "name": "stderr",
     "output_type": "stream",
     "text": [
      "C:\\Program Files\\Anaconda3\\lib\\site-packages\\skopt\\optimizer\\optimizer.py:409: UserWarning: The objective has been evaluated at this point before.\n",
      "  warnings.warn(\"The objective has been evaluated \"\n"
     ]
    },
    {
     "name": "stdout",
     "output_type": "stream",
     "text": [
      "2 0.47768924302788845\n"
     ]
    },
    {
     "name": "stderr",
     "output_type": "stream",
     "text": [
      "C:\\Program Files\\Anaconda3\\lib\\site-packages\\skopt\\optimizer\\optimizer.py:409: UserWarning: The objective has been evaluated at this point before.\n",
      "  warnings.warn(\"The objective has been evaluated \"\n"
     ]
    },
    {
     "name": "stdout",
     "output_type": "stream",
     "text": [
      "50 0.39282868525896414\n",
      "17 0.42828685258964144\n"
     ]
    },
    {
     "name": "stderr",
     "output_type": "stream",
     "text": [
      "C:\\Program Files\\Anaconda3\\lib\\site-packages\\skopt\\optimizer\\optimizer.py:409: UserWarning: The objective has been evaluated at this point before.\n",
      "  warnings.warn(\"The objective has been evaluated \"\n"
     ]
    },
    {
     "name": "stdout",
     "output_type": "stream",
     "text": [
      "2 0.47768924302788845\n"
     ]
    },
    {
     "name": "stderr",
     "output_type": "stream",
     "text": [
      "C:\\Program Files\\Anaconda3\\lib\\site-packages\\skopt\\optimizer\\optimizer.py:409: UserWarning: The objective has been evaluated at this point before.\n",
      "  warnings.warn(\"The objective has been evaluated \"\n"
     ]
    },
    {
     "name": "stdout",
     "output_type": "stream",
     "text": [
      "2 0.47768924302788845\n"
     ]
    },
    {
     "name": "stderr",
     "output_type": "stream",
     "text": [
      "C:\\Program Files\\Anaconda3\\lib\\site-packages\\skopt\\optimizer\\optimizer.py:409: UserWarning: The objective has been evaluated at this point before.\n",
      "  warnings.warn(\"The objective has been evaluated \"\n"
     ]
    },
    {
     "name": "stdout",
     "output_type": "stream",
     "text": [
      "16 0.6992031872509961\n"
     ]
    },
    {
     "name": "stderr",
     "output_type": "stream",
     "text": [
      "C:\\Program Files\\Anaconda3\\lib\\site-packages\\skopt\\optimizer\\optimizer.py:409: UserWarning: The objective has been evaluated at this point before.\n",
      "  warnings.warn(\"The objective has been evaluated \"\n"
     ]
    },
    {
     "name": "stdout",
     "output_type": "stream",
     "text": [
      "16 0.3737051792828685\n"
     ]
    },
    {
     "name": "stderr",
     "output_type": "stream",
     "text": [
      "C:\\Program Files\\Anaconda3\\lib\\site-packages\\skopt\\optimizer\\optimizer.py:409: UserWarning: The objective has been evaluated at this point before.\n",
      "  warnings.warn(\"The objective has been evaluated \"\n"
     ]
    },
    {
     "name": "stdout",
     "output_type": "stream",
     "text": [
      "50 0.6250996015936255\n",
      "9.127083539962769\n",
      "Best score=0.9195\n",
      "Best parameters: n_clusters=16\n"
     ]
    }
   ],
   "source": [
    "# #Hyperparameter optimization by BO-GP\n",
    "# from skopt.space import Real, Integer\n",
    "# from skopt.utils import use_named_args\n",
    "# from sklearn import metrics\n",
    "\n",
    "# space  = [Integer(2, 50, name='n_clusters')]\n",
    "# @use_named_args(space)\n",
    "# def objective(**params):\n",
    "#     km_cluster = MiniBatchKMeans(batch_size=100, **params)\n",
    "#     n=params['n_clusters']\n",
    "    \n",
    "#     result = km_cluster.fit_predict(X_train)\n",
    "#     result2 = km_cluster.predict(X_test)\n",
    "\n",
    "#     count=0\n",
    "#     a=np.zeros(n)\n",
    "#     b=np.zeros(n)\n",
    "#     for v in range(0,n):\n",
    "#         for i in range(0,len(y_train)):\n",
    "#             if result[i]==v:\n",
    "#                 if y_train[i]==1:\n",
    "#                     a[v]=a[v]+1\n",
    "#                 else:\n",
    "#                     b[v]=b[v]+1\n",
    "#     list1=[]\n",
    "#     list2=[]\n",
    "#     for v in range(0,n):\n",
    "#         if a[v]<=b[v]:\n",
    "#             list1.append(v)\n",
    "#         else: \n",
    "#             list2.append(v)\n",
    "#     for v in range(0,len(y_test)):\n",
    "#         if result2[v] in list1:\n",
    "#             result2[v]=0\n",
    "#         elif result2[v] in list2:\n",
    "#             result2[v]=1\n",
    "#         else:\n",
    "#             print(\"-1\")\n",
    "#     cm=metrics.accuracy_score(y_test,result2)\n",
    "#     print(str(n)+\" \"+str(cm))\n",
    "#     return (1-cm)\n",
    "# from skopt import gp_minimize\n",
    "# import time\n",
    "# t1=time.time()\n",
    "# res_gp = gp_minimize(objective, space, n_calls=20, random_state=0)\n",
    "# t2=time.time()\n",
    "# print(t2-t1)\n",
    "# print(\"Best score=%.4f\" % (1-res_gp.fun))\n",
    "# print(\"\"\"Best parameters: n_clusters=%d\"\"\" % (res_gp.x[0]))"
   ]
  },
  {
   "cell_type": "code",
   "execution_count": null,
   "metadata": {
    "collapsed": false
   },
   "outputs": [
    {
     "name": "stdout",
     "output_type": "stream",
     "text": [
      "23 0.34422310756972113\n",
      "15 0.6685258964143427\n",
      "46 0.450199203187251\n",
      "15 0.4896414342629482\n",
      "29 0.6824701195219124\n",
      "36 0.3888446215139442\n",
      "22 0.35776892430278884\n",
      "25 0.34860557768924305\n",
      "42 0.41832669322709165\n",
      "27 0.47051792828685257\n",
      "26 0.39402390438247015\n",
      "25 0.6824701195219124\n",
      "33 0.3848605577689243\n",
      "19 0.7191235059760956\n",
      "6 0.5824701195219123\n",
      "21 0.6697211155378486\n",
      "24 0.451394422310757\n",
      "37 0.4681274900398406\n",
      "14 0.47250996015936253\n",
      "21 0.8434262948207172\n",
      "100%|███████████████████████████████████████████████| 20/20 [00:06<00:00,  2.87trial/s, best loss: 0.15657370517928282]\n",
      "Random Forest: Hyperopt estimated optimum {'n_clusters': 21.0}\n"
     ]
    }
   ],
   "source": [
    "# #Hyperparameter optimization by BO-TPE\n",
    "# from hyperopt import hp, fmin, tpe, STATUS_OK, Trials\n",
    "# from sklearn.model_selection import cross_val_score, StratifiedKFold\n",
    "# from sklearn.cluster import MiniBatchKMeans\n",
    "# from sklearn import metrics\n",
    "\n",
    "# def objective(params):\n",
    "#     params = {\n",
    "#         'n_clusters': int(params['n_clusters']), \n",
    "#     }\n",
    "#     km_cluster = MiniBatchKMeans(batch_size=100, **params)\n",
    "#     n=params['n_clusters']\n",
    "    \n",
    "#     result = km_cluster.fit_predict(X_train)\n",
    "#     result2 = km_cluster.predict(X_test)\n",
    "\n",
    "#     count=0\n",
    "#     a=np.zeros(n)\n",
    "#     b=np.zeros(n)\n",
    "#     for v in range(0,n):\n",
    "#         for i in range(0,len(y_train)):\n",
    "#             if result[i]==v:\n",
    "#                 if y_train[i]==1:\n",
    "#                     a[v]=a[v]+1\n",
    "#                 else:\n",
    "#                     b[v]=b[v]+1\n",
    "#     list1=[]\n",
    "#     list2=[]\n",
    "#     for v in range(0,n):\n",
    "#         if a[v]<=b[v]:\n",
    "#             list1.append(v)\n",
    "#         else: \n",
    "#             list2.append(v)\n",
    "#     for v in range(0,len(y_test)):\n",
    "#         if result2[v] in list1:\n",
    "#             result2[v]=0\n",
    "#         elif result2[v] in list2:\n",
    "#             result2[v]=1\n",
    "#         else:\n",
    "#             print(\"-1\")\n",
    "#     score=metrics.accuracy_score(y_test,result2)\n",
    "#     print(str(params['n_clusters'])+\" \"+str(score))\n",
    "#     return {'loss':1-score, 'status': STATUS_OK }\n",
    "# space = {\n",
    "#     'n_clusters': hp.quniform('n_clusters', 2, 50, 1),\n",
    "# }\n",
    "\n",
    "# best = fmin(fn=objective,\n",
    "#             space=space,\n",
    "#             algo=tpe.suggest,\n",
    "#             max_evals=20)\n",
    "# print(\"Random Forest: Hyperopt estimated optimum {}\".format(best))"
   ]
  },
  {
   "cell_type": "code",
   "execution_count": null,
   "metadata": {
    "collapsed": false
   },
   "outputs": [
    {
     "name": "stdout",
     "output_type": "stream",
     "text": [
      "              precision    recall  f1-score   support\n",
      "\n",
      "           0       0.99      0.90      0.94      1255\n",
      "           1       0.91      0.99      0.95      1255\n",
      "\n",
      "    accuracy                           0.95      2510\n",
      "   macro avg       0.95      0.95      0.94      2510\n",
      "weighted avg       0.95      0.95      0.94      2510\n",
      "\n",
      "0.9450199203187251\n",
      "[[1127  128]\n",
      " [  10 1245]]\n"
     ]
    }
   ],
   "source": [
    "# CL_kmeans(X_train, X_test, y_train, y_test, 16)"
   ]
  },
  {
   "cell_type": "markdown",
   "metadata": {},
   "source": [
    "### Apply the CL-k-means model with biased classifiers"
   ]
  },
  {
   "cell_type": "code",
   "execution_count": null,
   "metadata": {
    "collapsed": true
   },
   "outputs": [],
   "source": [
    "# # needs to work on the entire dataset to generate sufficient training samples for biased classifiers\n",
    "# def Anomaly_IDS(X_train, X_test, y_train, y_test,n,b=100):\n",
    "#     # CL-kmeans\n",
    "#     km_cluster = MiniBatchKMeans(n_clusters=n,batch_size=b)\n",
    "#     result = km_cluster.fit_predict(X_train)\n",
    "#     result2 = km_cluster.predict(X_test)\n",
    "\n",
    "#     count=0\n",
    "#     a=np.zeros(n)\n",
    "#     b=np.zeros(n)\n",
    "#     for v in range(0,n):\n",
    "#         for i in range(0,len(y_train)):\n",
    "#             if result[i]==v:\n",
    "#                 if y_train[i]==1:\n",
    "#                     a[v]=a[v]+1\n",
    "#                 else:\n",
    "#                     b[v]=b[v]+1\n",
    "#     list1=[]\n",
    "#     list2=[]\n",
    "#     for v in range(0,n):\n",
    "#         if a[v]<=b[v]:\n",
    "#             list1.append(v)\n",
    "#         else: \n",
    "#             list2.append(v)\n",
    "#     for v in range(0,len(y_test)):\n",
    "#         if result2[v] in list1:\n",
    "#             result2[v]=0\n",
    "#         elif result2[v] in list2:\n",
    "#             result2[v]=1\n",
    "#         else:\n",
    "#             print(\"-1\")\n",
    "#     print(classification_report(y_test, result2))\n",
    "#     cm=confusion_matrix(y_test,result2)\n",
    "#     acc=metrics.accuracy_score(y_test,result2)\n",
    "#     print(str(acc))\n",
    "#     print(cm)\n",
    "    \n",
    "#     #Biased classifier construction\n",
    "#     count=0\n",
    "#     print(len(y))\n",
    "#     a=np.zeros(n)\n",
    "#     b=np.zeros(n)\n",
    "#     FNL=[]\n",
    "#     FPL=[]\n",
    "#     for v in range(0,n):\n",
    "#         al=[]\n",
    "#         bl=[]\n",
    "#         for i in range(0,len(y)):   \n",
    "#             if result[i]==v:        \n",
    "#                 if y[i]==1:        #label 1\n",
    "#                     a[v]=a[v]+1\n",
    "#                     al.append(i)\n",
    "#                 else:             #label 0\n",
    "#                     b[v]=b[v]+1\n",
    "#                     bl.append(i)\n",
    "#         if a[v]<=b[v]:\n",
    "#             FNL.extend(al)\n",
    "#         else:\n",
    "#             FPL.extend(bl)\n",
    "#         #print(str(v)+\"=\"+str(a[v]/(a[v]+b[v])))\n",
    "        \n",
    "#     dffp=df.iloc[FPL, :]\n",
    "#     dffn=df.iloc[FNL, :]\n",
    "#     dfva0=df[df['Label']==0]\n",
    "#     dfva1=df[df['Label']==1]\n",
    "    \n",
    "#     dffpp=dfva1.sample(n=None, frac=len(FPL)/dfva1.shape[0], replace=False, weights=None, random_state=None, axis=0)\n",
    "#     dffnp=dfva0.sample(n=None, frac=len(FNL)/dfva0.shape[0], replace=False, weights=None, random_state=None, axis=0)\n",
    "    \n",
    "#     dffp_f=pd.concat([dffp, dffpp])\n",
    "#     dffn_f=pd.concat([dffn, dffnp])\n",
    "    \n",
    "#     Xp = dffp_f.drop(['Label'],axis=1)  \n",
    "#     yp = dffp_f.iloc[:, -1].values.reshape(-1,1)\n",
    "#     yp=np.ravel(yp)\n",
    "\n",
    "#     Xn = dffn_f.drop(['Label'],axis=1)  \n",
    "#     yn = dffn_f.iloc[:, -1].values.reshape(-1,1)\n",
    "#     yn=np.ravel(yn)\n",
    "    \n",
    "#     rfp = RandomForestClassifier(random_state = 0)\n",
    "#     rfp.fit(Xp,yp)\n",
    "#     rfn = RandomForestClassifier(random_state = 0)\n",
    "#     rfn.fit(Xn,yn)\n",
    "\n",
    "#     dffnn_f=pd.concat([dffn, dffnp])\n",
    "    \n",
    "#     Xnn = dffn_f.drop(['Label'],axis=1)  \n",
    "#     ynn = dffn_f.iloc[:, -1].values.reshape(-1,1)\n",
    "#     ynn=np.ravel(ynn)\n",
    "\n",
    "#     rfnn = RandomForestClassifier(random_state = 0)\n",
    "#     rfnn.fit(Xnn,ynn)\n",
    "\n",
    "#     X2p = df2.drop(['Label'],axis=1) \n",
    "#     y2p = df2.iloc[:, -1].values.reshape(-1,1)\n",
    "#     y2p=np.ravel(y2p)\n",
    "\n",
    "#     result2 = km_cluster.predict(X2p)\n",
    "\n",
    "#     count=0\n",
    "#     a=np.zeros(n)\n",
    "#     b=np.zeros(n)\n",
    "#     for v in range(0,n):\n",
    "#         for i in range(0,len(y)):\n",
    "#             if result[i]==v:\n",
    "#                 if y[i]==1:\n",
    "#                     a[v]=a[v]+1\n",
    "#                 else:\n",
    "#                     b[v]=b[v]+1\n",
    "#     list1=[]\n",
    "#     list2=[]\n",
    "#     l1=[]\n",
    "#     l0=[]\n",
    "#     for v in range(0,n):\n",
    "#         if a[v]<=b[v]:\n",
    "#             list1.append(v)\n",
    "#         else: \n",
    "#             list2.append(v)\n",
    "#     for v in range(0,len(y2p)):\n",
    "#         if result2[v] in list1:\n",
    "#             result2[v]=0\n",
    "#             l0.append(v)\n",
    "#         elif result2[v] in list2:\n",
    "#             result2[v]=1\n",
    "#             l1.append(v)\n",
    "#         else:\n",
    "#             print(\"-1\")\n",
    "#     print(classification_report(y2p, result2))\n",
    "#     cm=confusion_matrix(y2p,result2)\n",
    "#     print(cm)"
   ]
  },
  {
   "cell_type": "markdown",
   "metadata": {},
   "source": [
    "More details are in the paper"
   ]
  }
 ],
 "metadata": {
  "anaconda-cloud": {},
  "kernelspec": {
   "display_name": "Python 3.8.15 ('IDSml_cnn_2')",
   "language": "python",
   "name": "python3"
  },
  "language_info": {
   "codemirror_mode": {
    "name": "ipython",
    "version": 3
   },
   "file_extension": ".py",
   "mimetype": "text/x-python",
   "name": "python",
   "nbconvert_exporter": "python",
   "pygments_lexer": "ipython3",
   "version": "3.8.15"
  },
  "vscode": {
   "interpreter": {
    "hash": "7433aad5856aa069d06b9f622f042b0ba1f51348e8d64f8739ef1543b182edd5"
   }
  }
 },
 "nbformat": 4,
 "nbformat_minor": 2
}
