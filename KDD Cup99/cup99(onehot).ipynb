{
 "cells": [
  {
   "cell_type": "markdown",
   "metadata": {},
   "source": [
    "# KDDCUP99 Dataset\n"
   ]
  },
  {
   "cell_type": "markdown",
   "metadata": {},
   "source": [
    "改动：\n",
    "1. 字符串用onehot处理(和直接删除比，高了0.1%-0.15%)\n",
    "2. 没有分major和minor\n",
    "3. SMOTE用了自动模式，而且有一个参数改的不确定"
   ]
  },
  {
   "cell_type": "markdown",
   "metadata": {},
   "source": [
    "## Import libraries"
   ]
  },
  {
   "cell_type": "code",
   "execution_count": 53,
   "metadata": {
    "collapsed": true
   },
   "outputs": [],
   "source": [
    "import warnings\n",
    "warnings.filterwarnings(\"ignore\")"
   ]
  },
  {
   "cell_type": "code",
   "execution_count": 54,
   "metadata": {
    "collapsed": false
   },
   "outputs": [],
   "source": [
    "import numpy as np\n",
    "import pandas as pd\n",
    "import seaborn as sns\n",
    "import matplotlib.pyplot as plt\n",
    "from sklearn.preprocessing import LabelEncoder\n",
    "from sklearn.model_selection import train_test_split\n",
    "from sklearn.metrics import classification_report,confusion_matrix,accuracy_score,precision_recall_fscore_support\n",
    "from sklearn.metrics import f1_score,roc_auc_score\n",
    "from sklearn.ensemble import RandomForestClassifier,ExtraTreesClassifier\n",
    "from sklearn.tree import DecisionTreeClassifier\n",
    "import xgboost as xgb\n",
    "from xgboost import plot_importance"
   ]
  },
  {
   "cell_type": "markdown",
   "metadata": {},
   "source": [
    "## Read the  dataset"
   ]
  },
  {
   "cell_type": "code",
   "execution_count": 55,
   "metadata": {
    "collapsed": false
   },
   "outputs": [],
   "source": [
    "#Read dataset\n",
    "df = pd.read_csv('./data/kddcup99.csv')"
   ]
  },
  {
   "cell_type": "code",
   "execution_count": 56,
   "metadata": {
    "collapsed": false
   },
   "outputs": [
    {
     "data": {
      "text/html": [
       "<div>\n",
       "<style scoped>\n",
       "    .dataframe tbody tr th:only-of-type {\n",
       "        vertical-align: middle;\n",
       "    }\n",
       "\n",
       "    .dataframe tbody tr th {\n",
       "        vertical-align: top;\n",
       "    }\n",
       "\n",
       "    .dataframe thead th {\n",
       "        text-align: right;\n",
       "    }\n",
       "</style>\n",
       "<table border=\"1\" class=\"dataframe\">\n",
       "  <thead>\n",
       "    <tr style=\"text-align: right;\">\n",
       "      <th></th>\n",
       "      <th>duration</th>\n",
       "      <th>protocol_type</th>\n",
       "      <th>service</th>\n",
       "      <th>flag</th>\n",
       "      <th>src_bytes</th>\n",
       "      <th>dst_bytes</th>\n",
       "      <th>land</th>\n",
       "      <th>wrong_fragment</th>\n",
       "      <th>urgent</th>\n",
       "      <th>hot</th>\n",
       "      <th>...</th>\n",
       "      <th>dst_host_srv_count</th>\n",
       "      <th>dst_host_same_srv_rate</th>\n",
       "      <th>dst_host_diff_srv_rate</th>\n",
       "      <th>dst_host_same_src_port_rate</th>\n",
       "      <th>dst_host_srv_diff_host_rate</th>\n",
       "      <th>dst_host_serror_rate</th>\n",
       "      <th>dst_host_srv_serror_rate</th>\n",
       "      <th>dst_host_rerror_rate</th>\n",
       "      <th>dst_host_srv_rerror_rate</th>\n",
       "      <th>label</th>\n",
       "    </tr>\n",
       "  </thead>\n",
       "  <tbody>\n",
       "    <tr>\n",
       "      <th>0</th>\n",
       "      <td>0</td>\n",
       "      <td>tcp</td>\n",
       "      <td>http</td>\n",
       "      <td>SF</td>\n",
       "      <td>181</td>\n",
       "      <td>5450</td>\n",
       "      <td>0</td>\n",
       "      <td>0</td>\n",
       "      <td>0</td>\n",
       "      <td>0</td>\n",
       "      <td>...</td>\n",
       "      <td>9</td>\n",
       "      <td>1.0</td>\n",
       "      <td>0.0</td>\n",
       "      <td>0.11</td>\n",
       "      <td>0.00</td>\n",
       "      <td>0.00</td>\n",
       "      <td>0.00</td>\n",
       "      <td>0.0</td>\n",
       "      <td>0.0</td>\n",
       "      <td>normal</td>\n",
       "    </tr>\n",
       "    <tr>\n",
       "      <th>1</th>\n",
       "      <td>0</td>\n",
       "      <td>tcp</td>\n",
       "      <td>http</td>\n",
       "      <td>SF</td>\n",
       "      <td>239</td>\n",
       "      <td>486</td>\n",
       "      <td>0</td>\n",
       "      <td>0</td>\n",
       "      <td>0</td>\n",
       "      <td>0</td>\n",
       "      <td>...</td>\n",
       "      <td>19</td>\n",
       "      <td>1.0</td>\n",
       "      <td>0.0</td>\n",
       "      <td>0.05</td>\n",
       "      <td>0.00</td>\n",
       "      <td>0.00</td>\n",
       "      <td>0.00</td>\n",
       "      <td>0.0</td>\n",
       "      <td>0.0</td>\n",
       "      <td>normal</td>\n",
       "    </tr>\n",
       "    <tr>\n",
       "      <th>2</th>\n",
       "      <td>0</td>\n",
       "      <td>tcp</td>\n",
       "      <td>http</td>\n",
       "      <td>SF</td>\n",
       "      <td>235</td>\n",
       "      <td>1337</td>\n",
       "      <td>0</td>\n",
       "      <td>0</td>\n",
       "      <td>0</td>\n",
       "      <td>0</td>\n",
       "      <td>...</td>\n",
       "      <td>29</td>\n",
       "      <td>1.0</td>\n",
       "      <td>0.0</td>\n",
       "      <td>0.03</td>\n",
       "      <td>0.00</td>\n",
       "      <td>0.00</td>\n",
       "      <td>0.00</td>\n",
       "      <td>0.0</td>\n",
       "      <td>0.0</td>\n",
       "      <td>normal</td>\n",
       "    </tr>\n",
       "    <tr>\n",
       "      <th>3</th>\n",
       "      <td>0</td>\n",
       "      <td>tcp</td>\n",
       "      <td>http</td>\n",
       "      <td>SF</td>\n",
       "      <td>219</td>\n",
       "      <td>1337</td>\n",
       "      <td>0</td>\n",
       "      <td>0</td>\n",
       "      <td>0</td>\n",
       "      <td>0</td>\n",
       "      <td>...</td>\n",
       "      <td>39</td>\n",
       "      <td>1.0</td>\n",
       "      <td>0.0</td>\n",
       "      <td>0.03</td>\n",
       "      <td>0.00</td>\n",
       "      <td>0.00</td>\n",
       "      <td>0.00</td>\n",
       "      <td>0.0</td>\n",
       "      <td>0.0</td>\n",
       "      <td>normal</td>\n",
       "    </tr>\n",
       "    <tr>\n",
       "      <th>4</th>\n",
       "      <td>0</td>\n",
       "      <td>tcp</td>\n",
       "      <td>http</td>\n",
       "      <td>SF</td>\n",
       "      <td>217</td>\n",
       "      <td>2032</td>\n",
       "      <td>0</td>\n",
       "      <td>0</td>\n",
       "      <td>0</td>\n",
       "      <td>0</td>\n",
       "      <td>...</td>\n",
       "      <td>49</td>\n",
       "      <td>1.0</td>\n",
       "      <td>0.0</td>\n",
       "      <td>0.02</td>\n",
       "      <td>0.00</td>\n",
       "      <td>0.00</td>\n",
       "      <td>0.00</td>\n",
       "      <td>0.0</td>\n",
       "      <td>0.0</td>\n",
       "      <td>normal</td>\n",
       "    </tr>\n",
       "    <tr>\n",
       "      <th>...</th>\n",
       "      <td>...</td>\n",
       "      <td>...</td>\n",
       "      <td>...</td>\n",
       "      <td>...</td>\n",
       "      <td>...</td>\n",
       "      <td>...</td>\n",
       "      <td>...</td>\n",
       "      <td>...</td>\n",
       "      <td>...</td>\n",
       "      <td>...</td>\n",
       "      <td>...</td>\n",
       "      <td>...</td>\n",
       "      <td>...</td>\n",
       "      <td>...</td>\n",
       "      <td>...</td>\n",
       "      <td>...</td>\n",
       "      <td>...</td>\n",
       "      <td>...</td>\n",
       "      <td>...</td>\n",
       "      <td>...</td>\n",
       "      <td>...</td>\n",
       "    </tr>\n",
       "    <tr>\n",
       "      <th>494015</th>\n",
       "      <td>0</td>\n",
       "      <td>tcp</td>\n",
       "      <td>http</td>\n",
       "      <td>SF</td>\n",
       "      <td>310</td>\n",
       "      <td>1881</td>\n",
       "      <td>0</td>\n",
       "      <td>0</td>\n",
       "      <td>0</td>\n",
       "      <td>0</td>\n",
       "      <td>...</td>\n",
       "      <td>255</td>\n",
       "      <td>1.0</td>\n",
       "      <td>0.0</td>\n",
       "      <td>0.01</td>\n",
       "      <td>0.05</td>\n",
       "      <td>0.00</td>\n",
       "      <td>0.01</td>\n",
       "      <td>0.0</td>\n",
       "      <td>0.0</td>\n",
       "      <td>normal</td>\n",
       "    </tr>\n",
       "    <tr>\n",
       "      <th>494016</th>\n",
       "      <td>0</td>\n",
       "      <td>tcp</td>\n",
       "      <td>http</td>\n",
       "      <td>SF</td>\n",
       "      <td>282</td>\n",
       "      <td>2286</td>\n",
       "      <td>0</td>\n",
       "      <td>0</td>\n",
       "      <td>0</td>\n",
       "      <td>0</td>\n",
       "      <td>...</td>\n",
       "      <td>255</td>\n",
       "      <td>1.0</td>\n",
       "      <td>0.0</td>\n",
       "      <td>0.17</td>\n",
       "      <td>0.05</td>\n",
       "      <td>0.00</td>\n",
       "      <td>0.01</td>\n",
       "      <td>0.0</td>\n",
       "      <td>0.0</td>\n",
       "      <td>normal</td>\n",
       "    </tr>\n",
       "    <tr>\n",
       "      <th>494017</th>\n",
       "      <td>0</td>\n",
       "      <td>tcp</td>\n",
       "      <td>http</td>\n",
       "      <td>SF</td>\n",
       "      <td>203</td>\n",
       "      <td>1200</td>\n",
       "      <td>0</td>\n",
       "      <td>0</td>\n",
       "      <td>0</td>\n",
       "      <td>0</td>\n",
       "      <td>...</td>\n",
       "      <td>255</td>\n",
       "      <td>1.0</td>\n",
       "      <td>0.0</td>\n",
       "      <td>0.06</td>\n",
       "      <td>0.05</td>\n",
       "      <td>0.06</td>\n",
       "      <td>0.01</td>\n",
       "      <td>0.0</td>\n",
       "      <td>0.0</td>\n",
       "      <td>normal</td>\n",
       "    </tr>\n",
       "    <tr>\n",
       "      <th>494018</th>\n",
       "      <td>0</td>\n",
       "      <td>tcp</td>\n",
       "      <td>http</td>\n",
       "      <td>SF</td>\n",
       "      <td>291</td>\n",
       "      <td>1200</td>\n",
       "      <td>0</td>\n",
       "      <td>0</td>\n",
       "      <td>0</td>\n",
       "      <td>0</td>\n",
       "      <td>...</td>\n",
       "      <td>255</td>\n",
       "      <td>1.0</td>\n",
       "      <td>0.0</td>\n",
       "      <td>0.04</td>\n",
       "      <td>0.05</td>\n",
       "      <td>0.04</td>\n",
       "      <td>0.01</td>\n",
       "      <td>0.0</td>\n",
       "      <td>0.0</td>\n",
       "      <td>normal</td>\n",
       "    </tr>\n",
       "    <tr>\n",
       "      <th>494019</th>\n",
       "      <td>0</td>\n",
       "      <td>tcp</td>\n",
       "      <td>http</td>\n",
       "      <td>SF</td>\n",
       "      <td>219</td>\n",
       "      <td>1234</td>\n",
       "      <td>0</td>\n",
       "      <td>0</td>\n",
       "      <td>0</td>\n",
       "      <td>0</td>\n",
       "      <td>...</td>\n",
       "      <td>255</td>\n",
       "      <td>1.0</td>\n",
       "      <td>0.0</td>\n",
       "      <td>0.17</td>\n",
       "      <td>0.05</td>\n",
       "      <td>0.00</td>\n",
       "      <td>0.01</td>\n",
       "      <td>0.0</td>\n",
       "      <td>0.0</td>\n",
       "      <td>normal</td>\n",
       "    </tr>\n",
       "  </tbody>\n",
       "</table>\n",
       "<p>494020 rows × 42 columns</p>\n",
       "</div>"
      ],
      "text/plain": [
       "        duration protocol_type service flag  src_bytes  dst_bytes  land  \\\n",
       "0              0           tcp    http   SF        181       5450     0   \n",
       "1              0           tcp    http   SF        239        486     0   \n",
       "2              0           tcp    http   SF        235       1337     0   \n",
       "3              0           tcp    http   SF        219       1337     0   \n",
       "4              0           tcp    http   SF        217       2032     0   \n",
       "...          ...           ...     ...  ...        ...        ...   ...   \n",
       "494015         0           tcp    http   SF        310       1881     0   \n",
       "494016         0           tcp    http   SF        282       2286     0   \n",
       "494017         0           tcp    http   SF        203       1200     0   \n",
       "494018         0           tcp    http   SF        291       1200     0   \n",
       "494019         0           tcp    http   SF        219       1234     0   \n",
       "\n",
       "        wrong_fragment  urgent  hot  ...  dst_host_srv_count  \\\n",
       "0                    0       0    0  ...                   9   \n",
       "1                    0       0    0  ...                  19   \n",
       "2                    0       0    0  ...                  29   \n",
       "3                    0       0    0  ...                  39   \n",
       "4                    0       0    0  ...                  49   \n",
       "...                ...     ...  ...  ...                 ...   \n",
       "494015               0       0    0  ...                 255   \n",
       "494016               0       0    0  ...                 255   \n",
       "494017               0       0    0  ...                 255   \n",
       "494018               0       0    0  ...                 255   \n",
       "494019               0       0    0  ...                 255   \n",
       "\n",
       "        dst_host_same_srv_rate  dst_host_diff_srv_rate  \\\n",
       "0                          1.0                     0.0   \n",
       "1                          1.0                     0.0   \n",
       "2                          1.0                     0.0   \n",
       "3                          1.0                     0.0   \n",
       "4                          1.0                     0.0   \n",
       "...                        ...                     ...   \n",
       "494015                     1.0                     0.0   \n",
       "494016                     1.0                     0.0   \n",
       "494017                     1.0                     0.0   \n",
       "494018                     1.0                     0.0   \n",
       "494019                     1.0                     0.0   \n",
       "\n",
       "        dst_host_same_src_port_rate  dst_host_srv_diff_host_rate  \\\n",
       "0                              0.11                         0.00   \n",
       "1                              0.05                         0.00   \n",
       "2                              0.03                         0.00   \n",
       "3                              0.03                         0.00   \n",
       "4                              0.02                         0.00   \n",
       "...                             ...                          ...   \n",
       "494015                         0.01                         0.05   \n",
       "494016                         0.17                         0.05   \n",
       "494017                         0.06                         0.05   \n",
       "494018                         0.04                         0.05   \n",
       "494019                         0.17                         0.05   \n",
       "\n",
       "        dst_host_serror_rate  dst_host_srv_serror_rate  dst_host_rerror_rate  \\\n",
       "0                       0.00                      0.00                   0.0   \n",
       "1                       0.00                      0.00                   0.0   \n",
       "2                       0.00                      0.00                   0.0   \n",
       "3                       0.00                      0.00                   0.0   \n",
       "4                       0.00                      0.00                   0.0   \n",
       "...                      ...                       ...                   ...   \n",
       "494015                  0.00                      0.01                   0.0   \n",
       "494016                  0.00                      0.01                   0.0   \n",
       "494017                  0.06                      0.01                   0.0   \n",
       "494018                  0.04                      0.01                   0.0   \n",
       "494019                  0.00                      0.01                   0.0   \n",
       "\n",
       "        dst_host_srv_rerror_rate   label  \n",
       "0                            0.0  normal  \n",
       "1                            0.0  normal  \n",
       "2                            0.0  normal  \n",
       "3                            0.0  normal  \n",
       "4                            0.0  normal  \n",
       "...                          ...     ...  \n",
       "494015                       0.0  normal  \n",
       "494016                       0.0  normal  \n",
       "494017                       0.0  normal  \n",
       "494018                       0.0  normal  \n",
       "494019                       0.0  normal  \n",
       "\n",
       "[494020 rows x 42 columns]"
      ]
     },
     "execution_count": 56,
     "metadata": {},
     "output_type": "execute_result"
    }
   ],
   "source": [
    "df"
   ]
  },
  {
   "cell_type": "code",
   "execution_count": 57,
   "metadata": {
    "collapsed": false
   },
   "outputs": [
    {
     "data": {
      "text/plain": [
       "smurf              280790\n",
       "neptune            107201\n",
       "normal              97277\n",
       "back                 2203\n",
       "satan                1589\n",
       "ipsweep              1247\n",
       "portsweep            1040\n",
       "warezclient          1020\n",
       "teardrop              979\n",
       "pod                   264\n",
       "nmap                  231\n",
       "guess_passwd           53\n",
       "buffer_overflow        30\n",
       "land                   21\n",
       "warezmaster            20\n",
       "imap                   12\n",
       "rootkit                10\n",
       "loadmodule              9\n",
       "ftp_write               8\n",
       "multihop                7\n",
       "phf                     4\n",
       "perl                    3\n",
       "spy                     2\n",
       "Name: label, dtype: int64"
      ]
     },
     "execution_count": 57,
     "metadata": {},
     "output_type": "execute_result"
    }
   ],
   "source": [
    "df.label.value_counts()"
   ]
  },
  {
   "cell_type": "markdown",
   "metadata": {},
   "source": [
    "### Preprocessing"
   ]
  },
  {
   "cell_type": "code",
   "execution_count": 58,
   "metadata": {},
   "outputs": [
    {
     "data": {
      "text/plain": [
       "['protocol_type', 'service', 'flag', 'label']"
      ]
     },
     "execution_count": 58,
     "metadata": {},
     "output_type": "execute_result"
    }
   ],
   "source": [
    "# 用onehot处理分类数据\n",
    "s = (df.dtypes=='object')\n",
    "object_cols = list(s[s].index)\n",
    "object_cols #看看哪些列不是数值的"
   ]
  },
  {
   "cell_type": "code",
   "execution_count": 59,
   "metadata": {},
   "outputs": [
    {
     "data": {
      "text/plain": [
       "icmp    283602\n",
       "tcp     190064\n",
       "udp      20354\n",
       "Name: protocol_type, dtype: int64"
      ]
     },
     "execution_count": 59,
     "metadata": {},
     "output_type": "execute_result"
    }
   ],
   "source": [
    "dfnew = df[['protocol_type', 'service', 'flag']] #3种取值\n",
    "dfnew.protocol_type.value_counts()"
   ]
  },
  {
   "cell_type": "code",
   "execution_count": 60,
   "metadata": {},
   "outputs": [
    {
     "data": {
      "text/plain": [
       "ecr_i      281400\n",
       "private    110893\n",
       "http        64292\n",
       "smtp         9723\n",
       "other        7237\n",
       "            ...  \n",
       "X11            11\n",
       "tim_i           7\n",
       "pm_dump         1\n",
       "tftp_u          1\n",
       "red_i           1\n",
       "Name: service, Length: 66, dtype: int64"
      ]
     },
     "execution_count": 60,
     "metadata": {},
     "output_type": "execute_result"
    }
   ],
   "source": [
    "dfnew.service.value_counts() #66种"
   ]
  },
  {
   "cell_type": "code",
   "execution_count": 61,
   "metadata": {},
   "outputs": [
    {
     "data": {
      "text/plain": [
       "SF        378439\n",
       "S0         87007\n",
       "REJ        26875\n",
       "RSTR         903\n",
       "RSTO         579\n",
       "SH           107\n",
       "S1            57\n",
       "S2            24\n",
       "RSTOS0        11\n",
       "S3            10\n",
       "OTH            8\n",
       "Name: flag, dtype: int64"
      ]
     },
     "execution_count": 61,
     "metadata": {},
     "output_type": "execute_result"
    }
   ],
   "source": [
    "dfnew.flag.value_counts() #11种。 总共80种，被onehot拆分成80个维度,等下编码完拼接起来总共（42+80-3）列"
   ]
  },
  {
   "cell_type": "code",
   "execution_count": 62,
   "metadata": {},
   "outputs": [
    {
     "data": {
      "text/html": [
       "<div>\n",
       "<style scoped>\n",
       "    .dataframe tbody tr th:only-of-type {\n",
       "        vertical-align: middle;\n",
       "    }\n",
       "\n",
       "    .dataframe tbody tr th {\n",
       "        vertical-align: top;\n",
       "    }\n",
       "\n",
       "    .dataframe thead th {\n",
       "        text-align: right;\n",
       "    }\n",
       "</style>\n",
       "<table border=\"1\" class=\"dataframe\">\n",
       "  <thead>\n",
       "    <tr style=\"text-align: right;\">\n",
       "      <th></th>\n",
       "      <th>0</th>\n",
       "      <th>1</th>\n",
       "      <th>2</th>\n",
       "      <th>3</th>\n",
       "      <th>4</th>\n",
       "      <th>5</th>\n",
       "      <th>6</th>\n",
       "      <th>7</th>\n",
       "      <th>8</th>\n",
       "      <th>9</th>\n",
       "      <th>...</th>\n",
       "      <th>70</th>\n",
       "      <th>71</th>\n",
       "      <th>72</th>\n",
       "      <th>73</th>\n",
       "      <th>74</th>\n",
       "      <th>75</th>\n",
       "      <th>76</th>\n",
       "      <th>77</th>\n",
       "      <th>78</th>\n",
       "      <th>79</th>\n",
       "    </tr>\n",
       "  </thead>\n",
       "  <tbody>\n",
       "    <tr>\n",
       "      <th>0</th>\n",
       "      <td>0.0</td>\n",
       "      <td>1.0</td>\n",
       "      <td>0.0</td>\n",
       "      <td>0.0</td>\n",
       "      <td>0.0</td>\n",
       "      <td>0.0</td>\n",
       "      <td>0.0</td>\n",
       "      <td>0.0</td>\n",
       "      <td>0.0</td>\n",
       "      <td>0.0</td>\n",
       "      <td>...</td>\n",
       "      <td>0.0</td>\n",
       "      <td>0.0</td>\n",
       "      <td>0.0</td>\n",
       "      <td>0.0</td>\n",
       "      <td>0.0</td>\n",
       "      <td>0.0</td>\n",
       "      <td>0.0</td>\n",
       "      <td>0.0</td>\n",
       "      <td>1.0</td>\n",
       "      <td>0.0</td>\n",
       "    </tr>\n",
       "    <tr>\n",
       "      <th>1</th>\n",
       "      <td>0.0</td>\n",
       "      <td>1.0</td>\n",
       "      <td>0.0</td>\n",
       "      <td>0.0</td>\n",
       "      <td>0.0</td>\n",
       "      <td>0.0</td>\n",
       "      <td>0.0</td>\n",
       "      <td>0.0</td>\n",
       "      <td>0.0</td>\n",
       "      <td>0.0</td>\n",
       "      <td>...</td>\n",
       "      <td>0.0</td>\n",
       "      <td>0.0</td>\n",
       "      <td>0.0</td>\n",
       "      <td>0.0</td>\n",
       "      <td>0.0</td>\n",
       "      <td>0.0</td>\n",
       "      <td>0.0</td>\n",
       "      <td>0.0</td>\n",
       "      <td>1.0</td>\n",
       "      <td>0.0</td>\n",
       "    </tr>\n",
       "    <tr>\n",
       "      <th>2</th>\n",
       "      <td>0.0</td>\n",
       "      <td>1.0</td>\n",
       "      <td>0.0</td>\n",
       "      <td>0.0</td>\n",
       "      <td>0.0</td>\n",
       "      <td>0.0</td>\n",
       "      <td>0.0</td>\n",
       "      <td>0.0</td>\n",
       "      <td>0.0</td>\n",
       "      <td>0.0</td>\n",
       "      <td>...</td>\n",
       "      <td>0.0</td>\n",
       "      <td>0.0</td>\n",
       "      <td>0.0</td>\n",
       "      <td>0.0</td>\n",
       "      <td>0.0</td>\n",
       "      <td>0.0</td>\n",
       "      <td>0.0</td>\n",
       "      <td>0.0</td>\n",
       "      <td>1.0</td>\n",
       "      <td>0.0</td>\n",
       "    </tr>\n",
       "    <tr>\n",
       "      <th>3</th>\n",
       "      <td>0.0</td>\n",
       "      <td>1.0</td>\n",
       "      <td>0.0</td>\n",
       "      <td>0.0</td>\n",
       "      <td>0.0</td>\n",
       "      <td>0.0</td>\n",
       "      <td>0.0</td>\n",
       "      <td>0.0</td>\n",
       "      <td>0.0</td>\n",
       "      <td>0.0</td>\n",
       "      <td>...</td>\n",
       "      <td>0.0</td>\n",
       "      <td>0.0</td>\n",
       "      <td>0.0</td>\n",
       "      <td>0.0</td>\n",
       "      <td>0.0</td>\n",
       "      <td>0.0</td>\n",
       "      <td>0.0</td>\n",
       "      <td>0.0</td>\n",
       "      <td>1.0</td>\n",
       "      <td>0.0</td>\n",
       "    </tr>\n",
       "    <tr>\n",
       "      <th>4</th>\n",
       "      <td>0.0</td>\n",
       "      <td>1.0</td>\n",
       "      <td>0.0</td>\n",
       "      <td>0.0</td>\n",
       "      <td>0.0</td>\n",
       "      <td>0.0</td>\n",
       "      <td>0.0</td>\n",
       "      <td>0.0</td>\n",
       "      <td>0.0</td>\n",
       "      <td>0.0</td>\n",
       "      <td>...</td>\n",
       "      <td>0.0</td>\n",
       "      <td>0.0</td>\n",
       "      <td>0.0</td>\n",
       "      <td>0.0</td>\n",
       "      <td>0.0</td>\n",
       "      <td>0.0</td>\n",
       "      <td>0.0</td>\n",
       "      <td>0.0</td>\n",
       "      <td>1.0</td>\n",
       "      <td>0.0</td>\n",
       "    </tr>\n",
       "    <tr>\n",
       "      <th>...</th>\n",
       "      <td>...</td>\n",
       "      <td>...</td>\n",
       "      <td>...</td>\n",
       "      <td>...</td>\n",
       "      <td>...</td>\n",
       "      <td>...</td>\n",
       "      <td>...</td>\n",
       "      <td>...</td>\n",
       "      <td>...</td>\n",
       "      <td>...</td>\n",
       "      <td>...</td>\n",
       "      <td>...</td>\n",
       "      <td>...</td>\n",
       "      <td>...</td>\n",
       "      <td>...</td>\n",
       "      <td>...</td>\n",
       "      <td>...</td>\n",
       "      <td>...</td>\n",
       "      <td>...</td>\n",
       "      <td>...</td>\n",
       "      <td>...</td>\n",
       "    </tr>\n",
       "    <tr>\n",
       "      <th>494015</th>\n",
       "      <td>0.0</td>\n",
       "      <td>1.0</td>\n",
       "      <td>0.0</td>\n",
       "      <td>0.0</td>\n",
       "      <td>0.0</td>\n",
       "      <td>0.0</td>\n",
       "      <td>0.0</td>\n",
       "      <td>0.0</td>\n",
       "      <td>0.0</td>\n",
       "      <td>0.0</td>\n",
       "      <td>...</td>\n",
       "      <td>0.0</td>\n",
       "      <td>0.0</td>\n",
       "      <td>0.0</td>\n",
       "      <td>0.0</td>\n",
       "      <td>0.0</td>\n",
       "      <td>0.0</td>\n",
       "      <td>0.0</td>\n",
       "      <td>0.0</td>\n",
       "      <td>1.0</td>\n",
       "      <td>0.0</td>\n",
       "    </tr>\n",
       "    <tr>\n",
       "      <th>494016</th>\n",
       "      <td>0.0</td>\n",
       "      <td>1.0</td>\n",
       "      <td>0.0</td>\n",
       "      <td>0.0</td>\n",
       "      <td>0.0</td>\n",
       "      <td>0.0</td>\n",
       "      <td>0.0</td>\n",
       "      <td>0.0</td>\n",
       "      <td>0.0</td>\n",
       "      <td>0.0</td>\n",
       "      <td>...</td>\n",
       "      <td>0.0</td>\n",
       "      <td>0.0</td>\n",
       "      <td>0.0</td>\n",
       "      <td>0.0</td>\n",
       "      <td>0.0</td>\n",
       "      <td>0.0</td>\n",
       "      <td>0.0</td>\n",
       "      <td>0.0</td>\n",
       "      <td>1.0</td>\n",
       "      <td>0.0</td>\n",
       "    </tr>\n",
       "    <tr>\n",
       "      <th>494017</th>\n",
       "      <td>0.0</td>\n",
       "      <td>1.0</td>\n",
       "      <td>0.0</td>\n",
       "      <td>0.0</td>\n",
       "      <td>0.0</td>\n",
       "      <td>0.0</td>\n",
       "      <td>0.0</td>\n",
       "      <td>0.0</td>\n",
       "      <td>0.0</td>\n",
       "      <td>0.0</td>\n",
       "      <td>...</td>\n",
       "      <td>0.0</td>\n",
       "      <td>0.0</td>\n",
       "      <td>0.0</td>\n",
       "      <td>0.0</td>\n",
       "      <td>0.0</td>\n",
       "      <td>0.0</td>\n",
       "      <td>0.0</td>\n",
       "      <td>0.0</td>\n",
       "      <td>1.0</td>\n",
       "      <td>0.0</td>\n",
       "    </tr>\n",
       "    <tr>\n",
       "      <th>494018</th>\n",
       "      <td>0.0</td>\n",
       "      <td>1.0</td>\n",
       "      <td>0.0</td>\n",
       "      <td>0.0</td>\n",
       "      <td>0.0</td>\n",
       "      <td>0.0</td>\n",
       "      <td>0.0</td>\n",
       "      <td>0.0</td>\n",
       "      <td>0.0</td>\n",
       "      <td>0.0</td>\n",
       "      <td>...</td>\n",
       "      <td>0.0</td>\n",
       "      <td>0.0</td>\n",
       "      <td>0.0</td>\n",
       "      <td>0.0</td>\n",
       "      <td>0.0</td>\n",
       "      <td>0.0</td>\n",
       "      <td>0.0</td>\n",
       "      <td>0.0</td>\n",
       "      <td>1.0</td>\n",
       "      <td>0.0</td>\n",
       "    </tr>\n",
       "    <tr>\n",
       "      <th>494019</th>\n",
       "      <td>0.0</td>\n",
       "      <td>1.0</td>\n",
       "      <td>0.0</td>\n",
       "      <td>0.0</td>\n",
       "      <td>0.0</td>\n",
       "      <td>0.0</td>\n",
       "      <td>0.0</td>\n",
       "      <td>0.0</td>\n",
       "      <td>0.0</td>\n",
       "      <td>0.0</td>\n",
       "      <td>...</td>\n",
       "      <td>0.0</td>\n",
       "      <td>0.0</td>\n",
       "      <td>0.0</td>\n",
       "      <td>0.0</td>\n",
       "      <td>0.0</td>\n",
       "      <td>0.0</td>\n",
       "      <td>0.0</td>\n",
       "      <td>0.0</td>\n",
       "      <td>1.0</td>\n",
       "      <td>0.0</td>\n",
       "    </tr>\n",
       "  </tbody>\n",
       "</table>\n",
       "<p>494020 rows × 80 columns</p>\n",
       "</div>"
      ],
      "text/plain": [
       "         0    1    2    3    4    5    6    7    8    9   ...   70   71   72  \\\n",
       "0       0.0  1.0  0.0  0.0  0.0  0.0  0.0  0.0  0.0  0.0  ...  0.0  0.0  0.0   \n",
       "1       0.0  1.0  0.0  0.0  0.0  0.0  0.0  0.0  0.0  0.0  ...  0.0  0.0  0.0   \n",
       "2       0.0  1.0  0.0  0.0  0.0  0.0  0.0  0.0  0.0  0.0  ...  0.0  0.0  0.0   \n",
       "3       0.0  1.0  0.0  0.0  0.0  0.0  0.0  0.0  0.0  0.0  ...  0.0  0.0  0.0   \n",
       "4       0.0  1.0  0.0  0.0  0.0  0.0  0.0  0.0  0.0  0.0  ...  0.0  0.0  0.0   \n",
       "...     ...  ...  ...  ...  ...  ...  ...  ...  ...  ...  ...  ...  ...  ...   \n",
       "494015  0.0  1.0  0.0  0.0  0.0  0.0  0.0  0.0  0.0  0.0  ...  0.0  0.0  0.0   \n",
       "494016  0.0  1.0  0.0  0.0  0.0  0.0  0.0  0.0  0.0  0.0  ...  0.0  0.0  0.0   \n",
       "494017  0.0  1.0  0.0  0.0  0.0  0.0  0.0  0.0  0.0  0.0  ...  0.0  0.0  0.0   \n",
       "494018  0.0  1.0  0.0  0.0  0.0  0.0  0.0  0.0  0.0  0.0  ...  0.0  0.0  0.0   \n",
       "494019  0.0  1.0  0.0  0.0  0.0  0.0  0.0  0.0  0.0  0.0  ...  0.0  0.0  0.0   \n",
       "\n",
       "         73   74   75   76   77   78   79  \n",
       "0       0.0  0.0  0.0  0.0  0.0  1.0  0.0  \n",
       "1       0.0  0.0  0.0  0.0  0.0  1.0  0.0  \n",
       "2       0.0  0.0  0.0  0.0  0.0  1.0  0.0  \n",
       "3       0.0  0.0  0.0  0.0  0.0  1.0  0.0  \n",
       "4       0.0  0.0  0.0  0.0  0.0  1.0  0.0  \n",
       "...     ...  ...  ...  ...  ...  ...  ...  \n",
       "494015  0.0  0.0  0.0  0.0  0.0  1.0  0.0  \n",
       "494016  0.0  0.0  0.0  0.0  0.0  1.0  0.0  \n",
       "494017  0.0  0.0  0.0  0.0  0.0  1.0  0.0  \n",
       "494018  0.0  0.0  0.0  0.0  0.0  1.0  0.0  \n",
       "494019  0.0  0.0  0.0  0.0  0.0  1.0  0.0  \n",
       "\n",
       "[494020 rows x 80 columns]"
      ]
     },
     "execution_count": 62,
     "metadata": {},
     "output_type": "execute_result"
    }
   ],
   "source": [
    "from sklearn.preprocessing import OneHotEncoder\n",
    "#进行onehot编码\n",
    "oh_encoder = OneHotEncoder(handle_unknown='ignore',sparse=False)\n",
    "encoded_data = oh_encoder.fit_transform(pd.DataFrame(dfnew))\n",
    "dfobject = pd.DataFrame(encoded_data) #编码后是array，要先变回dataframe或者series，才能和原来的df拼在一起\n",
    "dfobject.to_csv('./data/dfobject.csv',index=0)\n",
    "dfobject"
   ]
  },
  {
   "cell_type": "code",
   "execution_count": 63,
   "metadata": {},
   "outputs": [
    {
     "data": {
      "text/html": [
       "<div>\n",
       "<style scoped>\n",
       "    .dataframe tbody tr th:only-of-type {\n",
       "        vertical-align: middle;\n",
       "    }\n",
       "\n",
       "    .dataframe tbody tr th {\n",
       "        vertical-align: top;\n",
       "    }\n",
       "\n",
       "    .dataframe thead th {\n",
       "        text-align: right;\n",
       "    }\n",
       "</style>\n",
       "<table border=\"1\" class=\"dataframe\">\n",
       "  <thead>\n",
       "    <tr style=\"text-align: right;\">\n",
       "      <th></th>\n",
       "      <th>protocol_type1</th>\n",
       "      <th>protocol_type2</th>\n",
       "      <th>protocol_type3</th>\n",
       "      <th>service1</th>\n",
       "      <th>service2</th>\n",
       "      <th>service3</th>\n",
       "      <th>service4</th>\n",
       "      <th>service5</th>\n",
       "      <th>service6</th>\n",
       "      <th>service7</th>\n",
       "      <th>...</th>\n",
       "      <th>flag2</th>\n",
       "      <th>flag3</th>\n",
       "      <th>flag4</th>\n",
       "      <th>flag5</th>\n",
       "      <th>flag6</th>\n",
       "      <th>flag7</th>\n",
       "      <th>flag8</th>\n",
       "      <th>flag9</th>\n",
       "      <th>flag10</th>\n",
       "      <th>flag11</th>\n",
       "    </tr>\n",
       "  </thead>\n",
       "  <tbody>\n",
       "    <tr>\n",
       "      <th>0</th>\n",
       "      <td>0.0</td>\n",
       "      <td>1.0</td>\n",
       "      <td>0.0</td>\n",
       "      <td>0.0</td>\n",
       "      <td>0.0</td>\n",
       "      <td>0.0</td>\n",
       "      <td>0.0</td>\n",
       "      <td>0.0</td>\n",
       "      <td>0.0</td>\n",
       "      <td>0.0</td>\n",
       "      <td>...</td>\n",
       "      <td>0.0</td>\n",
       "      <td>0.0</td>\n",
       "      <td>0.0</td>\n",
       "      <td>0.0</td>\n",
       "      <td>0.0</td>\n",
       "      <td>0.0</td>\n",
       "      <td>0.0</td>\n",
       "      <td>0.0</td>\n",
       "      <td>1.0</td>\n",
       "      <td>0.0</td>\n",
       "    </tr>\n",
       "    <tr>\n",
       "      <th>1</th>\n",
       "      <td>0.0</td>\n",
       "      <td>1.0</td>\n",
       "      <td>0.0</td>\n",
       "      <td>0.0</td>\n",
       "      <td>0.0</td>\n",
       "      <td>0.0</td>\n",
       "      <td>0.0</td>\n",
       "      <td>0.0</td>\n",
       "      <td>0.0</td>\n",
       "      <td>0.0</td>\n",
       "      <td>...</td>\n",
       "      <td>0.0</td>\n",
       "      <td>0.0</td>\n",
       "      <td>0.0</td>\n",
       "      <td>0.0</td>\n",
       "      <td>0.0</td>\n",
       "      <td>0.0</td>\n",
       "      <td>0.0</td>\n",
       "      <td>0.0</td>\n",
       "      <td>1.0</td>\n",
       "      <td>0.0</td>\n",
       "    </tr>\n",
       "    <tr>\n",
       "      <th>2</th>\n",
       "      <td>0.0</td>\n",
       "      <td>1.0</td>\n",
       "      <td>0.0</td>\n",
       "      <td>0.0</td>\n",
       "      <td>0.0</td>\n",
       "      <td>0.0</td>\n",
       "      <td>0.0</td>\n",
       "      <td>0.0</td>\n",
       "      <td>0.0</td>\n",
       "      <td>0.0</td>\n",
       "      <td>...</td>\n",
       "      <td>0.0</td>\n",
       "      <td>0.0</td>\n",
       "      <td>0.0</td>\n",
       "      <td>0.0</td>\n",
       "      <td>0.0</td>\n",
       "      <td>0.0</td>\n",
       "      <td>0.0</td>\n",
       "      <td>0.0</td>\n",
       "      <td>1.0</td>\n",
       "      <td>0.0</td>\n",
       "    </tr>\n",
       "    <tr>\n",
       "      <th>3</th>\n",
       "      <td>0.0</td>\n",
       "      <td>1.0</td>\n",
       "      <td>0.0</td>\n",
       "      <td>0.0</td>\n",
       "      <td>0.0</td>\n",
       "      <td>0.0</td>\n",
       "      <td>0.0</td>\n",
       "      <td>0.0</td>\n",
       "      <td>0.0</td>\n",
       "      <td>0.0</td>\n",
       "      <td>...</td>\n",
       "      <td>0.0</td>\n",
       "      <td>0.0</td>\n",
       "      <td>0.0</td>\n",
       "      <td>0.0</td>\n",
       "      <td>0.0</td>\n",
       "      <td>0.0</td>\n",
       "      <td>0.0</td>\n",
       "      <td>0.0</td>\n",
       "      <td>1.0</td>\n",
       "      <td>0.0</td>\n",
       "    </tr>\n",
       "    <tr>\n",
       "      <th>4</th>\n",
       "      <td>0.0</td>\n",
       "      <td>1.0</td>\n",
       "      <td>0.0</td>\n",
       "      <td>0.0</td>\n",
       "      <td>0.0</td>\n",
       "      <td>0.0</td>\n",
       "      <td>0.0</td>\n",
       "      <td>0.0</td>\n",
       "      <td>0.0</td>\n",
       "      <td>0.0</td>\n",
       "      <td>...</td>\n",
       "      <td>0.0</td>\n",
       "      <td>0.0</td>\n",
       "      <td>0.0</td>\n",
       "      <td>0.0</td>\n",
       "      <td>0.0</td>\n",
       "      <td>0.0</td>\n",
       "      <td>0.0</td>\n",
       "      <td>0.0</td>\n",
       "      <td>1.0</td>\n",
       "      <td>0.0</td>\n",
       "    </tr>\n",
       "    <tr>\n",
       "      <th>...</th>\n",
       "      <td>...</td>\n",
       "      <td>...</td>\n",
       "      <td>...</td>\n",
       "      <td>...</td>\n",
       "      <td>...</td>\n",
       "      <td>...</td>\n",
       "      <td>...</td>\n",
       "      <td>...</td>\n",
       "      <td>...</td>\n",
       "      <td>...</td>\n",
       "      <td>...</td>\n",
       "      <td>...</td>\n",
       "      <td>...</td>\n",
       "      <td>...</td>\n",
       "      <td>...</td>\n",
       "      <td>...</td>\n",
       "      <td>...</td>\n",
       "      <td>...</td>\n",
       "      <td>...</td>\n",
       "      <td>...</td>\n",
       "      <td>...</td>\n",
       "    </tr>\n",
       "    <tr>\n",
       "      <th>494015</th>\n",
       "      <td>0.0</td>\n",
       "      <td>1.0</td>\n",
       "      <td>0.0</td>\n",
       "      <td>0.0</td>\n",
       "      <td>0.0</td>\n",
       "      <td>0.0</td>\n",
       "      <td>0.0</td>\n",
       "      <td>0.0</td>\n",
       "      <td>0.0</td>\n",
       "      <td>0.0</td>\n",
       "      <td>...</td>\n",
       "      <td>0.0</td>\n",
       "      <td>0.0</td>\n",
       "      <td>0.0</td>\n",
       "      <td>0.0</td>\n",
       "      <td>0.0</td>\n",
       "      <td>0.0</td>\n",
       "      <td>0.0</td>\n",
       "      <td>0.0</td>\n",
       "      <td>1.0</td>\n",
       "      <td>0.0</td>\n",
       "    </tr>\n",
       "    <tr>\n",
       "      <th>494016</th>\n",
       "      <td>0.0</td>\n",
       "      <td>1.0</td>\n",
       "      <td>0.0</td>\n",
       "      <td>0.0</td>\n",
       "      <td>0.0</td>\n",
       "      <td>0.0</td>\n",
       "      <td>0.0</td>\n",
       "      <td>0.0</td>\n",
       "      <td>0.0</td>\n",
       "      <td>0.0</td>\n",
       "      <td>...</td>\n",
       "      <td>0.0</td>\n",
       "      <td>0.0</td>\n",
       "      <td>0.0</td>\n",
       "      <td>0.0</td>\n",
       "      <td>0.0</td>\n",
       "      <td>0.0</td>\n",
       "      <td>0.0</td>\n",
       "      <td>0.0</td>\n",
       "      <td>1.0</td>\n",
       "      <td>0.0</td>\n",
       "    </tr>\n",
       "    <tr>\n",
       "      <th>494017</th>\n",
       "      <td>0.0</td>\n",
       "      <td>1.0</td>\n",
       "      <td>0.0</td>\n",
       "      <td>0.0</td>\n",
       "      <td>0.0</td>\n",
       "      <td>0.0</td>\n",
       "      <td>0.0</td>\n",
       "      <td>0.0</td>\n",
       "      <td>0.0</td>\n",
       "      <td>0.0</td>\n",
       "      <td>...</td>\n",
       "      <td>0.0</td>\n",
       "      <td>0.0</td>\n",
       "      <td>0.0</td>\n",
       "      <td>0.0</td>\n",
       "      <td>0.0</td>\n",
       "      <td>0.0</td>\n",
       "      <td>0.0</td>\n",
       "      <td>0.0</td>\n",
       "      <td>1.0</td>\n",
       "      <td>0.0</td>\n",
       "    </tr>\n",
       "    <tr>\n",
       "      <th>494018</th>\n",
       "      <td>0.0</td>\n",
       "      <td>1.0</td>\n",
       "      <td>0.0</td>\n",
       "      <td>0.0</td>\n",
       "      <td>0.0</td>\n",
       "      <td>0.0</td>\n",
       "      <td>0.0</td>\n",
       "      <td>0.0</td>\n",
       "      <td>0.0</td>\n",
       "      <td>0.0</td>\n",
       "      <td>...</td>\n",
       "      <td>0.0</td>\n",
       "      <td>0.0</td>\n",
       "      <td>0.0</td>\n",
       "      <td>0.0</td>\n",
       "      <td>0.0</td>\n",
       "      <td>0.0</td>\n",
       "      <td>0.0</td>\n",
       "      <td>0.0</td>\n",
       "      <td>1.0</td>\n",
       "      <td>0.0</td>\n",
       "    </tr>\n",
       "    <tr>\n",
       "      <th>494019</th>\n",
       "      <td>0.0</td>\n",
       "      <td>1.0</td>\n",
       "      <td>0.0</td>\n",
       "      <td>0.0</td>\n",
       "      <td>0.0</td>\n",
       "      <td>0.0</td>\n",
       "      <td>0.0</td>\n",
       "      <td>0.0</td>\n",
       "      <td>0.0</td>\n",
       "      <td>0.0</td>\n",
       "      <td>...</td>\n",
       "      <td>0.0</td>\n",
       "      <td>0.0</td>\n",
       "      <td>0.0</td>\n",
       "      <td>0.0</td>\n",
       "      <td>0.0</td>\n",
       "      <td>0.0</td>\n",
       "      <td>0.0</td>\n",
       "      <td>0.0</td>\n",
       "      <td>1.0</td>\n",
       "      <td>0.0</td>\n",
       "    </tr>\n",
       "  </tbody>\n",
       "</table>\n",
       "<p>494020 rows × 80 columns</p>\n",
       "</div>"
      ],
      "text/plain": [
       "        protocol_type1  protocol_type2  protocol_type3  service1  service2  \\\n",
       "0                  0.0             1.0             0.0       0.0       0.0   \n",
       "1                  0.0             1.0             0.0       0.0       0.0   \n",
       "2                  0.0             1.0             0.0       0.0       0.0   \n",
       "3                  0.0             1.0             0.0       0.0       0.0   \n",
       "4                  0.0             1.0             0.0       0.0       0.0   \n",
       "...                ...             ...             ...       ...       ...   \n",
       "494015             0.0             1.0             0.0       0.0       0.0   \n",
       "494016             0.0             1.0             0.0       0.0       0.0   \n",
       "494017             0.0             1.0             0.0       0.0       0.0   \n",
       "494018             0.0             1.0             0.0       0.0       0.0   \n",
       "494019             0.0             1.0             0.0       0.0       0.0   \n",
       "\n",
       "        service3  service4  service5  service6  service7  ...  flag2  flag3  \\\n",
       "0            0.0       0.0       0.0       0.0       0.0  ...    0.0    0.0   \n",
       "1            0.0       0.0       0.0       0.0       0.0  ...    0.0    0.0   \n",
       "2            0.0       0.0       0.0       0.0       0.0  ...    0.0    0.0   \n",
       "3            0.0       0.0       0.0       0.0       0.0  ...    0.0    0.0   \n",
       "4            0.0       0.0       0.0       0.0       0.0  ...    0.0    0.0   \n",
       "...          ...       ...       ...       ...       ...  ...    ...    ...   \n",
       "494015       0.0       0.0       0.0       0.0       0.0  ...    0.0    0.0   \n",
       "494016       0.0       0.0       0.0       0.0       0.0  ...    0.0    0.0   \n",
       "494017       0.0       0.0       0.0       0.0       0.0  ...    0.0    0.0   \n",
       "494018       0.0       0.0       0.0       0.0       0.0  ...    0.0    0.0   \n",
       "494019       0.0       0.0       0.0       0.0       0.0  ...    0.0    0.0   \n",
       "\n",
       "        flag4  flag5  flag6  flag7  flag8  flag9  flag10  flag11  \n",
       "0         0.0    0.0    0.0    0.0    0.0    0.0     1.0     0.0  \n",
       "1         0.0    0.0    0.0    0.0    0.0    0.0     1.0     0.0  \n",
       "2         0.0    0.0    0.0    0.0    0.0    0.0     1.0     0.0  \n",
       "3         0.0    0.0    0.0    0.0    0.0    0.0     1.0     0.0  \n",
       "4         0.0    0.0    0.0    0.0    0.0    0.0     1.0     0.0  \n",
       "...       ...    ...    ...    ...    ...    ...     ...     ...  \n",
       "494015    0.0    0.0    0.0    0.0    0.0    0.0     1.0     0.0  \n",
       "494016    0.0    0.0    0.0    0.0    0.0    0.0     1.0     0.0  \n",
       "494017    0.0    0.0    0.0    0.0    0.0    0.0     1.0     0.0  \n",
       "494018    0.0    0.0    0.0    0.0    0.0    0.0     1.0     0.0  \n",
       "494019    0.0    0.0    0.0    0.0    0.0    0.0     1.0     0.0  \n",
       "\n",
       "[494020 rows x 80 columns]"
      ]
     },
     "execution_count": 63,
     "metadata": {},
     "output_type": "execute_result"
    }
   ],
   "source": [
    "#还原下名字, 编码后表头是int，必须统一成str，不然后面报错。因为是一个feture分裂成n个列，就取名 原名+序号 吧\n",
    "sub1 = dfobject.iloc[0:0, 0:3].rename(lambda x:'protocol_type'+str(x+1),axis=1)\n",
    "sub2 = dfobject.iloc[0:0,3:69].rename(lambda x:'service'+str(x-2),axis=1)\n",
    "sub3 = dfobject.iloc[0:0,69:80].rename(lambda x:'flag'+str(x-68),axis=1)\n",
    "sub = pd.concat([sub1,sub2],axis=1)\n",
    "sub = list(pd.concat([sub,sub3],axis=1))\n",
    "dfobject = pd.read_csv('./data/dfobject.csv',header=None).drop(0,axis=0) #这里感觉好蠢啊，先存再取哈哈哈哈，我不知道怎么删除旧表头...一开始想用.rename()整体改名的, 结果这个函数里写if一直报错\n",
    "dfobject.columns = sub\n",
    "dfobject.index -= 1 #还原索引\n",
    "dfobject"
   ]
  },
  {
   "cell_type": "code",
   "execution_count": 64,
   "metadata": {},
   "outputs": [
    {
     "data": {
      "text/html": [
       "<div>\n",
       "<style scoped>\n",
       "    .dataframe tbody tr th:only-of-type {\n",
       "        vertical-align: middle;\n",
       "    }\n",
       "\n",
       "    .dataframe tbody tr th {\n",
       "        vertical-align: top;\n",
       "    }\n",
       "\n",
       "    .dataframe thead th {\n",
       "        text-align: right;\n",
       "    }\n",
       "</style>\n",
       "<table border=\"1\" class=\"dataframe\">\n",
       "  <thead>\n",
       "    <tr style=\"text-align: right;\">\n",
       "      <th></th>\n",
       "      <th>protocol_type1</th>\n",
       "      <th>protocol_type2</th>\n",
       "      <th>protocol_type3</th>\n",
       "      <th>service1</th>\n",
       "      <th>service2</th>\n",
       "      <th>service3</th>\n",
       "      <th>service4</th>\n",
       "      <th>service5</th>\n",
       "      <th>service6</th>\n",
       "      <th>service7</th>\n",
       "      <th>...</th>\n",
       "      <th>dst_host_srv_count</th>\n",
       "      <th>dst_host_same_srv_rate</th>\n",
       "      <th>dst_host_diff_srv_rate</th>\n",
       "      <th>dst_host_same_src_port_rate</th>\n",
       "      <th>dst_host_srv_diff_host_rate</th>\n",
       "      <th>dst_host_serror_rate</th>\n",
       "      <th>dst_host_srv_serror_rate</th>\n",
       "      <th>dst_host_rerror_rate</th>\n",
       "      <th>dst_host_srv_rerror_rate</th>\n",
       "      <th>label</th>\n",
       "    </tr>\n",
       "  </thead>\n",
       "  <tbody>\n",
       "    <tr>\n",
       "      <th>0</th>\n",
       "      <td>0.0</td>\n",
       "      <td>1.0</td>\n",
       "      <td>0.0</td>\n",
       "      <td>0.0</td>\n",
       "      <td>0.0</td>\n",
       "      <td>0.0</td>\n",
       "      <td>0.0</td>\n",
       "      <td>0.0</td>\n",
       "      <td>0.0</td>\n",
       "      <td>0.0</td>\n",
       "      <td>...</td>\n",
       "      <td>9</td>\n",
       "      <td>1.0</td>\n",
       "      <td>0.0</td>\n",
       "      <td>0.11</td>\n",
       "      <td>0.00</td>\n",
       "      <td>0.00</td>\n",
       "      <td>0.00</td>\n",
       "      <td>0.0</td>\n",
       "      <td>0.0</td>\n",
       "      <td>normal</td>\n",
       "    </tr>\n",
       "    <tr>\n",
       "      <th>1</th>\n",
       "      <td>0.0</td>\n",
       "      <td>1.0</td>\n",
       "      <td>0.0</td>\n",
       "      <td>0.0</td>\n",
       "      <td>0.0</td>\n",
       "      <td>0.0</td>\n",
       "      <td>0.0</td>\n",
       "      <td>0.0</td>\n",
       "      <td>0.0</td>\n",
       "      <td>0.0</td>\n",
       "      <td>...</td>\n",
       "      <td>19</td>\n",
       "      <td>1.0</td>\n",
       "      <td>0.0</td>\n",
       "      <td>0.05</td>\n",
       "      <td>0.00</td>\n",
       "      <td>0.00</td>\n",
       "      <td>0.00</td>\n",
       "      <td>0.0</td>\n",
       "      <td>0.0</td>\n",
       "      <td>normal</td>\n",
       "    </tr>\n",
       "    <tr>\n",
       "      <th>2</th>\n",
       "      <td>0.0</td>\n",
       "      <td>1.0</td>\n",
       "      <td>0.0</td>\n",
       "      <td>0.0</td>\n",
       "      <td>0.0</td>\n",
       "      <td>0.0</td>\n",
       "      <td>0.0</td>\n",
       "      <td>0.0</td>\n",
       "      <td>0.0</td>\n",
       "      <td>0.0</td>\n",
       "      <td>...</td>\n",
       "      <td>29</td>\n",
       "      <td>1.0</td>\n",
       "      <td>0.0</td>\n",
       "      <td>0.03</td>\n",
       "      <td>0.00</td>\n",
       "      <td>0.00</td>\n",
       "      <td>0.00</td>\n",
       "      <td>0.0</td>\n",
       "      <td>0.0</td>\n",
       "      <td>normal</td>\n",
       "    </tr>\n",
       "    <tr>\n",
       "      <th>3</th>\n",
       "      <td>0.0</td>\n",
       "      <td>1.0</td>\n",
       "      <td>0.0</td>\n",
       "      <td>0.0</td>\n",
       "      <td>0.0</td>\n",
       "      <td>0.0</td>\n",
       "      <td>0.0</td>\n",
       "      <td>0.0</td>\n",
       "      <td>0.0</td>\n",
       "      <td>0.0</td>\n",
       "      <td>...</td>\n",
       "      <td>39</td>\n",
       "      <td>1.0</td>\n",
       "      <td>0.0</td>\n",
       "      <td>0.03</td>\n",
       "      <td>0.00</td>\n",
       "      <td>0.00</td>\n",
       "      <td>0.00</td>\n",
       "      <td>0.0</td>\n",
       "      <td>0.0</td>\n",
       "      <td>normal</td>\n",
       "    </tr>\n",
       "    <tr>\n",
       "      <th>4</th>\n",
       "      <td>0.0</td>\n",
       "      <td>1.0</td>\n",
       "      <td>0.0</td>\n",
       "      <td>0.0</td>\n",
       "      <td>0.0</td>\n",
       "      <td>0.0</td>\n",
       "      <td>0.0</td>\n",
       "      <td>0.0</td>\n",
       "      <td>0.0</td>\n",
       "      <td>0.0</td>\n",
       "      <td>...</td>\n",
       "      <td>49</td>\n",
       "      <td>1.0</td>\n",
       "      <td>0.0</td>\n",
       "      <td>0.02</td>\n",
       "      <td>0.00</td>\n",
       "      <td>0.00</td>\n",
       "      <td>0.00</td>\n",
       "      <td>0.0</td>\n",
       "      <td>0.0</td>\n",
       "      <td>normal</td>\n",
       "    </tr>\n",
       "    <tr>\n",
       "      <th>...</th>\n",
       "      <td>...</td>\n",
       "      <td>...</td>\n",
       "      <td>...</td>\n",
       "      <td>...</td>\n",
       "      <td>...</td>\n",
       "      <td>...</td>\n",
       "      <td>...</td>\n",
       "      <td>...</td>\n",
       "      <td>...</td>\n",
       "      <td>...</td>\n",
       "      <td>...</td>\n",
       "      <td>...</td>\n",
       "      <td>...</td>\n",
       "      <td>...</td>\n",
       "      <td>...</td>\n",
       "      <td>...</td>\n",
       "      <td>...</td>\n",
       "      <td>...</td>\n",
       "      <td>...</td>\n",
       "      <td>...</td>\n",
       "      <td>...</td>\n",
       "    </tr>\n",
       "    <tr>\n",
       "      <th>494015</th>\n",
       "      <td>0.0</td>\n",
       "      <td>1.0</td>\n",
       "      <td>0.0</td>\n",
       "      <td>0.0</td>\n",
       "      <td>0.0</td>\n",
       "      <td>0.0</td>\n",
       "      <td>0.0</td>\n",
       "      <td>0.0</td>\n",
       "      <td>0.0</td>\n",
       "      <td>0.0</td>\n",
       "      <td>...</td>\n",
       "      <td>255</td>\n",
       "      <td>1.0</td>\n",
       "      <td>0.0</td>\n",
       "      <td>0.01</td>\n",
       "      <td>0.05</td>\n",
       "      <td>0.00</td>\n",
       "      <td>0.01</td>\n",
       "      <td>0.0</td>\n",
       "      <td>0.0</td>\n",
       "      <td>normal</td>\n",
       "    </tr>\n",
       "    <tr>\n",
       "      <th>494016</th>\n",
       "      <td>0.0</td>\n",
       "      <td>1.0</td>\n",
       "      <td>0.0</td>\n",
       "      <td>0.0</td>\n",
       "      <td>0.0</td>\n",
       "      <td>0.0</td>\n",
       "      <td>0.0</td>\n",
       "      <td>0.0</td>\n",
       "      <td>0.0</td>\n",
       "      <td>0.0</td>\n",
       "      <td>...</td>\n",
       "      <td>255</td>\n",
       "      <td>1.0</td>\n",
       "      <td>0.0</td>\n",
       "      <td>0.17</td>\n",
       "      <td>0.05</td>\n",
       "      <td>0.00</td>\n",
       "      <td>0.01</td>\n",
       "      <td>0.0</td>\n",
       "      <td>0.0</td>\n",
       "      <td>normal</td>\n",
       "    </tr>\n",
       "    <tr>\n",
       "      <th>494017</th>\n",
       "      <td>0.0</td>\n",
       "      <td>1.0</td>\n",
       "      <td>0.0</td>\n",
       "      <td>0.0</td>\n",
       "      <td>0.0</td>\n",
       "      <td>0.0</td>\n",
       "      <td>0.0</td>\n",
       "      <td>0.0</td>\n",
       "      <td>0.0</td>\n",
       "      <td>0.0</td>\n",
       "      <td>...</td>\n",
       "      <td>255</td>\n",
       "      <td>1.0</td>\n",
       "      <td>0.0</td>\n",
       "      <td>0.06</td>\n",
       "      <td>0.05</td>\n",
       "      <td>0.06</td>\n",
       "      <td>0.01</td>\n",
       "      <td>0.0</td>\n",
       "      <td>0.0</td>\n",
       "      <td>normal</td>\n",
       "    </tr>\n",
       "    <tr>\n",
       "      <th>494018</th>\n",
       "      <td>0.0</td>\n",
       "      <td>1.0</td>\n",
       "      <td>0.0</td>\n",
       "      <td>0.0</td>\n",
       "      <td>0.0</td>\n",
       "      <td>0.0</td>\n",
       "      <td>0.0</td>\n",
       "      <td>0.0</td>\n",
       "      <td>0.0</td>\n",
       "      <td>0.0</td>\n",
       "      <td>...</td>\n",
       "      <td>255</td>\n",
       "      <td>1.0</td>\n",
       "      <td>0.0</td>\n",
       "      <td>0.04</td>\n",
       "      <td>0.05</td>\n",
       "      <td>0.04</td>\n",
       "      <td>0.01</td>\n",
       "      <td>0.0</td>\n",
       "      <td>0.0</td>\n",
       "      <td>normal</td>\n",
       "    </tr>\n",
       "    <tr>\n",
       "      <th>494019</th>\n",
       "      <td>0.0</td>\n",
       "      <td>1.0</td>\n",
       "      <td>0.0</td>\n",
       "      <td>0.0</td>\n",
       "      <td>0.0</td>\n",
       "      <td>0.0</td>\n",
       "      <td>0.0</td>\n",
       "      <td>0.0</td>\n",
       "      <td>0.0</td>\n",
       "      <td>0.0</td>\n",
       "      <td>...</td>\n",
       "      <td>255</td>\n",
       "      <td>1.0</td>\n",
       "      <td>0.0</td>\n",
       "      <td>0.17</td>\n",
       "      <td>0.05</td>\n",
       "      <td>0.00</td>\n",
       "      <td>0.01</td>\n",
       "      <td>0.0</td>\n",
       "      <td>0.0</td>\n",
       "      <td>normal</td>\n",
       "    </tr>\n",
       "  </tbody>\n",
       "</table>\n",
       "<p>494020 rows × 119 columns</p>\n",
       "</div>"
      ],
      "text/plain": [
       "        protocol_type1  protocol_type2  protocol_type3  service1  service2  \\\n",
       "0                  0.0             1.0             0.0       0.0       0.0   \n",
       "1                  0.0             1.0             0.0       0.0       0.0   \n",
       "2                  0.0             1.0             0.0       0.0       0.0   \n",
       "3                  0.0             1.0             0.0       0.0       0.0   \n",
       "4                  0.0             1.0             0.0       0.0       0.0   \n",
       "...                ...             ...             ...       ...       ...   \n",
       "494015             0.0             1.0             0.0       0.0       0.0   \n",
       "494016             0.0             1.0             0.0       0.0       0.0   \n",
       "494017             0.0             1.0             0.0       0.0       0.0   \n",
       "494018             0.0             1.0             0.0       0.0       0.0   \n",
       "494019             0.0             1.0             0.0       0.0       0.0   \n",
       "\n",
       "        service3  service4  service5  service6  service7  ...  \\\n",
       "0            0.0       0.0       0.0       0.0       0.0  ...   \n",
       "1            0.0       0.0       0.0       0.0       0.0  ...   \n",
       "2            0.0       0.0       0.0       0.0       0.0  ...   \n",
       "3            0.0       0.0       0.0       0.0       0.0  ...   \n",
       "4            0.0       0.0       0.0       0.0       0.0  ...   \n",
       "...          ...       ...       ...       ...       ...  ...   \n",
       "494015       0.0       0.0       0.0       0.0       0.0  ...   \n",
       "494016       0.0       0.0       0.0       0.0       0.0  ...   \n",
       "494017       0.0       0.0       0.0       0.0       0.0  ...   \n",
       "494018       0.0       0.0       0.0       0.0       0.0  ...   \n",
       "494019       0.0       0.0       0.0       0.0       0.0  ...   \n",
       "\n",
       "        dst_host_srv_count  dst_host_same_srv_rate  dst_host_diff_srv_rate  \\\n",
       "0                        9                     1.0                     0.0   \n",
       "1                       19                     1.0                     0.0   \n",
       "2                       29                     1.0                     0.0   \n",
       "3                       39                     1.0                     0.0   \n",
       "4                       49                     1.0                     0.0   \n",
       "...                    ...                     ...                     ...   \n",
       "494015                 255                     1.0                     0.0   \n",
       "494016                 255                     1.0                     0.0   \n",
       "494017                 255                     1.0                     0.0   \n",
       "494018                 255                     1.0                     0.0   \n",
       "494019                 255                     1.0                     0.0   \n",
       "\n",
       "        dst_host_same_src_port_rate  dst_host_srv_diff_host_rate  \\\n",
       "0                              0.11                         0.00   \n",
       "1                              0.05                         0.00   \n",
       "2                              0.03                         0.00   \n",
       "3                              0.03                         0.00   \n",
       "4                              0.02                         0.00   \n",
       "...                             ...                          ...   \n",
       "494015                         0.01                         0.05   \n",
       "494016                         0.17                         0.05   \n",
       "494017                         0.06                         0.05   \n",
       "494018                         0.04                         0.05   \n",
       "494019                         0.17                         0.05   \n",
       "\n",
       "        dst_host_serror_rate  dst_host_srv_serror_rate  dst_host_rerror_rate  \\\n",
       "0                       0.00                      0.00                   0.0   \n",
       "1                       0.00                      0.00                   0.0   \n",
       "2                       0.00                      0.00                   0.0   \n",
       "3                       0.00                      0.00                   0.0   \n",
       "4                       0.00                      0.00                   0.0   \n",
       "...                      ...                       ...                   ...   \n",
       "494015                  0.00                      0.01                   0.0   \n",
       "494016                  0.00                      0.01                   0.0   \n",
       "494017                  0.06                      0.01                   0.0   \n",
       "494018                  0.04                      0.01                   0.0   \n",
       "494019                  0.00                      0.01                   0.0   \n",
       "\n",
       "        dst_host_srv_rerror_rate   label  \n",
       "0                            0.0  normal  \n",
       "1                            0.0  normal  \n",
       "2                            0.0  normal  \n",
       "3                            0.0  normal  \n",
       "4                            0.0  normal  \n",
       "...                          ...     ...  \n",
       "494015                       0.0  normal  \n",
       "494016                       0.0  normal  \n",
       "494017                       0.0  normal  \n",
       "494018                       0.0  normal  \n",
       "494019                       0.0  normal  \n",
       "\n",
       "[494020 rows x 119 columns]"
      ]
     },
     "execution_count": 64,
     "metadata": {},
     "output_type": "execute_result"
    }
   ],
   "source": [
    "#连接主表 42+80-3=119列\n",
    "df = df.drop(['protocol_type', 'service', 'flag'], axis=1) \n",
    "df = pd.concat([dfobject,df],axis=1)\n",
    "df"
   ]
  },
  {
   "cell_type": "code",
   "execution_count": 65,
   "metadata": {
    "collapsed": false
   },
   "outputs": [],
   "source": [
    "# Z-score normalization\n",
    "features = df.dtypes[df.dtypes != 'object'].index\n",
    "df[features] = df[features].apply(\n",
    "    lambda x: (x - x.mean()) / (x.std()))\n",
    "# Fill empty values by 0\n",
    "df = df.fillna(0)"
   ]
  },
  {
   "cell_type": "code",
   "execution_count": 66,
   "metadata": {},
   "outputs": [
    {
     "data": {
      "text/html": [
       "<div>\n",
       "<style scoped>\n",
       "    .dataframe tbody tr th:only-of-type {\n",
       "        vertical-align: middle;\n",
       "    }\n",
       "\n",
       "    .dataframe tbody tr th {\n",
       "        vertical-align: top;\n",
       "    }\n",
       "\n",
       "    .dataframe thead th {\n",
       "        text-align: right;\n",
       "    }\n",
       "</style>\n",
       "<table border=\"1\" class=\"dataframe\">\n",
       "  <thead>\n",
       "    <tr style=\"text-align: right;\">\n",
       "      <th></th>\n",
       "      <th>protocol_type1</th>\n",
       "      <th>protocol_type2</th>\n",
       "      <th>protocol_type3</th>\n",
       "      <th>service1</th>\n",
       "      <th>service2</th>\n",
       "      <th>service3</th>\n",
       "      <th>service4</th>\n",
       "      <th>service5</th>\n",
       "      <th>service6</th>\n",
       "      <th>service7</th>\n",
       "      <th>...</th>\n",
       "      <th>dst_host_srv_count</th>\n",
       "      <th>dst_host_same_srv_rate</th>\n",
       "      <th>dst_host_diff_srv_rate</th>\n",
       "      <th>dst_host_same_src_port_rate</th>\n",
       "      <th>dst_host_srv_diff_host_rate</th>\n",
       "      <th>dst_host_serror_rate</th>\n",
       "      <th>dst_host_srv_serror_rate</th>\n",
       "      <th>dst_host_rerror_rate</th>\n",
       "      <th>dst_host_srv_rerror_rate</th>\n",
       "      <th>label</th>\n",
       "    </tr>\n",
       "  </thead>\n",
       "  <tbody>\n",
       "    <tr>\n",
       "      <th>0</th>\n",
       "      <td>-1.160948</td>\n",
       "      <td>1.264605</td>\n",
       "      <td>-0.207295</td>\n",
       "      <td>-0.00933</td>\n",
       "      <td>-0.004719</td>\n",
       "      <td>-0.013648</td>\n",
       "      <td>-0.025776</td>\n",
       "      <td>-0.01465</td>\n",
       "      <td>-0.014787</td>\n",
       "      <td>-0.015972</td>\n",
       "      <td>...</td>\n",
       "      <td>-1.694320</td>\n",
       "      <td>0.599393</td>\n",
       "      <td>-0.282867</td>\n",
       "      <td>-1.022079</td>\n",
       "      <td>-0.158629</td>\n",
       "      <td>-0.464418</td>\n",
       "      <td>-0.463202</td>\n",
       "      <td>-0.25204</td>\n",
       "      <td>-0.249464</td>\n",
       "      <td>normal</td>\n",
       "    </tr>\n",
       "    <tr>\n",
       "      <th>1</th>\n",
       "      <td>-1.160948</td>\n",
       "      <td>1.264605</td>\n",
       "      <td>-0.207295</td>\n",
       "      <td>-0.00933</td>\n",
       "      <td>-0.004719</td>\n",
       "      <td>-0.013648</td>\n",
       "      <td>-0.025776</td>\n",
       "      <td>-0.01465</td>\n",
       "      <td>-0.014787</td>\n",
       "      <td>-0.015972</td>\n",
       "      <td>...</td>\n",
       "      <td>-1.600016</td>\n",
       "      <td>0.599393</td>\n",
       "      <td>-0.282867</td>\n",
       "      <td>-1.146739</td>\n",
       "      <td>-0.158629</td>\n",
       "      <td>-0.464418</td>\n",
       "      <td>-0.463202</td>\n",
       "      <td>-0.25204</td>\n",
       "      <td>-0.249464</td>\n",
       "      <td>normal</td>\n",
       "    </tr>\n",
       "    <tr>\n",
       "      <th>2</th>\n",
       "      <td>-1.160948</td>\n",
       "      <td>1.264605</td>\n",
       "      <td>-0.207295</td>\n",
       "      <td>-0.00933</td>\n",
       "      <td>-0.004719</td>\n",
       "      <td>-0.013648</td>\n",
       "      <td>-0.025776</td>\n",
       "      <td>-0.01465</td>\n",
       "      <td>-0.014787</td>\n",
       "      <td>-0.015972</td>\n",
       "      <td>...</td>\n",
       "      <td>-1.505712</td>\n",
       "      <td>0.599393</td>\n",
       "      <td>-0.282867</td>\n",
       "      <td>-1.188293</td>\n",
       "      <td>-0.158629</td>\n",
       "      <td>-0.464418</td>\n",
       "      <td>-0.463202</td>\n",
       "      <td>-0.25204</td>\n",
       "      <td>-0.249464</td>\n",
       "      <td>normal</td>\n",
       "    </tr>\n",
       "    <tr>\n",
       "      <th>3</th>\n",
       "      <td>-1.160948</td>\n",
       "      <td>1.264605</td>\n",
       "      <td>-0.207295</td>\n",
       "      <td>-0.00933</td>\n",
       "      <td>-0.004719</td>\n",
       "      <td>-0.013648</td>\n",
       "      <td>-0.025776</td>\n",
       "      <td>-0.01465</td>\n",
       "      <td>-0.014787</td>\n",
       "      <td>-0.015972</td>\n",
       "      <td>...</td>\n",
       "      <td>-1.411409</td>\n",
       "      <td>0.599393</td>\n",
       "      <td>-0.282867</td>\n",
       "      <td>-1.188293</td>\n",
       "      <td>-0.158629</td>\n",
       "      <td>-0.464418</td>\n",
       "      <td>-0.463202</td>\n",
       "      <td>-0.25204</td>\n",
       "      <td>-0.249464</td>\n",
       "      <td>normal</td>\n",
       "    </tr>\n",
       "    <tr>\n",
       "      <th>4</th>\n",
       "      <td>-1.160948</td>\n",
       "      <td>1.264605</td>\n",
       "      <td>-0.207295</td>\n",
       "      <td>-0.00933</td>\n",
       "      <td>-0.004719</td>\n",
       "      <td>-0.013648</td>\n",
       "      <td>-0.025776</td>\n",
       "      <td>-0.01465</td>\n",
       "      <td>-0.014787</td>\n",
       "      <td>-0.015972</td>\n",
       "      <td>...</td>\n",
       "      <td>-1.317105</td>\n",
       "      <td>0.599393</td>\n",
       "      <td>-0.282867</td>\n",
       "      <td>-1.209069</td>\n",
       "      <td>-0.158629</td>\n",
       "      <td>-0.464418</td>\n",
       "      <td>-0.463202</td>\n",
       "      <td>-0.25204</td>\n",
       "      <td>-0.249464</td>\n",
       "      <td>normal</td>\n",
       "    </tr>\n",
       "    <tr>\n",
       "      <th>...</th>\n",
       "      <td>...</td>\n",
       "      <td>...</td>\n",
       "      <td>...</td>\n",
       "      <td>...</td>\n",
       "      <td>...</td>\n",
       "      <td>...</td>\n",
       "      <td>...</td>\n",
       "      <td>...</td>\n",
       "      <td>...</td>\n",
       "      <td>...</td>\n",
       "      <td>...</td>\n",
       "      <td>...</td>\n",
       "      <td>...</td>\n",
       "      <td>...</td>\n",
       "      <td>...</td>\n",
       "      <td>...</td>\n",
       "      <td>...</td>\n",
       "      <td>...</td>\n",
       "      <td>...</td>\n",
       "      <td>...</td>\n",
       "      <td>...</td>\n",
       "    </tr>\n",
       "    <tr>\n",
       "      <th>494015</th>\n",
       "      <td>-1.160948</td>\n",
       "      <td>1.264605</td>\n",
       "      <td>-0.207295</td>\n",
       "      <td>-0.00933</td>\n",
       "      <td>-0.004719</td>\n",
       "      <td>-0.013648</td>\n",
       "      <td>-0.025776</td>\n",
       "      <td>-0.01465</td>\n",
       "      <td>-0.014787</td>\n",
       "      <td>-0.015972</td>\n",
       "      <td>...</td>\n",
       "      <td>0.625555</td>\n",
       "      <td>0.599393</td>\n",
       "      <td>-0.282867</td>\n",
       "      <td>-1.229846</td>\n",
       "      <td>1.028091</td>\n",
       "      <td>-0.464418</td>\n",
       "      <td>-0.436950</td>\n",
       "      <td>-0.25204</td>\n",
       "      <td>-0.249464</td>\n",
       "      <td>normal</td>\n",
       "    </tr>\n",
       "    <tr>\n",
       "      <th>494016</th>\n",
       "      <td>-1.160948</td>\n",
       "      <td>1.264605</td>\n",
       "      <td>-0.207295</td>\n",
       "      <td>-0.00933</td>\n",
       "      <td>-0.004719</td>\n",
       "      <td>-0.013648</td>\n",
       "      <td>-0.025776</td>\n",
       "      <td>-0.01465</td>\n",
       "      <td>-0.014787</td>\n",
       "      <td>-0.015972</td>\n",
       "      <td>...</td>\n",
       "      <td>0.625555</td>\n",
       "      <td>0.599393</td>\n",
       "      <td>-0.282867</td>\n",
       "      <td>-0.897419</td>\n",
       "      <td>1.028091</td>\n",
       "      <td>-0.464418</td>\n",
       "      <td>-0.436950</td>\n",
       "      <td>-0.25204</td>\n",
       "      <td>-0.249464</td>\n",
       "      <td>normal</td>\n",
       "    </tr>\n",
       "    <tr>\n",
       "      <th>494017</th>\n",
       "      <td>-1.160948</td>\n",
       "      <td>1.264605</td>\n",
       "      <td>-0.207295</td>\n",
       "      <td>-0.00933</td>\n",
       "      <td>-0.004719</td>\n",
       "      <td>-0.013648</td>\n",
       "      <td>-0.025776</td>\n",
       "      <td>-0.01465</td>\n",
       "      <td>-0.014787</td>\n",
       "      <td>-0.015972</td>\n",
       "      <td>...</td>\n",
       "      <td>0.625555</td>\n",
       "      <td>0.599393</td>\n",
       "      <td>-0.282867</td>\n",
       "      <td>-1.125963</td>\n",
       "      <td>1.028091</td>\n",
       "      <td>-0.306769</td>\n",
       "      <td>-0.436950</td>\n",
       "      <td>-0.25204</td>\n",
       "      <td>-0.249464</td>\n",
       "      <td>normal</td>\n",
       "    </tr>\n",
       "    <tr>\n",
       "      <th>494018</th>\n",
       "      <td>-1.160948</td>\n",
       "      <td>1.264605</td>\n",
       "      <td>-0.207295</td>\n",
       "      <td>-0.00933</td>\n",
       "      <td>-0.004719</td>\n",
       "      <td>-0.013648</td>\n",
       "      <td>-0.025776</td>\n",
       "      <td>-0.01465</td>\n",
       "      <td>-0.014787</td>\n",
       "      <td>-0.015972</td>\n",
       "      <td>...</td>\n",
       "      <td>0.625555</td>\n",
       "      <td>0.599393</td>\n",
       "      <td>-0.282867</td>\n",
       "      <td>-1.167516</td>\n",
       "      <td>1.028091</td>\n",
       "      <td>-0.359319</td>\n",
       "      <td>-0.436950</td>\n",
       "      <td>-0.25204</td>\n",
       "      <td>-0.249464</td>\n",
       "      <td>normal</td>\n",
       "    </tr>\n",
       "    <tr>\n",
       "      <th>494019</th>\n",
       "      <td>-1.160948</td>\n",
       "      <td>1.264605</td>\n",
       "      <td>-0.207295</td>\n",
       "      <td>-0.00933</td>\n",
       "      <td>-0.004719</td>\n",
       "      <td>-0.013648</td>\n",
       "      <td>-0.025776</td>\n",
       "      <td>-0.01465</td>\n",
       "      <td>-0.014787</td>\n",
       "      <td>-0.015972</td>\n",
       "      <td>...</td>\n",
       "      <td>0.625555</td>\n",
       "      <td>0.599393</td>\n",
       "      <td>-0.282867</td>\n",
       "      <td>-0.897419</td>\n",
       "      <td>1.028091</td>\n",
       "      <td>-0.464418</td>\n",
       "      <td>-0.436950</td>\n",
       "      <td>-0.25204</td>\n",
       "      <td>-0.249464</td>\n",
       "      <td>normal</td>\n",
       "    </tr>\n",
       "  </tbody>\n",
       "</table>\n",
       "<p>494020 rows × 119 columns</p>\n",
       "</div>"
      ],
      "text/plain": [
       "        protocol_type1  protocol_type2  protocol_type3  service1  service2  \\\n",
       "0            -1.160948        1.264605       -0.207295  -0.00933 -0.004719   \n",
       "1            -1.160948        1.264605       -0.207295  -0.00933 -0.004719   \n",
       "2            -1.160948        1.264605       -0.207295  -0.00933 -0.004719   \n",
       "3            -1.160948        1.264605       -0.207295  -0.00933 -0.004719   \n",
       "4            -1.160948        1.264605       -0.207295  -0.00933 -0.004719   \n",
       "...                ...             ...             ...       ...       ...   \n",
       "494015       -1.160948        1.264605       -0.207295  -0.00933 -0.004719   \n",
       "494016       -1.160948        1.264605       -0.207295  -0.00933 -0.004719   \n",
       "494017       -1.160948        1.264605       -0.207295  -0.00933 -0.004719   \n",
       "494018       -1.160948        1.264605       -0.207295  -0.00933 -0.004719   \n",
       "494019       -1.160948        1.264605       -0.207295  -0.00933 -0.004719   \n",
       "\n",
       "        service3  service4  service5  service6  service7  ...  \\\n",
       "0      -0.013648 -0.025776  -0.01465 -0.014787 -0.015972  ...   \n",
       "1      -0.013648 -0.025776  -0.01465 -0.014787 -0.015972  ...   \n",
       "2      -0.013648 -0.025776  -0.01465 -0.014787 -0.015972  ...   \n",
       "3      -0.013648 -0.025776  -0.01465 -0.014787 -0.015972  ...   \n",
       "4      -0.013648 -0.025776  -0.01465 -0.014787 -0.015972  ...   \n",
       "...          ...       ...       ...       ...       ...  ...   \n",
       "494015 -0.013648 -0.025776  -0.01465 -0.014787 -0.015972  ...   \n",
       "494016 -0.013648 -0.025776  -0.01465 -0.014787 -0.015972  ...   \n",
       "494017 -0.013648 -0.025776  -0.01465 -0.014787 -0.015972  ...   \n",
       "494018 -0.013648 -0.025776  -0.01465 -0.014787 -0.015972  ...   \n",
       "494019 -0.013648 -0.025776  -0.01465 -0.014787 -0.015972  ...   \n",
       "\n",
       "        dst_host_srv_count  dst_host_same_srv_rate  dst_host_diff_srv_rate  \\\n",
       "0                -1.694320                0.599393               -0.282867   \n",
       "1                -1.600016                0.599393               -0.282867   \n",
       "2                -1.505712                0.599393               -0.282867   \n",
       "3                -1.411409                0.599393               -0.282867   \n",
       "4                -1.317105                0.599393               -0.282867   \n",
       "...                    ...                     ...                     ...   \n",
       "494015            0.625555                0.599393               -0.282867   \n",
       "494016            0.625555                0.599393               -0.282867   \n",
       "494017            0.625555                0.599393               -0.282867   \n",
       "494018            0.625555                0.599393               -0.282867   \n",
       "494019            0.625555                0.599393               -0.282867   \n",
       "\n",
       "        dst_host_same_src_port_rate  dst_host_srv_diff_host_rate  \\\n",
       "0                         -1.022079                    -0.158629   \n",
       "1                         -1.146739                    -0.158629   \n",
       "2                         -1.188293                    -0.158629   \n",
       "3                         -1.188293                    -0.158629   \n",
       "4                         -1.209069                    -0.158629   \n",
       "...                             ...                          ...   \n",
       "494015                    -1.229846                     1.028091   \n",
       "494016                    -0.897419                     1.028091   \n",
       "494017                    -1.125963                     1.028091   \n",
       "494018                    -1.167516                     1.028091   \n",
       "494019                    -0.897419                     1.028091   \n",
       "\n",
       "        dst_host_serror_rate  dst_host_srv_serror_rate  dst_host_rerror_rate  \\\n",
       "0                  -0.464418                 -0.463202              -0.25204   \n",
       "1                  -0.464418                 -0.463202              -0.25204   \n",
       "2                  -0.464418                 -0.463202              -0.25204   \n",
       "3                  -0.464418                 -0.463202              -0.25204   \n",
       "4                  -0.464418                 -0.463202              -0.25204   \n",
       "...                      ...                       ...                   ...   \n",
       "494015             -0.464418                 -0.436950              -0.25204   \n",
       "494016             -0.464418                 -0.436950              -0.25204   \n",
       "494017             -0.306769                 -0.436950              -0.25204   \n",
       "494018             -0.359319                 -0.436950              -0.25204   \n",
       "494019             -0.464418                 -0.436950              -0.25204   \n",
       "\n",
       "        dst_host_srv_rerror_rate   label  \n",
       "0                      -0.249464  normal  \n",
       "1                      -0.249464  normal  \n",
       "2                      -0.249464  normal  \n",
       "3                      -0.249464  normal  \n",
       "4                      -0.249464  normal  \n",
       "...                          ...     ...  \n",
       "494015                 -0.249464  normal  \n",
       "494016                 -0.249464  normal  \n",
       "494017                 -0.249464  normal  \n",
       "494018                 -0.249464  normal  \n",
       "494019                 -0.249464  normal  \n",
       "\n",
       "[494020 rows x 119 columns]"
      ]
     },
     "execution_count": 66,
     "metadata": {},
     "output_type": "execute_result"
    }
   ],
   "source": [
    "df"
   ]
  },
  {
   "cell_type": "markdown",
   "metadata": {},
   "source": [
    "### Data sampling\n",
    "Due to the space limit of GitHub files and the large size of network traffic data, we sample a small-sized subset for model learning using **k-means cluster sampling**"
   ]
  },
  {
   "cell_type": "code",
   "execution_count": 67,
   "metadata": {
    "collapsed": false
   },
   "outputs": [],
   "source": [
    "labelencoder = LabelEncoder()\n",
    "df.iloc[:, -1] = labelencoder.fit_transform(df.iloc[:, -1])"
   ]
  },
  {
   "cell_type": "code",
   "execution_count": 68,
   "metadata": {
    "collapsed": false
   },
   "outputs": [
    {
     "data": {
      "text/plain": [
       "18    280790\n",
       "9     107201\n",
       "11     97277\n",
       "0       2203\n",
       "17      1589\n",
       "5       1247\n",
       "15      1040\n",
       "21      1020\n",
       "20       979\n",
       "14       264\n",
       "10       231\n",
       "3         53\n",
       "1         30\n",
       "6         21\n",
       "22        20\n",
       "4         12\n",
       "16        10\n",
       "7          9\n",
       "2          8\n",
       "8          7\n",
       "13         4\n",
       "12         3\n",
       "19         2\n",
       "Name: label, dtype: int64"
      ]
     },
     "execution_count": 68,
     "metadata": {},
     "output_type": "execute_result"
    }
   ],
   "source": [
    "df.label.value_counts()"
   ]
  },
  {
   "cell_type": "code",
   "execution_count": 69,
   "metadata": {
    "collapsed": false
   },
   "outputs": [],
   "source": [
    "X = df.drop(['label'],axis=1) \n",
    "y = df.iloc[:, -1].values.reshape(-1,1)\n",
    "y=np.ravel(y)"
   ]
  },
  {
   "cell_type": "code",
   "execution_count": 70,
   "metadata": {
    "collapsed": false,
    "scrolled": true
   },
   "outputs": [],
   "source": [
    "# use k-means to cluster the data samples and select a proportion of data from each cluster\n",
    "from sklearn.cluster import MiniBatchKMeans\n",
    "kmeans = MiniBatchKMeans(n_clusters=1000, random_state=0).fit(X)"
   ]
  },
  {
   "cell_type": "code",
   "execution_count": 71,
   "metadata": {
    "collapsed": false
   },
   "outputs": [],
   "source": [
    "klabel=kmeans.labels_\n",
    "df['klabel']=klabel"
   ]
  },
  {
   "cell_type": "code",
   "execution_count": 72,
   "metadata": {
    "collapsed": false,
    "scrolled": true
   },
   "outputs": [
    {
     "data": {
      "text/plain": [
       "12     193085\n",
       "64      33368\n",
       "512     26186\n",
       "880      5236\n",
       "551      1534\n",
       "        ...  \n",
       "613         2\n",
       "47          2\n",
       "0           1\n",
       "32          1\n",
       "780         1\n",
       "Name: klabel, Length: 703, dtype: int64"
      ]
     },
     "execution_count": 72,
     "metadata": {},
     "output_type": "execute_result"
    }
   ],
   "source": [
    "df['klabel'].value_counts()"
   ]
  },
  {
   "cell_type": "code",
   "execution_count": 75,
   "metadata": {
    "collapsed": false
   },
   "outputs": [],
   "source": [
    "cols = list(df)\n",
    "cols.insert(120, cols.pop(cols.index('label')))\n",
    "df = df.loc[:, cols]"
   ]
  },
  {
   "cell_type": "code",
   "execution_count": 76,
   "metadata": {
    "collapsed": false,
    "scrolled": true
   },
   "outputs": [
    {
     "data": {
      "text/html": [
       "<div>\n",
       "<style scoped>\n",
       "    .dataframe tbody tr th:only-of-type {\n",
       "        vertical-align: middle;\n",
       "    }\n",
       "\n",
       "    .dataframe tbody tr th {\n",
       "        vertical-align: top;\n",
       "    }\n",
       "\n",
       "    .dataframe thead th {\n",
       "        text-align: right;\n",
       "    }\n",
       "</style>\n",
       "<table border=\"1\" class=\"dataframe\">\n",
       "  <thead>\n",
       "    <tr style=\"text-align: right;\">\n",
       "      <th></th>\n",
       "      <th>protocol_type1</th>\n",
       "      <th>protocol_type2</th>\n",
       "      <th>protocol_type3</th>\n",
       "      <th>service1</th>\n",
       "      <th>service2</th>\n",
       "      <th>service3</th>\n",
       "      <th>service4</th>\n",
       "      <th>service5</th>\n",
       "      <th>service6</th>\n",
       "      <th>service7</th>\n",
       "      <th>...</th>\n",
       "      <th>dst_host_same_srv_rate</th>\n",
       "      <th>dst_host_diff_srv_rate</th>\n",
       "      <th>dst_host_same_src_port_rate</th>\n",
       "      <th>dst_host_srv_diff_host_rate</th>\n",
       "      <th>dst_host_serror_rate</th>\n",
       "      <th>dst_host_srv_serror_rate</th>\n",
       "      <th>dst_host_rerror_rate</th>\n",
       "      <th>dst_host_srv_rerror_rate</th>\n",
       "      <th>klabel</th>\n",
       "      <th>label</th>\n",
       "    </tr>\n",
       "  </thead>\n",
       "  <tbody>\n",
       "    <tr>\n",
       "      <th>0</th>\n",
       "      <td>-1.160948</td>\n",
       "      <td>1.264605</td>\n",
       "      <td>-0.207295</td>\n",
       "      <td>-0.00933</td>\n",
       "      <td>-0.004719</td>\n",
       "      <td>-0.013648</td>\n",
       "      <td>-0.025776</td>\n",
       "      <td>-0.01465</td>\n",
       "      <td>-0.014787</td>\n",
       "      <td>-0.015972</td>\n",
       "      <td>...</td>\n",
       "      <td>0.599393</td>\n",
       "      <td>-0.282867</td>\n",
       "      <td>-1.022079</td>\n",
       "      <td>-0.158629</td>\n",
       "      <td>-0.464418</td>\n",
       "      <td>-0.463202</td>\n",
       "      <td>-0.25204</td>\n",
       "      <td>-0.249464</td>\n",
       "      <td>275</td>\n",
       "      <td>11</td>\n",
       "    </tr>\n",
       "    <tr>\n",
       "      <th>1</th>\n",
       "      <td>-1.160948</td>\n",
       "      <td>1.264605</td>\n",
       "      <td>-0.207295</td>\n",
       "      <td>-0.00933</td>\n",
       "      <td>-0.004719</td>\n",
       "      <td>-0.013648</td>\n",
       "      <td>-0.025776</td>\n",
       "      <td>-0.01465</td>\n",
       "      <td>-0.014787</td>\n",
       "      <td>-0.015972</td>\n",
       "      <td>...</td>\n",
       "      <td>0.599393</td>\n",
       "      <td>-0.282867</td>\n",
       "      <td>-1.146739</td>\n",
       "      <td>-0.158629</td>\n",
       "      <td>-0.464418</td>\n",
       "      <td>-0.463202</td>\n",
       "      <td>-0.25204</td>\n",
       "      <td>-0.249464</td>\n",
       "      <td>275</td>\n",
       "      <td>11</td>\n",
       "    </tr>\n",
       "    <tr>\n",
       "      <th>2</th>\n",
       "      <td>-1.160948</td>\n",
       "      <td>1.264605</td>\n",
       "      <td>-0.207295</td>\n",
       "      <td>-0.00933</td>\n",
       "      <td>-0.004719</td>\n",
       "      <td>-0.013648</td>\n",
       "      <td>-0.025776</td>\n",
       "      <td>-0.01465</td>\n",
       "      <td>-0.014787</td>\n",
       "      <td>-0.015972</td>\n",
       "      <td>...</td>\n",
       "      <td>0.599393</td>\n",
       "      <td>-0.282867</td>\n",
       "      <td>-1.188293</td>\n",
       "      <td>-0.158629</td>\n",
       "      <td>-0.464418</td>\n",
       "      <td>-0.463202</td>\n",
       "      <td>-0.25204</td>\n",
       "      <td>-0.249464</td>\n",
       "      <td>275</td>\n",
       "      <td>11</td>\n",
       "    </tr>\n",
       "    <tr>\n",
       "      <th>3</th>\n",
       "      <td>-1.160948</td>\n",
       "      <td>1.264605</td>\n",
       "      <td>-0.207295</td>\n",
       "      <td>-0.00933</td>\n",
       "      <td>-0.004719</td>\n",
       "      <td>-0.013648</td>\n",
       "      <td>-0.025776</td>\n",
       "      <td>-0.01465</td>\n",
       "      <td>-0.014787</td>\n",
       "      <td>-0.015972</td>\n",
       "      <td>...</td>\n",
       "      <td>0.599393</td>\n",
       "      <td>-0.282867</td>\n",
       "      <td>-1.188293</td>\n",
       "      <td>-0.158629</td>\n",
       "      <td>-0.464418</td>\n",
       "      <td>-0.463202</td>\n",
       "      <td>-0.25204</td>\n",
       "      <td>-0.249464</td>\n",
       "      <td>275</td>\n",
       "      <td>11</td>\n",
       "    </tr>\n",
       "    <tr>\n",
       "      <th>4</th>\n",
       "      <td>-1.160948</td>\n",
       "      <td>1.264605</td>\n",
       "      <td>-0.207295</td>\n",
       "      <td>-0.00933</td>\n",
       "      <td>-0.004719</td>\n",
       "      <td>-0.013648</td>\n",
       "      <td>-0.025776</td>\n",
       "      <td>-0.01465</td>\n",
       "      <td>-0.014787</td>\n",
       "      <td>-0.015972</td>\n",
       "      <td>...</td>\n",
       "      <td>0.599393</td>\n",
       "      <td>-0.282867</td>\n",
       "      <td>-1.209069</td>\n",
       "      <td>-0.158629</td>\n",
       "      <td>-0.464418</td>\n",
       "      <td>-0.463202</td>\n",
       "      <td>-0.25204</td>\n",
       "      <td>-0.249464</td>\n",
       "      <td>275</td>\n",
       "      <td>11</td>\n",
       "    </tr>\n",
       "    <tr>\n",
       "      <th>...</th>\n",
       "      <td>...</td>\n",
       "      <td>...</td>\n",
       "      <td>...</td>\n",
       "      <td>...</td>\n",
       "      <td>...</td>\n",
       "      <td>...</td>\n",
       "      <td>...</td>\n",
       "      <td>...</td>\n",
       "      <td>...</td>\n",
       "      <td>...</td>\n",
       "      <td>...</td>\n",
       "      <td>...</td>\n",
       "      <td>...</td>\n",
       "      <td>...</td>\n",
       "      <td>...</td>\n",
       "      <td>...</td>\n",
       "      <td>...</td>\n",
       "      <td>...</td>\n",
       "      <td>...</td>\n",
       "      <td>...</td>\n",
       "      <td>...</td>\n",
       "    </tr>\n",
       "    <tr>\n",
       "      <th>494015</th>\n",
       "      <td>-1.160948</td>\n",
       "      <td>1.264605</td>\n",
       "      <td>-0.207295</td>\n",
       "      <td>-0.00933</td>\n",
       "      <td>-0.004719</td>\n",
       "      <td>-0.013648</td>\n",
       "      <td>-0.025776</td>\n",
       "      <td>-0.01465</td>\n",
       "      <td>-0.014787</td>\n",
       "      <td>-0.015972</td>\n",
       "      <td>...</td>\n",
       "      <td>0.599393</td>\n",
       "      <td>-0.282867</td>\n",
       "      <td>-1.229846</td>\n",
       "      <td>1.028091</td>\n",
       "      <td>-0.464418</td>\n",
       "      <td>-0.436950</td>\n",
       "      <td>-0.25204</td>\n",
       "      <td>-0.249464</td>\n",
       "      <td>294</td>\n",
       "      <td>11</td>\n",
       "    </tr>\n",
       "    <tr>\n",
       "      <th>494016</th>\n",
       "      <td>-1.160948</td>\n",
       "      <td>1.264605</td>\n",
       "      <td>-0.207295</td>\n",
       "      <td>-0.00933</td>\n",
       "      <td>-0.004719</td>\n",
       "      <td>-0.013648</td>\n",
       "      <td>-0.025776</td>\n",
       "      <td>-0.01465</td>\n",
       "      <td>-0.014787</td>\n",
       "      <td>-0.015972</td>\n",
       "      <td>...</td>\n",
       "      <td>0.599393</td>\n",
       "      <td>-0.282867</td>\n",
       "      <td>-0.897419</td>\n",
       "      <td>1.028091</td>\n",
       "      <td>-0.464418</td>\n",
       "      <td>-0.436950</td>\n",
       "      <td>-0.25204</td>\n",
       "      <td>-0.249464</td>\n",
       "      <td>618</td>\n",
       "      <td>11</td>\n",
       "    </tr>\n",
       "    <tr>\n",
       "      <th>494017</th>\n",
       "      <td>-1.160948</td>\n",
       "      <td>1.264605</td>\n",
       "      <td>-0.207295</td>\n",
       "      <td>-0.00933</td>\n",
       "      <td>-0.004719</td>\n",
       "      <td>-0.013648</td>\n",
       "      <td>-0.025776</td>\n",
       "      <td>-0.01465</td>\n",
       "      <td>-0.014787</td>\n",
       "      <td>-0.015972</td>\n",
       "      <td>...</td>\n",
       "      <td>0.599393</td>\n",
       "      <td>-0.282867</td>\n",
       "      <td>-1.125963</td>\n",
       "      <td>1.028091</td>\n",
       "      <td>-0.306769</td>\n",
       "      <td>-0.436950</td>\n",
       "      <td>-0.25204</td>\n",
       "      <td>-0.249464</td>\n",
       "      <td>311</td>\n",
       "      <td>11</td>\n",
       "    </tr>\n",
       "    <tr>\n",
       "      <th>494018</th>\n",
       "      <td>-1.160948</td>\n",
       "      <td>1.264605</td>\n",
       "      <td>-0.207295</td>\n",
       "      <td>-0.00933</td>\n",
       "      <td>-0.004719</td>\n",
       "      <td>-0.013648</td>\n",
       "      <td>-0.025776</td>\n",
       "      <td>-0.01465</td>\n",
       "      <td>-0.014787</td>\n",
       "      <td>-0.015972</td>\n",
       "      <td>...</td>\n",
       "      <td>0.599393</td>\n",
       "      <td>-0.282867</td>\n",
       "      <td>-1.167516</td>\n",
       "      <td>1.028091</td>\n",
       "      <td>-0.359319</td>\n",
       "      <td>-0.436950</td>\n",
       "      <td>-0.25204</td>\n",
       "      <td>-0.249464</td>\n",
       "      <td>311</td>\n",
       "      <td>11</td>\n",
       "    </tr>\n",
       "    <tr>\n",
       "      <th>494019</th>\n",
       "      <td>-1.160948</td>\n",
       "      <td>1.264605</td>\n",
       "      <td>-0.207295</td>\n",
       "      <td>-0.00933</td>\n",
       "      <td>-0.004719</td>\n",
       "      <td>-0.013648</td>\n",
       "      <td>-0.025776</td>\n",
       "      <td>-0.01465</td>\n",
       "      <td>-0.014787</td>\n",
       "      <td>-0.015972</td>\n",
       "      <td>...</td>\n",
       "      <td>0.599393</td>\n",
       "      <td>-0.282867</td>\n",
       "      <td>-0.897419</td>\n",
       "      <td>1.028091</td>\n",
       "      <td>-0.464418</td>\n",
       "      <td>-0.436950</td>\n",
       "      <td>-0.25204</td>\n",
       "      <td>-0.249464</td>\n",
       "      <td>311</td>\n",
       "      <td>11</td>\n",
       "    </tr>\n",
       "  </tbody>\n",
       "</table>\n",
       "<p>494020 rows × 120 columns</p>\n",
       "</div>"
      ],
      "text/plain": [
       "        protocol_type1  protocol_type2  protocol_type3  service1  service2  \\\n",
       "0            -1.160948        1.264605       -0.207295  -0.00933 -0.004719   \n",
       "1            -1.160948        1.264605       -0.207295  -0.00933 -0.004719   \n",
       "2            -1.160948        1.264605       -0.207295  -0.00933 -0.004719   \n",
       "3            -1.160948        1.264605       -0.207295  -0.00933 -0.004719   \n",
       "4            -1.160948        1.264605       -0.207295  -0.00933 -0.004719   \n",
       "...                ...             ...             ...       ...       ...   \n",
       "494015       -1.160948        1.264605       -0.207295  -0.00933 -0.004719   \n",
       "494016       -1.160948        1.264605       -0.207295  -0.00933 -0.004719   \n",
       "494017       -1.160948        1.264605       -0.207295  -0.00933 -0.004719   \n",
       "494018       -1.160948        1.264605       -0.207295  -0.00933 -0.004719   \n",
       "494019       -1.160948        1.264605       -0.207295  -0.00933 -0.004719   \n",
       "\n",
       "        service3  service4  service5  service6  service7  ...  \\\n",
       "0      -0.013648 -0.025776  -0.01465 -0.014787 -0.015972  ...   \n",
       "1      -0.013648 -0.025776  -0.01465 -0.014787 -0.015972  ...   \n",
       "2      -0.013648 -0.025776  -0.01465 -0.014787 -0.015972  ...   \n",
       "3      -0.013648 -0.025776  -0.01465 -0.014787 -0.015972  ...   \n",
       "4      -0.013648 -0.025776  -0.01465 -0.014787 -0.015972  ...   \n",
       "...          ...       ...       ...       ...       ...  ...   \n",
       "494015 -0.013648 -0.025776  -0.01465 -0.014787 -0.015972  ...   \n",
       "494016 -0.013648 -0.025776  -0.01465 -0.014787 -0.015972  ...   \n",
       "494017 -0.013648 -0.025776  -0.01465 -0.014787 -0.015972  ...   \n",
       "494018 -0.013648 -0.025776  -0.01465 -0.014787 -0.015972  ...   \n",
       "494019 -0.013648 -0.025776  -0.01465 -0.014787 -0.015972  ...   \n",
       "\n",
       "        dst_host_same_srv_rate  dst_host_diff_srv_rate  \\\n",
       "0                     0.599393               -0.282867   \n",
       "1                     0.599393               -0.282867   \n",
       "2                     0.599393               -0.282867   \n",
       "3                     0.599393               -0.282867   \n",
       "4                     0.599393               -0.282867   \n",
       "...                        ...                     ...   \n",
       "494015                0.599393               -0.282867   \n",
       "494016                0.599393               -0.282867   \n",
       "494017                0.599393               -0.282867   \n",
       "494018                0.599393               -0.282867   \n",
       "494019                0.599393               -0.282867   \n",
       "\n",
       "        dst_host_same_src_port_rate  dst_host_srv_diff_host_rate  \\\n",
       "0                         -1.022079                    -0.158629   \n",
       "1                         -1.146739                    -0.158629   \n",
       "2                         -1.188293                    -0.158629   \n",
       "3                         -1.188293                    -0.158629   \n",
       "4                         -1.209069                    -0.158629   \n",
       "...                             ...                          ...   \n",
       "494015                    -1.229846                     1.028091   \n",
       "494016                    -0.897419                     1.028091   \n",
       "494017                    -1.125963                     1.028091   \n",
       "494018                    -1.167516                     1.028091   \n",
       "494019                    -0.897419                     1.028091   \n",
       "\n",
       "        dst_host_serror_rate  dst_host_srv_serror_rate  dst_host_rerror_rate  \\\n",
       "0                  -0.464418                 -0.463202              -0.25204   \n",
       "1                  -0.464418                 -0.463202              -0.25204   \n",
       "2                  -0.464418                 -0.463202              -0.25204   \n",
       "3                  -0.464418                 -0.463202              -0.25204   \n",
       "4                  -0.464418                 -0.463202              -0.25204   \n",
       "...                      ...                       ...                   ...   \n",
       "494015             -0.464418                 -0.436950              -0.25204   \n",
       "494016             -0.464418                 -0.436950              -0.25204   \n",
       "494017             -0.306769                 -0.436950              -0.25204   \n",
       "494018             -0.359319                 -0.436950              -0.25204   \n",
       "494019             -0.464418                 -0.436950              -0.25204   \n",
       "\n",
       "        dst_host_srv_rerror_rate  klabel  label  \n",
       "0                      -0.249464     275     11  \n",
       "1                      -0.249464     275     11  \n",
       "2                      -0.249464     275     11  \n",
       "3                      -0.249464     275     11  \n",
       "4                      -0.249464     275     11  \n",
       "...                          ...     ...    ...  \n",
       "494015                 -0.249464     294     11  \n",
       "494016                 -0.249464     618     11  \n",
       "494017                 -0.249464     311     11  \n",
       "494018                 -0.249464     311     11  \n",
       "494019                 -0.249464     311     11  \n",
       "\n",
       "[494020 rows x 120 columns]"
      ]
     },
     "execution_count": 76,
     "metadata": {},
     "output_type": "execute_result"
    }
   ],
   "source": [
    "df #119列+klabel，120列"
   ]
  },
  {
   "cell_type": "code",
   "execution_count": 77,
   "metadata": {
    "collapsed": false
   },
   "outputs": [],
   "source": [
    "def typicalSampling(group):\n",
    "    name = group.name\n",
    "    frac = 0.1 #数据比较少多取了一点\n",
    "    return group.sample(frac=frac)\n",
    "\n",
    "result = df.groupby(\n",
    "    'klabel', group_keys=False\n",
    ").apply(typicalSampling)"
   ]
  },
  {
   "cell_type": "code",
   "execution_count": 78,
   "metadata": {
    "collapsed": false
   },
   "outputs": [
    {
     "data": {
      "text/plain": [
       "18    28075\n",
       "9     10723\n",
       "11     9723\n",
       "0       220\n",
       "17      165\n",
       "5       120\n",
       "15      106\n",
       "21      100\n",
       "20       97\n",
       "14       27\n",
       "10       25\n",
       "3         6\n",
       "1         5\n",
       "22        3\n",
       "6         2\n",
       "13        2\n",
       "16        1\n",
       "4         1\n",
       "8         1\n",
       "Name: label, dtype: int64"
      ]
     },
     "execution_count": 78,
     "metadata": {},
     "output_type": "execute_result"
    }
   ],
   "source": [
    "result['label'].value_counts()"
   ]
  },
  {
   "cell_type": "code",
   "execution_count": 79,
   "metadata": {
    "collapsed": false,
    "scrolled": true
   },
   "outputs": [
    {
     "data": {
      "text/plain": [
       "18    28075\n",
       "9     10723\n",
       "11     9723\n",
       "0       220\n",
       "17      165\n",
       "5       120\n",
       "15      106\n",
       "21      100\n",
       "20       97\n",
       "14       27\n",
       "10       25\n",
       "3         6\n",
       "1         5\n",
       "22        3\n",
       "6         2\n",
       "13        2\n",
       "Name: label, dtype: int64"
      ]
     },
     "execution_count": 79,
     "metadata": {},
     "output_type": "execute_result"
    }
   ],
   "source": [
    "result = result[~result['label'].isin([16,4,8])]\n",
    "result['label'].value_counts()"
   ]
  },
  {
   "cell_type": "code",
   "execution_count": 80,
   "metadata": {},
   "outputs": [
    {
     "data": {
      "text/html": [
       "<div>\n",
       "<style scoped>\n",
       "    .dataframe tbody tr th:only-of-type {\n",
       "        vertical-align: middle;\n",
       "    }\n",
       "\n",
       "    .dataframe tbody tr th {\n",
       "        vertical-align: top;\n",
       "    }\n",
       "\n",
       "    .dataframe thead th {\n",
       "        text-align: right;\n",
       "    }\n",
       "</style>\n",
       "<table border=\"1\" class=\"dataframe\">\n",
       "  <thead>\n",
       "    <tr style=\"text-align: right;\">\n",
       "      <th></th>\n",
       "      <th>protocol_type1</th>\n",
       "      <th>protocol_type2</th>\n",
       "      <th>protocol_type3</th>\n",
       "      <th>service1</th>\n",
       "      <th>service2</th>\n",
       "      <th>service3</th>\n",
       "      <th>service4</th>\n",
       "      <th>service5</th>\n",
       "      <th>service6</th>\n",
       "      <th>service7</th>\n",
       "      <th>...</th>\n",
       "      <th>dst_host_same_srv_rate</th>\n",
       "      <th>dst_host_diff_srv_rate</th>\n",
       "      <th>dst_host_same_src_port_rate</th>\n",
       "      <th>dst_host_srv_diff_host_rate</th>\n",
       "      <th>dst_host_serror_rate</th>\n",
       "      <th>dst_host_srv_serror_rate</th>\n",
       "      <th>dst_host_rerror_rate</th>\n",
       "      <th>dst_host_srv_rerror_rate</th>\n",
       "      <th>klabel</th>\n",
       "      <th>label</th>\n",
       "    </tr>\n",
       "  </thead>\n",
       "  <tbody>\n",
       "    <tr>\n",
       "      <th>128727</th>\n",
       "      <td>0.861363</td>\n",
       "      <td>-0.790759</td>\n",
       "      <td>-0.207295</td>\n",
       "      <td>-0.00933</td>\n",
       "      <td>-0.004719</td>\n",
       "      <td>-0.013648</td>\n",
       "      <td>-0.025776</td>\n",
       "      <td>-0.01465</td>\n",
       "      <td>-0.014787</td>\n",
       "      <td>-0.015972</td>\n",
       "      <td>...</td>\n",
       "      <td>0.039483</td>\n",
       "      <td>-0.099816</td>\n",
       "      <td>0.349181</td>\n",
       "      <td>-0.158629</td>\n",
       "      <td>-0.464418</td>\n",
       "      <td>-0.463202</td>\n",
       "      <td>-0.165305</td>\n",
       "      <td>-0.249464</td>\n",
       "      <td>2</td>\n",
       "      <td>18</td>\n",
       "    </tr>\n",
       "    <tr>\n",
       "      <th>149879</th>\n",
       "      <td>0.861363</td>\n",
       "      <td>-0.790759</td>\n",
       "      <td>-0.207295</td>\n",
       "      <td>-0.00933</td>\n",
       "      <td>-0.004719</td>\n",
       "      <td>-0.013648</td>\n",
       "      <td>-0.025776</td>\n",
       "      <td>-0.01465</td>\n",
       "      <td>-0.014787</td>\n",
       "      <td>-0.015972</td>\n",
       "      <td>...</td>\n",
       "      <td>0.282922</td>\n",
       "      <td>-0.099816</td>\n",
       "      <td>0.556948</td>\n",
       "      <td>-0.158629</td>\n",
       "      <td>-0.464418</td>\n",
       "      <td>-0.463202</td>\n",
       "      <td>-0.252040</td>\n",
       "      <td>-0.249464</td>\n",
       "      <td>2</td>\n",
       "      <td>18</td>\n",
       "    </tr>\n",
       "    <tr>\n",
       "      <th>43206</th>\n",
       "      <td>0.861363</td>\n",
       "      <td>-0.790759</td>\n",
       "      <td>-0.207295</td>\n",
       "      <td>-0.00933</td>\n",
       "      <td>-0.004719</td>\n",
       "      <td>-0.013648</td>\n",
       "      <td>-0.025776</td>\n",
       "      <td>-0.01465</td>\n",
       "      <td>-0.014787</td>\n",
       "      <td>-0.015972</td>\n",
       "      <td>...</td>\n",
       "      <td>-0.423052</td>\n",
       "      <td>-0.099816</td>\n",
       "      <td>-0.045576</td>\n",
       "      <td>-0.158629</td>\n",
       "      <td>-0.438143</td>\n",
       "      <td>-0.463202</td>\n",
       "      <td>-0.252040</td>\n",
       "      <td>-0.249464</td>\n",
       "      <td>2</td>\n",
       "      <td>18</td>\n",
       "    </tr>\n",
       "    <tr>\n",
       "      <th>370472</th>\n",
       "      <td>0.861363</td>\n",
       "      <td>-0.790759</td>\n",
       "      <td>-0.207295</td>\n",
       "      <td>-0.00933</td>\n",
       "      <td>-0.004719</td>\n",
       "      <td>-0.013648</td>\n",
       "      <td>-0.025776</td>\n",
       "      <td>-0.01465</td>\n",
       "      <td>-0.014787</td>\n",
       "      <td>-0.015972</td>\n",
       "      <td>...</td>\n",
       "      <td>-0.447396</td>\n",
       "      <td>-0.008290</td>\n",
       "      <td>-0.066352</td>\n",
       "      <td>-0.158629</td>\n",
       "      <td>-0.438143</td>\n",
       "      <td>-0.463202</td>\n",
       "      <td>1.005605</td>\n",
       "      <td>-0.249464</td>\n",
       "      <td>2</td>\n",
       "      <td>18</td>\n",
       "    </tr>\n",
       "    <tr>\n",
       "      <th>128724</th>\n",
       "      <td>0.861363</td>\n",
       "      <td>-0.790759</td>\n",
       "      <td>-0.207295</td>\n",
       "      <td>-0.00933</td>\n",
       "      <td>-0.004719</td>\n",
       "      <td>-0.013648</td>\n",
       "      <td>-0.025776</td>\n",
       "      <td>-0.01465</td>\n",
       "      <td>-0.014787</td>\n",
       "      <td>-0.015972</td>\n",
       "      <td>...</td>\n",
       "      <td>-0.252644</td>\n",
       "      <td>-0.099816</td>\n",
       "      <td>0.099861</td>\n",
       "      <td>-0.158629</td>\n",
       "      <td>-0.464418</td>\n",
       "      <td>-0.463202</td>\n",
       "      <td>-0.165305</td>\n",
       "      <td>-0.249464</td>\n",
       "      <td>2</td>\n",
       "      <td>18</td>\n",
       "    </tr>\n",
       "    <tr>\n",
       "      <th>...</th>\n",
       "      <td>...</td>\n",
       "      <td>...</td>\n",
       "      <td>...</td>\n",
       "      <td>...</td>\n",
       "      <td>...</td>\n",
       "      <td>...</td>\n",
       "      <td>...</td>\n",
       "      <td>...</td>\n",
       "      <td>...</td>\n",
       "      <td>...</td>\n",
       "      <td>...</td>\n",
       "      <td>...</td>\n",
       "      <td>...</td>\n",
       "      <td>...</td>\n",
       "      <td>...</td>\n",
       "      <td>...</td>\n",
       "      <td>...</td>\n",
       "      <td>...</td>\n",
       "      <td>...</td>\n",
       "      <td>...</td>\n",
       "      <td>...</td>\n",
       "    </tr>\n",
       "    <tr>\n",
       "      <th>118165</th>\n",
       "      <td>-1.160948</td>\n",
       "      <td>1.264605</td>\n",
       "      <td>-0.207295</td>\n",
       "      <td>-0.00933</td>\n",
       "      <td>-0.004719</td>\n",
       "      <td>-0.013648</td>\n",
       "      <td>-0.025776</td>\n",
       "      <td>-0.01465</td>\n",
       "      <td>-0.014787</td>\n",
       "      <td>-0.015972</td>\n",
       "      <td>...</td>\n",
       "      <td>-1.737624</td>\n",
       "      <td>0.357812</td>\n",
       "      <td>-1.250623</td>\n",
       "      <td>-0.158629</td>\n",
       "      <td>2.163058</td>\n",
       "      <td>2.162022</td>\n",
       "      <td>-0.252040</td>\n",
       "      <td>-0.249464</td>\n",
       "      <td>999</td>\n",
       "      <td>9</td>\n",
       "    </tr>\n",
       "    <tr>\n",
       "      <th>355910</th>\n",
       "      <td>-1.160948</td>\n",
       "      <td>1.264605</td>\n",
       "      <td>-0.207295</td>\n",
       "      <td>-0.00933</td>\n",
       "      <td>-0.004719</td>\n",
       "      <td>-0.013648</td>\n",
       "      <td>-0.025776</td>\n",
       "      <td>-0.01465</td>\n",
       "      <td>-0.014787</td>\n",
       "      <td>-0.015972</td>\n",
       "      <td>...</td>\n",
       "      <td>-1.737624</td>\n",
       "      <td>0.357812</td>\n",
       "      <td>-1.250623</td>\n",
       "      <td>-0.158629</td>\n",
       "      <td>2.163058</td>\n",
       "      <td>2.162022</td>\n",
       "      <td>-0.252040</td>\n",
       "      <td>-0.249464</td>\n",
       "      <td>999</td>\n",
       "      <td>9</td>\n",
       "    </tr>\n",
       "    <tr>\n",
       "      <th>73836</th>\n",
       "      <td>-1.160948</td>\n",
       "      <td>1.264605</td>\n",
       "      <td>-0.207295</td>\n",
       "      <td>-0.00933</td>\n",
       "      <td>-0.004719</td>\n",
       "      <td>-0.013648</td>\n",
       "      <td>-0.025776</td>\n",
       "      <td>-0.01465</td>\n",
       "      <td>-0.014787</td>\n",
       "      <td>-0.015972</td>\n",
       "      <td>...</td>\n",
       "      <td>-1.737624</td>\n",
       "      <td>0.357812</td>\n",
       "      <td>-1.250623</td>\n",
       "      <td>-0.158629</td>\n",
       "      <td>2.163058</td>\n",
       "      <td>2.162022</td>\n",
       "      <td>-0.252040</td>\n",
       "      <td>-0.249464</td>\n",
       "      <td>999</td>\n",
       "      <td>9</td>\n",
       "    </tr>\n",
       "    <tr>\n",
       "      <th>351404</th>\n",
       "      <td>-1.160948</td>\n",
       "      <td>1.264605</td>\n",
       "      <td>-0.207295</td>\n",
       "      <td>-0.00933</td>\n",
       "      <td>-0.004719</td>\n",
       "      <td>-0.013648</td>\n",
       "      <td>-0.025776</td>\n",
       "      <td>-0.01465</td>\n",
       "      <td>-0.014787</td>\n",
       "      <td>-0.015972</td>\n",
       "      <td>...</td>\n",
       "      <td>-1.737624</td>\n",
       "      <td>0.357812</td>\n",
       "      <td>-1.250623</td>\n",
       "      <td>-0.158629</td>\n",
       "      <td>2.163058</td>\n",
       "      <td>2.162022</td>\n",
       "      <td>-0.252040</td>\n",
       "      <td>-0.249464</td>\n",
       "      <td>999</td>\n",
       "      <td>9</td>\n",
       "    </tr>\n",
       "    <tr>\n",
       "      <th>368110</th>\n",
       "      <td>-1.160948</td>\n",
       "      <td>1.264605</td>\n",
       "      <td>-0.207295</td>\n",
       "      <td>-0.00933</td>\n",
       "      <td>-0.004719</td>\n",
       "      <td>-0.013648</td>\n",
       "      <td>-0.025776</td>\n",
       "      <td>-0.01465</td>\n",
       "      <td>-0.014787</td>\n",
       "      <td>-0.015972</td>\n",
       "      <td>...</td>\n",
       "      <td>-1.761968</td>\n",
       "      <td>0.357812</td>\n",
       "      <td>-1.250623</td>\n",
       "      <td>-0.158629</td>\n",
       "      <td>2.163058</td>\n",
       "      <td>2.162022</td>\n",
       "      <td>-0.252040</td>\n",
       "      <td>-0.249464</td>\n",
       "      <td>999</td>\n",
       "      <td>9</td>\n",
       "    </tr>\n",
       "  </tbody>\n",
       "</table>\n",
       "<p>49399 rows × 120 columns</p>\n",
       "</div>"
      ],
      "text/plain": [
       "        protocol_type1  protocol_type2  protocol_type3  service1  service2  \\\n",
       "128727        0.861363       -0.790759       -0.207295  -0.00933 -0.004719   \n",
       "149879        0.861363       -0.790759       -0.207295  -0.00933 -0.004719   \n",
       "43206         0.861363       -0.790759       -0.207295  -0.00933 -0.004719   \n",
       "370472        0.861363       -0.790759       -0.207295  -0.00933 -0.004719   \n",
       "128724        0.861363       -0.790759       -0.207295  -0.00933 -0.004719   \n",
       "...                ...             ...             ...       ...       ...   \n",
       "118165       -1.160948        1.264605       -0.207295  -0.00933 -0.004719   \n",
       "355910       -1.160948        1.264605       -0.207295  -0.00933 -0.004719   \n",
       "73836        -1.160948        1.264605       -0.207295  -0.00933 -0.004719   \n",
       "351404       -1.160948        1.264605       -0.207295  -0.00933 -0.004719   \n",
       "368110       -1.160948        1.264605       -0.207295  -0.00933 -0.004719   \n",
       "\n",
       "        service3  service4  service5  service6  service7  ...  \\\n",
       "128727 -0.013648 -0.025776  -0.01465 -0.014787 -0.015972  ...   \n",
       "149879 -0.013648 -0.025776  -0.01465 -0.014787 -0.015972  ...   \n",
       "43206  -0.013648 -0.025776  -0.01465 -0.014787 -0.015972  ...   \n",
       "370472 -0.013648 -0.025776  -0.01465 -0.014787 -0.015972  ...   \n",
       "128724 -0.013648 -0.025776  -0.01465 -0.014787 -0.015972  ...   \n",
       "...          ...       ...       ...       ...       ...  ...   \n",
       "118165 -0.013648 -0.025776  -0.01465 -0.014787 -0.015972  ...   \n",
       "355910 -0.013648 -0.025776  -0.01465 -0.014787 -0.015972  ...   \n",
       "73836  -0.013648 -0.025776  -0.01465 -0.014787 -0.015972  ...   \n",
       "351404 -0.013648 -0.025776  -0.01465 -0.014787 -0.015972  ...   \n",
       "368110 -0.013648 -0.025776  -0.01465 -0.014787 -0.015972  ...   \n",
       "\n",
       "        dst_host_same_srv_rate  dst_host_diff_srv_rate  \\\n",
       "128727                0.039483               -0.099816   \n",
       "149879                0.282922               -0.099816   \n",
       "43206                -0.423052               -0.099816   \n",
       "370472               -0.447396               -0.008290   \n",
       "128724               -0.252644               -0.099816   \n",
       "...                        ...                     ...   \n",
       "118165               -1.737624                0.357812   \n",
       "355910               -1.737624                0.357812   \n",
       "73836                -1.737624                0.357812   \n",
       "351404               -1.737624                0.357812   \n",
       "368110               -1.761968                0.357812   \n",
       "\n",
       "        dst_host_same_src_port_rate  dst_host_srv_diff_host_rate  \\\n",
       "128727                     0.349181                    -0.158629   \n",
       "149879                     0.556948                    -0.158629   \n",
       "43206                     -0.045576                    -0.158629   \n",
       "370472                    -0.066352                    -0.158629   \n",
       "128724                     0.099861                    -0.158629   \n",
       "...                             ...                          ...   \n",
       "118165                    -1.250623                    -0.158629   \n",
       "355910                    -1.250623                    -0.158629   \n",
       "73836                     -1.250623                    -0.158629   \n",
       "351404                    -1.250623                    -0.158629   \n",
       "368110                    -1.250623                    -0.158629   \n",
       "\n",
       "        dst_host_serror_rate  dst_host_srv_serror_rate  dst_host_rerror_rate  \\\n",
       "128727             -0.464418                 -0.463202             -0.165305   \n",
       "149879             -0.464418                 -0.463202             -0.252040   \n",
       "43206              -0.438143                 -0.463202             -0.252040   \n",
       "370472             -0.438143                 -0.463202              1.005605   \n",
       "128724             -0.464418                 -0.463202             -0.165305   \n",
       "...                      ...                       ...                   ...   \n",
       "118165              2.163058                  2.162022             -0.252040   \n",
       "355910              2.163058                  2.162022             -0.252040   \n",
       "73836               2.163058                  2.162022             -0.252040   \n",
       "351404              2.163058                  2.162022             -0.252040   \n",
       "368110              2.163058                  2.162022             -0.252040   \n",
       "\n",
       "        dst_host_srv_rerror_rate  klabel  label  \n",
       "128727                 -0.249464       2     18  \n",
       "149879                 -0.249464       2     18  \n",
       "43206                  -0.249464       2     18  \n",
       "370472                 -0.249464       2     18  \n",
       "128724                 -0.249464       2     18  \n",
       "...                          ...     ...    ...  \n",
       "118165                 -0.249464     999      9  \n",
       "355910                 -0.249464     999      9  \n",
       "73836                  -0.249464     999      9  \n",
       "351404                 -0.249464     999      9  \n",
       "368110                 -0.249464     999      9  \n",
       "\n",
       "[49399 rows x 120 columns]"
      ]
     },
     "execution_count": 80,
     "metadata": {},
     "output_type": "execute_result"
    }
   ],
   "source": [
    "result"
   ]
  },
  {
   "cell_type": "code",
   "execution_count": 81,
   "metadata": {
    "collapsed": false
   },
   "outputs": [],
   "source": [
    "result = result.drop(['klabel'],axis=1)"
   ]
  },
  {
   "cell_type": "code",
   "execution_count": 82,
   "metadata": {
    "collapsed": false
   },
   "outputs": [],
   "source": [
    "result.to_csv('./data/cup99_sample_km.csv',index=0)"
   ]
  },
  {
   "cell_type": "markdown",
   "metadata": {},
   "source": [
    "### split train set and test set"
   ]
  },
  {
   "cell_type": "code",
   "execution_count": 83,
   "metadata": {
    "collapsed": false
   },
   "outputs": [],
   "source": [
    "df=pd.read_csv('./data/cup99_sample_km.csv')"
   ]
  },
  {
   "cell_type": "code",
   "execution_count": 84,
   "metadata": {
    "collapsed": false
   },
   "outputs": [],
   "source": [
    "X = df.drop(['label'],axis=1).values\n",
    "y = df.iloc[:, -1].values.reshape(-1,1)\n",
    "y=np.ravel(y)"
   ]
  },
  {
   "cell_type": "code",
   "execution_count": 85,
   "metadata": {},
   "outputs": [
    {
     "data": {
      "text/plain": [
       "18    28075\n",
       "9     10723\n",
       "11     9723\n",
       "0       220\n",
       "17      165\n",
       "5       120\n",
       "15      106\n",
       "21      100\n",
       "20       97\n",
       "14       27\n",
       "10       25\n",
       "3         6\n",
       "1         5\n",
       "22        3\n",
       "6         2\n",
       "13        2\n",
       "Name: label, dtype: int64"
      ]
     },
     "execution_count": 85,
     "metadata": {},
     "output_type": "execute_result"
    }
   ],
   "source": [
    "result['label'].value_counts()"
   ]
  },
  {
   "cell_type": "code",
   "execution_count": 86,
   "metadata": {
    "collapsed": true
   },
   "outputs": [],
   "source": [
    "X_train, X_test, y_train, y_test = train_test_split(X,y, train_size = 0.8, test_size = 0.2, random_state = 0,stratify = y)"
   ]
  },
  {
   "cell_type": "markdown",
   "metadata": {},
   "source": [
    "## Feature engineering"
   ]
  },
  {
   "cell_type": "markdown",
   "metadata": {},
   "source": [
    "### Feature selection by information gain"
   ]
  },
  {
   "cell_type": "code",
   "execution_count": 87,
   "metadata": {
    "collapsed": true
   },
   "outputs": [],
   "source": [
    "from sklearn.feature_selection import mutual_info_classif\n",
    "importances = mutual_info_classif(X_train, y_train)"
   ]
  },
  {
   "cell_type": "code",
   "execution_count": 88,
   "metadata": {
    "collapsed": false
   },
   "outputs": [],
   "source": [
    "#将importance中的数据四舍五入到第四位小数， 压缩打包 reverse=True降序排序\n",
    "f_list = sorted(zip(map(lambda x: round(x, 4), importances), features), reverse=True)\n",
    "Sum = 0\n",
    "fs = []\n",
    "#f_list[i][0] 数值 f_list[i][1] 列名 \n",
    "for i in range(0, len(f_list)): \n",
    "    Sum = Sum + f_list[i][0]\n",
    "    fs.append(f_list[i][1])"
   ]
  },
  {
   "cell_type": "code",
   "execution_count": 89,
   "metadata": {
    "collapsed": false
   },
   "outputs": [],
   "source": [
    "# select the important features from top to bottom until the accumulated importance reaches 90%\n",
    "f_list2 = sorted(zip(map(lambda x: round(x, 4), importances/Sum), features), reverse=True)\n",
    "Sum2 = 0\n",
    "fs = []\n",
    "for i in range(0, len(f_list2)):\n",
    "    Sum2 = Sum2 + f_list2[i][0]\n",
    "    fs.append(f_list2[i][1])\n",
    "    if Sum2>=0.5:\n",
    "        break        "
   ]
  },
  {
   "cell_type": "code",
   "execution_count": 90,
   "metadata": {
    "collapsed": true
   },
   "outputs": [],
   "source": [
    "X_fs = df[fs].values"
   ]
  },
  {
   "cell_type": "code",
   "execution_count": 91,
   "metadata": {
    "collapsed": false
   },
   "outputs": [
    {
     "data": {
      "text/plain": [
       "(49399, 10)"
      ]
     },
     "execution_count": 91,
     "metadata": {},
     "output_type": "execute_result"
    }
   ],
   "source": [
    "X_fs.shape"
   ]
  },
  {
   "cell_type": "markdown",
   "metadata": {},
   "source": [
    "### Feature selection by Fast Correlation Based Filter (FCBF)"
   ]
  },
  {
   "cell_type": "code",
   "execution_count": 92,
   "metadata": {
    "collapsed": true
   },
   "outputs": [],
   "source": [
    "from FCBF_Module import FCBF, FCBFK, FCBFiP, get_i\n",
    "fcbf = FCBFK(k = 20)\n",
    "#fcbf.fit(X_fs, y)"
   ]
  },
  {
   "cell_type": "code",
   "execution_count": 93,
   "metadata": {
    "collapsed": false
   },
   "outputs": [],
   "source": [
    "X_fss = fcbf.fit_transform(X_fs,y)"
   ]
  },
  {
   "cell_type": "code",
   "execution_count": 94,
   "metadata": {
    "collapsed": false
   },
   "outputs": [
    {
     "data": {
      "text/plain": [
       "(49399, 10)"
      ]
     },
     "execution_count": 94,
     "metadata": {},
     "output_type": "execute_result"
    }
   ],
   "source": [
    "X_fss.shape"
   ]
  },
  {
   "cell_type": "markdown",
   "metadata": {},
   "source": [
    "### Re-split train & test sets after feature selection"
   ]
  },
  {
   "cell_type": "code",
   "execution_count": 95,
   "metadata": {
    "collapsed": true
   },
   "outputs": [],
   "source": [
    "X_train, X_test, y_train, y_test = train_test_split(X_fss,y, train_size = 0.8, test_size = 0.2, random_state = 0,stratify = y)"
   ]
  },
  {
   "cell_type": "code",
   "execution_count": 96,
   "metadata": {
    "collapsed": false
   },
   "outputs": [
    {
     "data": {
      "text/plain": [
       "(39519, 10)"
      ]
     },
     "execution_count": 96,
     "metadata": {},
     "output_type": "execute_result"
    }
   ],
   "source": [
    "X_train.shape"
   ]
  },
  {
   "cell_type": "code",
   "execution_count": 97,
   "metadata": {
    "collapsed": false
   },
   "outputs": [
    {
     "data": {
      "text/plain": [
       "18    22460\n",
       "9      8578\n",
       "11     7778\n",
       "0       176\n",
       "17      132\n",
       "5        96\n",
       "15       85\n",
       "21       80\n",
       "20       77\n",
       "14       22\n",
       "10       20\n",
       "3         5\n",
       "1         4\n",
       "6         2\n",
       "13        2\n",
       "22        2\n",
       "dtype: int64"
      ]
     },
     "execution_count": 97,
     "metadata": {},
     "output_type": "execute_result"
    }
   ],
   "source": [
    "pd.Series(y_train).value_counts()"
   ]
  },
  {
   "cell_type": "markdown",
   "metadata": {},
   "source": [
    "### SMOTE to solve class-imbalance 这里时不时会报错，但问题不大，跳过smote结果也很准"
   ]
  },
  {
   "cell_type": "code",
   "execution_count": 98,
   "metadata": {
    "collapsed": false
   },
   "outputs": [
    {
     "data": {
      "text/plain": [
       "20    22460\n",
       "18    22460\n",
       "11    22460\n",
       "9     22460\n",
       "17    22460\n",
       "15    22460\n",
       "21    22460\n",
       "0     22460\n",
       "6     22460\n",
       "5     22460\n",
       "3     22460\n",
       "14    22460\n",
       "10    22460\n",
       "1     22460\n",
       "13    22460\n",
       "22    22460\n",
       "dtype: int64"
      ]
     },
     "execution_count": 98,
     "metadata": {},
     "output_type": "execute_result"
    }
   ],
   "source": [
    "from imblearn.over_sampling import SMOTE\n",
    "smote=SMOTE(n_jobs=None,sampling_strategy='auto',k_neighbors=1) #这里我换成自动了\n",
    "X_train, y_train = smote.fit_resample(X_train, y_train)\n",
    "pd.Series(y_train).value_counts()"
   ]
  },
  {
   "cell_type": "markdown",
   "metadata": {},
   "source": [
    "## Machine learning model training （HPO的有些参数空间的取值范围可能要改）\n",
    "只改了max_features 其他都没有动过"
   ]
  },
  {
   "cell_type": "markdown",
   "metadata": {},
   "source": [
    "### XGBoost 99.47%，调参后99.87%"
   ]
  },
  {
   "cell_type": "markdown",
   "metadata": {},
   "source": [
    "这里要卸载最新版的xgboost，换成旧版，不然会报一个错\n",
    "\n",
    "pip uninstall xgboost \n",
    "\n",
    "pip install xgboost==0.90"
   ]
  },
  {
   "cell_type": "code",
   "execution_count": 45,
   "metadata": {
    "collapsed": false
   },
   "outputs": [
    {
     "name": "stdout",
     "output_type": "stream",
     "text": [
      "Accuracy of XGBoost: 0.9947373747596397\n",
      "Precision of XGBoost: 0.9938696481728553\n",
      "Recall of XGBoost: 0.9947373747596397\n",
      "F1-score of XGBoost: 0.9930394108836281\n",
      "              precision    recall  f1-score   support\n",
      "\n",
      "           0       1.00      1.00      1.00        43\n",
      "           1       0.00      0.00      0.00         1\n",
      "           3       0.00      0.00      0.00         2\n",
      "           5       0.92      0.92      0.92        25\n",
      "           9       1.00      1.00      1.00      2148\n",
      "          10       0.00      0.00      0.00         3\n",
      "          11       0.98      1.00      0.99      1944\n",
      "          14       1.00      1.00      1.00         5\n",
      "          15       0.85      0.81      0.83        21\n",
      "          17       0.94      0.91      0.92        32\n",
      "          18       1.00      1.00      1.00      5615\n",
      "          20       0.83      0.25      0.38        20\n",
      "          21       1.00      0.05      0.09        21\n",
      "          22       0.00      0.00      0.00         1\n",
      "\n",
      "    accuracy                           0.99      9881\n",
      "   macro avg       0.68      0.57      0.58      9881\n",
      "weighted avg       0.99      0.99      0.99      9881\n",
      "\n"
     ]
    },
    {
     "data": {
      "image/png": "[encoded data removed]",
      "text/plain": [
       "<Figure size 360x360 with 2 Axes>"
      ]
     },
     "metadata": {
      "needs_background": "light"
     },
     "output_type": "display_data"
    }
   ],
   "source": [
    "xg = xgb.XGBClassifier(n_estimators = 10)\n",
    "xg.fit(X_train,y_train)\n",
    "xg_score=xg.score(X_test,y_test)\n",
    "y_predict=xg.predict(X_test)\n",
    "y_true=y_test\n",
    "print('Accuracy of XGBoost: '+ str(xg_score))\n",
    "precision,recall,fscore,none= precision_recall_fscore_support(y_true, y_predict, average='weighted') \n",
    "print('Precision of XGBoost: '+(str(precision)))\n",
    "print('Recall of XGBoost: '+(str(recall)))\n",
    "print('F1-score of XGBoost: '+(str(fscore)))\n",
    "print(classification_report(y_true,y_predict))\n",
    "cm=confusion_matrix(y_true,y_predict)\n",
    "f,ax=plt.subplots(figsize=(5,5))\n",
    "sns.heatmap(cm,annot=True,linewidth=0.5,linecolor=\"red\",fmt=\".0f\",ax=ax)\n",
    "plt.xlabel(\"y_pred\")\n",
    "plt.ylabel(\"y_true\")\n",
    "plt.show()"
   ]
  },
  {
   "cell_type": "markdown",
   "metadata": {},
   "source": [
    "#### Hyperparameter optimization (HPO) of XGBoost using Bayesian optimization with tree-based Parzen estimator (BO-TPE)\n",
    "Based on the GitHub repo for HPO: https://github.com/LiYangHart/Hyperparameter-Optimization-of-Machine-Learning-Algorithms"
   ]
  },
  {
   "cell_type": "code",
   "execution_count": 48,
   "metadata": {
    "collapsed": false
   },
   "outputs": [
    {
     "name": "stdout",
     "output_type": "stream",
     "text": [
      "100%|██████████| 20/20 [03:23<00:00, 10.18s/trial, best loss: -0.9987855480214554]\n",
      "XGBoost: Hyperopt estimated optimum {'learning_rate': 0.18367630459662854, 'max_depth': 89.0, 'n_estimators': 80.0}\n"
     ]
    }
   ],
   "source": [
    "from hyperopt import hp, fmin, tpe, STATUS_OK, Trials\n",
    "from sklearn.model_selection import cross_val_score, StratifiedKFold\n",
    "def objective(params):\n",
    "    params = {\n",
    "        'n_estimators': int(params['n_estimators']), \n",
    "        'max_depth': int(params['max_depth']),\n",
    "        'learning_rate':  abs(float(params['learning_rate'])),\n",
    "\n",
    "    }\n",
    "    clf = xgb.XGBClassifier( **params)\n",
    "    clf.fit(X_train, y_train)\n",
    "    y_pred = clf.predict(X_test)\n",
    "    score = accuracy_score(y_test, y_pred)\n",
    "\n",
    "    return {'loss':-score, 'status': STATUS_OK }\n",
    "\n",
    "space = {\n",
    "    'n_estimators': hp.quniform('n_estimators', 10, 100, 5),\n",
    "    'max_depth': hp.quniform('max_depth', 4, 100, 1),\n",
    "    'learning_rate': hp.normal('learning_rate', 0.01, 0.9),\n",
    "}\n",
    "\n",
    "best = fmin(fn=objective,\n",
    "            space=space,\n",
    "            algo=tpe.suggest,\n",
    "            max_evals=20)\n",
    "print(\"XGBoost: Hyperopt estimated optimum {}\".format(best))"
   ]
  },
  {
   "cell_type": "code",
   "execution_count": 49,
   "metadata": {
    "collapsed": false
   },
   "outputs": [
    {
     "name": "stdout",
     "output_type": "stream",
     "text": [
      "Accuracy of XGBoost: 0.9987855480214554\n",
      "Precision of XGBoost: 0.998508829210677\n",
      "Recall of XGBoost: 0.9987855480214554\n",
      "F1-score of XGBoost: 0.998591256129916\n",
      "              precision    recall  f1-score   support\n",
      "\n",
      "           0       1.00      1.00      1.00        43\n",
      "           1       0.00      0.00      0.00         1\n",
      "           3       1.00      0.50      0.67         2\n",
      "           5       0.96      0.96      0.96        25\n",
      "           9       1.00      1.00      1.00      2148\n",
      "          10       0.50      0.33      0.40         3\n",
      "          11       1.00      1.00      1.00      1944\n",
      "          14       1.00      1.00      1.00         5\n",
      "          15       0.95      1.00      0.98        21\n",
      "          17       1.00      1.00      1.00        32\n",
      "          18       1.00      1.00      1.00      5615\n",
      "          20       1.00      1.00      1.00        20\n",
      "          21       0.94      0.71      0.81        21\n",
      "          22       0.00      0.00      0.00         1\n",
      "\n",
      "    accuracy                           1.00      9881\n",
      "   macro avg       0.81      0.75      0.77      9881\n",
      "weighted avg       1.00      1.00      1.00      9881\n",
      "\n"
     ]
    },
    {
     "data": {
      "image/png": "[encoded data removed]",
      "text/plain": [
       "<Figure size 360x360 with 2 Axes>"
      ]
     },
     "metadata": {
      "needs_background": "light"
     },
     "output_type": "display_data"
    }
   ],
   "source": [
    "xg = xgb.XGBClassifier(learning_rate= 0.18367630459662854, n_estimators = 80, max_depth = 89)\n",
    "xg.fit(X_train,y_train)\n",
    "xg_score=xg.score(X_test,y_test)\n",
    "y_predict=xg.predict(X_test)\n",
    "y_true=y_test\n",
    "print('Accuracy of XGBoost: '+ str(xg_score))\n",
    "precision,recall,fscore,none= precision_recall_fscore_support(y_true, y_predict, average='weighted') \n",
    "print('Precision of XGBoost: '+(str(precision)))\n",
    "print('Recall of XGBoost: '+(str(recall)))\n",
    "print('F1-score of XGBoost: '+(str(fscore)))\n",
    "print(classification_report(y_true,y_predict))\n",
    "cm=confusion_matrix(y_true,y_predict)\n",
    "f,ax=plt.subplots(figsize=(5,5))\n",
    "sns.heatmap(cm,annot=True,linewidth=0.5,linecolor=\"red\",fmt=\".0f\",ax=ax)\n",
    "plt.xlabel(\"y_pred\")\n",
    "plt.ylabel(\"y_true\")\n",
    "plt.show()"
   ]
  },
  {
   "cell_type": "code",
   "execution_count": 66,
   "metadata": {
    "collapsed": false
   },
   "outputs": [],
   "source": [
    "xg_train=xg.predict(X_train)\n",
    "xg_test=xg.predict(X_test)"
   ]
  },
  {
   "cell_type": "markdown",
   "metadata": {},
   "source": [
    "### 随机森林 99.84%，调参后99.86%"
   ]
  },
  {
   "cell_type": "code",
   "execution_count": 99,
   "metadata": {
    "collapsed": false
   },
   "outputs": [
    {
     "name": "stdout",
     "output_type": "stream",
     "text": [
      "Accuracy of RF: 0.9984817813765182\n",
      "Precision of RF: 0.99833354647137\n",
      "Recall of RF: 0.9984817813765182\n",
      "F1-score of RF: 0.9984009544980778\n",
      "              precision    recall  f1-score   support\n",
      "\n",
      "           0       1.00      1.00      1.00        44\n",
      "           1       0.00      0.00      0.00         1\n",
      "           3       0.00      0.00      0.00         1\n",
      "           5       0.91      0.83      0.87        24\n",
      "           9       1.00      1.00      1.00      2145\n",
      "          10       0.33      0.40      0.36         5\n",
      "          11       1.00      1.00      1.00      1945\n",
      "          14       1.00      1.00      1.00         5\n",
      "          15       0.95      1.00      0.98        21\n",
      "          17       1.00      1.00      1.00        33\n",
      "          18       1.00      1.00      1.00      5615\n",
      "          20       1.00      1.00      1.00        20\n",
      "          21       0.85      0.85      0.85        20\n",
      "          22       1.00      1.00      1.00         1\n",
      "\n",
      "    accuracy                           1.00      9880\n",
      "   macro avg       0.79      0.79      0.79      9880\n",
      "weighted avg       1.00      1.00      1.00      9880\n",
      "\n"
     ]
    },
    {
     "data": {
      "image/png": "[encoded data removed]",
      "text/plain": [
       "<Figure size 360x360 with 2 Axes>"
      ]
     },
     "metadata": {
      "needs_background": "light"
     },
     "output_type": "display_data"
    }
   ],
   "source": [
    "rf = RandomForestClassifier(random_state = 0)\n",
    "rf.fit(X_train,y_train) \n",
    "rf_score=rf.score(X_test,y_test)\n",
    "y_predict=rf.predict(X_test)\n",
    "y_true=y_test\n",
    "print('Accuracy of RF: '+ str(rf_score))\n",
    "precision,recall,fscore,none= precision_recall_fscore_support(y_true, y_predict, average='weighted') \n",
    "print('Precision of RF: '+(str(precision)))\n",
    "print('Recall of RF: '+(str(recall)))\n",
    "print('F1-score of RF: '+(str(fscore)))\n",
    "print(classification_report(y_true,y_predict))\n",
    "cm=confusion_matrix(y_true,y_predict)\n",
    "f,ax=plt.subplots(figsize=(5,5))\n",
    "sns.heatmap(cm,annot=True,linewidth=0.5,linecolor=\"red\",fmt=\".0f\",ax=ax)\n",
    "plt.xlabel(\"y_pred\")\n",
    "plt.ylabel(\"y_true\")\n",
    "plt.show()"
   ]
  },
  {
   "cell_type": "markdown",
   "metadata": {},
   "source": [
    "#### Hyperparameter optimization (HPO) of random forest using Bayesian optimization with tree-based Parzen estimator (BO-TPE)\n",
    "Based on the GitHub repo for HPO: https://github.com/LiYangHart/Hyperparameter-Optimization-of-Machine-Learning-Algorithms"
   ]
  },
  {
   "cell_type": "code",
   "execution_count": 59,
   "metadata": {},
   "outputs": [
    {
     "data": {
      "text/plain": [
       "10"
      ]
     },
     "execution_count": 59,
     "metadata": {},
     "output_type": "execute_result"
    }
   ],
   "source": [
    "rf.n_features_"
   ]
  },
  {
   "cell_type": "code",
   "execution_count": 55,
   "metadata": {
    "collapsed": false
   },
   "outputs": [
    {
     "name": "stdout",
     "output_type": "stream",
     "text": [
      "100%|██████████| 20/20 [00:37<00:00,  1.87s/trial, best loss: -0.9988867523530007]\n",
      "Random Forest: Hyperopt estimated optimum {'criterion': 1, 'max_depth': 36.0, 'max_features': 8.0, 'min_samples_leaf': 2.0, 'min_samples_split': 7.0, 'n_estimators': 133.0}\n"
     ]
    }
   ],
   "source": [
    "# Hyperparameter optimization of random forest\n",
    "from hyperopt import hp, fmin, tpe, STATUS_OK, Trials\n",
    "from sklearn.model_selection import cross_val_score, StratifiedKFold\n",
    "# Define the objective function\n",
    "def objective(params):\n",
    "    params = {\n",
    "        'n_estimators': int(params['n_estimators']), \n",
    "        'max_depth': int(params['max_depth']),\n",
    "        'max_features': int(params['max_features']),\n",
    "        \"min_samples_split\":int(params['min_samples_split']),\n",
    "        \"min_samples_leaf\":int(params['min_samples_leaf']),\n",
    "        \"criterion\":str(params['criterion'])\n",
    "    }\n",
    "    clf = RandomForestClassifier( **params)\n",
    "    clf.fit(X_train,y_train)\n",
    "    score=clf.score(X_test,y_test)\n",
    "\n",
    "    return {'loss':-score, 'status': STATUS_OK }\n",
    "# Define the hyperparameter configuration space\n",
    "space = {\n",
    "    'n_estimators': hp.quniform('n_estimators', 10, 200, 1),\n",
    "    'max_depth': hp.quniform('max_depth', 5, 50, 1),\n",
    "    \"max_features\":hp.quniform('max_features', 1, 10, 1), #这里改成了10 max_features 必须<=n_features\n",
    "    \"min_samples_split\":hp.quniform('min_samples_split',2,11,1),\n",
    "    \"min_samples_leaf\":hp.quniform('min_samples_leaf',1,11,1),\n",
    "    \"criterion\":hp.choice('criterion',['gini','entropy'])\n",
    "}\n",
    "\n",
    "best = fmin(fn=objective,\n",
    "            space=space,\n",
    "            algo=tpe.suggest,\n",
    "            max_evals=20)\n",
    "print(\"Random Forest: Hyperopt estimated optimum {}\".format(best))"
   ]
  },
  {
   "cell_type": "code",
   "execution_count": 56,
   "metadata": {
    "collapsed": false
   },
   "outputs": [
    {
     "name": "stdout",
     "output_type": "stream",
     "text": [
      "Accuracy of RF: 0.9986843436899099\n",
      "Precision of RF: 0.9981531947867041\n",
      "Recall of RF: 0.9986843436899099\n",
      "F1-score of RF: 0.9983933107572553\n",
      "              precision    recall  f1-score   support\n",
      "\n",
      "           0       1.00      1.00      1.00        43\n",
      "           1       0.00      0.00      0.00         1\n",
      "           3       1.00      1.00      1.00         2\n",
      "           5       0.93      1.00      0.96        25\n",
      "           9       1.00      1.00      1.00      2148\n",
      "          10       0.00      0.00      0.00         3\n",
      "          11       1.00      1.00      1.00      1944\n",
      "          14       1.00      1.00      1.00         5\n",
      "          15       0.95      1.00      0.98        21\n",
      "          17       1.00      1.00      1.00        32\n",
      "          18       1.00      1.00      1.00      5615\n",
      "          20       1.00      0.95      0.97        20\n",
      "          21       0.88      0.71      0.79        21\n",
      "          22       0.00      0.00      0.00         1\n",
      "\n",
      "    accuracy                           1.00      9881\n",
      "   macro avg       0.77      0.76      0.76      9881\n",
      "weighted avg       1.00      1.00      1.00      9881\n",
      "\n"
     ]
    },
    {
     "data": {
      "image/png": "[encoded data removed]",
      "text/plain": [
       "<Figure size 360x360 with 2 Axes>"
      ]
     },
     "metadata": {
      "needs_background": "light"
     },
     "output_type": "display_data"
    }
   ],
   "source": [
    "rf_hpo = RandomForestClassifier(n_estimators = 133, min_samples_leaf = 2, max_depth = 36, min_samples_split = 7, max_features = 8, criterion = 'entropy')\n",
    "rf_hpo.fit(X_train,y_train)\n",
    "rf_score=rf_hpo.score(X_test,y_test)\n",
    "y_predict=rf_hpo.predict(X_test)\n",
    "y_true=y_test\n",
    "print('Accuracy of RF: '+ str(rf_score))\n",
    "precision,recall,fscore,none= precision_recall_fscore_support(y_true, y_predict, average='weighted') \n",
    "print('Precision of RF: '+(str(precision)))\n",
    "print('Recall of RF: '+(str(recall)))\n",
    "print('F1-score of RF: '+(str(fscore)))\n",
    "print(classification_report(y_true,y_predict))\n",
    "cm=confusion_matrix(y_true,y_predict)\n",
    "f,ax=plt.subplots(figsize=(5,5))\n",
    "sns.heatmap(cm,annot=True,linewidth=0.5,linecolor=\"red\",fmt=\".0f\",ax=ax)\n",
    "plt.xlabel(\"y_pred\")\n",
    "plt.ylabel(\"y_true\")\n",
    "plt.show()"
   ]
  },
  {
   "cell_type": "code",
   "execution_count": 57,
   "metadata": {
    "collapsed": true
   },
   "outputs": [],
   "source": [
    "rf_train=rf_hpo.predict(X_train)\n",
    "rf_test=rf_hpo.predict(X_test)"
   ]
  },
  {
   "cell_type": "markdown",
   "metadata": {},
   "source": [
    "### 决策树 99.72%，调参后99.76%"
   ]
  },
  {
   "cell_type": "code",
   "execution_count": 100,
   "metadata": {
    "collapsed": false
   },
   "outputs": [
    {
     "name": "stdout",
     "output_type": "stream",
     "text": [
      "Accuracy of DT: 0.9972672064777328\n",
      "Precision of DT: 0.9974766595174336\n",
      "Recall of DT: 0.9972672064777328\n",
      "F1-score of DT: 0.9973215592009568\n",
      "              precision    recall  f1-score   support\n",
      "\n",
      "           0       1.00      1.00      1.00        44\n",
      "           1       0.00      0.00      0.00         1\n",
      "           3       0.50      1.00      0.67         1\n",
      "           5       0.92      0.92      0.92        24\n",
      "           9       1.00      1.00      1.00      2145\n",
      "          10       0.50      0.40      0.44         5\n",
      "          11       1.00      0.99      0.99      1945\n",
      "          14       0.83      1.00      0.91         5\n",
      "          15       0.91      0.95      0.93        21\n",
      "          17       0.97      1.00      0.99        33\n",
      "          18       1.00      1.00      1.00      5615\n",
      "          20       1.00      1.00      1.00        20\n",
      "          21       0.62      0.80      0.70        20\n",
      "          22       0.50      1.00      0.67         1\n",
      "\n",
      "    accuracy                           1.00      9880\n",
      "   macro avg       0.77      0.86      0.80      9880\n",
      "weighted avg       1.00      1.00      1.00      9880\n",
      "\n"
     ]
    },
    {
     "data": {
      "image/png": "[encoded data removed]",
      "text/plain": [
       "<Figure size 360x360 with 2 Axes>"
      ]
     },
     "metadata": {
      "needs_background": "light"
     },
     "output_type": "display_data"
    }
   ],
   "source": [
    "dt = DecisionTreeClassifier(random_state = 0)\n",
    "dt.fit(X_train,y_train) \n",
    "dt_score=dt.score(X_test,y_test)\n",
    "y_predict=dt.predict(X_test)\n",
    "y_true=y_test\n",
    "print('Accuracy of DT: '+ str(dt_score))\n",
    "precision,recall,fscore,none= precision_recall_fscore_support(y_true, y_predict, average='weighted') \n",
    "print('Precision of DT: '+(str(precision)))\n",
    "print('Recall of DT: '+(str(recall)))\n",
    "print('F1-score of DT: '+(str(fscore)))\n",
    "print(classification_report(y_true,y_predict))\n",
    "cm=confusion_matrix(y_true,y_predict)\n",
    "f,ax=plt.subplots(figsize=(5,5))\n",
    "sns.heatmap(cm,annot=True,linewidth=0.5,linecolor=\"red\",fmt=\".0f\",ax=ax)\n",
    "plt.xlabel(\"y_pred\")\n",
    "plt.ylabel(\"y_true\")\n",
    "plt.show()"
   ]
  },
  {
   "cell_type": "markdown",
   "metadata": {},
   "source": [
    "#### Hyperparameter optimization (HPO) of decision tree using Bayesian optimization with tree-based Parzen estimator (BO-TPE)\n",
    "Based on the GitHub repo for HPO: https://github.com/LiYangHart/Hyperparameter-Optimization-of-Machine-Learning-Algorithms"
   ]
  },
  {
   "cell_type": "code",
   "execution_count": 73,
   "metadata": {},
   "outputs": [
    {
     "data": {
      "text/plain": [
       "10"
      ]
     },
     "execution_count": 73,
     "metadata": {},
     "output_type": "execute_result"
    }
   ],
   "source": [
    "dt.n_features_"
   ]
  },
  {
   "cell_type": "code",
   "execution_count": 67,
   "metadata": {
    "collapsed": false
   },
   "outputs": [
    {
     "name": "stdout",
     "output_type": "stream",
     "text": [
      "100%|██████████| 50/50 [00:02<00:00, 21.09trial/s, best loss: -0.9984817813765182]\n",
      "Decision tree: Hyperopt estimated optimum {'criterion': 1, 'max_depth': 30.0, 'max_features': 8.0, 'min_samples_leaf': 5.0, 'min_samples_split': 5.0}\n"
     ]
    }
   ],
   "source": [
    "# Hyperparameter optimization of decision tree\n",
    "from hyperopt import hp, fmin, tpe, STATUS_OK, Trials\n",
    "from sklearn.model_selection import cross_val_score, StratifiedKFold\n",
    "# Define the objective function\n",
    "def objective(params):\n",
    "    params = {\n",
    "        'max_depth': int(params['max_depth']),\n",
    "        'max_features': int(params['max_features']),\n",
    "        \"min_samples_split\":int(params['min_samples_split']),\n",
    "        \"min_samples_leaf\":int(params['min_samples_leaf']),\n",
    "        \"criterion\":str(params['criterion'])\n",
    "    }\n",
    "    clf = DecisionTreeClassifier( **params)\n",
    "    clf.fit(X_train,y_train)\n",
    "    score=clf.score(X_test,y_test)\n",
    "\n",
    "    return {'loss':-score, 'status': STATUS_OK }\n",
    "# Define the hyperparameter configuration space\n",
    "space = {\n",
    "    'max_depth': hp.quniform('max_depth', 5, 50, 1),\n",
    "    \"max_features\":hp.quniform('max_features', 1, 10, 1), # 20 改成 10\n",
    "    \"min_samples_split\":hp.quniform('min_samples_split',2,11,1),\n",
    "    \"min_samples_leaf\":hp.quniform('min_samples_leaf',1,11,1),\n",
    "    \"criterion\":hp.choice('criterion',['gini','entropy'])\n",
    "}\n",
    "\n",
    "best = fmin(fn=objective,\n",
    "            space=space,\n",
    "            algo=tpe.suggest,\n",
    "            max_evals=50)\n",
    "print(\"Decision tree: Hyperopt estimated optimum {}\".format(best))"
   ]
  },
  {
   "cell_type": "code",
   "execution_count": 50,
   "metadata": {
    "collapsed": false
   },
   "outputs": [
    {
     "name": "stdout",
     "output_type": "stream",
     "text": [
      "Accuracy of DT: 0.997672300374456\n",
      "Precision of DT: 0.9971246888939852\n",
      "Recall of DT: 0.997672300374456\n",
      "F1-score of DT: 0.997352025235049\n",
      "              precision    recall  f1-score   support\n",
      "\n",
      "           0       1.00      1.00      1.00        43\n",
      "           1       0.00      0.00      0.00         1\n",
      "           3       1.00      1.00      1.00         2\n",
      "           5       0.92      0.96      0.94        25\n",
      "           9       1.00      1.00      1.00      2148\n",
      "          10       0.00      0.00      0.00         3\n",
      "          11       0.99      1.00      1.00      1944\n",
      "          14       1.00      1.00      1.00         5\n",
      "          15       0.95      0.86      0.90        21\n",
      "          17       0.89      1.00      0.94        32\n",
      "          18       1.00      1.00      1.00      5615\n",
      "          20       0.94      0.80      0.86        20\n",
      "          21       0.82      0.67      0.74        21\n",
      "          22       0.00      0.00      0.00         1\n",
      "\n",
      "    accuracy                           1.00      9881\n",
      "   macro avg       0.75      0.73      0.74      9881\n",
      "weighted avg       1.00      1.00      1.00      9881\n",
      "\n"
     ]
    },
    {
     "data": {
      "image/png": "[encoded data removed]",
      "text/plain": [
       "<Figure size 360x360 with 2 Axes>"
      ]
     },
     "metadata": {
      "needs_background": "light"
     },
     "output_type": "display_data"
    }
   ],
   "source": [
    "dt_hpo = DecisionTreeClassifier(min_samples_leaf = 5, max_depth = 30, min_samples_split = 5, max_features = 8, criterion = 'entropy')\n",
    "dt_hpo.fit(X_train,y_train)\n",
    "dt_score=dt_hpo.score(X_test,y_test)\n",
    "y_predict=dt_hpo.predict(X_test)\n",
    "y_true=y_test\n",
    "print('Accuracy of DT: '+ str(dt_score))\n",
    "precision,recall,fscore,none= precision_recall_fscore_support(y_true, y_predict, average='weighted') \n",
    "print('Precision of DT: '+(str(precision)))\n",
    "print('Recall of DT: '+(str(recall)))\n",
    "print('F1-score of DT: '+(str(fscore)))\n",
    "print(classification_report(y_true,y_predict))\n",
    "cm=confusion_matrix(y_true,y_predict)\n",
    "f,ax=plt.subplots(figsize=(5,5))\n",
    "sns.heatmap(cm,annot=True,linewidth=0.5,linecolor=\"red\",fmt=\".0f\",ax=ax)\n",
    "plt.xlabel(\"y_pred\")\n",
    "plt.ylabel(\"y_true\")\n",
    "plt.show()"
   ]
  },
  {
   "cell_type": "code",
   "execution_count": 52,
   "metadata": {
    "collapsed": true
   },
   "outputs": [],
   "source": [
    "dt_train=dt_hpo.predict(X_train)\n",
    "dt_test=dt_hpo.predict(X_test)"
   ]
  },
  {
   "cell_type": "markdown",
   "metadata": {},
   "source": [
    "### 极限树 99.84%，调参后99.85%"
   ]
  },
  {
   "cell_type": "code",
   "execution_count": 59,
   "metadata": {
    "collapsed": false
   },
   "outputs": [
    {
     "name": "stdout",
     "output_type": "stream",
     "text": [
      "Accuracy of ET: 0.9984819350268191\n",
      "Precision of ET: 0.9982066089290029\n",
      "Recall of ET: 0.9984819350268191\n",
      "F1-score of ET: 0.9982827826259653\n",
      "              precision    recall  f1-score   support\n",
      "\n",
      "           0       1.00      1.00      1.00        43\n",
      "           1       0.00      0.00      0.00         1\n",
      "           3       1.00      0.50      0.67         2\n",
      "           5       0.96      0.96      0.96        25\n",
      "           9       1.00      1.00      1.00      2148\n",
      "          10       0.50      0.33      0.40         3\n",
      "          11       0.99      1.00      1.00      1944\n",
      "          14       1.00      1.00      1.00         5\n",
      "          15       0.95      1.00      0.98        21\n",
      "          17       1.00      1.00      1.00        32\n",
      "          18       1.00      1.00      1.00      5615\n",
      "          20       1.00      0.90      0.95        20\n",
      "          21       0.94      0.71      0.81        21\n",
      "          22       0.00      0.00      0.00         1\n",
      "\n",
      "    accuracy                           1.00      9881\n",
      "   macro avg       0.81      0.74      0.77      9881\n",
      "weighted avg       1.00      1.00      1.00      9881\n",
      "\n"
     ]
    },
    {
     "data": {
      "image/png": "[encoded data removed]",
      "text/plain": [
       "<Figure size 360x360 with 2 Axes>"
      ]
     },
     "metadata": {
      "needs_background": "light"
     },
     "output_type": "display_data"
    }
   ],
   "source": [
    "et = ExtraTreesClassifier(random_state = 0)\n",
    "et.fit(X_train,y_train) \n",
    "et_score=et.score(X_test,y_test)\n",
    "y_predict=et.predict(X_test)\n",
    "y_true=y_test\n",
    "print('Accuracy of ET: '+ str(et_score))\n",
    "precision,recall,fscore,none= precision_recall_fscore_support(y_true, y_predict, average='weighted') \n",
    "print('Precision of ET: '+(str(precision)))\n",
    "print('Recall of ET: '+(str(recall)))\n",
    "print('F1-score of ET: '+(str(fscore)))\n",
    "print(classification_report(y_true,y_predict))\n",
    "cm=confusion_matrix(y_true,y_predict)\n",
    "f,ax=plt.subplots(figsize=(5,5))\n",
    "sns.heatmap(cm,annot=True,linewidth=0.5,linecolor=\"red\",fmt=\".0f\",ax=ax)\n",
    "plt.xlabel(\"y_pred\")\n",
    "plt.ylabel(\"y_true\")\n",
    "plt.show()"
   ]
  },
  {
   "cell_type": "markdown",
   "metadata": {},
   "source": [
    "#### Hyperparameter optimization (HPO) of extra trees using Bayesian optimization with tree-based Parzen estimator (BO-TPE)\n",
    "Based on the GitHub repo for HPO: https://github.com/LiYangHart/Hyperparameter-Optimization-of-Machine-Learning-Algorithms"
   ]
  },
  {
   "cell_type": "code",
   "execution_count": 72,
   "metadata": {},
   "outputs": [
    {
     "data": {
      "text/plain": [
       "10"
      ]
     },
     "execution_count": 72,
     "metadata": {},
     "output_type": "execute_result"
    }
   ],
   "source": [
    "et.n_features_"
   ]
  },
  {
   "cell_type": "code",
   "execution_count": 61,
   "metadata": {
    "collapsed": false
   },
   "outputs": [
    {
     "name": "stdout",
     "output_type": "stream",
     "text": [
      "100%|██████████| 20/20 [00:26<00:00,  1.32s/trial, best loss: -0.9985831393583645]\n",
      "Random Forest: Hyperopt estimated optimum {'criterion': 1, 'max_depth': 41.0, 'max_features': 9.0, 'min_samples_leaf': 2.0, 'min_samples_split': 2.0, 'n_estimators': 184.0}\n"
     ]
    }
   ],
   "source": [
    "# Hyperparameter optimization of extra trees\n",
    "from hyperopt import hp, fmin, tpe, STATUS_OK, Trials\n",
    "from sklearn.model_selection import cross_val_score, StratifiedKFold\n",
    "# Define the objective function\n",
    "def objective(params):\n",
    "    params = {\n",
    "        'n_estimators': int(params['n_estimators']), \n",
    "        'max_depth': int(params['max_depth']),\n",
    "        'max_features': int(params['max_features']),\n",
    "        \"min_samples_split\":int(params['min_samples_split']),\n",
    "        \"min_samples_leaf\":int(params['min_samples_leaf']),\n",
    "        \"criterion\":str(params['criterion'])\n",
    "    }\n",
    "    clf = ExtraTreesClassifier( **params)\n",
    "    clf.fit(X_train,y_train)\n",
    "    score=clf.score(X_test,y_test)\n",
    "\n",
    "    return {'loss':-score, 'status': STATUS_OK }\n",
    "# Define the hyperparameter configuration space\n",
    "space = {\n",
    "    'n_estimators': hp.quniform('n_estimators', 10, 200, 1),\n",
    "    'max_depth': hp.quniform('max_depth', 5, 50, 1),\n",
    "    \"max_features\":hp.quniform('max_features', 1, 10, 1),\n",
    "    \"min_samples_split\":hp.quniform('min_samples_split',2,11,1),\n",
    "    \"min_samples_leaf\":hp.quniform('min_samples_leaf',1,11,1),\n",
    "    \"criterion\":hp.choice('criterion',['gini','entropy'])\n",
    "}\n",
    "\n",
    "best = fmin(fn=objective,\n",
    "            space=space,\n",
    "            algo=tpe.suggest,\n",
    "            max_evals=20)\n",
    "print(\"Random Forest: Hyperopt estimated optimum {}\".format(best))"
   ]
  },
  {
   "cell_type": "code",
   "execution_count": 63,
   "metadata": {
    "collapsed": false
   },
   "outputs": [
    {
     "name": "stdout",
     "output_type": "stream",
     "text": [
      "Accuracy of ET: 0.9985831393583645\n",
      "Precision of ET: 0.9983449128948576\n",
      "Recall of ET: 0.9985831393583645\n",
      "F1-score of ET: 0.9983865750881021\n",
      "              precision    recall  f1-score   support\n",
      "\n",
      "           0       1.00      1.00      1.00        43\n",
      "           1       0.00      0.00      0.00         1\n",
      "           3       1.00      1.00      1.00         2\n",
      "           5       0.96      1.00      0.98        25\n",
      "           9       1.00      1.00      1.00      2148\n",
      "          10       1.00      0.33      0.50         3\n",
      "          11       1.00      1.00      1.00      1944\n",
      "          14       1.00      1.00      1.00         5\n",
      "          15       0.95      1.00      0.98        21\n",
      "          17       1.00      1.00      1.00        32\n",
      "          18       1.00      1.00      1.00      5615\n",
      "          20       1.00      0.90      0.95        20\n",
      "          21       0.88      0.71      0.79        21\n",
      "          22       0.00      0.00      0.00         1\n",
      "\n",
      "    accuracy                           1.00      9881\n",
      "   macro avg       0.84      0.78      0.80      9881\n",
      "weighted avg       1.00      1.00      1.00      9881\n",
      "\n"
     ]
    },
    {
     "data": {
      "image/png": "[encoded data removed]",
      "text/plain": [
       "<Figure size 360x360 with 2 Axes>"
      ]
     },
     "metadata": {
      "needs_background": "light"
     },
     "output_type": "display_data"
    }
   ],
   "source": [
    "et_hpo = ExtraTreesClassifier(n_estimators = 184, min_samples_leaf = 2, max_depth = 41, min_samples_split = 2, max_features = 9, criterion = 'entropy')\n",
    "et_hpo.fit(X_train,y_train) \n",
    "et_score=et_hpo.score(X_test,y_test)\n",
    "y_predict=et_hpo.predict(X_test)\n",
    "y_true=y_test\n",
    "print('Accuracy of ET: '+ str(et_score))\n",
    "precision,recall,fscore,none= precision_recall_fscore_support(y_true, y_predict, average='weighted') \n",
    "print('Precision of ET: '+(str(precision)))\n",
    "print('Recall of ET: '+(str(recall)))\n",
    "print('F1-score of ET: '+(str(fscore)))\n",
    "print(classification_report(y_true,y_predict))\n",
    "cm=confusion_matrix(y_true,y_predict)\n",
    "f,ax=plt.subplots(figsize=(5,5))\n",
    "sns.heatmap(cm,annot=True,linewidth=0.5,linecolor=\"red\",fmt=\".0f\",ax=ax)\n",
    "plt.xlabel(\"y_pred\")\n",
    "plt.ylabel(\"y_true\")\n",
    "plt.show()"
   ]
  },
  {
   "cell_type": "code",
   "execution_count": 64,
   "metadata": {
    "collapsed": true
   },
   "outputs": [],
   "source": [
    "et_train=et_hpo.predict(X_train)\n",
    "et_test=et_hpo.predict(X_test)"
   ]
  },
  {
   "cell_type": "markdown",
   "metadata": {},
   "source": [
    "### Stacking"
   ]
  },
  {
   "cell_type": "code",
   "execution_count": 67,
   "metadata": {
    "collapsed": false
   },
   "outputs": [
    {
     "data": {
      "text/html": [
       "<div>\n",
       "<style scoped>\n",
       "    .dataframe tbody tr th:only-of-type {\n",
       "        vertical-align: middle;\n",
       "    }\n",
       "\n",
       "    .dataframe tbody tr th {\n",
       "        vertical-align: top;\n",
       "    }\n",
       "\n",
       "    .dataframe thead th {\n",
       "        text-align: right;\n",
       "    }\n",
       "</style>\n",
       "<table border=\"1\" class=\"dataframe\">\n",
       "  <thead>\n",
       "    <tr style=\"text-align: right;\">\n",
       "      <th></th>\n",
       "      <th>DecisionTree</th>\n",
       "      <th>RandomForest</th>\n",
       "      <th>ExtraTrees</th>\n",
       "      <th>XgBoost</th>\n",
       "    </tr>\n",
       "  </thead>\n",
       "  <tbody>\n",
       "    <tr>\n",
       "      <th>0</th>\n",
       "      <td>9</td>\n",
       "      <td>9</td>\n",
       "      <td>9</td>\n",
       "      <td>9</td>\n",
       "    </tr>\n",
       "    <tr>\n",
       "      <th>1</th>\n",
       "      <td>9</td>\n",
       "      <td>9</td>\n",
       "      <td>9</td>\n",
       "      <td>9</td>\n",
       "    </tr>\n",
       "    <tr>\n",
       "      <th>2</th>\n",
       "      <td>11</td>\n",
       "      <td>11</td>\n",
       "      <td>11</td>\n",
       "      <td>11</td>\n",
       "    </tr>\n",
       "    <tr>\n",
       "      <th>3</th>\n",
       "      <td>18</td>\n",
       "      <td>18</td>\n",
       "      <td>18</td>\n",
       "      <td>18</td>\n",
       "    </tr>\n",
       "    <tr>\n",
       "      <th>4</th>\n",
       "      <td>18</td>\n",
       "      <td>18</td>\n",
       "      <td>18</td>\n",
       "      <td>18</td>\n",
       "    </tr>\n",
       "  </tbody>\n",
       "</table>\n",
       "</div>"
      ],
      "text/plain": [
       "   DecisionTree  RandomForest  ExtraTrees  XgBoost\n",
       "0             9             9           9        9\n",
       "1             9             9           9        9\n",
       "2            11            11          11       11\n",
       "3            18            18          18       18\n",
       "4            18            18          18       18"
      ]
     },
     "execution_count": 67,
     "metadata": {},
     "output_type": "execute_result"
    }
   ],
   "source": [
    "base_predictions_train = pd.DataFrame( {\n",
    "    'DecisionTree': dt_train.ravel(),\n",
    "    'RandomForest': rf_train.ravel(),\n",
    "    'ExtraTrees': et_train.ravel(),\n",
    "    'XgBoost': xg_train.ravel(),\n",
    "    })\n",
    "base_predictions_train.head(5)"
   ]
  },
  {
   "cell_type": "code",
   "execution_count": 68,
   "metadata": {
    "collapsed": false
   },
   "outputs": [],
   "source": [
    "dt_train=dt_train.reshape(-1, 1)\n",
    "et_train=et_train.reshape(-1, 1)\n",
    "rf_train=rf_train.reshape(-1, 1)\n",
    "xg_train=xg_train.reshape(-1, 1)\n",
    "dt_test=dt_test.reshape(-1, 1)\n",
    "et_test=et_test.reshape(-1, 1)\n",
    "rf_test=rf_test.reshape(-1, 1)\n",
    "xg_test=xg_test.reshape(-1, 1)"
   ]
  },
  {
   "cell_type": "code",
   "execution_count": 69,
   "metadata": {
    "collapsed": false
   },
   "outputs": [
    {
     "data": {
      "text/plain": [
       "(39520, 1)"
      ]
     },
     "execution_count": 69,
     "metadata": {},
     "output_type": "execute_result"
    }
   ],
   "source": [
    "dt_train.shape"
   ]
  },
  {
   "cell_type": "code",
   "execution_count": 71,
   "metadata": {
    "collapsed": false
   },
   "outputs": [],
   "source": [
    "x_train = np.concatenate(( dt_train, et_train, rf_train, xg_train), axis=1)\n",
    "x_test = np.concatenate(( dt_test, et_test, rf_test, xg_test), axis=1)"
   ]
  },
  {
   "cell_type": "code",
   "execution_count": 72,
   "metadata": {
    "collapsed": false
   },
   "outputs": [
    {
     "name": "stdout",
     "output_type": "stream",
     "text": [
      "Accuracy of Stacking: 0.9987855480214554\n",
      "Precision of Stacking: 0.998508829210677\n",
      "Recall of Stacking: 0.9987855480214554\n",
      "F1-score of Stacking: 0.998591256129916\n",
      "              precision    recall  f1-score   support\n",
      "\n",
      "           0       1.00      1.00      1.00        43\n",
      "           1       0.00      0.00      0.00         1\n",
      "           3       1.00      0.50      0.67         2\n",
      "           5       0.96      0.96      0.96        25\n",
      "           9       1.00      1.00      1.00      2148\n",
      "          10       0.50      0.33      0.40         3\n",
      "          11       1.00      1.00      1.00      1944\n",
      "          14       1.00      1.00      1.00         5\n",
      "          15       0.95      1.00      0.98        21\n",
      "          17       1.00      1.00      1.00        32\n",
      "          18       1.00      1.00      1.00      5615\n",
      "          20       1.00      1.00      1.00        20\n",
      "          21       0.94      0.71      0.81        21\n",
      "          22       0.00      0.00      0.00         1\n",
      "\n",
      "    accuracy                           1.00      9881\n",
      "   macro avg       0.81      0.75      0.77      9881\n",
      "weighted avg       1.00      1.00      1.00      9881\n",
      "\n"
     ]
    },
    {
     "data": {
      "image/png": "[encoded data removed]",
      "text/plain": [
       "<Figure size 360x360 with 2 Axes>"
      ]
     },
     "metadata": {
      "needs_background": "light"
     },
     "output_type": "display_data"
    }
   ],
   "source": [
    "stk = xgb.XGBClassifier().fit(x_train, y_train)\n",
    "y_predict=stk.predict(x_test)\n",
    "y_true=y_test\n",
    "stk_score=accuracy_score(y_true,y_predict)\n",
    "print('Accuracy of Stacking: '+ str(stk_score))\n",
    "precision,recall,fscore,none= precision_recall_fscore_support(y_true, y_predict, average='weighted') \n",
    "print('Precision of Stacking: '+(str(precision)))\n",
    "print('Recall of Stacking: '+(str(recall)))\n",
    "print('F1-score of Stacking: '+(str(fscore)))\n",
    "print(classification_report(y_true,y_predict))\n",
    "cm=confusion_matrix(y_true,y_predict)\n",
    "f,ax=plt.subplots(figsize=(5,5))\n",
    "sns.heatmap(cm,annot=True,linewidth=0.5,linecolor=\"red\",fmt=\".0f\",ax=ax)\n",
    "plt.xlabel(\"y_pred\")\n",
    "plt.ylabel(\"y_true\")\n",
    "plt.show()"
   ]
  },
  {
   "cell_type": "markdown",
   "metadata": {},
   "source": [
    "#### Hyperparameter optimization (HPO) of the stacking ensemble model (XGBoost) using Bayesian optimization with tree-based Parzen estimator (BO-TPE)\n",
    "Based on the GitHub repo for HPO: https://github.com/LiYangHart/Hyperparameter-Optimization-of-Machine-Learning-Algorithms"
   ]
  },
  {
   "cell_type": "code",
   "execution_count": 104,
   "metadata": {
    "collapsed": false
   },
   "outputs": [
    {
     "name": "stdout",
     "output_type": "stream",
     "text": [
      "100%|██████████| 20/20 [01:36<00:00,  4.83s/trial, best loss: -0.9987855480214554]\n",
      "XGBoost: Hyperopt estimated optimum {'learning_rate': 0.6428693239698611, 'max_depth': 88.0, 'n_estimators': 70.0}\n"
     ]
    }
   ],
   "source": [
    "from hyperopt import hp, fmin, tpe, STATUS_OK, Trials\n",
    "from sklearn.model_selection import cross_val_score, StratifiedKFold\n",
    "def objective(params):\n",
    "    params = {\n",
    "        'n_estimators': int(params['n_estimators']), \n",
    "        'max_depth': int(params['max_depth']),\n",
    "        'learning_rate':  abs(float(params['learning_rate'])),\n",
    "\n",
    "    }\n",
    "    clf = xgb.XGBClassifier( **params)\n",
    "    clf.fit(x_train, y_train)\n",
    "    y_pred = clf.predict(x_test)\n",
    "    score = accuracy_score(y_test, y_pred)\n",
    "\n",
    "    return {'loss':-score, 'status': STATUS_OK }\n",
    "\n",
    "space = {\n",
    "    'n_estimators': hp.quniform('n_estimators', 10, 100, 5),\n",
    "    'max_depth': hp.quniform('max_depth', 4, 100, 1),\n",
    "    'learning_rate': hp.normal('learning_rate', 0.01, 0.9),\n",
    "}\n",
    "\n",
    "best = fmin(fn=objective,\n",
    "            space=space,\n",
    "            algo=tpe.suggest,\n",
    "            max_evals=20)\n",
    "print(\"XGBoost: Hyperopt estimated optimum {}\".format(best))"
   ]
  },
  {
   "cell_type": "code",
   "execution_count": 105,
   "metadata": {
    "collapsed": false
   },
   "outputs": [
    {
     "name": "stdout",
     "output_type": "stream",
     "text": [
      "Accuracy of XGBoost: 0.9987855480214554\n",
      "Precision of XGBoost: 0.998508829210677\n",
      "Recall of XGBoost: 0.9987855480214554\n",
      "F1-score of XGBoost: 0.998591256129916\n",
      "              precision    recall  f1-score   support\n",
      "\n",
      "           0       1.00      1.00      1.00        43\n",
      "           1       0.00      0.00      0.00         1\n",
      "           3       1.00      0.50      0.67         2\n",
      "           5       0.96      0.96      0.96        25\n",
      "           9       1.00      1.00      1.00      2148\n",
      "          10       0.50      0.33      0.40         3\n",
      "          11       1.00      1.00      1.00      1944\n",
      "          14       1.00      1.00      1.00         5\n",
      "          15       0.95      1.00      0.98        21\n",
      "          17       1.00      1.00      1.00        32\n",
      "          18       1.00      1.00      1.00      5615\n",
      "          20       1.00      1.00      1.00        20\n",
      "          21       0.94      0.71      0.81        21\n",
      "          22       0.00      0.00      0.00         1\n",
      "\n",
      "    accuracy                           1.00      9881\n",
      "   macro avg       0.81      0.75      0.77      9881\n",
      "weighted avg       1.00      1.00      1.00      9881\n",
      "\n"
     ]
    },
    {
     "data": {
      "image/png": "[encoded data removed]",
      "text/plain": [
       "<Figure size 360x360 with 2 Axes>"
      ]
     },
     "metadata": {
      "needs_background": "light"
     },
     "output_type": "display_data"
    }
   ],
   "source": [
    "xg = xgb.XGBClassifier(learning_rate= 0.6428693239698611, n_estimators = 70, max_depth = 88)\n",
    "xg.fit(x_train,y_train)\n",
    "xg_score=xg.score(x_test,y_test)\n",
    "y_predict=xg.predict(x_test)\n",
    "y_true=y_test\n",
    "print('Accuracy of XGBoost: '+ str(xg_score))\n",
    "precision,recall,fscore,none= precision_recall_fscore_support(y_true, y_predict, average='weighted') \n",
    "print('Precision of XGBoost: '+(str(precision)))\n",
    "print('Recall of XGBoost: '+(str(recall)))\n",
    "print('F1-score of XGBoost: '+(str(fscore)))\n",
    "print(classification_report(y_true,y_predict))\n",
    "cm=confusion_matrix(y_true,y_predict)\n",
    "f,ax=plt.subplots(figsize=(5,5))\n",
    "sns.heatmap(cm,annot=True,linewidth=0.5,linecolor=\"red\",fmt=\".0f\",ax=ax)\n",
    "plt.xlabel(\"y_pred\")\n",
    "plt.ylabel(\"y_true\")\n",
    "plt.show()"
   ]
  },
  {
   "cell_type": "markdown",
   "metadata": {
    "collapsed": true
   },
   "source": [
    "## Anomaly-based IDS 后面这些我内存不够没跑完 让硕试一下应该问题不大"
   ]
  },
  {
   "cell_type": "markdown",
   "metadata": {},
   "source": [
    "### Generate the port-scan datasets for unknown attack detection"
   ]
  },
  {
   "cell_type": "code",
   "execution_count": 73,
   "metadata": {
    "collapsed": true
   },
   "outputs": [],
   "source": [
    "df=pd.read_csv('./data/cup99_sample_km.csv')"
   ]
  },
  {
   "cell_type": "code",
   "execution_count": 75,
   "metadata": {
    "collapsed": false
   },
   "outputs": [
    {
     "data": {
      "text/plain": [
       "18    28073\n",
       "9     10740\n",
       "11     9722\n",
       "0       214\n",
       "17      159\n",
       "5       124\n",
       "15      107\n",
       "21      105\n",
       "20       98\n",
       "14       26\n",
       "10       15\n",
       "3        10\n",
       "22        3\n",
       "1         3\n",
       "6         2\n",
       "Name: label, dtype: int64"
      ]
     },
     "execution_count": 75,
     "metadata": {},
     "output_type": "execute_result"
    }
   ],
   "source": [
    "df.label.value_counts()"
   ]
  },
  {
   "cell_type": "code",
   "execution_count": 76,
   "metadata": {
    "collapsed": true
   },
   "outputs": [],
   "source": [
    "df1 = df[df['label'] != 5]\n",
    "df1['label'][df1['label'] > 0] = 1\n",
    "df1.to_csv('./data/cup99_sample_km_without_portscan.csv',index=0)"
   ]
  },
  {
   "cell_type": "code",
   "execution_count": 78,
   "metadata": {
    "collapsed": true
   },
   "outputs": [],
   "source": [
    "df2 = df[df['label'] == 5]\n",
    "df2['label'][df2['label'] == 5] = 1\n",
    "df2.to_csv('./data/cup99_sample_km_portscan.csv',index=0)"
   ]
  },
  {
   "cell_type": "markdown",
   "metadata": {},
   "source": [
    "### Read the generated datasets for unknown attack detection"
   ]
  },
  {
   "cell_type": "code",
   "execution_count": 79,
   "metadata": {
    "collapsed": true
   },
   "outputs": [],
   "source": [
    "df1 = pd.read_csv('./data/cup99_sample_km_without_portscan.csv')\n",
    "df2 = pd.read_csv('./data/cup99_sample_km_portscan.csv')"
   ]
  },
  {
   "cell_type": "code",
   "execution_count": 81,
   "metadata": {
    "collapsed": false
   },
   "outputs": [],
   "source": [
    "features = df1.drop(['label'],axis=1).dtypes[df1.dtypes != 'object'].index\n",
    "df1[features] = df1[features].apply(\n",
    "    lambda x: (x - x.mean()) / (x.std()))\n",
    "df2[features] = df2[features].apply(\n",
    "    lambda x: (x - x.mean()) / (x.std()))\n",
    "df1 = df1.fillna(0)\n",
    "df2 = df2.fillna(0)"
   ]
  },
  {
   "cell_type": "code",
   "execution_count": 83,
   "metadata": {
    "collapsed": false
   },
   "outputs": [
    {
     "data": {
      "text/plain": [
       "1    49063\n",
       "0      214\n",
       "Name: label, dtype: int64"
      ]
     },
     "execution_count": 83,
     "metadata": {},
     "output_type": "execute_result"
    }
   ],
   "source": [
    "df1.label.value_counts()"
   ]
  },
  {
   "cell_type": "code",
   "execution_count": 84,
   "metadata": {
    "collapsed": false,
    "scrolled": true
   },
   "outputs": [
    {
     "data": {
      "text/plain": [
       "1    124\n",
       "Name: label, dtype: int64"
      ]
     },
     "execution_count": 84,
     "metadata": {},
     "output_type": "execute_result"
    }
   ],
   "source": [
    "df2.label.value_counts()"
   ]
  },
  {
   "cell_type": "code",
   "execution_count": 85,
   "metadata": {
    "collapsed": false
   },
   "outputs": [],
   "source": [
    "df2p=df1[df1['label']==0]\n",
    "df2pp=df2p.sample(n=None, frac=1255/18225, replace=False, weights=None, random_state=None, axis=0)\n",
    "df2=pd.concat([df2, df2pp])"
   ]
  },
  {
   "cell_type": "code",
   "execution_count": 87,
   "metadata": {
    "collapsed": false
   },
   "outputs": [
    {
     "data": {
      "text/plain": [
       "1    124\n",
       "0     15\n",
       "Name: label, dtype: int64"
      ]
     },
     "execution_count": 87,
     "metadata": {},
     "output_type": "execute_result"
    }
   ],
   "source": [
    "df2.label.value_counts()"
   ]
  },
  {
   "cell_type": "code",
   "execution_count": 88,
   "metadata": {
    "collapsed": true
   },
   "outputs": [],
   "source": [
    "df = df1.append(df2)"
   ]
  },
  {
   "cell_type": "code",
   "execution_count": 90,
   "metadata": {
    "collapsed": false
   },
   "outputs": [
    {
     "data": {
      "text/plain": [
       "1    49187\n",
       "0      229\n",
       "dtype: int64"
      ]
     },
     "execution_count": 90,
     "metadata": {},
     "output_type": "execute_result"
    }
   ],
   "source": [
    "X = df.drop(['label'],axis=1) .values\n",
    "y = df.iloc[:, -1].values.reshape(-1,1)\n",
    "y=np.ravel(y)\n",
    "pd.Series(y).value_counts()"
   ]
  },
  {
   "cell_type": "markdown",
   "metadata": {},
   "source": [
    "### Feature engineering (IG, FCBF, and KPCA)"
   ]
  },
  {
   "cell_type": "markdown",
   "metadata": {},
   "source": [
    "#### Feature selection by information gain (IG)"
   ]
  },
  {
   "cell_type": "code",
   "execution_count": 91,
   "metadata": {
    "collapsed": false
   },
   "outputs": [],
   "source": [
    "from sklearn.feature_selection import mutual_info_classif\n",
    "importances = mutual_info_classif(X, y)"
   ]
  },
  {
   "cell_type": "code",
   "execution_count": 92,
   "metadata": {
    "collapsed": false
   },
   "outputs": [],
   "source": [
    "# calculate the sum of importance scores\n",
    "f_list = sorted(zip(map(lambda x: round(x, 4), importances), features), reverse=True)\n",
    "Sum = 0\n",
    "fs = []\n",
    "for i in range(0, len(f_list)):\n",
    "    Sum = Sum + f_list[i][0]\n",
    "    fs.append(f_list[i][1])"
   ]
  },
  {
   "cell_type": "code",
   "execution_count": 93,
   "metadata": {
    "collapsed": false
   },
   "outputs": [],
   "source": [
    "# select the important features from top to bottom until the accumulated importance reaches 90%\n",
    "f_list2 = sorted(zip(map(lambda x: round(x, 4), importances/Sum), features), reverse=True)\n",
    "Sum2 = 0\n",
    "fs = []\n",
    "for i in range(0, len(f_list2)):\n",
    "    Sum2 = Sum2 + f_list2[i][0]\n",
    "    fs.append(f_list2[i][1])\n",
    "    if Sum2>=0.9:\n",
    "        break        "
   ]
  },
  {
   "cell_type": "code",
   "execution_count": 94,
   "metadata": {
    "collapsed": false
   },
   "outputs": [],
   "source": [
    "X_fs = df[fs].values"
   ]
  },
  {
   "cell_type": "code",
   "execution_count": 95,
   "metadata": {
    "collapsed": false
   },
   "outputs": [
    {
     "data": {
      "text/plain": [
       "(49416, 34)"
      ]
     },
     "execution_count": 95,
     "metadata": {},
     "output_type": "execute_result"
    }
   ],
   "source": [
    "X_fs.shape"
   ]
  },
  {
   "cell_type": "code",
   "execution_count": 96,
   "metadata": {
    "collapsed": false
   },
   "outputs": [
    {
     "data": {
      "text/plain": [
       "array([[-0.01064681, -0.04385575, -0.0240171 , ..., -0.24784907,\n",
       "        -0.46400574,  0.34420613],\n",
       "       [-0.01064681, -0.04385575, -0.0240171 , ..., -0.24784907,\n",
       "        -0.46400574, -1.44332516],\n",
       "       [-0.01064681, -0.04385575, -0.0240171 , ..., -0.24784907,\n",
       "        -0.46400574,  0.34420613],\n",
       "       ...,\n",
       "       [ 0.80556718,  2.54581436,  0.22582265, ..., -0.24784907,\n",
       "        -0.46400574,  0.34420613],\n",
       "       [ 0.80556718,  2.54581436,  0.22582265, ..., -0.24784907,\n",
       "        -0.46400574,  0.34420613],\n",
       "       [ 0.80556718,  2.54581436,  0.22582265, ..., -0.24784907,\n",
       "        -0.46400574, -1.61580625]])"
      ]
     },
     "execution_count": 96,
     "metadata": {},
     "output_type": "execute_result"
    }
   ],
   "source": [
    "X_fs"
   ]
  },
  {
   "cell_type": "markdown",
   "metadata": {},
   "source": [
    "#### Feature selection by Fast Correlation Based Filter (FCBF)\n",
    "\n",
    "The module is imported from the GitHub repo: https://github.com/SantiagoEG/FCBF_module"
   ]
  },
  {
   "cell_type": "code",
   "execution_count": 98,
   "metadata": {
    "collapsed": true
   },
   "outputs": [],
   "source": [
    "from FCBF_Module import FCBF, FCBFK, FCBFiP, get_i\n",
    "fcbf = FCBFK(k = 20)\n",
    "#fcbf.fit(X_fs, y)"
   ]
  },
  {
   "cell_type": "code",
   "execution_count": 99,
   "metadata": {
    "collapsed": false
   },
   "outputs": [],
   "source": [
    "X_fss = fcbf.fit_transform(X_fs,y)"
   ]
  },
  {
   "cell_type": "code",
   "execution_count": 100,
   "metadata": {
    "collapsed": false
   },
   "outputs": [
    {
     "data": {
      "text/plain": [
       "(49416, 20)"
      ]
     },
     "execution_count": 100,
     "metadata": {},
     "output_type": "execute_result"
    }
   ],
   "source": [
    "X_fss.shape"
   ]
  },
  {
   "cell_type": "code",
   "execution_count": 101,
   "metadata": {
    "collapsed": false
   },
   "outputs": [
    {
     "data": {
      "text/plain": [
       "array([[-0.01503897, -0.04385575, -0.24934295, ...,  0.34420613,\n",
       "         0.88287752, -0.53858077],\n",
       "       [-0.01503897, -0.04385575, -0.24934295, ..., -1.44332516,\n",
       "         0.88287752, -0.53858077],\n",
       "       [-0.01503897, -0.04385575, -0.24934295, ...,  0.34420613,\n",
       "         0.88287752, -0.53858077],\n",
       "       ...,\n",
       "       [ 2.10838582,  2.54581436, -0.0754717 , ...,  0.34420613,\n",
       "        -1.17982155, -0.53858077],\n",
       "       [ 2.10838582,  2.54581436, -0.0754717 , ...,  0.34420613,\n",
       "        -1.18388199, -0.53858077],\n",
       "       [ 2.10838582,  2.54581436, -0.03200389, ..., -1.61580625,\n",
       "        -1.17170069, -0.53858077]])"
      ]
     },
     "execution_count": 101,
     "metadata": {},
     "output_type": "execute_result"
    }
   ],
   "source": [
    "X_fss"
   ]
  },
  {
   "cell_type": "markdown",
   "metadata": {},
   "source": [
    "####  kernel principal component analysis (KPCA)"
   ]
  },
  {
   "cell_type": "code",
   "execution_count": 102,
   "metadata": {
    "collapsed": false
   },
   "outputs": [
    {
     "ename": "MemoryError",
     "evalue": "Unable to allocate 18.2 GiB for an array with shape (49416, 49416) and data type float64",
     "output_type": "error",
     "traceback": [
      "\u001b[1;31m---------------------------------------------------------------------------\u001b[0m",
      "\u001b[1;31mMemoryError\u001b[0m                               Traceback (most recent call last)",
      "\u001b[1;32mc:\\Users\\RAZER\\Desktop\\ids project\\cup99.ipynb Cell 123'\u001b[0m in \u001b[0;36m<cell line: 3>\u001b[1;34m()\u001b[0m\n\u001b[0;32m      <a href='vscode-notebook-cell:/c%3A/Users/RAZER/Desktop/ids%20project/cup99.ipynb#ch0000121?line=0'>1</a>\u001b[0m \u001b[39mfrom\u001b[39;00m \u001b[39msklearn\u001b[39;00m\u001b[39m.\u001b[39;00m\u001b[39mdecomposition\u001b[39;00m \u001b[39mimport\u001b[39;00m KernelPCA\n\u001b[0;32m      <a href='vscode-notebook-cell:/c%3A/Users/RAZER/Desktop/ids%20project/cup99.ipynb#ch0000121?line=1'>2</a>\u001b[0m kpca \u001b[39m=\u001b[39m KernelPCA(n_components \u001b[39m=\u001b[39m \u001b[39m10\u001b[39m, kernel \u001b[39m=\u001b[39m \u001b[39m'\u001b[39m\u001b[39mrbf\u001b[39m\u001b[39m'\u001b[39m)\n\u001b[1;32m----> <a href='vscode-notebook-cell:/c%3A/Users/RAZER/Desktop/ids%20project/cup99.ipynb#ch0000121?line=2'>3</a>\u001b[0m kpca\u001b[39m.\u001b[39;49mfit(X_fss, y)\n\u001b[0;32m      <a href='vscode-notebook-cell:/c%3A/Users/RAZER/Desktop/ids%20project/cup99.ipynb#ch0000121?line=3'>4</a>\u001b[0m X_kpca \u001b[39m=\u001b[39m kpca\u001b[39m.\u001b[39mtransform(X_fss)\n",
      "File \u001b[1;32mc:\\Users\\RAZER\\AppData\\Local\\Programs\\Python\\Python310\\lib\\site-packages\\sklearn\\decomposition\\_kernel_pca.py:431\u001b[0m, in \u001b[0;36mKernelPCA.fit\u001b[1;34m(self, X, y)\u001b[0m\n\u001b[0;32m    <a href='file:///c%3A/Users/RAZER/AppData/Local/Programs/Python/Python310/lib/site-packages/sklearn/decomposition/_kernel_pca.py?line=428'>429</a>\u001b[0m X \u001b[39m=\u001b[39m \u001b[39mself\u001b[39m\u001b[39m.\u001b[39m_validate_data(X, accept_sparse\u001b[39m=\u001b[39m\u001b[39m\"\u001b[39m\u001b[39mcsr\u001b[39m\u001b[39m\"\u001b[39m, copy\u001b[39m=\u001b[39m\u001b[39mself\u001b[39m\u001b[39m.\u001b[39mcopy_X)\n\u001b[0;32m    <a href='file:///c%3A/Users/RAZER/AppData/Local/Programs/Python/Python310/lib/site-packages/sklearn/decomposition/_kernel_pca.py?line=429'>430</a>\u001b[0m \u001b[39mself\u001b[39m\u001b[39m.\u001b[39m_centerer \u001b[39m=\u001b[39m KernelCenterer()\n\u001b[1;32m--> <a href='file:///c%3A/Users/RAZER/AppData/Local/Programs/Python/Python310/lib/site-packages/sklearn/decomposition/_kernel_pca.py?line=430'>431</a>\u001b[0m K \u001b[39m=\u001b[39m \u001b[39mself\u001b[39;49m\u001b[39m.\u001b[39;49m_get_kernel(X)\n\u001b[0;32m    <a href='file:///c%3A/Users/RAZER/AppData/Local/Programs/Python/Python310/lib/site-packages/sklearn/decomposition/_kernel_pca.py?line=431'>432</a>\u001b[0m \u001b[39mself\u001b[39m\u001b[39m.\u001b[39m_fit_transform(K)\n\u001b[0;32m    <a href='file:///c%3A/Users/RAZER/AppData/Local/Programs/Python/Python310/lib/site-packages/sklearn/decomposition/_kernel_pca.py?line=433'>434</a>\u001b[0m \u001b[39mif\u001b[39;00m \u001b[39mself\u001b[39m\u001b[39m.\u001b[39mfit_inverse_transform:\n\u001b[0;32m    <a href='file:///c%3A/Users/RAZER/AppData/Local/Programs/Python/Python310/lib/site-packages/sklearn/decomposition/_kernel_pca.py?line=434'>435</a>\u001b[0m     \u001b[39m# no need to use the kernel to transform X, use shortcut expression\u001b[39;00m\n",
      "File \u001b[1;32mc:\\Users\\RAZER\\AppData\\Local\\Programs\\Python\\Python310\\lib\\site-packages\\sklearn\\decomposition\\_kernel_pca.py:310\u001b[0m, in \u001b[0;36mKernelPCA._get_kernel\u001b[1;34m(self, X, Y)\u001b[0m\n\u001b[0;32m    <a href='file:///c%3A/Users/RAZER/AppData/Local/Programs/Python/Python310/lib/site-packages/sklearn/decomposition/_kernel_pca.py?line=307'>308</a>\u001b[0m \u001b[39melse\u001b[39;00m:\n\u001b[0;32m    <a href='file:///c%3A/Users/RAZER/AppData/Local/Programs/Python/Python310/lib/site-packages/sklearn/decomposition/_kernel_pca.py?line=308'>309</a>\u001b[0m     params \u001b[39m=\u001b[39m {\u001b[39m\"\u001b[39m\u001b[39mgamma\u001b[39m\u001b[39m\"\u001b[39m: \u001b[39mself\u001b[39m\u001b[39m.\u001b[39mgamma, \u001b[39m\"\u001b[39m\u001b[39mdegree\u001b[39m\u001b[39m\"\u001b[39m: \u001b[39mself\u001b[39m\u001b[39m.\u001b[39mdegree, \u001b[39m\"\u001b[39m\u001b[39mcoef0\u001b[39m\u001b[39m\"\u001b[39m: \u001b[39mself\u001b[39m\u001b[39m.\u001b[39mcoef0}\n\u001b[1;32m--> <a href='file:///c%3A/Users/RAZER/AppData/Local/Programs/Python/Python310/lib/site-packages/sklearn/decomposition/_kernel_pca.py?line=309'>310</a>\u001b[0m \u001b[39mreturn\u001b[39;00m pairwise_kernels(\n\u001b[0;32m    <a href='file:///c%3A/Users/RAZER/AppData/Local/Programs/Python/Python310/lib/site-packages/sklearn/decomposition/_kernel_pca.py?line=310'>311</a>\u001b[0m     X, Y, metric\u001b[39m=\u001b[39m\u001b[39mself\u001b[39m\u001b[39m.\u001b[39mkernel, filter_params\u001b[39m=\u001b[39m\u001b[39mTrue\u001b[39;00m, n_jobs\u001b[39m=\u001b[39m\u001b[39mself\u001b[39m\u001b[39m.\u001b[39mn_jobs, \u001b[39m*\u001b[39m\u001b[39m*\u001b[39mparams\n\u001b[0;32m    <a href='file:///c%3A/Users/RAZER/AppData/Local/Programs/Python/Python310/lib/site-packages/sklearn/decomposition/_kernel_pca.py?line=311'>312</a>\u001b[0m )\n",
      "File \u001b[1;32mc:\\Users\\RAZER\\AppData\\Local\\Programs\\Python\\Python310\\lib\\site-packages\\sklearn\\metrics\\pairwise.py:2053\u001b[0m, in \u001b[0;36mpairwise_kernels\u001b[1;34m(X, Y, metric, filter_params, n_jobs, **kwds)\u001b[0m\n\u001b[0;32m   <a href='file:///c%3A/Users/RAZER/AppData/Local/Programs/Python/Python310/lib/site-packages/sklearn/metrics/pairwise.py?line=2049'>2050</a>\u001b[0m \u001b[39melse\u001b[39;00m:\n\u001b[0;32m   <a href='file:///c%3A/Users/RAZER/AppData/Local/Programs/Python/Python310/lib/site-packages/sklearn/metrics/pairwise.py?line=2050'>2051</a>\u001b[0m     \u001b[39mraise\u001b[39;00m \u001b[39mValueError\u001b[39;00m(\u001b[39m\"\u001b[39m\u001b[39mUnknown kernel \u001b[39m\u001b[39m%r\u001b[39;00m\u001b[39m\"\u001b[39m \u001b[39m%\u001b[39m metric)\n\u001b[1;32m-> <a href='file:///c%3A/Users/RAZER/AppData/Local/Programs/Python/Python310/lib/site-packages/sklearn/metrics/pairwise.py?line=2052'>2053</a>\u001b[0m \u001b[39mreturn\u001b[39;00m _parallel_pairwise(X, Y, func, n_jobs, \u001b[39m*\u001b[39m\u001b[39m*\u001b[39mkwds)\n",
      "File \u001b[1;32mc:\\Users\\RAZER\\AppData\\Local\\Programs\\Python\\Python310\\lib\\site-packages\\sklearn\\metrics\\pairwise.py:1430\u001b[0m, in \u001b[0;36m_parallel_pairwise\u001b[1;34m(X, Y, func, n_jobs, **kwds)\u001b[0m\n\u001b[0;32m   <a href='file:///c%3A/Users/RAZER/AppData/Local/Programs/Python/Python310/lib/site-packages/sklearn/metrics/pairwise.py?line=1426'>1427</a>\u001b[0m X, Y, dtype \u001b[39m=\u001b[39m _return_float_dtype(X, Y)\n\u001b[0;32m   <a href='file:///c%3A/Users/RAZER/AppData/Local/Programs/Python/Python310/lib/site-packages/sklearn/metrics/pairwise.py?line=1428'>1429</a>\u001b[0m \u001b[39mif\u001b[39;00m effective_n_jobs(n_jobs) \u001b[39m==\u001b[39m \u001b[39m1\u001b[39m:\n\u001b[1;32m-> <a href='file:///c%3A/Users/RAZER/AppData/Local/Programs/Python/Python310/lib/site-packages/sklearn/metrics/pairwise.py?line=1429'>1430</a>\u001b[0m     \u001b[39mreturn\u001b[39;00m func(X, Y, \u001b[39m*\u001b[39m\u001b[39m*\u001b[39mkwds)\n\u001b[0;32m   <a href='file:///c%3A/Users/RAZER/AppData/Local/Programs/Python/Python310/lib/site-packages/sklearn/metrics/pairwise.py?line=1431'>1432</a>\u001b[0m \u001b[39m# enforce a threading backend to prevent data communication overhead\u001b[39;00m\n\u001b[0;32m   <a href='file:///c%3A/Users/RAZER/AppData/Local/Programs/Python/Python310/lib/site-packages/sklearn/metrics/pairwise.py?line=1432'>1433</a>\u001b[0m fd \u001b[39m=\u001b[39m delayed(_dist_wrapper)\n",
      "File \u001b[1;32mc:\\Users\\RAZER\\AppData\\Local\\Programs\\Python\\Python310\\lib\\site-packages\\sklearn\\metrics\\pairwise.py:1175\u001b[0m, in \u001b[0;36mrbf_kernel\u001b[1;34m(X, Y, gamma)\u001b[0m\n\u001b[0;32m   <a href='file:///c%3A/Users/RAZER/AppData/Local/Programs/Python/Python310/lib/site-packages/sklearn/metrics/pairwise.py?line=1171'>1172</a>\u001b[0m \u001b[39mif\u001b[39;00m gamma \u001b[39mis\u001b[39;00m \u001b[39mNone\u001b[39;00m:\n\u001b[0;32m   <a href='file:///c%3A/Users/RAZER/AppData/Local/Programs/Python/Python310/lib/site-packages/sklearn/metrics/pairwise.py?line=1172'>1173</a>\u001b[0m     gamma \u001b[39m=\u001b[39m \u001b[39m1.0\u001b[39m \u001b[39m/\u001b[39m X\u001b[39m.\u001b[39mshape[\u001b[39m1\u001b[39m]\n\u001b[1;32m-> <a href='file:///c%3A/Users/RAZER/AppData/Local/Programs/Python/Python310/lib/site-packages/sklearn/metrics/pairwise.py?line=1174'>1175</a>\u001b[0m K \u001b[39m=\u001b[39m euclidean_distances(X, Y, squared\u001b[39m=\u001b[39;49m\u001b[39mTrue\u001b[39;49;00m)\n\u001b[0;32m   <a href='file:///c%3A/Users/RAZER/AppData/Local/Programs/Python/Python310/lib/site-packages/sklearn/metrics/pairwise.py?line=1175'>1176</a>\u001b[0m K \u001b[39m*\u001b[39m\u001b[39m=\u001b[39m \u001b[39m-\u001b[39mgamma\n\u001b[0;32m   <a href='file:///c%3A/Users/RAZER/AppData/Local/Programs/Python/Python310/lib/site-packages/sklearn/metrics/pairwise.py?line=1176'>1177</a>\u001b[0m np\u001b[39m.\u001b[39mexp(K, K)  \u001b[39m# exponentiate K in-place\u001b[39;00m\n",
      "File \u001b[1;32mc:\\Users\\RAZER\\AppData\\Local\\Programs\\Python\\Python310\\lib\\site-packages\\sklearn\\metrics\\pairwise.py:330\u001b[0m, in \u001b[0;36meuclidean_distances\u001b[1;34m(X, Y, Y_norm_squared, squared, X_norm_squared)\u001b[0m\n\u001b[0;32m    <a href='file:///c%3A/Users/RAZER/AppData/Local/Programs/Python/Python310/lib/site-packages/sklearn/metrics/pairwise.py?line=323'>324</a>\u001b[0m     \u001b[39mif\u001b[39;00m Y_norm_squared\u001b[39m.\u001b[39mshape \u001b[39m!=\u001b[39m (\u001b[39m1\u001b[39m, Y\u001b[39m.\u001b[39mshape[\u001b[39m0\u001b[39m]):\n\u001b[0;32m    <a href='file:///c%3A/Users/RAZER/AppData/Local/Programs/Python/Python310/lib/site-packages/sklearn/metrics/pairwise.py?line=324'>325</a>\u001b[0m         \u001b[39mraise\u001b[39;00m \u001b[39mValueError\u001b[39;00m(\n\u001b[0;32m    <a href='file:///c%3A/Users/RAZER/AppData/Local/Programs/Python/Python310/lib/site-packages/sklearn/metrics/pairwise.py?line=325'>326</a>\u001b[0m             \u001b[39mf\u001b[39m\u001b[39m\"\u001b[39m\u001b[39mIncompatible dimensions for Y of shape \u001b[39m\u001b[39m{\u001b[39;00mY\u001b[39m.\u001b[39mshape\u001b[39m}\u001b[39;00m\u001b[39m and \u001b[39m\u001b[39m\"\u001b[39m\n\u001b[0;32m    <a href='file:///c%3A/Users/RAZER/AppData/Local/Programs/Python/Python310/lib/site-packages/sklearn/metrics/pairwise.py?line=326'>327</a>\u001b[0m             \u001b[39mf\u001b[39m\u001b[39m\"\u001b[39m\u001b[39mY_norm_squared of shape \u001b[39m\u001b[39m{\u001b[39;00moriginal_shape\u001b[39m}\u001b[39;00m\u001b[39m.\u001b[39m\u001b[39m\"\u001b[39m\n\u001b[0;32m    <a href='file:///c%3A/Users/RAZER/AppData/Local/Programs/Python/Python310/lib/site-packages/sklearn/metrics/pairwise.py?line=327'>328</a>\u001b[0m         )\n\u001b[1;32m--> <a href='file:///c%3A/Users/RAZER/AppData/Local/Programs/Python/Python310/lib/site-packages/sklearn/metrics/pairwise.py?line=329'>330</a>\u001b[0m \u001b[39mreturn\u001b[39;00m _euclidean_distances(X, Y, X_norm_squared, Y_norm_squared, squared)\n",
      "File \u001b[1;32mc:\\Users\\RAZER\\AppData\\Local\\Programs\\Python\\Python310\\lib\\site-packages\\sklearn\\metrics\\pairwise.py:371\u001b[0m, in \u001b[0;36m_euclidean_distances\u001b[1;34m(X, Y, X_norm_squared, Y_norm_squared, squared)\u001b[0m\n\u001b[0;32m    <a href='file:///c%3A/Users/RAZER/AppData/Local/Programs/Python/Python310/lib/site-packages/sklearn/metrics/pairwise.py?line=367'>368</a>\u001b[0m     distances \u001b[39m=\u001b[39m _euclidean_distances_upcast(X, XX, Y, YY)\n\u001b[0;32m    <a href='file:///c%3A/Users/RAZER/AppData/Local/Programs/Python/Python310/lib/site-packages/sklearn/metrics/pairwise.py?line=368'>369</a>\u001b[0m \u001b[39melse\u001b[39;00m:\n\u001b[0;32m    <a href='file:///c%3A/Users/RAZER/AppData/Local/Programs/Python/Python310/lib/site-packages/sklearn/metrics/pairwise.py?line=369'>370</a>\u001b[0m     \u001b[39m# if dtype is already float64, no need to chunk and upcast\u001b[39;00m\n\u001b[1;32m--> <a href='file:///c%3A/Users/RAZER/AppData/Local/Programs/Python/Python310/lib/site-packages/sklearn/metrics/pairwise.py?line=370'>371</a>\u001b[0m     distances \u001b[39m=\u001b[39m \u001b[39m-\u001b[39;49m\u001b[39m2\u001b[39;49m \u001b[39m*\u001b[39;49m safe_sparse_dot(X, Y\u001b[39m.\u001b[39;49mT, dense_output\u001b[39m=\u001b[39;49m\u001b[39mTrue\u001b[39;49;00m)\n\u001b[0;32m    <a href='file:///c%3A/Users/RAZER/AppData/Local/Programs/Python/Python310/lib/site-packages/sklearn/metrics/pairwise.py?line=371'>372</a>\u001b[0m     distances \u001b[39m+\u001b[39m\u001b[39m=\u001b[39m XX\n\u001b[0;32m    <a href='file:///c%3A/Users/RAZER/AppData/Local/Programs/Python/Python310/lib/site-packages/sklearn/metrics/pairwise.py?line=372'>373</a>\u001b[0m     distances \u001b[39m+\u001b[39m\u001b[39m=\u001b[39m YY\n",
      "\u001b[1;31mMemoryError\u001b[0m: Unable to allocate 18.2 GiB for an array with shape (49416, 49416) and data type float64"
     ]
    }
   ],
   "source": [
    "from sklearn.decomposition import KernelPCA\n",
    "kpca = KernelPCA(n_components = 10, kernel = 'rbf')\n",
    "kpca.fit(X_fss, y)\n",
    "X_kpca = kpca.transform(X_fss)\n",
    "\n",
    "# from sklearn.decomposition import PCA\n",
    "# kpca = PCA(n_components = 10)\n",
    "# kpca.fit(X_fss, y)\n",
    "# X_kpca = kpca.transform(X_fss)"
   ]
  },
  {
   "cell_type": "markdown",
   "metadata": {},
   "source": [
    "### Train-test split after feature selection"
   ]
  },
  {
   "cell_type": "code",
   "execution_count": null,
   "metadata": {
    "collapsed": true
   },
   "outputs": [],
   "source": [
    "X_train = X_kpca[:len(df1)]\n",
    "y_train = y[:len(df1)]\n",
    "X_test = X_kpca[len(df1):]\n",
    "y_test = y[len(df1):]"
   ]
  },
  {
   "cell_type": "markdown",
   "metadata": {},
   "source": [
    "### Solve class-imbalance by SMOTE"
   ]
  },
  {
   "cell_type": "code",
   "execution_count": null,
   "metadata": {
    "collapsed": false
   },
   "outputs": [
    {
     "data": {
      "text/plain": [
       "0    18225\n",
       "1     7320\n",
       "dtype: int64"
      ]
     },
     "execution_count": 87,
     "metadata": {},
     "output_type": "execute_result"
    }
   ],
   "source": [
    "pd.Series(y_train).value_counts()"
   ]
  },
  {
   "cell_type": "code",
   "execution_count": null,
   "metadata": {
    "collapsed": false
   },
   "outputs": [],
   "source": [
    "from imblearn.over_sampling import SMOTE\n",
    "smote=SMOTE(n_jobs=-1,sampling_strategy={1:18225})\n",
    "X_train, y_train = smote.fit_sample(X_train, y_train)"
   ]
  },
  {
   "cell_type": "code",
   "execution_count": null,
   "metadata": {
    "collapsed": false
   },
   "outputs": [
    {
     "data": {
      "text/plain": [
       "1    18225\n",
       "0    18225\n",
       "dtype: int64"
      ]
     },
     "execution_count": 89,
     "metadata": {},
     "output_type": "execute_result"
    }
   ],
   "source": [
    "pd.Series(y_train).value_counts()"
   ]
  },
  {
   "cell_type": "code",
   "execution_count": null,
   "metadata": {
    "collapsed": false
   },
   "outputs": [
    {
     "data": {
      "text/plain": [
       "1    1255\n",
       "0    1255\n",
       "dtype: int64"
      ]
     },
     "execution_count": 90,
     "metadata": {},
     "output_type": "execute_result"
    }
   ],
   "source": [
    "pd.Series(y_test).value_counts()"
   ]
  },
  {
   "cell_type": "markdown",
   "metadata": {},
   "source": [
    "### Apply the cluster labeling (CL) k-means method"
   ]
  },
  {
   "cell_type": "code",
   "execution_count": null,
   "metadata": {
    "collapsed": true
   },
   "outputs": [],
   "source": [
    "from sklearn.cluster import KMeans\n",
    "from sklearn.cluster import DBSCAN,MeanShift\n",
    "from sklearn.cluster import SpectralClustering,AgglomerativeClustering,AffinityPropagation,Birch,MiniBatchKMeans,MeanShift \n",
    "from sklearn.mixture import GaussianMixture, BayesianGaussianMixture\n",
    "from sklearn.metrics import classification_report\n",
    "from sklearn import metrics"
   ]
  },
  {
   "cell_type": "code",
   "execution_count": null,
   "metadata": {
    "collapsed": true
   },
   "outputs": [],
   "source": [
    "def CL_kmeans(X_train, X_test, y_train, y_test,n,b=100):\n",
    "    km_cluster = MiniBatchKMeans(n_clusters=n,batch_size=b)\n",
    "    result = km_cluster.fit_predict(X_train)\n",
    "    result2 = km_cluster.predict(X_test)\n",
    "\n",
    "    count=0\n",
    "    a=np.zeros(n)\n",
    "    b=np.zeros(n)\n",
    "    for v in range(0,n):\n",
    "        for i in range(0,len(y_train)):\n",
    "            if result[i]==v:\n",
    "                if y_train[i]==1:\n",
    "                    a[v]=a[v]+1\n",
    "                else:\n",
    "                    b[v]=b[v]+1\n",
    "    list1=[]\n",
    "    list2=[]\n",
    "    for v in range(0,n):\n",
    "        if a[v]<=b[v]:\n",
    "            list1.append(v)\n",
    "        else: \n",
    "            list2.append(v)\n",
    "    for v in range(0,len(y_test)):\n",
    "        if result2[v] in list1:\n",
    "            result2[v]=0\n",
    "        elif result2[v] in list2:\n",
    "            result2[v]=1\n",
    "        else:\n",
    "            print(\"-1\")\n",
    "    print(classification_report(y_test, result2))\n",
    "    cm=confusion_matrix(y_test,result2)\n",
    "    acc=metrics.accuracy_score(y_test,result2)\n",
    "    print(str(acc))\n",
    "    print(cm)"
   ]
  },
  {
   "cell_type": "code",
   "execution_count": null,
   "metadata": {
    "collapsed": false
   },
   "outputs": [
    {
     "name": "stdout",
     "output_type": "stream",
     "text": [
      "              precision    recall  f1-score   support\n",
      "\n",
      "           0       0.58      0.69      0.63      1255\n",
      "           1       0.62      0.51      0.56      1255\n",
      "\n",
      "    accuracy                           0.60      2510\n",
      "   macro avg       0.60      0.60      0.60      2510\n",
      "weighted avg       0.60      0.60      0.60      2510\n",
      "\n",
      "0.5984063745019921\n",
      "[[864 391]\n",
      " [617 638]]\n"
     ]
    }
   ],
   "source": [
    "CL_kmeans(X_train, X_test, y_train, y_test, 8)"
   ]
  },
  {
   "cell_type": "markdown",
   "metadata": {},
   "source": [
    "### Hyperparameter optimization of CL-k-means\n",
    "Tune \"k\""
   ]
  },
  {
   "cell_type": "code",
   "execution_count": null,
   "metadata": {
    "collapsed": false,
    "scrolled": true
   },
   "outputs": [
    {
     "name": "stdout",
     "output_type": "stream",
     "text": [
      "30 0.6972111553784861\n",
      "43 0.7127490039840637\n",
      "43 0.399203187250996\n",
      "43 0.47051792828685257\n",
      "32 0.653784860557769\n",
      "20 0.34860557768924305\n",
      "16 0.9195219123505977\n",
      "5 0.4370517928286853\n",
      "15 0.6729083665338645\n",
      "25 0.7063745019920319\n",
      "2 0.47808764940239046\n",
      "50 0.4199203187250996\n"
     ]
    },
    {
     "name": "stderr",
     "output_type": "stream",
     "text": [
      "C:\\Program Files\\Anaconda3\\lib\\site-packages\\skopt\\optimizer\\optimizer.py:409: UserWarning: The objective has been evaluated at this point before.\n",
      "  warnings.warn(\"The objective has been evaluated \"\n"
     ]
    },
    {
     "name": "stdout",
     "output_type": "stream",
     "text": [
      "2 0.47768924302788845\n"
     ]
    },
    {
     "name": "stderr",
     "output_type": "stream",
     "text": [
      "C:\\Program Files\\Anaconda3\\lib\\site-packages\\skopt\\optimizer\\optimizer.py:409: UserWarning: The objective has been evaluated at this point before.\n",
      "  warnings.warn(\"The objective has been evaluated \"\n"
     ]
    },
    {
     "name": "stdout",
     "output_type": "stream",
     "text": [
      "50 0.39282868525896414\n",
      "17 0.42828685258964144\n"
     ]
    },
    {
     "name": "stderr",
     "output_type": "stream",
     "text": [
      "C:\\Program Files\\Anaconda3\\lib\\site-packages\\skopt\\optimizer\\optimizer.py:409: UserWarning: The objective has been evaluated at this point before.\n",
      "  warnings.warn(\"The objective has been evaluated \"\n"
     ]
    },
    {
     "name": "stdout",
     "output_type": "stream",
     "text": [
      "2 0.47768924302788845\n"
     ]
    },
    {
     "name": "stderr",
     "output_type": "stream",
     "text": [
      "C:\\Program Files\\Anaconda3\\lib\\site-packages\\skopt\\optimizer\\optimizer.py:409: UserWarning: The objective has been evaluated at this point before.\n",
      "  warnings.warn(\"The objective has been evaluated \"\n"
     ]
    },
    {
     "name": "stdout",
     "output_type": "stream",
     "text": [
      "2 0.47768924302788845\n"
     ]
    },
    {
     "name": "stderr",
     "output_type": "stream",
     "text": [
      "C:\\Program Files\\Anaconda3\\lib\\site-packages\\skopt\\optimizer\\optimizer.py:409: UserWarning: The objective has been evaluated at this point before.\n",
      "  warnings.warn(\"The objective has been evaluated \"\n"
     ]
    },
    {
     "name": "stdout",
     "output_type": "stream",
     "text": [
      "16 0.6992031872509961\n"
     ]
    },
    {
     "name": "stderr",
     "output_type": "stream",
     "text": [
      "C:\\Program Files\\Anaconda3\\lib\\site-packages\\skopt\\optimizer\\optimizer.py:409: UserWarning: The objective has been evaluated at this point before.\n",
      "  warnings.warn(\"The objective has been evaluated \"\n"
     ]
    },
    {
     "name": "stdout",
     "output_type": "stream",
     "text": [
      "16 0.3737051792828685\n"
     ]
    },
    {
     "name": "stderr",
     "output_type": "stream",
     "text": [
      "C:\\Program Files\\Anaconda3\\lib\\site-packages\\skopt\\optimizer\\optimizer.py:409: UserWarning: The objective has been evaluated at this point before.\n",
      "  warnings.warn(\"The objective has been evaluated \"\n"
     ]
    },
    {
     "name": "stdout",
     "output_type": "stream",
     "text": [
      "50 0.6250996015936255\n",
      "9.127083539962769\n",
      "Best score=0.9195\n",
      "Best parameters: n_clusters=16\n"
     ]
    }
   ],
   "source": [
    "#Hyperparameter optimization by BO-GP\n",
    "from skopt.space import Real, Integer\n",
    "from skopt.utils import use_named_args\n",
    "from sklearn import metrics\n",
    "\n",
    "space  = [Integer(2, 50, name='n_clusters')]\n",
    "@use_named_args(space)\n",
    "def objective(**params):\n",
    "    km_cluster = MiniBatchKMeans(batch_size=100, **params)\n",
    "    n=params['n_clusters']\n",
    "    \n",
    "    result = km_cluster.fit_predict(X_train)\n",
    "    result2 = km_cluster.predict(X_test)\n",
    "\n",
    "    count=0\n",
    "    a=np.zeros(n)\n",
    "    b=np.zeros(n)\n",
    "    for v in range(0,n):\n",
    "        for i in range(0,len(y_train)):\n",
    "            if result[i]==v:\n",
    "                if y_train[i]==1:\n",
    "                    a[v]=a[v]+1\n",
    "                else:\n",
    "                    b[v]=b[v]+1\n",
    "    list1=[]\n",
    "    list2=[]\n",
    "    for v in range(0,n):\n",
    "        if a[v]<=b[v]:\n",
    "            list1.append(v)\n",
    "        else: \n",
    "            list2.append(v)\n",
    "    for v in range(0,len(y_test)):\n",
    "        if result2[v] in list1:\n",
    "            result2[v]=0\n",
    "        elif result2[v] in list2:\n",
    "            result2[v]=1\n",
    "        else:\n",
    "            print(\"-1\")\n",
    "    cm=metrics.accuracy_score(y_test,result2)\n",
    "    print(str(n)+\" \"+str(cm))\n",
    "    return (1-cm)\n",
    "from skopt import gp_minimize\n",
    "import time\n",
    "t1=time.time()\n",
    "res_gp = gp_minimize(objective, space, n_calls=20, random_state=0)\n",
    "t2=time.time()\n",
    "print(t2-t1)\n",
    "print(\"Best score=%.4f\" % (1-res_gp.fun))\n",
    "print(\"\"\"Best parameters: n_clusters=%d\"\"\" % (res_gp.x[0]))"
   ]
  },
  {
   "cell_type": "code",
   "execution_count": null,
   "metadata": {
    "collapsed": false
   },
   "outputs": [
    {
     "name": "stdout",
     "output_type": "stream",
     "text": [
      "23 0.34422310756972113\n",
      "15 0.6685258964143427\n",
      "46 0.450199203187251\n",
      "15 0.4896414342629482\n",
      "29 0.6824701195219124\n",
      "36 0.3888446215139442\n",
      "22 0.35776892430278884\n",
      "25 0.34860557768924305\n",
      "42 0.41832669322709165\n",
      "27 0.47051792828685257\n",
      "26 0.39402390438247015\n",
      "25 0.6824701195219124\n",
      "33 0.3848605577689243\n",
      "19 0.7191235059760956\n",
      "6 0.5824701195219123\n",
      "21 0.6697211155378486\n",
      "24 0.451394422310757\n",
      "37 0.4681274900398406\n",
      "14 0.47250996015936253\n",
      "21 0.8434262948207172\n",
      "100%|███████████████████████████████████████████████| 20/20 [00:06<00:00,  2.87trial/s, best loss: 0.15657370517928282]\n",
      "Random Forest: Hyperopt estimated optimum {'n_clusters': 21.0}\n"
     ]
    }
   ],
   "source": [
    "#Hyperparameter optimization by BO-TPE\n",
    "from hyperopt import hp, fmin, tpe, STATUS_OK, Trials\n",
    "from sklearn.model_selection import cross_val_score, StratifiedKFold\n",
    "from sklearn.cluster import MiniBatchKMeans\n",
    "from sklearn import metrics\n",
    "\n",
    "def objective(params):\n",
    "    params = {\n",
    "        'n_clusters': int(params['n_clusters']), \n",
    "    }\n",
    "    km_cluster = MiniBatchKMeans(batch_size=100, **params)\n",
    "    n=params['n_clusters']\n",
    "    \n",
    "    result = km_cluster.fit_predict(X_train)\n",
    "    result2 = km_cluster.predict(X_test)\n",
    "\n",
    "    count=0\n",
    "    a=np.zeros(n)\n",
    "    b=np.zeros(n)\n",
    "    for v in range(0,n):\n",
    "        for i in range(0,len(y_train)):\n",
    "            if result[i]==v:\n",
    "                if y_train[i]==1:\n",
    "                    a[v]=a[v]+1\n",
    "                else:\n",
    "                    b[v]=b[v]+1\n",
    "    list1=[]\n",
    "    list2=[]\n",
    "    for v in range(0,n):\n",
    "        if a[v]<=b[v]:\n",
    "            list1.append(v)\n",
    "        else: \n",
    "            list2.append(v)\n",
    "    for v in range(0,len(y_test)):\n",
    "        if result2[v] in list1:\n",
    "            result2[v]=0\n",
    "        elif result2[v] in list2:\n",
    "            result2[v]=1\n",
    "        else:\n",
    "            print(\"-1\")\n",
    "    score=metrics.accuracy_score(y_test,result2)\n",
    "    print(str(params['n_clusters'])+\" \"+str(score))\n",
    "    return {'loss':1-score, 'status': STATUS_OK }\n",
    "space = {\n",
    "    'n_clusters': hp.quniform('n_clusters', 2, 50, 1),\n",
    "}\n",
    "\n",
    "best = fmin(fn=objective,\n",
    "            space=space,\n",
    "            algo=tpe.suggest,\n",
    "            max_evals=20)\n",
    "print(\"Random Forest: Hyperopt estimated optimum {}\".format(best))"
   ]
  },
  {
   "cell_type": "code",
   "execution_count": null,
   "metadata": {
    "collapsed": false
   },
   "outputs": [
    {
     "name": "stdout",
     "output_type": "stream",
     "text": [
      "              precision    recall  f1-score   support\n",
      "\n",
      "           0       0.99      0.90      0.94      1255\n",
      "           1       0.91      0.99      0.95      1255\n",
      "\n",
      "    accuracy                           0.95      2510\n",
      "   macro avg       0.95      0.95      0.94      2510\n",
      "weighted avg       0.95      0.95      0.94      2510\n",
      "\n",
      "0.9450199203187251\n",
      "[[1127  128]\n",
      " [  10 1245]]\n"
     ]
    }
   ],
   "source": [
    "CL_kmeans(X_train, X_test, y_train, y_test, 16)"
   ]
  },
  {
   "cell_type": "markdown",
   "metadata": {},
   "source": [
    "### Apply the CL-k-means model with biased classifiers"
   ]
  },
  {
   "cell_type": "code",
   "execution_count": null,
   "metadata": {
    "collapsed": true
   },
   "outputs": [],
   "source": [
    "# needs to work on the entire dataset to generate sufficient training samples for biased classifiers\n",
    "def Anomaly_IDS(X_train, X_test, y_train, y_test,n,b=100):\n",
    "    # CL-kmeans\n",
    "    km_cluster = MiniBatchKMeans(n_clusters=n,batch_size=b)\n",
    "    result = km_cluster.fit_predict(X_train)\n",
    "    result2 = km_cluster.predict(X_test)\n",
    "\n",
    "    count=0\n",
    "    a=np.zeros(n)\n",
    "    b=np.zeros(n)\n",
    "    for v in range(0,n):\n",
    "        for i in range(0,len(y_train)):\n",
    "            if result[i]==v:\n",
    "                if y_train[i]==1:\n",
    "                    a[v]=a[v]+1\n",
    "                else:\n",
    "                    b[v]=b[v]+1\n",
    "    list1=[]\n",
    "    list2=[]\n",
    "    for v in range(0,n):\n",
    "        if a[v]<=b[v]:\n",
    "            list1.append(v)\n",
    "        else: \n",
    "            list2.append(v)\n",
    "    for v in range(0,len(y_test)):\n",
    "        if result2[v] in list1:\n",
    "            result2[v]=0\n",
    "        elif result2[v] in list2:\n",
    "            result2[v]=1\n",
    "        else:\n",
    "            print(\"-1\")\n",
    "    print(classification_report(y_test, result2))\n",
    "    cm=confusion_matrix(y_test,result2)\n",
    "    acc=metrics.accuracy_score(y2,result2)\n",
    "    print(str(acc))\n",
    "    print(cm)\n",
    "    \n",
    "    #Biased classifier construction\n",
    "    count=0\n",
    "    print(len(y))\n",
    "    a=np.zeros(n)\n",
    "    b=np.zeros(n)\n",
    "    FNL=[]\n",
    "    FPL=[]\n",
    "    for v in range(0,n):\n",
    "        al=[]\n",
    "        bl=[]\n",
    "        for i in range(0,len(y)):   \n",
    "            if result[i]==v:        \n",
    "                if y[i]==1:        #label 1\n",
    "                    a[v]=a[v]+1\n",
    "                    al.append(i)\n",
    "                else:             #label 0\n",
    "                    b[v]=b[v]+1\n",
    "                    bl.append(i)\n",
    "        if a[v]<=b[v]:\n",
    "            FNL.extend(al)\n",
    "        else:\n",
    "            FPL.extend(bl)\n",
    "        #print(str(v)+\"=\"+str(a[v]/(a[v]+b[v])))\n",
    "        \n",
    "    dffp=df.iloc[FPL, :]\n",
    "    dffn=df.iloc[FNL, :]\n",
    "    dfva0=df[df['Label']==0]\n",
    "    dfva1=df[df['Label']==1]\n",
    "    \n",
    "    dffpp=dfva1.sample(n=None, frac=len(FPL)/dfva1.shape[0], replace=False, weights=None, random_state=None, axis=0)\n",
    "    dffnp=dfva0.sample(n=None, frac=len(FNL)/dfva0.shape[0], replace=False, weights=None, random_state=None, axis=0)\n",
    "    \n",
    "    dffp_f=pd.concat([dffp, dffpp])\n",
    "    dffn_f=pd.concat([dffn, dffnp])\n",
    "    \n",
    "    Xp = dffp_f.drop(['Label'],axis=1)  \n",
    "    yp = dffp_f.iloc[:, -1].values.reshape(-1,1)\n",
    "    yp=np.ravel(yp)\n",
    "\n",
    "    Xn = dffn_f.drop(['Label'],axis=1)  \n",
    "    yn = dffn_f.iloc[:, -1].values.reshape(-1,1)\n",
    "    yn=np.ravel(yn)\n",
    "    \n",
    "    rfp = RandomForestClassifier(random_state = 0)\n",
    "    rfp.fit(Xp,yp)\n",
    "    rfn = RandomForestClassifier(random_state = 0)\n",
    "    rfn.fit(Xn,yn)\n",
    "\n",
    "    dffnn_f=pd.concat([dffn, dffnp])\n",
    "    \n",
    "    Xnn = dffn_f.drop(['Label'],axis=1)  \n",
    "    ynn = dffn_f.iloc[:, -1].values.reshape(-1,1)\n",
    "    ynn=np.ravel(ynn)\n",
    "\n",
    "    rfnn = RandomForestClassifier(random_state = 0)\n",
    "    rfnn.fit(Xnn,ynn)\n",
    "\n",
    "    X2p = df2.drop(['Label'],axis=1) \n",
    "    y2p = df2.iloc[:, -1].values.reshape(-1,1)\n",
    "    y2p=np.ravel(y2p)\n",
    "\n",
    "    result2 = km_cluster.predict(X2p)\n",
    "\n",
    "    count=0\n",
    "    a=np.zeros(n)\n",
    "    b=np.zeros(n)\n",
    "    for v in range(0,n):\n",
    "        for i in range(0,len(y)):\n",
    "            if result[i]==v:\n",
    "                if y[i]==1:\n",
    "                    a[v]=a[v]+1\n",
    "                else:\n",
    "                    b[v]=b[v]+1\n",
    "    list1=[]\n",
    "    list2=[]\n",
    "    l1=[]\n",
    "    l0=[]\n",
    "    for v in range(0,n):\n",
    "        if a[v]<=b[v]:\n",
    "            list1.append(v)\n",
    "        else: \n",
    "            list2.append(v)\n",
    "    for v in range(0,len(y2p)):\n",
    "        if result2[v] in list1:\n",
    "            result2[v]=0\n",
    "            l0.append(v)\n",
    "        elif result2[v] in list2:\n",
    "            result2[v]=1\n",
    "            l1.append(v)\n",
    "        else:\n",
    "            print(\"-1\")\n",
    "    print(classification_report(y2p, result2))\n",
    "    cm=confusion_matrix(y2p,result2)\n",
    "    print(cm)"
   ]
  },
  {
   "cell_type": "markdown",
   "metadata": {},
   "source": [
    "More details are in the paper"
   ]
  }
 ],
 "metadata": {
  "anaconda-cloud": {},
  "interpreter": {
   "hash": "9af53353804afc09f90d8f022eaec6e99fffff96cfdda280d845f608b681a8ce"
  },
  "kernelspec": {
   "display_name": "Python 3.10.2 64-bit",
   "language": "python",
   "name": "python3"
  },
  "language_info": {
   "codemirror_mode": {
    "name": "ipython",
    "version": 3
   },
   "file_extension": ".py",
   "mimetype": "text/x-python",
   "name": "python",
   "nbconvert_exporter": "python",
   "pygments_lexer": "ipython3",
   "version": "3.10.2"
  }
 },
 "nbformat": 4,
 "nbformat_minor": 2
}
