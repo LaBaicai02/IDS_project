{
 "cells": [
  {
   "cell_type": "markdown",
   "metadata": {},
   "source": [
    "# A Transfer Learning and Optimized CNN Based Intrusion Detection System for Internet of Vehicles \n",
    "This is the code for the paper entitled \"**A Transfer Learning and Optimized CNN Based Intrusion Detection System for Internet of Vehicles**\" accepted in IEEE International Conference on Communications (IEEE ICC).  \n",
    "Authors: Li Yang (lyang339@uwo.ca) and Abdallah Shami (Abdallah.Shami@uwo.ca)  \n",
    "Organization: The Optimized Computing and Communications (OC2) Lab, ECE Department, Western University\n",
    "\n",
    "**Notebook 2: CNN Model Development**  \n",
    "Aims:  \n",
    "&nbsp; 1): Generate training and test images  \n",
    "&nbsp; 2): Construct CNN models (a CNN model by own, Xception, VGG16, VGG19, Resnet, Inception, InceptionResnet)  \n",
    "&nbsp; 3): Tune the hyperparameters of CNN models (hyperparameter optimization)  "
   ]
  },
  {
   "cell_type": "markdown",
   "metadata": {},
   "source": [
    "## Import libraries"
   ]
  },
  {
   "cell_type": "code",
   "execution_count": 1,
   "metadata": {
    "scrolled": true
   },
   "outputs": [
    {
     "name": "stderr",
     "output_type": "stream",
     "text": [
      "2022-07-29 08:44:57.007601: I tensorflow/stream_executor/platform/default/dso_loader.cc:53] Successfully opened dynamic library libcudart.so.11.0\n"
     ]
    }
   ],
   "source": [
    "import os\n",
    "from tensorflow.keras.preprocessing.image import  ImageDataGenerator\n",
    "from tensorflow.keras.layers import Dense,Flatten,GlobalAveragePooling2D,Input,Conv2D,MaxPooling2D,Dropout\n",
    "from tensorflow.keras.models import Model,load_model,Sequential\n",
    "from tensorflow.keras.applications.xception import  Xception\n",
    "from tensorflow.keras.applications.vgg16 import VGG16\n",
    "from tensorflow.keras.applications.vgg19 import VGG19\n",
    "from tensorflow.keras.applications.resnet50 import  ResNet50\n",
    "from tensorflow.keras.applications.inception_v3 import InceptionV3\n",
    "from tensorflow.keras.applications.inception_resnet_v2 import InceptionResNetV2\n",
    "from tensorflow.keras.applications.mobilenet import MobileNet\n",
    "import tensorflow.keras.callbacks as kcallbacks\n",
    "import tensorflow.keras as keras\n",
    "from tensorflow.keras.preprocessing.image import load_img,img_to_array\n",
    "import math\n",
    "import random\n",
    "from tensorflow.keras.utils import plot_model\n",
    "import matplotlib.pyplot as plt\n",
    "import sklearn.metrics as metrics\n",
    "import numpy as np\n",
    "from PIL import Image\n",
    "import sklearn.metrics as metrics\n",
    "from sklearn.metrics import accuracy_score,precision_score,recall_score,f1_score"
   ]
  },
  {
   "cell_type": "markdown",
   "metadata": {},
   "source": [
    "## Generate Training and Test Images"
   ]
  },
  {
   "cell_type": "code",
   "execution_count": 2,
   "metadata": {},
   "outputs": [
    {
     "name": "stdout",
     "output_type": "stream",
     "text": [
      "Found 2076 images belonging to 5 classes.\n",
      "Found 518 images belonging to 5 classes.\n"
     ]
    }
   ],
   "source": [
    "#generate training and test images\n",
    "TARGET_SIZE=(224,224)\n",
    "INPUT_SIZE=(224,224,3)\n",
    "BATCHSIZE=128\t#could try 128 or 32\n",
    "\n",
    "#Normalization\n",
    "train_datagen = ImageDataGenerator(rescale=1./255)\n",
    "\n",
    "test_datagen = ImageDataGenerator(rescale=1./255)\n",
    "\n",
    "train_generator = train_datagen.flow_from_directory(\n",
    "        './train_224/',\n",
    "        target_size=TARGET_SIZE,\n",
    "        batch_size=BATCHSIZE,\n",
    "        class_mode='categorical')\n",
    "validation_generator = test_datagen.flow_from_directory(\n",
    "        './test_224/',\n",
    "        target_size=TARGET_SIZE,\n",
    "        batch_size=BATCHSIZE,\n",
    "        class_mode='categorical')"
   ]
  },
  {
   "cell_type": "markdown",
   "metadata": {},
   "source": [
    "### Define the image plotting functions"
   ]
  },
  {
   "cell_type": "code",
   "execution_count": 3,
   "metadata": {},
   "outputs": [],
   "source": [
    "import pandas as pd\n",
    "import time\n",
    "output_df = pd.DataFrame(columns=['Loss','Accuracy',  'Val-Loss', 'Val-Accuracy', 'Time'])\n",
    "output_index = list()\n",
    "timelist=list()"
   ]
  },
  {
   "cell_type": "code",
   "execution_count": 4,
   "metadata": {},
   "outputs": [],
   "source": [
    "#plot the figures\n",
    "class LossHistory(keras.callbacks.Callback):\n",
    "    def __init__(self, model_name):\n",
    "        self.model_name=model_name\n",
    "    def on_train_begin(self, logs={}):\n",
    "        \n",
    "        self.losses = {'batch':[], 'epoch':[]}\n",
    "        self.accuracy = {'batch':[], 'epoch':[]}\n",
    "        self.val_loss = {'batch':[], 'epoch':[]}\n",
    "        self.val_acc = {'batch':[], 'epoch':[]}\n",
    "    def on_batch_end(self, batch, logs={}):\n",
    "        self.losses['batch'].append(logs.get('loss'))\n",
    "        self.accuracy['batch'].append(logs.get('accuracy'))\n",
    "        self.val_loss['batch'].append(logs.get('val_loss'))\n",
    "        self.val_acc['batch'].append(logs.get('val_accuracy'))\n",
    "    def on_epoch_end(self, batch, logs={}):\n",
    "        self.losses['epoch'].append(logs.get('loss'))\n",
    "        self.accuracy['epoch'].append(logs.get('accuracy'))\n",
    "        self.val_loss['epoch'].append(logs.get('val_loss'))\n",
    "        self.val_acc['epoch'].append(logs.get('val_accuracy'))\n",
    "    \n",
    "    #把数据存入df中\n",
    "    def on_train_end(self, logs={}):\n",
    "        global output_df\n",
    "        global output_index\n",
    "        idx=0\n",
    "        maxValue=0\n",
    "       \n",
    "        for i in range(len(self.val_acc['epoch'])):\n",
    "            if self.val_acc['epoch'][i]>maxValue :\n",
    "                maxValue=self.val_acc['epoch'][i]\n",
    "                idx=i\n",
    "        \n",
    "        result_dict={\n",
    "            'Loss': self.losses['epoch'][idx],\n",
    "            'Accuracy':self.accuracy['epoch'][idx],\n",
    "            'Val-Loss':self.val_loss['epoch'][idx],\n",
    "            'Val-Accuracy':self.val_acc['epoch'][idx],\n",
    "        }\n",
    "        output_df=output_df.append(result_dict,ignore_index=True)\n",
    "        output_index.append(self.model_name)    \n",
    "    def loss_plot(self, loss_type): \n",
    "        iters = range(len(self.losses[loss_type]))\n",
    "        plt.figure()\n",
    "        plt.plot(iters, self.losses[loss_type], 'g', label='train loss')\n",
    "        if loss_type == 'epoch':\n",
    "            # acc\n",
    "            plt.plot(iters, self.accuracy[loss_type], 'r', label='train acc')\n",
    "            # loss\n",
    "            plt.plot(iters, self.losses[loss_type], 'g', label='train loss')\n",
    "            # val_acc\n",
    "            plt.plot(iters, self.val_acc[loss_type], 'b', label='val acc')\n",
    "            # val_loss\n",
    "            plt.plot(iters, self.val_loss[loss_type], 'k', label='val loss')\n",
    "        plt.grid(True)\n",
    "        plt.xlabel(loss_type)\n",
    "        plt.ylabel('acc-loss')\n",
    "        plt.legend(loc=\"upper right\")\n",
    "        plt.show()"
   ]
  },
  {
   "cell_type": "code",
   "execution_count": 5,
   "metadata": {},
   "outputs": [],
   "source": [
    "history_CNN= LossHistory(\"CNN\")\n",
    "history_Xception= LossHistory(\"Xception\")\n",
    "history_Inception= LossHistory(\"Inception\")\n",
    "history_VGG19= LossHistory(\"VGG19\")\n",
    "history_Resnet= LossHistory(\"Resnet\")\n",
    "history_InceptionResnet= LossHistory(\"InceptionResnet\")\n",
    "history_VGG16= LossHistory(\"VGG16\")\n"
   ]
  },
  {
   "cell_type": "markdown",
   "metadata": {},
   "source": [
    "# Construct CNN models"
   ]
  },
  {
   "cell_type": "markdown",
   "metadata": {},
   "source": [
    "### Model 1: a CNN model by own (baseline)"
   ]
  },
  {
   "cell_type": "code",
   "execution_count": 6,
   "metadata": {},
   "outputs": [],
   "source": [
    "def cnn_by_own(input_shape,num_class,epochs,savepath='./model_own.h5'):\n",
    "    model = Sequential()\n",
    "    model.add(Conv2D(64,(3,3),strides=(1,1),input_shape=input_shape,padding='same',activation='relu',kernel_initializer='glorot_uniform'))\n",
    "    model.add(Conv2D(64,(3,3),strides=(1,1),padding='same',activation='relu',kernel_initializer='glorot_uniform'))\n",
    "    model.add(MaxPooling2D(pool_size=(2,2)))\n",
    "    model.add(Conv2D(128,(3,3),strides=(1,1),padding='same',activation='relu',kernel_initializer='glorot_uniform'))\n",
    "    model.add(Conv2D(128,(3,3),strides=(1,1),padding='same',activation='relu',kernel_initializer='glorot_uniform'))\n",
    "    model.add(MaxPooling2D(pool_size=(2,2)))\n",
    "    model.add(Conv2D(256,(3,3),strides=(1,1),padding='same',activation='relu',kernel_initializer='glorot_uniform'))\n",
    "    model.add(Conv2D(256,(3,3),strides=(1,1),padding='same',activation='relu',kernel_initializer='glorot_uniform'))\n",
    "    model.add(Conv2D(256,(3,3),strides=(1,1),padding='same',activation='relu',kernel_initializer='glorot_uniform'))\n",
    "    model.add(GlobalAveragePooling2D())\n",
    "    model.add(Dense(256,activation='relu'))\n",
    "    model.add(Dropout(rate=0.5))\n",
    "    model.add(Dense(num_class,activation='softmax'))\n",
    "    model.compile(loss='categorical_crossentropy',optimizer='adam',metrics=['accuracy'])\n",
    "    #train model\n",
    "    earlyStopping=kcallbacks.EarlyStopping(monitor='val_accuracy', patience=2, verbose=1, mode='auto')\n",
    "    saveBestModel = kcallbacks.ModelCheckpoint(filepath=savepath, monitor='val_accuracy', verbose=1, save_best_only=True, mode='auto')\n",
    "    hist=model.fit_generator(\n",
    "        train_generator,\n",
    "        steps_per_epoch=len(train_generator),\n",
    "        epochs=epochs,\n",
    "        validation_data=validation_generator,\n",
    "        validation_steps=len(validation_generator),\n",
    "        callbacks=[earlyStopping,saveBestModel,history_CNN],\n",
    "    )\n",
    "    "
   ]
  },
  {
   "cell_type": "code",
   "execution_count": 7,
   "metadata": {
    "scrolled": true
   },
   "outputs": [
    {
     "name": "stderr",
     "output_type": "stream",
     "text": [
      "2022-07-29 08:45:00.190193: I tensorflow/stream_executor/platform/default/dso_loader.cc:53] Successfully opened dynamic library libcuda.so.1\n",
      "2022-07-29 08:45:00.238404: I tensorflow/core/common_runtime/gpu/gpu_device.cc:1733] Found device 0 with properties: \n",
      "pciBusID: 0000:ce:00.0 name: NVIDIA GeForce RTX 3090 computeCapability: 8.6\n",
      "coreClock: 1.695GHz coreCount: 82 deviceMemorySize: 23.70GiB deviceMemoryBandwidth: 871.81GiB/s\n",
      "2022-07-29 08:45:00.238450: I tensorflow/stream_executor/platform/default/dso_loader.cc:53] Successfully opened dynamic library libcudart.so.11.0\n",
      "2022-07-29 08:45:00.245688: I tensorflow/stream_executor/platform/default/dso_loader.cc:53] Successfully opened dynamic library libcublas.so.11\n",
      "2022-07-29 08:45:00.245834: I tensorflow/stream_executor/platform/default/dso_loader.cc:53] Successfully opened dynamic library libcublasLt.so.11\n",
      "2022-07-29 08:45:00.247190: I tensorflow/stream_executor/platform/default/dso_loader.cc:53] Successfully opened dynamic library libcufft.so.10\n",
      "2022-07-29 08:45:00.248041: I tensorflow/stream_executor/platform/default/dso_loader.cc:53] Successfully opened dynamic library libcurand.so.10\n",
      "2022-07-29 08:45:00.249413: I tensorflow/stream_executor/platform/default/dso_loader.cc:53] Successfully opened dynamic library libcusolver.so.11\n",
      "2022-07-29 08:45:00.250531: I tensorflow/stream_executor/platform/default/dso_loader.cc:53] Successfully opened dynamic library libcusparse.so.11\n",
      "2022-07-29 08:45:00.250736: I tensorflow/stream_executor/platform/default/dso_loader.cc:53] Successfully opened dynamic library libcudnn.so.8\n",
      "2022-07-29 08:45:00.252400: I tensorflow/core/common_runtime/gpu/gpu_device.cc:1871] Adding visible gpu devices: 0\n",
      "2022-07-29 08:45:00.253192: I tensorflow/core/platform/cpu_feature_guard.cc:142] This TensorFlow binary is optimized with oneAPI Deep Neural Network Library (oneDNN) to use the following CPU instructions in performance-critical operations:  AVX2 AVX512F FMA\n",
      "To enable them in other operations, rebuild TensorFlow with the appropriate compiler flags.\n",
      "2022-07-29 08:45:00.259655: I tensorflow/core/common_runtime/gpu/gpu_device.cc:1733] Found device 0 with properties: \n",
      "pciBusID: 0000:ce:00.0 name: NVIDIA GeForce RTX 3090 computeCapability: 8.6\n",
      "coreClock: 1.695GHz coreCount: 82 deviceMemorySize: 23.70GiB deviceMemoryBandwidth: 871.81GiB/s\n",
      "2022-07-29 08:45:00.261159: I tensorflow/core/common_runtime/gpu/gpu_device.cc:1871] Adding visible gpu devices: 0\n",
      "2022-07-29 08:45:00.261217: I tensorflow/stream_executor/platform/default/dso_loader.cc:53] Successfully opened dynamic library libcudart.so.11.0\n",
      "2022-07-29 08:45:01.014368: I tensorflow/core/common_runtime/gpu/gpu_device.cc:1258] Device interconnect StreamExecutor with strength 1 edge matrix:\n",
      "2022-07-29 08:45:01.014403: I tensorflow/core/common_runtime/gpu/gpu_device.cc:1264]      0 \n",
      "2022-07-29 08:45:01.014412: I tensorflow/core/common_runtime/gpu/gpu_device.cc:1277] 0:   N \n",
      "2022-07-29 08:45:01.017690: I tensorflow/core/common_runtime/gpu/gpu_device.cc:1418] Created TensorFlow device (/job:localhost/replica:0/task:0/device:GPU:0 with 22318 MB memory) -> physical GPU (device: 0, name: NVIDIA GeForce RTX 3090, pci bus id: 0000:ce:00.0, compute capability: 8.6)\n",
      "/root/miniconda3/lib/python3.8/site-packages/tensorflow/python/keras/engine/training.py:1940: UserWarning: `Model.fit_generator` is deprecated and will be removed in a future version. Please use `Model.fit`, which supports generators.\n",
      "  warnings.warn('`Model.fit_generator` is deprecated and '\n",
      "2022-07-29 08:45:02.273816: I tensorflow/compiler/mlir/mlir_graph_optimization_pass.cc:176] None of the MLIR Optimization Passes are enabled (registered 2)\n",
      "2022-07-29 08:45:02.275896: I tensorflow/core/platform/profile_utils/cpu_utils.cc:114] CPU Frequency: 2000000000 Hz\n"
     ]
    },
    {
     "name": "stdout",
     "output_type": "stream",
     "text": [
      "Epoch 1/20\n"
     ]
    },
    {
     "name": "stderr",
     "output_type": "stream",
     "text": [
      "2022-07-29 08:45:03.864608: I tensorflow/stream_executor/platform/default/dso_loader.cc:53] Successfully opened dynamic library libcudnn.so.8\n",
      "2022-07-29 08:45:04.713278: I tensorflow/stream_executor/cuda/cuda_dnn.cc:359] Loaded cuDNN version 8101\n",
      "2022-07-29 08:45:05.885547: I tensorflow/stream_executor/platform/default/dso_loader.cc:53] Successfully opened dynamic library libcublas.so.11\n",
      "2022-07-29 08:45:06.602253: I tensorflow/stream_executor/platform/default/dso_loader.cc:53] Successfully opened dynamic library libcublasLt.so.11\n",
      "2022-07-29 08:45:09.298118: I tensorflow/stream_executor/cuda/cuda_blas.cc:1838] TensorFloat-32 will be used for the matrix multiplication. This will only be logged once.\n"
     ]
    },
    {
     "name": "stdout",
     "output_type": "stream",
     "text": [
      "17/17 [==============================] - 30s 1s/step - loss: 1.3813 - accuracy: 0.6349 - val_loss: 1.0664 - val_accuracy: 0.6834\n",
      "\n",
      "Epoch 00001: val_accuracy improved from -inf to 0.68340, saving model to ./model_own.h5\n",
      "Epoch 2/20\n",
      "17/17 [==============================] - 18s 1s/step - loss: 1.1069 - accuracy: 0.6599 - val_loss: 0.9659 - val_accuracy: 0.6834\n",
      "\n",
      "Epoch 00002: val_accuracy did not improve from 0.68340\n",
      "Epoch 3/20\n",
      "17/17 [==============================] - 18s 1s/step - loss: 0.9854 - accuracy: 0.6599 - val_loss: 0.7934 - val_accuracy: 0.6834\n",
      "\n",
      "Epoch 00003: val_accuracy did not improve from 0.68340\n",
      "Epoch 00003: early stopping\n"
     ]
    },
    {
     "name": "stderr",
     "output_type": "stream",
     "text": [
      "/tmp/ipykernel_326/422981087.py:40: FutureWarning: The frame.append method is deprecated and will be removed from pandas in a future version. Use pandas.concat instead.\n",
      "  output_df=output_df.append(result_dict,ignore_index=True)\n"
     ]
    }
   ],
   "source": [
    "\n",
    "start_time=time.time()\n",
    "cnn_by_own(input_shape=INPUT_SIZE,num_class=5,epochs=20)\n",
    "end_time=time.time()\n",
    "timelist.append(end_time-start_time)\n"
   ]
  },
  {
   "cell_type": "markdown",
   "metadata": {},
   "source": [
    "Validation accuracy of a CNN by own: 99.884%"
   ]
  },
  {
   "cell_type": "markdown",
   "metadata": {},
   "source": [
    "### Model 2: Xception"
   ]
  },
  {
   "cell_type": "code",
   "execution_count": 8,
   "metadata": {},
   "outputs": [],
   "source": [
    "def xception( num_class, epochs,savepath='./xception.h5',history=history_Xception,input_shape=INPUT_SIZE):\n",
    "    model_fine_tune = Xception(include_top=False, weights='imagenet', input_shape=input_shape)\n",
    "    for layer in model_fine_tune.layers[:131]:\t\t#could be tuned to be 50, 100, or 131\n",
    "        layer.trainable = False\n",
    "    for layer in model_fine_tune.layers[131:]:\n",
    "        layer.trainable = True\n",
    "    model = GlobalAveragePooling2D()(model_fine_tune.output)\n",
    "    model=Dense(units=256,activation='relu')(model)\n",
    "    model=Dropout(0.5)(model)\n",
    "    model = Dense(num_class, activation='softmax')(model)\n",
    "    model = Model(model_fine_tune.input, model, name='xception')\n",
    "    opt = keras.optimizers.Adam(lr=0.001, beta_1=0.9, beta_2=0.999, epsilon=1e-08)\n",
    "    model.compile(loss='categorical_crossentropy', optimizer=opt, metrics=['accuracy'])\n",
    "    #train model\n",
    "    earlyStopping = kcallbacks.EarlyStopping(\n",
    "        monitor='val_accuracy', patience=3, verbose=1, mode='auto')\t#patience could be tuned by 2 and 3\n",
    "    saveBestModel = kcallbacks.ModelCheckpoint(\n",
    "        filepath=savepath,\n",
    "        monitor='val_accuracy',\n",
    "        verbose=1,\n",
    "        save_best_only=True,\n",
    "        mode='auto')\n",
    "    hist = model.fit(\n",
    "        train_generator,\n",
    "        steps_per_epoch=len(train_generator),\n",
    "        epochs=epochs,\n",
    "        validation_data=validation_generator,\n",
    "        validation_steps=len(validation_generator),\n",
    "        #use_multiprocessing=True, \n",
    "        callbacks=[earlyStopping, saveBestModel, history],\n",
    "    )\n"
   ]
  },
  {
   "cell_type": "code",
   "execution_count": 9,
   "metadata": {
    "scrolled": true
   },
   "outputs": [
    {
     "name": "stdout",
     "output_type": "stream",
     "text": [
      "A local file was found, but it seems to be incomplete or outdated because the auto file hash does not match the original value of b0042744bf5b25fce3cb969f33bebb97 so we will re-download the data.\n",
      "Downloading data from https://storage.googleapis.com/tensorflow/keras-applications/xception/xception_weights_tf_dim_ordering_tf_kernels_notop.h5\n",
      "83689472/83683744 [==============================] - 2s 0us/step\n"
     ]
    },
    {
     "name": "stderr",
     "output_type": "stream",
     "text": [
      "/root/miniconda3/lib/python3.8/site-packages/tensorflow/python/keras/optimizer_v2/optimizer_v2.py:374: UserWarning: The `lr` argument is deprecated, use `learning_rate` instead.\n",
      "  warnings.warn(\n"
     ]
    },
    {
     "name": "stdout",
     "output_type": "stream",
     "text": [
      "Epoch 1/20\n",
      "17/17 [==============================] - 23s 1s/step - loss: 0.5765 - accuracy: 0.7914 - val_loss: 0.1309 - val_accuracy: 0.9691\n",
      "\n",
      "Epoch 00001: val_accuracy improved from -inf to 0.96911, saving model to ./xception.h5\n"
     ]
    },
    {
     "name": "stderr",
     "output_type": "stream",
     "text": [
      "/root/miniconda3/lib/python3.8/site-packages/tensorflow/python/keras/utils/generic_utils.py:494: CustomMaskWarning: Custom mask layers require a config and must override get_config. When loading, the custom mask layer must be passed to the custom_objects argument.\n",
      "  warnings.warn('Custom mask layers require a config and must override '\n"
     ]
    },
    {
     "name": "stdout",
     "output_type": "stream",
     "text": [
      "Epoch 2/20\n",
      "17/17 [==============================] - 17s 975ms/step - loss: 0.1271 - accuracy: 0.9725 - val_loss: 0.0460 - val_accuracy: 0.9942\n",
      "\n",
      "Epoch 00002: val_accuracy improved from 0.96911 to 0.99421, saving model to ./xception.h5\n",
      "Epoch 3/20\n",
      "17/17 [==============================] - 18s 1s/step - loss: 0.0590 - accuracy: 0.9933 - val_loss: 0.0266 - val_accuracy: 0.9981\n",
      "\n",
      "Epoch 00003: val_accuracy improved from 0.99421 to 0.99807, saving model to ./xception.h5\n",
      "Epoch 4/20\n",
      "17/17 [==============================] - 18s 1s/step - loss: 0.0328 - accuracy: 0.9966 - val_loss: 0.0176 - val_accuracy: 0.9981\n",
      "\n",
      "Epoch 00004: val_accuracy did not improve from 0.99807\n",
      "Epoch 5/20\n",
      "17/17 [==============================] - 19s 1s/step - loss: 0.0255 - accuracy: 0.9990 - val_loss: 0.0131 - val_accuracy: 1.0000\n",
      "\n",
      "Epoch 00005: val_accuracy improved from 0.99807 to 1.00000, saving model to ./xception.h5\n",
      "Epoch 6/20\n",
      "17/17 [==============================] - 19s 1s/step - loss: 0.0196 - accuracy: 0.9990 - val_loss: 0.0114 - val_accuracy: 1.0000\n",
      "\n",
      "Epoch 00006: val_accuracy did not improve from 1.00000\n",
      "Epoch 7/20\n",
      "17/17 [==============================] - 18s 1s/step - loss: 0.0164 - accuracy: 0.9981 - val_loss: 0.0086 - val_accuracy: 1.0000\n",
      "\n",
      "Epoch 00007: val_accuracy did not improve from 1.00000\n",
      "Epoch 8/20\n",
      "17/17 [==============================] - 17s 1s/step - loss: 0.0130 - accuracy: 1.0000 - val_loss: 0.0099 - val_accuracy: 0.9981\n",
      "\n",
      "Epoch 00008: val_accuracy did not improve from 1.00000\n",
      "Epoch 00008: early stopping\n"
     ]
    },
    {
     "name": "stderr",
     "output_type": "stream",
     "text": [
      "/tmp/ipykernel_326/422981087.py:40: FutureWarning: The frame.append method is deprecated and will be removed from pandas in a future version. Use pandas.concat instead.\n",
      "  output_df=output_df.append(result_dict,ignore_index=True)\n"
     ]
    }
   ],
   "source": [
    "#default only 50, tf36cnn 99\n",
    "start_time=time.time()\n",
    "xception(num_class=5,epochs=20)\n",
    "end_time=time.time()\n",
    "timelist.append(end_time-start_time)\n",
    "\n",
    "# Insufficient Video Memory 显存不足"
   ]
  },
  {
   "cell_type": "markdown",
   "metadata": {},
   "source": [
    "Validation accuracy of Xception: 100.0%"
   ]
  },
  {
   "cell_type": "markdown",
   "metadata": {},
   "source": [
    "### Model 3: VGG16"
   ]
  },
  {
   "cell_type": "code",
   "execution_count": 10,
   "metadata": {},
   "outputs": [],
   "source": [
    "def vgg16( num_class, epochs,savepath='./VGG16.h5',history=history_VGG16,input_shape=INPUT_SIZE):\n",
    "    model_fine_tune = VGG16(include_top=False, weights='imagenet', input_shape=input_shape)\n",
    "    for layer in model_fine_tune.layers[:15]:\t#the number of frozen layers for transfer learning, have tuned from 5-18\n",
    "        layer.trainable = False\n",
    "    for layer in model_fine_tune.layers[15:]:\n",
    "        layer.trainable = True\n",
    "    model = GlobalAveragePooling2D()(model_fine_tune.output) #GlobalAveragePooling2D layer to convert the features to a single 1280-element vector per image\n",
    "    model=Dense(units=256,activation='relu')(model)\n",
    "    model=Dropout(0.5)(model)\n",
    "    model = Dense(num_class, activation='softmax')(model)\n",
    "    model = Model(model_fine_tune.input, model, name='vgg')\n",
    "    opt = keras.optimizers.Adam(lr=0.001, beta_1=0.9, beta_2=0.999, epsilon=1e-08)\t#tuned learning rate to be 0.001\n",
    "    model.compile(loss='categorical_crossentropy', optimizer=opt, metrics=['accuracy'])\t#set the loss function to be binary crossentropy\n",
    "    #train model\n",
    "    earlyStopping = kcallbacks.EarlyStopping(\n",
    "        monitor='val_accuracy', patience=2, verbose=1, mode='auto')\t#set early stop patience to save training time\n",
    "    saveBestModel = kcallbacks.ModelCheckpoint(\n",
    "        filepath=savepath,\n",
    "        monitor='val_accuracy',\n",
    "        verbose=1,\n",
    "        save_best_only=True,\n",
    "        mode='auto')\n",
    "    hist = model.fit_generator(\n",
    "        train_generator,\n",
    "        steps_per_epoch=len(train_generator),\n",
    "        epochs=epochs,\n",
    "        validation_data=validation_generator,\n",
    "        validation_steps=len(validation_generator),\n",
    "        #use_multiprocessing=True, \n",
    "        #workers=2,\n",
    "        callbacks=[earlyStopping, saveBestModel, history],\n",
    "    )\n"
   ]
  },
  {
   "cell_type": "code",
   "execution_count": 11,
   "metadata": {
    "scrolled": true
   },
   "outputs": [
    {
     "name": "stdout",
     "output_type": "stream",
     "text": [
      "Downloading data from https://storage.googleapis.com/tensorflow/keras-applications/vgg16/vgg16_weights_tf_dim_ordering_tf_kernels_notop.h5\n",
      "58892288/58889256 [==============================] - 1s 0us/step\n"
     ]
    },
    {
     "name": "stderr",
     "output_type": "stream",
     "text": [
      "/root/miniconda3/lib/python3.8/site-packages/tensorflow/python/keras/optimizer_v2/optimizer_v2.py:374: UserWarning: The `lr` argument is deprecated, use `learning_rate` instead.\n",
      "  warnings.warn(\n",
      "/root/miniconda3/lib/python3.8/site-packages/tensorflow/python/keras/engine/training.py:1940: UserWarning: `Model.fit_generator` is deprecated and will be removed in a future version. Please use `Model.fit`, which supports generators.\n",
      "  warnings.warn('`Model.fit_generator` is deprecated and '\n"
     ]
    },
    {
     "name": "stdout",
     "output_type": "stream",
     "text": [
      "Epoch 1/20\n",
      "17/17 [==============================] - 21s 1s/step - loss: 1.2882 - accuracy: 0.6671 - val_loss: 0.5469 - val_accuracy: 0.7876\n",
      "\n",
      "Epoch 00001: val_accuracy improved from -inf to 0.78764, saving model to ./VGG16.h5\n",
      "Epoch 2/20\n",
      "17/17 [==============================] - 19s 1s/step - loss: 0.4118 - accuracy: 0.8295 - val_loss: 0.2313 - val_accuracy: 0.9131\n",
      "\n",
      "Epoch 00002: val_accuracy improved from 0.78764 to 0.91313, saving model to ./VGG16.h5\n",
      "Epoch 3/20\n",
      "17/17 [==============================] - 19s 1s/step - loss: 0.2439 - accuracy: 0.8984 - val_loss: 0.1532 - val_accuracy: 0.9363\n",
      "\n",
      "Epoch 00003: val_accuracy improved from 0.91313 to 0.93629, saving model to ./VGG16.h5\n",
      "Epoch 4/20\n",
      "17/17 [==============================] - 18s 1s/step - loss: 0.1359 - accuracy: 0.9403 - val_loss: 0.0533 - val_accuracy: 0.9903\n",
      "\n",
      "Epoch 00004: val_accuracy improved from 0.93629 to 0.99035, saving model to ./VGG16.h5\n",
      "Epoch 5/20\n",
      "17/17 [==============================] - 18s 1s/step - loss: 0.0686 - accuracy: 0.9759 - val_loss: 0.0280 - val_accuracy: 0.9961\n",
      "\n",
      "Epoch 00005: val_accuracy improved from 0.99035 to 0.99614, saving model to ./VGG16.h5\n",
      "Epoch 6/20\n",
      "17/17 [==============================] - 19s 1s/step - loss: 0.0212 - accuracy: 0.9952 - val_loss: 7.9083e-04 - val_accuracy: 1.0000\n",
      "\n",
      "Epoch 00006: val_accuracy improved from 0.99614 to 1.00000, saving model to ./VGG16.h5\n",
      "Epoch 7/20\n",
      "17/17 [==============================] - 17s 1s/step - loss: 0.0019 - accuracy: 1.0000 - val_loss: 1.6599e-04 - val_accuracy: 1.0000\n",
      "\n",
      "Epoch 00007: val_accuracy did not improve from 1.00000\n",
      "Epoch 8/20\n",
      "17/17 [==============================] - 18s 1s/step - loss: 4.1031e-04 - accuracy: 1.0000 - val_loss: 2.2454e-04 - val_accuracy: 1.0000\n",
      "\n",
      "Epoch 00008: val_accuracy did not improve from 1.00000\n",
      "Epoch 00008: early stopping\n"
     ]
    },
    {
     "name": "stderr",
     "output_type": "stream",
     "text": [
      "/tmp/ipykernel_326/422981087.py:40: FutureWarning: The frame.append method is deprecated and will be removed from pandas in a future version. Use pandas.concat instead.\n",
      "  output_df=output_df.append(result_dict,ignore_index=True)\n"
     ]
    }
   ],
   "source": [
    "start_time=time.time()\n",
    "vgg16(num_class=5,epochs=20)\t#tf36cnn\n",
    "end_time=time.time()\n",
    "timelist.append(end_time-start_time)\n",
    "# Insufficient Video Memory 显存不足"
   ]
  },
  {
   "cell_type": "markdown",
   "metadata": {},
   "source": [
    "Validation accuracy of VGG16: 100.0%"
   ]
  },
  {
   "cell_type": "markdown",
   "metadata": {},
   "source": [
    "### Model 4: VGG19"
   ]
  },
  {
   "cell_type": "code",
   "execution_count": 12,
   "metadata": {},
   "outputs": [],
   "source": [
    "def vgg19( num_class, epochs,savepath='./VGG19.h5',history=history_VGG19,input_shape=INPUT_SIZE):\n",
    "    model_fine_tune = VGG19(include_top=False, weights='imagenet', input_shape=input_shape)\n",
    "    for layer in model_fine_tune.layers[:19]:\t#the number of frozen layers for transfer learning, have tuned from 5-18\n",
    "        layer.trainable = False\n",
    "    for layer in model_fine_tune.layers[19:]:\n",
    "        layer.trainable = True\n",
    "    model = GlobalAveragePooling2D()(model_fine_tune.output)\n",
    "    model=Dense(units=256,activation='relu')(model)\n",
    "    model=Dropout(0.5)(model)\n",
    "    model = Dense(num_class, activation='softmax')(model)\n",
    "    model = Model(model_fine_tune.input, model, name='vgg')\n",
    "    opt = keras.optimizers.Adam(lr=0.001, beta_1=0.9, beta_2=0.999, epsilon=1e-08)\t#tuned learning rate to be 0.001\n",
    "    model.compile(loss='categorical_crossentropy', optimizer=opt, metrics=['accuracy'])\t#set the loss function to be binary crossentropy\n",
    "    #train model\n",
    "    earlyStopping = kcallbacks.EarlyStopping(\n",
    "        monitor='val_accuracy', patience=2, verbose=1, mode='auto')\t#set early stop patience to save training time\n",
    "    saveBestModel = kcallbacks.ModelCheckpoint(\n",
    "        filepath=savepath,\n",
    "        monitor='val_accuracy',\n",
    "        verbose=1,\n",
    "        save_best_only=True,\n",
    "        mode='auto')\n",
    "    hist = model.fit_generator(\n",
    "        train_generator,\n",
    "        steps_per_epoch=len(train_generator),\n",
    "        epochs=epochs,\n",
    "        validation_data=validation_generator,\n",
    "        validation_steps=len(validation_generator),\n",
    "        #use_multiprocessing=True, \n",
    "        #workers=2,\n",
    "        callbacks=[earlyStopping, saveBestModel, history],\n",
    "    )\n"
   ]
  },
  {
   "cell_type": "code",
   "execution_count": 13,
   "metadata": {
    "scrolled": true
   },
   "outputs": [
    {
     "name": "stdout",
     "output_type": "stream",
     "text": [
      "Downloading data from https://storage.googleapis.com/tensorflow/keras-applications/vgg19/vgg19_weights_tf_dim_ordering_tf_kernels_notop.h5\n",
      "80142336/80134624 [==============================] - 2s 0us/step\n"
     ]
    },
    {
     "name": "stderr",
     "output_type": "stream",
     "text": [
      "/root/miniconda3/lib/python3.8/site-packages/tensorflow/python/keras/optimizer_v2/optimizer_v2.py:374: UserWarning: The `lr` argument is deprecated, use `learning_rate` instead.\n",
      "  warnings.warn(\n",
      "/root/miniconda3/lib/python3.8/site-packages/tensorflow/python/keras/engine/training.py:1940: UserWarning: `Model.fit_generator` is deprecated and will be removed in a future version. Please use `Model.fit`, which supports generators.\n",
      "  warnings.warn('`Model.fit_generator` is deprecated and '\n"
     ]
    },
    {
     "name": "stdout",
     "output_type": "stream",
     "text": [
      "Epoch 1/20\n",
      "17/17 [==============================] - 21s 1s/step - loss: 0.8393 - accuracy: 0.7172 - val_loss: 0.1961 - val_accuracy: 0.8880\n",
      "\n",
      "Epoch 00001: val_accuracy improved from -inf to 0.88803, saving model to ./VGG19.h5\n",
      "Epoch 2/20\n",
      "17/17 [==============================] - 18s 1s/step - loss: 0.1394 - accuracy: 0.9422 - val_loss: 0.0115 - val_accuracy: 1.0000\n",
      "\n",
      "Epoch 00002: val_accuracy improved from 0.88803 to 1.00000, saving model to ./VGG19.h5\n",
      "Epoch 3/20\n",
      "17/17 [==============================] - 18s 1s/step - loss: 0.0125 - accuracy: 0.9971 - val_loss: 5.5107e-04 - val_accuracy: 1.0000\n",
      "\n",
      "Epoch 00003: val_accuracy did not improve from 1.00000\n",
      "Epoch 4/20\n",
      "17/17 [==============================] - 18s 1s/step - loss: 0.0144 - accuracy: 0.9961 - val_loss: 0.0020 - val_accuracy: 1.0000\n",
      "\n",
      "Epoch 00004: val_accuracy did not improve from 1.00000\n",
      "Epoch 00004: early stopping\n"
     ]
    },
    {
     "name": "stderr",
     "output_type": "stream",
     "text": [
      "/tmp/ipykernel_326/422981087.py:40: FutureWarning: The frame.append method is deprecated and will be removed from pandas in a future version. Use pandas.concat instead.\n",
      "  output_df=output_df.append(result_dict,ignore_index=True)\n"
     ]
    }
   ],
   "source": [
    "start_time=time.time()\n",
    "vgg19(num_class=5,epochs=20)\t#binary classificaiton\n",
    "\n",
    "end_time=time.time()\n",
    "timelist.append(end_time-start_time)"
   ]
  },
  {
   "cell_type": "markdown",
   "metadata": {},
   "source": [
    "Validation accuracy of VGG19: 100.0%"
   ]
  },
  {
   "cell_type": "markdown",
   "metadata": {},
   "source": [
    "### Model 5: ResNet"
   ]
  },
  {
   "cell_type": "code",
   "execution_count": 14,
   "metadata": {},
   "outputs": [],
   "source": [
    "def resnet( num_class, epochs,savepath='./resnet.h5',history=history_Resnet,input_shape=INPUT_SIZE):\n",
    "    model_fine_tune = ResNet50(include_top=False, weights='imagenet', input_shape=input_shape)\n",
    "    for layer in model_fine_tune.layers[:120]:\t#the number of frozen layers for transfer learning, have tuned from 50-150\n",
    "        layer.trainable = False\n",
    "    for layer in model_fine_tune.layers[120:]:\t#the number of trainable layers for transfer learning\n",
    "        layer.trainable = True\n",
    "    model = GlobalAveragePooling2D()(model_fine_tune.output)\n",
    "    model=Dense(units=256,activation='relu')(model)\n",
    "    model=Dropout(0.5)(model)\n",
    "    model = Dense(num_class, activation='softmax')(model)\n",
    "    model = Model(model_fine_tune.input, model, name='resnet')\n",
    "    opt = keras.optimizers.Adam(lr=0.001, beta_1=0.9, beta_2=0.999, epsilon=1e-08)\t#tuned learning rate to be 0.001\n",
    "    model.compile(loss='categorical_crossentropy', optimizer=opt, metrics=['accuracy']) #set the loss function to be binary crossentropy\n",
    "    #train model\n",
    "    earlyStopping = kcallbacks.EarlyStopping(\n",
    "        monitor='val_accuracy', patience=2, verbose=1, mode='auto')\t#set early stop patience to save training time\n",
    "    saveBestModel = kcallbacks.ModelCheckpoint(\n",
    "        filepath=savepath,\n",
    "        monitor='val_accuracy',\n",
    "        verbose=1,\n",
    "        save_best_only=True,\n",
    "        mode='auto')\n",
    "    hist = model.fit_generator(\n",
    "        train_generator,\n",
    "        steps_per_epoch=len(train_generator),\n",
    "        epochs=epochs,\n",
    "        validation_data=validation_generator,\n",
    "        validation_steps=len(validation_generator),\n",
    "        #use_multiprocessing=True, \n",
    "        callbacks=[earlyStopping, saveBestModel, history],\n",
    "    )"
   ]
  },
  {
   "cell_type": "code",
   "execution_count": 15,
   "metadata": {},
   "outputs": [
    {
     "name": "stdout",
     "output_type": "stream",
     "text": [
      "Downloading data from https://storage.googleapis.com/tensorflow/keras-applications/resnet/resnet50_weights_tf_dim_ordering_tf_kernels_notop.h5\n",
      "94773248/94765736 [==============================] - 2s 0us/step\n"
     ]
    },
    {
     "name": "stderr",
     "output_type": "stream",
     "text": [
      "/root/miniconda3/lib/python3.8/site-packages/tensorflow/python/keras/optimizer_v2/optimizer_v2.py:374: UserWarning: The `lr` argument is deprecated, use `learning_rate` instead.\n",
      "  warnings.warn(\n",
      "/root/miniconda3/lib/python3.8/site-packages/tensorflow/python/keras/engine/training.py:1940: UserWarning: `Model.fit_generator` is deprecated and will be removed in a future version. Please use `Model.fit`, which supports generators.\n",
      "  warnings.warn('`Model.fit_generator` is deprecated and '\n"
     ]
    },
    {
     "name": "stdout",
     "output_type": "stream",
     "text": [
      "Epoch 1/20\n",
      "17/17 [==============================] - 24s 1s/step - loss: 0.5945 - accuracy: 0.8001 - val_loss: 87.0099 - val_accuracy: 0.1042\n",
      "\n",
      "Epoch 00001: val_accuracy improved from -inf to 0.10425, saving model to ./resnet.h5\n"
     ]
    },
    {
     "name": "stderr",
     "output_type": "stream",
     "text": [
      "/root/miniconda3/lib/python3.8/site-packages/tensorflow/python/keras/utils/generic_utils.py:494: CustomMaskWarning: Custom mask layers require a config and must override get_config. When loading, the custom mask layer must be passed to the custom_objects argument.\n",
      "  warnings.warn('Custom mask layers require a config and must override '\n"
     ]
    },
    {
     "name": "stdout",
     "output_type": "stream",
     "text": [
      "Epoch 2/20\n",
      "17/17 [==============================] - 18s 1s/step - loss: 0.1767 - accuracy: 0.9239 - val_loss: 176.9535 - val_accuracy: 0.1042\n",
      "\n",
      "Epoch 00002: val_accuracy did not improve from 0.10425\n",
      "Epoch 3/20\n",
      "17/17 [==============================] - 18s 1s/step - loss: 0.1068 - accuracy: 0.9634 - val_loss: 193.4737 - val_accuracy: 0.1004\n",
      "\n",
      "Epoch 00003: val_accuracy did not improve from 0.10425\n",
      "Epoch 00003: early stopping\n"
     ]
    },
    {
     "name": "stderr",
     "output_type": "stream",
     "text": [
      "/tmp/ipykernel_326/422981087.py:40: FutureWarning: The frame.append method is deprecated and will be removed from pandas in a future version. Use pandas.concat instead.\n",
      "  output_df=output_df.append(result_dict,ignore_index=True)\n"
     ]
    }
   ],
   "source": [
    "start_time=time.time()\n",
    "resnet(num_class=5,epochs=20)\t#binary classificaiton\n",
    "end_time=time.time()\n",
    "timelist.append(end_time-start_time)"
   ]
  },
  {
   "cell_type": "markdown",
   "metadata": {},
   "source": [
    "Validation accuracy of Resnet: 98.652%"
   ]
  },
  {
   "cell_type": "markdown",
   "metadata": {},
   "source": [
    "### Model 6: Inception"
   ]
  },
  {
   "cell_type": "code",
   "execution_count": 16,
   "metadata": {},
   "outputs": [],
   "source": [
    "def inception( num_class, epochs,savepath='./inception.h5',history=history_Inception,input_shape=INPUT_SIZE):\n",
    "    model_fine_tune = InceptionV3(include_top=False, weights='imagenet', input_shape=input_shape)\n",
    "    for layer in model_fine_tune.layers[:35]:\t#the number of frozen layers for transfer learning, have tuned from 50-150\n",
    "        layer.trainable = False\n",
    "    for layer in model_fine_tune.layers[35:]:\t#the number of trainable layers for transfer learning\n",
    "        layer.trainable = True\n",
    "    model = GlobalAveragePooling2D()(model_fine_tune.output)\n",
    "    model=Dense(units=256,activation='relu')(model)\n",
    "    model=Dropout(0.5)(model)\n",
    "    model = Dense(num_class, activation='softmax')(model)\n",
    "    model = Model(model_fine_tune.input, model, name='resnet')\n",
    "    opt = keras.optimizers.Adam(lr=0.001, beta_1=0.9, beta_2=0.999, epsilon=1e-08)\t#tuned learning rate to be 0.001\n",
    "    model.compile(loss='categorical_crossentropy', optimizer=opt, metrics=['accuracy']) #set the loss function to be binary crossentropy\n",
    "    #train model\n",
    "    earlyStopping = kcallbacks.EarlyStopping(\n",
    "        monitor='val_accuracy', patience=2, verbose=1, mode='auto')\t#set early stop patience to save training time\n",
    "    saveBestModel = kcallbacks.ModelCheckpoint(\n",
    "        filepath=savepath,\n",
    "        monitor='val_accuracy',\n",
    "        verbose=1,\n",
    "        save_best_only=True,\n",
    "        mode='auto')\n",
    "    hist = model.fit_generator(\n",
    "        train_generator,\n",
    "        steps_per_epoch=len(train_generator),\n",
    "        epochs=epochs,\n",
    "        validation_data=validation_generator,\n",
    "        validation_steps=len(validation_generator),\n",
    "        #use_multiprocessing=True, \n",
    "        callbacks=[earlyStopping, saveBestModel, history],\n",
    "    )"
   ]
  },
  {
   "cell_type": "code",
   "execution_count": 17,
   "metadata": {},
   "outputs": [
    {
     "name": "stdout",
     "output_type": "stream",
     "text": [
      "Downloading data from https://storage.googleapis.com/tensorflow/keras-applications/inception_v3/inception_v3_weights_tf_dim_ordering_tf_kernels_notop.h5\n",
      "87916544/87910968 [==============================] - 4s 0us/step\n"
     ]
    },
    {
     "name": "stderr",
     "output_type": "stream",
     "text": [
      "/root/miniconda3/lib/python3.8/site-packages/tensorflow/python/keras/optimizer_v2/optimizer_v2.py:374: UserWarning: The `lr` argument is deprecated, use `learning_rate` instead.\n",
      "  warnings.warn(\n",
      "/root/miniconda3/lib/python3.8/site-packages/tensorflow/python/keras/engine/training.py:1940: UserWarning: `Model.fit_generator` is deprecated and will be removed in a future version. Please use `Model.fit`, which supports generators.\n",
      "  warnings.warn('`Model.fit_generator` is deprecated and '\n"
     ]
    },
    {
     "name": "stdout",
     "output_type": "stream",
     "text": [
      "Epoch 1/20\n",
      "17/17 [==============================] - 29s 1s/step - loss: 0.1833 - accuracy: 0.9321 - val_loss: 2.6506 - val_accuracy: 0.6834\n",
      "\n",
      "Epoch 00001: val_accuracy improved from -inf to 0.68340, saving model to ./inception.h5\n",
      "Epoch 2/20\n",
      "17/17 [==============================] - 18s 1s/step - loss: 4.9277e-04 - accuracy: 1.0000 - val_loss: 2.6478 - val_accuracy: 0.1622\n",
      "\n",
      "Epoch 00002: val_accuracy did not improve from 0.68340\n",
      "Epoch 3/20\n",
      "17/17 [==============================] - 19s 1s/step - loss: 4.6998e-05 - accuracy: 1.0000 - val_loss: 2.1890 - val_accuracy: 0.2529\n",
      "\n",
      "Epoch 00003: val_accuracy did not improve from 0.68340\n",
      "Epoch 00003: early stopping\n"
     ]
    },
    {
     "name": "stderr",
     "output_type": "stream",
     "text": [
      "/tmp/ipykernel_326/422981087.py:40: FutureWarning: The frame.append method is deprecated and will be removed from pandas in a future version. Use pandas.concat instead.\n",
      "  output_df=output_df.append(result_dict,ignore_index=True)\n"
     ]
    }
   ],
   "source": [
    "start_time=time.time()\n",
    "inception(num_class=5,epochs=20)\t#binary classificaiton\n",
    "\n",
    "end_time=time.time()\n",
    "timelist.append(end_time-start_time)"
   ]
  },
  {
   "cell_type": "markdown",
   "metadata": {},
   "source": [
    "Validation accuracy of Inception: 100.0%"
   ]
  },
  {
   "cell_type": "markdown",
   "metadata": {},
   "source": [
    "### Model 7: InceptionResnet"
   ]
  },
  {
   "cell_type": "code",
   "execution_count": 18,
   "metadata": {},
   "outputs": [],
   "source": [
    "def inceptionresnet( num_class, epochs,savepath='./inceptionresnet.h5',history=history_InceptionResnet,input_shape=INPUT_SIZE):\n",
    "    model_fine_tune = InceptionResNetV2(include_top=False, weights='imagenet', input_shape=input_shape)\n",
    "    for layer in model_fine_tune.layers[:500]:\t#the number of frozen layers for transfer learning, have tuned from 400-550\n",
    "        layer.trainable = False\n",
    "    for layer in model_fine_tune.layers[500:]:\t#the number of trainable layers for transfer learning\n",
    "        layer.trainable = True\n",
    "    model = GlobalAveragePooling2D()(model_fine_tune.output)\n",
    "    model=Dense(units=256,activation='relu')(model)\n",
    "    model=Dropout(0.5)(model)\n",
    "    model = Dense(num_class, activation='softmax')(model)\n",
    "    model = Model(model_fine_tune.input, model, name='resnet')\n",
    "    opt = keras.optimizers.Adam(lr=0.001, beta_1=0.9, beta_2=0.999, epsilon=1e-08)\t#tuned learning rate to be 0.001\n",
    "    model.compile(loss='categorical_crossentropy', optimizer=opt, metrics=['accuracy']) #set the loss function to be binary crossentropy\n",
    "    #train model\n",
    "    earlyStopping = kcallbacks.EarlyStopping(\n",
    "        monitor='val_accuracy', patience=2, verbose=1, mode='auto')\t#set early stop patience to save training time\n",
    "    saveBestModel = kcallbacks.ModelCheckpoint(\n",
    "        filepath=savepath,\n",
    "        monitor='val_accuracy',\n",
    "        verbose=1,\n",
    "        save_best_only=True,\n",
    "        mode='auto')\n",
    "    hist = model.fit_generator(\n",
    "        train_generator,\n",
    "        steps_per_epoch=len(train_generator),\n",
    "        epochs=epochs,\n",
    "        validation_data=validation_generator,\n",
    "        validation_steps=len(validation_generator),\n",
    "        #use_multiprocessing=True, \n",
    "        callbacks=[earlyStopping, saveBestModel, history],\n",
    "    )"
   ]
  },
  {
   "cell_type": "code",
   "execution_count": 19,
   "metadata": {},
   "outputs": [
    {
     "name": "stdout",
     "output_type": "stream",
     "text": [
      "Downloading data from https://storage.googleapis.com/tensorflow/keras-applications/inception_resnet_v2/inception_resnet_v2_weights_tf_dim_ordering_tf_kernels_notop.h5\n",
      "219062272/219055592 [==============================] - 6s 0us/step\n"
     ]
    },
    {
     "name": "stderr",
     "output_type": "stream",
     "text": [
      "/root/miniconda3/lib/python3.8/site-packages/tensorflow/python/keras/optimizer_v2/optimizer_v2.py:374: UserWarning: The `lr` argument is deprecated, use `learning_rate` instead.\n",
      "  warnings.warn(\n",
      "/root/miniconda3/lib/python3.8/site-packages/tensorflow/python/keras/engine/training.py:1940: UserWarning: `Model.fit_generator` is deprecated and will be removed in a future version. Please use `Model.fit`, which supports generators.\n",
      "  warnings.warn('`Model.fit_generator` is deprecated and '\n"
     ]
    },
    {
     "name": "stdout",
     "output_type": "stream",
     "text": [
      "Epoch 1/20\n",
      "17/17 [==============================] - 37s 1s/step - loss: 0.2732 - accuracy: 0.8979 - val_loss: 3.9568 - val_accuracy: 0.7876\n",
      "\n",
      "Epoch 00001: val_accuracy improved from -inf to 0.78764, saving model to ./inceptionresnet.h5\n",
      "Epoch 2/20\n",
      "17/17 [==============================] - 19s 1s/step - loss: 0.0207 - accuracy: 0.9952 - val_loss: 3.6059 - val_accuracy: 0.7896\n",
      "\n",
      "Epoch 00002: val_accuracy improved from 0.78764 to 0.78958, saving model to ./inceptionresnet.h5\n",
      "Epoch 3/20\n",
      "17/17 [==============================] - 17s 1s/step - loss: 0.0071 - accuracy: 0.9966 - val_loss: 6.9358 - val_accuracy: 0.2703\n",
      "\n",
      "Epoch 00003: val_accuracy did not improve from 0.78958\n",
      "Epoch 4/20\n",
      "17/17 [==============================] - 18s 1s/step - loss: 0.0238 - accuracy: 0.9937 - val_loss: 193.3864 - val_accuracy: 0.1100\n",
      "\n",
      "Epoch 00004: val_accuracy did not improve from 0.78958\n",
      "Epoch 00004: early stopping\n"
     ]
    },
    {
     "name": "stderr",
     "output_type": "stream",
     "text": [
      "/tmp/ipykernel_326/422981087.py:40: FutureWarning: The frame.append method is deprecated and will be removed from pandas in a future version. Use pandas.concat instead.\n",
      "  output_df=output_df.append(result_dict,ignore_index=True)\n"
     ]
    }
   ],
   "source": [
    "start_time=time.time()\n",
    "inceptionresnet(num_class=5,epochs=20)\t# 5-class classificaiton\n",
    "end_time=time.time()\n",
    "timelist.append(end_time-start_time)"
   ]
  },
  {
   "cell_type": "code",
   "execution_count": 20,
   "metadata": {},
   "outputs": [
    {
     "name": "stdout",
     "output_type": "stream",
     "text": [
      "{\"code\":\"Success\",\"data\":null,\"msg\":\"\"}\n"
     ]
    }
   ],
   "source": [
    "import requests\n",
    "resp = requests.post(\"https://www.autodl.com/api/v1/wechat/message/push\",\n",
    "                     json={\n",
    "                         \"token\": \"444db7f1cca1\",\n",
    "                         \"title\": \"模型全部运行完\",\n",
    "                         \"name\": \"Omar Project\"\n",
    "                     })\n",
    "print(resp.content.decode())"
   ]
  },
  {
   "cell_type": "code",
   "execution_count": null,
   "metadata": {},
   "outputs": [],
   "source": []
  },
  {
   "cell_type": "markdown",
   "metadata": {},
   "source": [
    "Validation accuracy of InceptionResnet: 99.993%"
   ]
  },
  {
   "cell_type": "markdown",
   "metadata": {
    "tags": []
   },
   "source": [
    "# Hyperparameter Optimization \n",
    "Use VGG16 as an example.  \n",
    "\n",
    "Tuned hyperparameters of CNN: \n",
    "1. The number of frozen layers\n",
    "2. The number of epochs\n",
    "3. Early stop patience\n",
    "4. Learning rate\n",
    "5. Dropout rate\n",
    "\n",
    "Hyperparameter optimization methods:\n",
    "1. Random search\n",
    "2. Bayesian optimization - Tree Parzen Estimator(BO-TPE)"
   ]
  },
  {
   "cell_type": "markdown",
   "metadata": {},
   "source": [
    "### 获取最优超参数"
   ]
  },
  {
   "cell_type": "code",
   "execution_count": 26,
   "metadata": {},
   "outputs": [],
   "source": [
    "import ast\n",
    "def get_params(str1):\n",
    "    temp=ast.literal_eval(str1)\n",
    "    dropout_rate=temp.get('dropout_rate')\n",
    "    dropout_rate=round(dropout_rate,5)\n",
    "    num_class=5\n",
    "    frozen=int(temp.get('frozen'))\n",
    "    epochs=int(temp.get('epochs'))\n",
    "    patience=int(temp.get('patience'))\n",
    "    lr=temp.get('lr')\n",
    "    lr=round(lr,5)\n",
    "    frozen=int(temp.get('frozen'))\n",
    "    verbose=1\n",
    "    params={\n",
    "        'num_class': num_class,\n",
    "        'frozen': frozen,\n",
    "        'epochs': epochs,\n",
    "        'patience': patience,\n",
    "        'lr': lr,\n",
    "        'dropout_rate' : dropout_rate,\n",
    "        'verbose': verbose\n",
    "    }\n",
    "    return params"
   ]
  },
  {
   "cell_type": "markdown",
   "metadata": {},
   "source": [
    "### 清除表格中在优化过程中添加的数据"
   ]
  },
  {
   "cell_type": "code",
   "execution_count": 27,
   "metadata": {},
   "outputs": [],
   "source": [
    "def clear_output_df(index):\n",
    "    global output_df\n",
    "    global output_index\n",
    "    output_df=output_df[0:index] \n",
    "    output_index=output_index[:index]\n",
    "    index+=1\n",
    "    return index\n",
    "    "
   ]
  },
  {
   "cell_type": "code",
   "execution_count": 28,
   "metadata": {},
   "outputs": [],
   "source": [
    "index=7 # 前面有7行 从第七行开始添加\n",
    "time_opt=list()#存放优化的时间\n",
    "opt_type=list()\n",
    "for i in range(7):\n",
    "    time_opt.append(\"\")\n",
    "    opt_type.append(\"\")\n",
    "    \n"
   ]
  },
  {
   "cell_type": "code",
   "execution_count": null,
   "metadata": {},
   "outputs": [],
   "source": []
  },
  {
   "cell_type": "markdown",
   "metadata": {
    "tags": []
   },
   "source": [
    "# CNN By Own"
   ]
  },
  {
   "cell_type": "code",
   "execution_count": 21,
   "metadata": {},
   "outputs": [],
   "source": [
    "def cnn_by_own(input_shape,num_class,epochs=20,patience=2, dropout_rate=0.5,verbose=0,savepath='./model_own.h5',history=history_CNN):\n",
    "    model = Sequential()\n",
    "    model.add(Conv2D(64,(3,3),strides=(1,1),input_shape=input_shape,padding='same',activation='relu',kernel_initializer='glorot_uniform'))\n",
    "    model.add(Conv2D(64,(3,3),strides=(1,1),padding='same',activation='relu',kernel_initializer='glorot_uniform'))\n",
    "    model.add(MaxPooling2D(pool_size=(2,2)))\n",
    "    model.add(Conv2D(128,(3,3),strides=(1,1),padding='same',activation='relu',kernel_initializer='glorot_uniform'))\n",
    "    model.add(Conv2D(128,(3,3),strides=(1,1),padding='same',activation='relu',kernel_initializer='glorot_uniform'))\n",
    "    model.add(MaxPooling2D(pool_size=(2,2)))\n",
    "    model.add(Conv2D(256,(3,3),strides=(1,1),padding='same',activation='relu',kernel_initializer='glorot_uniform'))\n",
    "    model.add(Conv2D(256,(3,3),strides=(1,1),padding='same',activation='relu',kernel_initializer='glorot_uniform'))\n",
    "    model.add(Conv2D(256,(3,3),strides=(1,1),padding='same',activation='relu',kernel_initializer='glorot_uniform'))\n",
    "    model.add(GlobalAveragePooling2D())\n",
    "    model.add(Dense(256,activation='relu'))\n",
    "    model.add(Dropout(rate=dropout_rate))\n",
    "    model.add(Dense(num_class,activation='softmax'))\n",
    "    model.compile(loss='categorical_crossentropy',optimizer='adam',metrics=['accuracy'])\n",
    "    #train model\n",
    "    earlyStopping=kcallbacks.EarlyStopping(monitor='val_accuracy', patience=patience, verbose=verbose, mode='auto')\n",
    "    saveBestModel = kcallbacks.ModelCheckpoint(filepath=savepath, monitor='val_accuracy', verbose=verbose, save_best_only=True, mode='auto')\n",
    "    hist=model.fit(\n",
    "        train_generator,\n",
    "        steps_per_epoch=len(train_generator),\n",
    "        epochs=epochs,\n",
    "        validation_data=validation_generator,\n",
    "        validation_steps=len(validation_generator),\n",
    "        callbacks=[earlyStopping,saveBestModel,history,timer],\n",
    "        verbose=verbose\n",
    "    )"
   ]
  },
  {
   "cell_type": "code",
   "execution_count": 22,
   "metadata": {},
   "outputs": [],
   "source": [
    "def prediction(cnn_model):\n",
    "#read images from validation folder\n",
    "    rootdir = './test_224/'\n",
    "    test_laels = []\n",
    "    test_images=[]\n",
    "    for subdir, dirs, files in os.walk(rootdir):\n",
    "        for file in files:\n",
    "            if not (file.endswith(\".jpeg\"))|(file.endswith(\".jpg\"))|(file.endswith(\".png\")):\n",
    "                continue\n",
    "            test_laels.append(subdir.split('/')[-1])\n",
    "            test_images.append(os.path.join(subdir, file))\n",
    "\n",
    "    predict=[]\n",
    "    length=len(test_images)\n",
    "    label=validation_generator.class_indices\n",
    "    label={v: k for k, v in label.items()}\n",
    "    for i in range(length):\n",
    "        inputimg=test_images[i]\n",
    "        test_batch=[]\n",
    "        thisimg=np.array(Image.open(inputimg))/255 #read all the images in validation set\n",
    "        #print(thisimg)\n",
    "        test_shape=(1,)+thisimg.shape\n",
    "        thisimg=thisimg.reshape(test_shape)\n",
    "        cnn_model_batch=cnn_model.predict(thisimg) #use master model to process the input image\n",
    "        #generate result by model 1\n",
    "        #\n",
    "        prob=cnn_model_batch[0,np.argmax(cnn_model_batch,axis=1)[0]]\n",
    "        res=label[np.argmax(cnn_model_batch,axis=1)[0]]\n",
    "        predict.append(res)\n",
    "    acc=accuracy_score(test_laels,predict)\n",
    "    return acc"
   ]
  },
  {
   "cell_type": "code",
   "execution_count": 23,
   "metadata": {},
   "outputs": [],
   "source": [
    "#define the objective function to be optimized\n",
    "import time\n",
    "from hyperopt import hp, fmin, tpe, rand, STATUS_OK, Trials\n",
    "import matplotlib.pyplot as plt\n",
    "import statistics \n",
    "\n",
    "def objective(params):\n",
    "    \n",
    "    params = {\n",
    "        'frozen': int(params['frozen']),\n",
    "        'epochs': int(params['epochs']),\n",
    "        'patience': int(params['patience']),\n",
    "        'lr': abs(float(params['lr'])),\n",
    "        'dropout_rate': abs(float(params['dropout_rate'])),\n",
    "    }\n",
    "    frozen=params['frozen']\n",
    "    epochs=params['epochs']\n",
    "    patience=params['patience']\n",
    "    lr=params['lr']\n",
    "    dropout_rate=params['dropout_rate']\n",
    "    \n",
    "    #\n",
    "    cnn_by_own(num_class=5, frozen=frozen,epochs=epochs,patience=patience, lr=lr, dropout_rate=dropout_rate)\n",
    "    #\n",
    "    acc=prediction(cnn_model=load_model('./model_own.h5'))\n",
    "\n",
    "    print('accuracy:%s'%acc)\n",
    "    return {'loss': -acc, 'status': STATUS_OK }\n",
    "    "
   ]
  },
  {
   "cell_type": "markdown",
   "metadata": {},
   "source": [
    "### 超参数优化BO-TPE"
   ]
  },
  {
   "cell_type": "code",
   "execution_count": 24,
   "metadata": {},
   "outputs": [
    {
     "name": "stdout",
     "output_type": "stream",
     "text": [
      "  0%|          | 0/10 [00:00<?, ?trial/s, best loss=?]"
     ]
    },
    {
     "name": "stderr",
     "output_type": "stream",
     "text": [
      "/root/miniconda3/lib/python3.8/site-packages/tensorflow/python/keras/engine/training.py:1940: UserWarning: `Model.fit_generator` is deprecated and will be removed in a future version. Please use `Model.fit`, which supports generators.\n",
      "  warnings.warn('`Model.fit_generator` is deprecated and '\n",
      "\n",
      "/tmp/ipykernel_326/422981087.py:40: FutureWarning: The frame.append method is deprecated and will be removed from pandas in a future version. Use pandas.concat instead.\n",
      "  output_df=output_df.append(result_dict,ignore_index=True)\n",
      "\n"
     ]
    },
    {
     "name": "stdout",
     "output_type": "stream",
     "text": [
      "accuracy:0.888030888030888                            \n",
      " 10%|█         | 1/10 [02:06<19:02, 126.91s/trial, best loss: -0.888030888030888]"
     ]
    },
    {
     "name": "stderr",
     "output_type": "stream",
     "text": [
      "/root/miniconda3/lib/python3.8/site-packages/tensorflow/python/keras/engine/training.py:1940: UserWarning: `Model.fit_generator` is deprecated and will be removed in a future version. Please use `Model.fit`, which supports generators.\n",
      "  warnings.warn('`Model.fit_generator` is deprecated and '\n",
      "\n",
      "/tmp/ipykernel_326/422981087.py:40: FutureWarning: The frame.append method is deprecated and will be removed from pandas in a future version. Use pandas.concat instead.\n",
      "  output_df=output_df.append(result_dict,ignore_index=True)\n",
      "\n"
     ]
    },
    {
     "name": "stdout",
     "output_type": "stream",
     "text": [
      "accuracy:0.888030888030888                                                       \n",
      " 20%|██        | 2/10 [04:12<16:51, 126.39s/trial, best loss: -0.888030888030888]"
     ]
    },
    {
     "name": "stderr",
     "output_type": "stream",
     "text": [
      "/root/miniconda3/lib/python3.8/site-packages/tensorflow/python/keras/engine/training.py:1940: UserWarning: `Model.fit_generator` is deprecated and will be removed in a future version. Please use `Model.fit`, which supports generators.\n",
      "  warnings.warn('`Model.fit_generator` is deprecated and '\n",
      "\n",
      "/tmp/ipykernel_326/422981087.py:40: FutureWarning: The frame.append method is deprecated and will be removed from pandas in a future version. Use pandas.concat instead.\n",
      "  output_df=output_df.append(result_dict,ignore_index=True)\n",
      "\n"
     ]
    },
    {
     "name": "stdout",
     "output_type": "stream",
     "text": [
      "accuracy:0.9401544401544402                                                      \n",
      " 30%|███       | 3/10 [09:03<23:28, 201.18s/trial, best loss: -0.9401544401544402]"
     ]
    },
    {
     "name": "stderr",
     "output_type": "stream",
     "text": [
      "/root/miniconda3/lib/python3.8/site-packages/tensorflow/python/keras/engine/training.py:1940: UserWarning: `Model.fit_generator` is deprecated and will be removed in a future version. Please use `Model.fit`, which supports generators.\n",
      "  warnings.warn('`Model.fit_generator` is deprecated and '\n",
      "\n",
      "/tmp/ipykernel_326/422981087.py:40: FutureWarning: The frame.append method is deprecated and will be removed from pandas in a future version. Use pandas.concat instead.\n",
      "  output_df=output_df.append(result_dict,ignore_index=True)\n",
      "\n"
     ]
    },
    {
     "name": "stdout",
     "output_type": "stream",
     "text": [
      "accuracy:0.888030888030888                                                        \n",
      " 40%|████      | 4/10 [11:06<17:03, 170.60s/trial, best loss: -0.9401544401544402]"
     ]
    },
    {
     "name": "stderr",
     "output_type": "stream",
     "text": [
      "/root/miniconda3/lib/python3.8/site-packages/tensorflow/python/keras/engine/training.py:1940: UserWarning: `Model.fit_generator` is deprecated and will be removed in a future version. Please use `Model.fit`, which supports generators.\n",
      "  warnings.warn('`Model.fit_generator` is deprecated and '\n",
      "\n",
      "/tmp/ipykernel_326/422981087.py:40: FutureWarning: The frame.append method is deprecated and will be removed from pandas in a future version. Use pandas.concat instead.\n",
      "  output_df=output_df.append(result_dict,ignore_index=True)\n",
      "\n"
     ]
    },
    {
     "name": "stdout",
     "output_type": "stream",
     "text": [
      "accuracy:0.888030888030888                                                        \n",
      " 50%|█████     | 5/10 [13:10<12:48, 153.78s/trial, best loss: -0.9401544401544402]"
     ]
    },
    {
     "name": "stderr",
     "output_type": "stream",
     "text": [
      "/root/miniconda3/lib/python3.8/site-packages/tensorflow/python/keras/engine/training.py:1940: UserWarning: `Model.fit_generator` is deprecated and will be removed in a future version. Please use `Model.fit`, which supports generators.\n",
      "  warnings.warn('`Model.fit_generator` is deprecated and '\n",
      "\n",
      "/tmp/ipykernel_326/422981087.py:40: FutureWarning: The frame.append method is deprecated and will be removed from pandas in a future version. Use pandas.concat instead.\n",
      "  output_df=output_df.append(result_dict,ignore_index=True)\n",
      "\n"
     ]
    },
    {
     "name": "stdout",
     "output_type": "stream",
     "text": [
      "accuracy:0.9922779922779923                                                       \n",
      " 60%|██████    | 6/10 [17:25<12:32, 188.13s/trial, best loss: -0.9922779922779923]"
     ]
    },
    {
     "name": "stderr",
     "output_type": "stream",
     "text": [
      "/root/miniconda3/lib/python3.8/site-packages/tensorflow/python/keras/engine/training.py:1940: UserWarning: `Model.fit_generator` is deprecated and will be removed in a future version. Please use `Model.fit`, which supports generators.\n",
      "  warnings.warn('`Model.fit_generator` is deprecated and '\n",
      "\n",
      "/tmp/ipykernel_326/422981087.py:40: FutureWarning: The frame.append method is deprecated and will be removed from pandas in a future version. Use pandas.concat instead.\n",
      "  output_df=output_df.append(result_dict,ignore_index=True)\n",
      "\n"
     ]
    },
    {
     "name": "stdout",
     "output_type": "stream",
     "text": [
      "accuracy:0.9575289575289575                                                       \n",
      " 70%|███████   | 7/10 [21:40<10:29, 209.97s/trial, best loss: -0.9922779922779923]"
     ]
    },
    {
     "name": "stderr",
     "output_type": "stream",
     "text": [
      "/root/miniconda3/lib/python3.8/site-packages/tensorflow/python/keras/engine/training.py:1940: UserWarning: `Model.fit_generator` is deprecated and will be removed in a future version. Please use `Model.fit`, which supports generators.\n",
      "  warnings.warn('`Model.fit_generator` is deprecated and '\n",
      "\n",
      "/tmp/ipykernel_326/422981087.py:40: FutureWarning: The frame.append method is deprecated and will be removed from pandas in a future version. Use pandas.concat instead.\n",
      "  output_df=output_df.append(result_dict,ignore_index=True)\n",
      "\n"
     ]
    },
    {
     "name": "stdout",
     "output_type": "stream",
     "text": [
      "accuracy:0.9787644787644788                                                       \n",
      " 80%|████████  | 8/10 [25:54<07:27, 223.99s/trial, best loss: -0.9922779922779923]"
     ]
    },
    {
     "name": "stderr",
     "output_type": "stream",
     "text": [
      "/root/miniconda3/lib/python3.8/site-packages/tensorflow/python/keras/engine/training.py:1940: UserWarning: `Model.fit_generator` is deprecated and will be removed in a future version. Please use `Model.fit`, which supports generators.\n",
      "  warnings.warn('`Model.fit_generator` is deprecated and '\n",
      "\n",
      "/tmp/ipykernel_326/422981087.py:40: FutureWarning: The frame.append method is deprecated and will be removed from pandas in a future version. Use pandas.concat instead.\n",
      "  output_df=output_df.append(result_dict,ignore_index=True)\n",
      "\n"
     ]
    },
    {
     "name": "stdout",
     "output_type": "stream",
     "text": [
      "accuracy:0.944015444015444                                                        \n",
      " 90%|█████████ | 9/10 [29:29<03:41, 221.05s/trial, best loss: -0.9922779922779923]"
     ]
    },
    {
     "name": "stderr",
     "output_type": "stream",
     "text": [
      "/root/miniconda3/lib/python3.8/site-packages/tensorflow/python/keras/engine/training.py:1940: UserWarning: `Model.fit_generator` is deprecated and will be removed in a future version. Please use `Model.fit`, which supports generators.\n",
      "  warnings.warn('`Model.fit_generator` is deprecated and '\n",
      "\n",
      "/tmp/ipykernel_326/422981087.py:40: FutureWarning: The frame.append method is deprecated and will be removed from pandas in a future version. Use pandas.concat instead.\n",
      "  output_df=output_df.append(result_dict,ignore_index=True)\n",
      "\n"
     ]
    },
    {
     "name": "stdout",
     "output_type": "stream",
     "text": [
      "accuracy:0.9343629343629344                                                       \n",
      "100%|██████████| 10/10 [32:45<00:00, 196.57s/trial, best loss: -0.9922779922779923]\n",
      "Hyperopt estimated optimum {'dropout_rate': 0.5, 'epochs': 15.0, 'frozen': 17.0, 'lr': 0.005, 'patience': 3.0}\n"
     ]
    }
   ],
   "source": [
    "#Hyperparameter optimization by Bayesian optimization - Tree Parzen Estimator\n",
    "space = {\n",
    "    'frozen': hp.quniform('frozen', 15, 18, 1),\n",
    "    'epochs': hp.quniform('epochs', 5, 21, 5),\n",
    "    'patience': hp.quniform('patience', 2, 4, 1),\n",
    "    'lr': hp.quniform('lr', 0.001, 0.006, 0.001),\n",
    "    'dropout_rate': hp.quniform('dropout_rate', 0.3, 0.6, 0.1),\n",
    "}\n",
    "\n",
    "t1=time.time()\n",
    "best = fmin(fn=objective,\n",
    "            space=space,\n",
    "            algo=tpe.suggest,\n",
    "            max_evals=10)\n",
    "print(\"Hyperopt estimated optimum {}\".format(best))\n",
    "t2=time.time()\n",
    "\n"
   ]
  },
  {
   "cell_type": "markdown",
   "metadata": {},
   "source": [
    "### 用优化后的超参数"
   ]
  },
  {
   "cell_type": "code",
   "execution_count": 29,
   "metadata": {},
   "outputs": [
    {
     "name": "stderr",
     "output_type": "stream",
     "text": [
      "/root/miniconda3/lib/python3.8/site-packages/tensorflow/python/keras/engine/training.py:1940: UserWarning: `Model.fit_generator` is deprecated and will be removed in a future version. Please use `Model.fit`, which supports generators.\n",
      "  warnings.warn('`Model.fit_generator` is deprecated and '\n"
     ]
    },
    {
     "name": "stdout",
     "output_type": "stream",
     "text": [
      "Epoch 1/15\n",
      "17/17 [==============================] - 19s 1s/step - loss: 1.1987 - accuracy: 0.6224 - val_loss: 1.0022 - val_accuracy: 0.6834\n",
      "\n",
      "Epoch 00001: val_accuracy improved from -inf to 0.68340, saving model to ./model_own.h5\n",
      "Epoch 2/15\n",
      "17/17 [==============================] - 19s 1s/step - loss: 0.9966 - accuracy: 0.6599 - val_loss: 0.8110 - val_accuracy: 0.6834\n",
      "\n",
      "Epoch 00002: val_accuracy did not improve from 0.68340\n",
      "Epoch 3/15\n",
      "17/17 [==============================] - 17s 1s/step - loss: 0.8386 - accuracy: 0.7168 - val_loss: 0.5036 - val_accuracy: 0.7876\n",
      "\n",
      "Epoch 00003: val_accuracy improved from 0.68340 to 0.78764, saving model to ./model_own.h5\n",
      "Epoch 4/15\n",
      "17/17 [==============================] - 17s 1s/step - loss: 0.4990 - accuracy: 0.8377 - val_loss: 0.2813 - val_accuracy: 0.8880\n",
      "\n",
      "Epoch 00004: val_accuracy improved from 0.78764 to 0.88803, saving model to ./model_own.h5\n",
      "Epoch 5/15\n",
      "17/17 [==============================] - 18s 1s/step - loss: 0.3244 - accuracy: 0.8738 - val_loss: 0.1936 - val_accuracy: 0.9286\n",
      "\n",
      "Epoch 00005: val_accuracy improved from 0.88803 to 0.92857, saving model to ./model_own.h5\n",
      "Epoch 6/15\n",
      "17/17 [==============================] - 19s 1s/step - loss: 0.2188 - accuracy: 0.9143 - val_loss: 0.1148 - val_accuracy: 0.9363\n",
      "\n",
      "Epoch 00006: val_accuracy improved from 0.92857 to 0.93629, saving model to ./model_own.h5\n",
      "Epoch 7/15\n",
      "17/17 [==============================] - 18s 1s/step - loss: 0.1405 - accuracy: 0.9316 - val_loss: 0.0796 - val_accuracy: 0.9749\n",
      "\n",
      "Epoch 00007: val_accuracy improved from 0.93629 to 0.97490, saving model to ./model_own.h5\n",
      "Epoch 8/15\n",
      "17/17 [==============================] - 18s 1s/step - loss: 0.1535 - accuracy: 0.9326 - val_loss: 0.1039 - val_accuracy: 0.9402\n",
      "\n",
      "Epoch 00008: val_accuracy did not improve from 0.97490\n",
      "Epoch 9/15\n",
      "17/17 [==============================] - 18s 1s/step - loss: 0.1025 - accuracy: 0.9562 - val_loss: 0.0397 - val_accuracy: 0.9865\n",
      "\n",
      "Epoch 00009: val_accuracy improved from 0.97490 to 0.98649, saving model to ./model_own.h5\n",
      "Epoch 10/15\n",
      "17/17 [==============================] - 18s 1s/step - loss: 0.8185 - accuracy: 0.8044 - val_loss: 1.0936 - val_accuracy: 0.7934\n",
      "\n",
      "Epoch 00010: val_accuracy did not improve from 0.98649\n",
      "Epoch 11/15\n",
      "17/17 [==============================] - 18s 1s/step - loss: 0.7076 - accuracy: 0.7871 - val_loss: 0.3625 - val_accuracy: 0.8880\n",
      "\n",
      "Epoch 00011: val_accuracy did not improve from 0.98649\n",
      "Epoch 12/15\n",
      "17/17 [==============================] - 18s 1s/step - loss: 0.3159 - accuracy: 0.8834 - val_loss: 0.1514 - val_accuracy: 0.9324\n",
      "\n",
      "Epoch 00012: val_accuracy did not improve from 0.98649\n",
      "Epoch 00012: early stopping\n"
     ]
    },
    {
     "name": "stderr",
     "output_type": "stream",
     "text": [
      "/tmp/ipykernel_326/422981087.py:40: FutureWarning: The frame.append method is deprecated and will be removed from pandas in a future version. Use pandas.concat instead.\n",
      "  output_df=output_df.append(result_dict,ignore_index=True)\n"
     ]
    }
   ],
   "source": [
    "\n",
    "params=get_params(format(best))\n",
    "\n",
    "index=clear_output_df(index)\n",
    "# Retrain the model by using the best hyperparameter values to obtain the best model\n",
    "temptime=t2-t1\n",
    "\n",
    "time_opt.append(temptime)\n",
    "opt_type.append(\"BO-TPE\")\n",
    "\n",
    "t1=time.time()\n",
    "cnn_by_own(**params)\n",
    "t2=time.time()\n",
    "\n",
    "temptime=t2-t1\n",
    "timelist.append(temptime)\n"
   ]
  },
  {
   "cell_type": "code",
   "execution_count": 30,
   "metadata": {},
   "outputs": [
    {
     "name": "stdout",
     "output_type": "stream",
     "text": [
      "{\"code\":\"Success\",\"data\":null,\"msg\":\"\"}\n"
     ]
    }
   ],
   "source": [
    "resp = requests.post(\"https://www.autodl.com/api/v1/wechat/message/push\",\n",
    "                     json={\n",
    "                         \"token\": \"444db7f1cca1\",\n",
    "                         \"title\": \"CNN BO-TPE\",\n",
    "                         \"name\": \"Omar Project\"\n",
    "                     })\n",
    "print(resp.content.decode())"
   ]
  },
  {
   "cell_type": "markdown",
   "metadata": {
    "tags": []
   },
   "source": [
    "### Random Search"
   ]
  },
  {
   "cell_type": "code",
   "execution_count": 31,
   "metadata": {},
   "outputs": [
    {
     "name": "stdout",
     "output_type": "stream",
     "text": [
      "  0%|          | 0/10 [00:00<?, ?trial/s, best loss=?]"
     ]
    },
    {
     "name": "stderr",
     "output_type": "stream",
     "text": [
      "/root/miniconda3/lib/python3.8/site-packages/tensorflow/python/keras/engine/training.py:1940: UserWarning: `Model.fit_generator` is deprecated and will be removed in a future version. Please use `Model.fit`, which supports generators.\n",
      "  warnings.warn('`Model.fit_generator` is deprecated and '\n",
      "\n",
      "/tmp/ipykernel_326/422981087.py:40: FutureWarning: The frame.append method is deprecated and will be removed from pandas in a future version. Use pandas.concat instead.\n",
      "  output_df=output_df.append(result_dict,ignore_index=True)\n",
      "\n"
     ]
    },
    {
     "name": "stdout",
     "output_type": "stream",
     "text": [
      "accuracy:0.9401544401544402                           \n",
      " 10%|█         | 1/10 [03:54<35:06, 234.06s/trial, best loss: -0.9401544401544402]"
     ]
    },
    {
     "name": "stderr",
     "output_type": "stream",
     "text": [
      "/root/miniconda3/lib/python3.8/site-packages/tensorflow/python/keras/engine/training.py:1940: UserWarning: `Model.fit_generator` is deprecated and will be removed in a future version. Please use `Model.fit`, which supports generators.\n",
      "  warnings.warn('`Model.fit_generator` is deprecated and '\n",
      "\n",
      "/tmp/ipykernel_326/422981087.py:40: FutureWarning: The frame.append method is deprecated and will be removed from pandas in a future version. Use pandas.concat instead.\n",
      "  output_df=output_df.append(result_dict,ignore_index=True)\n",
      "\n"
     ]
    },
    {
     "name": "stdout",
     "output_type": "stream",
     "text": [
      "accuracy:0.9401544401544402                                                       \n",
      " 20%|██        | 2/10 [07:30<29:49, 223.71s/trial, best loss: -0.9401544401544402]"
     ]
    },
    {
     "name": "stderr",
     "output_type": "stream",
     "text": [
      "/root/miniconda3/lib/python3.8/site-packages/tensorflow/python/keras/engine/training.py:1940: UserWarning: `Model.fit_generator` is deprecated and will be removed in a future version. Please use `Model.fit`, which supports generators.\n",
      "  warnings.warn('`Model.fit_generator` is deprecated and '\n",
      "\n",
      "/tmp/ipykernel_326/422981087.py:40: FutureWarning: The frame.append method is deprecated and will be removed from pandas in a future version. Use pandas.concat instead.\n",
      "  output_df=output_df.append(result_dict,ignore_index=True)\n",
      "\n"
     ]
    },
    {
     "name": "stdout",
     "output_type": "stream",
     "text": [
      "accuracy:0.888030888030888                                                        \n",
      " 30%|███       | 3/10 [09:55<21:55, 187.95s/trial, best loss: -0.9401544401544402]"
     ]
    },
    {
     "name": "stderr",
     "output_type": "stream",
     "text": [
      "/root/miniconda3/lib/python3.8/site-packages/tensorflow/python/keras/engine/training.py:1940: UserWarning: `Model.fit_generator` is deprecated and will be removed in a future version. Please use `Model.fit`, which supports generators.\n",
      "  warnings.warn('`Model.fit_generator` is deprecated and '\n",
      "\n",
      "/tmp/ipykernel_326/422981087.py:40: FutureWarning: The frame.append method is deprecated and will be removed from pandas in a future version. Use pandas.concat instead.\n",
      "  output_df=output_df.append(result_dict,ignore_index=True)\n",
      "\n"
     ]
    },
    {
     "name": "stdout",
     "output_type": "stream",
     "text": [
      "accuracy:0.888030888030888                                                        \n",
      " 40%|████      | 4/10 [12:00<16:16, 162.77s/trial, best loss: -0.9401544401544402]"
     ]
    },
    {
     "name": "stderr",
     "output_type": "stream",
     "text": [
      "/root/miniconda3/lib/python3.8/site-packages/tensorflow/python/keras/engine/training.py:1940: UserWarning: `Model.fit_generator` is deprecated and will be removed in a future version. Please use `Model.fit`, which supports generators.\n",
      "  warnings.warn('`Model.fit_generator` is deprecated and '\n",
      "\n",
      "/tmp/ipykernel_326/422981087.py:40: FutureWarning: The frame.append method is deprecated and will be removed from pandas in a future version. Use pandas.concat instead.\n",
      "  output_df=output_df.append(result_dict,ignore_index=True)\n",
      "\n"
     ]
    },
    {
     "name": "stdout",
     "output_type": "stream",
     "text": [
      "accuracy:0.9942084942084942                                                       \n",
      " 50%|█████     | 5/10 [17:26<18:29, 221.94s/trial, best loss: -0.9942084942084942]"
     ]
    },
    {
     "name": "stderr",
     "output_type": "stream",
     "text": [
      "/root/miniconda3/lib/python3.8/site-packages/tensorflow/python/keras/engine/training.py:1940: UserWarning: `Model.fit_generator` is deprecated and will be removed in a future version. Please use `Model.fit`, which supports generators.\n",
      "  warnings.warn('`Model.fit_generator` is deprecated and '\n",
      "\n",
      "/tmp/ipykernel_326/422981087.py:40: FutureWarning: The frame.append method is deprecated and will be removed from pandas in a future version. Use pandas.concat instead.\n",
      "  output_df=output_df.append(result_dict,ignore_index=True)\n",
      "\n"
     ]
    },
    {
     "name": "stdout",
     "output_type": "stream",
     "text": [
      "accuracy:0.944015444015444                                                        \n",
      " 60%|██████    | 6/10 [21:39<15:29, 232.34s/trial, best loss: -0.9942084942084942]"
     ]
    },
    {
     "name": "stderr",
     "output_type": "stream",
     "text": [
      "/root/miniconda3/lib/python3.8/site-packages/tensorflow/python/keras/engine/training.py:1940: UserWarning: `Model.fit_generator` is deprecated and will be removed in a future version. Please use `Model.fit`, which supports generators.\n",
      "  warnings.warn('`Model.fit_generator` is deprecated and '\n",
      "\n",
      "/tmp/ipykernel_326/422981087.py:40: FutureWarning: The frame.append method is deprecated and will be removed from pandas in a future version. Use pandas.concat instead.\n",
      "  output_df=output_df.append(result_dict,ignore_index=True)\n",
      "\n"
     ]
    },
    {
     "name": "stdout",
     "output_type": "stream",
     "text": [
      "accuracy:0.9613899613899614                                                       \n",
      " 70%|███████   | 7/10 [24:56<11:02, 220.87s/trial, best loss: -0.9942084942084942]"
     ]
    },
    {
     "name": "stderr",
     "output_type": "stream",
     "text": [
      "/root/miniconda3/lib/python3.8/site-packages/tensorflow/python/keras/engine/training.py:1940: UserWarning: `Model.fit_generator` is deprecated and will be removed in a future version. Please use `Model.fit`, which supports generators.\n",
      "  warnings.warn('`Model.fit_generator` is deprecated and '\n",
      "\n",
      "/tmp/ipykernel_326/422981087.py:40: FutureWarning: The frame.append method is deprecated and will be removed from pandas in a future version. Use pandas.concat instead.\n",
      "  output_df=output_df.append(result_dict,ignore_index=True)\n",
      "\n"
     ]
    },
    {
     "name": "stdout",
     "output_type": "stream",
     "text": [
      "accuracy:0.8976833976833977                                                       \n",
      " 80%|████████  | 8/10 [27:02<06:21, 190.61s/trial, best loss: -0.9942084942084942]"
     ]
    },
    {
     "name": "stderr",
     "output_type": "stream",
     "text": [
      "/root/miniconda3/lib/python3.8/site-packages/tensorflow/python/keras/engine/training.py:1940: UserWarning: `Model.fit_generator` is deprecated and will be removed in a future version. Please use `Model.fit`, which supports generators.\n",
      "  warnings.warn('`Model.fit_generator` is deprecated and '\n",
      "\n",
      "/tmp/ipykernel_326/422981087.py:40: FutureWarning: The frame.append method is deprecated and will be removed from pandas in a future version. Use pandas.concat instead.\n",
      "  output_df=output_df.append(result_dict,ignore_index=True)\n",
      "\n"
     ]
    },
    {
     "name": "stdout",
     "output_type": "stream",
     "text": [
      "accuracy:0.888030888030888                                                        \n",
      " 90%|█████████ | 9/10 [29:08<02:50, 170.50s/trial, best loss: -0.9942084942084942]"
     ]
    },
    {
     "name": "stderr",
     "output_type": "stream",
     "text": [
      "/root/miniconda3/lib/python3.8/site-packages/tensorflow/python/keras/engine/training.py:1940: UserWarning: `Model.fit_generator` is deprecated and will be removed in a future version. Please use `Model.fit`, which supports generators.\n",
      "  warnings.warn('`Model.fit_generator` is deprecated and '\n",
      "\n",
      "/tmp/ipykernel_326/422981087.py:40: FutureWarning: The frame.append method is deprecated and will be removed from pandas in a future version. Use pandas.concat instead.\n",
      "  output_df=output_df.append(result_dict,ignore_index=True)\n",
      "\n"
     ]
    },
    {
     "name": "stdout",
     "output_type": "stream",
     "text": [
      "accuracy:0.9131274131274131                                                       \n",
      "100%|██████████| 10/10 [32:09<00:00, 192.97s/trial, best loss: -0.9942084942084942]\n",
      "Hyperopt estimated optimum {'dropout_rate': 0.4, 'epochs': 20.0, 'frozen': 17.0, 'lr': 0.005, 'patience': 4.0}\n"
     ]
    }
   ],
   "source": [
    "#Hyperparameter optimization by Random search\n",
    "space = {\n",
    "    'frozen': hp.quniform('frozen', 15, 18, 1),\n",
    "    'epochs': hp.quniform('epochs', 5, 21, 5),\n",
    "    'patience': hp.quniform('patience', 2, 4, 1),\n",
    "    'lr': hp.quniform('lr', 0.001, 0.006, 0.001),\n",
    "    'dropout_rate': hp.quniform('dropout_rate', 0.3, 0.6, 0.1),\n",
    "}\n",
    "\n",
    "t1=time.time()\n",
    "best = fmin(fn=objective,\n",
    "            space=space,\n",
    "            algo=rand.suggest,\n",
    "            max_evals=10)\n",
    "print(\"Hyperopt estimated optimum {}\".format(best)) \n",
    "t2=time.time()\n"
   ]
  },
  {
   "cell_type": "markdown",
   "metadata": {},
   "source": [
    "### 用优化后的超参数"
   ]
  },
  {
   "cell_type": "code",
   "execution_count": 32,
   "metadata": {},
   "outputs": [
    {
     "name": "stderr",
     "output_type": "stream",
     "text": [
      "/root/miniconda3/lib/python3.8/site-packages/tensorflow/python/keras/engine/training.py:1940: UserWarning: `Model.fit_generator` is deprecated and will be removed in a future version. Please use `Model.fit`, which supports generators.\n",
      "  warnings.warn('`Model.fit_generator` is deprecated and '\n"
     ]
    },
    {
     "name": "stdout",
     "output_type": "stream",
     "text": [
      "Epoch 1/20\n",
      "17/17 [==============================] - 19s 1s/step - loss: 1.1787 - accuracy: 0.6532 - val_loss: 0.9894 - val_accuracy: 0.6834\n",
      "\n",
      "Epoch 00001: val_accuracy improved from -inf to 0.68340, saving model to ./model_own.h5\n",
      "Epoch 2/20\n",
      "17/17 [==============================] - 17s 970ms/step - loss: 0.9963 - accuracy: 0.6599 - val_loss: 0.9454 - val_accuracy: 0.6834\n",
      "\n",
      "Epoch 00002: val_accuracy did not improve from 0.68340\n",
      "Epoch 3/20\n",
      "17/17 [==============================] - 19s 1s/step - loss: 0.7835 - accuracy: 0.7182 - val_loss: 0.5034 - val_accuracy: 0.8784\n",
      "\n",
      "Epoch 00003: val_accuracy improved from 0.68340 to 0.87838, saving model to ./model_own.h5\n",
      "Epoch 4/20\n",
      "17/17 [==============================] - 18s 1s/step - loss: 0.5243 - accuracy: 0.8276 - val_loss: 0.4254 - val_accuracy: 0.8205\n",
      "\n",
      "Epoch 00004: val_accuracy did not improve from 0.87838\n",
      "Epoch 5/20\n",
      "17/17 [==============================] - 18s 1s/step - loss: 0.4345 - accuracy: 0.8589 - val_loss: 0.2661 - val_accuracy: 0.8880\n",
      "\n",
      "Epoch 00005: val_accuracy improved from 0.87838 to 0.88803, saving model to ./model_own.h5\n",
      "Epoch 6/20\n",
      "17/17 [==============================] - 19s 1s/step - loss: 0.3055 - accuracy: 0.8786 - val_loss: 0.1807 - val_accuracy: 0.8919\n",
      "\n",
      "Epoch 00006: val_accuracy improved from 0.88803 to 0.89189, saving model to ./model_own.h5\n",
      "Epoch 7/20\n",
      "17/17 [==============================] - 17s 1s/step - loss: 0.5699 - accuracy: 0.7712 - val_loss: 0.4075 - val_accuracy: 0.8475\n",
      "\n",
      "Epoch 00007: val_accuracy did not improve from 0.89189\n",
      "Epoch 8/20\n",
      "17/17 [==============================] - 19s 1s/step - loss: 0.4169 - accuracy: 0.8680 - val_loss: 0.2957 - val_accuracy: 0.8880\n",
      "\n",
      "Epoch 00008: val_accuracy did not improve from 0.89189\n",
      "Epoch 9/20\n",
      "17/17 [==============================] - 19s 1s/step - loss: 0.2904 - accuracy: 0.8839 - val_loss: 0.1881 - val_accuracy: 0.8919\n",
      "\n",
      "Epoch 00009: val_accuracy did not improve from 0.89189\n",
      "Epoch 10/20\n",
      "17/17 [==============================] - 18s 1s/step - loss: 0.1927 - accuracy: 0.9143 - val_loss: 0.0952 - val_accuracy: 0.9633\n",
      "\n",
      "Epoch 00010: val_accuracy improved from 0.89189 to 0.96332, saving model to ./model_own.h5\n",
      "Epoch 11/20\n",
      "17/17 [==============================] - 18s 1s/step - loss: 0.1503 - accuracy: 0.9364 - val_loss: 0.1433 - val_accuracy: 0.9363\n",
      "\n",
      "Epoch 00011: val_accuracy did not improve from 0.96332\n",
      "Epoch 12/20\n",
      "17/17 [==============================] - 18s 1s/step - loss: 0.1112 - accuracy: 0.9581 - val_loss: 0.0396 - val_accuracy: 1.0000\n",
      "\n",
      "Epoch 00012: val_accuracy improved from 0.96332 to 1.00000, saving model to ./model_own.h5\n",
      "Epoch 13/20\n",
      "17/17 [==============================] - 19s 1s/step - loss: 0.0811 - accuracy: 0.9682 - val_loss: 0.0429 - val_accuracy: 0.9903\n",
      "\n",
      "Epoch 00013: val_accuracy did not improve from 1.00000\n",
      "Epoch 14/20\n",
      "17/17 [==============================] - 18s 1s/step - loss: 0.3186 - accuracy: 0.9147 - val_loss: 0.1538 - val_accuracy: 0.9710\n",
      "\n",
      "Epoch 00014: val_accuracy did not improve from 1.00000\n",
      "Epoch 15/20\n",
      "17/17 [==============================] - 18s 1s/step - loss: 0.1843 - accuracy: 0.9263 - val_loss: 0.1154 - val_accuracy: 0.9402\n",
      "\n",
      "Epoch 00015: val_accuracy did not improve from 1.00000\n",
      "Epoch 16/20\n",
      "17/17 [==============================] - 18s 1s/step - loss: 0.1041 - accuracy: 0.9605 - val_loss: 0.0651 - val_accuracy: 0.9537\n",
      "\n",
      "Epoch 00016: val_accuracy did not improve from 1.00000\n",
      "Epoch 00016: early stopping\n"
     ]
    },
    {
     "name": "stderr",
     "output_type": "stream",
     "text": [
      "/tmp/ipykernel_326/422981087.py:40: FutureWarning: The frame.append method is deprecated and will be removed from pandas in a future version. Use pandas.concat instead.\n",
      "  output_df=output_df.append(result_dict,ignore_index=True)\n"
     ]
    }
   ],
   "source": [
    "params=get_params(format(best))\n",
    "index=clear_output_df(index)\n",
    "\n",
    "temptime=t2-t1\n",
    "\n",
    "time_opt.append(temptime)\n",
    "opt_type.append(\"RS\")\n",
    "\n",
    "t1=time.time()\n",
    "cnn_by_own(**params)\n",
    "t2=time.time()\n",
    "\n",
    "temptime=t2-t1\n",
    "timelist.append(temptime)\n"
   ]
  },
  {
   "cell_type": "code",
   "execution_count": 33,
   "metadata": {},
   "outputs": [
    {
     "name": "stdout",
     "output_type": "stream",
     "text": [
      "{\"code\":\"Success\",\"data\":null,\"msg\":\"\"}\n"
     ]
    }
   ],
   "source": [
    "resp = requests.post(\"https://www.autodl.com/api/v1/wechat/message/push\",\n",
    "                     json={\n",
    "                         \"token\": \"444db7f1cca1\",\n",
    "                         \"title\": \"CNN RS\",\n",
    "                         \"name\": \"Omar Project\"\n",
    "                     })\n",
    "print(resp.content.decode())"
   ]
  },
  {
   "cell_type": "code",
   "execution_count": 40,
   "metadata": {},
   "outputs": [
    {
     "data": {
      "text/plain": [
       "['CNN',\n",
       " 'Xception',\n",
       " 'VGG16',\n",
       " 'VGG19',\n",
       " 'Resnet',\n",
       " 'Inception',\n",
       " 'InceptionResnet',\n",
       " 'CNN',\n",
       " 'CNN',\n",
       " 'VGG16']"
      ]
     },
     "execution_count": 40,
     "metadata": {},
     "output_type": "execute_result"
    }
   ],
   "source": [
    "output_index"
   ]
  },
  {
   "cell_type": "markdown",
   "metadata": {},
   "source": [
    "# VGG16\n"
   ]
  },
  {
   "cell_type": "code",
   "execution_count": 38,
   "metadata": {},
   "outputs": [],
   "source": [
    "def vgg16(num_class,epochs=20,frozen=15,lr=0.001,patience=2, dropout_rate=0.5,verbose=0, savepath='./VGG16.h5',history=history_VGG16,input_shape=INPUT_SIZE):\n",
    "    model_fine_tune = VGG16(include_top=False, weights='imagenet', input_shape=input_shape)\n",
    "    for layer in model_fine_tune.layers[:frozen]:\t#the number of frozen layers for transfer learning, have tuned from 5-18\n",
    "        layer.trainable = False\n",
    "    for layer in model_fine_tune.layers[frozen:]:\n",
    "        layer.trainable = True\n",
    "    model = GlobalAveragePooling2D()(model_fine_tune.output)\n",
    "    model=Dense(units=256,activation='relu')(model)\n",
    "    model=Dropout(dropout_rate)(model)\n",
    "    model = Dense(num_class, activation='softmax')(model)\n",
    "    model = Model(model_fine_tune.input, model, name='vgg')\n",
    "    opt = keras.optimizers.Adam(lr=lr, beta_1=0.9, beta_2=0.999, epsilon=1e-08)\t#tuned learning rate to be 0.001\n",
    "    model.compile(loss='categorical_crossentropy', optimizer=opt, metrics=['accuracy'])\t#set the loss function to be binary crossentropy\n",
    "    #train model\n",
    "    earlyStopping = kcallbacks.EarlyStopping(\n",
    "        monitor='val_accuracy', patience=patience, verbose=verbose, mode='auto')\t#set early stop patience to save training time\n",
    "    saveBestModel = kcallbacks.ModelCheckpoint(\n",
    "        filepath=savepath,\n",
    "        monitor='val_accuracy',\n",
    "        verbose=verbose,\n",
    "        save_best_only=True,\n",
    "        mode='auto')\n",
    "    hist = model.fit_generator(\n",
    "        train_generator,\n",
    "        steps_per_epoch=len(train_generator),\n",
    "        epochs=epochs,\n",
    "        validation_data=validation_generator,\n",
    "        validation_steps=len(validation_generator),\n",
    "        #use_multiprocessing=True, \n",
    "        #workers=2,\n",
    "        callbacks=[earlyStopping, saveBestModel, history],\n",
    "        verbose = verbose\n",
    "    )\n",
    "    return hist"
   ]
  },
  {
   "cell_type": "code",
   "execution_count": 41,
   "metadata": {},
   "outputs": [],
   "source": [
    "def prediction(vgg_model):\n",
    "#read images from validation folder\n",
    "    rootdir = './test_224/'\n",
    "    test_laels = []\n",
    "    test_images=[]\n",
    "    for subdir, dirs, files in os.walk(rootdir):\n",
    "        for file in files:\n",
    "            if not (file.endswith(\".jpeg\"))|(file.endswith(\".jpg\"))|(file.endswith(\".png\")):\n",
    "                continue\n",
    "            test_laels.append(subdir.split('/')[-1])\n",
    "            test_images.append(os.path.join(subdir, file))\n",
    "\n",
    "    predict=[]\n",
    "    length=len(test_images)\n",
    "    label=validation_generator.class_indices\n",
    "    label={v: k for k, v in label.items()}\n",
    "    for i in range(length):\n",
    "        inputimg=test_images[i]\n",
    "        test_batch=[]\n",
    "        thisimg=np.array(Image.open(inputimg))/255 #read all the images in validation set\n",
    "        #print(thisimg)\n",
    "        test_shape=(1,)+thisimg.shape\n",
    "        thisimg=thisimg.reshape(test_shape)\n",
    "        avgg_model_batch=vgg_model.predict(thisimg) #use master model to process the input image\n",
    "        #generate result by model 1\n",
    "        prob=vgg_model_batch[0,np.argmax(vgg_model_batch,axis=1)[0]]\n",
    "        res=label[np.argmax(vgg_model_batch,axis=1)[0]]\n",
    "        predict.append(res)\n",
    "    acc=accuracy_score(test_laels,predict)\n",
    "    return acc"
   ]
  },
  {
   "cell_type": "code",
   "execution_count": 42,
   "metadata": {},
   "outputs": [],
   "source": [
    "#define the objective function to be optimized\n",
    "import time\n",
    "from hyperopt import hp, fmin, tpe, rand, STATUS_OK, Trials\n",
    "import matplotlib.pyplot as plt\n",
    "import statistics \n",
    "\n",
    "def objective(params):\n",
    "    \n",
    "    params = {\n",
    "        'frozen': int(params['frozen']),\n",
    "        'epochs': int(params['epochs']),\n",
    "        'patience': int(params['patience']),\n",
    "        'lr': abs(float(params['lr'])),\n",
    "        'dropout_rate': abs(float(params['dropout_rate'])),\n",
    "    }\n",
    "    frozen=params['frozen']\n",
    "    epochs=params['epochs']\n",
    "    patience=params['patience']\n",
    "    lr=params['lr']\n",
    "    dropout_rate=params['dropout_rate']\n",
    "    \n",
    "    #\n",
    "    vgg16(num_class=5, frozen=frozen,epochs=epochs,patience=patience, lr=lr, dropout_rate=dropout_rate)\n",
    "    #\n",
    "    acc=prediction(vgg_model=load_model('./VGG16.h5'))\n",
    "\n",
    "    print('accuracy:%s'%acc)\n",
    "    return {'loss': -acc, 'status': STATUS_OK }\n",
    "    "
   ]
  },
  {
   "cell_type": "markdown",
   "metadata": {},
   "source": [
    "### 超参数优化BO-TPE"
   ]
  },
  {
   "cell_type": "code",
   "execution_count": 43,
   "metadata": {},
   "outputs": [
    {
     "name": "stdout",
     "output_type": "stream",
     "text": [
      "  0%|          | 0/10 [00:00<?, ?trial/s, best loss=?]"
     ]
    },
    {
     "name": "stderr",
     "output_type": "stream",
     "text": [
      "/root/miniconda3/lib/python3.8/site-packages/tensorflow/python/keras/optimizer_v2/optimizer_v2.py:374: UserWarning: The `lr` argument is deprecated, use `learning_rate` instead.\n",
      "  warnings.warn(\n",
      "\n",
      "/tmp/ipykernel_326/422981087.py:40: FutureWarning: The frame.append method is deprecated and will be removed from pandas in a future version. Use pandas.concat instead.\n",
      "  output_df=output_df.append(result_dict,ignore_index=True)\n",
      "\n"
     ]
    },
    {
     "name": "stdout",
     "output_type": "stream",
     "text": [
      "accuracy:1.0                                          \n",
      " 10%|█         | 1/10 [02:06<18:54, 126.03s/trial, best loss: -1.0]"
     ]
    },
    {
     "name": "stderr",
     "output_type": "stream",
     "text": [
      "/root/miniconda3/lib/python3.8/site-packages/tensorflow/python/keras/optimizer_v2/optimizer_v2.py:374: UserWarning: The `lr` argument is deprecated, use `learning_rate` instead.\n",
      "  warnings.warn(\n",
      "\n",
      "/tmp/ipykernel_326/422981087.py:40: FutureWarning: The frame.append method is deprecated and will be removed from pandas in a future version. Use pandas.concat instead.\n",
      "  output_df=output_df.append(result_dict,ignore_index=True)\n",
      "\n"
     ]
    },
    {
     "name": "stdout",
     "output_type": "stream",
     "text": [
      "accuracy:1.0                                                       \n",
      " 20%|██        | 2/10 [04:29<18:09, 136.24s/trial, best loss: -1.0]"
     ]
    },
    {
     "name": "stderr",
     "output_type": "stream",
     "text": [
      "/root/miniconda3/lib/python3.8/site-packages/tensorflow/python/keras/optimizer_v2/optimizer_v2.py:374: UserWarning: The `lr` argument is deprecated, use `learning_rate` instead.\n",
      "  warnings.warn(\n",
      "\n",
      "/tmp/ipykernel_326/422981087.py:40: FutureWarning: The frame.append method is deprecated and will be removed from pandas in a future version. Use pandas.concat instead.\n",
      "  output_df=output_df.append(result_dict,ignore_index=True)\n",
      "\n"
     ]
    },
    {
     "name": "stdout",
     "output_type": "stream",
     "text": [
      "accuracy:1.0                                                       \n",
      " 30%|███       | 3/10 [06:35<15:20, 131.45s/trial, best loss: -1.0]"
     ]
    },
    {
     "name": "stderr",
     "output_type": "stream",
     "text": [
      "/root/miniconda3/lib/python3.8/site-packages/tensorflow/python/keras/optimizer_v2/optimizer_v2.py:374: UserWarning: The `lr` argument is deprecated, use `learning_rate` instead.\n",
      "  warnings.warn(\n",
      "\n",
      "/tmp/ipykernel_326/422981087.py:40: FutureWarning: The frame.append method is deprecated and will be removed from pandas in a future version. Use pandas.concat instead.\n",
      "  output_df=output_df.append(result_dict,ignore_index=True)\n",
      "\n"
     ]
    },
    {
     "name": "stdout",
     "output_type": "stream",
     "text": [
      "accuracy:1.0                                                       \n",
      " 40%|████      | 4/10 [08:40<12:53, 128.93s/trial, best loss: -1.0]"
     ]
    },
    {
     "name": "stderr",
     "output_type": "stream",
     "text": [
      "/root/miniconda3/lib/python3.8/site-packages/tensorflow/python/keras/optimizer_v2/optimizer_v2.py:374: UserWarning: The `lr` argument is deprecated, use `learning_rate` instead.\n",
      "  warnings.warn(\n",
      "\n",
      "/tmp/ipykernel_326/422981087.py:40: FutureWarning: The frame.append method is deprecated and will be removed from pandas in a future version. Use pandas.concat instead.\n",
      "  output_df=output_df.append(result_dict,ignore_index=True)\n",
      "\n"
     ]
    },
    {
     "name": "stdout",
     "output_type": "stream",
     "text": [
      "accuracy:1.0                                                       \n",
      " 50%|█████     | 5/10 [11:38<12:14, 146.83s/trial, best loss: -1.0]"
     ]
    },
    {
     "name": "stderr",
     "output_type": "stream",
     "text": [
      "/root/miniconda3/lib/python3.8/site-packages/tensorflow/python/keras/optimizer_v2/optimizer_v2.py:374: UserWarning: The `lr` argument is deprecated, use `learning_rate` instead.\n",
      "  warnings.warn(\n",
      "\n",
      "/tmp/ipykernel_326/422981087.py:40: FutureWarning: The frame.append method is deprecated and will be removed from pandas in a future version. Use pandas.concat instead.\n",
      "  output_df=output_df.append(result_dict,ignore_index=True)\n",
      "\n"
     ]
    },
    {
     "name": "stdout",
     "output_type": "stream",
     "text": [
      "accuracy:1.0                                                       \n",
      " 60%|██████    | 6/10 [15:34<11:48, 177.13s/trial, best loss: -1.0]"
     ]
    },
    {
     "name": "stderr",
     "output_type": "stream",
     "text": [
      "/root/miniconda3/lib/python3.8/site-packages/tensorflow/python/keras/optimizer_v2/optimizer_v2.py:374: UserWarning: The `lr` argument is deprecated, use `learning_rate` instead.\n",
      "  warnings.warn(\n",
      "\n",
      "/tmp/ipykernel_326/422981087.py:40: FutureWarning: The frame.append method is deprecated and will be removed from pandas in a future version. Use pandas.concat instead.\n",
      "  output_df=output_df.append(result_dict,ignore_index=True)\n",
      "\n"
     ]
    },
    {
     "name": "stdout",
     "output_type": "stream",
     "text": [
      "accuracy:1.0                                                       \n",
      " 70%|███████   | 7/10 [19:11<09:30, 190.17s/trial, best loss: -1.0]"
     ]
    },
    {
     "name": "stderr",
     "output_type": "stream",
     "text": [
      "/root/miniconda3/lib/python3.8/site-packages/tensorflow/python/keras/optimizer_v2/optimizer_v2.py:374: UserWarning: The `lr` argument is deprecated, use `learning_rate` instead.\n",
      "  warnings.warn(\n",
      "\n",
      "/tmp/ipykernel_326/422981087.py:40: FutureWarning: The frame.append method is deprecated and will be removed from pandas in a future version. Use pandas.concat instead.\n",
      "  output_df=output_df.append(result_dict,ignore_index=True)\n",
      "\n"
     ]
    },
    {
     "name": "stdout",
     "output_type": "stream",
     "text": [
      "accuracy:1.0                                                       \n",
      " 80%|████████  | 8/10 [22:11<06:13, 186.96s/trial, best loss: -1.0]"
     ]
    },
    {
     "name": "stderr",
     "output_type": "stream",
     "text": [
      "/root/miniconda3/lib/python3.8/site-packages/tensorflow/python/keras/optimizer_v2/optimizer_v2.py:374: UserWarning: The `lr` argument is deprecated, use `learning_rate` instead.\n",
      "  warnings.warn(\n",
      "\n",
      "/tmp/ipykernel_326/422981087.py:40: FutureWarning: The frame.append method is deprecated and will be removed from pandas in a future version. Use pandas.concat instead.\n",
      "  output_df=output_df.append(result_dict,ignore_index=True)\n",
      "\n"
     ]
    },
    {
     "name": "stdout",
     "output_type": "stream",
     "text": [
      "accuracy:1.0                                                       \n",
      " 90%|█████████ | 9/10 [25:29<03:10, 190.35s/trial, best loss: -1.0]"
     ]
    },
    {
     "name": "stderr",
     "output_type": "stream",
     "text": [
      "/root/miniconda3/lib/python3.8/site-packages/tensorflow/python/keras/optimizer_v2/optimizer_v2.py:374: UserWarning: The `lr` argument is deprecated, use `learning_rate` instead.\n",
      "  warnings.warn(\n",
      "\n",
      "/tmp/ipykernel_326/422981087.py:40: FutureWarning: The frame.append method is deprecated and will be removed from pandas in a future version. Use pandas.concat instead.\n",
      "  output_df=output_df.append(result_dict,ignore_index=True)\n",
      "\n"
     ]
    },
    {
     "name": "stdout",
     "output_type": "stream",
     "text": [
      "accuracy:1.0                                                       \n",
      "100%|██████████| 10/10 [28:31<00:00, 171.15s/trial, best loss: -1.0]\n",
      "Hyperopt estimated optimum {'dropout_rate': 0.4, 'epochs': 5.0, 'frozen': 15.0, 'lr': 0.001, 'patience': 4.0}\n"
     ]
    }
   ],
   "source": [
    "#Hyperparameter optimization by Bayesian optimization - Tree Parzen Estimator\n",
    "space = {\n",
    "    'frozen': hp.quniform('frozen', 15, 18, 1),\n",
    "    'epochs': hp.quniform('epochs', 5, 21, 5),\n",
    "    'patience': hp.quniform('patience', 2, 4, 1),\n",
    "    'lr': hp.quniform('lr', 0.001, 0.006, 0.001),\n",
    "    'dropout_rate': hp.quniform('dropout_rate', 0.3, 0.6, 0.1),\n",
    "}\n",
    "\n",
    "t1=time.time()\n",
    "best = fmin(fn=objective,\n",
    "            space=space,\n",
    "            algo=tpe.suggest,\n",
    "            max_evals=10)\n",
    "print(\"Hyperopt estimated optimum {}\".format(best))\n",
    "t2=time.time()\n",
    "\n"
   ]
  },
  {
   "cell_type": "markdown",
   "metadata": {},
   "source": [
    "### 用优化后的超参数"
   ]
  },
  {
   "cell_type": "code",
   "execution_count": 44,
   "metadata": {},
   "outputs": [
    {
     "name": "stderr",
     "output_type": "stream",
     "text": [
      "/root/miniconda3/lib/python3.8/site-packages/tensorflow/python/keras/optimizer_v2/optimizer_v2.py:374: UserWarning: The `lr` argument is deprecated, use `learning_rate` instead.\n",
      "  warnings.warn(\n"
     ]
    },
    {
     "name": "stdout",
     "output_type": "stream",
     "text": [
      "Epoch 1/5\n",
      "17/17 [==============================] - 20s 1s/step - loss: 1.0258 - accuracy: 0.6156 - val_loss: 0.3240 - val_accuracy: 0.8861\n",
      "\n",
      "Epoch 00001: val_accuracy improved from -inf to 0.88610, saving model to ./VGG16.h5\n",
      "Epoch 2/5\n",
      "17/17 [==============================] - 17s 1s/step - loss: 0.3253 - accuracy: 0.8637 - val_loss: 0.2225 - val_accuracy: 0.8880\n",
      "\n",
      "Epoch 00002: val_accuracy improved from 0.88610 to 0.88803, saving model to ./VGG16.h5\n",
      "Epoch 3/5\n",
      "17/17 [==============================] - 18s 1s/step - loss: 0.1674 - accuracy: 0.9273 - val_loss: 0.0105 - val_accuracy: 1.0000\n",
      "\n",
      "Epoch 00003: val_accuracy improved from 0.88803 to 1.00000, saving model to ./VGG16.h5\n",
      "Epoch 4/5\n",
      "17/17 [==============================] - 18s 1s/step - loss: 0.0777 - accuracy: 0.9740 - val_loss: 0.0502 - val_accuracy: 0.9846\n",
      "\n",
      "Epoch 00004: val_accuracy did not improve from 1.00000\n",
      "Epoch 5/5\n",
      "17/17 [==============================] - 18s 1s/step - loss: 0.0221 - accuracy: 0.9908 - val_loss: 0.0012 - val_accuracy: 1.0000\n",
      "\n",
      "Epoch 00005: val_accuracy did not improve from 1.00000\n"
     ]
    },
    {
     "name": "stderr",
     "output_type": "stream",
     "text": [
      "/tmp/ipykernel_326/422981087.py:40: FutureWarning: The frame.append method is deprecated and will be removed from pandas in a future version. Use pandas.concat instead.\n",
      "  output_df=output_df.append(result_dict,ignore_index=True)\n"
     ]
    }
   ],
   "source": [
    "\n",
    "params=get_params(format(best))\n",
    "\n",
    "index=clear_output_df(index)\n",
    "# Retrain the model by using the best hyperparameter values to obtain the best model\n",
    "temptime=t2-t1\n",
    "\n",
    "time_opt.append(temptime)\n",
    "opt_type.append(\"BO-TPE\")\n",
    "\n",
    "t1=time.time()\n",
    "vgg16(**params)\n",
    "t2=time.time()\n",
    "\n",
    "temptime=t2-t1\n",
    "timelist.append(temptime)\n"
   ]
  },
  {
   "cell_type": "code",
   "execution_count": 45,
   "metadata": {},
   "outputs": [
    {
     "name": "stdout",
     "output_type": "stream",
     "text": [
      "{\"code\":\"Success\",\"data\":null,\"msg\":\"\"}\n"
     ]
    }
   ],
   "source": [
    "resp = requests.post(\"https://www.autodl.com/api/v1/wechat/message/push\",\n",
    "                     json={\n",
    "                         \"token\": \"444db7f1cca1\",\n",
    "                         \"title\": \"VGG16 BO-TPE\",\n",
    "                         \"name\": \"Omar Project\"\n",
    "                     })\n",
    "print(resp.content.decode())"
   ]
  },
  {
   "cell_type": "markdown",
   "metadata": {},
   "source": [
    "### 超参数优化Random Search"
   ]
  },
  {
   "cell_type": "code",
   "execution_count": 46,
   "metadata": {},
   "outputs": [
    {
     "name": "stdout",
     "output_type": "stream",
     "text": [
      "  0%|          | 0/10 [00:00<?, ?trial/s, best loss=?]"
     ]
    },
    {
     "name": "stderr",
     "output_type": "stream",
     "text": [
      "/root/miniconda3/lib/python3.8/site-packages/tensorflow/python/keras/optimizer_v2/optimizer_v2.py:374: UserWarning: The `lr` argument is deprecated, use `learning_rate` instead.\n",
      "  warnings.warn(\n",
      "\n",
      "/tmp/ipykernel_326/422981087.py:40: FutureWarning: The frame.append method is deprecated and will be removed from pandas in a future version. Use pandas.concat instead.\n",
      "  output_df=output_df.append(result_dict,ignore_index=True)\n",
      "\n"
     ]
    },
    {
     "name": "stdout",
     "output_type": "stream",
     "text": [
      "accuracy:1.0                                          \n",
      " 10%|█         | 1/10 [03:36<32:28, 216.55s/trial, best loss: -1.0]"
     ]
    },
    {
     "name": "stderr",
     "output_type": "stream",
     "text": [
      "/root/miniconda3/lib/python3.8/site-packages/tensorflow/python/keras/optimizer_v2/optimizer_v2.py:374: UserWarning: The `lr` argument is deprecated, use `learning_rate` instead.\n",
      "  warnings.warn(\n",
      "\n",
      "/tmp/ipykernel_326/422981087.py:40: FutureWarning: The frame.append method is deprecated and will be removed from pandas in a future version. Use pandas.concat instead.\n",
      "  output_df=output_df.append(result_dict,ignore_index=True)\n",
      "\n"
     ]
    },
    {
     "name": "stdout",
     "output_type": "stream",
     "text": [
      "accuracy:1.0                                                       \n",
      " 20%|██        | 2/10 [05:43<21:48, 163.61s/trial, best loss: -1.0]"
     ]
    },
    {
     "name": "stderr",
     "output_type": "stream",
     "text": [
      "/root/miniconda3/lib/python3.8/site-packages/tensorflow/python/keras/optimizer_v2/optimizer_v2.py:374: UserWarning: The `lr` argument is deprecated, use `learning_rate` instead.\n",
      "  warnings.warn(\n",
      "\n",
      "/tmp/ipykernel_326/422981087.py:40: FutureWarning: The frame.append method is deprecated and will be removed from pandas in a future version. Use pandas.concat instead.\n",
      "  output_df=output_df.append(result_dict,ignore_index=True)\n",
      "\n"
     ]
    },
    {
     "name": "stdout",
     "output_type": "stream",
     "text": [
      "accuracy:1.0                                                       \n",
      " 30%|███       | 3/10 [07:49<17:07, 146.76s/trial, best loss: -1.0]"
     ]
    },
    {
     "name": "stderr",
     "output_type": "stream",
     "text": [
      "/root/miniconda3/lib/python3.8/site-packages/tensorflow/python/keras/optimizer_v2/optimizer_v2.py:374: UserWarning: The `lr` argument is deprecated, use `learning_rate` instead.\n",
      "  warnings.warn(\n",
      "\n",
      "/tmp/ipykernel_326/422981087.py:40: FutureWarning: The frame.append method is deprecated and will be removed from pandas in a future version. Use pandas.concat instead.\n",
      "  output_df=output_df.append(result_dict,ignore_index=True)\n",
      "\n"
     ]
    },
    {
     "name": "stdout",
     "output_type": "stream",
     "text": [
      "accuracy:1.0                                                       \n",
      " 40%|████      | 4/10 [09:52<13:42, 137.14s/trial, best loss: -1.0]"
     ]
    },
    {
     "name": "stderr",
     "output_type": "stream",
     "text": [
      "/root/miniconda3/lib/python3.8/site-packages/tensorflow/python/keras/optimizer_v2/optimizer_v2.py:374: UserWarning: The `lr` argument is deprecated, use `learning_rate` instead.\n",
      "  warnings.warn(\n",
      "\n",
      "/tmp/ipykernel_326/422981087.py:40: FutureWarning: The frame.append method is deprecated and will be removed from pandas in a future version. Use pandas.concat instead.\n",
      "  output_df=output_df.append(result_dict,ignore_index=True)\n",
      "\n"
     ]
    },
    {
     "name": "stdout",
     "output_type": "stream",
     "text": [
      "accuracy:1.0                                                       \n",
      " 50%|█████     | 5/10 [11:57<11:03, 132.78s/trial, best loss: -1.0]"
     ]
    },
    {
     "name": "stderr",
     "output_type": "stream",
     "text": [
      "/root/miniconda3/lib/python3.8/site-packages/tensorflow/python/keras/optimizer_v2/optimizer_v2.py:374: UserWarning: The `lr` argument is deprecated, use `learning_rate` instead.\n",
      "  warnings.warn(\n",
      "\n",
      "/tmp/ipykernel_326/422981087.py:40: FutureWarning: The frame.append method is deprecated and will be removed from pandas in a future version. Use pandas.concat instead.\n",
      "  output_df=output_df.append(result_dict,ignore_index=True)\n",
      "\n"
     ]
    },
    {
     "name": "stdout",
     "output_type": "stream",
     "text": [
      "accuracy:1.0                                                       \n",
      " 60%|██████    | 6/10 [14:01<08:39, 129.90s/trial, best loss: -1.0]"
     ]
    },
    {
     "name": "stderr",
     "output_type": "stream",
     "text": [
      "/root/miniconda3/lib/python3.8/site-packages/tensorflow/python/keras/optimizer_v2/optimizer_v2.py:374: UserWarning: The `lr` argument is deprecated, use `learning_rate` instead.\n",
      "  warnings.warn(\n",
      "\n",
      "/tmp/ipykernel_326/422981087.py:40: FutureWarning: The frame.append method is deprecated and will be removed from pandas in a future version. Use pandas.concat instead.\n",
      "  output_df=output_df.append(result_dict,ignore_index=True)\n",
      "\n"
     ]
    },
    {
     "name": "stdout",
     "output_type": "stream",
     "text": [
      "accuracy:0.888030888030888                                         \n",
      " 70%|███████   | 7/10 [16:24<06:42, 134.00s/trial, best loss: -1.0]"
     ]
    },
    {
     "name": "stderr",
     "output_type": "stream",
     "text": [
      "/root/miniconda3/lib/python3.8/site-packages/tensorflow/python/keras/optimizer_v2/optimizer_v2.py:374: UserWarning: The `lr` argument is deprecated, use `learning_rate` instead.\n",
      "  warnings.warn(\n",
      "\n",
      "/tmp/ipykernel_326/422981087.py:40: FutureWarning: The frame.append method is deprecated and will be removed from pandas in a future version. Use pandas.concat instead.\n",
      "  output_df=output_df.append(result_dict,ignore_index=True)\n",
      "\n"
     ]
    },
    {
     "name": "stdout",
     "output_type": "stream",
     "text": [
      "accuracy:1.0                                                       \n",
      " 80%|████████  | 8/10 [18:47<04:34, 137.17s/trial, best loss: -1.0]"
     ]
    },
    {
     "name": "stderr",
     "output_type": "stream",
     "text": [
      "/root/miniconda3/lib/python3.8/site-packages/tensorflow/python/keras/optimizer_v2/optimizer_v2.py:374: UserWarning: The `lr` argument is deprecated, use `learning_rate` instead.\n",
      "  warnings.warn(\n",
      "\n",
      "/tmp/ipykernel_326/422981087.py:40: FutureWarning: The frame.append method is deprecated and will be removed from pandas in a future version. Use pandas.concat instead.\n",
      "  output_df=output_df.append(result_dict,ignore_index=True)\n",
      "\n"
     ]
    },
    {
     "name": "stdout",
     "output_type": "stream",
     "text": [
      "accuracy:1.0                                                       \n",
      " 90%|█████████ | 9/10 [20:53<02:13, 133.50s/trial, best loss: -1.0]"
     ]
    },
    {
     "name": "stderr",
     "output_type": "stream",
     "text": [
      "/root/miniconda3/lib/python3.8/site-packages/tensorflow/python/keras/optimizer_v2/optimizer_v2.py:374: UserWarning: The `lr` argument is deprecated, use `learning_rate` instead.\n",
      "  warnings.warn(\n",
      "\n",
      "/tmp/ipykernel_326/422981087.py:40: FutureWarning: The frame.append method is deprecated and will be removed from pandas in a future version. Use pandas.concat instead.\n",
      "  output_df=output_df.append(result_dict,ignore_index=True)\n",
      "\n"
     ]
    },
    {
     "name": "stdout",
     "output_type": "stream",
     "text": [
      "accuracy:0.9980694980694981                                        \n",
      "100%|██████████| 10/10 [25:25<00:00, 152.51s/trial, best loss: -1.0]\n",
      "Hyperopt estimated optimum {'dropout_rate': 0.6000000000000001, 'epochs': 20.0, 'frozen': 16.0, 'lr': 0.005, 'patience': 4.0}\n"
     ]
    }
   ],
   "source": [
    "#Hyperparameter optimization by Random search\n",
    "space = {\n",
    "    'frozen': hp.quniform('frozen', 15, 18, 1),\n",
    "    'epochs': hp.quniform('epochs', 5, 21, 5),\n",
    "    'patience': hp.quniform('patience', 2, 4, 1),\n",
    "    'lr': hp.quniform('lr', 0.001, 0.006, 0.001),\n",
    "    'dropout_rate': hp.quniform('dropout_rate', 0.3, 0.6, 0.1),\n",
    "}\n",
    "\n",
    "t1=time.time()\n",
    "best = fmin(fn=objective,\n",
    "            space=space,\n",
    "            algo=rand.suggest,\n",
    "            max_evals=10)\n",
    "print(\"Hyperopt estimated optimum {}\".format(best))\n",
    "t2=time.time()\n"
   ]
  },
  {
   "cell_type": "markdown",
   "metadata": {},
   "source": [
    "### 用优化后的超参数\n"
   ]
  },
  {
   "cell_type": "code",
   "execution_count": 47,
   "metadata": {},
   "outputs": [
    {
     "name": "stderr",
     "output_type": "stream",
     "text": [
      "/root/miniconda3/lib/python3.8/site-packages/tensorflow/python/keras/optimizer_v2/optimizer_v2.py:374: UserWarning: The `lr` argument is deprecated, use `learning_rate` instead.\n",
      "  warnings.warn(\n"
     ]
    },
    {
     "name": "stdout",
     "output_type": "stream",
     "text": [
      "Epoch 1/20\n",
      "17/17 [==============================] - 20s 1s/step - loss: 9.5467 - accuracy: 0.5241 - val_loss: 0.9564 - val_accuracy: 0.6834\n",
      "\n",
      "Epoch 00001: val_accuracy improved from -inf to 0.68340, saving model to ./VGG16.h5\n",
      "Epoch 2/20\n",
      "17/17 [==============================] - 17s 1s/step - loss: 0.6857 - accuracy: 0.6816 - val_loss: 0.4309 - val_accuracy: 0.7876\n",
      "\n",
      "Epoch 00002: val_accuracy improved from 0.68340 to 0.78764, saving model to ./VGG16.h5\n",
      "Epoch 3/20\n",
      "17/17 [==============================] - 17s 1s/step - loss: 0.3765 - accuracy: 0.8406 - val_loss: 0.1992 - val_accuracy: 0.9208\n",
      "\n",
      "Epoch 00003: val_accuracy improved from 0.78764 to 0.92085, saving model to ./VGG16.h5\n",
      "Epoch 4/20\n",
      "17/17 [==============================] - 18s 1s/step - loss: 0.3269 - accuracy: 0.8772 - val_loss: 0.1698 - val_accuracy: 0.9402\n",
      "\n",
      "Epoch 00004: val_accuracy improved from 0.92085 to 0.94015, saving model to ./VGG16.h5\n",
      "Epoch 5/20\n",
      "17/17 [==============================] - 19s 1s/step - loss: 0.1950 - accuracy: 0.9253 - val_loss: 0.1124 - val_accuracy: 0.9459\n",
      "\n",
      "Epoch 00005: val_accuracy improved from 0.94015 to 0.94595, saving model to ./VGG16.h5\n",
      "Epoch 6/20\n",
      "17/17 [==============================] - 18s 1s/step - loss: 0.1340 - accuracy: 0.9412 - val_loss: 0.0866 - val_accuracy: 0.9846\n",
      "\n",
      "Epoch 00006: val_accuracy improved from 0.94595 to 0.98456, saving model to ./VGG16.h5\n",
      "Epoch 7/20\n",
      "17/17 [==============================] - 19s 1s/step - loss: 0.1118 - accuracy: 0.9538 - val_loss: 0.0670 - val_accuracy: 0.9633\n",
      "\n",
      "Epoch 00007: val_accuracy did not improve from 0.98456\n",
      "Epoch 8/20\n",
      "17/17 [==============================] - 18s 1s/step - loss: 0.5593 - accuracy: 0.8714 - val_loss: 0.3402 - val_accuracy: 0.7992\n",
      "\n",
      "Epoch 00008: val_accuracy did not improve from 0.98456\n",
      "Epoch 9/20\n",
      "17/17 [==============================] - 17s 1s/step - loss: 0.5567 - accuracy: 0.7828 - val_loss: 0.3211 - val_accuracy: 0.8282\n",
      "\n",
      "Epoch 00009: val_accuracy did not improve from 0.98456\n",
      "Epoch 10/20\n",
      "17/17 [==============================] - 16s 932ms/step - loss: 0.3491 - accuracy: 0.8574 - val_loss: 0.1646 - val_accuracy: 0.9595\n",
      "\n",
      "Epoch 00010: val_accuracy did not improve from 0.98456\n",
      "Epoch 00010: early stopping\n"
     ]
    },
    {
     "name": "stderr",
     "output_type": "stream",
     "text": [
      "/tmp/ipykernel_326/422981087.py:40: FutureWarning: The frame.append method is deprecated and will be removed from pandas in a future version. Use pandas.concat instead.\n",
      "  output_df=output_df.append(result_dict,ignore_index=True)\n"
     ]
    }
   ],
   "source": [
    "params=get_params(format(best))\n",
    "index=clear_output_df(index)\n",
    "\n",
    "temptime=t2-t1\n",
    "\n",
    "time_opt.append(temptime)\n",
    "opt_type.append(\"RS\")\n",
    "\n",
    "t1=time.time()\n",
    "vgg16(**params)\n",
    "t2=time.time()\n",
    "\n",
    "temptime=t2-t1\n",
    "timelist.append(temptime)\n"
   ]
  },
  {
   "cell_type": "code",
   "execution_count": 48,
   "metadata": {},
   "outputs": [
    {
     "name": "stdout",
     "output_type": "stream",
     "text": [
      "{\"code\":\"Success\",\"data\":null,\"msg\":\"\"}\n"
     ]
    }
   ],
   "source": [
    "resp = requests.post(\"https://www.autodl.com/api/v1/wechat/message/push\",\n",
    "                     json={\n",
    "                         \"token\": \"444db7f1cca1\",\n",
    "                         \"title\": \"VGG16 RS\",\n",
    "                         \"name\": \"Omar Project\"\n",
    "                     })\n",
    "print(resp.content.decode())"
   ]
  },
  {
   "cell_type": "markdown",
   "metadata": {},
   "source": [
    "# VGG19"
   ]
  },
  {
   "cell_type": "code",
   "execution_count": 49,
   "metadata": {},
   "outputs": [],
   "source": [
    "def vgg19(num_class,epochs=20,frozen=15,lr=0.001,patience=2, dropout_rate=0.5,verbose=0, savepath='./VGG19.h5',history=history_VGG19,input_shape=INPUT_SIZE):\n",
    "    model_fine_tune = VGG19(include_top=False, weights='imagenet', input_shape=input_shape)\n",
    "    for layer in model_fine_tune.layers[:frozen]:\t#the number of frozen layers for transfer learning, have tuned from 5-18\n",
    "        layer.trainable = False\n",
    "    for layer in model_fine_tune.layers[frozen:]:\n",
    "        layer.trainable = True\n",
    "    model = GlobalAveragePooling2D()(model_fine_tune.output)\n",
    "    model=Dense(units=256,activation='relu')(model)\n",
    "    model=Dropout(dropout_rate)(model)\n",
    "    model = Dense(num_class, activation='softmax')(model)\n",
    "    model = Model(model_fine_tune.input, model, name='vgg')\n",
    "    opt = keras.optimizers.Adam(lr=lr, beta_1=0.9, beta_2=0.999, epsilon=1e-08)\t#tuned learning rate to be 0.001\n",
    "    model.compile(loss='categorical_crossentropy', optimizer=opt, metrics=['accuracy'])\t#set the loss function to be binary crossentropy\n",
    "    #train model\n",
    "    earlyStopping = kcallbacks.EarlyStopping(\n",
    "        monitor='val_accuracy', patience=patience, verbose=verbose, mode='auto')\t#set early stop patience to save training time\n",
    "    saveBestModel = kcallbacks.ModelCheckpoint(\n",
    "        filepath=savepath,\n",
    "        monitor='val_accuracy',\n",
    "        verbose=verbose,\n",
    "        save_best_only=True,\n",
    "        mode='auto')\n",
    "    hist = model.fit(\n",
    "        train_generator,\n",
    "        steps_per_epoch=len(train_generator),\n",
    "        epochs=epochs,\n",
    "        validation_data=validation_generator,\n",
    "        validation_steps=len(validation_generator),\n",
    "        #use_multiprocessing=True, \n",
    "        #workers=2,\n",
    "        callbacks=[earlyStopping, saveBestModel, history],\n",
    "        verbose = verbose\n",
    "    )\n",
    "    return hist\n"
   ]
  },
  {
   "cell_type": "code",
   "execution_count": 50,
   "metadata": {},
   "outputs": [],
   "source": [
    "def prediction(vgg_model):\n",
    "#read images from validation folder\n",
    "    rootdir = './test_224/'\n",
    "    test_laels = []\n",
    "    test_images=[]\n",
    "    for subdir, dirs, files in os.walk(rootdir):\n",
    "        for file in files:\n",
    "            if not (file.endswith(\".jpeg\"))|(file.endswith(\".jpg\"))|(file.endswith(\".png\")):\n",
    "                continue\n",
    "            test_laels.append(subdir.split('/')[-1])\n",
    "            test_images.append(os.path.join(subdir, file))\n",
    "\n",
    "    predict=[]\n",
    "    length=len(test_images)\n",
    "    label=validation_generator.class_indices\n",
    "    label={v: k for k, v in label.items()}\n",
    "    for i in range(length):\n",
    "        inputimg=test_images[i]\n",
    "        test_batch=[]\n",
    "        thisimg=np.array(Image.open(inputimg))/255 #read all the images in validation set\n",
    "        #print(thisimg)\n",
    "        test_shape=(1,)+thisimg.shape\n",
    "        thisimg=thisimg.reshape(test_shape)\n",
    "        vgg_model_batch=vgg_model.predict(thisimg) #use master model to process the input image\n",
    "        #generate result by model 1\n",
    "        prob=vgg_model_batch[0,np.argmax(vgg_model_batch,axis=1)[0]]\n",
    "        res=label[np.argmax(vgg_model_batch,axis=1)[0]]\n",
    "        predict.append(res)\n",
    "    acc=accuracy_score(test_laels,predict)\n",
    "    return acc"
   ]
  },
  {
   "cell_type": "code",
   "execution_count": 51,
   "metadata": {},
   "outputs": [],
   "source": [
    "#define the objective function to be optimized\n",
    "import time\n",
    "from hyperopt import hp, fmin, tpe, rand, STATUS_OK, Trials\n",
    "import matplotlib.pyplot as plt\n",
    "import statistics \n",
    "\n",
    "def objective(params):\n",
    "    \n",
    "    params = {\n",
    "        'frozen': int(params['frozen']),\n",
    "        'epochs': int(params['epochs']),\n",
    "        'patience': int(params['patience']),\n",
    "        'lr': abs(float(params['lr'])),\n",
    "        'dropout_rate': abs(float(params['dropout_rate'])),\n",
    "    }\n",
    "    frozen=params['frozen']\n",
    "    epochs=params['epochs']\n",
    "    patience=params['patience']\n",
    "    lr=params['lr']\n",
    "    dropout_rate=params['dropout_rate']\n",
    "\n",
    "    vgg19(num_class=5, frozen=frozen,epochs=epochs,patience=patience, lr=lr, dropout_rate=dropout_rate)\n",
    "\n",
    "    acc=prediction(vgg_model=load_model('./VGG19.h5'))\n",
    "\n",
    "    print('accuracy:%s'%acc)\n",
    "    return {'loss': -acc, 'status': STATUS_OK }\n",
    "    "
   ]
  },
  {
   "cell_type": "markdown",
   "metadata": {},
   "source": [
    "### 超参数优化 BO-TPE"
   ]
  },
  {
   "cell_type": "code",
   "execution_count": 52,
   "metadata": {},
   "outputs": [
    {
     "name": "stdout",
     "output_type": "stream",
     "text": [
      "  0%|          | 0/10 [00:00<?, ?trial/s, best loss=?]"
     ]
    },
    {
     "name": "stderr",
     "output_type": "stream",
     "text": [
      "/root/miniconda3/lib/python3.8/site-packages/tensorflow/python/keras/optimizer_v2/optimizer_v2.py:374: UserWarning: The `lr` argument is deprecated, use `learning_rate` instead.\n",
      "  warnings.warn(\n",
      "\n",
      "/tmp/ipykernel_326/422981087.py:40: FutureWarning: The frame.append method is deprecated and will be removed from pandas in a future version. Use pandas.concat instead.\n",
      "  output_df=output_df.append(result_dict,ignore_index=True)\n",
      "\n"
     ]
    },
    {
     "name": "stdout",
     "output_type": "stream",
     "text": [
      "accuracy:0.9324324324324325                           \n",
      " 10%|█         | 1/10 [03:16<29:32, 196.98s/trial, best loss: -0.9324324324324325]"
     ]
    },
    {
     "name": "stderr",
     "output_type": "stream",
     "text": [
      "/root/miniconda3/lib/python3.8/site-packages/tensorflow/python/keras/optimizer_v2/optimizer_v2.py:374: UserWarning: The `lr` argument is deprecated, use `learning_rate` instead.\n",
      "  warnings.warn(\n",
      "\n",
      "/tmp/ipykernel_326/422981087.py:40: FutureWarning: The frame.append method is deprecated and will be removed from pandas in a future version. Use pandas.concat instead.\n",
      "  output_df=output_df.append(result_dict,ignore_index=True)\n",
      "\n"
     ]
    },
    {
     "name": "stdout",
     "output_type": "stream",
     "text": [
      "accuracy:0.7876447876447876                                                       \n",
      " 20%|██        | 2/10 [05:58<23:29, 176.17s/trial, best loss: -0.9324324324324325]"
     ]
    },
    {
     "name": "stderr",
     "output_type": "stream",
     "text": [
      "/root/miniconda3/lib/python3.8/site-packages/tensorflow/python/keras/optimizer_v2/optimizer_v2.py:374: UserWarning: The `lr` argument is deprecated, use `learning_rate` instead.\n",
      "  warnings.warn(\n",
      "\n",
      "/tmp/ipykernel_326/422981087.py:40: FutureWarning: The frame.append method is deprecated and will be removed from pandas in a future version. Use pandas.concat instead.\n",
      "  output_df=output_df.append(result_dict,ignore_index=True)\n",
      "\n"
     ]
    },
    {
     "name": "stdout",
     "output_type": "stream",
     "text": [
      "accuracy:0.6833976833976834                                                       \n",
      " 30%|███       | 3/10 [07:44<16:49, 144.20s/trial, best loss: -0.9324324324324325]"
     ]
    },
    {
     "name": "stderr",
     "output_type": "stream",
     "text": [
      "/root/miniconda3/lib/python3.8/site-packages/tensorflow/python/keras/optimizer_v2/optimizer_v2.py:374: UserWarning: The `lr` argument is deprecated, use `learning_rate` instead.\n",
      "  warnings.warn(\n",
      "\n",
      "/tmp/ipykernel_326/422981087.py:40: FutureWarning: The frame.append method is deprecated and will be removed from pandas in a future version. Use pandas.concat instead.\n",
      "  output_df=output_df.append(result_dict,ignore_index=True)\n",
      "\n"
     ]
    },
    {
     "name": "stdout",
     "output_type": "stream",
     "text": [
      "accuracy:0.9305019305019305                                                       \n",
      " 40%|████      | 4/10 [10:28<15:12, 152.09s/trial, best loss: -0.9324324324324325]"
     ]
    },
    {
     "name": "stderr",
     "output_type": "stream",
     "text": [
      "/root/miniconda3/lib/python3.8/site-packages/tensorflow/python/keras/optimizer_v2/optimizer_v2.py:374: UserWarning: The `lr` argument is deprecated, use `learning_rate` instead.\n",
      "  warnings.warn(\n",
      "\n",
      "/tmp/ipykernel_326/422981087.py:40: FutureWarning: The frame.append method is deprecated and will be removed from pandas in a future version. Use pandas.concat instead.\n",
      "  output_df=output_df.append(result_dict,ignore_index=True)\n",
      "\n"
     ]
    },
    {
     "name": "stdout",
     "output_type": "stream",
     "text": [
      "accuracy:0.6833976833976834                                                       \n",
      " 50%|█████     | 5/10 [12:15<11:19, 135.83s/trial, best loss: -0.9324324324324325]"
     ]
    },
    {
     "name": "stderr",
     "output_type": "stream",
     "text": [
      "/root/miniconda3/lib/python3.8/site-packages/tensorflow/python/keras/optimizer_v2/optimizer_v2.py:374: UserWarning: The `lr` argument is deprecated, use `learning_rate` instead.\n",
      "  warnings.warn(\n",
      "\n",
      "/tmp/ipykernel_326/422981087.py:40: FutureWarning: The frame.append method is deprecated and will be removed from pandas in a future version. Use pandas.concat instead.\n",
      "  output_df=output_df.append(result_dict,ignore_index=True)\n",
      "\n"
     ]
    },
    {
     "name": "stdout",
     "output_type": "stream",
     "text": [
      "accuracy:1.0                                                                      \n",
      " 60%|██████    | 6/10 [15:51<10:51, 162.98s/trial, best loss: -1.0]               "
     ]
    },
    {
     "name": "stderr",
     "output_type": "stream",
     "text": [
      "/root/miniconda3/lib/python3.8/site-packages/tensorflow/python/keras/optimizer_v2/optimizer_v2.py:374: UserWarning: The `lr` argument is deprecated, use `learning_rate` instead.\n",
      "  warnings.warn(\n",
      "\n",
      "/tmp/ipykernel_326/422981087.py:40: FutureWarning: The frame.append method is deprecated and will be removed from pandas in a future version. Use pandas.concat instead.\n",
      "  output_df=output_df.append(result_dict,ignore_index=True)\n",
      "\n"
     ]
    },
    {
     "name": "stdout",
     "output_type": "stream",
     "text": [
      "accuracy:0.8745173745173745                                        \n",
      " 70%|███████   | 7/10 [18:36<08:10, 163.66s/trial, best loss: -1.0]"
     ]
    },
    {
     "name": "stderr",
     "output_type": "stream",
     "text": [
      "/root/miniconda3/lib/python3.8/site-packages/tensorflow/python/keras/optimizer_v2/optimizer_v2.py:374: UserWarning: The `lr` argument is deprecated, use `learning_rate` instead.\n",
      "  warnings.warn(\n",
      "\n",
      "/tmp/ipykernel_326/422981087.py:40: FutureWarning: The frame.append method is deprecated and will be removed from pandas in a future version. Use pandas.concat instead.\n",
      "  output_df=output_df.append(result_dict,ignore_index=True)\n",
      "\n"
     ]
    },
    {
     "name": "stdout",
     "output_type": "stream",
     "text": [
      "accuracy:0.6853281853281853                                        \n",
      " 80%|████████  | 8/10 [21:18<05:25, 162.96s/trial, best loss: -1.0]"
     ]
    },
    {
     "name": "stderr",
     "output_type": "stream",
     "text": [
      "/root/miniconda3/lib/python3.8/site-packages/tensorflow/python/keras/optimizer_v2/optimizer_v2.py:374: UserWarning: The `lr` argument is deprecated, use `learning_rate` instead.\n",
      "  warnings.warn(\n",
      "\n",
      "/tmp/ipykernel_326/422981087.py:40: FutureWarning: The frame.append method is deprecated and will be removed from pandas in a future version. Use pandas.concat instead.\n",
      "  output_df=output_df.append(result_dict,ignore_index=True)\n",
      "\n"
     ]
    },
    {
     "name": "stdout",
     "output_type": "stream",
     "text": [
      "accuracy:0.8861003861003861                                        \n",
      " 90%|█████████ | 9/10 [23:25<02:31, 151.99s/trial, best loss: -1.0]"
     ]
    },
    {
     "name": "stderr",
     "output_type": "stream",
     "text": [
      "/root/miniconda3/lib/python3.8/site-packages/tensorflow/python/keras/optimizer_v2/optimizer_v2.py:374: UserWarning: The `lr` argument is deprecated, use `learning_rate` instead.\n",
      "  warnings.warn(\n",
      "\n",
      "/tmp/ipykernel_326/422981087.py:40: FutureWarning: The frame.append method is deprecated and will be removed from pandas in a future version. Use pandas.concat instead.\n",
      "  output_df=output_df.append(result_dict,ignore_index=True)\n",
      "\n"
     ]
    },
    {
     "name": "stdout",
     "output_type": "stream",
     "text": [
      "accuracy:0.888030888030888                                         \n",
      "100%|██████████| 10/10 [25:49<00:00, 154.92s/trial, best loss: -1.0]\n",
      "Hyperopt estimated optimum {'dropout_rate': 0.30000000000000004, 'epochs': 15.0, 'frozen': 18.0, 'lr': 0.001, 'patience': 3.0}\n"
     ]
    }
   ],
   "source": [
    "#Hyperparameter optimization by Bayesian optimization - Tree Parzen Estimator\n",
    "space = {\n",
    "    'frozen': hp.quniform('frozen', 15, 18, 1),\n",
    "    'epochs': hp.quniform('epochs', 5, 21, 5),\n",
    "    'patience': hp.quniform('patience', 2, 4, 1),\n",
    "    'lr': hp.quniform('lr', 0.001, 0.006, 0.001),\n",
    "    'dropout_rate': hp.quniform('dropout_rate', 0.3, 0.6, 0.1),\n",
    "}\n",
    "\n",
    "t1=time.time()\n",
    "best = fmin(fn=objective,\n",
    "            space=space,\n",
    "            algo=tpe.suggest,\n",
    "            max_evals=10)\n",
    "print(\"Hyperopt estimated optimum {}\".format(best))\n",
    "t2=time.time()"
   ]
  },
  {
   "cell_type": "markdown",
   "metadata": {},
   "source": [
    "### 用优化后的超参数"
   ]
  },
  {
   "cell_type": "code",
   "execution_count": 53,
   "metadata": {},
   "outputs": [
    {
     "name": "stderr",
     "output_type": "stream",
     "text": [
      "/root/miniconda3/lib/python3.8/site-packages/tensorflow/python/keras/optimizer_v2/optimizer_v2.py:374: UserWarning: The `lr` argument is deprecated, use `learning_rate` instead.\n",
      "  warnings.warn(\n"
     ]
    },
    {
     "name": "stdout",
     "output_type": "stream",
     "text": [
      "Epoch 1/15\n",
      "17/17 [==============================] - 20s 1s/step - loss: 1.1516 - accuracy: 0.6869 - val_loss: 0.7172 - val_accuracy: 0.7876\n",
      "\n",
      "Epoch 00001: val_accuracy improved from -inf to 0.78764, saving model to ./VGG19.h5\n",
      "Epoch 2/15\n",
      "17/17 [==============================] - 18s 1s/step - loss: 0.5162 - accuracy: 0.8179 - val_loss: 0.3487 - val_accuracy: 0.7915\n",
      "\n",
      "Epoch 00002: val_accuracy improved from 0.78764 to 0.79151, saving model to ./VGG19.h5\n",
      "Epoch 3/15\n",
      "17/17 [==============================] - 17s 1s/step - loss: 0.3032 - accuracy: 0.8579 - val_loss: 0.1832 - val_accuracy: 0.9093\n",
      "\n",
      "Epoch 00003: val_accuracy improved from 0.79151 to 0.90927, saving model to ./VGG19.h5\n",
      "Epoch 4/15\n",
      "17/17 [==============================] - 18s 1s/step - loss: 0.2090 - accuracy: 0.9215 - val_loss: 0.0770 - val_accuracy: 0.9556\n",
      "\n",
      "Epoch 00004: val_accuracy improved from 0.90927 to 0.95560, saving model to ./VGG19.h5\n",
      "Epoch 5/15\n",
      "17/17 [==============================] - 18s 1s/step - loss: 0.1518 - accuracy: 0.9427 - val_loss: 0.0520 - val_accuracy: 0.9846\n",
      "\n",
      "Epoch 00005: val_accuracy improved from 0.95560 to 0.98456, saving model to ./VGG19.h5\n",
      "Epoch 6/15\n",
      "17/17 [==============================] - 18s 1s/step - loss: 0.0497 - accuracy: 0.9865 - val_loss: 0.0233 - val_accuracy: 0.9865\n",
      "\n",
      "Epoch 00006: val_accuracy improved from 0.98456 to 0.98649, saving model to ./VGG19.h5\n",
      "Epoch 7/15\n",
      "17/17 [==============================] - 18s 1s/step - loss: 0.0067 - accuracy: 0.9986 - val_loss: 3.4679e-04 - val_accuracy: 1.0000\n",
      "\n",
      "Epoch 00007: val_accuracy improved from 0.98649 to 1.00000, saving model to ./VGG19.h5\n",
      "Epoch 8/15\n",
      "17/17 [==============================] - 17s 1s/step - loss: 0.0021 - accuracy: 0.9995 - val_loss: 3.8398e-04 - val_accuracy: 1.0000\n",
      "\n",
      "Epoch 00008: val_accuracy did not improve from 1.00000\n",
      "Epoch 9/15\n",
      "17/17 [==============================] - 18s 1s/step - loss: 0.0010 - accuracy: 1.0000 - val_loss: 4.1524e-05 - val_accuracy: 1.0000\n",
      "\n",
      "Epoch 00009: val_accuracy did not improve from 1.00000\n",
      "Epoch 10/15\n",
      "17/17 [==============================] - 18s 1s/step - loss: 5.3465e-04 - accuracy: 1.0000 - val_loss: 2.4616e-05 - val_accuracy: 1.0000\n",
      "\n",
      "Epoch 00010: val_accuracy did not improve from 1.00000\n",
      "Epoch 00010: early stopping\n"
     ]
    },
    {
     "name": "stderr",
     "output_type": "stream",
     "text": [
      "/tmp/ipykernel_326/422981087.py:40: FutureWarning: The frame.append method is deprecated and will be removed from pandas in a future version. Use pandas.concat instead.\n",
      "  output_df=output_df.append(result_dict,ignore_index=True)\n"
     ]
    }
   ],
   "source": [
    "\n",
    "params=get_params(format(best))\n",
    "index=clear_output_df(index)\n",
    "\n",
    "temptime=t2-t1\n",
    "time_opt.append(temptime)\n",
    "opt_type.append(\"BO-TPE\")\n",
    "\n",
    "t1=time.time()\n",
    "vgg19(**params)\n",
    "t2=time.time()\n",
    "\n",
    "temptime=t2-t1\n",
    "timelist.append(temptime)\n"
   ]
  },
  {
   "cell_type": "code",
   "execution_count": 54,
   "metadata": {},
   "outputs": [
    {
     "name": "stdout",
     "output_type": "stream",
     "text": [
      "{\"code\":\"Success\",\"data\":null,\"msg\":\"\"}\n"
     ]
    }
   ],
   "source": [
    "resp = requests.post(\"https://www.autodl.com/api/v1/wechat/message/push\",\n",
    "                     json={\n",
    "                         \"token\": \"444db7f1cca1\",\n",
    "                         \"title\": \"VGG19 BO-TPE\",\n",
    "                         \"name\": \"Omar Project\"\n",
    "                     })\n",
    "print(resp.content.decode())"
   ]
  },
  {
   "cell_type": "markdown",
   "metadata": {},
   "source": [
    "### 超参数优化Random Search"
   ]
  },
  {
   "cell_type": "code",
   "execution_count": 55,
   "metadata": {},
   "outputs": [
    {
     "name": "stdout",
     "output_type": "stream",
     "text": [
      "  0%|          | 0/10 [00:00<?, ?trial/s, best loss=?]"
     ]
    },
    {
     "name": "stderr",
     "output_type": "stream",
     "text": [
      "/root/miniconda3/lib/python3.8/site-packages/tensorflow/python/keras/optimizer_v2/optimizer_v2.py:374: UserWarning: The `lr` argument is deprecated, use `learning_rate` instead.\n",
      "  warnings.warn(\n",
      "\n",
      "/tmp/ipykernel_326/422981087.py:40: FutureWarning: The frame.append method is deprecated and will be removed from pandas in a future version. Use pandas.concat instead.\n",
      "  output_df=output_df.append(result_dict,ignore_index=True)\n",
      "\n"
     ]
    },
    {
     "name": "stdout",
     "output_type": "stream",
     "text": [
      "accuracy:1.0                                          \n",
      " 10%|█         | 1/10 [03:37<32:40, 217.80s/trial, best loss: -1.0]"
     ]
    },
    {
     "name": "stderr",
     "output_type": "stream",
     "text": [
      "/root/miniconda3/lib/python3.8/site-packages/tensorflow/python/keras/optimizer_v2/optimizer_v2.py:374: UserWarning: The `lr` argument is deprecated, use `learning_rate` instead.\n",
      "  warnings.warn(\n",
      "\n",
      "/tmp/ipykernel_326/422981087.py:40: FutureWarning: The frame.append method is deprecated and will be removed from pandas in a future version. Use pandas.concat instead.\n",
      "  output_df=output_df.append(result_dict,ignore_index=True)\n",
      "\n"
     ]
    },
    {
     "name": "stdout",
     "output_type": "stream",
     "text": [
      "accuracy:0.9942084942084942                                        \n",
      " 20%|██        | 2/10 [07:14<28:56, 217.04s/trial, best loss: -1.0]"
     ]
    },
    {
     "name": "stderr",
     "output_type": "stream",
     "text": [
      "/root/miniconda3/lib/python3.8/site-packages/tensorflow/python/keras/optimizer_v2/optimizer_v2.py:374: UserWarning: The `lr` argument is deprecated, use `learning_rate` instead.\n",
      "  warnings.warn(\n",
      "\n",
      "/tmp/ipykernel_326/422981087.py:40: FutureWarning: The frame.append method is deprecated and will be removed from pandas in a future version. Use pandas.concat instead.\n",
      "  output_df=output_df.append(result_dict,ignore_index=True)\n",
      "\n"
     ]
    },
    {
     "name": "stdout",
     "output_type": "stream",
     "text": [
      "accuracy:0.9555984555984556                                        \n",
      " 30%|███       | 3/10 [10:51<25:18, 216.97s/trial, best loss: -1.0]"
     ]
    },
    {
     "name": "stderr",
     "output_type": "stream",
     "text": [
      "/root/miniconda3/lib/python3.8/site-packages/tensorflow/python/keras/optimizer_v2/optimizer_v2.py:374: UserWarning: The `lr` argument is deprecated, use `learning_rate` instead.\n",
      "  warnings.warn(\n",
      "\n",
      "/tmp/ipykernel_326/422981087.py:40: FutureWarning: The frame.append method is deprecated and will be removed from pandas in a future version. Use pandas.concat instead.\n",
      "  output_df=output_df.append(result_dict,ignore_index=True)\n",
      "\n"
     ]
    },
    {
     "name": "stdout",
     "output_type": "stream",
     "text": [
      "accuracy:0.6833976833976834                                        \n",
      " 40%|████      | 4/10 [12:38<17:20, 173.49s/trial, best loss: -1.0]"
     ]
    },
    {
     "name": "stderr",
     "output_type": "stream",
     "text": [
      "/root/miniconda3/lib/python3.8/site-packages/tensorflow/python/keras/optimizer_v2/optimizer_v2.py:374: UserWarning: The `lr` argument is deprecated, use `learning_rate` instead.\n",
      "  warnings.warn(\n",
      "\n",
      "/tmp/ipykernel_326/422981087.py:40: FutureWarning: The frame.append method is deprecated and will be removed from pandas in a future version. Use pandas.concat instead.\n",
      "  output_df=output_df.append(result_dict,ignore_index=True)\n",
      "\n"
     ]
    },
    {
     "name": "stdout",
     "output_type": "stream",
     "text": [
      "accuracy:0.888030888030888                                         \n",
      " 50%|█████     | 5/10 [15:37<14:39, 175.81s/trial, best loss: -1.0]"
     ]
    },
    {
     "name": "stderr",
     "output_type": "stream",
     "text": [
      "/root/miniconda3/lib/python3.8/site-packages/tensorflow/python/keras/optimizer_v2/optimizer_v2.py:374: UserWarning: The `lr` argument is deprecated, use `learning_rate` instead.\n",
      "  warnings.warn(\n",
      "\n",
      "/tmp/ipykernel_326/422981087.py:40: FutureWarning: The frame.append method is deprecated and will be removed from pandas in a future version. Use pandas.concat instead.\n",
      "  output_df=output_df.append(result_dict,ignore_index=True)\n",
      "\n"
     ]
    },
    {
     "name": "stdout",
     "output_type": "stream",
     "text": [
      "accuracy:0.6833976833976834                                        \n",
      " 60%|██████    | 6/10 [17:08<09:47, 146.84s/trial, best loss: -1.0]"
     ]
    },
    {
     "name": "stderr",
     "output_type": "stream",
     "text": [
      "/root/miniconda3/lib/python3.8/site-packages/tensorflow/python/keras/optimizer_v2/optimizer_v2.py:374: UserWarning: The `lr` argument is deprecated, use `learning_rate` instead.\n",
      "  warnings.warn(\n",
      "\n",
      "/tmp/ipykernel_326/422981087.py:40: FutureWarning: The frame.append method is deprecated and will be removed from pandas in a future version. Use pandas.concat instead.\n",
      "  output_df=output_df.append(result_dict,ignore_index=True)\n",
      "\n"
     ]
    },
    {
     "name": "stdout",
     "output_type": "stream",
     "text": [
      "accuracy:0.88996138996139                                          \n",
      " 70%|███████   | 7/10 [20:44<08:28, 169.50s/trial, best loss: -1.0]"
     ]
    },
    {
     "name": "stderr",
     "output_type": "stream",
     "text": [
      "/root/miniconda3/lib/python3.8/site-packages/tensorflow/python/keras/optimizer_v2/optimizer_v2.py:374: UserWarning: The `lr` argument is deprecated, use `learning_rate` instead.\n",
      "  warnings.warn(\n",
      "\n",
      "/tmp/ipykernel_326/422981087.py:40: FutureWarning: The frame.append method is deprecated and will be removed from pandas in a future version. Use pandas.concat instead.\n",
      "  output_df=output_df.append(result_dict,ignore_index=True)\n",
      "\n"
     ]
    },
    {
     "name": "stdout",
     "output_type": "stream",
     "text": [
      "accuracy:1.0                                                       \n",
      " 80%|████████  | 8/10 [25:37<06:57, 208.83s/trial, best loss: -1.0]"
     ]
    },
    {
     "name": "stderr",
     "output_type": "stream",
     "text": [
      "/root/miniconda3/lib/python3.8/site-packages/tensorflow/python/keras/optimizer_v2/optimizer_v2.py:374: UserWarning: The `lr` argument is deprecated, use `learning_rate` instead.\n",
      "  warnings.warn(\n",
      "\n",
      "/tmp/ipykernel_326/422981087.py:40: FutureWarning: The frame.append method is deprecated and will be removed from pandas in a future version. Use pandas.concat instead.\n",
      "  output_df=output_df.append(result_dict,ignore_index=True)\n",
      "\n"
     ]
    },
    {
     "name": "stdout",
     "output_type": "stream",
     "text": [
      "accuracy:0.9459459459459459                                        \n",
      " 90%|█████████ | 9/10 [28:20<03:14, 194.33s/trial, best loss: -1.0]"
     ]
    },
    {
     "name": "stderr",
     "output_type": "stream",
     "text": [
      "/root/miniconda3/lib/python3.8/site-packages/tensorflow/python/keras/optimizer_v2/optimizer_v2.py:374: UserWarning: The `lr` argument is deprecated, use `learning_rate` instead.\n",
      "  warnings.warn(\n",
      "\n",
      "/tmp/ipykernel_326/422981087.py:40: FutureWarning: The frame.append method is deprecated and will be removed from pandas in a future version. Use pandas.concat instead.\n",
      "  output_df=output_df.append(result_dict,ignore_index=True)\n",
      "\n"
     ]
    },
    {
     "name": "stdout",
     "output_type": "stream",
     "text": [
      "accuracy:0.9980694980694981                                        \n",
      "100%|██████████| 10/10 [33:26<00:00, 200.68s/trial, best loss: -1.0]\n",
      "Hyperopt estimated optimum {'dropout_rate': 0.4, 'epochs': 10.0, 'frozen': 17.0, 'lr': 0.002, 'patience': 3.0}\n"
     ]
    }
   ],
   "source": [
    "#Hyperparameter optimization by Random search\n",
    "space = {\n",
    "    'frozen': hp.quniform('frozen', 15, 18, 1),\n",
    "    'epochs': hp.quniform('epochs', 5, 21, 5),\n",
    "    'patience': hp.quniform('patience', 2, 4, 1),\n",
    "    'lr': hp.quniform('lr', 0.001, 0.006, 0.001),\n",
    "    'dropout_rate': hp.quniform('dropout_rate', 0.3, 0.6, 0.1),\n",
    "}\n",
    "\n",
    "t1=time.time()\n",
    "best = fmin(fn=objective,\n",
    "            space=space,\n",
    "            algo=rand.suggest,\n",
    "            max_evals=10)\n",
    "print(\"Hyperopt estimated optimum {}\".format(best))\n",
    "t2=time.time()"
   ]
  },
  {
   "cell_type": "markdown",
   "metadata": {},
   "source": [
    "### 用优化后的超参数"
   ]
  },
  {
   "cell_type": "code",
   "execution_count": 56,
   "metadata": {
    "scrolled": true
   },
   "outputs": [
    {
     "name": "stderr",
     "output_type": "stream",
     "text": [
      "/root/miniconda3/lib/python3.8/site-packages/tensorflow/python/keras/optimizer_v2/optimizer_v2.py:374: UserWarning: The `lr` argument is deprecated, use `learning_rate` instead.\n",
      "  warnings.warn(\n"
     ]
    },
    {
     "name": "stdout",
     "output_type": "stream",
     "text": [
      "Epoch 1/10\n",
      "17/17 [==============================] - 19s 1s/step - loss: 3.0056 - accuracy: 0.4624 - val_loss: 1.1078 - val_accuracy: 0.6834\n",
      "\n",
      "Epoch 00001: val_accuracy improved from -inf to 0.68340, saving model to ./VGG19.h5\n",
      "Epoch 2/10\n",
      "17/17 [==============================] - 18s 1s/step - loss: 1.2232 - accuracy: 0.6541 - val_loss: 1.0767 - val_accuracy: 0.6834\n",
      "\n",
      "Epoch 00002: val_accuracy did not improve from 0.68340\n",
      "Epoch 3/10\n",
      "17/17 [==============================] - 18s 1s/step - loss: 1.0387 - accuracy: 0.6599 - val_loss: 0.6470 - val_accuracy: 0.6834\n",
      "\n",
      "Epoch 00003: val_accuracy did not improve from 0.68340\n",
      "Epoch 4/10\n",
      "17/17 [==============================] - 18s 1s/step - loss: 0.6024 - accuracy: 0.6753 - val_loss: 0.5004 - val_accuracy: 0.7876\n",
      "\n",
      "Epoch 00004: val_accuracy improved from 0.68340 to 0.78764, saving model to ./VGG19.h5\n",
      "Epoch 5/10\n",
      "17/17 [==============================] - 19s 1s/step - loss: 0.5702 - accuracy: 0.7139 - val_loss: 0.5118 - val_accuracy: 0.7838\n",
      "\n",
      "Epoch 00005: val_accuracy did not improve from 0.78764\n",
      "Epoch 6/10\n",
      "17/17 [==============================] - 19s 1s/step - loss: 0.5426 - accuracy: 0.7784 - val_loss: 0.5039 - val_accuracy: 0.7838\n",
      "\n",
      "Epoch 00006: val_accuracy did not improve from 0.78764\n",
      "Epoch 7/10\n",
      "17/17 [==============================] - 18s 1s/step - loss: 0.5368 - accuracy: 0.7746 - val_loss: 0.4971 - val_accuracy: 0.7838\n",
      "\n",
      "Epoch 00007: val_accuracy did not improve from 0.78764\n",
      "Epoch 00007: early stopping\n"
     ]
    },
    {
     "name": "stderr",
     "output_type": "stream",
     "text": [
      "/tmp/ipykernel_326/422981087.py:40: FutureWarning: The frame.append method is deprecated and will be removed from pandas in a future version. Use pandas.concat instead.\n",
      "  output_df=output_df.append(result_dict,ignore_index=True)\n"
     ]
    }
   ],
   "source": [
    "\n",
    "params=get_params(format(best))\n",
    "index=clear_output_df(index)\n",
    "\n",
    "temptime=t2-t1\n",
    "time_opt.append(temptime)\n",
    "opt_type.append(\"RS\")\n",
    "\n",
    "t1=time.time()\n",
    "vgg19(**params)\n",
    "t2=time.time()\n",
    "\n",
    "temptime=t2-t1\n",
    "timelist.append(temptime)\n"
   ]
  },
  {
   "cell_type": "code",
   "execution_count": 57,
   "metadata": {},
   "outputs": [
    {
     "name": "stdout",
     "output_type": "stream",
     "text": [
      "{\"code\":\"Success\",\"data\":null,\"msg\":\"\"}\n"
     ]
    }
   ],
   "source": [
    "resp = requests.post(\"https://www.autodl.com/api/v1/wechat/message/push\",\n",
    "                     json={\n",
    "                         \"token\": \"444db7f1cca1\",\n",
    "                         \"title\": \"VGG19 RS\",\n",
    "                         \"name\": \"Omar Project\"\n",
    "                     })\n",
    "print(resp.content.decode())"
   ]
  },
  {
   "cell_type": "code",
   "execution_count": null,
   "metadata": {},
   "outputs": [],
   "source": []
  },
  {
   "cell_type": "code",
   "execution_count": null,
   "metadata": {},
   "outputs": [],
   "source": []
  },
  {
   "cell_type": "markdown",
   "metadata": {},
   "source": [
    "# Xception"
   ]
  },
  {
   "cell_type": "code",
   "execution_count": 58,
   "metadata": {},
   "outputs": [],
   "source": [
    "def xception( num_class,epochs=20,frozen=15,lr=0.001,patience=2, dropout_rate=0.5,verbose=0,savepath='./xception.h5',history=history_this,input_shape=INPUT_SIZE):\n",
    "    model_fine_tune = Xception(include_top=False, weights='imagenet', input_shape=input_shape)\n",
    "    for layer in model_fine_tune.layers[:frozen]:\t\t#could be tuned to be 50, 100, or 131\n",
    "        layer.trainable = False\n",
    "    for layer in model_fine_tune.layers[frozen:]:\n",
    "        layer.trainable = True\n",
    "    model = GlobalAveragePooling2D()(model_fine_tune.output)\n",
    "    model=Dense(units=256,activation='relu')(model)\n",
    "    model=Dropout(dropout_rate)(model)\n",
    "    model = Dense(num_class, activation='softmax')(model)\n",
    "    model = Model(model_fine_tune.input, model, name='xception')\n",
    "    opt = keras.optimizers.Adam(lr=lr, beta_1=0.9, beta_2=0.999, epsilon=1e-08)\n",
    "    model.compile(loss='categorical_crossentropy', optimizer=opt, metrics=['accuracy'])\n",
    "    #train model\n",
    "    earlyStopping = kcallbacks.EarlyStopping(\n",
    "        monitor='val_accuracy', patience=patience, verbose=verbose, mode='auto')\t#patience could be tuned by 2 and 3\n",
    "    saveBestModel = kcallbacks.ModelCheckpoint(\n",
    "        filepath=savepath,\n",
    "        monitor='val_accuracy',\n",
    "        verbose=verbose,\n",
    "        save_best_only=True,\n",
    "        mode='auto')\n",
    "    hist = model.fit(\n",
    "        train_generator,\n",
    "        steps_per_epoch=len(train_generator),\n",
    "        epochs=epochs,\n",
    "        validation_data=validation_generator,\n",
    "        validation_steps=len(validation_generator),\n",
    "        #use_multiprocessing=True, \n",
    "        verbose=verbose,\n",
    "        callbacks=[earlyStopping, saveBestModel, history],\n",
    "    )\n",
    "\n"
   ]
  },
  {
   "cell_type": "code",
   "execution_count": 64,
   "metadata": {},
   "outputs": [],
   "source": [
    "def prediction(xception_model):\n",
    "#read images from validation folder\n",
    "    rootdir = './test_224/'\n",
    "    test_laels = []\n",
    "    test_images=[]\n",
    "    for subdir, dirs, files in os.walk(rootdir):\n",
    "        for file in files:\n",
    "            if not (file.endswith(\".jpeg\"))|(file.endswith(\".jpg\"))|(file.endswith(\".png\")):\n",
    "                continue\n",
    "            test_laels.append(subdir.split('/')[-1])\n",
    "            test_images.append(os.path.join(subdir, file))\n",
    "\n",
    "    predict=[]\n",
    "    length=len(test_images)\n",
    "    label=validation_generator.class_indices\n",
    "    label={v: k for k, v in label.items()}\n",
    "    for i in range(length):\n",
    "        inputimg=test_images[i]\n",
    "        test_batch=[]\n",
    "        thisimg=np.array(Image.open(inputimg))/255 #read all the images in validation set\n",
    "        #print(thisimg)\n",
    "        test_shape=(1,)+thisimg.shape\n",
    "        thisimg=thisimg.reshape(test_shape)\n",
    "        xception_model_batch=xception_model.predict(thisimg) #use master model to process the input image\n",
    "        #generate result by model 1\n",
    "        #\n",
    "        prob=xception_model_batch[0,np.argmax(xception_model_batch,axis=1)[0]]\n",
    "        res=label[np.argmax(xception_model_batch,axis=1)[0]]\n",
    "        predict.append(res)\n",
    "    acc=accuracy_score(test_laels,predict)\n",
    "    return acc"
   ]
  },
  {
   "cell_type": "code",
   "execution_count": 65,
   "metadata": {},
   "outputs": [],
   "source": [
    "#define the objective function to be optimized\n",
    "import time\n",
    "from hyperopt import hp, fmin, tpe, rand, STATUS_OK, Trials\n",
    "import matplotlib.pyplot as plt\n",
    "import statistics \n",
    "\n",
    "def objective(params):\n",
    "    \n",
    "    params = {\n",
    "        'frozen': int(params['frozen']),\n",
    "        'epochs': int(params['epochs']),\n",
    "        'patience': int(params['patience']),\n",
    "        'lr': abs(float(params['lr'])),\n",
    "        'dropout_rate': abs(float(params['dropout_rate'])),\n",
    "    }\n",
    "    frozen=params['frozen']\n",
    "    epochs=params['epochs']\n",
    "    patience=params['patience']\n",
    "    lr=params['lr']\n",
    "    dropout_rate=params['dropout_rate']\n",
    "    \n",
    "    #\n",
    "    xception(num_class=5, frozen=frozen,epochs=epochs,patience=patience, lr=lr, dropout_rate=dropout_rate)\n",
    "    #\n",
    "    acc=prediction(xception_model=load_model('./xception.h5'))\n",
    "\n",
    "    print('accuracy:%s'%acc)\n",
    "    return {'loss': -acc, 'status': STATUS_OK }\n",
    "    "
   ]
  },
  {
   "cell_type": "markdown",
   "metadata": {},
   "source": [
    "### 超参数优化 BO-TPE"
   ]
  },
  {
   "cell_type": "code",
   "execution_count": 66,
   "metadata": {},
   "outputs": [
    {
     "name": "stdout",
     "output_type": "stream",
     "text": [
      "  0%|          | 0/10 [00:00<?, ?trial/s, best loss=?]"
     ]
    },
    {
     "name": "stderr",
     "output_type": "stream",
     "text": [
      "/root/miniconda3/lib/python3.8/site-packages/tensorflow/python/keras/optimizer_v2/optimizer_v2.py:374: UserWarning: The `lr` argument is deprecated, use `learning_rate` instead.\n",
      "  warnings.warn(\n",
      "\n",
      "/root/miniconda3/lib/python3.8/site-packages/tensorflow/python/keras/utils/generic_utils.py:494: CustomMaskWarning: Custom mask layers require a config and must override get_config. When loading, the custom mask layer must be passed to the custom_objects argument.\n",
      "  warnings.warn('Custom mask layers require a config and must override '\n",
      "\n",
      "/tmp/ipykernel_326/422981087.py:40: FutureWarning: The frame.append method is deprecated and will be removed from pandas in a future version. Use pandas.concat instead.\n",
      "  output_df=output_df.append(result_dict,ignore_index=True)\n",
      "\n"
     ]
    },
    {
     "name": "stdout",
     "output_type": "stream",
     "text": [
      "accuracy:1.0                                          \n",
      " 10%|█         | 1/10 [03:10<28:38, 190.94s/trial, best loss: -1.0]"
     ]
    },
    {
     "name": "stderr",
     "output_type": "stream",
     "text": [
      "/root/miniconda3/lib/python3.8/site-packages/tensorflow/python/keras/optimizer_v2/optimizer_v2.py:374: UserWarning: The `lr` argument is deprecated, use `learning_rate` instead.\n",
      "  warnings.warn(\n",
      "\n",
      "/root/miniconda3/lib/python3.8/site-packages/tensorflow/python/keras/utils/generic_utils.py:494: CustomMaskWarning: Custom mask layers require a config and must override get_config. When loading, the custom mask layer must be passed to the custom_objects argument.\n",
      "  warnings.warn('Custom mask layers require a config and must override '\n",
      "\n",
      "/tmp/ipykernel_326/422981087.py:40: FutureWarning: The frame.append method is deprecated and will be removed from pandas in a future version. Use pandas.concat instead.\n",
      "  output_df=output_df.append(result_dict,ignore_index=True)\n",
      "\n"
     ]
    },
    {
     "name": "stdout",
     "output_type": "stream",
     "text": [
      "accuracy:1.0                                                       \n",
      " 20%|██        | 2/10 [05:25<21:04, 158.05s/trial, best loss: -1.0]"
     ]
    },
    {
     "name": "stderr",
     "output_type": "stream",
     "text": [
      "/root/miniconda3/lib/python3.8/site-packages/tensorflow/python/keras/optimizer_v2/optimizer_v2.py:374: UserWarning: The `lr` argument is deprecated, use `learning_rate` instead.\n",
      "  warnings.warn(\n",
      "\n",
      "/root/miniconda3/lib/python3.8/site-packages/tensorflow/python/keras/utils/generic_utils.py:494: CustomMaskWarning: Custom mask layers require a config and must override get_config. When loading, the custom mask layer must be passed to the custom_objects argument.\n",
      "  warnings.warn('Custom mask layers require a config and must override '\n",
      "\n",
      "/tmp/ipykernel_326/422981087.py:40: FutureWarning: The frame.append method is deprecated and will be removed from pandas in a future version. Use pandas.concat instead.\n",
      "  output_df=output_df.append(result_dict,ignore_index=True)\n",
      "\n"
     ]
    },
    {
     "name": "stdout",
     "output_type": "stream",
     "text": [
      "accuracy:1.0                                                       \n",
      " 30%|███       | 3/10 [08:34<20:02, 171.77s/trial, best loss: -1.0]"
     ]
    },
    {
     "name": "stderr",
     "output_type": "stream",
     "text": [
      "/root/miniconda3/lib/python3.8/site-packages/tensorflow/python/keras/optimizer_v2/optimizer_v2.py:374: UserWarning: The `lr` argument is deprecated, use `learning_rate` instead.\n",
      "  warnings.warn(\n",
      "\n",
      "/root/miniconda3/lib/python3.8/site-packages/tensorflow/python/keras/utils/generic_utils.py:494: CustomMaskWarning: Custom mask layers require a config and must override get_config. When loading, the custom mask layer must be passed to the custom_objects argument.\n",
      "  warnings.warn('Custom mask layers require a config and must override '\n",
      "\n",
      "/tmp/ipykernel_326/422981087.py:40: FutureWarning: The frame.append method is deprecated and will be removed from pandas in a future version. Use pandas.concat instead.\n",
      "  output_df=output_df.append(result_dict,ignore_index=True)\n",
      "\n"
     ]
    },
    {
     "name": "stdout",
     "output_type": "stream",
     "text": [
      "accuracy:1.0                                                       \n",
      " 40%|████      | 4/10 [10:46<15:37, 156.20s/trial, best loss: -1.0]"
     ]
    },
    {
     "name": "stderr",
     "output_type": "stream",
     "text": [
      "/root/miniconda3/lib/python3.8/site-packages/tensorflow/python/keras/optimizer_v2/optimizer_v2.py:374: UserWarning: The `lr` argument is deprecated, use `learning_rate` instead.\n",
      "  warnings.warn(\n",
      "\n",
      "/root/miniconda3/lib/python3.8/site-packages/tensorflow/python/keras/utils/generic_utils.py:494: CustomMaskWarning: Custom mask layers require a config and must override get_config. When loading, the custom mask layer must be passed to the custom_objects argument.\n",
      "  warnings.warn('Custom mask layers require a config and must override '\n",
      "\n",
      "/tmp/ipykernel_326/422981087.py:40: FutureWarning: The frame.append method is deprecated and will be removed from pandas in a future version. Use pandas.concat instead.\n",
      "  output_df=output_df.append(result_dict,ignore_index=True)\n",
      "\n"
     ]
    },
    {
     "name": "stdout",
     "output_type": "stream",
     "text": [
      "accuracy:1.0                                                       \n",
      " 50%|█████     | 5/10 [13:18<12:54, 154.83s/trial, best loss: -1.0]"
     ]
    },
    {
     "name": "stderr",
     "output_type": "stream",
     "text": [
      "/root/miniconda3/lib/python3.8/site-packages/tensorflow/python/keras/optimizer_v2/optimizer_v2.py:374: UserWarning: The `lr` argument is deprecated, use `learning_rate` instead.\n",
      "  warnings.warn(\n",
      "\n",
      "/root/miniconda3/lib/python3.8/site-packages/tensorflow/python/keras/utils/generic_utils.py:494: CustomMaskWarning: Custom mask layers require a config and must override get_config. When loading, the custom mask layer must be passed to the custom_objects argument.\n",
      "  warnings.warn('Custom mask layers require a config and must override '\n",
      "\n",
      "/tmp/ipykernel_326/422981087.py:40: FutureWarning: The frame.append method is deprecated and will be removed from pandas in a future version. Use pandas.concat instead.\n",
      "  output_df=output_df.append(result_dict,ignore_index=True)\n",
      "\n"
     ]
    },
    {
     "name": "stdout",
     "output_type": "stream",
     "text": [
      "accuracy:1.0                                                       \n",
      " 60%|██████    | 6/10 [15:49<10:13, 153.44s/trial, best loss: -1.0]"
     ]
    },
    {
     "name": "stderr",
     "output_type": "stream",
     "text": [
      "/root/miniconda3/lib/python3.8/site-packages/tensorflow/python/keras/optimizer_v2/optimizer_v2.py:374: UserWarning: The `lr` argument is deprecated, use `learning_rate` instead.\n",
      "  warnings.warn(\n",
      "\n",
      "/root/miniconda3/lib/python3.8/site-packages/tensorflow/python/keras/utils/generic_utils.py:494: CustomMaskWarning: Custom mask layers require a config and must override get_config. When loading, the custom mask layer must be passed to the custom_objects argument.\n",
      "  warnings.warn('Custom mask layers require a config and must override '\n",
      "\n",
      "/tmp/ipykernel_326/422981087.py:40: FutureWarning: The frame.append method is deprecated and will be removed from pandas in a future version. Use pandas.concat instead.\n",
      "  output_df=output_df.append(result_dict,ignore_index=True)\n",
      "\n"
     ]
    },
    {
     "name": "stdout",
     "output_type": "stream",
     "text": [
      "accuracy:1.0                                                       \n",
      " 70%|███████   | 7/10 [18:57<08:14, 164.77s/trial, best loss: -1.0]"
     ]
    },
    {
     "name": "stderr",
     "output_type": "stream",
     "text": [
      "/root/miniconda3/lib/python3.8/site-packages/tensorflow/python/keras/optimizer_v2/optimizer_v2.py:374: UserWarning: The `lr` argument is deprecated, use `learning_rate` instead.\n",
      "  warnings.warn(\n",
      "\n",
      "/root/miniconda3/lib/python3.8/site-packages/tensorflow/python/keras/utils/generic_utils.py:494: CustomMaskWarning: Custom mask layers require a config and must override get_config. When loading, the custom mask layer must be passed to the custom_objects argument.\n",
      "  warnings.warn('Custom mask layers require a config and must override '\n",
      "\n",
      "/tmp/ipykernel_326/422981087.py:40: FutureWarning: The frame.append method is deprecated and will be removed from pandas in a future version. Use pandas.concat instead.\n",
      "  output_df=output_df.append(result_dict,ignore_index=True)\n",
      "\n"
     ]
    },
    {
     "name": "stdout",
     "output_type": "stream",
     "text": [
      "accuracy:1.0                                                       \n",
      " 80%|████████  | 8/10 [21:12<05:10, 155.19s/trial, best loss: -1.0]"
     ]
    },
    {
     "name": "stderr",
     "output_type": "stream",
     "text": [
      "/root/miniconda3/lib/python3.8/site-packages/tensorflow/python/keras/optimizer_v2/optimizer_v2.py:374: UserWarning: The `lr` argument is deprecated, use `learning_rate` instead.\n",
      "  warnings.warn(\n",
      "\n",
      "/root/miniconda3/lib/python3.8/site-packages/tensorflow/python/keras/utils/generic_utils.py:494: CustomMaskWarning: Custom mask layers require a config and must override get_config. When loading, the custom mask layer must be passed to the custom_objects argument.\n",
      "  warnings.warn('Custom mask layers require a config and must override '\n",
      "\n",
      "/tmp/ipykernel_326/422981087.py:40: FutureWarning: The frame.append method is deprecated and will be removed from pandas in a future version. Use pandas.concat instead.\n",
      "  output_df=output_df.append(result_dict,ignore_index=True)\n",
      "\n"
     ]
    },
    {
     "name": "stdout",
     "output_type": "stream",
     "text": [
      "accuracy:1.0                                                       \n",
      " 90%|█████████ | 9/10 [24:17<02:44, 164.61s/trial, best loss: -1.0]"
     ]
    },
    {
     "name": "stderr",
     "output_type": "stream",
     "text": [
      "/root/miniconda3/lib/python3.8/site-packages/tensorflow/python/keras/optimizer_v2/optimizer_v2.py:374: UserWarning: The `lr` argument is deprecated, use `learning_rate` instead.\n",
      "  warnings.warn(\n",
      "\n",
      "/root/miniconda3/lib/python3.8/site-packages/tensorflow/python/keras/utils/generic_utils.py:494: CustomMaskWarning: Custom mask layers require a config and must override get_config. When loading, the custom mask layer must be passed to the custom_objects argument.\n",
      "  warnings.warn('Custom mask layers require a config and must override '\n",
      "\n",
      "/tmp/ipykernel_326/422981087.py:40: FutureWarning: The frame.append method is deprecated and will be removed from pandas in a future version. Use pandas.concat instead.\n",
      "  output_df=output_df.append(result_dict,ignore_index=True)\n",
      "\n"
     ]
    },
    {
     "name": "stdout",
     "output_type": "stream",
     "text": [
      "accuracy:1.0                                                       \n",
      "100%|██████████| 10/10 [26:44<00:00, 160.50s/trial, best loss: -1.0]\n",
      "Hyperopt estimated optimum {'dropout_rate': 0.4, 'epochs': 10.0, 'frozen': 16.0, 'lr': 0.004, 'patience': 3.0}\n"
     ]
    }
   ],
   "source": [
    "#Hyperparameter optimization by Bayesian optimization - Tree Parzen Estimator\n",
    "space = {\n",
    "    'frozen': hp.quniform('frozen', 15, 18, 1),\n",
    "    'epochs': hp.quniform('epochs', 5, 21, 5),\n",
    "    'patience': hp.quniform('patience', 2, 4, 1),\n",
    "    'lr': hp.quniform('lr', 0.001, 0.006, 0.001),\n",
    "    'dropout_rate': hp.quniform('dropout_rate', 0.3, 0.6, 0.1),\n",
    "}\n",
    "\n",
    "t1=time.time()\n",
    "best = fmin(fn=objective,\n",
    "            space=space,\n",
    "            algo=tpe.suggest,\n",
    "            max_evals=10)\n",
    "print(\"Hyperopt estimated optimum {}\".format(best))\n",
    "t2=time.time()"
   ]
  },
  {
   "cell_type": "markdown",
   "metadata": {},
   "source": [
    "### 用优化后的超参数"
   ]
  },
  {
   "cell_type": "code",
   "execution_count": 67,
   "metadata": {},
   "outputs": [
    {
     "name": "stderr",
     "output_type": "stream",
     "text": [
      "/root/miniconda3/lib/python3.8/site-packages/tensorflow/python/keras/optimizer_v2/optimizer_v2.py:374: UserWarning: The `lr` argument is deprecated, use `learning_rate` instead.\n",
      "  warnings.warn(\n"
     ]
    },
    {
     "name": "stdout",
     "output_type": "stream",
     "text": [
      "Epoch 1/10\n",
      "17/17 [==============================] - 21s 1s/step - loss: 0.5744 - accuracy: 0.7948 - val_loss: 0.1081 - val_accuracy: 0.9768\n",
      "\n",
      "Epoch 00001: val_accuracy improved from -inf to 0.97683, saving model to ./xception.h5\n"
     ]
    },
    {
     "name": "stderr",
     "output_type": "stream",
     "text": [
      "/root/miniconda3/lib/python3.8/site-packages/tensorflow/python/keras/utils/generic_utils.py:494: CustomMaskWarning: Custom mask layers require a config and must override get_config. When loading, the custom mask layer must be passed to the custom_objects argument.\n",
      "  warnings.warn('Custom mask layers require a config and must override '\n"
     ]
    },
    {
     "name": "stdout",
     "output_type": "stream",
     "text": [
      "Epoch 2/10\n",
      "17/17 [==============================] - 17s 1s/step - loss: 0.1010 - accuracy: 0.9754 - val_loss: 0.0386 - val_accuracy: 0.9903\n",
      "\n",
      "Epoch 00002: val_accuracy improved from 0.97683 to 0.99035, saving model to ./xception.h5\n",
      "Epoch 3/10\n",
      "17/17 [==============================] - 18s 1s/step - loss: 0.0490 - accuracy: 0.9908 - val_loss: 0.0216 - val_accuracy: 1.0000\n",
      "\n",
      "Epoch 00003: val_accuracy improved from 0.99035 to 1.00000, saving model to ./xception.h5\n",
      "Epoch 4/10\n",
      "17/17 [==============================] - 15s 894ms/step - loss: 0.0308 - accuracy: 0.9966 - val_loss: 0.0154 - val_accuracy: 0.9981\n",
      "\n",
      "Epoch 00004: val_accuracy did not improve from 1.00000\n",
      "Epoch 5/10\n",
      "17/17 [==============================] - 18s 1s/step - loss: 0.0262 - accuracy: 0.9942 - val_loss: 0.0118 - val_accuracy: 1.0000\n",
      "\n",
      "Epoch 00005: val_accuracy did not improve from 1.00000\n",
      "Epoch 6/10\n",
      "17/17 [==============================] - 18s 1s/step - loss: 0.0183 - accuracy: 0.9957 - val_loss: 0.0094 - val_accuracy: 1.0000\n",
      "\n",
      "Epoch 00006: val_accuracy did not improve from 1.00000\n",
      "Epoch 00006: early stopping\n"
     ]
    },
    {
     "name": "stderr",
     "output_type": "stream",
     "text": [
      "/tmp/ipykernel_326/422981087.py:40: FutureWarning: The frame.append method is deprecated and will be removed from pandas in a future version. Use pandas.concat instead.\n",
      "  output_df=output_df.append(result_dict,ignore_index=True)\n"
     ]
    }
   ],
   "source": [
    "\n",
    "params=get_params(format(best))\n",
    "index=clear_output_df(index)\n",
    "\n",
    "temptime=t2-t1\n",
    "time_opt.append(temptime)\n",
    "opt_type.append(\"BO-TPE\")\n",
    "\n",
    "t1=time.time()\n",
    "xception(**params)\n",
    "t2=time.time()\n",
    "\n",
    "temptime=t2-t1\n",
    "timelist.append(temptime)\n"
   ]
  },
  {
   "cell_type": "code",
   "execution_count": 68,
   "metadata": {},
   "outputs": [
    {
     "name": "stdout",
     "output_type": "stream",
     "text": [
      "{\"code\":\"Success\",\"data\":null,\"msg\":\"\"}\n"
     ]
    }
   ],
   "source": [
    "resp = requests.post(\"https://www.autodl.com/api/v1/wechat/message/push\",\n",
    "                     json={\n",
    "                         \"token\": \"444db7f1cca1\",\n",
    "                         \"title\": \"Xception BO-TPE\",\n",
    "                         \"name\": \"Omar Project\"\n",
    "                     })\n",
    "print(resp.content.decode())"
   ]
  },
  {
   "cell_type": "markdown",
   "metadata": {},
   "source": [
    "### 超参数优化Random Search"
   ]
  },
  {
   "cell_type": "code",
   "execution_count": 69,
   "metadata": {},
   "outputs": [
    {
     "name": "stdout",
     "output_type": "stream",
     "text": [
      "  0%|          | 0/10 [00:00<?, ?trial/s, best loss=?]"
     ]
    },
    {
     "name": "stderr",
     "output_type": "stream",
     "text": [
      "/root/miniconda3/lib/python3.8/site-packages/tensorflow/python/keras/optimizer_v2/optimizer_v2.py:374: UserWarning: The `lr` argument is deprecated, use `learning_rate` instead.\n",
      "  warnings.warn(\n",
      "\n",
      "/root/miniconda3/lib/python3.8/site-packages/tensorflow/python/keras/utils/generic_utils.py:494: CustomMaskWarning: Custom mask layers require a config and must override get_config. When loading, the custom mask layer must be passed to the custom_objects argument.\n",
      "  warnings.warn('Custom mask layers require a config and must override '\n",
      "\n",
      "/tmp/ipykernel_326/422981087.py:40: FutureWarning: The frame.append method is deprecated and will be removed from pandas in a future version. Use pandas.concat instead.\n",
      "  output_df=output_df.append(result_dict,ignore_index=True)\n",
      "\n"
     ]
    },
    {
     "name": "stdout",
     "output_type": "stream",
     "text": [
      "accuracy:0.9942084942084942                           \n",
      " 10%|█         | 1/10 [02:11<19:43, 131.51s/trial, best loss: -0.9942084942084942]"
     ]
    },
    {
     "name": "stderr",
     "output_type": "stream",
     "text": [
      "/root/miniconda3/lib/python3.8/site-packages/tensorflow/python/keras/optimizer_v2/optimizer_v2.py:374: UserWarning: The `lr` argument is deprecated, use `learning_rate` instead.\n",
      "  warnings.warn(\n",
      "\n",
      "/root/miniconda3/lib/python3.8/site-packages/tensorflow/python/keras/utils/generic_utils.py:494: CustomMaskWarning: Custom mask layers require a config and must override get_config. When loading, the custom mask layer must be passed to the custom_objects argument.\n",
      "  warnings.warn('Custom mask layers require a config and must override '\n",
      "\n",
      "/tmp/ipykernel_326/422981087.py:40: FutureWarning: The frame.append method is deprecated and will be removed from pandas in a future version. Use pandas.concat instead.\n",
      "  output_df=output_df.append(result_dict,ignore_index=True)\n",
      "\n"
     ]
    },
    {
     "name": "stdout",
     "output_type": "stream",
     "text": [
      "accuracy:0.9903474903474904                                                       \n",
      " 20%|██        | 2/10 [04:06<16:15, 121.88s/trial, best loss: -0.9942084942084942]"
     ]
    },
    {
     "name": "stderr",
     "output_type": "stream",
     "text": [
      "/root/miniconda3/lib/python3.8/site-packages/tensorflow/python/keras/optimizer_v2/optimizer_v2.py:374: UserWarning: The `lr` argument is deprecated, use `learning_rate` instead.\n",
      "  warnings.warn(\n",
      "\n",
      "/root/miniconda3/lib/python3.8/site-packages/tensorflow/python/keras/utils/generic_utils.py:494: CustomMaskWarning: Custom mask layers require a config and must override get_config. When loading, the custom mask layer must be passed to the custom_objects argument.\n",
      "  warnings.warn('Custom mask layers require a config and must override '\n",
      "\n",
      "/tmp/ipykernel_326/422981087.py:40: FutureWarning: The frame.append method is deprecated and will be removed from pandas in a future version. Use pandas.concat instead.\n",
      "  output_df=output_df.append(result_dict,ignore_index=True)\n",
      "\n"
     ]
    },
    {
     "name": "stdout",
     "output_type": "stream",
     "text": [
      "accuracy:1.0                                                                      \n",
      " 30%|███       | 3/10 [06:55<16:42, 143.26s/trial, best loss: -1.0]               "
     ]
    },
    {
     "name": "stderr",
     "output_type": "stream",
     "text": [
      "/root/miniconda3/lib/python3.8/site-packages/tensorflow/python/keras/optimizer_v2/optimizer_v2.py:374: UserWarning: The `lr` argument is deprecated, use `learning_rate` instead.\n",
      "  warnings.warn(\n",
      "\n",
      "/root/miniconda3/lib/python3.8/site-packages/tensorflow/python/keras/utils/generic_utils.py:494: CustomMaskWarning: Custom mask layers require a config and must override get_config. When loading, the custom mask layer must be passed to the custom_objects argument.\n",
      "  warnings.warn('Custom mask layers require a config and must override '\n",
      "\n",
      "/tmp/ipykernel_326/422981087.py:40: FutureWarning: The frame.append method is deprecated and will be removed from pandas in a future version. Use pandas.concat instead.\n",
      "  output_df=output_df.append(result_dict,ignore_index=True)\n",
      "\n"
     ]
    },
    {
     "name": "stdout",
     "output_type": "stream",
     "text": [
      "accuracy:1.0                                                       \n",
      " 40%|████      | 4/10 [09:44<15:21, 153.54s/trial, best loss: -1.0]"
     ]
    },
    {
     "name": "stderr",
     "output_type": "stream",
     "text": [
      "/root/miniconda3/lib/python3.8/site-packages/tensorflow/python/keras/optimizer_v2/optimizer_v2.py:374: UserWarning: The `lr` argument is deprecated, use `learning_rate` instead.\n",
      "  warnings.warn(\n",
      "\n",
      "/root/miniconda3/lib/python3.8/site-packages/tensorflow/python/keras/utils/generic_utils.py:494: CustomMaskWarning: Custom mask layers require a config and must override get_config. When loading, the custom mask layer must be passed to the custom_objects argument.\n",
      "  warnings.warn('Custom mask layers require a config and must override '\n",
      "\n",
      "/tmp/ipykernel_326/422981087.py:40: FutureWarning: The frame.append method is deprecated and will be removed from pandas in a future version. Use pandas.concat instead.\n",
      "  output_df=output_df.append(result_dict,ignore_index=True)\n",
      "\n"
     ]
    },
    {
     "name": "stdout",
     "output_type": "stream",
     "text": [
      "accuracy:1.0                                                       \n",
      " 50%|█████     | 5/10 [12:50<13:46, 165.28s/trial, best loss: -1.0]"
     ]
    },
    {
     "name": "stderr",
     "output_type": "stream",
     "text": [
      "/root/miniconda3/lib/python3.8/site-packages/tensorflow/python/keras/optimizer_v2/optimizer_v2.py:374: UserWarning: The `lr` argument is deprecated, use `learning_rate` instead.\n",
      "  warnings.warn(\n",
      "\n",
      "/root/miniconda3/lib/python3.8/site-packages/tensorflow/python/keras/utils/generic_utils.py:494: CustomMaskWarning: Custom mask layers require a config and must override get_config. When loading, the custom mask layer must be passed to the custom_objects argument.\n",
      "  warnings.warn('Custom mask layers require a config and must override '\n",
      "\n",
      "/tmp/ipykernel_326/422981087.py:40: FutureWarning: The frame.append method is deprecated and will be removed from pandas in a future version. Use pandas.concat instead.\n",
      "  output_df=output_df.append(result_dict,ignore_index=True)\n",
      "\n"
     ]
    },
    {
     "name": "stdout",
     "output_type": "stream",
     "text": [
      "accuracy:0.9980694980694981                                        \n",
      " 60%|██████    | 6/10 [14:46<09:53, 148.43s/trial, best loss: -1.0]"
     ]
    },
    {
     "name": "stderr",
     "output_type": "stream",
     "text": [
      "/root/miniconda3/lib/python3.8/site-packages/tensorflow/python/keras/optimizer_v2/optimizer_v2.py:374: UserWarning: The `lr` argument is deprecated, use `learning_rate` instead.\n",
      "  warnings.warn(\n",
      "\n",
      "/root/miniconda3/lib/python3.8/site-packages/tensorflow/python/keras/utils/generic_utils.py:494: CustomMaskWarning: Custom mask layers require a config and must override get_config. When loading, the custom mask layer must be passed to the custom_objects argument.\n",
      "  warnings.warn('Custom mask layers require a config and must override '\n",
      "\n",
      "/tmp/ipykernel_326/422981087.py:40: FutureWarning: The frame.append method is deprecated and will be removed from pandas in a future version. Use pandas.concat instead.\n",
      "  output_df=output_df.append(result_dict,ignore_index=True)\n",
      "\n"
     ]
    },
    {
     "name": "stdout",
     "output_type": "stream",
     "text": [
      "accuracy:1.0                                                       \n",
      " 70%|███████   | 7/10 [16:58<07:09, 143.21s/trial, best loss: -1.0]"
     ]
    },
    {
     "name": "stderr",
     "output_type": "stream",
     "text": [
      "/root/miniconda3/lib/python3.8/site-packages/tensorflow/python/keras/optimizer_v2/optimizer_v2.py:374: UserWarning: The `lr` argument is deprecated, use `learning_rate` instead.\n",
      "  warnings.warn(\n",
      "\n",
      "/root/miniconda3/lib/python3.8/site-packages/tensorflow/python/keras/utils/generic_utils.py:494: CustomMaskWarning: Custom mask layers require a config and must override get_config. When loading, the custom mask layer must be passed to the custom_objects argument.\n",
      "  warnings.warn('Custom mask layers require a config and must override '\n",
      "\n",
      "/tmp/ipykernel_326/422981087.py:40: FutureWarning: The frame.append method is deprecated and will be removed from pandas in a future version. Use pandas.concat instead.\n",
      "  output_df=output_df.append(result_dict,ignore_index=True)\n",
      "\n"
     ]
    },
    {
     "name": "stdout",
     "output_type": "stream",
     "text": [
      "accuracy:1.0                                                       \n",
      " 80%|████████  | 8/10 [19:33<04:53, 146.80s/trial, best loss: -1.0]"
     ]
    },
    {
     "name": "stderr",
     "output_type": "stream",
     "text": [
      "/root/miniconda3/lib/python3.8/site-packages/tensorflow/python/keras/optimizer_v2/optimizer_v2.py:374: UserWarning: The `lr` argument is deprecated, use `learning_rate` instead.\n",
      "  warnings.warn(\n",
      "\n",
      "/root/miniconda3/lib/python3.8/site-packages/tensorflow/python/keras/utils/generic_utils.py:494: CustomMaskWarning: Custom mask layers require a config and must override get_config. When loading, the custom mask layer must be passed to the custom_objects argument.\n",
      "  warnings.warn('Custom mask layers require a config and must override '\n",
      "\n",
      "/tmp/ipykernel_326/422981087.py:40: FutureWarning: The frame.append method is deprecated and will be removed from pandas in a future version. Use pandas.concat instead.\n",
      "  output_df=output_df.append(result_dict,ignore_index=True)\n",
      "\n"
     ]
    },
    {
     "name": "stdout",
     "output_type": "stream",
     "text": [
      "accuracy:1.0                                                       \n",
      " 90%|█████████ | 9/10 [22:56<02:44, 164.24s/trial, best loss: -1.0]"
     ]
    },
    {
     "name": "stderr",
     "output_type": "stream",
     "text": [
      "/root/miniconda3/lib/python3.8/site-packages/tensorflow/python/keras/optimizer_v2/optimizer_v2.py:374: UserWarning: The `lr` argument is deprecated, use `learning_rate` instead.\n",
      "  warnings.warn(\n",
      "\n",
      "/root/miniconda3/lib/python3.8/site-packages/tensorflow/python/keras/utils/generic_utils.py:494: CustomMaskWarning: Custom mask layers require a config and must override get_config. When loading, the custom mask layer must be passed to the custom_objects argument.\n",
      "  warnings.warn('Custom mask layers require a config and must override '\n",
      "\n",
      "/tmp/ipykernel_326/422981087.py:40: FutureWarning: The frame.append method is deprecated and will be removed from pandas in a future version. Use pandas.concat instead.\n",
      "  output_df=output_df.append(result_dict,ignore_index=True)\n",
      "\n"
     ]
    },
    {
     "name": "stdout",
     "output_type": "stream",
     "text": [
      "accuracy:1.0                                                       \n",
      "100%|██████████| 10/10 [25:43<00:00, 154.30s/trial, best loss: -1.0]\n",
      "Hyperopt estimated optimum {'dropout_rate': 0.6000000000000001, 'epochs': 10.0, 'frozen': 15.0, 'lr': 0.006, 'patience': 3.0}\n"
     ]
    }
   ],
   "source": [
    "#Hyperparameter optimization by Random search\n",
    "space = {\n",
    "    'frozen': hp.quniform('frozen', 15, 18, 1),\n",
    "    'epochs': hp.quniform('epochs', 5, 21, 5),\n",
    "    'patience': hp.quniform('patience', 2, 4, 1),\n",
    "    'lr': hp.quniform('lr', 0.001, 0.006, 0.001),\n",
    "    'dropout_rate': hp.quniform('dropout_rate', 0.3, 0.6, 0.1),\n",
    "}\n",
    "\n",
    "t1=time.time()\n",
    "best = fmin(fn=objective,\n",
    "            space=space,\n",
    "            algo=rand.suggest,\n",
    "            max_evals=10)\n",
    "print(\"Hyperopt estimated optimum {}\".format(best))\n",
    "t2=time.time()"
   ]
  },
  {
   "cell_type": "markdown",
   "metadata": {},
   "source": [
    "### 用优化后的超参数"
   ]
  },
  {
   "cell_type": "code",
   "execution_count": 70,
   "metadata": {},
   "outputs": [
    {
     "name": "stderr",
     "output_type": "stream",
     "text": [
      "/root/miniconda3/lib/python3.8/site-packages/tensorflow/python/keras/optimizer_v2/optimizer_v2.py:374: UserWarning: The `lr` argument is deprecated, use `learning_rate` instead.\n",
      "  warnings.warn(\n"
     ]
    },
    {
     "name": "stdout",
     "output_type": "stream",
     "text": [
      "Epoch 1/10\n",
      "17/17 [==============================] - 20s 1s/step - loss: 0.5457 - accuracy: 0.8280 - val_loss: 0.1022 - val_accuracy: 0.9846\n",
      "\n",
      "Epoch 00001: val_accuracy improved from -inf to 0.98456, saving model to ./xception.h5\n"
     ]
    },
    {
     "name": "stderr",
     "output_type": "stream",
     "text": [
      "/root/miniconda3/lib/python3.8/site-packages/tensorflow/python/keras/utils/generic_utils.py:494: CustomMaskWarning: Custom mask layers require a config and must override get_config. When loading, the custom mask layer must be passed to the custom_objects argument.\n",
      "  warnings.warn('Custom mask layers require a config and must override '\n"
     ]
    },
    {
     "name": "stdout",
     "output_type": "stream",
     "text": [
      "Epoch 2/10\n",
      "17/17 [==============================] - 18s 1s/step - loss: 0.1066 - accuracy: 0.9692 - val_loss: 0.0368 - val_accuracy: 0.9942\n",
      "\n",
      "Epoch 00002: val_accuracy improved from 0.98456 to 0.99421, saving model to ./xception.h5\n",
      "Epoch 3/10\n",
      "17/17 [==============================] - 18s 1s/step - loss: 0.0502 - accuracy: 0.9928 - val_loss: 0.0222 - val_accuracy: 0.9961\n",
      "\n",
      "Epoch 00003: val_accuracy improved from 0.99421 to 0.99614, saving model to ./xception.h5\n",
      "Epoch 4/10\n",
      "17/17 [==============================] - 18s 1s/step - loss: 0.0304 - accuracy: 0.9947 - val_loss: 0.0139 - val_accuracy: 1.0000\n",
      "\n",
      "Epoch 00004: val_accuracy improved from 0.99614 to 1.00000, saving model to ./xception.h5\n",
      "Epoch 5/10\n",
      "17/17 [==============================] - 18s 1s/step - loss: 0.0202 - accuracy: 0.9971 - val_loss: 0.0107 - val_accuracy: 1.0000\n",
      "\n",
      "Epoch 00005: val_accuracy did not improve from 1.00000\n",
      "Epoch 6/10\n",
      "17/17 [==============================] - 18s 1s/step - loss: 0.0160 - accuracy: 0.9990 - val_loss: 0.0090 - val_accuracy: 1.0000\n",
      "\n",
      "Epoch 00006: val_accuracy did not improve from 1.00000\n",
      "Epoch 7/10\n",
      "17/17 [==============================] - 17s 997ms/step - loss: 0.0125 - accuracy: 0.9990 - val_loss: 0.0076 - val_accuracy: 1.0000\n",
      "\n",
      "Epoch 00007: val_accuracy did not improve from 1.00000\n",
      "Epoch 00007: early stopping\n"
     ]
    },
    {
     "name": "stderr",
     "output_type": "stream",
     "text": [
      "/tmp/ipykernel_326/422981087.py:40: FutureWarning: The frame.append method is deprecated and will be removed from pandas in a future version. Use pandas.concat instead.\n",
      "  output_df=output_df.append(result_dict,ignore_index=True)\n"
     ]
    }
   ],
   "source": [
    "\n",
    "params=get_params(format(best))\n",
    "index=clear_output_df(index)\n",
    "\n",
    "temptime=t2-t1\n",
    "time_opt.append(temptime)\n",
    "opt_type.append(\"RS\")\n",
    "\n",
    "t1=time.time()\n",
    "xception(**params)\n",
    "t2=time.time()\n",
    "\n",
    "temptime=t2-t1\n",
    "timelist.append(temptime)\n"
   ]
  },
  {
   "cell_type": "code",
   "execution_count": 71,
   "metadata": {},
   "outputs": [
    {
     "name": "stdout",
     "output_type": "stream",
     "text": [
      "{\"code\":\"Success\",\"data\":null,\"msg\":\"\"}\n"
     ]
    }
   ],
   "source": [
    "resp = requests.post(\"https://www.autodl.com/api/v1/wechat/message/push\",\n",
    "                     json={\n",
    "                         \"token\": \"444db7f1cca1\",\n",
    "                         \"title\": \"Xception RS\",\n",
    "                         \"name\": \"Omar Project\"\n",
    "                     })\n",
    "print(resp.content.decode())"
   ]
  },
  {
   "cell_type": "markdown",
   "metadata": {},
   "source": [
    "# Inception"
   ]
  },
  {
   "cell_type": "code",
   "execution_count": 72,
   "metadata": {},
   "outputs": [],
   "source": [
    "def inception(num_class,epochs=20,frozen=15,lr=0.001,patience=2, dropout_rate=0.5,verbose=0,  savepath='./inception.h5',history=history_Inception,input_shape=INPUT_SIZE):\n",
    "    model_fine_tune = InceptionV3(include_top=False, weights='imagenet', input_shape=input_shape)\n",
    "    for layer in model_fine_tune.layers[:frozen]:\t#the number of frozen layers for transfer learning, have tuned from 50-150\n",
    "        layer.trainable = False\n",
    "    for layer in model_fine_tune.layers[frozen:]:\t#the number of trainable layers for transfer learning\n",
    "        layer.trainable = True\n",
    "    model = GlobalAveragePooling2D()(model_fine_tune.output)\n",
    "    model=Dense(units=256,activation='relu')(model)\n",
    "    model=Dropout(dropout_rate)(model)\n",
    "    model = Dense(num_class, activation='softmax')(model)\n",
    "    model = Model(model_fine_tune.input, model, name='resnet')\n",
    "    opt = keras.optimizers.Adam(lr=lr, beta_1=0.9, beta_2=0.999, epsilon=1e-08)\t#tuned learning rate to be 0.001\n",
    "    model.compile(loss='categorical_crossentropy', optimizer=opt, metrics=['accuracy']) #set the loss function to be binary crossentropy\n",
    "    #train model\n",
    "    earlyStopping = kcallbacks.EarlyStopping(\n",
    "        monitor='val_accuracy', patience=patience, verbose=verbose, mode='auto')\t#set early stop patience to save training time\n",
    "    saveBestModel = kcallbacks.ModelCheckpoint(\n",
    "        filepath=savepath,\n",
    "        monitor='val_accuracy',\n",
    "        verbose=verbose,\n",
    "        save_best_only=True,\n",
    "        mode='auto')\n",
    "    hist = model.fit(\n",
    "        train_generator,\n",
    "        steps_per_epoch=len(train_generator),\n",
    "        epochs=epochs,\n",
    "        validation_data=validation_generator,\n",
    "        validation_steps=len(validation_generator),\n",
    "        #use_multiprocessing=True, \n",
    "        callbacks=[earlyStopping, saveBestModel, history],\n",
    "        verbose=verbose\n",
    "    )"
   ]
  },
  {
   "cell_type": "code",
   "execution_count": 73,
   "metadata": {},
   "outputs": [],
   "source": [
    "def prediction(inception_model):\n",
    "#read images from validation folder\n",
    "    rootdir = './test_224/'\n",
    "    test_laels = []\n",
    "    test_images=[]\n",
    "    for subdir, dirs, files in os.walk(rootdir):\n",
    "        for file in files:\n",
    "            if not (file.endswith(\".jpeg\"))|(file.endswith(\".jpg\"))|(file.endswith(\".png\")):\n",
    "                continue\n",
    "            test_laels.append(subdir.split('/')[-1])\n",
    "            test_images.append(os.path.join(subdir, file))\n",
    "\n",
    "    predict=[]\n",
    "    length=len(test_images)\n",
    "    label=validation_generator.class_indices\n",
    "    label={v: k for k, v in label.items()}\n",
    "    for i in range(length):\n",
    "        inputimg=test_images[i]\n",
    "        test_batch=[]\n",
    "        thisimg=np.array(Image.open(inputimg))/255 #read all the images in validation set\n",
    "        #print(thisimg)\n",
    "        test_shape=(1,)+thisimg.shape\n",
    "        thisimg=thisimg.reshape(test_shape)\n",
    "        inception_model_batch=inception_model.predict(thisimg) #use master model to process the input image\n",
    "        #generate result by model 1\n",
    "        #\n",
    "        prob=inception_model_batch[0,np.argmax(inception_model_batch,axis=1)[0]]\n",
    "        res=label[np.argmax(inception_model_batch,axis=1)[0]]\n",
    "        predict.append(res)\n",
    "    acc=accuracy_score(test_laels,predict)\n",
    "    return acc\n",
    "\n",
    "\n",
    "\n",
    "\n"
   ]
  },
  {
   "cell_type": "code",
   "execution_count": 74,
   "metadata": {},
   "outputs": [],
   "source": [
    "#define the objective function to be optimized\n",
    "import time\n",
    "from hyperopt import hp, fmin, tpe, rand, STATUS_OK, Trials\n",
    "import matplotlib.pyplot as plt\n",
    "import statistics \n",
    "\n",
    "def objective(params):\n",
    "    \n",
    "    params = {\n",
    "        'frozen': int(params['frozen']),\n",
    "        'epochs': int(params['epochs']),\n",
    "        'patience': int(params['patience']),\n",
    "        'lr': abs(float(params['lr'])),\n",
    "        'dropout_rate': abs(float(params['dropout_rate'])),\n",
    "    }\n",
    "    frozen=params['frozen']\n",
    "    epochs=params['epochs']\n",
    "    patience=params['patience']\n",
    "    lr=params['lr']\n",
    "    dropout_rate=params['dropout_rate']\n",
    "    \n",
    "    #\n",
    "    inception(num_class=5, frozen=frozen,epochs=epochs,patience=patience, lr=lr, dropout_rate=dropout_rate)\n",
    "    #\n",
    "    acc=prediction(inception_model=load_model('./inception.h5'))\n",
    "\n",
    "    print('accuracy:%s'%acc)\n",
    "    return {'loss': -acc, 'status': STATUS_OK }"
   ]
  },
  {
   "cell_type": "code",
   "execution_count": 75,
   "metadata": {},
   "outputs": [
    {
     "name": "stdout",
     "output_type": "stream",
     "text": [
      "  0%|          | 0/10 [00:00<?, ?trial/s, best loss=?]"
     ]
    },
    {
     "name": "stderr",
     "output_type": "stream",
     "text": [
      "/root/miniconda3/lib/python3.8/site-packages/tensorflow/python/keras/optimizer_v2/optimizer_v2.py:374: UserWarning: The `lr` argument is deprecated, use `learning_rate` instead.\n",
      "  warnings.warn(\n",
      "\n",
      "/tmp/ipykernel_326/422981087.py:40: FutureWarning: The frame.append method is deprecated and will be removed from pandas in a future version. Use pandas.concat instead.\n",
      "  output_df=output_df.append(result_dict,ignore_index=True)\n",
      "\n"
     ]
    },
    {
     "name": "stdout",
     "output_type": "stream",
     "text": [
      "accuracy:1.0                                          \n",
      " 10%|█         | 1/10 [04:00<36:03, 240.42s/trial, best loss: -1.0]"
     ]
    },
    {
     "name": "stderr",
     "output_type": "stream",
     "text": [
      "/root/miniconda3/lib/python3.8/site-packages/tensorflow/python/keras/optimizer_v2/optimizer_v2.py:374: UserWarning: The `lr` argument is deprecated, use `learning_rate` instead.\n",
      "  warnings.warn(\n",
      "\n",
      "/tmp/ipykernel_326/422981087.py:40: FutureWarning: The frame.append method is deprecated and will be removed from pandas in a future version. Use pandas.concat instead.\n",
      "  output_df=output_df.append(result_dict,ignore_index=True)\n",
      "\n"
     ]
    },
    {
     "name": "stdout",
     "output_type": "stream",
     "text": [
      "accuracy:0.6833976833976834                                        \n",
      " 20%|██        | 2/10 [06:09<23:18, 174.78s/trial, best loss: -1.0]"
     ]
    },
    {
     "name": "stderr",
     "output_type": "stream",
     "text": [
      "/root/miniconda3/lib/python3.8/site-packages/tensorflow/python/keras/optimizer_v2/optimizer_v2.py:374: UserWarning: The `lr` argument is deprecated, use `learning_rate` instead.\n",
      "  warnings.warn(\n",
      "\n",
      "/tmp/ipykernel_326/422981087.py:40: FutureWarning: The frame.append method is deprecated and will be removed from pandas in a future version. Use pandas.concat instead.\n",
      "  output_df=output_df.append(result_dict,ignore_index=True)\n",
      "\n"
     ]
    },
    {
     "name": "stdout",
     "output_type": "stream",
     "text": [
      "accuracy:0.10424710424710425                                       \n",
      " 30%|███       | 3/10 [07:55<16:45, 143.59s/trial, best loss: -1.0]"
     ]
    },
    {
     "name": "stderr",
     "output_type": "stream",
     "text": [
      "/root/miniconda3/lib/python3.8/site-packages/tensorflow/python/keras/optimizer_v2/optimizer_v2.py:374: UserWarning: The `lr` argument is deprecated, use `learning_rate` instead.\n",
      "  warnings.warn(\n",
      "\n",
      "/tmp/ipykernel_326/422981087.py:40: FutureWarning: The frame.append method is deprecated and will be removed from pandas in a future version. Use pandas.concat instead.\n",
      "  output_df=output_df.append(result_dict,ignore_index=True)\n",
      "\n"
     ]
    },
    {
     "name": "stdout",
     "output_type": "stream",
     "text": [
      "accuracy:0.15637065637065636                                       \n",
      " 40%|████      | 4/10 [09:43<12:57, 129.52s/trial, best loss: -1.0]"
     ]
    },
    {
     "name": "stderr",
     "output_type": "stream",
     "text": [
      "/root/miniconda3/lib/python3.8/site-packages/tensorflow/python/keras/optimizer_v2/optimizer_v2.py:374: UserWarning: The `lr` argument is deprecated, use `learning_rate` instead.\n",
      "  warnings.warn(\n",
      "\n",
      "/tmp/ipykernel_326/422981087.py:40: FutureWarning: The frame.append method is deprecated and will be removed from pandas in a future version. Use pandas.concat instead.\n",
      "  output_df=output_df.append(result_dict,ignore_index=True)\n",
      "\n"
     ]
    },
    {
     "name": "stdout",
     "output_type": "stream",
     "text": [
      "accuracy:0.10038610038610038                                       \n",
      " 50%|█████     | 5/10 [11:32<10:10, 122.20s/trial, best loss: -1.0]"
     ]
    },
    {
     "name": "stderr",
     "output_type": "stream",
     "text": [
      "/root/miniconda3/lib/python3.8/site-packages/tensorflow/python/keras/optimizer_v2/optimizer_v2.py:374: UserWarning: The `lr` argument is deprecated, use `learning_rate` instead.\n",
      "  warnings.warn(\n",
      "\n",
      "/tmp/ipykernel_326/422981087.py:40: FutureWarning: The frame.append method is deprecated and will be removed from pandas in a future version. Use pandas.concat instead.\n",
      "  output_df=output_df.append(result_dict,ignore_index=True)\n",
      "\n"
     ]
    },
    {
     "name": "stdout",
     "output_type": "stream",
     "text": [
      "accuracy:1.0                                                       \n",
      " 60%|██████    | 6/10 [16:45<12:27, 186.85s/trial, best loss: -1.0]"
     ]
    },
    {
     "name": "stderr",
     "output_type": "stream",
     "text": [
      "/root/miniconda3/lib/python3.8/site-packages/tensorflow/python/keras/optimizer_v2/optimizer_v2.py:374: UserWarning: The `lr` argument is deprecated, use `learning_rate` instead.\n",
      "  warnings.warn(\n",
      "\n",
      "/tmp/ipykernel_326/422981087.py:40: FutureWarning: The frame.append method is deprecated and will be removed from pandas in a future version. Use pandas.concat instead.\n",
      "  output_df=output_df.append(result_dict,ignore_index=True)\n",
      "\n"
     ]
    },
    {
     "name": "stdout",
     "output_type": "stream",
     "text": [
      "accuracy:1.0                                                       \n",
      " 70%|███████   | 7/10 [23:53<13:17, 265.89s/trial, best loss: -1.0]"
     ]
    },
    {
     "name": "stderr",
     "output_type": "stream",
     "text": [
      "/root/miniconda3/lib/python3.8/site-packages/tensorflow/python/keras/optimizer_v2/optimizer_v2.py:374: UserWarning: The `lr` argument is deprecated, use `learning_rate` instead.\n",
      "  warnings.warn(\n",
      "\n",
      "/tmp/ipykernel_326/422981087.py:40: FutureWarning: The frame.append method is deprecated and will be removed from pandas in a future version. Use pandas.concat instead.\n",
      "  output_df=output_df.append(result_dict,ignore_index=True)\n",
      "\n"
     ]
    },
    {
     "name": "stdout",
     "output_type": "stream",
     "text": [
      "accuracy:0.6486486486486487                                        \n",
      " 80%|████████  | 8/10 [25:41<07:10, 215.50s/trial, best loss: -1.0]"
     ]
    },
    {
     "name": "stderr",
     "output_type": "stream",
     "text": [
      "/root/miniconda3/lib/python3.8/site-packages/tensorflow/python/keras/optimizer_v2/optimizer_v2.py:374: UserWarning: The `lr` argument is deprecated, use `learning_rate` instead.\n",
      "  warnings.warn(\n",
      "\n",
      "/tmp/ipykernel_326/422981087.py:40: FutureWarning: The frame.append method is deprecated and will be removed from pandas in a future version. Use pandas.concat instead.\n",
      "  output_df=output_df.append(result_dict,ignore_index=True)\n",
      "\n"
     ]
    },
    {
     "name": "stdout",
     "output_type": "stream",
     "text": [
      "accuracy:0.9961389961389961                                        \n",
      " 90%|█████████ | 9/10 [29:02<03:31, 211.12s/trial, best loss: -1.0]"
     ]
    },
    {
     "name": "stderr",
     "output_type": "stream",
     "text": [
      "/root/miniconda3/lib/python3.8/site-packages/tensorflow/python/keras/optimizer_v2/optimizer_v2.py:374: UserWarning: The `lr` argument is deprecated, use `learning_rate` instead.\n",
      "  warnings.warn(\n",
      "\n",
      "/tmp/ipykernel_326/422981087.py:40: FutureWarning: The frame.append method is deprecated and will be removed from pandas in a future version. Use pandas.concat instead.\n",
      "  output_df=output_df.append(result_dict,ignore_index=True)\n",
      "\n"
     ]
    },
    {
     "name": "stdout",
     "output_type": "stream",
     "text": [
      "accuracy:0.10424710424710425                                       \n",
      "100%|██████████| 10/10 [31:07<00:00, 186.78s/trial, best loss: -1.0]\n",
      "Hyperopt estimated optimum {'dropout_rate': 0.30000000000000004, 'epochs': 10.0, 'frozen': 15.0, 'lr': 0.004, 'patience': 3.0}\n"
     ]
    }
   ],
   "source": [
    "    #Hyperparameter optimization by Bayesian optimization - Tree Parzen Estimator\n",
    "space = {\n",
    "    'frozen': hp.quniform('frozen', 15, 18, 1),\n",
    "    'epochs': hp.quniform('epochs', 5, 21, 5),\n",
    "    'patience': hp.quniform('patience', 2, 4, 1),\n",
    "    'lr': hp.quniform('lr', 0.001, 0.006, 0.001),\n",
    "    'dropout_rate': hp.quniform('dropout_rate', 0.3, 0.6, 0.1),\n",
    "}\n",
    "\n",
    "t1=time.time()\n",
    "best = fmin(fn=objective,\n",
    "            space=space,\n",
    "            algo=tpe.suggest,\n",
    "            max_evals=10)\n",
    "print(\"Hyperopt estimated optimum {}\".format(best))\n",
    "t2=time.time()"
   ]
  },
  {
   "cell_type": "code",
   "execution_count": 76,
   "metadata": {},
   "outputs": [
    {
     "name": "stderr",
     "output_type": "stream",
     "text": [
      "/root/miniconda3/lib/python3.8/site-packages/tensorflow/python/keras/optimizer_v2/optimizer_v2.py:374: UserWarning: The `lr` argument is deprecated, use `learning_rate` instead.\n",
      "  warnings.warn(\n"
     ]
    },
    {
     "name": "stdout",
     "output_type": "stream",
     "text": [
      "Epoch 1/10\n",
      "17/17 [==============================] - 24s 1s/step - loss: 0.2464 - accuracy: 0.9162 - val_loss: 3.0204 - val_accuracy: 0.7876\n",
      "\n",
      "Epoch 00001: val_accuracy improved from -inf to 0.78764, saving model to ./inception.h5\n",
      "Epoch 2/10\n",
      "17/17 [==============================] - 18s 1s/step - loss: 0.0974 - accuracy: 0.9851 - val_loss: 171.0232 - val_accuracy: 0.6834\n",
      "\n",
      "Epoch 00002: val_accuracy did not improve from 0.78764\n",
      "Epoch 3/10\n",
      "17/17 [==============================] - 18s 1s/step - loss: 0.0076 - accuracy: 0.9981 - val_loss: 30.6622 - val_accuracy: 0.7104\n",
      "\n",
      "Epoch 00003: val_accuracy did not improve from 0.78764\n",
      "Epoch 4/10\n",
      "17/17 [==============================] - 18s 1s/step - loss: 0.0173 - accuracy: 0.9957 - val_loss: 48.5291 - val_accuracy: 0.7857\n",
      "\n",
      "Epoch 00004: val_accuracy did not improve from 0.78764\n",
      "Epoch 00004: early stopping\n"
     ]
    },
    {
     "name": "stderr",
     "output_type": "stream",
     "text": [
      "/tmp/ipykernel_326/422981087.py:40: FutureWarning: The frame.append method is deprecated and will be removed from pandas in a future version. Use pandas.concat instead.\n",
      "  output_df=output_df.append(result_dict,ignore_index=True)\n"
     ]
    }
   ],
   "source": [
    "\n",
    "params=get_params(format(best))\n",
    "index=clear_output_df(index)\n",
    "\n",
    "temptime=t2-t1\n",
    "time_opt.append(temptime)\n",
    "opt_type.append(\"BO-TPE\")\n",
    "\n",
    "t1=time.time()\n",
    "inception(**params)\n",
    "t2=time.time()\n",
    "\n",
    "temptime=t2-t1\n",
    "timelist.append(temptime)"
   ]
  },
  {
   "cell_type": "code",
   "execution_count": 77,
   "metadata": {},
   "outputs": [
    {
     "name": "stdout",
     "output_type": "stream",
     "text": [
      "{\"code\":\"Success\",\"data\":null,\"msg\":\"\"}\n"
     ]
    }
   ],
   "source": [
    "resp = requests.post(\"https://www.autodl.com/api/v1/wechat/message/push\",\n",
    "                     json={\n",
    "                         \"token\": \"444db7f1cca1\",\n",
    "                         \"title\": \"inception BO-TPE\",\n",
    "                         \"name\": \"Omar Project\"\n",
    "                     })\n",
    "print(resp.content.decode())"
   ]
  },
  {
   "cell_type": "code",
   "execution_count": 78,
   "metadata": {},
   "outputs": [
    {
     "name": "stdout",
     "output_type": "stream",
     "text": [
      "  0%|          | 0/10 [00:00<?, ?trial/s, best loss=?]"
     ]
    },
    {
     "name": "stderr",
     "output_type": "stream",
     "text": [
      "/root/miniconda3/lib/python3.8/site-packages/tensorflow/python/keras/optimizer_v2/optimizer_v2.py:374: UserWarning: The `lr` argument is deprecated, use `learning_rate` instead.\n",
      "  warnings.warn(\n",
      "\n",
      "/tmp/ipykernel_326/422981087.py:40: FutureWarning: The frame.append method is deprecated and will be removed from pandas in a future version. Use pandas.concat instead.\n",
      "  output_df=output_df.append(result_dict,ignore_index=True)\n",
      "\n"
     ]
    },
    {
     "name": "stdout",
     "output_type": "stream",
     "text": [
      "accuracy:0.694980694980695                            \n",
      " 10%|█         | 1/10 [02:08<19:12, 128.10s/trial, best loss: -0.694980694980695]"
     ]
    },
    {
     "name": "stderr",
     "output_type": "stream",
     "text": [
      "/root/miniconda3/lib/python3.8/site-packages/tensorflow/python/keras/optimizer_v2/optimizer_v2.py:374: UserWarning: The `lr` argument is deprecated, use `learning_rate` instead.\n",
      "  warnings.warn(\n",
      "\n",
      "/tmp/ipykernel_326/422981087.py:40: FutureWarning: The frame.append method is deprecated and will be removed from pandas in a future version. Use pandas.concat instead.\n",
      "  output_df=output_df.append(result_dict,ignore_index=True)\n",
      "\n"
     ]
    },
    {
     "name": "stdout",
     "output_type": "stream",
     "text": [
      "accuracy:0.915057915057915                                                       \n",
      " 20%|██        | 2/10 [04:48<19:38, 147.31s/trial, best loss: -0.915057915057915]"
     ]
    },
    {
     "name": "stderr",
     "output_type": "stream",
     "text": [
      "/root/miniconda3/lib/python3.8/site-packages/tensorflow/python/keras/optimizer_v2/optimizer_v2.py:374: UserWarning: The `lr` argument is deprecated, use `learning_rate` instead.\n",
      "  warnings.warn(\n",
      "\n",
      "/tmp/ipykernel_326/422981087.py:40: FutureWarning: The frame.append method is deprecated and will be removed from pandas in a future version. Use pandas.concat instead.\n",
      "  output_df=output_df.append(result_dict,ignore_index=True)\n",
      "\n"
     ]
    },
    {
     "name": "stdout",
     "output_type": "stream",
     "text": [
      "accuracy:0.915057915057915                                                       \n",
      " 30%|███       | 3/10 [07:31<18:00, 154.40s/trial, best loss: -0.915057915057915]"
     ]
    },
    {
     "name": "stderr",
     "output_type": "stream",
     "text": [
      "/root/miniconda3/lib/python3.8/site-packages/tensorflow/python/keras/optimizer_v2/optimizer_v2.py:374: UserWarning: The `lr` argument is deprecated, use `learning_rate` instead.\n",
      "  warnings.warn(\n",
      "\n",
      "/tmp/ipykernel_326/422981087.py:40: FutureWarning: The frame.append method is deprecated and will be removed from pandas in a future version. Use pandas.concat instead.\n",
      "  output_df=output_df.append(result_dict,ignore_index=True)\n",
      "\n"
     ]
    },
    {
     "name": "stdout",
     "output_type": "stream",
     "text": [
      "accuracy:0.693050193050193                                                       \n",
      " 40%|████      | 4/10 [09:53<14:56, 149.48s/trial, best loss: -0.915057915057915]"
     ]
    },
    {
     "name": "stderr",
     "output_type": "stream",
     "text": [
      "/root/miniconda3/lib/python3.8/site-packages/tensorflow/python/keras/optimizer_v2/optimizer_v2.py:374: UserWarning: The `lr` argument is deprecated, use `learning_rate` instead.\n",
      "  warnings.warn(\n",
      "\n",
      "/tmp/ipykernel_326/422981087.py:40: FutureWarning: The frame.append method is deprecated and will be removed from pandas in a future version. Use pandas.concat instead.\n",
      "  output_df=output_df.append(result_dict,ignore_index=True)\n",
      "\n"
     ]
    },
    {
     "name": "stdout",
     "output_type": "stream",
     "text": [
      "accuracy:0.7335907335907336                                                      \n",
      " 50%|█████     | 5/10 [13:33<14:35, 175.01s/trial, best loss: -0.915057915057915]"
     ]
    },
    {
     "name": "stderr",
     "output_type": "stream",
     "text": [
      "/root/miniconda3/lib/python3.8/site-packages/tensorflow/python/keras/optimizer_v2/optimizer_v2.py:374: UserWarning: The `lr` argument is deprecated, use `learning_rate` instead.\n",
      "  warnings.warn(\n",
      "\n",
      "/tmp/ipykernel_326/422981087.py:40: FutureWarning: The frame.append method is deprecated and will be removed from pandas in a future version. Use pandas.concat instead.\n",
      "  output_df=output_df.append(result_dict,ignore_index=True)\n",
      "\n"
     ]
    },
    {
     "name": "stdout",
     "output_type": "stream",
     "text": [
      "accuracy:0.7895752895752896                                                      \n",
      " 60%|██████    | 6/10 [15:40<10:33, 158.47s/trial, best loss: -0.915057915057915]"
     ]
    },
    {
     "name": "stderr",
     "output_type": "stream",
     "text": [
      "/root/miniconda3/lib/python3.8/site-packages/tensorflow/python/keras/optimizer_v2/optimizer_v2.py:374: UserWarning: The `lr` argument is deprecated, use `learning_rate` instead.\n",
      "  warnings.warn(\n",
      "\n",
      "/tmp/ipykernel_326/422981087.py:40: FutureWarning: The frame.append method is deprecated and will be removed from pandas in a future version. Use pandas.concat instead.\n",
      "  output_df=output_df.append(result_dict,ignore_index=True)\n",
      "\n"
     ]
    },
    {
     "name": "stdout",
     "output_type": "stream",
     "text": [
      "accuracy:0.7722007722007722                                                      \n",
      " 70%|███████   | 7/10 [18:24<08:01, 160.41s/trial, best loss: -0.915057915057915]"
     ]
    },
    {
     "name": "stderr",
     "output_type": "stream",
     "text": [
      "/root/miniconda3/lib/python3.8/site-packages/tensorflow/python/keras/optimizer_v2/optimizer_v2.py:374: UserWarning: The `lr` argument is deprecated, use `learning_rate` instead.\n",
      "  warnings.warn(\n",
      "\n",
      "/tmp/ipykernel_326/422981087.py:40: FutureWarning: The frame.append method is deprecated and will be removed from pandas in a future version. Use pandas.concat instead.\n",
      "  output_df=output_df.append(result_dict,ignore_index=True)\n",
      "\n"
     ]
    },
    {
     "name": "stdout",
     "output_type": "stream",
     "text": [
      "accuracy:0.38223938223938225                                                     \n",
      " 80%|████████  | 8/10 [21:09<05:23, 161.93s/trial, best loss: -0.915057915057915]"
     ]
    },
    {
     "name": "stderr",
     "output_type": "stream",
     "text": [
      "/root/miniconda3/lib/python3.8/site-packages/tensorflow/python/keras/optimizer_v2/optimizer_v2.py:374: UserWarning: The `lr` argument is deprecated, use `learning_rate` instead.\n",
      "  warnings.warn(\n",
      "\n",
      "/tmp/ipykernel_326/422981087.py:40: FutureWarning: The frame.append method is deprecated and will be removed from pandas in a future version. Use pandas.concat instead.\n",
      "  output_df=output_df.append(result_dict,ignore_index=True)\n",
      "\n"
     ]
    },
    {
     "name": "stdout",
     "output_type": "stream",
     "text": [
      "accuracy:0.9111969111969112                                                      \n",
      " 90%|█████████ | 9/10 [25:15<03:07, 187.97s/trial, best loss: -0.915057915057915]"
     ]
    },
    {
     "name": "stderr",
     "output_type": "stream",
     "text": [
      "/root/miniconda3/lib/python3.8/site-packages/tensorflow/python/keras/optimizer_v2/optimizer_v2.py:374: UserWarning: The `lr` argument is deprecated, use `learning_rate` instead.\n",
      "  warnings.warn(\n",
      "\n",
      "/tmp/ipykernel_326/422981087.py:40: FutureWarning: The frame.append method is deprecated and will be removed from pandas in a future version. Use pandas.concat instead.\n",
      "  output_df=output_df.append(result_dict,ignore_index=True)\n",
      "\n"
     ]
    },
    {
     "name": "stdout",
     "output_type": "stream",
     "text": [
      "accuracy:1.0                                                                     \n",
      "100%|██████████| 10/10 [30:35<00:00, 183.57s/trial, best loss: -1.0]             \n",
      "Hyperopt estimated optimum {'dropout_rate': 0.6000000000000001, 'epochs': 15.0, 'frozen': 16.0, 'lr': 0.004, 'patience': 3.0}\n"
     ]
    }
   ],
   "source": [
    "#Hyperparameter optimization by Random search\n",
    "space = {\n",
    "    'frozen': hp.quniform('frozen', 15, 18, 1),\n",
    "    'epochs': hp.quniform('epochs', 5, 21, 5),\n",
    "    'patience': hp.quniform('patience', 2, 4, 1),\n",
    "    'lr': hp.quniform('lr', 0.001, 0.006, 0.001),\n",
    "    'dropout_rate': hp.quniform('dropout_rate', 0.3, 0.6, 0.1),\n",
    "}\n",
    "\n",
    "t1=time.time()\n",
    "best = fmin(fn=objective,\n",
    "            space=space,\n",
    "            algo=rand.suggest,\n",
    "            max_evals=10)\n",
    "print(\"Hyperopt estimated optimum {}\".format(best))\n",
    "t2=time.time()"
   ]
  },
  {
   "cell_type": "code",
   "execution_count": 79,
   "metadata": {},
   "outputs": [
    {
     "name": "stderr",
     "output_type": "stream",
     "text": [
      "/root/miniconda3/lib/python3.8/site-packages/tensorflow/python/keras/optimizer_v2/optimizer_v2.py:374: UserWarning: The `lr` argument is deprecated, use `learning_rate` instead.\n",
      "  warnings.warn(\n"
     ]
    },
    {
     "name": "stdout",
     "output_type": "stream",
     "text": [
      "Epoch 1/15\n",
      "17/17 [==============================] - 26s 1s/step - loss: 0.1617 - accuracy: 0.9316 - val_loss: 6.7961 - val_accuracy: 0.7857\n",
      "\n",
      "Epoch 00001: val_accuracy improved from -inf to 0.78571, saving model to ./inception.h5\n",
      "Epoch 2/15\n",
      "17/17 [==============================] - 19s 1s/step - loss: 0.0028 - accuracy: 0.9990 - val_loss: 0.6612 - val_accuracy: 0.8842\n",
      "\n",
      "Epoch 00002: val_accuracy improved from 0.78571 to 0.88417, saving model to ./inception.h5\n",
      "Epoch 3/15\n",
      "17/17 [==============================] - 20s 1s/step - loss: 0.0036 - accuracy: 0.9986 - val_loss: 24.5681 - val_accuracy: 0.1564\n",
      "\n",
      "Epoch 00003: val_accuracy did not improve from 0.88417\n",
      "Epoch 4/15\n",
      "17/17 [==============================] - 19s 1s/step - loss: 0.0021 - accuracy: 0.9990 - val_loss: 24.0498 - val_accuracy: 0.2124\n",
      "\n",
      "Epoch 00004: val_accuracy did not improve from 0.88417\n",
      "Epoch 5/15\n",
      "17/17 [==============================] - 18s 1s/step - loss: 2.3830e-04 - accuracy: 1.0000 - val_loss: 14.6312 - val_accuracy: 0.3707\n",
      "\n",
      "Epoch 00005: val_accuracy did not improve from 0.88417\n",
      "Epoch 00005: early stopping\n"
     ]
    },
    {
     "name": "stderr",
     "output_type": "stream",
     "text": [
      "/tmp/ipykernel_326/422981087.py:40: FutureWarning: The frame.append method is deprecated and will be removed from pandas in a future version. Use pandas.concat instead.\n",
      "  output_df=output_df.append(result_dict,ignore_index=True)\n"
     ]
    }
   ],
   "source": [
    "params=get_params(format(best))\n",
    "index=clear_output_df(index)\n",
    "\n",
    "temptime=t2-t1\n",
    "time_opt.append(temptime)\n",
    "opt_type.append(\"RS\")\n",
    "\n",
    "t1=time.time()\n",
    "inception(**params)\n",
    "t2=time.time()\n",
    "\n",
    "temptime=t2-t1\n",
    "timelist.append(temptime)"
   ]
  },
  {
   "cell_type": "code",
   "execution_count": 80,
   "metadata": {},
   "outputs": [
    {
     "name": "stdout",
     "output_type": "stream",
     "text": [
      "{\"code\":\"Success\",\"data\":null,\"msg\":\"\"}\n"
     ]
    }
   ],
   "source": [
    "resp = requests.post(\"https://www.autodl.com/api/v1/wechat/message/push\",\n",
    "                     json={\n",
    "                         \"token\": \"444db7f1cca1\",\n",
    "                         \"title\": \"inception RS\",\n",
    "                         \"name\": \"Omar Project\"\n",
    "                     })\n",
    "print(resp.content.decode())"
   ]
  },
  {
   "cell_type": "code",
   "execution_count": 81,
   "metadata": {},
   "outputs": [
    {
     "data": {
      "text/html": [
       "<div>\n",
       "<style scoped>\n",
       "    .dataframe tbody tr th:only-of-type {\n",
       "        vertical-align: middle;\n",
       "    }\n",
       "\n",
       "    .dataframe tbody tr th {\n",
       "        vertical-align: top;\n",
       "    }\n",
       "\n",
       "    .dataframe thead th {\n",
       "        text-align: right;\n",
       "    }\n",
       "</style>\n",
       "<table border=\"1\" class=\"dataframe\">\n",
       "  <thead>\n",
       "    <tr style=\"text-align: right;\">\n",
       "      <th></th>\n",
       "      <th>Loss</th>\n",
       "      <th>Accuracy</th>\n",
       "      <th>Val-Loss</th>\n",
       "      <th>Val-Accuracy</th>\n",
       "      <th>Time</th>\n",
       "    </tr>\n",
       "  </thead>\n",
       "  <tbody>\n",
       "    <tr>\n",
       "      <th>0</th>\n",
       "      <td>1.381341</td>\n",
       "      <td>0.634875</td>\n",
       "      <td>1.066410</td>\n",
       "      <td>0.683398</td>\n",
       "      <td>NaN</td>\n",
       "    </tr>\n",
       "    <tr>\n",
       "      <th>1</th>\n",
       "      <td>0.025501</td>\n",
       "      <td>0.999037</td>\n",
       "      <td>0.013141</td>\n",
       "      <td>1.000000</td>\n",
       "      <td>NaN</td>\n",
       "    </tr>\n",
       "    <tr>\n",
       "      <th>2</th>\n",
       "      <td>0.021232</td>\n",
       "      <td>0.995183</td>\n",
       "      <td>0.000791</td>\n",
       "      <td>1.000000</td>\n",
       "      <td>NaN</td>\n",
       "    </tr>\n",
       "    <tr>\n",
       "      <th>3</th>\n",
       "      <td>0.139370</td>\n",
       "      <td>0.942197</td>\n",
       "      <td>0.011500</td>\n",
       "      <td>1.000000</td>\n",
       "      <td>NaN</td>\n",
       "    </tr>\n",
       "    <tr>\n",
       "      <th>4</th>\n",
       "      <td>0.594463</td>\n",
       "      <td>0.800096</td>\n",
       "      <td>87.009918</td>\n",
       "      <td>0.104247</td>\n",
       "      <td>NaN</td>\n",
       "    </tr>\n",
       "    <tr>\n",
       "      <th>5</th>\n",
       "      <td>0.183305</td>\n",
       "      <td>0.932081</td>\n",
       "      <td>2.650600</td>\n",
       "      <td>0.683398</td>\n",
       "      <td>NaN</td>\n",
       "    </tr>\n",
       "    <tr>\n",
       "      <th>6</th>\n",
       "      <td>0.020698</td>\n",
       "      <td>0.995183</td>\n",
       "      <td>3.605927</td>\n",
       "      <td>0.789575</td>\n",
       "      <td>NaN</td>\n",
       "    </tr>\n",
       "    <tr>\n",
       "      <th>7</th>\n",
       "      <td>0.102476</td>\n",
       "      <td>0.956166</td>\n",
       "      <td>0.039737</td>\n",
       "      <td>0.986486</td>\n",
       "      <td>NaN</td>\n",
       "    </tr>\n",
       "    <tr>\n",
       "      <th>8</th>\n",
       "      <td>0.111195</td>\n",
       "      <td>0.958093</td>\n",
       "      <td>0.039620</td>\n",
       "      <td>1.000000</td>\n",
       "      <td>NaN</td>\n",
       "    </tr>\n",
       "    <tr>\n",
       "      <th>9</th>\n",
       "      <td>0.167389</td>\n",
       "      <td>0.927264</td>\n",
       "      <td>0.010488</td>\n",
       "      <td>1.000000</td>\n",
       "      <td>NaN</td>\n",
       "    </tr>\n",
       "    <tr>\n",
       "      <th>10</th>\n",
       "      <td>0.134028</td>\n",
       "      <td>0.941233</td>\n",
       "      <td>0.086623</td>\n",
       "      <td>0.984556</td>\n",
       "      <td>NaN</td>\n",
       "    </tr>\n",
       "    <tr>\n",
       "      <th>11</th>\n",
       "      <td>0.006658</td>\n",
       "      <td>0.998555</td>\n",
       "      <td>0.000347</td>\n",
       "      <td>1.000000</td>\n",
       "      <td>NaN</td>\n",
       "    </tr>\n",
       "    <tr>\n",
       "      <th>12</th>\n",
       "      <td>0.602428</td>\n",
       "      <td>0.675337</td>\n",
       "      <td>0.500393</td>\n",
       "      <td>0.787645</td>\n",
       "      <td>NaN</td>\n",
       "    </tr>\n",
       "    <tr>\n",
       "      <th>13</th>\n",
       "      <td>0.049034</td>\n",
       "      <td>0.990848</td>\n",
       "      <td>0.021591</td>\n",
       "      <td>1.000000</td>\n",
       "      <td>NaN</td>\n",
       "    </tr>\n",
       "    <tr>\n",
       "      <th>14</th>\n",
       "      <td>0.030371</td>\n",
       "      <td>0.994701</td>\n",
       "      <td>0.013889</td>\n",
       "      <td>1.000000</td>\n",
       "      <td>NaN</td>\n",
       "    </tr>\n",
       "    <tr>\n",
       "      <th>15</th>\n",
       "      <td>0.246381</td>\n",
       "      <td>0.916185</td>\n",
       "      <td>3.020384</td>\n",
       "      <td>0.787645</td>\n",
       "      <td>NaN</td>\n",
       "    </tr>\n",
       "    <tr>\n",
       "      <th>16</th>\n",
       "      <td>0.002800</td>\n",
       "      <td>0.999037</td>\n",
       "      <td>0.661217</td>\n",
       "      <td>0.884170</td>\n",
       "      <td>NaN</td>\n",
       "    </tr>\n",
       "  </tbody>\n",
       "</table>\n",
       "</div>"
      ],
      "text/plain": [
       "        Loss  Accuracy   Val-Loss  Val-Accuracy Time\n",
       "0   1.381341  0.634875   1.066410      0.683398  NaN\n",
       "1   0.025501  0.999037   0.013141      1.000000  NaN\n",
       "2   0.021232  0.995183   0.000791      1.000000  NaN\n",
       "3   0.139370  0.942197   0.011500      1.000000  NaN\n",
       "4   0.594463  0.800096  87.009918      0.104247  NaN\n",
       "5   0.183305  0.932081   2.650600      0.683398  NaN\n",
       "6   0.020698  0.995183   3.605927      0.789575  NaN\n",
       "7   0.102476  0.956166   0.039737      0.986486  NaN\n",
       "8   0.111195  0.958093   0.039620      1.000000  NaN\n",
       "9   0.167389  0.927264   0.010488      1.000000  NaN\n",
       "10  0.134028  0.941233   0.086623      0.984556  NaN\n",
       "11  0.006658  0.998555   0.000347      1.000000  NaN\n",
       "12  0.602428  0.675337   0.500393      0.787645  NaN\n",
       "13  0.049034  0.990848   0.021591      1.000000  NaN\n",
       "14  0.030371  0.994701   0.013889      1.000000  NaN\n",
       "15  0.246381  0.916185   3.020384      0.787645  NaN\n",
       "16  0.002800  0.999037   0.661217      0.884170  NaN"
      ]
     },
     "execution_count": 81,
     "metadata": {},
     "output_type": "execute_result"
    }
   ],
   "source": [
    "output_df"
   ]
  },
  {
   "cell_type": "code",
   "execution_count": 82,
   "metadata": {},
   "outputs": [
    {
     "data": {
      "text/plain": [
       "['CNN',\n",
       " 'Xception',\n",
       " 'VGG16',\n",
       " 'VGG19',\n",
       " 'Resnet',\n",
       " 'Inception',\n",
       " 'InceptionResnet',\n",
       " 'CNN',\n",
       " 'CNN',\n",
       " 'VGG16',\n",
       " 'VGG16',\n",
       " 'VGG19',\n",
       " 'VGG19',\n",
       " 'Xception',\n",
       " 'Xception',\n",
       " 'Inception',\n",
       " 'Inception']"
      ]
     },
     "execution_count": 82,
     "metadata": {},
     "output_type": "execute_result"
    }
   ],
   "source": [
    "output_index"
   ]
  },
  {
   "cell_type": "markdown",
   "metadata": {},
   "source": [
    "# Resnet"
   ]
  },
  {
   "cell_type": "code",
   "execution_count": 83,
   "metadata": {},
   "outputs": [],
   "source": [
    "def resnet( num_class,epochs=20,frozen=15,lr=0.001,patience=2, dropout_rate=0.5,verbose=0,  savepath='./resnet.h5',history=history_Resnet,input_shape=INPUT_SIZE):\n",
    "    model_fine_tune = ResNet50(include_top=False, weights='imagenet', input_shape=input_shape)\n",
    "    for layer in model_fine_tune.layers[:frozen]:\t#the number of frozen layers for transfer learning, have tuned from 50-150\n",
    "        layer.trainable = False\n",
    "    for layer in model_fine_tune.layers[frozen:]:\t#the number of trainable layers for transfer learning\n",
    "        layer.trainable = True\n",
    "    model = GlobalAveragePooling2D()(model_fine_tune.output)\n",
    "    model=Dense(units=256,activation='relu')(model)\n",
    "    model=Dropout(dropout_rate)(model)\n",
    "    model = Dense(num_class, activation='softmax')(model)\n",
    "    model = Model(model_fine_tune.input, model, name='resnet')\n",
    "    opt = keras.optimizers.Adam(lr=lr, beta_1=0.9, beta_2=0.999, epsilon=1e-08)\t#tuned learning rate to be 0.001\n",
    "    model.compile(loss='categorical_crossentropy', optimizer=opt, metrics=['accuracy']) #set the loss function to be binary crossentropy\n",
    "    #train model\n",
    "    earlyStopping = kcallbacks.EarlyStopping(\n",
    "        monitor='val_accuracy', patience=patience, verbose=verbose, mode='auto')\t#set early stop patience to save training time\n",
    "    saveBestModel = kcallbacks.ModelCheckpoint(\n",
    "        filepath=savepath,\n",
    "        monitor='val_accuracy',\n",
    "        verbose=verbose,\n",
    "        save_best_only=True,\n",
    "        mode='auto')\n",
    "    hist = model.fit(\n",
    "        train_generator,\n",
    "        steps_per_epoch=len(train_generator),\n",
    "        epochs=epochs,\n",
    "        validation_data=validation_generator,\n",
    "        validation_steps=len(validation_generator),\n",
    "        #use_multiprocessing=True, \n",
    "        callbacks=[earlyStopping, saveBestModel, history],\n",
    "        verbose=verbose\n",
    "    )"
   ]
  },
  {
   "cell_type": "code",
   "execution_count": 84,
   "metadata": {},
   "outputs": [],
   "source": [
    "def prediction(resnet_model):\n",
    "#read images from validation folder\n",
    "    rootdir = './test_224/'\n",
    "    test_laels = []\n",
    "    test_images=[]\n",
    "    for subdir, dirs, files in os.walk(rootdir):\n",
    "        for file in files:\n",
    "            if not (file.endswith(\".jpeg\"))|(file.endswith(\".jpg\"))|(file.endswith(\".png\")):\n",
    "                continue\n",
    "            test_laels.append(subdir.split('/')[-1])\n",
    "            test_images.append(os.path.join(subdir, file))\n",
    "\n",
    "    predict=[]\n",
    "    length=len(test_images)\n",
    "    label=validation_generator.class_indices\n",
    "    label={v: k for k, v in label.items()}\n",
    "    for i in range(length):\n",
    "        inputimg=test_images[i]\n",
    "        test_batch=[]\n",
    "        thisimg=np.array(Image.open(inputimg))/255 #read all the images in validation set\n",
    "        #print(thisimg)\n",
    "        test_shape=(1,)+thisimg.shape\n",
    "        thisimg=thisimg.reshape(test_shape)\n",
    "        resnet_model_batch=resnet_model.predict(thisimg) #use master model to process the input image\n",
    "        #generate result by model 1\n",
    "        #\n",
    "        prob=resnet_model_batch[0,np.argmax(resnet_model_batch,axis=1)[0]]\n",
    "        res=label[np.argmax(resnet_model_batch,axis=1)[0]]\n",
    "        predict.append(res)\n",
    "    acc=accuracy_score(test_laels,predict)\n",
    "    return acc\n",
    "\n",
    "\n",
    "\n"
   ]
  },
  {
   "cell_type": "code",
   "execution_count": 85,
   "metadata": {},
   "outputs": [],
   "source": [
    "#define the objective function to be optimized\n",
    "import time\n",
    "from hyperopt import hp, fmin, tpe, rand, STATUS_OK, Trials\n",
    "import matplotlib.pyplot as plt\n",
    "import statistics \n",
    "\n",
    "def objective(params):\n",
    "    \n",
    "    params = {\n",
    "        'frozen': int(params['frozen']),\n",
    "        'epochs': int(params['epochs']),\n",
    "        'patience': int(params['patience']),\n",
    "        'lr': abs(float(params['lr'])),\n",
    "        'dropout_rate': abs(float(params['dropout_rate'])),\n",
    "    }\n",
    "    frozen=params['frozen']\n",
    "    epochs=params['epochs']\n",
    "    patience=params['patience']\n",
    "    lr=params['lr']\n",
    "    dropout_rate=params['dropout_rate']\n",
    "    \n",
    "    #\n",
    "    resnet(num_class=5, frozen=frozen,epochs=epochs,patience=patience, lr=lr, dropout_rate=dropout_rate)\n",
    "    #\n",
    "    acc=prediction(resnet_model=load_model('./resnet.h5'))\n",
    "\n",
    "    print('accuracy:%s'%acc)\n",
    "    return {'loss': -acc, 'status': STATUS_OK }"
   ]
  },
  {
   "cell_type": "code",
   "execution_count": 86,
   "metadata": {},
   "outputs": [
    {
     "name": "stdout",
     "output_type": "stream",
     "text": [
      "  0%|          | 0/10 [00:00<?, ?trial/s, best loss=?]"
     ]
    },
    {
     "name": "stderr",
     "output_type": "stream",
     "text": [
      "/root/miniconda3/lib/python3.8/site-packages/tensorflow/python/keras/optimizer_v2/optimizer_v2.py:374: UserWarning: The `lr` argument is deprecated, use `learning_rate` instead.\n",
      "  warnings.warn(\n",
      "\n",
      "/root/miniconda3/lib/python3.8/site-packages/tensorflow/python/keras/utils/generic_utils.py:494: CustomMaskWarning: Custom mask layers require a config and must override get_config. When loading, the custom mask layer must be passed to the custom_objects argument.\n",
      "  warnings.warn('Custom mask layers require a config and must override '\n",
      "\n",
      "/tmp/ipykernel_326/422981087.py:40: FutureWarning: The frame.append method is deprecated and will be removed from pandas in a future version. Use pandas.concat instead.\n",
      "  output_df=output_df.append(result_dict,ignore_index=True)\n",
      "\n"
     ]
    },
    {
     "name": "stdout",
     "output_type": "stream",
     "text": [
      "accuracy:0.7876447876447876                           \n",
      " 10%|█         | 1/10 [02:00<18:06, 120.71s/trial, best loss: -0.7876447876447876]"
     ]
    },
    {
     "name": "stderr",
     "output_type": "stream",
     "text": [
      "/root/miniconda3/lib/python3.8/site-packages/tensorflow/python/keras/optimizer_v2/optimizer_v2.py:374: UserWarning: The `lr` argument is deprecated, use `learning_rate` instead.\n",
      "  warnings.warn(\n",
      "\n",
      "/root/miniconda3/lib/python3.8/site-packages/tensorflow/python/keras/utils/generic_utils.py:494: CustomMaskWarning: Custom mask layers require a config and must override get_config. When loading, the custom mask layer must be passed to the custom_objects argument.\n",
      "  warnings.warn('Custom mask layers require a config and must override '\n",
      "\n",
      "/tmp/ipykernel_326/422981087.py:40: FutureWarning: The frame.append method is deprecated and will be removed from pandas in a future version. Use pandas.concat instead.\n",
      "  output_df=output_df.append(result_dict,ignore_index=True)\n",
      "\n"
     ]
    },
    {
     "name": "stdout",
     "output_type": "stream",
     "text": [
      "accuracy:0.9478764478764479                                                       \n",
      " 20%|██        | 2/10 [05:42<24:00, 180.02s/trial, best loss: -0.9478764478764479]"
     ]
    },
    {
     "name": "stderr",
     "output_type": "stream",
     "text": [
      "/root/miniconda3/lib/python3.8/site-packages/tensorflow/python/keras/optimizer_v2/optimizer_v2.py:374: UserWarning: The `lr` argument is deprecated, use `learning_rate` instead.\n",
      "  warnings.warn(\n",
      "\n",
      "/root/miniconda3/lib/python3.8/site-packages/tensorflow/python/keras/utils/generic_utils.py:494: CustomMaskWarning: Custom mask layers require a config and must override get_config. When loading, the custom mask layer must be passed to the custom_objects argument.\n",
      "  warnings.warn('Custom mask layers require a config and must override '\n",
      "\n",
      "/tmp/ipykernel_326/422981087.py:40: FutureWarning: The frame.append method is deprecated and will be removed from pandas in a future version. Use pandas.concat instead.\n",
      "  output_df=output_df.append(result_dict,ignore_index=True)\n",
      "\n"
     ]
    },
    {
     "name": "stdout",
     "output_type": "stream",
     "text": [
      "accuracy:0.6833976833976834                                                       \n",
      " 30%|███       | 3/10 [07:25<16:53, 144.76s/trial, best loss: -0.9478764478764479]"
     ]
    },
    {
     "name": "stderr",
     "output_type": "stream",
     "text": [
      "/root/miniconda3/lib/python3.8/site-packages/tensorflow/python/keras/optimizer_v2/optimizer_v2.py:374: UserWarning: The `lr` argument is deprecated, use `learning_rate` instead.\n",
      "  warnings.warn(\n",
      "\n",
      "/root/miniconda3/lib/python3.8/site-packages/tensorflow/python/keras/utils/generic_utils.py:494: CustomMaskWarning: Custom mask layers require a config and must override get_config. When loading, the custom mask layer must be passed to the custom_objects argument.\n",
      "  warnings.warn('Custom mask layers require a config and must override '\n",
      "\n",
      "/tmp/ipykernel_326/422981087.py:40: FutureWarning: The frame.append method is deprecated and will be removed from pandas in a future version. Use pandas.concat instead.\n",
      "  output_df=output_df.append(result_dict,ignore_index=True)\n",
      "\n"
     ]
    },
    {
     "name": "stdout",
     "output_type": "stream",
     "text": [
      "accuracy:0.10424710424710425                                                      \n",
      " 40%|████      | 4/10 [09:27<13:35, 135.85s/trial, best loss: -0.9478764478764479]"
     ]
    },
    {
     "name": "stderr",
     "output_type": "stream",
     "text": [
      "/root/miniconda3/lib/python3.8/site-packages/tensorflow/python/keras/optimizer_v2/optimizer_v2.py:374: UserWarning: The `lr` argument is deprecated, use `learning_rate` instead.\n",
      "  warnings.warn(\n",
      "\n",
      "/root/miniconda3/lib/python3.8/site-packages/tensorflow/python/keras/utils/generic_utils.py:494: CustomMaskWarning: Custom mask layers require a config and must override get_config. When loading, the custom mask layer must be passed to the custom_objects argument.\n",
      "  warnings.warn('Custom mask layers require a config and must override '\n",
      "\n",
      "/tmp/ipykernel_326/422981087.py:40: FutureWarning: The frame.append method is deprecated and will be removed from pandas in a future version. Use pandas.concat instead.\n",
      "  output_df=output_df.append(result_dict,ignore_index=True)\n",
      "\n"
     ]
    },
    {
     "name": "stdout",
     "output_type": "stream",
     "text": [
      "accuracy:0.10038610038610038                                                      \n",
      " 50%|█████     | 5/10 [11:10<10:20, 124.01s/trial, best loss: -0.9478764478764479]"
     ]
    },
    {
     "name": "stderr",
     "output_type": "stream",
     "text": [
      "/root/miniconda3/lib/python3.8/site-packages/tensorflow/python/keras/optimizer_v2/optimizer_v2.py:374: UserWarning: The `lr` argument is deprecated, use `learning_rate` instead.\n",
      "  warnings.warn(\n",
      "\n",
      "/root/miniconda3/lib/python3.8/site-packages/tensorflow/python/keras/utils/generic_utils.py:494: CustomMaskWarning: Custom mask layers require a config and must override get_config. When loading, the custom mask layer must be passed to the custom_objects argument.\n",
      "  warnings.warn('Custom mask layers require a config and must override '\n",
      "\n",
      "/tmp/ipykernel_326/422981087.py:40: FutureWarning: The frame.append method is deprecated and will be removed from pandas in a future version. Use pandas.concat instead.\n",
      "  output_df=output_df.append(result_dict,ignore_index=True)\n",
      "\n"
     ]
    },
    {
     "name": "stdout",
     "output_type": "stream",
     "text": [
      "accuracy:0.888030888030888                                                        \n",
      " 60%|██████    | 6/10 [15:07<10:50, 162.64s/trial, best loss: -0.9478764478764479]"
     ]
    },
    {
     "name": "stderr",
     "output_type": "stream",
     "text": [
      "/root/miniconda3/lib/python3.8/site-packages/tensorflow/python/keras/optimizer_v2/optimizer_v2.py:374: UserWarning: The `lr` argument is deprecated, use `learning_rate` instead.\n",
      "  warnings.warn(\n",
      "\n",
      "/root/miniconda3/lib/python3.8/site-packages/tensorflow/python/keras/utils/generic_utils.py:494: CustomMaskWarning: Custom mask layers require a config and must override get_config. When loading, the custom mask layer must be passed to the custom_objects argument.\n",
      "  warnings.warn('Custom mask layers require a config and must override '\n",
      "\n",
      "/tmp/ipykernel_326/422981087.py:40: FutureWarning: The frame.append method is deprecated and will be removed from pandas in a future version. Use pandas.concat instead.\n",
      "  output_df=output_df.append(result_dict,ignore_index=True)\n",
      "\n"
     ]
    },
    {
     "name": "stdout",
     "output_type": "stream",
     "text": [
      "accuracy:0.7876447876447876                                                       \n",
      " 70%|███████   | 7/10 [17:11<07:29, 149.72s/trial, best loss: -0.9478764478764479]"
     ]
    },
    {
     "name": "stderr",
     "output_type": "stream",
     "text": [
      "/root/miniconda3/lib/python3.8/site-packages/tensorflow/python/keras/optimizer_v2/optimizer_v2.py:374: UserWarning: The `lr` argument is deprecated, use `learning_rate` instead.\n",
      "  warnings.warn(\n",
      "\n",
      "/root/miniconda3/lib/python3.8/site-packages/tensorflow/python/keras/utils/generic_utils.py:494: CustomMaskWarning: Custom mask layers require a config and must override get_config. When loading, the custom mask layer must be passed to the custom_objects argument.\n",
      "  warnings.warn('Custom mask layers require a config and must override '\n",
      "\n",
      "/tmp/ipykernel_326/422981087.py:40: FutureWarning: The frame.append method is deprecated and will be removed from pandas in a future version. Use pandas.concat instead.\n",
      "  output_df=output_df.append(result_dict,ignore_index=True)\n",
      "\n"
     ]
    },
    {
     "name": "stdout",
     "output_type": "stream",
     "text": [
      "accuracy:0.8455598455598455                                                       \n",
      " 80%|████████  | 8/10 [19:49<05:05, 152.64s/trial, best loss: -0.9478764478764479]"
     ]
    },
    {
     "name": "stderr",
     "output_type": "stream",
     "text": [
      "/root/miniconda3/lib/python3.8/site-packages/tensorflow/python/keras/optimizer_v2/optimizer_v2.py:374: UserWarning: The `lr` argument is deprecated, use `learning_rate` instead.\n",
      "  warnings.warn(\n",
      "\n",
      "/root/miniconda3/lib/python3.8/site-packages/tensorflow/python/keras/utils/generic_utils.py:494: CustomMaskWarning: Custom mask layers require a config and must override get_config. When loading, the custom mask layer must be passed to the custom_objects argument.\n",
      "  warnings.warn('Custom mask layers require a config and must override '\n",
      "\n",
      "/tmp/ipykernel_326/422981087.py:40: FutureWarning: The frame.append method is deprecated and will be removed from pandas in a future version. Use pandas.concat instead.\n",
      "  output_df=output_df.append(result_dict,ignore_index=True)\n",
      "\n"
     ]
    },
    {
     "name": "stdout",
     "output_type": "stream",
     "text": [
      "accuracy:0.7818532818532818                                                       \n",
      " 90%|█████████ | 9/10 [22:51<02:41, 161.83s/trial, best loss: -0.9478764478764479]"
     ]
    },
    {
     "name": "stderr",
     "output_type": "stream",
     "text": [
      "/root/miniconda3/lib/python3.8/site-packages/tensorflow/python/keras/optimizer_v2/optimizer_v2.py:374: UserWarning: The `lr` argument is deprecated, use `learning_rate` instead.\n",
      "  warnings.warn(\n",
      "\n",
      "/root/miniconda3/lib/python3.8/site-packages/tensorflow/python/keras/utils/generic_utils.py:494: CustomMaskWarning: Custom mask layers require a config and must override get_config. When loading, the custom mask layer must be passed to the custom_objects argument.\n",
      "  warnings.warn('Custom mask layers require a config and must override '\n",
      "\n",
      "/tmp/ipykernel_326/422981087.py:40: FutureWarning: The frame.append method is deprecated and will be removed from pandas in a future version. Use pandas.concat instead.\n",
      "  output_df=output_df.append(result_dict,ignore_index=True)\n",
      "\n"
     ]
    },
    {
     "name": "stdout",
     "output_type": "stream",
     "text": [
      "accuracy:0.10424710424710425                                                      \n",
      "100%|██████████| 10/10 [25:11<00:00, 151.19s/trial, best loss: -0.9478764478764479]\n",
      "Hyperopt estimated optimum {'dropout_rate': 0.6000000000000001, 'epochs': 10.0, 'frozen': 15.0, 'lr': 0.005, 'patience': 3.0}\n"
     ]
    }
   ],
   "source": [
    "    #Hyperparameter optimization by Bayesian optimization - Tree Parzen Estimator\n",
    "space = {\n",
    "    'frozen': hp.quniform('frozen', 15, 18, 1),\n",
    "    'epochs': hp.quniform('epochs', 5, 21, 5),\n",
    "    'patience': hp.quniform('patience', 2, 4, 1),\n",
    "    'lr': hp.quniform('lr', 0.001, 0.006, 0.001),\n",
    "    'dropout_rate': hp.quniform('dropout_rate', 0.3, 0.6, 0.1),\n",
    "}\n",
    "\n",
    "t1=time.time()\n",
    "best = fmin(fn=objective,\n",
    "            space=space,\n",
    "            algo=tpe.suggest,\n",
    "            max_evals=10)\n",
    "print(\"Hyperopt estimated optimum {}\".format(best))\n",
    "t2=time.time()"
   ]
  },
  {
   "cell_type": "code",
   "execution_count": 87,
   "metadata": {},
   "outputs": [
    {
     "name": "stderr",
     "output_type": "stream",
     "text": [
      "/root/miniconda3/lib/python3.8/site-packages/tensorflow/python/keras/optimizer_v2/optimizer_v2.py:374: UserWarning: The `lr` argument is deprecated, use `learning_rate` instead.\n",
      "  warnings.warn(\n"
     ]
    },
    {
     "name": "stdout",
     "output_type": "stream",
     "text": [
      "Epoch 1/10\n",
      "17/17 [==============================] - 24s 1s/step - loss: 0.5453 - accuracy: 0.8276 - val_loss: 6.8200 - val_accuracy: 0.6834\n",
      "\n",
      "Epoch 00001: val_accuracy improved from -inf to 0.68340, saving model to ./resnet.h5\n"
     ]
    },
    {
     "name": "stderr",
     "output_type": "stream",
     "text": [
      "/root/miniconda3/lib/python3.8/site-packages/tensorflow/python/keras/utils/generic_utils.py:494: CustomMaskWarning: Custom mask layers require a config and must override get_config. When loading, the custom mask layer must be passed to the custom_objects argument.\n",
      "  warnings.warn('Custom mask layers require a config and must override '\n"
     ]
    },
    {
     "name": "stdout",
     "output_type": "stream",
     "text": [
      "Epoch 2/10\n",
      "17/17 [==============================] - 19s 1s/step - loss: 0.1328 - accuracy: 0.9422 - val_loss: 12.7873 - val_accuracy: 0.7162\n",
      "\n",
      "Epoch 00002: val_accuracy improved from 0.68340 to 0.71622, saving model to ./resnet.h5\n",
      "Epoch 3/10\n",
      "17/17 [==============================] - 19s 1s/step - loss: 0.0661 - accuracy: 0.9807 - val_loss: 276.2966 - val_accuracy: 0.2046\n",
      "\n",
      "Epoch 00003: val_accuracy did not improve from 0.71622\n",
      "Epoch 4/10\n",
      "17/17 [==============================] - 16s 940ms/step - loss: 0.0313 - accuracy: 0.9913 - val_loss: 1089.2363 - val_accuracy: 0.1004\n",
      "\n",
      "Epoch 00004: val_accuracy did not improve from 0.71622\n",
      "Epoch 5/10\n",
      "17/17 [==============================] - 18s 1s/step - loss: 0.0136 - accuracy: 0.9971 - val_loss: 537.2593 - val_accuracy: 0.1004\n",
      "\n",
      "Epoch 00005: val_accuracy did not improve from 0.71622\n",
      "Epoch 00005: early stopping\n"
     ]
    },
    {
     "name": "stderr",
     "output_type": "stream",
     "text": [
      "/tmp/ipykernel_326/422981087.py:40: FutureWarning: The frame.append method is deprecated and will be removed from pandas in a future version. Use pandas.concat instead.\n",
      "  output_df=output_df.append(result_dict,ignore_index=True)\n"
     ]
    }
   ],
   "source": [
    "params=get_params(format(best))\n",
    "index=clear_output_df(index)\n",
    "\n",
    "temptime=t2-t1\n",
    "time_opt.append(temptime)\n",
    "opt_type.append(\"BO-TPE\")\n",
    "\n",
    "t1=time.time()\n",
    "resnet(**params)\n",
    "t2=time.time()\n",
    "\n",
    "temptime=t2-t1\n",
    "timelist.append(temptime)"
   ]
  },
  {
   "cell_type": "code",
   "execution_count": 88,
   "metadata": {},
   "outputs": [
    {
     "name": "stdout",
     "output_type": "stream",
     "text": [
      "{\"code\":\"Success\",\"data\":null,\"msg\":\"\"}\n"
     ]
    }
   ],
   "source": [
    "resp = requests.post(\"https://www.autodl.com/api/v1/wechat/message/push\",\n",
    "                     json={\n",
    "                         \"token\": \"444db7f1cca1\",\n",
    "                         \"title\": \"resnet BO-TPE\",\n",
    "                         \"name\": \"Omar Project\"\n",
    "                     })\n",
    "print(resp.content.decode())"
   ]
  },
  {
   "cell_type": "code",
   "execution_count": 89,
   "metadata": {},
   "outputs": [
    {
     "name": "stdout",
     "output_type": "stream",
     "text": [
      "  0%|          | 0/10 [00:00<?, ?trial/s, best loss=?]"
     ]
    },
    {
     "name": "stderr",
     "output_type": "stream",
     "text": [
      "/root/miniconda3/lib/python3.8/site-packages/tensorflow/python/keras/optimizer_v2/optimizer_v2.py:374: UserWarning: The `lr` argument is deprecated, use `learning_rate` instead.\n",
      "  warnings.warn(\n",
      "\n",
      "/root/miniconda3/lib/python3.8/site-packages/tensorflow/python/keras/utils/generic_utils.py:494: CustomMaskWarning: Custom mask layers require a config and must override get_config. When loading, the custom mask layer must be passed to the custom_objects argument.\n",
      "  warnings.warn('Custom mask layers require a config and must override '\n",
      "\n",
      "/tmp/ipykernel_326/422981087.py:40: FutureWarning: The frame.append method is deprecated and will be removed from pandas in a future version. Use pandas.concat instead.\n",
      "  output_df=output_df.append(result_dict,ignore_index=True)\n",
      "\n"
     ]
    },
    {
     "name": "stdout",
     "output_type": "stream",
     "text": [
      "accuracy:0.10424710424710425                          \n",
      " 10%|█         | 1/10 [02:22<21:24, 142.75s/trial, best loss: -0.10424710424710425]"
     ]
    },
    {
     "name": "stderr",
     "output_type": "stream",
     "text": [
      "/root/miniconda3/lib/python3.8/site-packages/tensorflow/python/keras/optimizer_v2/optimizer_v2.py:374: UserWarning: The `lr` argument is deprecated, use `learning_rate` instead.\n",
      "  warnings.warn(\n",
      "\n",
      "/root/miniconda3/lib/python3.8/site-packages/tensorflow/python/keras/utils/generic_utils.py:494: CustomMaskWarning: Custom mask layers require a config and must override get_config. When loading, the custom mask layer must be passed to the custom_objects argument.\n",
      "  warnings.warn('Custom mask layers require a config and must override '\n",
      "\n",
      "/tmp/ipykernel_326/422981087.py:40: FutureWarning: The frame.append method is deprecated and will be removed from pandas in a future version. Use pandas.concat instead.\n",
      "  output_df=output_df.append(result_dict,ignore_index=True)\n",
      "\n"
     ]
    },
    {
     "name": "stdout",
     "output_type": "stream",
     "text": [
      "accuracy:0.20463320463320464                                                       \n",
      " 20%|██        | 2/10 [05:01<20:16, 152.08s/trial, best loss: -0.20463320463320464]"
     ]
    },
    {
     "name": "stderr",
     "output_type": "stream",
     "text": [
      "/root/miniconda3/lib/python3.8/site-packages/tensorflow/python/keras/optimizer_v2/optimizer_v2.py:374: UserWarning: The `lr` argument is deprecated, use `learning_rate` instead.\n",
      "  warnings.warn(\n",
      "\n",
      "/root/miniconda3/lib/python3.8/site-packages/tensorflow/python/keras/utils/generic_utils.py:494: CustomMaskWarning: Custom mask layers require a config and must override get_config. When loading, the custom mask layer must be passed to the custom_objects argument.\n",
      "  warnings.warn('Custom mask layers require a config and must override '\n",
      "\n",
      "/tmp/ipykernel_326/422981087.py:40: FutureWarning: The frame.append method is deprecated and will be removed from pandas in a future version. Use pandas.concat instead.\n",
      "  output_df=output_df.append(result_dict,ignore_index=True)\n",
      "\n"
     ]
    },
    {
     "name": "stdout",
     "output_type": "stream",
     "text": [
      "accuracy:0.10424710424710425                                                       \n",
      " 30%|███       | 3/10 [07:07<16:20, 140.05s/trial, best loss: -0.20463320463320464]"
     ]
    },
    {
     "name": "stderr",
     "output_type": "stream",
     "text": [
      "/root/miniconda3/lib/python3.8/site-packages/tensorflow/python/keras/optimizer_v2/optimizer_v2.py:374: UserWarning: The `lr` argument is deprecated, use `learning_rate` instead.\n",
      "  warnings.warn(\n",
      "\n",
      "/root/miniconda3/lib/python3.8/site-packages/tensorflow/python/keras/utils/generic_utils.py:494: CustomMaskWarning: Custom mask layers require a config and must override get_config. When loading, the custom mask layer must be passed to the custom_objects argument.\n",
      "  warnings.warn('Custom mask layers require a config and must override '\n",
      "\n",
      "/tmp/ipykernel_326/422981087.py:40: FutureWarning: The frame.append method is deprecated and will be removed from pandas in a future version. Use pandas.concat instead.\n",
      "  output_df=output_df.append(result_dict,ignore_index=True)\n",
      "\n"
     ]
    },
    {
     "name": "stdout",
     "output_type": "stream",
     "text": [
      "accuracy:0.10424710424710425                                                       \n",
      " 40%|████      | 4/10 [09:12<13:25, 134.33s/trial, best loss: -0.20463320463320464]"
     ]
    },
    {
     "name": "stderr",
     "output_type": "stream",
     "text": [
      "/root/miniconda3/lib/python3.8/site-packages/tensorflow/python/keras/optimizer_v2/optimizer_v2.py:374: UserWarning: The `lr` argument is deprecated, use `learning_rate` instead.\n",
      "  warnings.warn(\n",
      "\n",
      "/root/miniconda3/lib/python3.8/site-packages/tensorflow/python/keras/utils/generic_utils.py:494: CustomMaskWarning: Custom mask layers require a config and must override get_config. When loading, the custom mask layer must be passed to the custom_objects argument.\n",
      "  warnings.warn('Custom mask layers require a config and must override '\n",
      "\n",
      "/tmp/ipykernel_326/422981087.py:40: FutureWarning: The frame.append method is deprecated and will be removed from pandas in a future version. Use pandas.concat instead.\n",
      "  output_df=output_df.append(result_dict,ignore_index=True)\n",
      "\n"
     ]
    },
    {
     "name": "stdout",
     "output_type": "stream",
     "text": [
      "accuracy:0.20463320463320464                                                       \n",
      " 50%|█████     | 5/10 [11:34<11:25, 137.15s/trial, best loss: -0.20463320463320464]"
     ]
    },
    {
     "name": "stderr",
     "output_type": "stream",
     "text": [
      "/root/miniconda3/lib/python3.8/site-packages/tensorflow/python/keras/optimizer_v2/optimizer_v2.py:374: UserWarning: The `lr` argument is deprecated, use `learning_rate` instead.\n",
      "  warnings.warn(\n",
      "\n",
      "/root/miniconda3/lib/python3.8/site-packages/tensorflow/python/keras/utils/generic_utils.py:494: CustomMaskWarning: Custom mask layers require a config and must override get_config. When loading, the custom mask layer must be passed to the custom_objects argument.\n",
      "  warnings.warn('Custom mask layers require a config and must override '\n",
      "\n",
      "/tmp/ipykernel_326/422981087.py:40: FutureWarning: The frame.append method is deprecated and will be removed from pandas in a future version. Use pandas.concat instead.\n",
      "  output_df=output_df.append(result_dict,ignore_index=True)\n",
      "\n"
     ]
    },
    {
     "name": "stdout",
     "output_type": "stream",
     "text": [
      "accuracy:0.7857142857142857                                                        \n",
      " 60%|██████    | 6/10 [13:57<09:15, 138.97s/trial, best loss: -0.7857142857142857] "
     ]
    },
    {
     "name": "stderr",
     "output_type": "stream",
     "text": [
      "/root/miniconda3/lib/python3.8/site-packages/tensorflow/python/keras/optimizer_v2/optimizer_v2.py:374: UserWarning: The `lr` argument is deprecated, use `learning_rate` instead.\n",
      "  warnings.warn(\n",
      "\n",
      "/root/miniconda3/lib/python3.8/site-packages/tensorflow/python/keras/utils/generic_utils.py:494: CustomMaskWarning: Custom mask layers require a config and must override get_config. When loading, the custom mask layer must be passed to the custom_objects argument.\n",
      "  warnings.warn('Custom mask layers require a config and must override '\n",
      "\n",
      "/tmp/ipykernel_326/422981087.py:40: FutureWarning: The frame.append method is deprecated and will be removed from pandas in a future version. Use pandas.concat instead.\n",
      "  output_df=output_df.append(result_dict,ignore_index=True)\n",
      "\n"
     ]
    },
    {
     "name": "stdout",
     "output_type": "stream",
     "text": [
      "accuracy:0.20463320463320464                                                      \n",
      " 70%|███████   | 7/10 [16:39<07:19, 146.64s/trial, best loss: -0.7857142857142857]"
     ]
    },
    {
     "name": "stderr",
     "output_type": "stream",
     "text": [
      "/root/miniconda3/lib/python3.8/site-packages/tensorflow/python/keras/optimizer_v2/optimizer_v2.py:374: UserWarning: The `lr` argument is deprecated, use `learning_rate` instead.\n",
      "  warnings.warn(\n",
      "\n",
      "/root/miniconda3/lib/python3.8/site-packages/tensorflow/python/keras/utils/generic_utils.py:494: CustomMaskWarning: Custom mask layers require a config and must override get_config. When loading, the custom mask layer must be passed to the custom_objects argument.\n",
      "  warnings.warn('Custom mask layers require a config and must override '\n",
      "\n",
      "/tmp/ipykernel_326/422981087.py:40: FutureWarning: The frame.append method is deprecated and will be removed from pandas in a future version. Use pandas.concat instead.\n",
      "  output_df=output_df.append(result_dict,ignore_index=True)\n",
      "\n"
     ]
    },
    {
     "name": "stdout",
     "output_type": "stream",
     "text": [
      "accuracy:0.10424710424710425                                                      \n",
      " 80%|████████  | 8/10 [19:03<04:51, 145.78s/trial, best loss: -0.7857142857142857]"
     ]
    },
    {
     "name": "stderr",
     "output_type": "stream",
     "text": [
      "/root/miniconda3/lib/python3.8/site-packages/tensorflow/python/keras/optimizer_v2/optimizer_v2.py:374: UserWarning: The `lr` argument is deprecated, use `learning_rate` instead.\n",
      "  warnings.warn(\n",
      "\n",
      "/root/miniconda3/lib/python3.8/site-packages/tensorflow/python/keras/utils/generic_utils.py:494: CustomMaskWarning: Custom mask layers require a config and must override get_config. When loading, the custom mask layer must be passed to the custom_objects argument.\n",
      "  warnings.warn('Custom mask layers require a config and must override '\n",
      "\n",
      "/tmp/ipykernel_326/422981087.py:40: FutureWarning: The frame.append method is deprecated and will be removed from pandas in a future version. Use pandas.concat instead.\n",
      "  output_df=output_df.append(result_dict,ignore_index=True)\n",
      "\n"
     ]
    },
    {
     "name": "stdout",
     "output_type": "stream",
     "text": [
      "accuracy:0.8687258687258688                                                       \n",
      " 90%|█████████ | 9/10 [21:28<02:25, 145.44s/trial, best loss: -0.8687258687258688]"
     ]
    },
    {
     "name": "stderr",
     "output_type": "stream",
     "text": [
      "/root/miniconda3/lib/python3.8/site-packages/tensorflow/python/keras/optimizer_v2/optimizer_v2.py:374: UserWarning: The `lr` argument is deprecated, use `learning_rate` instead.\n",
      "  warnings.warn(\n",
      "\n",
      "/root/miniconda3/lib/python3.8/site-packages/tensorflow/python/keras/utils/generic_utils.py:494: CustomMaskWarning: Custom mask layers require a config and must override get_config. When loading, the custom mask layer must be passed to the custom_objects argument.\n",
      "  warnings.warn('Custom mask layers require a config and must override '\n",
      "\n",
      "/tmp/ipykernel_326/422981087.py:40: FutureWarning: The frame.append method is deprecated and will be removed from pandas in a future version. Use pandas.concat instead.\n",
      "  output_df=output_df.append(result_dict,ignore_index=True)\n",
      "\n"
     ]
    },
    {
     "name": "stdout",
     "output_type": "stream",
     "text": [
      "accuracy:0.7876447876447876                                                       \n",
      "100%|██████████| 10/10 [24:09<00:00, 144.97s/trial, best loss: -0.8687258687258688]\n",
      "Hyperopt estimated optimum {'dropout_rate': 0.5, 'epochs': 20.0, 'frozen': 16.0, 'lr': 0.005, 'patience': 3.0}\n"
     ]
    }
   ],
   "source": [
    "#Hyperparameter optimization by Random search\n",
    "space = {\n",
    "    'frozen': hp.quniform('frozen', 15, 18, 1),\n",
    "    'epochs': hp.quniform('epochs', 5, 21, 5),\n",
    "    'patience': hp.quniform('patience', 2, 4, 1),\n",
    "    'lr': hp.quniform('lr', 0.001, 0.006, 0.001),\n",
    "    'dropout_rate': hp.quniform('dropout_rate', 0.3, 0.6, 0.1),\n",
    "}\n",
    "\n",
    "t1=time.time()\n",
    "best = fmin(fn=objective,\n",
    "            space=space,\n",
    "            algo=rand.suggest,\n",
    "            max_evals=10)\n",
    "print(\"Hyperopt estimated optimum {}\".format(best))\n",
    "t2=time.time()\n",
    "###"
   ]
  },
  {
   "cell_type": "code",
   "execution_count": 90,
   "metadata": {},
   "outputs": [
    {
     "name": "stderr",
     "output_type": "stream",
     "text": [
      "/root/miniconda3/lib/python3.8/site-packages/tensorflow/python/keras/optimizer_v2/optimizer_v2.py:374: UserWarning: The `lr` argument is deprecated, use `learning_rate` instead.\n",
      "  warnings.warn(\n"
     ]
    },
    {
     "name": "stdout",
     "output_type": "stream",
     "text": [
      "Epoch 1/20\n",
      "17/17 [==============================] - 23s 1s/step - loss: 0.6197 - accuracy: 0.7991 - val_loss: 36.2834 - val_accuracy: 0.1042\n",
      "\n",
      "Epoch 00001: val_accuracy improved from -inf to 0.10425, saving model to ./resnet.h5\n"
     ]
    },
    {
     "name": "stderr",
     "output_type": "stream",
     "text": [
      "/root/miniconda3/lib/python3.8/site-packages/tensorflow/python/keras/utils/generic_utils.py:494: CustomMaskWarning: Custom mask layers require a config and must override get_config. When loading, the custom mask layer must be passed to the custom_objects argument.\n",
      "  warnings.warn('Custom mask layers require a config and must override '\n"
     ]
    },
    {
     "name": "stdout",
     "output_type": "stream",
     "text": [
      "Epoch 2/20\n",
      "17/17 [==============================] - 19s 1s/step - loss: 0.2160 - accuracy: 0.9056 - val_loss: 220.5841 - val_accuracy: 0.1042\n",
      "\n",
      "Epoch 00002: val_accuracy did not improve from 0.10425\n",
      "Epoch 3/20\n",
      "17/17 [==============================] - 19s 1s/step - loss: 0.1179 - accuracy: 0.9470 - val_loss: 113.0140 - val_accuracy: 0.2046\n",
      "\n",
      "Epoch 00003: val_accuracy improved from 0.10425 to 0.20463, saving model to ./resnet.h5\n",
      "Epoch 4/20\n",
      "17/17 [==============================] - 19s 1s/step - loss: 0.0898 - accuracy: 0.9658 - val_loss: 236.5030 - val_accuracy: 0.2046\n",
      "\n",
      "Epoch 00004: val_accuracy did not improve from 0.20463\n",
      "Epoch 5/20\n",
      "17/17 [==============================] - 18s 1s/step - loss: 0.0319 - accuracy: 0.9928 - val_loss: 33.3170 - val_accuracy: 0.1274\n",
      "\n",
      "Epoch 00005: val_accuracy did not improve from 0.20463\n",
      "Epoch 6/20\n",
      "17/17 [==============================] - 17s 996ms/step - loss: 0.0138 - accuracy: 0.9957 - val_loss: 165.7761 - val_accuracy: 0.1042\n",
      "\n",
      "Epoch 00006: val_accuracy did not improve from 0.20463\n",
      "Epoch 00006: early stopping\n"
     ]
    },
    {
     "name": "stderr",
     "output_type": "stream",
     "text": [
      "/tmp/ipykernel_326/422981087.py:40: FutureWarning: The frame.append method is deprecated and will be removed from pandas in a future version. Use pandas.concat instead.\n",
      "  output_df=output_df.append(result_dict,ignore_index=True)\n"
     ]
    }
   ],
   "source": [
    "params=get_params(format(best))\n",
    "index=clear_output_df(index)\n",
    "\n",
    "temptime=t2-t1\n",
    "time_opt.append(temptime)\n",
    "opt_type.append(\"RS\")\n",
    "\n",
    "t1=time.time()\n",
    "resnet(**params)\n",
    "t2=time.time()\n",
    "\n",
    "temptime=t2-t1\n",
    "timelist.append(temptime)"
   ]
  },
  {
   "cell_type": "code",
   "execution_count": 91,
   "metadata": {},
   "outputs": [
    {
     "name": "stdout",
     "output_type": "stream",
     "text": [
      "{\"code\":\"Success\",\"data\":null,\"msg\":\"\"}\n"
     ]
    }
   ],
   "source": [
    "resp = requests.post(\"https://www.autodl.com/api/v1/wechat/message/push\",\n",
    "                     json={\n",
    "                         \"token\": \"444db7f1cca1\",\n",
    "                         \"title\": \"resnet RS\",\n",
    "                         \"name\": \"Omar Project\"\n",
    "                     })\n",
    "print(resp.content.decode())"
   ]
  },
  {
   "cell_type": "markdown",
   "metadata": {},
   "source": [
    "# InceptionResnet"
   ]
  },
  {
   "cell_type": "code",
   "execution_count": 96,
   "metadata": {},
   "outputs": [],
   "source": [
    "def inceptionresnet( num_class,epochs=20,frozen=15,lr=0.001,patience=2, dropout_rate=0.5,verbose=0,  savepath='./inceptionresnet.h5',history=history_InceptionResnet,input_shape=INPUT_SIZE):\n",
    "    model_fine_tune = InceptionResNetV2(include_top=False, weights='imagenet', input_shape=input_shape)\n",
    "    for layer in model_fine_tune.layers[:frozen]:\t#the number of frozen layers for transfer learning, have tuned from 400-550\n",
    "        layer.trainable = False\n",
    "    for layer in model_fine_tune.layers[frozen:]:\t#the number of trainable layers for transfer learning\n",
    "        layer.trainable = True\n",
    "    model = GlobalAveragePooling2D()(model_fine_tune.output)\n",
    "    model=Dense(units=256,activation='relu')(model)\n",
    "    model=Dropout(dropout_rate)(model)\n",
    "    model = Dense(num_class, activation='softmax')(model)\n",
    "    model = Model(model_fine_tune.input, model, name='resnet')\n",
    "    opt = keras.optimizers.Adam(lr=lr, beta_1=0.9, beta_2=0.999, epsilon=1e-08)\t#tuned learning rate to be 0.001\n",
    "    model.compile(loss='categorical_crossentropy', optimizer=opt, metrics=['accuracy']) #set the loss function to be binary crossentropy\n",
    "    #train model\n",
    "    earlyStopping = kcallbacks.EarlyStopping(\n",
    "        monitor='val_accuracy', patience=patience, verbose=verbose, mode='auto')\t#set early stop patience to save training time\n",
    "    saveBestModel = kcallbacks.ModelCheckpoint(\n",
    "        filepath=savepath,\n",
    "        monitor='val_accuracy',\n",
    "        verbose=verbose,\n",
    "        save_best_only=True,\n",
    "        mode='auto')\n",
    "    hist = model.fit(\n",
    "        train_generator,\n",
    "        steps_per_epoch=len(train_generator),\n",
    "        epochs=epochs,\n",
    "        validation_data=validation_generator,\n",
    "        validation_steps=len(validation_generator),\n",
    "        #use_multiprocessing=True, \n",
    "        callbacks=[earlyStopping, saveBestModel, history],\n",
    "        verbose=verbose\n",
    "    )"
   ]
  },
  {
   "cell_type": "code",
   "execution_count": 97,
   "metadata": {},
   "outputs": [],
   "source": [
    "def prediction(inceptionresnet_model):\n",
    "#read images from validation folder\n",
    "    rootdir = './test_224/'\n",
    "    test_laels = []\n",
    "    test_images=[]\n",
    "    for subdir, dirs, files in os.walk(rootdir):\n",
    "        for file in files:\n",
    "            if not (file.endswith(\".jpeg\"))|(file.endswith(\".jpg\"))|(file.endswith(\".png\")):\n",
    "                continue\n",
    "            test_laels.append(subdir.split('/')[-1])\n",
    "            test_images.append(os.path.join(subdir, file))\n",
    "\n",
    "    predict=[]\n",
    "    length=len(test_images)\n",
    "    label=validation_generator.class_indices\n",
    "    label={v: k for k, v in label.items()}\n",
    "    for i in range(length):\n",
    "        inputimg=test_images[i]\n",
    "        test_batch=[]\n",
    "        thisimg=np.array(Image.open(inputimg))/255 #read all the images in validation set\n",
    "        #print(thisimg)\n",
    "        test_shape=(1,)+thisimg.shape\n",
    "        thisimg=thisimg.reshape(test_shape)\n",
    "        inceptionresnet_model_batch=inceptionresnet_model.predict(thisimg) #use master model to process the input image\n",
    "        #generate result by model 1\n",
    "        #\n",
    "        prob=inceptionresnet_model_batch[0,np.argmax(inceptionresnet_model_batch,axis=1)[0]]\n",
    "        res=label[np.argmax(inceptionresnet_model_batch,axis=1)[0]]\n",
    "        predict.append(res)\n",
    "    acc=accuracy_score(test_laels,predict)\n",
    "    return acc\n",
    "\n",
    "\n"
   ]
  },
  {
   "cell_type": "code",
   "execution_count": 98,
   "metadata": {},
   "outputs": [],
   "source": [
    "#define the objective function to be optimized\n",
    "import time\n",
    "from hyperopt import hp, fmin, tpe, rand, STATUS_OK, Trials\n",
    "import matplotlib.pyplot as plt\n",
    "import statistics \n",
    "\n",
    "def objective(params):\n",
    "    \n",
    "    params = {\n",
    "        'frozen': int(params['frozen']),\n",
    "        'epochs': int(params['epochs']),\n",
    "        'patience': int(params['patience']),\n",
    "        'lr': abs(float(params['lr'])),\n",
    "        'dropout_rate': abs(float(params['dropout_rate'])),\n",
    "    }\n",
    "    frozen=params['frozen']\n",
    "    epochs=params['epochs']\n",
    "    patience=params['patience']\n",
    "    lr=params['lr']\n",
    "    dropout_rate=params['dropout_rate']\n",
    "    \n",
    "    #\n",
    "    inceptionresnet(num_class=5, frozen=frozen,epochs=epochs,patience=patience, lr=lr, dropout_rate=dropout_rate)\n",
    "    #\n",
    "    acc=prediction(inceptionresnet_model=load_model('./inceptionresnet.h5'))\n",
    "\n",
    "    print('accuracy:%s'%acc)\n",
    "    return {'loss': -acc, 'status': STATUS_OK }"
   ]
  },
  {
   "cell_type": "code",
   "execution_count": 99,
   "metadata": {},
   "outputs": [
    {
     "name": "stdout",
     "output_type": "stream",
     "text": [
      "  0%|          | 0/10 [00:00<?, ?trial/s, best loss=?]"
     ]
    },
    {
     "name": "stderr",
     "output_type": "stream",
     "text": [
      "/root/miniconda3/lib/python3.8/site-packages/tensorflow/python/keras/optimizer_v2/optimizer_v2.py:374: UserWarning: The `lr` argument is deprecated, use `learning_rate` instead.\n",
      "  warnings.warn(\n",
      "\n",
      "/tmp/ipykernel_326/422981087.py:40: FutureWarning: The frame.append method is deprecated and will be removed from pandas in a future version. Use pandas.concat instead.\n",
      "  output_df=output_df.append(result_dict,ignore_index=True)\n",
      "\n"
     ]
    },
    {
     "name": "stdout",
     "output_type": "stream",
     "text": [
      "accuracy:0.6833976833976834                           \n",
      " 10%|█         | 1/10 [02:21<21:17, 141.98s/trial, best loss: -0.6833976833976834]"
     ]
    },
    {
     "name": "stderr",
     "output_type": "stream",
     "text": [
      "/root/miniconda3/lib/python3.8/site-packages/tensorflow/python/keras/optimizer_v2/optimizer_v2.py:374: UserWarning: The `lr` argument is deprecated, use `learning_rate` instead.\n",
      "  warnings.warn(\n",
      "\n",
      "/tmp/ipykernel_326/422981087.py:40: FutureWarning: The frame.append method is deprecated and will be removed from pandas in a future version. Use pandas.concat instead.\n",
      "  output_df=output_df.append(result_dict,ignore_index=True)\n",
      "\n"
     ]
    },
    {
     "name": "stdout",
     "output_type": "stream",
     "text": [
      "accuracy:0.8957528957528957                                                       \n",
      " 20%|██        | 2/10 [05:46<23:49, 178.73s/trial, best loss: -0.8957528957528957]"
     ]
    },
    {
     "name": "stderr",
     "output_type": "stream",
     "text": [
      "/root/miniconda3/lib/python3.8/site-packages/tensorflow/python/keras/optimizer_v2/optimizer_v2.py:374: UserWarning: The `lr` argument is deprecated, use `learning_rate` instead.\n",
      "  warnings.warn(\n",
      "\n",
      "/tmp/ipykernel_326/422981087.py:40: FutureWarning: The frame.append method is deprecated and will be removed from pandas in a future version. Use pandas.concat instead.\n",
      "  output_df=output_df.append(result_dict,ignore_index=True)\n",
      "\n"
     ]
    },
    {
     "name": "stdout",
     "output_type": "stream",
     "text": [
      "accuracy:0.9555984555984556                                                       \n",
      " 30%|███       | 3/10 [11:08<28:30, 244.40s/trial, best loss: -0.9555984555984556]"
     ]
    },
    {
     "name": "stderr",
     "output_type": "stream",
     "text": [
      "/root/miniconda3/lib/python3.8/site-packages/tensorflow/python/keras/optimizer_v2/optimizer_v2.py:374: UserWarning: The `lr` argument is deprecated, use `learning_rate` instead.\n",
      "  warnings.warn(\n",
      "\n",
      "/tmp/ipykernel_326/422981087.py:40: FutureWarning: The frame.append method is deprecated and will be removed from pandas in a future version. Use pandas.concat instead.\n",
      "  output_df=output_df.append(result_dict,ignore_index=True)\n",
      "\n"
     ]
    },
    {
     "name": "stdout",
     "output_type": "stream",
     "text": [
      "accuracy:0.7567567567567568                                                       \n",
      " 40%|████      | 4/10 [14:08<21:53, 218.88s/trial, best loss: -0.9555984555984556]"
     ]
    },
    {
     "name": "stderr",
     "output_type": "stream",
     "text": [
      "/root/miniconda3/lib/python3.8/site-packages/tensorflow/python/keras/optimizer_v2/optimizer_v2.py:374: UserWarning: The `lr` argument is deprecated, use `learning_rate` instead.\n",
      "  warnings.warn(\n",
      "\n",
      "/tmp/ipykernel_326/422981087.py:40: FutureWarning: The frame.append method is deprecated and will be removed from pandas in a future version. Use pandas.concat instead.\n",
      "  output_df=output_df.append(result_dict,ignore_index=True)\n",
      "\n"
     ]
    },
    {
     "name": "stdout",
     "output_type": "stream",
     "text": [
      "accuracy:0.6833976833976834                                                       \n",
      " 50%|█████     | 5/10 [16:45<16:23, 196.66s/trial, best loss: -0.9555984555984556]"
     ]
    },
    {
     "name": "stderr",
     "output_type": "stream",
     "text": [
      "/root/miniconda3/lib/python3.8/site-packages/tensorflow/python/keras/optimizer_v2/optimizer_v2.py:374: UserWarning: The `lr` argument is deprecated, use `learning_rate` instead.\n",
      "  warnings.warn(\n",
      "\n",
      "/tmp/ipykernel_326/422981087.py:40: FutureWarning: The frame.append method is deprecated and will be removed from pandas in a future version. Use pandas.concat instead.\n",
      "  output_df=output_df.append(result_dict,ignore_index=True)\n",
      "\n"
     ]
    },
    {
     "name": "stdout",
     "output_type": "stream",
     "text": [
      "accuracy:0.6833976833976834                                                       \n",
      " 60%|██████    | 6/10 [19:08<11:52, 178.11s/trial, best loss: -0.9555984555984556]"
     ]
    },
    {
     "name": "stderr",
     "output_type": "stream",
     "text": [
      "/root/miniconda3/lib/python3.8/site-packages/tensorflow/python/keras/optimizer_v2/optimizer_v2.py:374: UserWarning: The `lr` argument is deprecated, use `learning_rate` instead.\n",
      "  warnings.warn(\n",
      "\n",
      "/tmp/ipykernel_326/422981087.py:40: FutureWarning: The frame.append method is deprecated and will be removed from pandas in a future version. Use pandas.concat instead.\n",
      "  output_df=output_df.append(result_dict,ignore_index=True)\n",
      "\n"
     ]
    },
    {
     "name": "stdout",
     "output_type": "stream",
     "text": [
      "accuracy:0.8861003861003861                                                       \n",
      " 70%|███████   | 7/10 [21:46<08:35, 171.71s/trial, best loss: -0.9555984555984556]"
     ]
    },
    {
     "name": "stderr",
     "output_type": "stream",
     "text": [
      "/root/miniconda3/lib/python3.8/site-packages/tensorflow/python/keras/optimizer_v2/optimizer_v2.py:374: UserWarning: The `lr` argument is deprecated, use `learning_rate` instead.\n",
      "  warnings.warn(\n",
      "\n",
      "/tmp/ipykernel_326/422981087.py:40: FutureWarning: The frame.append method is deprecated and will be removed from pandas in a future version. Use pandas.concat instead.\n",
      "  output_df=output_df.append(result_dict,ignore_index=True)\n",
      "\n"
     ]
    },
    {
     "name": "stdout",
     "output_type": "stream",
     "text": [
      "accuracy:0.8474903474903475                                                       \n",
      " 80%|████████  | 8/10 [24:33<05:40, 170.03s/trial, best loss: -0.9555984555984556]"
     ]
    },
    {
     "name": "stderr",
     "output_type": "stream",
     "text": [
      "/root/miniconda3/lib/python3.8/site-packages/tensorflow/python/keras/optimizer_v2/optimizer_v2.py:374: UserWarning: The `lr` argument is deprecated, use `learning_rate` instead.\n",
      "  warnings.warn(\n",
      "\n",
      "/tmp/ipykernel_326/422981087.py:40: FutureWarning: The frame.append method is deprecated and will be removed from pandas in a future version. Use pandas.concat instead.\n",
      "  output_df=output_df.append(result_dict,ignore_index=True)\n",
      "\n"
     ]
    },
    {
     "name": "stdout",
     "output_type": "stream",
     "text": [
      "accuracy:0.8397683397683398                                                       \n",
      " 90%|█████████ | 9/10 [27:09<02:45, 165.75s/trial, best loss: -0.9555984555984556]"
     ]
    },
    {
     "name": "stderr",
     "output_type": "stream",
     "text": [
      "/root/miniconda3/lib/python3.8/site-packages/tensorflow/python/keras/optimizer_v2/optimizer_v2.py:374: UserWarning: The `lr` argument is deprecated, use `learning_rate` instead.\n",
      "  warnings.warn(\n",
      "\n",
      "/tmp/ipykernel_326/422981087.py:40: FutureWarning: The frame.append method is deprecated and will be removed from pandas in a future version. Use pandas.concat instead.\n",
      "  output_df=output_df.append(result_dict,ignore_index=True)\n",
      "\n"
     ]
    },
    {
     "name": "stdout",
     "output_type": "stream",
     "text": [
      "accuracy:0.9903474903474904                                                       \n",
      "100%|██████████| 10/10 [31:54<00:00, 191.43s/trial, best loss: -0.9903474903474904]\n",
      "Hyperopt estimated optimum {'dropout_rate': 0.5, 'epochs': 10.0, 'frozen': 16.0, 'lr': 0.005, 'patience': 3.0}\n"
     ]
    }
   ],
   "source": [
    "    #Hyperparameter optimization by Bayesian optimization - Tree Parzen Estimator\n",
    "space = {\n",
    "    'frozen': hp.quniform('frozen', 15, 18, 1),\n",
    "    'epochs': hp.quniform('epochs', 5, 21, 5),\n",
    "    'patience': hp.quniform('patience', 2, 4, 1),\n",
    "    'lr': hp.quniform('lr', 0.001, 0.006, 0.001),\n",
    "    'dropout_rate': hp.quniform('dropout_rate', 0.3, 0.6, 0.1),\n",
    "}\n",
    "\n",
    "t1=time.time()\n",
    "best = fmin(fn=objective,\n",
    "            space=space,\n",
    "            algo=tpe.suggest,\n",
    "            max_evals=10)\n",
    "print(\"Hyperopt estimated optimum {}\".format(best))\n",
    "t2=time.time()"
   ]
  },
  {
   "cell_type": "code",
   "execution_count": 100,
   "metadata": {},
   "outputs": [
    {
     "name": "stderr",
     "output_type": "stream",
     "text": [
      "/root/miniconda3/lib/python3.8/site-packages/tensorflow/python/keras/optimizer_v2/optimizer_v2.py:374: UserWarning: The `lr` argument is deprecated, use `learning_rate` instead.\n",
      "  warnings.warn(\n"
     ]
    },
    {
     "name": "stdout",
     "output_type": "stream",
     "text": [
      "Epoch 1/10\n",
      "17/17 [==============================] - 33s 1s/step - loss: 0.2660 - accuracy: 0.8969 - val_loss: 13.8054 - val_accuracy: 0.3842\n",
      "\n",
      "Epoch 00001: val_accuracy improved from -inf to 0.38417, saving model to ./inceptionresnet.h5\n",
      "Epoch 2/10\n",
      "17/17 [==============================] - 19s 1s/step - loss: 0.0505 - accuracy: 0.9860 - val_loss: 444.5540 - val_accuracy: 0.1004\n",
      "\n",
      "Epoch 00002: val_accuracy did not improve from 0.38417\n",
      "Epoch 3/10\n",
      "17/17 [==============================] - 18s 1s/step - loss: 0.0115 - accuracy: 0.9966 - val_loss: 52.6188 - val_accuracy: 0.4054\n",
      "\n",
      "Epoch 00003: val_accuracy improved from 0.38417 to 0.40541, saving model to ./inceptionresnet.h5\n",
      "Epoch 4/10\n",
      "17/17 [==============================] - 19s 1s/step - loss: 0.0030 - accuracy: 0.9995 - val_loss: 25.7887 - val_accuracy: 0.2046\n",
      "\n",
      "Epoch 00004: val_accuracy did not improve from 0.40541\n",
      "Epoch 5/10\n",
      "17/17 [==============================] - 17s 1s/step - loss: 2.1931e-04 - accuracy: 1.0000 - val_loss: 8.1681 - val_accuracy: 0.5502\n",
      "\n",
      "Epoch 00005: val_accuracy improved from 0.40541 to 0.55019, saving model to ./inceptionresnet.h5\n",
      "Epoch 6/10\n",
      "17/17 [==============================] - 19s 1s/step - loss: 9.3585e-05 - accuracy: 1.0000 - val_loss: 2.3645 - val_accuracy: 0.8533\n",
      "\n",
      "Epoch 00006: val_accuracy improved from 0.55019 to 0.85328, saving model to ./inceptionresnet.h5\n",
      "Epoch 7/10\n",
      "17/17 [==============================] - 18s 1s/step - loss: 0.0017 - accuracy: 0.9995 - val_loss: 3.5062 - val_accuracy: 0.3726\n",
      "\n",
      "Epoch 00007: val_accuracy did not improve from 0.85328\n",
      "Epoch 8/10\n",
      "17/17 [==============================] - 18s 1s/step - loss: 0.0024 - accuracy: 0.9990 - val_loss: 0.4043 - val_accuracy: 0.8726\n",
      "\n",
      "Epoch 00008: val_accuracy improved from 0.85328 to 0.87259, saving model to ./inceptionresnet.h5\n",
      "Epoch 9/10\n",
      "17/17 [==============================] - 19s 1s/step - loss: 0.0033 - accuracy: 0.9990 - val_loss: 0.0124 - val_accuracy: 0.9942\n",
      "\n",
      "Epoch 00009: val_accuracy improved from 0.87259 to 0.99421, saving model to ./inceptionresnet.h5\n",
      "Epoch 10/10\n",
      "17/17 [==============================] - 18s 1s/step - loss: 0.0017 - accuracy: 0.9986 - val_loss: 0.1307 - val_accuracy: 0.9691\n",
      "\n",
      "Epoch 00010: val_accuracy did not improve from 0.99421\n"
     ]
    },
    {
     "name": "stderr",
     "output_type": "stream",
     "text": [
      "/tmp/ipykernel_326/422981087.py:40: FutureWarning: The frame.append method is deprecated and will be removed from pandas in a future version. Use pandas.concat instead.\n",
      "  output_df=output_df.append(result_dict,ignore_index=True)\n"
     ]
    }
   ],
   "source": [
    "\n",
    "params=get_params(format(best))\n",
    "index=clear_output_df(index)\n",
    "\n",
    "temptime=t2-t1\n",
    "time_opt.append(temptime)\n",
    "opt_type.append(\"BO-TPE\")\n",
    "\n",
    "t1=time.time()\n",
    "inceptionresnet(**params)\n",
    "t2=time.time()\n",
    "\n",
    "temptime=t2-t1\n",
    "timelist.append(temptime)"
   ]
  },
  {
   "cell_type": "code",
   "execution_count": 101,
   "metadata": {},
   "outputs": [
    {
     "name": "stdout",
     "output_type": "stream",
     "text": [
      "{\"code\":\"Success\",\"data\":null,\"msg\":\"\"}\n"
     ]
    }
   ],
   "source": [
    "resp = requests.post(\"https://www.autodl.com/api/v1/wechat/message/push\",\n",
    "                     json={\n",
    "                         \"token\": \"444db7f1cca1\",\n",
    "                         \"title\": \"inceptionresnet BO-TPE\",\n",
    "                         \"name\": \"Omar Project\"\n",
    "                     })\n",
    "print(resp.content.decode())"
   ]
  },
  {
   "cell_type": "code",
   "execution_count": 102,
   "metadata": {},
   "outputs": [
    {
     "name": "stdout",
     "output_type": "stream",
     "text": [
      "  0%|          | 0/10 [00:00<?, ?trial/s, best loss=?]"
     ]
    },
    {
     "name": "stderr",
     "output_type": "stream",
     "text": [
      "/root/miniconda3/lib/python3.8/site-packages/tensorflow/python/keras/optimizer_v2/optimizer_v2.py:374: UserWarning: The `lr` argument is deprecated, use `learning_rate` instead.\n",
      "  warnings.warn(\n",
      "\n",
      "/tmp/ipykernel_326/422981087.py:40: FutureWarning: The frame.append method is deprecated and will be removed from pandas in a future version. Use pandas.concat instead.\n",
      "  output_df=output_df.append(result_dict,ignore_index=True)\n",
      "\n"
     ]
    },
    {
     "name": "stdout",
     "output_type": "stream",
     "text": [
      "accuracy:0.8957528957528957                           \n",
      " 10%|█         | 1/10 [03:22<30:19, 202.19s/trial, best loss: -0.8957528957528957]"
     ]
    },
    {
     "name": "stderr",
     "output_type": "stream",
     "text": [
      "/root/miniconda3/lib/python3.8/site-packages/tensorflow/python/keras/optimizer_v2/optimizer_v2.py:374: UserWarning: The `lr` argument is deprecated, use `learning_rate` instead.\n",
      "  warnings.warn(\n",
      "\n",
      "/tmp/ipykernel_326/422981087.py:40: FutureWarning: The frame.append method is deprecated and will be removed from pandas in a future version. Use pandas.concat instead.\n",
      "  output_df=output_df.append(result_dict,ignore_index=True)\n",
      "\n"
     ]
    },
    {
     "name": "stdout",
     "output_type": "stream",
     "text": [
      "accuracy:0.7451737451737451                                                       \n",
      " 20%|██        | 2/10 [05:41<22:01, 165.20s/trial, best loss: -0.8957528957528957]"
     ]
    },
    {
     "name": "stderr",
     "output_type": "stream",
     "text": [
      "/root/miniconda3/lib/python3.8/site-packages/tensorflow/python/keras/optimizer_v2/optimizer_v2.py:374: UserWarning: The `lr` argument is deprecated, use `learning_rate` instead.\n",
      "  warnings.warn(\n",
      "\n",
      "/tmp/ipykernel_326/422981087.py:40: FutureWarning: The frame.append method is deprecated and will be removed from pandas in a future version. Use pandas.concat instead.\n",
      "  output_df=output_df.append(result_dict,ignore_index=True)\n",
      "\n"
     ]
    },
    {
     "name": "stdout",
     "output_type": "stream",
     "text": [
      "accuracy:0.9845559845559846                                                       \n",
      " 30%|███       | 3/10 [09:43<23:21, 200.28s/trial, best loss: -0.9845559845559846]"
     ]
    },
    {
     "name": "stderr",
     "output_type": "stream",
     "text": [
      "/root/miniconda3/lib/python3.8/site-packages/tensorflow/python/keras/optimizer_v2/optimizer_v2.py:374: UserWarning: The `lr` argument is deprecated, use `learning_rate` instead.\n",
      "  warnings.warn(\n",
      "\n",
      "/tmp/ipykernel_326/422981087.py:40: FutureWarning: The frame.append method is deprecated and will be removed from pandas in a future version. Use pandas.concat instead.\n",
      "  output_df=output_df.append(result_dict,ignore_index=True)\n",
      "\n"
     ]
    },
    {
     "name": "stdout",
     "output_type": "stream",
     "text": [
      "accuracy:0.7316602316602316                                                       \n",
      " 40%|████      | 4/10 [13:01<19:56, 199.36s/trial, best loss: -0.9845559845559846]"
     ]
    },
    {
     "name": "stderr",
     "output_type": "stream",
     "text": [
      "/root/miniconda3/lib/python3.8/site-packages/tensorflow/python/keras/optimizer_v2/optimizer_v2.py:374: UserWarning: The `lr` argument is deprecated, use `learning_rate` instead.\n",
      "  warnings.warn(\n",
      "\n",
      "/tmp/ipykernel_326/422981087.py:40: FutureWarning: The frame.append method is deprecated and will be removed from pandas in a future version. Use pandas.concat instead.\n",
      "  output_df=output_df.append(result_dict,ignore_index=True)\n",
      "\n"
     ]
    },
    {
     "name": "stdout",
     "output_type": "stream",
     "text": [
      "accuracy:0.8687258687258688                                                       \n",
      " 50%|█████     | 5/10 [16:20<16:36, 199.23s/trial, best loss: -0.9845559845559846]"
     ]
    },
    {
     "name": "stderr",
     "output_type": "stream",
     "text": [
      "/root/miniconda3/lib/python3.8/site-packages/tensorflow/python/keras/optimizer_v2/optimizer_v2.py:374: UserWarning: The `lr` argument is deprecated, use `learning_rate` instead.\n",
      "  warnings.warn(\n",
      "\n",
      "/tmp/ipykernel_326/422981087.py:40: FutureWarning: The frame.append method is deprecated and will be removed from pandas in a future version. Use pandas.concat instead.\n",
      "  output_df=output_df.append(result_dict,ignore_index=True)\n",
      "\n"
     ]
    },
    {
     "name": "stdout",
     "output_type": "stream",
     "text": [
      "accuracy:0.1274131274131274                                                       \n",
      " 60%|██████    | 6/10 [19:05<12:29, 187.45s/trial, best loss: -0.9845559845559846]"
     ]
    },
    {
     "name": "stderr",
     "output_type": "stream",
     "text": [
      "/root/miniconda3/lib/python3.8/site-packages/tensorflow/python/keras/optimizer_v2/optimizer_v2.py:374: UserWarning: The `lr` argument is deprecated, use `learning_rate` instead.\n",
      "  warnings.warn(\n",
      "\n",
      "/tmp/ipykernel_326/422981087.py:40: FutureWarning: The frame.append method is deprecated and will be removed from pandas in a future version. Use pandas.concat instead.\n",
      "  output_df=output_df.append(result_dict,ignore_index=True)\n",
      "\n"
     ]
    },
    {
     "name": "stdout",
     "output_type": "stream",
     "text": [
      "accuracy:0.7586872586872587                                                       \n",
      " 70%|███████   | 7/10 [21:48<08:59, 179.72s/trial, best loss: -0.9845559845559846]"
     ]
    },
    {
     "name": "stderr",
     "output_type": "stream",
     "text": [
      "/root/miniconda3/lib/python3.8/site-packages/tensorflow/python/keras/optimizer_v2/optimizer_v2.py:374: UserWarning: The `lr` argument is deprecated, use `learning_rate` instead.\n",
      "  warnings.warn(\n",
      "\n",
      "/tmp/ipykernel_326/422981087.py:40: FutureWarning: The frame.append method is deprecated and will be removed from pandas in a future version. Use pandas.concat instead.\n",
      "  output_df=output_df.append(result_dict,ignore_index=True)\n",
      "\n"
     ]
    },
    {
     "name": "stdout",
     "output_type": "stream",
     "text": [
      "accuracy:0.6833976833976834                                                       \n",
      " 80%|████████  | 8/10 [24:27<05:45, 172.90s/trial, best loss: -0.9845559845559846]"
     ]
    },
    {
     "name": "stderr",
     "output_type": "stream",
     "text": [
      "/root/miniconda3/lib/python3.8/site-packages/tensorflow/python/keras/optimizer_v2/optimizer_v2.py:374: UserWarning: The `lr` argument is deprecated, use `learning_rate` instead.\n",
      "  warnings.warn(\n",
      "\n",
      "/tmp/ipykernel_326/422981087.py:40: FutureWarning: The frame.append method is deprecated and will be removed from pandas in a future version. Use pandas.concat instead.\n",
      "  output_df=output_df.append(result_dict,ignore_index=True)\n",
      "\n"
     ]
    },
    {
     "name": "stdout",
     "output_type": "stream",
     "text": [
      "accuracy:0.803088803088803                                                        \n",
      " 90%|█████████ | 9/10 [27:04<02:47, 167.97s/trial, best loss: -0.9845559845559846]"
     ]
    },
    {
     "name": "stderr",
     "output_type": "stream",
     "text": [
      "/root/miniconda3/lib/python3.8/site-packages/tensorflow/python/keras/optimizer_v2/optimizer_v2.py:374: UserWarning: The `lr` argument is deprecated, use `learning_rate` instead.\n",
      "  warnings.warn(\n",
      "\n",
      "/tmp/ipykernel_326/422981087.py:40: FutureWarning: The frame.append method is deprecated and will be removed from pandas in a future version. Use pandas.concat instead.\n",
      "  output_df=output_df.append(result_dict,ignore_index=True)\n",
      "\n"
     ]
    },
    {
     "name": "stdout",
     "output_type": "stream",
     "text": [
      "accuracy:1.0                                                                      \n",
      "100%|██████████| 10/10 [32:20<00:00, 194.02s/trial, best loss: -1.0]              \n",
      "Hyperopt estimated optimum {'dropout_rate': 0.6000000000000001, 'epochs': 20.0, 'frozen': 18.0, 'lr': 0.003, 'patience': 4.0}\n"
     ]
    }
   ],
   "source": [
    "#Hyperparameter optimization by Random search\n",
    "space = {\n",
    "    'frozen': hp.quniform('frozen', 15, 18, 1),\n",
    "    'epochs': hp.quniform('epochs', 5, 21, 5),\n",
    "    'patience': hp.quniform('patience', 2, 4, 1),\n",
    "    'lr': hp.quniform('lr', 0.001, 0.006, 0.001),\n",
    "    'dropout_rate': hp.quniform('dropout_rate', 0.3, 0.6, 0.1),\n",
    "}\n",
    "\n",
    "t1=time.time()\n",
    "best = fmin(fn=objective,\n",
    "            space=space,\n",
    "            algo=rand.suggest,\n",
    "            max_evals=10)\n",
    "print(\"Hyperopt estimated optimum {}\".format(best))\n",
    "t2=time.time()"
   ]
  },
  {
   "cell_type": "code",
   "execution_count": 103,
   "metadata": {},
   "outputs": [
    {
     "name": "stderr",
     "output_type": "stream",
     "text": [
      "/root/miniconda3/lib/python3.8/site-packages/tensorflow/python/keras/optimizer_v2/optimizer_v2.py:374: UserWarning: The `lr` argument is deprecated, use `learning_rate` instead.\n",
      "  warnings.warn(\n"
     ]
    },
    {
     "name": "stdout",
     "output_type": "stream",
     "text": [
      "Epoch 1/20\n",
      "17/17 [==============================] - 30s 1s/step - loss: 0.2576 - accuracy: 0.9041 - val_loss: 16.2143 - val_accuracy: 0.7085\n",
      "\n",
      "Epoch 00001: val_accuracy improved from -inf to 0.70849, saving model to ./inceptionresnet.h5\n",
      "Epoch 2/20\n",
      "17/17 [==============================] - 18s 1s/step - loss: 0.0279 - accuracy: 0.9928 - val_loss: 276.3622 - val_accuracy: 0.7239\n",
      "\n",
      "Epoch 00002: val_accuracy improved from 0.70849 to 0.72394, saving model to ./inceptionresnet.h5\n",
      "Epoch 3/20\n",
      "17/17 [==============================] - 18s 1s/step - loss: 0.0318 - accuracy: 0.9918 - val_loss: 32.9751 - val_accuracy: 0.6834\n",
      "\n",
      "Epoch 00003: val_accuracy did not improve from 0.72394\n",
      "Epoch 4/20\n",
      "17/17 [==============================] - 18s 1s/step - loss: 9.8630e-04 - accuracy: 1.0000 - val_loss: 16.3054 - val_accuracy: 0.6873\n",
      "\n",
      "Epoch 00004: val_accuracy did not improve from 0.72394\n",
      "Epoch 5/20\n",
      "17/17 [==============================] - 17s 1s/step - loss: 3.0373e-04 - accuracy: 1.0000 - val_loss: 6.4805 - val_accuracy: 0.8224\n",
      "\n",
      "Epoch 00005: val_accuracy improved from 0.72394 to 0.82239, saving model to ./inceptionresnet.h5\n",
      "Epoch 6/20\n",
      "17/17 [==============================] - 17s 970ms/step - loss: 1.5780e-04 - accuracy: 1.0000 - val_loss: 1.4725 - val_accuracy: 0.8764\n",
      "\n",
      "Epoch 00006: val_accuracy improved from 0.82239 to 0.87645, saving model to ./inceptionresnet.h5\n",
      "Epoch 7/20\n",
      "17/17 [==============================] - 18s 1s/step - loss: 1.3699e-04 - accuracy: 1.0000 - val_loss: 0.0268 - val_accuracy: 0.9942\n",
      "\n",
      "Epoch 00007: val_accuracy improved from 0.87645 to 0.99421, saving model to ./inceptionresnet.h5\n",
      "Epoch 8/20\n",
      "17/17 [==============================] - 17s 1s/step - loss: 8.7291e-05 - accuracy: 1.0000 - val_loss: 0.0023 - val_accuracy: 1.0000\n",
      "\n",
      "Epoch 00008: val_accuracy improved from 0.99421 to 1.00000, saving model to ./inceptionresnet.h5\n",
      "Epoch 9/20\n",
      "17/17 [==============================] - 19s 1s/step - loss: 8.0563e-05 - accuracy: 1.0000 - val_loss: 5.6511e-05 - val_accuracy: 1.0000\n",
      "\n",
      "Epoch 00009: val_accuracy did not improve from 1.00000\n",
      "Epoch 10/20\n",
      "17/17 [==============================] - 17s 1s/step - loss: 3.7197e-05 - accuracy: 1.0000 - val_loss: 7.3825e-06 - val_accuracy: 1.0000\n",
      "\n",
      "Epoch 00010: val_accuracy did not improve from 1.00000\n",
      "Epoch 11/20\n",
      "17/17 [==============================] - 17s 964ms/step - loss: 1.9157e-05 - accuracy: 1.0000 - val_loss: 3.0426e-06 - val_accuracy: 1.0000\n",
      "\n",
      "Epoch 00011: val_accuracy did not improve from 1.00000\n",
      "Epoch 12/20\n",
      "17/17 [==============================] - 18s 1s/step - loss: 3.7830e-05 - accuracy: 1.0000 - val_loss: 1.3772e-06 - val_accuracy: 1.0000\n",
      "\n",
      "Epoch 00012: val_accuracy did not improve from 1.00000\n",
      "Epoch 00012: early stopping\n"
     ]
    },
    {
     "name": "stderr",
     "output_type": "stream",
     "text": [
      "/tmp/ipykernel_326/422981087.py:40: FutureWarning: The frame.append method is deprecated and will be removed from pandas in a future version. Use pandas.concat instead.\n",
      "  output_df=output_df.append(result_dict,ignore_index=True)\n"
     ]
    }
   ],
   "source": [
    "params=get_params(format(best))\n",
    "index=clear_output_df(index)\n",
    "\n",
    "temptime=t2-t1\n",
    "time_opt.append(temptime)\n",
    "opt_type.append(\"RS\")\n",
    "\n",
    "t1=time.time()\n",
    "inceptionresnet(**params)\n",
    "t2=time.time()\n",
    "\n",
    "temptime=t2-t1\n",
    "timelist.append(temptime)\n"
   ]
  },
  {
   "cell_type": "code",
   "execution_count": 104,
   "metadata": {},
   "outputs": [
    {
     "name": "stdout",
     "output_type": "stream",
     "text": [
      "{\"code\":\"Success\",\"data\":null,\"msg\":\"\"}\n"
     ]
    }
   ],
   "source": [
    "resp = requests.post(\"https://www.autodl.com/api/v1/wechat/message/push\",\n",
    "                     json={\n",
    "                         \"token\": \"444db7f1cca1\",\n",
    "                         \"title\": \"inceptionresnet RS\",\n",
    "                         \"name\": \"Omar Project\"\n",
    "                     })\n",
    "print(resp.content.decode())"
   ]
  },
  {
   "cell_type": "code",
   "execution_count": 105,
   "metadata": {},
   "outputs": [],
   "source": [
    "output_df.index=output_index\n",
    "output_df['Time']=timelist\n",
    "output_df['Time_opt']=time_opt\n",
    "output_df['Opt_type']=opt_type\n"
   ]
  },
  {
   "cell_type": "code",
   "execution_count": 106,
   "metadata": {},
   "outputs": [],
   "source": [
    "\n",
    "# Save the result to file\n",
    "import datetime\n",
    "output_df.to_excel('result-{}.xlsx'.format(datetime.datetime.now().strftime('%y%m%d-%H%M%S')))"
   ]
  },
  {
   "cell_type": "code",
   "execution_count": null,
   "metadata": {},
   "outputs": [],
   "source": []
  }
 ],
 "metadata": {
  "anaconda-cloud": {},
  "kernelspec": {
   "display_name": "Python 3 (ipykernel)",
   "language": "python",
   "name": "python3"
  },
  "language_info": {
   "codemirror_mode": {
    "name": "ipython",
    "version": 3
   },
   "file_extension": ".py",
   "mimetype": "text/x-python",
   "name": "python",
   "nbconvert_exporter": "python",
   "pygments_lexer": "ipython3",
   "version": "3.9.7"
  },
  "vscode": {
   "interpreter": {
    "hash": "bc342a2d18cd8de928dda5685bacff2bb239146e0847e732d8a85b5d43ec132e"
   }
  }
 },
 "nbformat": 4,
 "nbformat_minor": 4
}
