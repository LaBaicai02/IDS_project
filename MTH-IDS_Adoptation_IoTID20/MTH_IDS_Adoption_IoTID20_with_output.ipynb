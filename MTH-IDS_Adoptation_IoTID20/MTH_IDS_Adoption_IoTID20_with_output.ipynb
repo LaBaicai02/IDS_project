{
 "cells": [
  {
   "cell_type": "markdown",
   "metadata": {},
   "source": [
    "# MTH-IDS Adoption Using IoTID20\n",
    "This is an adoption of the method described in the paper entitled \"[**MTH-IDS: A Multi-Tiered Hybrid Intrusion Detection System for Internet of Vehicles**](https://arxiv.org/pdf/2105.13289.pdf)\" accepted in IEEE Internet of Things Journal using UNSW-NB15 dataset to test its performance.  "
   ]
  },
  {
   "cell_type": "markdown",
   "metadata": {},
   "source": [
    "## Import libraries"
   ]
  },
  {
   "cell_type": "code",
   "execution_count": 1,
   "metadata": {},
   "outputs": [],
   "source": [
    "import warnings\n",
    "warnings.filterwarnings(\"ignore\")"
   ]
  },
  {
   "cell_type": "code",
   "execution_count": 2,
   "metadata": {},
   "outputs": [],
   "source": [
    "import os\n",
    "import time\n",
    "import numpy as np\n",
    "import pandas as pd\n",
    "import seaborn as sns\n",
    "import matplotlib.pyplot as plt\n",
    "from sklearn.preprocessing import LabelEncoder\n",
    "from sklearn.model_selection import train_test_split\n",
    "from sklearn.metrics import classification_report,confusion_matrix,accuracy_score,precision_recall_fscore_support\n",
    "from sklearn.metrics import f1_score,roc_auc_score\n",
    "from sklearn.ensemble import RandomForestClassifier,ExtraTreesClassifier\n",
    "from sklearn.tree import DecisionTreeClassifier\n",
    "import xgboost as xgb\n",
    "from xgboost import plot_importance"
   ]
  },
  {
   "cell_type": "code",
   "execution_count": 3,
   "metadata": {},
   "outputs": [
    {
     "ename": "FileNotFoundError",
     "evalue": "[Errno 2] No such file or directory: './data/IoT Network Intrusion Dataset.csv'",
     "output_type": "error",
     "traceback": [
      "\u001b[1;31m---------------------------------------------------------------------------\u001b[0m",
      "\u001b[1;31mFileNotFoundError\u001b[0m                         Traceback (most recent call last)",
      "Input \u001b[1;32mIn [3]\u001b[0m, in \u001b[0;36m<cell line: 2>\u001b[1;34m()\u001b[0m\n\u001b[0;32m      1\u001b[0m \u001b[38;5;66;03m#Read dataset\u001b[39;00m\n\u001b[1;32m----> 2\u001b[0m df \u001b[38;5;241m=\u001b[39m \u001b[43mpd\u001b[49m\u001b[38;5;241;43m.\u001b[39;49m\u001b[43mread_csv\u001b[49m\u001b[43m(\u001b[49m\u001b[38;5;124;43m'\u001b[39;49m\u001b[38;5;124;43m./data/IoT Network Intrusion Dataset.csv\u001b[39;49m\u001b[38;5;124;43m'\u001b[39;49m\u001b[43m)\u001b[49m\n",
      "File \u001b[1;32m~\\.conda\\envs\\tf2\\lib\\site-packages\\pandas\\util\\_decorators.py:311\u001b[0m, in \u001b[0;36mdeprecate_nonkeyword_arguments.<locals>.decorate.<locals>.wrapper\u001b[1;34m(*args, **kwargs)\u001b[0m\n\u001b[0;32m    305\u001b[0m \u001b[38;5;28;01mif\u001b[39;00m \u001b[38;5;28mlen\u001b[39m(args) \u001b[38;5;241m>\u001b[39m num_allow_args:\n\u001b[0;32m    306\u001b[0m     warnings\u001b[38;5;241m.\u001b[39mwarn(\n\u001b[0;32m    307\u001b[0m         msg\u001b[38;5;241m.\u001b[39mformat(arguments\u001b[38;5;241m=\u001b[39marguments),\n\u001b[0;32m    308\u001b[0m         \u001b[38;5;167;01mFutureWarning\u001b[39;00m,\n\u001b[0;32m    309\u001b[0m         stacklevel\u001b[38;5;241m=\u001b[39mstacklevel,\n\u001b[0;32m    310\u001b[0m     )\n\u001b[1;32m--> 311\u001b[0m \u001b[38;5;28;01mreturn\u001b[39;00m \u001b[43mfunc\u001b[49m\u001b[43m(\u001b[49m\u001b[38;5;241;43m*\u001b[39;49m\u001b[43margs\u001b[49m\u001b[43m,\u001b[49m\u001b[43m \u001b[49m\u001b[38;5;241;43m*\u001b[39;49m\u001b[38;5;241;43m*\u001b[39;49m\u001b[43mkwargs\u001b[49m\u001b[43m)\u001b[49m\n",
      "File \u001b[1;32m~\\.conda\\envs\\tf2\\lib\\site-packages\\pandas\\io\\parsers\\readers.py:680\u001b[0m, in \u001b[0;36mread_csv\u001b[1;34m(filepath_or_buffer, sep, delimiter, header, names, index_col, usecols, squeeze, prefix, mangle_dupe_cols, dtype, engine, converters, true_values, false_values, skipinitialspace, skiprows, skipfooter, nrows, na_values, keep_default_na, na_filter, verbose, skip_blank_lines, parse_dates, infer_datetime_format, keep_date_col, date_parser, dayfirst, cache_dates, iterator, chunksize, compression, thousands, decimal, lineterminator, quotechar, quoting, doublequote, escapechar, comment, encoding, encoding_errors, dialect, error_bad_lines, warn_bad_lines, on_bad_lines, delim_whitespace, low_memory, memory_map, float_precision, storage_options)\u001b[0m\n\u001b[0;32m    665\u001b[0m kwds_defaults \u001b[38;5;241m=\u001b[39m _refine_defaults_read(\n\u001b[0;32m    666\u001b[0m     dialect,\n\u001b[0;32m    667\u001b[0m     delimiter,\n\u001b[1;32m   (...)\u001b[0m\n\u001b[0;32m    676\u001b[0m     defaults\u001b[38;5;241m=\u001b[39m{\u001b[38;5;124m\"\u001b[39m\u001b[38;5;124mdelimiter\u001b[39m\u001b[38;5;124m\"\u001b[39m: \u001b[38;5;124m\"\u001b[39m\u001b[38;5;124m,\u001b[39m\u001b[38;5;124m\"\u001b[39m},\n\u001b[0;32m    677\u001b[0m )\n\u001b[0;32m    678\u001b[0m kwds\u001b[38;5;241m.\u001b[39mupdate(kwds_defaults)\n\u001b[1;32m--> 680\u001b[0m \u001b[38;5;28;01mreturn\u001b[39;00m \u001b[43m_read\u001b[49m\u001b[43m(\u001b[49m\u001b[43mfilepath_or_buffer\u001b[49m\u001b[43m,\u001b[49m\u001b[43m \u001b[49m\u001b[43mkwds\u001b[49m\u001b[43m)\u001b[49m\n",
      "File \u001b[1;32m~\\.conda\\envs\\tf2\\lib\\site-packages\\pandas\\io\\parsers\\readers.py:575\u001b[0m, in \u001b[0;36m_read\u001b[1;34m(filepath_or_buffer, kwds)\u001b[0m\n\u001b[0;32m    572\u001b[0m _validate_names(kwds\u001b[38;5;241m.\u001b[39mget(\u001b[38;5;124m\"\u001b[39m\u001b[38;5;124mnames\u001b[39m\u001b[38;5;124m\"\u001b[39m, \u001b[38;5;28;01mNone\u001b[39;00m))\n\u001b[0;32m    574\u001b[0m \u001b[38;5;66;03m# Create the parser.\u001b[39;00m\n\u001b[1;32m--> 575\u001b[0m parser \u001b[38;5;241m=\u001b[39m \u001b[43mTextFileReader\u001b[49m\u001b[43m(\u001b[49m\u001b[43mfilepath_or_buffer\u001b[49m\u001b[43m,\u001b[49m\u001b[43m \u001b[49m\u001b[38;5;241;43m*\u001b[39;49m\u001b[38;5;241;43m*\u001b[39;49m\u001b[43mkwds\u001b[49m\u001b[43m)\u001b[49m\n\u001b[0;32m    577\u001b[0m \u001b[38;5;28;01mif\u001b[39;00m chunksize \u001b[38;5;129;01mor\u001b[39;00m iterator:\n\u001b[0;32m    578\u001b[0m     \u001b[38;5;28;01mreturn\u001b[39;00m parser\n",
      "File \u001b[1;32m~\\.conda\\envs\\tf2\\lib\\site-packages\\pandas\\io\\parsers\\readers.py:934\u001b[0m, in \u001b[0;36mTextFileReader.__init__\u001b[1;34m(self, f, engine, **kwds)\u001b[0m\n\u001b[0;32m    931\u001b[0m     \u001b[38;5;28mself\u001b[39m\u001b[38;5;241m.\u001b[39moptions[\u001b[38;5;124m\"\u001b[39m\u001b[38;5;124mhas_index_names\u001b[39m\u001b[38;5;124m\"\u001b[39m] \u001b[38;5;241m=\u001b[39m kwds[\u001b[38;5;124m\"\u001b[39m\u001b[38;5;124mhas_index_names\u001b[39m\u001b[38;5;124m\"\u001b[39m]\n\u001b[0;32m    933\u001b[0m \u001b[38;5;28mself\u001b[39m\u001b[38;5;241m.\u001b[39mhandles: IOHandles \u001b[38;5;241m|\u001b[39m \u001b[38;5;28;01mNone\u001b[39;00m \u001b[38;5;241m=\u001b[39m \u001b[38;5;28;01mNone\u001b[39;00m\n\u001b[1;32m--> 934\u001b[0m \u001b[38;5;28mself\u001b[39m\u001b[38;5;241m.\u001b[39m_engine \u001b[38;5;241m=\u001b[39m \u001b[38;5;28;43mself\u001b[39;49m\u001b[38;5;241;43m.\u001b[39;49m\u001b[43m_make_engine\u001b[49m\u001b[43m(\u001b[49m\u001b[43mf\u001b[49m\u001b[43m,\u001b[49m\u001b[43m \u001b[49m\u001b[38;5;28;43mself\u001b[39;49m\u001b[38;5;241;43m.\u001b[39;49m\u001b[43mengine\u001b[49m\u001b[43m)\u001b[49m\n",
      "File \u001b[1;32m~\\.conda\\envs\\tf2\\lib\\site-packages\\pandas\\io\\parsers\\readers.py:1218\u001b[0m, in \u001b[0;36mTextFileReader._make_engine\u001b[1;34m(self, f, engine)\u001b[0m\n\u001b[0;32m   1214\u001b[0m     mode \u001b[38;5;241m=\u001b[39m \u001b[38;5;124m\"\u001b[39m\u001b[38;5;124mrb\u001b[39m\u001b[38;5;124m\"\u001b[39m\n\u001b[0;32m   1215\u001b[0m \u001b[38;5;66;03m# error: No overload variant of \"get_handle\" matches argument types\u001b[39;00m\n\u001b[0;32m   1216\u001b[0m \u001b[38;5;66;03m# \"Union[str, PathLike[str], ReadCsvBuffer[bytes], ReadCsvBuffer[str]]\"\u001b[39;00m\n\u001b[0;32m   1217\u001b[0m \u001b[38;5;66;03m# , \"str\", \"bool\", \"Any\", \"Any\", \"Any\", \"Any\", \"Any\"\u001b[39;00m\n\u001b[1;32m-> 1218\u001b[0m \u001b[38;5;28mself\u001b[39m\u001b[38;5;241m.\u001b[39mhandles \u001b[38;5;241m=\u001b[39m \u001b[43mget_handle\u001b[49m\u001b[43m(\u001b[49m\u001b[43m  \u001b[49m\u001b[38;5;66;43;03m# type: ignore[call-overload]\u001b[39;49;00m\n\u001b[0;32m   1219\u001b[0m \u001b[43m    \u001b[49m\u001b[43mf\u001b[49m\u001b[43m,\u001b[49m\n\u001b[0;32m   1220\u001b[0m \u001b[43m    \u001b[49m\u001b[43mmode\u001b[49m\u001b[43m,\u001b[49m\n\u001b[0;32m   1221\u001b[0m \u001b[43m    \u001b[49m\u001b[43mencoding\u001b[49m\u001b[38;5;241;43m=\u001b[39;49m\u001b[38;5;28;43mself\u001b[39;49m\u001b[38;5;241;43m.\u001b[39;49m\u001b[43moptions\u001b[49m\u001b[38;5;241;43m.\u001b[39;49m\u001b[43mget\u001b[49m\u001b[43m(\u001b[49m\u001b[38;5;124;43m\"\u001b[39;49m\u001b[38;5;124;43mencoding\u001b[39;49m\u001b[38;5;124;43m\"\u001b[39;49m\u001b[43m,\u001b[49m\u001b[43m \u001b[49m\u001b[38;5;28;43;01mNone\u001b[39;49;00m\u001b[43m)\u001b[49m\u001b[43m,\u001b[49m\n\u001b[0;32m   1222\u001b[0m \u001b[43m    \u001b[49m\u001b[43mcompression\u001b[49m\u001b[38;5;241;43m=\u001b[39;49m\u001b[38;5;28;43mself\u001b[39;49m\u001b[38;5;241;43m.\u001b[39;49m\u001b[43moptions\u001b[49m\u001b[38;5;241;43m.\u001b[39;49m\u001b[43mget\u001b[49m\u001b[43m(\u001b[49m\u001b[38;5;124;43m\"\u001b[39;49m\u001b[38;5;124;43mcompression\u001b[39;49m\u001b[38;5;124;43m\"\u001b[39;49m\u001b[43m,\u001b[49m\u001b[43m \u001b[49m\u001b[38;5;28;43;01mNone\u001b[39;49;00m\u001b[43m)\u001b[49m\u001b[43m,\u001b[49m\n\u001b[0;32m   1223\u001b[0m \u001b[43m    \u001b[49m\u001b[43mmemory_map\u001b[49m\u001b[38;5;241;43m=\u001b[39;49m\u001b[38;5;28;43mself\u001b[39;49m\u001b[38;5;241;43m.\u001b[39;49m\u001b[43moptions\u001b[49m\u001b[38;5;241;43m.\u001b[39;49m\u001b[43mget\u001b[49m\u001b[43m(\u001b[49m\u001b[38;5;124;43m\"\u001b[39;49m\u001b[38;5;124;43mmemory_map\u001b[39;49m\u001b[38;5;124;43m\"\u001b[39;49m\u001b[43m,\u001b[49m\u001b[43m \u001b[49m\u001b[38;5;28;43;01mFalse\u001b[39;49;00m\u001b[43m)\u001b[49m\u001b[43m,\u001b[49m\n\u001b[0;32m   1224\u001b[0m \u001b[43m    \u001b[49m\u001b[43mis_text\u001b[49m\u001b[38;5;241;43m=\u001b[39;49m\u001b[43mis_text\u001b[49m\u001b[43m,\u001b[49m\n\u001b[0;32m   1225\u001b[0m \u001b[43m    \u001b[49m\u001b[43merrors\u001b[49m\u001b[38;5;241;43m=\u001b[39;49m\u001b[38;5;28;43mself\u001b[39;49m\u001b[38;5;241;43m.\u001b[39;49m\u001b[43moptions\u001b[49m\u001b[38;5;241;43m.\u001b[39;49m\u001b[43mget\u001b[49m\u001b[43m(\u001b[49m\u001b[38;5;124;43m\"\u001b[39;49m\u001b[38;5;124;43mencoding_errors\u001b[39;49m\u001b[38;5;124;43m\"\u001b[39;49m\u001b[43m,\u001b[49m\u001b[43m \u001b[49m\u001b[38;5;124;43m\"\u001b[39;49m\u001b[38;5;124;43mstrict\u001b[39;49m\u001b[38;5;124;43m\"\u001b[39;49m\u001b[43m)\u001b[49m\u001b[43m,\u001b[49m\n\u001b[0;32m   1226\u001b[0m \u001b[43m    \u001b[49m\u001b[43mstorage_options\u001b[49m\u001b[38;5;241;43m=\u001b[39;49m\u001b[38;5;28;43mself\u001b[39;49m\u001b[38;5;241;43m.\u001b[39;49m\u001b[43moptions\u001b[49m\u001b[38;5;241;43m.\u001b[39;49m\u001b[43mget\u001b[49m\u001b[43m(\u001b[49m\u001b[38;5;124;43m\"\u001b[39;49m\u001b[38;5;124;43mstorage_options\u001b[39;49m\u001b[38;5;124;43m\"\u001b[39;49m\u001b[43m,\u001b[49m\u001b[43m \u001b[49m\u001b[38;5;28;43;01mNone\u001b[39;49;00m\u001b[43m)\u001b[49m\u001b[43m,\u001b[49m\n\u001b[0;32m   1227\u001b[0m \u001b[43m\u001b[49m\u001b[43m)\u001b[49m\n\u001b[0;32m   1228\u001b[0m \u001b[38;5;28;01massert\u001b[39;00m \u001b[38;5;28mself\u001b[39m\u001b[38;5;241m.\u001b[39mhandles \u001b[38;5;129;01mis\u001b[39;00m \u001b[38;5;129;01mnot\u001b[39;00m \u001b[38;5;28;01mNone\u001b[39;00m\n\u001b[0;32m   1229\u001b[0m f \u001b[38;5;241m=\u001b[39m \u001b[38;5;28mself\u001b[39m\u001b[38;5;241m.\u001b[39mhandles\u001b[38;5;241m.\u001b[39mhandle\n",
      "File \u001b[1;32m~\\.conda\\envs\\tf2\\lib\\site-packages\\pandas\\io\\common.py:786\u001b[0m, in \u001b[0;36mget_handle\u001b[1;34m(path_or_buf, mode, encoding, compression, memory_map, is_text, errors, storage_options)\u001b[0m\n\u001b[0;32m    781\u001b[0m \u001b[38;5;28;01melif\u001b[39;00m \u001b[38;5;28misinstance\u001b[39m(handle, \u001b[38;5;28mstr\u001b[39m):\n\u001b[0;32m    782\u001b[0m     \u001b[38;5;66;03m# Check whether the filename is to be opened in binary mode.\u001b[39;00m\n\u001b[0;32m    783\u001b[0m     \u001b[38;5;66;03m# Binary mode does not support 'encoding' and 'newline'.\u001b[39;00m\n\u001b[0;32m    784\u001b[0m     \u001b[38;5;28;01mif\u001b[39;00m ioargs\u001b[38;5;241m.\u001b[39mencoding \u001b[38;5;129;01mand\u001b[39;00m \u001b[38;5;124m\"\u001b[39m\u001b[38;5;124mb\u001b[39m\u001b[38;5;124m\"\u001b[39m \u001b[38;5;129;01mnot\u001b[39;00m \u001b[38;5;129;01min\u001b[39;00m ioargs\u001b[38;5;241m.\u001b[39mmode:\n\u001b[0;32m    785\u001b[0m         \u001b[38;5;66;03m# Encoding\u001b[39;00m\n\u001b[1;32m--> 786\u001b[0m         handle \u001b[38;5;241m=\u001b[39m \u001b[38;5;28;43mopen\u001b[39;49m\u001b[43m(\u001b[49m\n\u001b[0;32m    787\u001b[0m \u001b[43m            \u001b[49m\u001b[43mhandle\u001b[49m\u001b[43m,\u001b[49m\n\u001b[0;32m    788\u001b[0m \u001b[43m            \u001b[49m\u001b[43mioargs\u001b[49m\u001b[38;5;241;43m.\u001b[39;49m\u001b[43mmode\u001b[49m\u001b[43m,\u001b[49m\n\u001b[0;32m    789\u001b[0m \u001b[43m            \u001b[49m\u001b[43mencoding\u001b[49m\u001b[38;5;241;43m=\u001b[39;49m\u001b[43mioargs\u001b[49m\u001b[38;5;241;43m.\u001b[39;49m\u001b[43mencoding\u001b[49m\u001b[43m,\u001b[49m\n\u001b[0;32m    790\u001b[0m \u001b[43m            \u001b[49m\u001b[43merrors\u001b[49m\u001b[38;5;241;43m=\u001b[39;49m\u001b[43merrors\u001b[49m\u001b[43m,\u001b[49m\n\u001b[0;32m    791\u001b[0m \u001b[43m            \u001b[49m\u001b[43mnewline\u001b[49m\u001b[38;5;241;43m=\u001b[39;49m\u001b[38;5;124;43m\"\u001b[39;49m\u001b[38;5;124;43m\"\u001b[39;49m\u001b[43m,\u001b[49m\n\u001b[0;32m    792\u001b[0m \u001b[43m        \u001b[49m\u001b[43m)\u001b[49m\n\u001b[0;32m    793\u001b[0m     \u001b[38;5;28;01melse\u001b[39;00m:\n\u001b[0;32m    794\u001b[0m         \u001b[38;5;66;03m# Binary mode\u001b[39;00m\n\u001b[0;32m    795\u001b[0m         handle \u001b[38;5;241m=\u001b[39m \u001b[38;5;28mopen\u001b[39m(handle, ioargs\u001b[38;5;241m.\u001b[39mmode)\n",
      "\u001b[1;31mFileNotFoundError\u001b[0m: [Errno 2] No such file or directory: './data/IoT Network Intrusion Dataset.csv'"
     ]
    }
   ],
   "source": [
    "#Read dataset\n",
    "df = pd.read_csv('./data/IoT Network Intrusion Dataset.csv')"
   ]
  },
  {
   "cell_type": "code",
   "execution_count": null,
   "metadata": {},
   "outputs": [],
   "source": [
    "cols = (df.dtypes=='object')\n",
    "object_cols = list(cols[cols].index)\n",
    "object_cols"
   ]
  },
  {
   "cell_type": "code",
   "execution_count": null,
   "metadata": {},
   "outputs": [],
   "source": [
    "x=[0,1,3,85]\n",
    "df.drop(df.columns[x], axis = 1, inplace=True)\n",
    "df.drop('Timestamp', axis=1, inplace = True)"
   ]
  },
  {
   "cell_type": "code",
   "execution_count": null,
   "metadata": {},
   "outputs": [],
   "source": [
    "df"
   ]
  },
  {
   "cell_type": "code",
   "execution_count": null,
   "metadata": {},
   "outputs": [],
   "source": [
    "df.Cat.value_counts()"
   ]
  },
  {
   "cell_type": "code",
   "execution_count": null,
   "metadata": {},
   "outputs": [],
   "source": [
    "df.dtypes"
   ]
  },
  {
   "cell_type": "code",
   "execution_count": null,
   "metadata": {},
   "outputs": [],
   "source": [
    "# Z-score normalization\n",
    "features = df.dtypes[df.dtypes != 'object'].index\n",
    "df[features] = df[features].apply(\n",
    "    lambda x: (x - x.mean()) / (x.std()))\n",
    "# Fill empty values by 0\n",
    "df = df.fillna(0)"
   ]
  },
  {
   "cell_type": "code",
   "execution_count": null,
   "metadata": {},
   "outputs": [],
   "source": [
    "labelencoder = LabelEncoder()\n",
    "df.iloc[:, -1] = labelencoder.fit_transform(df.iloc[:, -1])\n",
    "df.iloc[:, -2] = labelencoder.fit_transform(df.iloc[:, -2])\n"
   ]
  },
  {
   "cell_type": "code",
   "execution_count": null,
   "metadata": {},
   "outputs": [],
   "source": [
    "df.Cat.value_counts()"
   ]
  },
  {
   "cell_type": "code",
   "execution_count": null,
   "metadata": {},
   "outputs": [],
   "source": [
    "X = df.drop(['Cat'],axis=1) \n",
    "y = df.iloc[:, -1].values.reshape(-1,1)\n",
    "y=np.ravel(y)"
   ]
  },
  {
   "cell_type": "code",
   "execution_count": null,
   "metadata": {},
   "outputs": [],
   "source": [
    "# Prepare the result output\n",
    "output_df = pd.DataFrame(columns=['Accuracy', 'Precision', 'Recall', 'F1-Score', 'Time'])\n",
    "output_index = list()"
   ]
  },
  {
   "cell_type": "code",
   "execution_count": null,
   "metadata": {},
   "outputs": [],
   "source": []
  },
  {
   "cell_type": "code",
   "execution_count": 6,
   "metadata": {},
   "outputs": [
    {
     "ename": "NameError",
     "evalue": "name 'X' is not defined",
     "output_type": "error",
     "traceback": [
      "\u001b[1;31m---------------------------------------------------------------------------\u001b[0m",
      "\u001b[1;31mNameError\u001b[0m                                 Traceback (most recent call last)",
      "Input \u001b[1;32mIn [6]\u001b[0m, in \u001b[0;36m<cell line: 3>\u001b[1;34m()\u001b[0m\n\u001b[0;32m      1\u001b[0m \u001b[38;5;66;03m# use k-means to cluster the data samples and select a proportion of data from each cluster\u001b[39;00m\n\u001b[0;32m      2\u001b[0m \u001b[38;5;28;01mfrom\u001b[39;00m \u001b[38;5;21;01msklearn\u001b[39;00m\u001b[38;5;21;01m.\u001b[39;00m\u001b[38;5;21;01mcluster\u001b[39;00m \u001b[38;5;28;01mimport\u001b[39;00m MiniBatchKMeans\n\u001b[1;32m----> 3\u001b[0m kmeans \u001b[38;5;241m=\u001b[39m MiniBatchKMeans(n_clusters\u001b[38;5;241m=\u001b[39m\u001b[38;5;241m1000\u001b[39m, random_state\u001b[38;5;241m=\u001b[39m\u001b[38;5;241m0\u001b[39m)\u001b[38;5;241m.\u001b[39mfit(\u001b[43mX\u001b[49m)\n",
      "\u001b[1;31mNameError\u001b[0m: name 'X' is not defined"
     ]
    }
   ],
   "source": [
    "# use k-means to cluster the data samples and select a proportion of data from each cluster\n",
    "from sklearn.cluster import MiniBatchKMeans\n",
    "kmeans = MiniBatchKMeans(n_clusters=1000, random_state=0).fit(X)"
   ]
  },
  {
   "cell_type": "code",
   "execution_count": 4,
   "metadata": {},
   "outputs": [
    {
     "ename": "NameError",
     "evalue": "name 'kmeans' is not defined",
     "output_type": "error",
     "traceback": [
      "\u001b[1;31m---------------------------------------------------------------------------\u001b[0m",
      "\u001b[1;31mNameError\u001b[0m                                 Traceback (most recent call last)",
      "Input \u001b[1;32mIn [4]\u001b[0m, in \u001b[0;36m<cell line: 1>\u001b[1;34m()\u001b[0m\n\u001b[1;32m----> 1\u001b[0m klabel\u001b[38;5;241m=\u001b[39m\u001b[43mkmeans\u001b[49m\u001b[38;5;241m.\u001b[39mlabels_\n\u001b[0;32m      2\u001b[0m df[\u001b[38;5;124m'\u001b[39m\u001b[38;5;124mklabel\u001b[39m\u001b[38;5;124m'\u001b[39m]\u001b[38;5;241m=\u001b[39mklabel\n",
      "\u001b[1;31mNameError\u001b[0m: name 'kmeans' is not defined"
     ]
    }
   ],
   "source": [
    "klabel=kmeans.labels_\n",
    "df['klabel']=klabel"
   ]
  },
  {
   "cell_type": "code",
   "execution_count": 5,
   "metadata": {},
   "outputs": [
    {
     "ename": "NameError",
     "evalue": "name 'df' is not defined",
     "output_type": "error",
     "traceback": [
      "\u001b[1;31m---------------------------------------------------------------------------\u001b[0m",
      "\u001b[1;31mNameError\u001b[0m                                 Traceback (most recent call last)",
      "Input \u001b[1;32mIn [5]\u001b[0m, in \u001b[0;36m<cell line: 1>\u001b[1;34m()\u001b[0m\n\u001b[1;32m----> 1\u001b[0m \u001b[43mdf\u001b[49m[\u001b[38;5;124m'\u001b[39m\u001b[38;5;124mklabel\u001b[39m\u001b[38;5;124m'\u001b[39m]\u001b[38;5;241m.\u001b[39mvalue_counts()\n",
      "\u001b[1;31mNameError\u001b[0m: name 'df' is not defined"
     ]
    }
   ],
   "source": [
    "df['klabel'].value_counts()"
   ]
  },
  {
   "cell_type": "code",
   "execution_count": 16,
   "metadata": {},
   "outputs": [],
   "source": [
    "cols = list(df)\n",
    "cols.insert(81, cols.pop(cols.index('Cat')))\n",
    "df = df.loc[:, cols]"
   ]
  },
  {
   "cell_type": "code",
   "execution_count": 17,
   "metadata": {},
   "outputs": [],
   "source": [
    "def typicalSampling(group):\n",
    "    name = group.name\n",
    "    frac = 0.04 #0.008\n",
    "    return group.sample(frac=frac)\n",
    "\n",
    "result = df.groupby(\n",
    "    'klabel', group_keys=False\n",
    ").apply(typicalSampling)"
   ]
  },
  {
   "cell_type": "code",
   "execution_count": 18,
   "metadata": {},
   "outputs": [
    {
     "data": {
      "text/plain": [
       "2    16641\n",
       "4     3005\n",
       "0     2379\n",
       "3     1603\n",
       "1     1400\n",
       "Name: Cat, dtype: int64"
      ]
     },
     "execution_count": 18,
     "metadata": {},
     "output_type": "execute_result"
    }
   ],
   "source": [
    "result['Cat'].value_counts()"
   ]
  },
  {
   "cell_type": "code",
   "execution_count": 19,
   "metadata": {},
   "outputs": [
    {
     "data": {
      "text/html": [
       "<div>\n",
       "<style scoped>\n",
       "    .dataframe tbody tr th:only-of-type {\n",
       "        vertical-align: middle;\n",
       "    }\n",
       "\n",
       "    .dataframe tbody tr th {\n",
       "        vertical-align: top;\n",
       "    }\n",
       "\n",
       "    .dataframe thead th {\n",
       "        text-align: right;\n",
       "    }\n",
       "</style>\n",
       "<table border=\"1\" class=\"dataframe\">\n",
       "  <thead>\n",
       "    <tr style=\"text-align: right;\">\n",
       "      <th></th>\n",
       "      <th>Src_Port</th>\n",
       "      <th>Dst_Port</th>\n",
       "      <th>Protocol</th>\n",
       "      <th>Flow_Duration</th>\n",
       "      <th>Tot_Fwd_Pkts</th>\n",
       "      <th>Tot_Bwd_Pkts</th>\n",
       "      <th>TotLen_Fwd_Pkts</th>\n",
       "      <th>TotLen_Bwd_Pkts</th>\n",
       "      <th>Fwd_Pkt_Len_Max</th>\n",
       "      <th>Fwd_Pkt_Len_Min</th>\n",
       "      <th>...</th>\n",
       "      <th>Active_Std</th>\n",
       "      <th>Active_Max</th>\n",
       "      <th>Active_Min</th>\n",
       "      <th>Idle_Mean</th>\n",
       "      <th>Idle_Std</th>\n",
       "      <th>Idle_Max</th>\n",
       "      <th>Idle_Min</th>\n",
       "      <th>Label</th>\n",
       "      <th>klabel</th>\n",
       "      <th>Cat</th>\n",
       "    </tr>\n",
       "  </thead>\n",
       "  <tbody>\n",
       "    <tr>\n",
       "      <th>443865</th>\n",
       "      <td>0.163983</td>\n",
       "      <td>-0.908473</td>\n",
       "      <td>-0.738205</td>\n",
       "      <td>-0.141395</td>\n",
       "      <td>-0.388765</td>\n",
       "      <td>0.435813</td>\n",
       "      <td>-0.491223</td>\n",
       "      <td>1.135676</td>\n",
       "      <td>-0.633481</td>\n",
       "      <td>-0.591889</td>\n",
       "      <td>...</td>\n",
       "      <td>-0.017052</td>\n",
       "      <td>-0.047774</td>\n",
       "      <td>-0.054003</td>\n",
       "      <td>-0.171089</td>\n",
       "      <td>-0.045443</td>\n",
       "      <td>-0.146709</td>\n",
       "      <td>-0.168882</td>\n",
       "      <td>0</td>\n",
       "      <td>0</td>\n",
       "      <td>2</td>\n",
       "    </tr>\n",
       "    <tr>\n",
       "      <th>315362</th>\n",
       "      <td>0.157026</td>\n",
       "      <td>-0.908473</td>\n",
       "      <td>-0.738205</td>\n",
       "      <td>-0.146829</td>\n",
       "      <td>-0.388765</td>\n",
       "      <td>0.435813</td>\n",
       "      <td>-0.491223</td>\n",
       "      <td>1.135676</td>\n",
       "      <td>-0.633481</td>\n",
       "      <td>-0.591889</td>\n",
       "      <td>...</td>\n",
       "      <td>-0.017052</td>\n",
       "      <td>-0.047774</td>\n",
       "      <td>-0.054003</td>\n",
       "      <td>-0.180081</td>\n",
       "      <td>-0.045443</td>\n",
       "      <td>-0.153337</td>\n",
       "      <td>-0.178717</td>\n",
       "      <td>0</td>\n",
       "      <td>0</td>\n",
       "      <td>2</td>\n",
       "    </tr>\n",
       "    <tr>\n",
       "      <th>55376</th>\n",
       "      <td>0.157026</td>\n",
       "      <td>-0.908473</td>\n",
       "      <td>-0.738205</td>\n",
       "      <td>-0.145113</td>\n",
       "      <td>-0.388765</td>\n",
       "      <td>0.435813</td>\n",
       "      <td>-0.491223</td>\n",
       "      <td>1.135676</td>\n",
       "      <td>-0.633481</td>\n",
       "      <td>-0.591889</td>\n",
       "      <td>...</td>\n",
       "      <td>-0.017052</td>\n",
       "      <td>-0.047774</td>\n",
       "      <td>-0.054003</td>\n",
       "      <td>-0.177242</td>\n",
       "      <td>-0.045443</td>\n",
       "      <td>-0.151244</td>\n",
       "      <td>-0.175611</td>\n",
       "      <td>0</td>\n",
       "      <td>0</td>\n",
       "      <td>2</td>\n",
       "    </tr>\n",
       "    <tr>\n",
       "      <th>400308</th>\n",
       "      <td>0.167139</td>\n",
       "      <td>-0.908473</td>\n",
       "      <td>-0.738205</td>\n",
       "      <td>-0.139965</td>\n",
       "      <td>-0.388765</td>\n",
       "      <td>0.435813</td>\n",
       "      <td>-0.491223</td>\n",
       "      <td>1.135676</td>\n",
       "      <td>-0.633481</td>\n",
       "      <td>-0.591889</td>\n",
       "      <td>...</td>\n",
       "      <td>-0.017052</td>\n",
       "      <td>-0.047774</td>\n",
       "      <td>-0.054003</td>\n",
       "      <td>-0.168723</td>\n",
       "      <td>-0.045443</td>\n",
       "      <td>-0.144965</td>\n",
       "      <td>-0.166294</td>\n",
       "      <td>0</td>\n",
       "      <td>0</td>\n",
       "      <td>2</td>\n",
       "    </tr>\n",
       "    <tr>\n",
       "      <th>70457</th>\n",
       "      <td>0.164064</td>\n",
       "      <td>-0.908473</td>\n",
       "      <td>-0.738205</td>\n",
       "      <td>-0.147687</td>\n",
       "      <td>-0.388765</td>\n",
       "      <td>0.435813</td>\n",
       "      <td>-0.491223</td>\n",
       "      <td>1.135676</td>\n",
       "      <td>-0.633481</td>\n",
       "      <td>-0.591889</td>\n",
       "      <td>...</td>\n",
       "      <td>-0.017052</td>\n",
       "      <td>-0.047774</td>\n",
       "      <td>-0.054003</td>\n",
       "      <td>-0.181501</td>\n",
       "      <td>-0.045443</td>\n",
       "      <td>-0.154384</td>\n",
       "      <td>-0.180270</td>\n",
       "      <td>0</td>\n",
       "      <td>0</td>\n",
       "      <td>2</td>\n",
       "    </tr>\n",
       "    <tr>\n",
       "      <th>...</th>\n",
       "      <td>...</td>\n",
       "      <td>...</td>\n",
       "      <td>...</td>\n",
       "      <td>...</td>\n",
       "      <td>...</td>\n",
       "      <td>...</td>\n",
       "      <td>...</td>\n",
       "      <td>...</td>\n",
       "      <td>...</td>\n",
       "      <td>...</td>\n",
       "      <td>...</td>\n",
       "      <td>...</td>\n",
       "      <td>...</td>\n",
       "      <td>...</td>\n",
       "      <td>...</td>\n",
       "      <td>...</td>\n",
       "      <td>...</td>\n",
       "      <td>...</td>\n",
       "      <td>...</td>\n",
       "      <td>...</td>\n",
       "      <td>...</td>\n",
       "    </tr>\n",
       "    <tr>\n",
       "      <th>48524</th>\n",
       "      <td>-1.051984</td>\n",
       "      <td>2.070041</td>\n",
       "      <td>-0.738205</td>\n",
       "      <td>-0.157696</td>\n",
       "      <td>-0.156745</td>\n",
       "      <td>-0.384201</td>\n",
       "      <td>0.703399</td>\n",
       "      <td>0.264886</td>\n",
       "      <td>1.606761</td>\n",
       "      <td>1.768006</td>\n",
       "      <td>...</td>\n",
       "      <td>-0.017052</td>\n",
       "      <td>-0.047774</td>\n",
       "      <td>-0.054003</td>\n",
       "      <td>-0.198065</td>\n",
       "      <td>-0.045443</td>\n",
       "      <td>-0.166594</td>\n",
       "      <td>-0.198386</td>\n",
       "      <td>0</td>\n",
       "      <td>999</td>\n",
       "      <td>4</td>\n",
       "    </tr>\n",
       "    <tr>\n",
       "      <th>302238</th>\n",
       "      <td>-1.051984</td>\n",
       "      <td>2.069300</td>\n",
       "      <td>-0.738205</td>\n",
       "      <td>-0.158840</td>\n",
       "      <td>-0.156745</td>\n",
       "      <td>-0.384201</td>\n",
       "      <td>0.703399</td>\n",
       "      <td>0.264886</td>\n",
       "      <td>1.606761</td>\n",
       "      <td>1.768006</td>\n",
       "      <td>...</td>\n",
       "      <td>-0.017052</td>\n",
       "      <td>-0.047774</td>\n",
       "      <td>-0.054003</td>\n",
       "      <td>-0.199959</td>\n",
       "      <td>-0.045443</td>\n",
       "      <td>-0.167989</td>\n",
       "      <td>-0.200457</td>\n",
       "      <td>0</td>\n",
       "      <td>999</td>\n",
       "      <td>4</td>\n",
       "    </tr>\n",
       "    <tr>\n",
       "      <th>150245</th>\n",
       "      <td>-1.051984</td>\n",
       "      <td>2.071295</td>\n",
       "      <td>-0.738205</td>\n",
       "      <td>-0.158840</td>\n",
       "      <td>-0.156745</td>\n",
       "      <td>-0.384201</td>\n",
       "      <td>0.703399</td>\n",
       "      <td>0.264886</td>\n",
       "      <td>1.606761</td>\n",
       "      <td>1.768006</td>\n",
       "      <td>...</td>\n",
       "      <td>-0.017052</td>\n",
       "      <td>-0.047774</td>\n",
       "      <td>-0.054003</td>\n",
       "      <td>-0.199959</td>\n",
       "      <td>-0.045443</td>\n",
       "      <td>-0.167989</td>\n",
       "      <td>-0.200457</td>\n",
       "      <td>0</td>\n",
       "      <td>999</td>\n",
       "      <td>4</td>\n",
       "    </tr>\n",
       "    <tr>\n",
       "      <th>623609</th>\n",
       "      <td>-1.051984</td>\n",
       "      <td>2.071295</td>\n",
       "      <td>-0.738205</td>\n",
       "      <td>-0.156552</td>\n",
       "      <td>-0.156745</td>\n",
       "      <td>-0.384201</td>\n",
       "      <td>0.703399</td>\n",
       "      <td>0.264886</td>\n",
       "      <td>1.606761</td>\n",
       "      <td>1.768006</td>\n",
       "      <td>...</td>\n",
       "      <td>-0.017052</td>\n",
       "      <td>-0.047774</td>\n",
       "      <td>-0.054003</td>\n",
       "      <td>-0.196172</td>\n",
       "      <td>-0.045443</td>\n",
       "      <td>-0.165198</td>\n",
       "      <td>-0.196316</td>\n",
       "      <td>0</td>\n",
       "      <td>999</td>\n",
       "      <td>4</td>\n",
       "    </tr>\n",
       "    <tr>\n",
       "      <th>542241</th>\n",
       "      <td>-1.051984</td>\n",
       "      <td>2.070041</td>\n",
       "      <td>-0.738205</td>\n",
       "      <td>-0.156266</td>\n",
       "      <td>-0.156745</td>\n",
       "      <td>-0.384201</td>\n",
       "      <td>0.703399</td>\n",
       "      <td>0.264886</td>\n",
       "      <td>1.606761</td>\n",
       "      <td>1.768006</td>\n",
       "      <td>...</td>\n",
       "      <td>-0.017052</td>\n",
       "      <td>-0.047774</td>\n",
       "      <td>-0.054003</td>\n",
       "      <td>-0.195699</td>\n",
       "      <td>-0.045443</td>\n",
       "      <td>-0.164849</td>\n",
       "      <td>-0.195798</td>\n",
       "      <td>0</td>\n",
       "      <td>999</td>\n",
       "      <td>4</td>\n",
       "    </tr>\n",
       "  </tbody>\n",
       "</table>\n",
       "<p>25028 rows × 82 columns</p>\n",
       "</div>"
      ],
      "text/plain": [
       "        Src_Port  Dst_Port  Protocol  Flow_Duration  Tot_Fwd_Pkts  \\\n",
       "443865  0.163983 -0.908473 -0.738205      -0.141395     -0.388765   \n",
       "315362  0.157026 -0.908473 -0.738205      -0.146829     -0.388765   \n",
       "55376   0.157026 -0.908473 -0.738205      -0.145113     -0.388765   \n",
       "400308  0.167139 -0.908473 -0.738205      -0.139965     -0.388765   \n",
       "70457   0.164064 -0.908473 -0.738205      -0.147687     -0.388765   \n",
       "...          ...       ...       ...            ...           ...   \n",
       "48524  -1.051984  2.070041 -0.738205      -0.157696     -0.156745   \n",
       "302238 -1.051984  2.069300 -0.738205      -0.158840     -0.156745   \n",
       "150245 -1.051984  2.071295 -0.738205      -0.158840     -0.156745   \n",
       "623609 -1.051984  2.071295 -0.738205      -0.156552     -0.156745   \n",
       "542241 -1.051984  2.070041 -0.738205      -0.156266     -0.156745   \n",
       "\n",
       "        Tot_Bwd_Pkts  TotLen_Fwd_Pkts  TotLen_Bwd_Pkts  Fwd_Pkt_Len_Max  \\\n",
       "443865      0.435813        -0.491223         1.135676        -0.633481   \n",
       "315362      0.435813        -0.491223         1.135676        -0.633481   \n",
       "55376       0.435813        -0.491223         1.135676        -0.633481   \n",
       "400308      0.435813        -0.491223         1.135676        -0.633481   \n",
       "70457       0.435813        -0.491223         1.135676        -0.633481   \n",
       "...              ...              ...              ...              ...   \n",
       "48524      -0.384201         0.703399         0.264886         1.606761   \n",
       "302238     -0.384201         0.703399         0.264886         1.606761   \n",
       "150245     -0.384201         0.703399         0.264886         1.606761   \n",
       "623609     -0.384201         0.703399         0.264886         1.606761   \n",
       "542241     -0.384201         0.703399         0.264886         1.606761   \n",
       "\n",
       "        Fwd_Pkt_Len_Min  ...  Active_Std  Active_Max  Active_Min  Idle_Mean  \\\n",
       "443865        -0.591889  ...   -0.017052   -0.047774   -0.054003  -0.171089   \n",
       "315362        -0.591889  ...   -0.017052   -0.047774   -0.054003  -0.180081   \n",
       "55376         -0.591889  ...   -0.017052   -0.047774   -0.054003  -0.177242   \n",
       "400308        -0.591889  ...   -0.017052   -0.047774   -0.054003  -0.168723   \n",
       "70457         -0.591889  ...   -0.017052   -0.047774   -0.054003  -0.181501   \n",
       "...                 ...  ...         ...         ...         ...        ...   \n",
       "48524          1.768006  ...   -0.017052   -0.047774   -0.054003  -0.198065   \n",
       "302238         1.768006  ...   -0.017052   -0.047774   -0.054003  -0.199959   \n",
       "150245         1.768006  ...   -0.017052   -0.047774   -0.054003  -0.199959   \n",
       "623609         1.768006  ...   -0.017052   -0.047774   -0.054003  -0.196172   \n",
       "542241         1.768006  ...   -0.017052   -0.047774   -0.054003  -0.195699   \n",
       "\n",
       "        Idle_Std  Idle_Max  Idle_Min  Label  klabel  Cat  \n",
       "443865 -0.045443 -0.146709 -0.168882      0       0    2  \n",
       "315362 -0.045443 -0.153337 -0.178717      0       0    2  \n",
       "55376  -0.045443 -0.151244 -0.175611      0       0    2  \n",
       "400308 -0.045443 -0.144965 -0.166294      0       0    2  \n",
       "70457  -0.045443 -0.154384 -0.180270      0       0    2  \n",
       "...          ...       ...       ...    ...     ...  ...  \n",
       "48524  -0.045443 -0.166594 -0.198386      0     999    4  \n",
       "302238 -0.045443 -0.167989 -0.200457      0     999    4  \n",
       "150245 -0.045443 -0.167989 -0.200457      0     999    4  \n",
       "623609 -0.045443 -0.165198 -0.196316      0     999    4  \n",
       "542241 -0.045443 -0.164849 -0.195798      0     999    4  \n",
       "\n",
       "[25028 rows x 82 columns]"
      ]
     },
     "execution_count": 19,
     "metadata": {},
     "output_type": "execute_result"
    }
   ],
   "source": [
    "result"
   ]
  },
  {
   "cell_type": "code",
   "execution_count": 20,
   "metadata": {},
   "outputs": [],
   "source": [
    "result = result.drop(['klabel'],axis=1)\n",
    "#result = result.append(df_minor)"
   ]
  },
  {
   "cell_type": "code",
   "execution_count": 21,
   "metadata": {},
   "outputs": [],
   "source": [
    "result.to_csv('./data/IoTID20_sample_km.csv',index=0)"
   ]
  },
  {
   "cell_type": "code",
   "execution_count": 22,
   "metadata": {},
   "outputs": [],
   "source": [
    "df=pd.read_csv('./data/IoTID20_sample_km.csv')"
   ]
  },
  {
   "cell_type": "code",
   "execution_count": 23,
   "metadata": {},
   "outputs": [],
   "source": [
    "X = df.drop(['Cat'],axis=1).values\n",
    "y = df.iloc[:, -1].values.reshape(-1,1)\n",
    "y=np.ravel(y)"
   ]
  },
  {
   "cell_type": "code",
   "execution_count": 24,
   "metadata": {},
   "outputs": [],
   "source": [
    "X_train, X_test, y_train, y_test = train_test_split(X,y, train_size = 0.8, test_size = 0.2, random_state = 0,stratify = y)"
   ]
  },
  {
   "cell_type": "code",
   "execution_count": null,
   "metadata": {},
   "outputs": [],
   "source": []
  },
  {
   "cell_type": "code",
   "execution_count": null,
   "metadata": {},
   "outputs": [],
   "source": [
    "# Prepare the result output\n",
    "output_df = pd.DataFrame(columns=['Accuracy', 'Precision', 'Recall', 'F1-Score', 'Train_time', 'Predict_time_per_record', 'HPO_time'])\n",
    "output_index = list()"
   ]
  },
  {
   "cell_type": "code",
   "execution_count": null,
   "metadata": {},
   "outputs": [],
   "source": []
  },
  {
   "cell_type": "code",
   "execution_count": 25,
   "metadata": {},
   "outputs": [],
   "source": [
    "from sklearn.feature_selection import mutual_info_classif\n",
    "importances = mutual_info_classif(X_train, y_train)"
   ]
  },
  {
   "cell_type": "code",
   "execution_count": 26,
   "metadata": {},
   "outputs": [],
   "source": [
    "# calculate the sum of importance scores\n",
    "f_list = sorted(zip(map(lambda x: round(x, 4), importances), features), reverse=True)\n",
    "Sum = 0\n",
    "fs = []\n",
    "for i in range(0, len(f_list)):\n",
    "    Sum = Sum + f_list[i][0]\n",
    "    fs.append(f_list[i][1])"
   ]
  },
  {
   "cell_type": "code",
   "execution_count": 27,
   "metadata": {},
   "outputs": [],
   "source": [
    "# select the important features from top to bottom until the accumulated importance reaches 90%\n",
    "f_list2 = sorted(zip(map(lambda x: round(x, 4), importances/Sum), features), reverse=True)\n",
    "Sum2 = 0\n",
    "fs = []\n",
    "for i in range(0, len(f_list2)):\n",
    "    Sum2 = Sum2 + f_list2[i][0]\n",
    "    fs.append(f_list2[i][1])\n",
    "    if Sum2>=0.9:\n",
    "        break        "
   ]
  },
  {
   "cell_type": "code",
   "execution_count": 28,
   "metadata": {},
   "outputs": [],
   "source": [
    "X_fs = df[fs].values"
   ]
  },
  {
   "cell_type": "code",
   "execution_count": 29,
   "metadata": {},
   "outputs": [
    {
     "data": {
      "text/plain": [
       "(25028, 39)"
      ]
     },
     "execution_count": 29,
     "metadata": {},
     "output_type": "execute_result"
    }
   ],
   "source": [
    "X_fs.shape"
   ]
  },
  {
   "cell_type": "code",
   "execution_count": 31,
   "metadata": {},
   "outputs": [],
   "source": [
    "from FCBF_module import FCBF, FCBFK, FCBFiP, get_i\n",
    "fcbf = FCBFK(k = 20)\n",
    "#fcbf.fit(X_fs, y)"
   ]
  },
  {
   "cell_type": "code",
   "execution_count": 32,
   "metadata": {},
   "outputs": [],
   "source": [
    "start_time = time.time()\n",
    "X_fss = fcbf.fit_transform(X_fs,y)\n",
    "end_time = time.time()"
   ]
  },
  {
   "cell_type": "markdown",
   "metadata": {},
   "source": [
    "### 把FCBF添加到df中"
   ]
  },
  {
   "cell_type": "code",
   "execution_count": 42,
   "metadata": {},
   "outputs": [
    {
     "name": "stderr",
     "output_type": "stream",
     "text": [
      "C:\\Users\\FOCUS\\AppData\\Local\\Temp\\ipykernel_5504\\2143444498.py:9: FutureWarning: The frame.append method is deprecated and will be removed from pandas in a future version. Use pandas.concat instead.\n",
      "  output_df = output_df.append(result_dict, ignore_index=True)\n"
     ]
    }
   ],
   "source": [
    "# Add to output sheet\n",
    "result_dict = {\n",
    "    'Accuracy': np.NaN,\n",
    "    'Precision': np.NaN,\n",
    "    'Recall': np.NaN,\n",
    "    'F1-Score': np.NaN,\n",
    "    'Train_time': t2-t1,\n",
    "    'Predict_time_per_record': np.NaN,\n",
    "    'HPO_time': np.NaN\n",
    "}\n",
    "output_df = output_df.append(result_dict, ignore_index=True)\n",
    "# Add index name\n",
    "output_index.append('FCBF')"
   ]
  },
  {
   "cell_type": "code",
   "execution_count": null,
   "metadata": {},
   "outputs": [],
   "source": []
  },
  {
   "cell_type": "code",
   "execution_count": 33,
   "metadata": {},
   "outputs": [
    {
     "data": {
      "text/plain": [
       "(25028, 20)"
      ]
     },
     "execution_count": 33,
     "metadata": {},
     "output_type": "execute_result"
    }
   ],
   "source": [
    "X_fss.shape"
   ]
  },
  {
   "cell_type": "code",
   "execution_count": 34,
   "metadata": {},
   "outputs": [],
   "source": [
    "X_train, X_test, y_train, y_test = train_test_split(X_fss,y, train_size = 0.8, test_size = 0.2, random_state = 0,stratify = y)"
   ]
  },
  {
   "cell_type": "code",
   "execution_count": 35,
   "metadata": {},
   "outputs": [
    {
     "data": {
      "text/plain": [
       "(20022, 20)"
      ]
     },
     "execution_count": 35,
     "metadata": {},
     "output_type": "execute_result"
    }
   ],
   "source": [
    "X_train.shape"
   ]
  },
  {
   "cell_type": "code",
   "execution_count": 36,
   "metadata": {},
   "outputs": [
    {
     "data": {
      "text/plain": [
       "2    13313\n",
       "4     2404\n",
       "0     1903\n",
       "3     1282\n",
       "1     1120\n",
       "dtype: int64"
      ]
     },
     "execution_count": 36,
     "metadata": {},
     "output_type": "execute_result"
    }
   ],
   "source": [
    "pd.Series(y_train).value_counts()"
   ]
  },
  {
   "cell_type": "code",
   "execution_count": 37,
   "metadata": {},
   "outputs": [],
   "source": [
    "X_combined = np.concatenate((X_train, X_test), axis=0)\n",
    "y_combined = np.concatenate((y_train, y_test), axis=0)"
   ]
  },
  {
   "cell_type": "markdown",
   "metadata": {},
   "source": [
    "## Machine learning model training"
   ]
  },
  {
   "cell_type": "markdown",
   "metadata": {},
   "source": [
    "### Training four base learners: decision tree, random forest, extra trees, XGBoost"
   ]
  },
  {
   "cell_type": "code",
   "execution_count": null,
   "metadata": {},
   "outputs": [],
   "source": [
    "# The length of the test set for prediction time measurement\n",
    "len_test = X_test.shape[0]\n",
    "# Prepare the output dir\n",
    "output_dir = 'output/MTH-IDS/output-{}'.format(datetime.datetime.now().strftime('%y%m%d-%H%M%S'))\n",
    "img_dir = os.path.join(output_dir, 'img')\n",
    "os.makedirs(img_dir)\n",
    "# Prepare the log file\n",
    "log_file = open(os.path.join(output_dir, 'classification_report-{}'.format(datetime.datetime.now().strftime('%y%m%d-%H%M%S'))), 'w+')"
   ]
  },
  {
   "cell_type": "markdown",
   "metadata": {},
   "source": [
    "#### Apply XGBoost"
   ]
  },
  {
   "cell_type": "code",
   "execution_count": 38,
   "metadata": {},
   "outputs": [
    {
     "name": "stdout",
     "output_type": "stream",
     "text": [
      "Accuracy of XGBoost: 0.9770275669196964\n",
      "Precision of XGBoost: 0.976964090594952\n",
      "Recall of XGBoost: 0.9770275669196964\n",
      "F1-score of XGBoost: 0.976540536657341\n",
      "              precision    recall  f1-score   support\n",
      "\n",
      "           0       1.00      0.99      0.99       476\n",
      "           1       0.94      0.81      0.87       280\n",
      "           2       0.97      1.00      0.98      3328\n",
      "           3       0.99      0.96      0.98       321\n",
      "           4       0.99      0.94      0.97       601\n",
      "\n",
      "    accuracy                           0.98      5006\n",
      "   macro avg       0.98      0.94      0.96      5006\n",
      "weighted avg       0.98      0.98      0.98      5006\n",
      "\n"
     ]
    },
    {
     "data": {
      "image/png": "[encoded data removed]",
      "text/plain": [
       "<Figure size 360x360 with 2 Axes>"
      ]
     },
     "metadata": {
      "needs_background": "light"
     },
     "output_type": "display_data"
    }
   ],
   "source": [
    "xg = xgb.XGBClassifier(n_estimators = 10)\n",
    "t1 = time.time()\n",
    "xg.fit(X_train,y_train)\n",
    "t2 = time.time()\n",
    "xg_score=xg.score(X_test,y_test)\n",
    "t3 = time.time()\n",
    "y_predict=xg.predict(X_test)\n",
    "t4 = time.time()\n",
    "y_true=y_test\n",
    "print('Accuracy of XGBoost: '+ str(xg_score))\n",
    "precision,recall,fscore,none= precision_recall_fscore_support(y_true, y_predict, average='weighted') \n",
    "print('Precision of XGBoost: '+(str(precision)))\n",
    "print('Recall of XGBoost: '+(str(recall)))\n",
    "print('F1-score of XGBoost: '+(str(fscore)))\n",
    "report_str = classification_report(y_true,y_predict); log_file.write('******{}******\\n'.format('XGBoost (Original)')+report_str+'\\n'); print(report_str)\n",
    "cm=confusion_matrix(y_true,y_predict)\n",
    "f,ax=plt.subplots(figsize=(18,14))\n",
    "sns.heatmap(cm,annot=True,linewidth=1,linecolor=\"red\",fmt=\".0f\",ax=ax)\n",
    "ax.set_xticklabels(label_names)\n",
    "ax.set_yticklabels(list(reversed(label_names)))\n",
    "plt.xlabel(\"y_pred\")\n",
    "plt.ylabel(\"y_true\")\n",
    "plt.savefig(os.path.join(img_dir, 'XGBoost_original.pdf'))\n",
    "plt.show()"
   ]
  },
  {
   "cell_type": "code",
   "execution_count": 43,
   "metadata": {},
   "outputs": [
    {
     "name": "stderr",
     "output_type": "stream",
     "text": [
      "C:\\Users\\FOCUS\\AppData\\Local\\Temp\\ipykernel_5504\\1520904103.py:9: FutureWarning: The frame.append method is deprecated and will be removed from pandas in a future version. Use pandas.concat instead.\n",
      "  output_df = output_df.append(result_dict, ignore_index=True)\n"
     ]
    }
   ],
   "source": [
    "# Add to output sheet\n",
    "result_dict = {\n",
    "    'Accuracy': xg_score,\n",
    "    'Precision': precision,\n",
    "    'Recall': recall,\n",
    "    'F1-Score': fscore,\n",
    "    'Time': end_time-start_time\n",
    "}\n",
    "output_df = output_df.append(result_dict, ignore_index=True)\n",
    "# Add index name\n",
    "output_index.append('XGBoost (Original)')"
   ]
  },
  {
   "cell_type": "markdown",
   "metadata": {},
   "source": [
    "#### Hyperparameter optimization (HPO) of XGBoost using Bayesian optimization with tree-based Parzen estimator (BO-TPE)\n",
    "Based on the GitHub repo for HPO: https://github.com/LiYangHart/Hyperparameter-Optimization-of-Machine-Learning-Algorithms"
   ]
  },
  {
   "cell_type": "code",
   "execution_count": 44,
   "metadata": {},
   "outputs": [
    {
     "name": "stdout",
     "output_type": "stream",
     "text": [
      "100%|███████████████████████████████████████████████| 20/20 [00:20<00:00,  1.02s/trial, best loss: -0.9902117459049141]\n",
      "XGBoost: Hyperopt estimated optimum {'learning_rate': 1.0531782847176068, 'max_depth': 84.0, 'n_estimators': 90.0}\n"
     ]
    }
   ],
   "source": [
    "from hyperopt import hp, fmin, tpe, STATUS_OK, Trials\n",
    "from sklearn.model_selection import cross_val_score, StratifiedKFold\n",
    "def objective(params):\n",
    "    params = {\n",
    "        'n_estimators': int(params['n_estimators']), \n",
    "        'max_depth': int(params['max_depth']),\n",
    "        'learning_rate':  abs(float(params['learning_rate'])),\n",
    "\n",
    "    }\n",
    "    clf = xgb.XGBClassifier( **params)\n",
    "    clf.fit(X_train, y_train)\n",
    "    y_pred = clf.predict(X_test)\n",
    "    score = accuracy_score(y_test, y_pred)\n",
    "\n",
    "    return {'loss':-score, 'status': STATUS_OK }\n",
    "\n",
    "space = {\n",
    "    'n_estimators': hp.quniform('n_estimators', 10, 100, 5),\n",
    "    'max_depth': hp.quniform('max_depth', 4, 100, 1),\n",
    "    'learning_rate': hp.normal('learning_rate', 0.01, 0.9),\n",
    "}\n",
    "\n",
    "start_time = time.time()\n",
    "\n",
    "best = fmin(fn=objective,\n",
    "            space=space,\n",
    "            algo=tpe.suggest,\n",
    "            max_evals=20)\n",
    "\n",
    "end_time = time.time()\n",
    "\n",
    "print(\"XGBoost: Hyperopt estimated optimum {}\".format(best))"
   ]
  },
  {
   "cell_type": "code",
   "execution_count": 45,
   "metadata": {},
   "outputs": [
    {
     "name": "stdout",
     "output_type": "stream",
     "text": [
      "Accuracy of XGBoost: 0.9902117459049141\n",
      "Precision of XGBoost: 0.9901616829282035\n",
      "Recall of XGBoost: 0.9902117459049141\n",
      "F1-score of XGBoost: 0.9901472948051812\n",
      "              precision    recall  f1-score   support\n",
      "\n",
      "           0       1.00      1.00      1.00       476\n",
      "           1       0.96      0.93      0.94       280\n",
      "           2       0.99      1.00      0.99      3328\n",
      "           3       1.00      0.98      0.99       321\n",
      "           4       0.99      0.98      0.99       601\n",
      "\n",
      "    accuracy                           0.99      5006\n",
      "   macro avg       0.99      0.98      0.98      5006\n",
      "weighted avg       0.99      0.99      0.99      5006\n",
      "\n"
     ]
    },
    {
     "data": {
      "image/png": "[encoded data removed]",
      "text/plain": [
       "<Figure size 360x360 with 2 Axes>"
      ]
     },
     "metadata": {
      "needs_background": "light"
     },
     "output_type": "display_data"
    }
   ],
   "source": [
    "params = {\n",
    "    'n_estimators': int(best['n_estimators']), \n",
    "    'max_depth': int(best['max_depth']),\n",
    "    'learning_rate':  abs(float(best['learning_rate'])),\n",
    "}\n",
    "xg = xgb.XGBClassifier(**params)\n",
    "xg.fit(X_train,y_train)\n",
    "xg_score=xg.score(X_test,y_test)\n",
    "y_predict=xg.predict(X_test)\n",
    "y_true=y_test\n",
    "print('Accuracy of XGBoost: '+ str(xg_score))\n",
    "precision,recall,fscore,none= precision_recall_fscore_support(y_true, y_predict, average='weighted') \n",
    "print('Precision of XGBoost: '+(str(precision)))\n",
    "print('Recall of XGBoost: '+(str(recall)))\n",
    "print('F1-score of XGBoost: '+(str(fscore)))\n",
    "print(classification_report(y_true,y_predict))\n",
    "cm=confusion_matrix(y_true,y_predict)\n",
    "f,ax=plt.subplots(figsize=(5,5))\n",
    "sns.heatmap(cm,annot=True,linewidth=0.5,linecolor=\"red\",fmt=\".0f\",ax=ax)\n",
    "plt.xlabel(\"y_pred\")\n",
    "plt.ylabel(\"y_true\")\n",
    "plt.show()"
   ]
  },
  {
   "cell_type": "code",
   "execution_count": 46,
   "metadata": {},
   "outputs": [
    {
     "name": "stderr",
     "output_type": "stream",
     "text": [
      "C:\\Users\\FOCUS\\AppData\\Local\\Temp\\ipykernel_5504\\2706711560.py:9: FutureWarning: The frame.append method is deprecated and will be removed from pandas in a future version. Use pandas.concat instead.\n",
      "  output_df = output_df.append(result_dict, ignore_index=True)\n"
     ]
    }
   ],
   "source": [
    "# Add to output sheet\n",
    "result_dict = {\n",
    "    'Accuracy': xg_score,\n",
    "    'Precision': precision,\n",
    "    'Recall': recall,\n",
    "    'F1-Score': fscore,\n",
    "    'Time': end_time-start_time\n",
    "}\n",
    "output_df = output_df.append(result_dict, ignore_index=True)\n",
    "# Add index name\n",
    "output_index.append('XGBoost (BO-TPE)')"
   ]
  },
  {
   "cell_type": "code",
   "execution_count": 47,
   "metadata": {},
   "outputs": [],
   "source": [
    "xg_train=xg.predict(X_train)\n",
    "xg_test=xg.predict(X_test)"
   ]
  },
  {
   "cell_type": "markdown",
   "metadata": {},
   "source": [
    "#### Hyperparameter optimization (HPO) of XGBoost using Particle Swarm Optimization (PSO)\n",
    "Based on the GitHub repo for HPO: https://github.com/LiYangHart/Hyperparameter-Optimization-of-Machine-Learning-Algorithms"
   ]
  },
  {
   "cell_type": "code",
   "execution_count": 48,
   "metadata": {},
   "outputs": [
    {
     "name": "stdout",
     "output_type": "stream",
     "text": [
      "{'n_estimators': 55.263671875, 'max_depth': 38.7939453125, 'learning_rate': 0.777451171875}\n",
      "Accuracy:0.9902117459049141\n"
     ]
    }
   ],
   "source": [
    "#XGBoost\n",
    "import optunity\n",
    "import optunity.metrics\n",
    "\n",
    "data= X_combined\n",
    "labels= y_combined.tolist()\n",
    "Y_train = y_train\n",
    "Y_test = y_test\n",
    "# Define the hyperparameter configuration space\n",
    "search = {\n",
    "    'n_estimators': [10, 100],\n",
    "    'max_depth': [5,50],\n",
    "    'learning_rate': [0.01, 0.9]\n",
    "}\n",
    "# Define the objective function\n",
    "@optunity.cross_validated(x=data, y=labels, num_folds=3)\n",
    "def performance(x_train, y_train, x_test, y_test,n_estimators=None, max_depth=None,learning_rate=None):\n",
    "    # fit the model\n",
    "    params = {\n",
    "        'n_estimators': int(n_estimators), \n",
    "        'max_depth': int(max_depth),\n",
    "        'learning_rate':  abs(float(learning_rate)),\n",
    "    }\n",
    "    model = xgb.XGBClassifier( **params)\n",
    "    model.fit(X_train, Y_train)\n",
    "    predictions = model.predict(X_test)\n",
    "    # scores=np.mean(cross_val_score(model, X, y, cv=3, n_jobs=-1,\n",
    "    #                                 scoring=\"accuracy\"))\n",
    "    #return optunity.metrics.roc_auc(y_test, predictions, positive=True)\n",
    "    return optunity.metrics.accuracy(Y_test, predictions)\n",
    "\n",
    "start_time = time.time()\n",
    "\n",
    "optimal_configuration, info, _ = optunity.maximize(performance,\n",
    "                                                  solver_name='particle swarm',\n",
    "                                                  num_evals=20,\n",
    "                                                   **search\n",
    "                                                  )\n",
    "\n",
    "end_time = time.time()\n",
    "\n",
    "print(optimal_configuration)\n",
    "print(\"Accuracy:\"+ str(info.optimum))"
   ]
  },
  {
   "cell_type": "code",
   "execution_count": 49,
   "metadata": {},
   "outputs": [
    {
     "name": "stdout",
     "output_type": "stream",
     "text": [
      "Accuracy of XGBoost: 0.9902117459049141\n",
      "Precision of XGBoost: 0.9901758468976449\n",
      "Recall of XGBoost: 0.9902117459049141\n",
      "F1-score of XGBoost: 0.990156030690187\n",
      "              precision    recall  f1-score   support\n",
      "\n",
      "           0       1.00      1.00      1.00       476\n",
      "           1       0.96      0.93      0.94       280\n",
      "           2       0.99      1.00      0.99      3328\n",
      "           3       1.00      0.98      0.99       321\n",
      "           4       0.99      0.98      0.99       601\n",
      "\n",
      "    accuracy                           0.99      5006\n",
      "   macro avg       0.99      0.98      0.98      5006\n",
      "weighted avg       0.99      0.99      0.99      5006\n",
      "\n"
     ]
    },
    {
     "data": {
      "image/png": "[encoded data removed]",
      "text/plain": [
       "<Figure size 360x360 with 2 Axes>"
      ]
     },
     "metadata": {
      "needs_background": "light"
     },
     "output_type": "display_data"
    }
   ],
   "source": [
    "params = {\n",
    "    'n_estimators': int(optimal_configuration['n_estimators']), \n",
    "    'max_depth': int(optimal_configuration['max_depth']), \n",
    "    'learning_rate': abs(float(optimal_configuration['learning_rate']))\n",
    "}\n",
    "xg = xgb.XGBClassifier(**params)\n",
    "xg.fit(X_train,y_train)\n",
    "xg_score=xg.score(X_test,y_test)\n",
    "y_predict=xg.predict(X_test)\n",
    "y_true=y_test\n",
    "print('Accuracy of XGBoost: '+ str(xg_score))\n",
    "precision,recall,fscore,none= precision_recall_fscore_support(y_true, y_predict, average='weighted') \n",
    "print('Precision of XGBoost: '+(str(precision)))\n",
    "print('Recall of XGBoost: '+(str(recall)))\n",
    "print('F1-score of XGBoost: '+(str(fscore)))\n",
    "print(classification_report(y_true,y_predict))\n",
    "cm=confusion_matrix(y_true,y_predict)\n",
    "f,ax=plt.subplots(figsize=(5,5))\n",
    "sns.heatmap(cm,annot=True,linewidth=0.5,linecolor=\"red\",fmt=\".0f\",ax=ax)\n",
    "plt.xlabel(\"y_pred\")\n",
    "plt.ylabel(\"y_true\")\n",
    "plt.show()"
   ]
  },
  {
   "cell_type": "code",
   "execution_count": 50,
   "metadata": {},
   "outputs": [
    {
     "name": "stderr",
     "output_type": "stream",
     "text": [
      "C:\\Users\\FOCUS\\AppData\\Local\\Temp\\ipykernel_5504\\4140367054.py:9: FutureWarning: The frame.append method is deprecated and will be removed from pandas in a future version. Use pandas.concat instead.\n",
      "  output_df = output_df.append(result_dict, ignore_index=True)\n"
     ]
    }
   ],
   "source": [
    "# Add to output sheet\n",
    "result_dict = {\n",
    "    'Accuracy': xg_score,\n",
    "    'Precision': precision,\n",
    "    'Recall': recall,\n",
    "    'F1-Score': fscore,\n",
    "    'Time': end_time-start_time\n",
    "}\n",
    "output_df = output_df.append(result_dict, ignore_index=True)\n",
    "# Add index name\n",
    "output_index.append('XGBoost (PSO)')"
   ]
  },
  {
   "cell_type": "markdown",
   "metadata": {},
   "source": [
    "#### Hyperparameter optimization (HPO) of XGBoost using Genetic Algorithm (GA)\n",
    "Based on the GitHub repo for HPO: https://github.com/LiYangHart/Hyperparameter-Optimization-of-Machine-Learning-Algorithms"
   ]
  },
  {
   "cell_type": "code",
   "execution_count": 51,
   "metadata": {},
   "outputs": [
    {
     "name": "stderr",
     "output_type": "stream",
     "text": [
      "C:\\Users\\FOCUS\\.conda\\envs\\tf2\\lib\\site-packages\\tpot\\builtins\\__init__.py:36: UserWarning: Warning: optional dependency `torch` is not available. - skipping import of NN models.\n",
      "  warnings.warn(\"Warning: optional dependency `torch` is not available. - skipping import of NN models.\")\n"
     ]
    },
    {
     "name": "stdout",
     "output_type": "stream",
     "text": [
      "1 operators have been imported by TPOT.\n",
      "                                                                                                                       \n",
      "Generation 1 - Current Pareto front scores:\n",
      "                                                                                                                       \n",
      "-1\t0.9872942831053452\tXGBClassifier(CombineDFs(input_matrix, input_matrix), XGBClassifier__learning_rate=0.71, XGBClassifier__max_depth=16, XGBClassifier__n_estimators=56)\n",
      "                                                                                                                       \n",
      "Generation 2 - Current Pareto front scores:\n",
      "                                                                                                                       \n",
      "-1\t0.9872942831053452\tXGBClassifier(CombineDFs(input_matrix, input_matrix), XGBClassifier__learning_rate=0.71, XGBClassifier__max_depth=16, XGBClassifier__n_estimators=56)\n",
      "                                                                                                                       \n",
      "Generation 3 - Current Pareto front scores:\n",
      "                                                                                                                       \n",
      "-1\t0.9872942831053452\tXGBClassifier(CombineDFs(input_matrix, input_matrix), XGBClassifier__learning_rate=0.71, XGBClassifier__max_depth=16, XGBClassifier__n_estimators=56)\n",
      "                                                                                                                       \r"
     ]
    }
   ],
   "source": [
    "#Xgboost\n",
    "from tpot import TPOTClassifier\n",
    "# Define the hyperparameter configuration space\n",
    "parameters = {\n",
    "    'n_estimators': range(10,100),\n",
    "    'max_depth': range(4,100),\n",
    "    'learning_rate': [i/100 for i in range(1, 90)]\n",
    "}\n",
    "# Set the hyperparameters of GA                 \n",
    "ga = TPOTClassifier(generations= 3, population_size= 10, offspring_size= 5,\n",
    "                                 verbosity= 3, early_stop= 5,\n",
    "                                 config_dict=\n",
    "                                 {'xgboost.XGBClassifier': parameters}, \n",
    "                                 cv = 3, scoring = 'accuracy')\n",
    "start_time = time.time()\n",
    "ga.fit(X_combined, y_combined)\n",
    "end_time = time.time()"
   ]
  },
  {
   "cell_type": "code",
   "execution_count": 52,
   "metadata": {},
   "outputs": [],
   "source": [
    "# Helper method: convert the values represented by string to its correct type\n",
    "def type_str(input_str:str):\n",
    "    # is integer\n",
    "    if input_str.isdecimal():\n",
    "        return int(input_str)\n",
    "    # is float\n",
    "    elif input_str.isdigit():\n",
    "        return float(input_str)\n",
    "    # is string\n",
    "    elif input_str.startswith('\"') and input_str.endswith('\"'):\n",
    "        # remove quotation marks\n",
    "        return input_str[1: -1]\n",
    "    else:\n",
    "        return input_str\n",
    "\n",
    "# Extract the optimized parameter from the generated pipeline\n",
    "def get_ga_optimized_parameters(fitted_tpot_obj: TPOTClassifier, classifier_name: str, temp_file_name:str='temp_ga_pipeline.py'):\n",
    "    # Export the pipeline\n",
    "    fitted_tpot_obj.export(output_file_name=temp_file_name)\n",
    "    # Read the optimized pipeline\n",
    "    with open(temp_file_name) as temp_file:\n",
    "        lines = temp_file.readlines()\n",
    "    for line in lines:\n",
    "        if classifier_name+'(' in line.strip():\n",
    "            pipeline = line\n",
    "            break\n",
    "    # Extract the optimized parameters\n",
    "    start_index = pipeline.index(classifier_name+'(')\n",
    "    end_index = pipeline.index(')')\n",
    "    parameters_str = pipeline[start_index+len(classifier_name)+1: end_index]\n",
    "    parameters = dict()\n",
    "    for temp_str in parameters_str.split(sep=','):\n",
    "        temp_list = temp_str.split('=')\n",
    "        parameters[temp_list[0].strip()] = type_str(temp_list[1].strip())\n",
    "    # Delect the temp file\n",
    "    os.remove(temp_file_name)\n",
    "    # Return the optimized parameters\n",
    "    return parameters"
   ]
  },
  {
   "cell_type": "code",
   "execution_count": 53,
   "metadata": {},
   "outputs": [
    {
     "name": "stdout",
     "output_type": "stream",
     "text": [
      "Accuracy of XGBoost: 0.9890131841789852\n",
      "Precision of XGBoost: 0.9889630089175048\n",
      "Recall of XGBoost: 0.9890131841789852\n",
      "F1-score of XGBoost: 0.988948159600958\n",
      "              precision    recall  f1-score   support\n",
      "\n",
      "           0       1.00      1.00      1.00       476\n",
      "           1       0.95      0.92      0.93       280\n",
      "           2       0.99      1.00      0.99      3328\n",
      "           3       1.00      0.98      0.99       321\n",
      "           4       0.99      0.98      0.99       601\n",
      "\n",
      "    accuracy                           0.99      5006\n",
      "   macro avg       0.99      0.97      0.98      5006\n",
      "weighted avg       0.99      0.99      0.99      5006\n",
      "\n"
     ]
    },
    {
     "data": {
      "image/png": "[encoded data removed]",
      "text/plain": [
       "<Figure size 360x360 with 2 Axes>"
      ]
     },
     "metadata": {
      "needs_background": "light"
     },
     "output_type": "display_data"
    }
   ],
   "source": [
    "xg = xgb.XGBClassifier(**get_ga_optimized_parameters(ga, 'XGBClassifier'))\n",
    "xg.fit(X_train,y_train)\n",
    "xg_score=xg.score(X_test,y_test)\n",
    "y_predict=xg.predict(X_test)\n",
    "y_true=y_test\n",
    "print('Accuracy of XGBoost: '+ str(xg_score))\n",
    "precision,recall,fscore,none= precision_recall_fscore_support(y_true, y_predict, average='weighted') \n",
    "print('Precision of XGBoost: '+(str(precision)))\n",
    "print('Recall of XGBoost: '+(str(recall)))\n",
    "print('F1-score of XGBoost: '+(str(fscore)))\n",
    "print(classification_report(y_true,y_predict))\n",
    "cm=confusion_matrix(y_true,y_predict)\n",
    "f,ax=plt.subplots(figsize=(5,5))\n",
    "sns.heatmap(cm,annot=True,linewidth=0.5,linecolor=\"red\",fmt=\".0f\",ax=ax)\n",
    "plt.xlabel(\"y_pred\")\n",
    "plt.ylabel(\"y_true\")\n",
    "plt.show()"
   ]
  },
  {
   "cell_type": "code",
   "execution_count": 54,
   "metadata": {},
   "outputs": [
    {
     "name": "stderr",
     "output_type": "stream",
     "text": [
      "C:\\Users\\FOCUS\\AppData\\Local\\Temp\\ipykernel_5504\\1504240222.py:9: FutureWarning: The frame.append method is deprecated and will be removed from pandas in a future version. Use pandas.concat instead.\n",
      "  output_df = output_df.append(result_dict, ignore_index=True)\n"
     ]
    }
   ],
   "source": [
    "# Add to output sheet\n",
    "result_dict = {\n",
    "    'Accuracy': xg_score,\n",
    "    'Precision': precision,\n",
    "    'Recall': recall,\n",
    "    'F1-Score': fscore,\n",
    "    'Time': end_time-start_time\n",
    "}\n",
    "output_df = output_df.append(result_dict, ignore_index=True)\n",
    "# Add index name\n",
    "output_index.append('XGBoost (GA)')"
   ]
  },
  {
   "cell_type": "markdown",
   "metadata": {},
   "source": [
    "#### Apply RF"
   ]
  },
  {
   "cell_type": "code",
   "execution_count": 55,
   "metadata": {},
   "outputs": [
    {
     "name": "stdout",
     "output_type": "stream",
     "text": [
      "Accuracy of RF: 0.9770275669196964\n",
      "Precision of RF: 0.9767472252243914\n",
      "Recall of RF: 0.9770275669196964\n",
      "F1-score of RF: 0.9766847099500885\n",
      "              precision    recall  f1-score   support\n",
      "\n",
      "           0       1.00      1.00      1.00       476\n",
      "           1       0.90      0.82      0.86       280\n",
      "           2       0.98      0.99      0.98      3328\n",
      "           3       0.99      0.97      0.98       321\n",
      "           4       0.99      0.95      0.97       601\n",
      "\n",
      "    accuracy                           0.98      5006\n",
      "   macro avg       0.97      0.95      0.96      5006\n",
      "weighted avg       0.98      0.98      0.98      5006\n",
      "\n"
     ]
    },
    {
     "data": {
      "image/png": "[encoded data removed]",
      "text/plain": [
       "<Figure size 360x360 with 2 Axes>"
      ]
     },
     "metadata": {
      "needs_background": "light"
     },
     "output_type": "display_data"
    }
   ],
   "source": [
    "rf = RandomForestClassifier(random_state = 0)\n",
    "start_time = time.time()\n",
    "rf.fit(X_train,y_train)\n",
    "end_time = time.time() \n",
    "rf_score=rf.score(X_test,y_test)\n",
    "y_predict=rf.predict(X_test)\n",
    "y_true=y_test\n",
    "print('Accuracy of RF: '+ str(rf_score))\n",
    "precision,recall,fscore,none= precision_recall_fscore_support(y_true, y_predict, average='weighted') \n",
    "print('Precision of RF: '+(str(precision)))\n",
    "print('Recall of RF: '+(str(recall)))\n",
    "print('F1-score of RF: '+(str(fscore)))\n",
    "print(classification_report(y_true,y_predict))\n",
    "cm=confusion_matrix(y_true,y_predict)\n",
    "f,ax=plt.subplots(figsize=(5,5))\n",
    "sns.heatmap(cm,annot=True,linewidth=0.5,linecolor=\"red\",fmt=\".0f\",ax=ax)\n",
    "plt.xlabel(\"y_pred\")\n",
    "plt.ylabel(\"y_true\")\n",
    "plt.show()"
   ]
  },
  {
   "cell_type": "code",
   "execution_count": 56,
   "metadata": {},
   "outputs": [
    {
     "name": "stderr",
     "output_type": "stream",
     "text": [
      "C:\\Users\\FOCUS\\AppData\\Local\\Temp\\ipykernel_5504\\2961333033.py:9: FutureWarning: The frame.append method is deprecated and will be removed from pandas in a future version. Use pandas.concat instead.\n",
      "  output_df = output_df.append(result_dict, ignore_index=True)\n"
     ]
    }
   ],
   "source": [
    "# Add to output sheet\n",
    "result_dict = {\n",
    "    'Accuracy': rf_score,\n",
    "    'Precision': precision,\n",
    "    'Recall': recall,\n",
    "    'F1-Score': fscore,\n",
    "    'Time': end_time-start_time\n",
    "}\n",
    "output_df = output_df.append(result_dict, ignore_index=True)\n",
    "# Add index name\n",
    "output_index.append('RF (Original)')"
   ]
  },
  {
   "cell_type": "markdown",
   "metadata": {},
   "source": [
    "#### Hyperparameter optimization (HPO) of random forest using Bayesian optimization with tree-based Parzen estimator (BO-TPE)\n",
    "Based on the GitHub repo for HPO: https://github.com/LiYangHart/Hyperparameter-Optimization-of-Machine-Learning-Algorithms"
   ]
  },
  {
   "cell_type": "code",
   "execution_count": 57,
   "metadata": {},
   "outputs": [
    {
     "name": "stdout",
     "output_type": "stream",
     "text": [
      "100%|███████████████████████████████████████████████| 20/20 [01:28<00:00,  4.45s/trial, best loss: -0.9846184578505793]\n",
      "Random Forest: Hyperopt estimated optimum {'criterion': 0, 'max_depth': 43.0, 'max_features': 19.0, 'min_samples_leaf': 1.0, 'min_samples_split': 10.0, 'n_estimators': 141.0}\n"
     ]
    }
   ],
   "source": [
    "# Hyperparameter optimization of random forest\n",
    "from hyperopt import hp, fmin, tpe, STATUS_OK, Trials\n",
    "from sklearn.model_selection import cross_val_score, StratifiedKFold\n",
    "# Define the objective function\n",
    "def objective(params):\n",
    "    params = {\n",
    "        'n_estimators': int(params['n_estimators']), \n",
    "        'max_depth': int(params['max_depth']),\n",
    "        'max_features': int(params['max_features']),\n",
    "        \"min_samples_split\":int(params['min_samples_split']),\n",
    "        \"min_samples_leaf\":int(params['min_samples_leaf']),\n",
    "        \"criterion\":str(params['criterion'])\n",
    "    }\n",
    "    clf = RandomForestClassifier( **params)\n",
    "    clf.fit(X_train,y_train)\n",
    "    score=clf.score(X_test,y_test)\n",
    "\n",
    "    return {'loss':-score, 'status': STATUS_OK }\n",
    "# Define the hyperparameter configuration space\n",
    "available_criterion = ['gini','entropy']\n",
    "space = {\n",
    "    'n_estimators': hp.quniform('n_estimators', 10, 200, 1),\n",
    "    'max_depth': hp.quniform('max_depth', 5, 50, 1),\n",
    "    \"max_features\":hp.quniform('max_features', 1, 20, 1),\n",
    "    \"min_samples_split\":hp.quniform('min_samples_split',2,11,1),\n",
    "    \"min_samples_leaf\":hp.quniform('min_samples_leaf',1,11,1),\n",
    "    \"criterion\":hp.choice('criterion', available_criterion)\n",
    "}\n",
    "\n",
    "start_time = time.time()\n",
    "\n",
    "best = fmin(fn=objective,\n",
    "            space=space,\n",
    "            algo=tpe.suggest,\n",
    "            max_evals=20)\n",
    "\n",
    "end_time = time.time()\n",
    "\n",
    "print(\"Random Forest: Hyperopt estimated optimum {}\".format(best))"
   ]
  },
  {
   "cell_type": "code",
   "execution_count": 58,
   "metadata": {},
   "outputs": [
    {
     "name": "stdout",
     "output_type": "stream",
     "text": [
      "Accuracy of RF: 0.9842189372752697\n",
      "Precision of RF: 0.9841016495267598\n",
      "Recall of RF: 0.9842189372752697\n",
      "F1-score of RF: 0.984066016556829\n",
      "              precision    recall  f1-score   support\n",
      "\n",
      "           0       1.00      1.00      1.00       476\n",
      "           1       0.94      0.88      0.91       280\n",
      "           2       0.98      1.00      0.99      3328\n",
      "           3       0.99      0.97      0.98       321\n",
      "           4       0.99      0.97      0.98       601\n",
      "\n",
      "    accuracy                           0.98      5006\n",
      "   macro avg       0.98      0.96      0.97      5006\n",
      "weighted avg       0.98      0.98      0.98      5006\n",
      "\n"
     ]
    },
    {
     "data": {
      "image/png": "[encoded data removed]",
      "text/plain": [
       "<Figure size 360x360 with 2 Axes>"
      ]
     },
     "metadata": {
      "needs_background": "light"
     },
     "output_type": "display_data"
    }
   ],
   "source": [
    "params = {\n",
    "    'n_estimators': int(best['n_estimators']), \n",
    "    'max_depth': int(best['max_depth']),\n",
    "    'max_features': int(best['max_features']),\n",
    "    \"min_samples_split\":int(best['min_samples_split']),\n",
    "    \"min_samples_leaf\":int(best['min_samples_leaf']),\n",
    "    \"criterion\":available_criterion[int(best['criterion'])]\n",
    "}\n",
    "rf_hpo = RandomForestClassifier(**params)\n",
    "rf_hpo.fit(X_train,y_train)\n",
    "rf_score=rf_hpo.score(X_test,y_test)\n",
    "y_predict=rf_hpo.predict(X_test)\n",
    "y_true=y_test\n",
    "print('Accuracy of RF: '+ str(rf_score))\n",
    "precision,recall,fscore,none= precision_recall_fscore_support(y_true, y_predict, average='weighted') \n",
    "print('Precision of RF: '+(str(precision)))\n",
    "print('Recall of RF: '+(str(recall)))\n",
    "print('F1-score of RF: '+(str(fscore)))\n",
    "print(classification_report(y_true,y_predict))\n",
    "cm=confusion_matrix(y_true,y_predict)\n",
    "f,ax=plt.subplots(figsize=(5,5))\n",
    "sns.heatmap(cm,annot=True,linewidth=0.5,linecolor=\"red\",fmt=\".0f\",ax=ax)\n",
    "plt.xlabel(\"y_pred\")\n",
    "plt.ylabel(\"y_true\")\n",
    "plt.show()"
   ]
  },
  {
   "cell_type": "code",
   "execution_count": 59,
   "metadata": {},
   "outputs": [
    {
     "name": "stderr",
     "output_type": "stream",
     "text": [
      "C:\\Users\\FOCUS\\AppData\\Local\\Temp\\ipykernel_5504\\2995227766.py:9: FutureWarning: The frame.append method is deprecated and will be removed from pandas in a future version. Use pandas.concat instead.\n",
      "  output_df = output_df.append(result_dict, ignore_index=True)\n"
     ]
    }
   ],
   "source": [
    "# Add to output sheet\n",
    "result_dict = {\n",
    "    'Accuracy': rf_score,\n",
    "    'Precision': precision,\n",
    "    'Recall': recall,\n",
    "    'F1-Score': fscore,\n",
    "    'Time': end_time-start_time\n",
    "}\n",
    "output_df = output_df.append(result_dict, ignore_index=True)\n",
    "# Add index name\n",
    "output_index.append('RF (BO-TPE)')"
   ]
  },
  {
   "cell_type": "code",
   "execution_count": 60,
   "metadata": {},
   "outputs": [],
   "source": [
    "rf_train=rf_hpo.predict(X_train)\n",
    "rf_test=rf_hpo.predict(X_test)"
   ]
  },
  {
   "cell_type": "markdown",
   "metadata": {},
   "source": [
    "#### Hyperparameter optimization (HPO) of random forest using Particle Swarm Optimization (PSO)\n",
    "Based on the GitHub repo for HPO: https://github.com/LiYangHart/Hyperparameter-Optimization-of-Machine-Learning-Algorithms"
   ]
  },
  {
   "cell_type": "code",
   "execution_count": 61,
   "metadata": {},
   "outputs": [
    {
     "name": "stdout",
     "output_type": "stream",
     "text": [
      "{'n_estimators': 94.55078125, 'max_features': 11.724609375, 'max_depth': 26.181640625, 'min_samples_split': 3.529296875, 'min_samples_leaf': 1.33203125, 'criterion': 0.814453125}\n",
      "Accuracy:0.9845518710880278\n"
     ]
    }
   ],
   "source": [
    "#Random Forest\n",
    "import optunity\n",
    "import optunity.metrics\n",
    "\n",
    "data=X\n",
    "labels=y.tolist()\n",
    "Y_train = y_train\n",
    "Y_test = y_test\n",
    "# Define the hyperparameter configuration space\n",
    "search = {\n",
    "    'n_estimators': [10, 100],\n",
    "    'max_features': [1, 20],\n",
    "    'max_depth': [5,50],\n",
    "    \"min_samples_split\":[2,11],\n",
    "    \"min_samples_leaf\":[1,11],\n",
    "    \"criterion\":[0,1]\n",
    "         }\n",
    "available_criterion = ['gini', 'entropy']\n",
    "# Define the objective function\n",
    "@optunity.cross_validated(x=data, y=labels, num_folds=3)\n",
    "def performance(x_train, y_train, x_test, y_test,n_estimators=None, max_features=None,max_depth=None,min_samples_split=None,min_samples_leaf=None,criterion=None):\n",
    "    # fit the model\n",
    "    if criterion<0.5:\n",
    "        cri=available_criterion[0]\n",
    "    else:\n",
    "        cri=available_criterion[1]\n",
    "    model = RandomForestClassifier(n_estimators=int(n_estimators),\n",
    "                                   max_features=int(max_features),\n",
    "                                   max_depth=int(max_depth),\n",
    "                                   min_samples_split=int(min_samples_split),\n",
    "                                   min_samples_leaf=int(min_samples_leaf),\n",
    "                                   criterion=cri,\n",
    "                                  )\n",
    "    model.fit(X_train, Y_train)\n",
    "    predictions = model.predict(X_test)\n",
    "    # scores=np.mean(cross_val_score(model, X, y, cv=3, n_jobs=-1,\n",
    "    #                                 scoring=\"accuracy\"))\n",
    "    #return optunity.metrics.roc_auc(y_test, predictions, positive=True)\n",
    "    return optunity.metrics.accuracy(Y_test, predictions)\n",
    "\n",
    "start_time = time.time()\n",
    "\n",
    "optimal_configuration, info, _ = optunity.maximize(performance,\n",
    "                                                  solver_name='particle swarm',\n",
    "                                                  num_evals=20,\n",
    "                                                   **search\n",
    "                                                  )\n",
    "\n",
    "end_time = time.time()\n",
    "\n",
    "print(optimal_configuration)\n",
    "print(\"Accuracy:\"+ str(info.optimum))"
   ]
  },
  {
   "cell_type": "code",
   "execution_count": 62,
   "metadata": {},
   "outputs": [
    {
     "name": "stdout",
     "output_type": "stream",
     "text": [
      "Accuracy of RF: 0.986016779864163\n",
      "Precision of RF: 0.9859167945957082\n",
      "Recall of RF: 0.986016779864163\n",
      "F1-score of RF: 0.9858251274526116\n",
      "              precision    recall  f1-score   support\n",
      "\n",
      "           0       1.00      1.00      1.00       476\n",
      "           1       0.95      0.88      0.91       280\n",
      "           2       0.98      1.00      0.99      3328\n",
      "           3       1.00      0.98      0.99       321\n",
      "           4       0.99      0.97      0.98       601\n",
      "\n",
      "    accuracy                           0.99      5006\n",
      "   macro avg       0.99      0.96      0.97      5006\n",
      "weighted avg       0.99      0.99      0.99      5006\n",
      "\n"
     ]
    },
    {
     "data": {
      "image/png": "[encoded data removed]",
      "text/plain": [
       "<Figure size 360x360 with 2 Axes>"
      ]
     },
     "metadata": {
      "needs_background": "light"
     },
     "output_type": "display_data"
    }
   ],
   "source": [
    "params = {\n",
    "    'n_estimators': int(optimal_configuration['n_estimators']), \n",
    "    'min_samples_leaf': int(optimal_configuration['min_samples_leaf']), \n",
    "    'max_depth': int(optimal_configuration['max_depth']), \n",
    "    'min_samples_split': int(optimal_configuration['min_samples_split']), \n",
    "    'max_features': int(optimal_configuration['max_features']), \n",
    "    'criterion': available_criterion[int(optimal_configuration['criterion']+0.5)]\n",
    "}\n",
    "rf_hpo = RandomForestClassifier(**params)\n",
    "rf_hpo.fit(X_train,y_train)\n",
    "rf_score=rf_hpo.score(X_test,y_test)\n",
    "y_predict=rf_hpo.predict(X_test)\n",
    "y_true=y_test\n",
    "print('Accuracy of RF: '+ str(rf_score))\n",
    "precision,recall,fscore,none= precision_recall_fscore_support(y_true, y_predict, average='weighted') \n",
    "print('Precision of RF: '+(str(precision)))\n",
    "print('Recall of RF: '+(str(recall)))\n",
    "print('F1-score of RF: '+(str(fscore)))\n",
    "print(classification_report(y_true,y_predict))\n",
    "cm=confusion_matrix(y_true,y_predict)\n",
    "f,ax=plt.subplots(figsize=(5,5))\n",
    "sns.heatmap(cm,annot=True,linewidth=0.5,linecolor=\"red\",fmt=\".0f\",ax=ax)\n",
    "plt.xlabel(\"y_pred\")\n",
    "plt.ylabel(\"y_true\")\n",
    "plt.show()"
   ]
  },
  {
   "cell_type": "code",
   "execution_count": 63,
   "metadata": {},
   "outputs": [
    {
     "name": "stderr",
     "output_type": "stream",
     "text": [
      "C:\\Users\\FOCUS\\AppData\\Local\\Temp\\ipykernel_5504\\4127134050.py:9: FutureWarning: The frame.append method is deprecated and will be removed from pandas in a future version. Use pandas.concat instead.\n",
      "  output_df = output_df.append(result_dict, ignore_index=True)\n"
     ]
    }
   ],
   "source": [
    "# Add to output sheet\n",
    "result_dict = {\n",
    "    'Accuracy': rf_score,\n",
    "    'Precision': precision,\n",
    "    'Recall': recall,\n",
    "    'F1-Score': fscore,\n",
    "    'Time': end_time-start_time\n",
    "}\n",
    "output_df = output_df.append(result_dict, ignore_index=True)\n",
    "# Add index name\n",
    "output_index.append('RF (PSO)')"
   ]
  },
  {
   "cell_type": "markdown",
   "metadata": {},
   "source": [
    "#### Hyperparameter optimization (HPO) of random forest using Genetic Algorithm (GA)\n",
    "Based on the GitHub repo for HPO: https://github.com/LiYangHart/Hyperparameter-Optimization-of-Machine-Learning-Algorithms"
   ]
  },
  {
   "cell_type": "code",
   "execution_count": 64,
   "metadata": {},
   "outputs": [
    {
     "name": "stdout",
     "output_type": "stream",
     "text": [
      "1 operators have been imported by TPOT.\n",
      "                                                                                                                       \n",
      "Generation 1 - Current Pareto front scores:\n",
      "                                                                                                                       \n",
      "-1\t0.9822199774993207\tRandomForestClassifier(input_matrix, RandomForestClassifier__criterion=entropy, RandomForestClassifier__max_depth=78, RandomForestClassifier__max_features=13, RandomForestClassifier__min_samples_leaf=3, RandomForestClassifier__min_samples_split=3, RandomForestClassifier__n_estimators=38)\n",
      "                                                                                                                       \n",
      "Generation 2 - Current Pareto front scores:\n",
      "                                                                                                                       \n",
      "-1\t0.9822199774993207\tRandomForestClassifier(input_matrix, RandomForestClassifier__criterion=entropy, RandomForestClassifier__max_depth=78, RandomForestClassifier__max_features=13, RandomForestClassifier__min_samples_leaf=3, RandomForestClassifier__min_samples_split=3, RandomForestClassifier__n_estimators=38)\n",
      "                                                                                                                       \n",
      "Generation 3 - Current Pareto front scores:\n",
      "                                                                                                                       \n",
      "-1\t0.9822199774993207\tRandomForestClassifier(input_matrix, RandomForestClassifier__criterion=entropy, RandomForestClassifier__max_depth=78, RandomForestClassifier__max_features=13, RandomForestClassifier__min_samples_leaf=3, RandomForestClassifier__min_samples_split=3, RandomForestClassifier__n_estimators=38)\n",
      "                                                                                                                       \r"
     ]
    }
   ],
   "source": [
    "#Random Forest\n",
    "from tpot import TPOTClassifier\n",
    "# Define the hyperparameter configuration space\n",
    "parameters = {\n",
    "    'n_estimators': range(20,200),\n",
    "    \"max_features\":range(1,20),\n",
    "    'max_depth': range(10,100),\n",
    "    \"min_samples_split\":range(2,11),\n",
    "    \"min_samples_leaf\":range(1,11),\n",
    "    \"criterion\":['gini','entropy']\n",
    "             }\n",
    "# Set the hyperparameters of GA                 \n",
    "ga = TPOTClassifier(generations= 3, population_size= 10, offspring_size= 5,\n",
    "                                 verbosity= 3, early_stop= 5,\n",
    "                                 config_dict=\n",
    "                                 {'sklearn.ensemble.RandomForestClassifier': parameters}, \n",
    "                                 cv = 3, scoring = 'accuracy')\n",
    "start_time = time.time()\n",
    "ga.fit(X_combined, y_combined)\n",
    "end_time = time.time()"
   ]
  },
  {
   "cell_type": "code",
   "execution_count": 65,
   "metadata": {},
   "outputs": [
    {
     "name": "stdout",
     "output_type": "stream",
     "text": [
      "Accuracy of RF: 0.9808230123851378\n",
      "Precision of RF: 0.980707631775805\n",
      "Recall of RF: 0.9808230123851378\n",
      "F1-score of RF: 0.9805828144713556\n",
      "              precision    recall  f1-score   support\n",
      "\n",
      "           0       1.00      0.99      0.99       476\n",
      "           1       0.93      0.85      0.89       280\n",
      "           2       0.98      1.00      0.99      3328\n",
      "           3       1.00      0.97      0.98       321\n",
      "           4       0.99      0.96      0.98       601\n",
      "\n",
      "    accuracy                           0.98      5006\n",
      "   macro avg       0.98      0.95      0.97      5006\n",
      "weighted avg       0.98      0.98      0.98      5006\n",
      "\n"
     ]
    },
    {
     "data": {
      "image/png": "[encoded data removed]",
      "text/plain": [
       "<Figure size 360x360 with 2 Axes>"
      ]
     },
     "metadata": {
      "needs_background": "light"
     },
     "output_type": "display_data"
    }
   ],
   "source": [
    "rf_hpo = RandomForestClassifier(**get_ga_optimized_parameters(ga, 'RandomForestClassifier'))\n",
    "rf_hpo.fit(X_train,y_train)\n",
    "rf_score=rf_hpo.score(X_test,y_test)\n",
    "y_predict=rf_hpo.predict(X_test)\n",
    "y_true=y_test\n",
    "print('Accuracy of RF: '+ str(rf_score))\n",
    "precision,recall,fscore,none= precision_recall_fscore_support(y_true, y_predict, average='weighted') \n",
    "print('Precision of RF: '+(str(precision)))\n",
    "print('Recall of RF: '+(str(recall)))\n",
    "print('F1-score of RF: '+(str(fscore)))\n",
    "print(classification_report(y_true,y_predict))\n",
    "cm=confusion_matrix(y_true,y_predict)\n",
    "f,ax=plt.subplots(figsize=(5,5))\n",
    "sns.heatmap(cm,annot=True,linewidth=0.5,linecolor=\"red\",fmt=\".0f\",ax=ax)\n",
    "plt.xlabel(\"y_pred\")\n",
    "plt.ylabel(\"y_true\")\n",
    "plt.show()"
   ]
  },
  {
   "cell_type": "code",
   "execution_count": 66,
   "metadata": {},
   "outputs": [
    {
     "name": "stderr",
     "output_type": "stream",
     "text": [
      "C:\\Users\\FOCUS\\AppData\\Local\\Temp\\ipykernel_5504\\2570225814.py:9: FutureWarning: The frame.append method is deprecated and will be removed from pandas in a future version. Use pandas.concat instead.\n",
      "  output_df = output_df.append(result_dict, ignore_index=True)\n"
     ]
    }
   ],
   "source": [
    "# Add to output sheet\n",
    "result_dict = {\n",
    "    'Accuracy': rf_score,\n",
    "    'Precision': precision,\n",
    "    'Recall': recall,\n",
    "    'F1-Score': fscore,\n",
    "    'Time': end_time-start_time\n",
    "}\n",
    "output_df = output_df.append(result_dict, ignore_index=True)\n",
    "# Add index name\n",
    "output_index.append('RF (GA)')"
   ]
  },
  {
   "cell_type": "markdown",
   "metadata": {},
   "source": [
    "#### Apply DT"
   ]
  },
  {
   "cell_type": "code",
   "execution_count": 67,
   "metadata": {},
   "outputs": [
    {
     "name": "stdout",
     "output_type": "stream",
     "text": [
      "Accuracy of DT: 0.9822213343987215\n",
      "Precision of DT: 0.9819935928438617\n",
      "Recall of DT: 0.9822213343987215\n",
      "F1-score of DT: 0.9820616639285412\n",
      "              precision    recall  f1-score   support\n",
      "\n",
      "           0       1.00      1.00      1.00       476\n",
      "           1       0.91      0.86      0.88       280\n",
      "           2       0.99      0.99      0.99      3328\n",
      "           3       0.99      0.98      0.99       321\n",
      "           4       0.98      0.97      0.98       601\n",
      "\n",
      "    accuracy                           0.98      5006\n",
      "   macro avg       0.97      0.96      0.97      5006\n",
      "weighted avg       0.98      0.98      0.98      5006\n",
      "\n"
     ]
    },
    {
     "data": {
      "image/png": "[encoded data removed]",
      "text/plain": [
       "<Figure size 360x360 with 2 Axes>"
      ]
     },
     "metadata": {
      "needs_background": "light"
     },
     "output_type": "display_data"
    }
   ],
   "source": [
    "dt = DecisionTreeClassifier(random_state = 0)\n",
    "start_time = time.time()\n",
    "dt.fit(X_train,y_train)\n",
    "end_time = time.time() \n",
    "dt_score=dt.score(X_test,y_test)\n",
    "y_predict=dt.predict(X_test)\n",
    "y_true=y_test\n",
    "print('Accuracy of DT: '+ str(dt_score))\n",
    "precision,recall,fscore,none= precision_recall_fscore_support(y_true, y_predict, average='weighted') \n",
    "print('Precision of DT: '+(str(precision)))\n",
    "print('Recall of DT: '+(str(recall)))\n",
    "print('F1-score of DT: '+(str(fscore)))\n",
    "print(classification_report(y_true,y_predict))\n",
    "cm=confusion_matrix(y_true,y_predict)\n",
    "f,ax=plt.subplots(figsize=(5,5))\n",
    "sns.heatmap(cm,annot=True,linewidth=0.5,linecolor=\"red\",fmt=\".0f\",ax=ax)\n",
    "plt.xlabel(\"y_pred\")\n",
    "plt.ylabel(\"y_true\")\n",
    "plt.show()"
   ]
  },
  {
   "cell_type": "code",
   "execution_count": 68,
   "metadata": {},
   "outputs": [
    {
     "name": "stderr",
     "output_type": "stream",
     "text": [
      "C:\\Users\\FOCUS\\AppData\\Local\\Temp\\ipykernel_5504\\2126059860.py:9: FutureWarning: The frame.append method is deprecated and will be removed from pandas in a future version. Use pandas.concat instead.\n",
      "  output_df = output_df.append(result_dict, ignore_index=True)\n"
     ]
    }
   ],
   "source": [
    "# Add to output sheet\n",
    "result_dict = {\n",
    "    'Accuracy': dt_score,\n",
    "    'Precision': precision,\n",
    "    'Recall': recall,\n",
    "    'F1-Score': fscore,\n",
    "    'Time': end_time-start_time\n",
    "}\n",
    "output_df = output_df.append(result_dict, ignore_index=True)\n",
    "# Add index name\n",
    "output_index.append('DT (Original)')"
   ]
  },
  {
   "cell_type": "markdown",
   "metadata": {},
   "source": [
    "#### Hyperparameter optimization (HPO) of decision tree using Bayesian optimization with tree-based Parzen estimator (BO-TPE)\n",
    "Based on the GitHub repo for HPO: https://github.com/LiYangHart/Hyperparameter-Optimization-of-Machine-Learning-Algorithms"
   ]
  },
  {
   "cell_type": "code",
   "execution_count": 69,
   "metadata": {},
   "outputs": [
    {
     "name": "stdout",
     "output_type": "stream",
     "text": [
      "100%|███████████████████████████████████████████████| 50/50 [00:03<00:00, 13.52trial/s, best loss: -0.9834198961246504]\n",
      "Decision tree: Hyperopt estimated optimum {'criterion': 1, 'max_depth': 36.0, 'max_features': 19.0, 'min_samples_leaf': 1.0, 'min_samples_split': 8.0}\n"
     ]
    }
   ],
   "source": [
    "# Hyperparameter optimization of decision tree\n",
    "from hyperopt import hp, fmin, tpe, STATUS_OK, Trials\n",
    "from sklearn.model_selection import cross_val_score, StratifiedKFold\n",
    "# Define the objective function\n",
    "def objective(params):\n",
    "    params = {\n",
    "        'max_depth': int(params['max_depth']),\n",
    "        'max_features': int(params['max_features']),\n",
    "        \"min_samples_split\":int(params['min_samples_split']),\n",
    "        \"min_samples_leaf\":int(params['min_samples_leaf']),\n",
    "        \"criterion\":str(params['criterion'])\n",
    "    }\n",
    "    clf = DecisionTreeClassifier( **params)\n",
    "    clf.fit(X_train,y_train)\n",
    "    score=clf.score(X_test,y_test)\n",
    "\n",
    "    return {'loss':-score, 'status': STATUS_OK }\n",
    "# Define the hyperparameter configuration space\n",
    "available_criterion = ['gini','entropy']\n",
    "space = {\n",
    "    'max_depth': hp.quniform('max_depth', 5, 50, 1),\n",
    "    \"max_features\":hp.quniform('max_features', 1, 20, 1),\n",
    "    \"min_samples_split\":hp.quniform('min_samples_split',2,11,1),\n",
    "    \"min_samples_leaf\":hp.quniform('min_samples_leaf',1,11,1),\n",
    "    \"criterion\":hp.choice('criterion',available_criterion)\n",
    "}\n",
    "\n",
    "start_time = time.time()\n",
    "\n",
    "best = fmin(fn=objective,\n",
    "            space=space,\n",
    "            algo=tpe.suggest,\n",
    "            max_evals=50)\n",
    "\n",
    "end_time = time.time()\n",
    "\n",
    "print(\"Decision tree: Hyperopt estimated optimum {}\".format(best))"
   ]
  },
  {
   "cell_type": "code",
   "execution_count": 70,
   "metadata": {},
   "outputs": [
    {
     "name": "stdout",
     "output_type": "stream",
     "text": [
      "Accuracy of DT: 0.981622053535757\n",
      "Precision of DT: 0.9813793101414503\n",
      "Recall of DT: 0.981622053535757\n",
      "F1-score of DT: 0.9814044383576969\n",
      "              precision    recall  f1-score   support\n",
      "\n",
      "           0       1.00      1.00      1.00       476\n",
      "           1       0.91      0.85      0.88       280\n",
      "           2       0.98      0.99      0.99      3328\n",
      "           3       0.99      0.98      0.99       321\n",
      "           4       0.99      0.96      0.97       601\n",
      "\n",
      "    accuracy                           0.98      5006\n",
      "   macro avg       0.97      0.96      0.97      5006\n",
      "weighted avg       0.98      0.98      0.98      5006\n",
      "\n"
     ]
    },
    {
     "data": {
      "image/png": "[encoded data removed]",
      "text/plain": [
       "<Figure size 360x360 with 2 Axes>"
      ]
     },
     "metadata": {
      "needs_background": "light"
     },
     "output_type": "display_data"
    }
   ],
   "source": [
    "params = {\n",
    "    'max_depth': int(best['max_depth']),\n",
    "    'max_features': int(best['max_features']),\n",
    "    \"min_samples_split\":int(best['min_samples_split']),\n",
    "    \"min_samples_leaf\":int(best['min_samples_leaf']),\n",
    "    \"criterion\":available_criterion[int(best['criterion'])]\n",
    "}\n",
    "dt_hpo = DecisionTreeClassifier(**params)\n",
    "dt_hpo.fit(X_train,y_train)\n",
    "dt_score=dt_hpo.score(X_test,y_test)\n",
    "y_predict=dt_hpo.predict(X_test)\n",
    "y_true=y_test\n",
    "print('Accuracy of DT: '+ str(dt_score))\n",
    "precision,recall,fscore,none= precision_recall_fscore_support(y_true, y_predict, average='weighted') \n",
    "print('Precision of DT: '+(str(precision)))\n",
    "print('Recall of DT: '+(str(recall)))\n",
    "print('F1-score of DT: '+(str(fscore)))\n",
    "print(classification_report(y_true,y_predict))\n",
    "cm=confusion_matrix(y_true,y_predict)\n",
    "f,ax=plt.subplots(figsize=(5,5))\n",
    "sns.heatmap(cm,annot=True,linewidth=0.5,linecolor=\"red\",fmt=\".0f\",ax=ax)\n",
    "plt.xlabel(\"y_pred\")\n",
    "plt.ylabel(\"y_true\")\n",
    "plt.show()"
   ]
  },
  {
   "cell_type": "code",
   "execution_count": 71,
   "metadata": {},
   "outputs": [
    {
     "name": "stderr",
     "output_type": "stream",
     "text": [
      "C:\\Users\\FOCUS\\AppData\\Local\\Temp\\ipykernel_5504\\399576673.py:9: FutureWarning: The frame.append method is deprecated and will be removed from pandas in a future version. Use pandas.concat instead.\n",
      "  output_df = output_df.append(result_dict, ignore_index=True)\n"
     ]
    }
   ],
   "source": [
    "# Add to output sheet\n",
    "result_dict = {\n",
    "    'Accuracy': dt_score,\n",
    "    'Precision': precision,\n",
    "    'Recall': recall,\n",
    "    'F1-Score': fscore,\n",
    "    'Time': end_time-start_time\n",
    "}\n",
    "output_df = output_df.append(result_dict, ignore_index=True)\n",
    "# Add index name\n",
    "output_index.append('DT (BO-TPE)')"
   ]
  },
  {
   "cell_type": "code",
   "execution_count": 72,
   "metadata": {},
   "outputs": [],
   "source": [
    "dt_train=dt_hpo.predict(X_train)\n",
    "dt_test=dt_hpo.predict(X_test)"
   ]
  },
  {
   "cell_type": "markdown",
   "metadata": {},
   "source": [
    "#### Hyperparameter optimization (HPO) of decision tree using Particle Swarm Optimization (PSO)\n",
    "Based on the GitHub repo for HPO: https://github.com/LiYangHart/Hyperparameter-Optimization-of-Machine-Learning-Algorithms"
   ]
  },
  {
   "cell_type": "code",
   "execution_count": 73,
   "metadata": {},
   "outputs": [
    {
     "name": "stdout",
     "output_type": "stream",
     "text": [
      "{'max_features': 15.9365234375, 'max_depth': 48.5498046875, 'min_samples_split': 4.9267578125, 'min_samples_leaf': 1.869140625, 'criterion': 0.5341796875}\n",
      "Accuracy:0.9820215741110667\n"
     ]
    }
   ],
   "source": [
    "#Random Forest\n",
    "import optunity\n",
    "import optunity.metrics\n",
    "\n",
    "data=X_train\n",
    "labels=y_train.tolist()\n",
    "Y_train = y_train\n",
    "Y_test = y_test\n",
    "# Define the hyperparameter configuration space\n",
    "search = {\n",
    "    'max_features': [1, 20],\n",
    "    'max_depth': [5,50],\n",
    "    \"min_samples_split\":[2,11],\n",
    "    \"min_samples_leaf\":[1,11],\n",
    "    \"criterion\":[0,1]\n",
    "}\n",
    "available_criterion = ['gini', 'entropy']\n",
    "# Define the objective function\n",
    "@optunity.cross_validated(x=data, y=labels, num_folds=3)\n",
    "def performance(x_train, y_train, x_test, y_test,max_features=None,max_depth=None,min_samples_split=None,min_samples_leaf=None,criterion=None):\n",
    "    # fit the model\n",
    "    if criterion<0.5:\n",
    "        cri=available_criterion[0]\n",
    "    else:\n",
    "        cri=available_criterion[1]\n",
    "    model = DecisionTreeClassifier(max_features=int(max_features),\n",
    "                                   max_depth=int(max_depth),\n",
    "                                   min_samples_split=int(min_samples_split),\n",
    "                                   min_samples_leaf=int(min_samples_leaf),\n",
    "                                   criterion=cri,\n",
    "                                  )\n",
    "    model.fit(X_train, Y_train)\n",
    "    predictions = model.predict(X_test)\n",
    "    # scores=np.mean(cross_val_score(model, X, y, cv=3, n_jobs=-1,\n",
    "                                    # scoring=\"accuracy\"))\n",
    "    # return optunity.metrics.roc_auc(y_test, predictions, positive=True)\n",
    "    return optunity.metrics.accuracy(Y_test, predictions)\n",
    "\n",
    "start_time = time.time()\n",
    "\n",
    "optimal_configuration, info, _ = optunity.maximize(performance,\n",
    "                                                  solver_name='particle swarm',\n",
    "                                                  num_evals=20,\n",
    "                                                   **search\n",
    "                                                  )\n",
    "\n",
    "end_time = time.time()\n",
    "\n",
    "print(optimal_configuration)\n",
    "print(\"Accuracy:\"+ str(info.optimum))"
   ]
  },
  {
   "cell_type": "code",
   "execution_count": 74,
   "metadata": {},
   "outputs": [
    {
     "name": "stdout",
     "output_type": "stream",
     "text": [
      "Accuracy of DT: 0.9820215741110667\n",
      "Precision of DT: 0.9818027700819023\n",
      "Recall of DT: 0.9820215741110667\n",
      "F1-score of DT: 0.9818583360500194\n",
      "              precision    recall  f1-score   support\n",
      "\n",
      "           0       1.00      1.00      1.00       476\n",
      "           1       0.91      0.86      0.88       280\n",
      "           2       0.99      0.99      0.99      3328\n",
      "           3       0.99      0.97      0.98       321\n",
      "           4       0.97      0.97      0.97       601\n",
      "\n",
      "    accuracy                           0.98      5006\n",
      "   macro avg       0.97      0.96      0.97      5006\n",
      "weighted avg       0.98      0.98      0.98      5006\n",
      "\n"
     ]
    },
    {
     "data": {
      "image/png": "[encoded data removed]",
      "text/plain": [
       "<Figure size 360x360 with 2 Axes>"
      ]
     },
     "metadata": {
      "needs_background": "light"
     },
     "output_type": "display_data"
    }
   ],
   "source": [
    "params = {\n",
    "    'min_samples_leaf': int(optimal_configuration['min_samples_leaf']), \n",
    "    'max_depth': int(optimal_configuration['max_depth']), \n",
    "    'min_samples_split': int(optimal_configuration['min_samples_split']), \n",
    "    'max_features': int(optimal_configuration['max_features']), \n",
    "    'criterion': available_criterion[int(optimal_configuration['criterion']+0.5)]\n",
    "}\n",
    "dt_hpo = DecisionTreeClassifier(**params)\n",
    "dt_hpo.fit(X_train,y_train)\n",
    "dt_score=dt_hpo.score(X_test,y_test)\n",
    "y_predict=dt_hpo.predict(X_test)\n",
    "y_true=y_test\n",
    "print('Accuracy of DT: '+ str(dt_score))\n",
    "precision,recall,fscore,none= precision_recall_fscore_support(y_true, y_predict, average='weighted') \n",
    "print('Precision of DT: '+(str(precision)))\n",
    "print('Recall of DT: '+(str(recall)))\n",
    "print('F1-score of DT: '+(str(fscore)))\n",
    "print(classification_report(y_true,y_predict))\n",
    "cm=confusion_matrix(y_true,y_predict)\n",
    "f,ax=plt.subplots(figsize=(5,5))\n",
    "sns.heatmap(cm,annot=True,linewidth=0.5,linecolor=\"red\",fmt=\".0f\",ax=ax)\n",
    "plt.xlabel(\"y_pred\")\n",
    "plt.ylabel(\"y_true\")\n",
    "plt.show()"
   ]
  },
  {
   "cell_type": "code",
   "execution_count": 75,
   "metadata": {},
   "outputs": [
    {
     "name": "stderr",
     "output_type": "stream",
     "text": [
      "C:\\Users\\FOCUS\\AppData\\Local\\Temp\\ipykernel_5504\\717813516.py:9: FutureWarning: The frame.append method is deprecated and will be removed from pandas in a future version. Use pandas.concat instead.\n",
      "  output_df = output_df.append(result_dict, ignore_index=True)\n"
     ]
    }
   ],
   "source": [
    "# Add to output sheet\n",
    "result_dict = {\n",
    "    'Accuracy': dt_score,\n",
    "    'Precision': precision,\n",
    "    'Recall': recall,\n",
    "    'F1-Score': fscore,\n",
    "    'Time': end_time-start_time\n",
    "}\n",
    "output_df = output_df.append(result_dict, ignore_index=True)\n",
    "# Add index name\n",
    "output_index.append('DT (PSO)')"
   ]
  },
  {
   "cell_type": "markdown",
   "metadata": {},
   "source": [
    "#### Hyperparameter optimization (HPO) of decision tree using Genetic Algorithm (GA)\n",
    "Based on the GitHub repo for HPO: https://github.com/LiYangHart/Hyperparameter-Optimization-of-Machine-Learning-Algorithms"
   ]
  },
  {
   "cell_type": "code",
   "execution_count": 76,
   "metadata": {},
   "outputs": [
    {
     "name": "stdout",
     "output_type": "stream",
     "text": [
      "1 operators have been imported by TPOT.\n",
      "                                                                                                                       \n",
      "Generation 1 - Current Pareto front scores:\n",
      "                                                                                                                       \n",
      "-1\t0.9703532729652878\tDecisionTreeClassifier(CombineDFs(input_matrix, input_matrix), DecisionTreeClassifier__criterion=gini, DecisionTreeClassifier__max_depth=65, DecisionTreeClassifier__max_features=18, DecisionTreeClassifier__min_samples_leaf=10, DecisionTreeClassifier__min_samples_split=3)\n",
      "                                                                                                                       \n",
      "-2\t0.9791433785286651\tDecisionTreeClassifier(DecisionTreeClassifier(input_matrix, DecisionTreeClassifier__criterion=gini, DecisionTreeClassifier__max_depth=51, DecisionTreeClassifier__max_features=19, DecisionTreeClassifier__min_samples_leaf=7, DecisionTreeClassifier__min_samples_split=5), DecisionTreeClassifier__criterion=entropy, DecisionTreeClassifier__max_depth=87, DecisionTreeClassifier__max_features=12, DecisionTreeClassifier__min_samples_leaf=2, DecisionTreeClassifier__min_samples_split=4)\n",
      "                                                                                                                       \n",
      "Generation 2 - Current Pareto front scores:\n",
      "                                                                                                                       \n",
      "-1\t0.9749480772526837\tDecisionTreeClassifier(input_matrix, DecisionTreeClassifier__criterion=entropy, DecisionTreeClassifier__max_depth=87, DecisionTreeClassifier__max_features=12, DecisionTreeClassifier__min_samples_leaf=2, DecisionTreeClassifier__min_samples_split=4)\n",
      "                                                                                                                       \n",
      "-2\t0.9791433785286651\tDecisionTreeClassifier(DecisionTreeClassifier(input_matrix, DecisionTreeClassifier__criterion=gini, DecisionTreeClassifier__max_depth=51, DecisionTreeClassifier__max_features=19, DecisionTreeClassifier__min_samples_leaf=7, DecisionTreeClassifier__min_samples_split=5), DecisionTreeClassifier__criterion=entropy, DecisionTreeClassifier__max_depth=87, DecisionTreeClassifier__max_features=12, DecisionTreeClassifier__min_samples_leaf=2, DecisionTreeClassifier__min_samples_split=4)\n",
      "                                                                                                                       \n",
      "Generation 3 - Current Pareto front scores:\n",
      "                                                                                                                       \n",
      "-1\t0.9813808454022631\tDecisionTreeClassifier(input_matrix, DecisionTreeClassifier__criterion=entropy, DecisionTreeClassifier__max_depth=87, DecisionTreeClassifier__max_features=19, DecisionTreeClassifier__min_samples_leaf=2, DecisionTreeClassifier__min_samples_split=4)\n",
      "                                                                                                                       \r"
     ]
    }
   ],
   "source": [
    "#Random Forest\n",
    "from tpot import TPOTClassifier\n",
    "# Define the hyperparameter configuration space\n",
    "parameters = {\n",
    "    \"max_features\":range(1,20),\n",
    "    'max_depth': range(10,100),\n",
    "    \"min_samples_split\":range(2,11),\n",
    "    \"min_samples_leaf\":range(1,11),\n",
    "    \"criterion\":['gini','entropy']\n",
    "}\n",
    "# Set the hyperparameters of GA                 \n",
    "ga = TPOTClassifier(generations= 3, population_size= 10, offspring_size= 5,\n",
    "                                 verbosity= 3, early_stop= 5,\n",
    "                                 config_dict=\n",
    "                                 {'sklearn.tree.DecisionTreeClassifier': parameters}, \n",
    "                                 cv = 3, scoring = 'accuracy')\n",
    "start_time = time.time()\n",
    "ga.fit(X_combined, y_combined)\n",
    "end_time = time.time()"
   ]
  },
  {
   "cell_type": "code",
   "execution_count": 77,
   "metadata": {},
   "outputs": [
    {
     "name": "stdout",
     "output_type": "stream",
     "text": [
      "Accuracy of DT: 0.9832201358369956\n",
      "Precision of DT: 0.9830927559084582\n",
      "Recall of DT: 0.9832201358369956\n",
      "F1-score of DT: 0.9831259209915663\n",
      "              precision    recall  f1-score   support\n",
      "\n",
      "           0       1.00      0.99      0.99       476\n",
      "           1       0.92      0.89      0.90       280\n",
      "           2       0.99      0.99      0.99      3328\n",
      "           3       0.99      0.97      0.98       321\n",
      "           4       0.98      0.97      0.97       601\n",
      "\n",
      "    accuracy                           0.98      5006\n",
      "   macro avg       0.97      0.96      0.97      5006\n",
      "weighted avg       0.98      0.98      0.98      5006\n",
      "\n"
     ]
    },
    {
     "data": {
      "image/png": "[encoded data removed]",
      "text/plain": [
       "<Figure size 360x360 with 2 Axes>"
      ]
     },
     "metadata": {
      "needs_background": "light"
     },
     "output_type": "display_data"
    }
   ],
   "source": [
    "dt_hpo = DecisionTreeClassifier(**get_ga_optimized_parameters(ga, 'DecisionTreeClassifier'))\n",
    "dt_hpo.fit(X_train,y_train)\n",
    "dt_score=dt_hpo.score(X_test,y_test)\n",
    "y_predict=dt_hpo.predict(X_test)\n",
    "y_true=y_test\n",
    "print('Accuracy of DT: '+ str(dt_score))\n",
    "precision,recall,fscore,none= precision_recall_fscore_support(y_true, y_predict, average='weighted') \n",
    "print('Precision of DT: '+(str(precision)))\n",
    "print('Recall of DT: '+(str(recall)))\n",
    "print('F1-score of DT: '+(str(fscore)))\n",
    "print(classification_report(y_true,y_predict))\n",
    "cm=confusion_matrix(y_true,y_predict)\n",
    "f,ax=plt.subplots(figsize=(5,5))\n",
    "sns.heatmap(cm,annot=True,linewidth=0.5,linecolor=\"red\",fmt=\".0f\",ax=ax)\n",
    "plt.xlabel(\"y_pred\")\n",
    "plt.ylabel(\"y_true\")\n",
    "plt.show()"
   ]
  },
  {
   "cell_type": "code",
   "execution_count": 78,
   "metadata": {},
   "outputs": [
    {
     "name": "stderr",
     "output_type": "stream",
     "text": [
      "C:\\Users\\FOCUS\\AppData\\Local\\Temp\\ipykernel_5504\\684755246.py:9: FutureWarning: The frame.append method is deprecated and will be removed from pandas in a future version. Use pandas.concat instead.\n",
      "  output_df = output_df.append(result_dict, ignore_index=True)\n"
     ]
    }
   ],
   "source": [
    "# Add to output sheet\n",
    "result_dict = {\n",
    "    'Accuracy': dt_score,\n",
    "    'Precision': precision,\n",
    "    'Recall': recall,\n",
    "    'F1-Score': fscore,\n",
    "    'Time': end_time-start_time\n",
    "}\n",
    "output_df = output_df.append(result_dict, ignore_index=True)\n",
    "# Add index name\n",
    "output_index.append('DT (GA)')"
   ]
  },
  {
   "cell_type": "markdown",
   "metadata": {},
   "source": [
    "#### Apply ET"
   ]
  },
  {
   "cell_type": "code",
   "execution_count": 79,
   "metadata": {},
   "outputs": [
    {
     "name": "stdout",
     "output_type": "stream",
     "text": [
      "Accuracy of ET: 0.9702357171394327\n",
      "Precision of ET: 0.9696153110345163\n",
      "Recall of ET: 0.9702357171394327\n",
      "F1-score of ET: 0.9696991375004366\n",
      "              precision    recall  f1-score   support\n",
      "\n",
      "           0       1.00      1.00      1.00       476\n",
      "           1       0.88      0.78      0.82       280\n",
      "           2       0.97      0.99      0.98      3328\n",
      "           3       0.98      0.95      0.97       321\n",
      "           4       0.97      0.95      0.96       601\n",
      "\n",
      "    accuracy                           0.97      5006\n",
      "   macro avg       0.96      0.93      0.95      5006\n",
      "weighted avg       0.97      0.97      0.97      5006\n",
      "\n"
     ]
    },
    {
     "data": {
      "image/png": "[encoded data removed]",
      "text/plain": [
       "<Figure size 360x360 with 2 Axes>"
      ]
     },
     "metadata": {
      "needs_background": "light"
     },
     "output_type": "display_data"
    }
   ],
   "source": [
    "et = ExtraTreesClassifier(random_state = 0)\n",
    "start_time = time.time()\n",
    "et.fit(X_train,y_train)\n",
    "end_time = time.time() \n",
    "et_score=et.score(X_test,y_test)\n",
    "y_predict=et.predict(X_test)\n",
    "y_true=y_test\n",
    "print('Accuracy of ET: '+ str(et_score))\n",
    "precision,recall,fscore,none= precision_recall_fscore_support(y_true, y_predict, average='weighted') \n",
    "print('Precision of ET: '+(str(precision)))\n",
    "print('Recall of ET: '+(str(recall)))\n",
    "print('F1-score of ET: '+(str(fscore)))\n",
    "print(classification_report(y_true,y_predict))\n",
    "cm=confusion_matrix(y_true,y_predict)\n",
    "f,ax=plt.subplots(figsize=(5,5))\n",
    "sns.heatmap(cm,annot=True,linewidth=0.5,linecolor=\"red\",fmt=\".0f\",ax=ax)\n",
    "plt.xlabel(\"y_pred\")\n",
    "plt.ylabel(\"y_true\")\n",
    "plt.show()"
   ]
  },
  {
   "cell_type": "code",
   "execution_count": 80,
   "metadata": {},
   "outputs": [
    {
     "name": "stderr",
     "output_type": "stream",
     "text": [
      "C:\\Users\\FOCUS\\AppData\\Local\\Temp\\ipykernel_5504\\2068824918.py:9: FutureWarning: The frame.append method is deprecated and will be removed from pandas in a future version. Use pandas.concat instead.\n",
      "  output_df = output_df.append(result_dict, ignore_index=True)\n"
     ]
    }
   ],
   "source": [
    "# Add to output sheet\n",
    "result_dict = {\n",
    "    'Accuracy': et_score,\n",
    "    'Precision': precision,\n",
    "    'Recall': recall,\n",
    "    'F1-Score': fscore,\n",
    "    'Time': end_time-start_time\n",
    "}\n",
    "output_df = output_df.append(result_dict, ignore_index=True)\n",
    "# Add index name\n",
    "output_index.append('ET (Original)')"
   ]
  },
  {
   "cell_type": "markdown",
   "metadata": {},
   "source": [
    "#### Hyperparameter optimization (HPO) of extra trees using Bayesian optimization with tree-based Parzen estimator (BO-TPE)\n",
    "Based on the GitHub repo for HPO: https://github.com/LiYangHart/Hyperparameter-Optimization-of-Machine-Learning-Algorithms"
   ]
  },
  {
   "cell_type": "code",
   "execution_count": 81,
   "metadata": {},
   "outputs": [
    {
     "name": "stdout",
     "output_type": "stream",
     "text": [
      "100%|███████████████████████████████████████████████| 20/20 [00:43<00:00,  2.20s/trial, best loss: -0.9792249300838993]\n",
      "Random Forest: Hyperopt estimated optimum {'criterion': 0, 'max_depth': 24.0, 'max_features': 17.0, 'min_samples_leaf': 4.0, 'min_samples_split': 5.0, 'n_estimators': 189.0}\n"
     ]
    }
   ],
   "source": [
    "# Hyperparameter optimization of extra trees\n",
    "from hyperopt import hp, fmin, tpe, STATUS_OK, Trials\n",
    "from sklearn.model_selection import cross_val_score, StratifiedKFold\n",
    "# Define the objective function\n",
    "def objective(params):\n",
    "    params = {\n",
    "        'n_estimators': int(params['n_estimators']), \n",
    "        'max_depth': int(params['max_depth']),\n",
    "        'max_features': int(params['max_features']),\n",
    "        \"min_samples_split\":int(params['min_samples_split']),\n",
    "        \"min_samples_leaf\":int(params['min_samples_leaf']),\n",
    "        \"criterion\":str(params['criterion'])\n",
    "    }\n",
    "    clf = ExtraTreesClassifier( **params)\n",
    "    clf.fit(X_train,y_train)\n",
    "    score=clf.score(X_test,y_test)\n",
    "\n",
    "    return {'loss':-score, 'status': STATUS_OK }\n",
    "# Define the hyperparameter configuration space\n",
    "available_criterion = ['gini','entropy']\n",
    "space = {\n",
    "    'n_estimators': hp.quniform('n_estimators', 10, 200, 1),\n",
    "    'max_depth': hp.quniform('max_depth', 5, 50, 1),\n",
    "    \"max_features\":hp.quniform('max_features', 1, 20, 1),\n",
    "    \"min_samples_split\":hp.quniform('min_samples_split',2,11,1),\n",
    "    \"min_samples_leaf\":hp.quniform('min_samples_leaf',1,11,1),\n",
    "    \"criterion\":hp.choice('criterion',available_criterion)\n",
    "}\n",
    "\n",
    "start_time = time.time()\n",
    "\n",
    "best = fmin(fn=objective,\n",
    "            space=space,\n",
    "            algo=tpe.suggest,\n",
    "            max_evals=20)\n",
    "\n",
    "end_time = time.time()\n",
    "\n",
    "print(\"Random Forest: Hyperopt estimated optimum {}\".format(best))"
   ]
  },
  {
   "cell_type": "code",
   "execution_count": 82,
   "metadata": {},
   "outputs": [
    {
     "name": "stdout",
     "output_type": "stream",
     "text": [
      "Accuracy of ET: 0.9788254095085897\n",
      "Precision of ET: 0.9787108904421562\n",
      "Recall of ET: 0.9788254095085897\n",
      "F1-score of ET: 0.9784558805649569\n",
      "              precision    recall  f1-score   support\n",
      "\n",
      "           0       1.00      0.99      0.99       476\n",
      "           1       0.94      0.83      0.88       280\n",
      "           2       0.98      1.00      0.99      3328\n",
      "           3       0.99      0.96      0.97       321\n",
      "           4       0.99      0.96      0.97       601\n",
      "\n",
      "    accuracy                           0.98      5006\n",
      "   macro avg       0.98      0.95      0.96      5006\n",
      "weighted avg       0.98      0.98      0.98      5006\n",
      "\n"
     ]
    },
    {
     "data": {
      "image/png": "[encoded data removed]",
      "text/plain": [
       "<Figure size 360x360 with 2 Axes>"
      ]
     },
     "metadata": {
      "needs_background": "light"
     },
     "output_type": "display_data"
    }
   ],
   "source": [
    "params = {\n",
    "    'n_estimators': int(best['n_estimators']), \n",
    "    'max_depth': int(best['max_depth']),\n",
    "    'max_features': int(best['max_features']),\n",
    "    \"min_samples_split\":int(best['min_samples_split']),\n",
    "    \"min_samples_leaf\":int(best['min_samples_leaf']),\n",
    "    \"criterion\":available_criterion[int(best['criterion'])]\n",
    "}\n",
    "et_hpo = ExtraTreesClassifier(**params)\n",
    "et_hpo.fit(X_train,y_train) \n",
    "et_score=et_hpo.score(X_test,y_test)\n",
    "y_predict=et_hpo.predict(X_test)\n",
    "y_true=y_test\n",
    "print('Accuracy of ET: '+ str(et_score))\n",
    "precision,recall,fscore,none= precision_recall_fscore_support(y_true, y_predict, average='weighted') \n",
    "print('Precision of ET: '+(str(precision)))\n",
    "print('Recall of ET: '+(str(recall)))\n",
    "print('F1-score of ET: '+(str(fscore)))\n",
    "print(classification_report(y_true,y_predict))\n",
    "cm=confusion_matrix(y_true,y_predict)\n",
    "f,ax=plt.subplots(figsize=(5,5))\n",
    "sns.heatmap(cm,annot=True,linewidth=0.5,linecolor=\"red\",fmt=\".0f\",ax=ax)\n",
    "plt.xlabel(\"y_pred\")\n",
    "plt.ylabel(\"y_true\")\n",
    "plt.show()"
   ]
  },
  {
   "cell_type": "code",
   "execution_count": 83,
   "metadata": {},
   "outputs": [
    {
     "name": "stderr",
     "output_type": "stream",
     "text": [
      "C:\\Users\\FOCUS\\AppData\\Local\\Temp\\ipykernel_5504\\1015509880.py:9: FutureWarning: The frame.append method is deprecated and will be removed from pandas in a future version. Use pandas.concat instead.\n",
      "  output_df = output_df.append(result_dict, ignore_index=True)\n"
     ]
    }
   ],
   "source": [
    "# Add to output sheet\n",
    "result_dict = {\n",
    "    'Accuracy': et_score,\n",
    "    'Precision': precision,\n",
    "    'Recall': recall,\n",
    "    'F1-Score': fscore,\n",
    "    'Time': end_time-start_time\n",
    "}\n",
    "output_df = output_df.append(result_dict, ignore_index=True)\n",
    "# Add index name\n",
    "output_index.append('ET (BO-TPE)')"
   ]
  },
  {
   "cell_type": "code",
   "execution_count": 84,
   "metadata": {},
   "outputs": [],
   "source": [
    "et_train=et_hpo.predict(X_train)\n",
    "et_test=et_hpo.predict(X_test)"
   ]
  },
  {
   "cell_type": "markdown",
   "metadata": {},
   "source": [
    "#### Hyperparameter optimization (HPO) of extra trees using Particle Swarm Optimization (PSO)\n",
    "Based on the GitHub repo for HPO: https://github.com/LiYangHart/Hyperparameter-Optimization-of-Machine-Learning-Algorithms"
   ]
  },
  {
   "cell_type": "code",
   "execution_count": 85,
   "metadata": {},
   "outputs": [
    {
     "name": "stdout",
     "output_type": "stream",
     "text": [
      "{'n_estimators': 183.3690286430952, 'max_features': 16.26865234375, 'max_depth': 37.483928261781, 'min_samples_split': 6.91396484375, 'min_samples_leaf': 3.6669921875, 'criterion': 0.437401648504119}\n",
      "Accuracy:0.9797576241843121\n"
     ]
    }
   ],
   "source": [
    "#Random Forest\n",
    "import optunity\n",
    "import optunity.metrics\n",
    "\n",
    "data=X_train\n",
    "labels=y_train.tolist()\n",
    "Y_train = y_train\n",
    "Y_test = y_test\n",
    "# Define the hyperparameter configuration space\n",
    "search = {\n",
    "    'n_estimators': [10, 200],\n",
    "    'max_features': [1, 20],\n",
    "    'max_depth': [5,50],\n",
    "    \"min_samples_split\":[2,11],\n",
    "    \"min_samples_leaf\":[1,11],\n",
    "    \"criterion\":[0,1]\n",
    "}\n",
    "available_criterion = ['gini', 'entropy']\n",
    "# Define the objective function\n",
    "@optunity.cross_validated(x=data, y=labels, num_folds=3)\n",
    "def performance(x_train, y_train, x_test, y_test,n_estimators=None,max_features=None,max_depth=None,min_samples_split=None,min_samples_leaf=None,criterion=None):\n",
    "    # fit the model\n",
    "    if criterion<0.5:\n",
    "        cri=available_criterion[0]\n",
    "    else:\n",
    "        cri=available_criterion[1]\n",
    "    model = ExtraTreesClassifier(n_estimators=int(n_estimators),\n",
    "                                   max_features=int(max_features),\n",
    "                                   max_depth=int(max_depth),\n",
    "                                   min_samples_split=int(min_samples_split),\n",
    "                                   min_samples_leaf=int(min_samples_leaf),\n",
    "                                   criterion=cri,\n",
    "                                  )\n",
    "    model.fit(X_train, Y_train)\n",
    "    predictions = model.predict(X_test)\n",
    "    # scores=np.mean(cross_val_score(model, X, y, cv=3, n_jobs=-1,\n",
    "                                    # scoring=\"accuracy\"))\n",
    "    # return optunity.metrics.roc_auc(y_test, predictions, positive=True)\n",
    "    return optunity.metrics.accuracy(Y_test, predictions)\n",
    "\n",
    "start_time = time.time()\n",
    "\n",
    "optimal_configuration, info, _ = optunity.maximize(performance,\n",
    "                                                  solver_name='particle swarm',\n",
    "                                                  num_evals=20,\n",
    "                                                   **search\n",
    "                                                  )\n",
    "\n",
    "end_time = time.time()\n",
    "\n",
    "print(optimal_configuration)\n",
    "print(\"Accuracy:\"+ str(info.optimum))"
   ]
  },
  {
   "cell_type": "code",
   "execution_count": 86,
   "metadata": {},
   "outputs": [
    {
     "name": "stdout",
     "output_type": "stream",
     "text": [
      "Accuracy of ET: 0.9802237315221733\n",
      "Precision of ET: 0.9801438178278962\n",
      "Recall of ET: 0.9802237315221733\n",
      "F1-score of ET: 0.979901922517662\n",
      "              precision    recall  f1-score   support\n",
      "\n",
      "           0       1.00      0.99      0.99       476\n",
      "           1       0.94      0.84      0.89       280\n",
      "           2       0.98      1.00      0.99      3328\n",
      "           3       1.00      0.96      0.98       321\n",
      "           4       0.99      0.96      0.97       601\n",
      "\n",
      "    accuracy                           0.98      5006\n",
      "   macro avg       0.98      0.95      0.96      5006\n",
      "weighted avg       0.98      0.98      0.98      5006\n",
      "\n"
     ]
    },
    {
     "data": {
      "image/png": "[encoded data removed]",
      "text/plain": [
       "<Figure size 360x360 with 2 Axes>"
      ]
     },
     "metadata": {
      "needs_background": "light"
     },
     "output_type": "display_data"
    }
   ],
   "source": [
    "params = {\n",
    "    'n_estimators': int(optimal_configuration['n_estimators']), \n",
    "    'min_samples_leaf': int(optimal_configuration['min_samples_leaf']), \n",
    "    'max_depth': int(optimal_configuration['max_depth']), \n",
    "    'min_samples_split': int(optimal_configuration['min_samples_split']), \n",
    "    'max_features': int(optimal_configuration['max_features']), \n",
    "    'criterion': available_criterion[int(optimal_configuration['criterion']+0.5)]\n",
    "}\n",
    "et_hpo = ExtraTreesClassifier(**params)\n",
    "et_hpo.fit(X_train,y_train) \n",
    "et_score=et_hpo.score(X_test,y_test)\n",
    "y_predict=et_hpo.predict(X_test)\n",
    "y_true=y_test\n",
    "print('Accuracy of ET: '+ str(et_score))\n",
    "precision,recall,fscore,none= precision_recall_fscore_support(y_true, y_predict, average='weighted') \n",
    "print('Precision of ET: '+(str(precision)))\n",
    "print('Recall of ET: '+(str(recall)))\n",
    "print('F1-score of ET: '+(str(fscore)))\n",
    "print(classification_report(y_true,y_predict))\n",
    "cm=confusion_matrix(y_true,y_predict)\n",
    "f,ax=plt.subplots(figsize=(5,5))\n",
    "sns.heatmap(cm,annot=True,linewidth=0.5,linecolor=\"red\",fmt=\".0f\",ax=ax)\n",
    "plt.xlabel(\"y_pred\")\n",
    "plt.ylabel(\"y_true\")\n",
    "plt.show()"
   ]
  },
  {
   "cell_type": "code",
   "execution_count": 87,
   "metadata": {},
   "outputs": [
    {
     "name": "stderr",
     "output_type": "stream",
     "text": [
      "C:\\Users\\FOCUS\\AppData\\Local\\Temp\\ipykernel_5504\\913336411.py:9: FutureWarning: The frame.append method is deprecated and will be removed from pandas in a future version. Use pandas.concat instead.\n",
      "  output_df = output_df.append(result_dict, ignore_index=True)\n"
     ]
    }
   ],
   "source": [
    "# Add to output sheet\n",
    "result_dict = {\n",
    "    'Accuracy': et_score,\n",
    "    'Precision': precision,\n",
    "    'Recall': recall,\n",
    "    'F1-Score': fscore,\n",
    "    'Time': end_time-start_time\n",
    "}\n",
    "output_df = output_df.append(result_dict, ignore_index=True)\n",
    "# Add index name\n",
    "output_index.append('ET (PSO)')"
   ]
  },
  {
   "cell_type": "markdown",
   "metadata": {},
   "source": [
    "#### Hyperparameter optimization (HPO) of extra trees using Genetic Algorithm (GA)\n",
    "Based on the GitHub repo for HPO: https://github.com/LiYangHart/Hyperparameter-Optimization-of-Machine-Learning-Algorithms"
   ]
  },
  {
   "cell_type": "code",
   "execution_count": 88,
   "metadata": {},
   "outputs": [
    {
     "name": "stdout",
     "output_type": "stream",
     "text": [
      "1 operators have been imported by TPOT.\n",
      "                                                                                                                       \n",
      "Generation 1 - Current Pareto front scores:\n",
      "                                                                                                                       \n",
      "-1\t0.9570881330761088\tExtraTreesClassifier(input_matrix, ExtraTreesClassifier__criterion=gini, ExtraTreesClassifier__max_depth=68, ExtraTreesClassifier__max_features=8, ExtraTreesClassifier__min_samples_leaf=4, ExtraTreesClassifier__min_samples_split=2, ExtraTreesClassifier__n_estimators=119)\n",
      "                                                                                                                       \n",
      "-2\t0.9800623891965013\tExtraTreesClassifier(ExtraTreesClassifier(input_matrix, ExtraTreesClassifier__criterion=entropy, ExtraTreesClassifier__max_depth=90, ExtraTreesClassifier__max_features=18, ExtraTreesClassifier__min_samples_leaf=4, ExtraTreesClassifier__min_samples_split=6, ExtraTreesClassifier__n_estimators=186), ExtraTreesClassifier__criterion=gini, ExtraTreesClassifier__max_depth=23, ExtraTreesClassifier__max_features=6, ExtraTreesClassifier__min_samples_leaf=6, ExtraTreesClassifier__min_samples_split=3, ExtraTreesClassifier__n_estimators=142)\n",
      "                                                                                                                       \n",
      "Generation 2 - Current Pareto front scores:\n",
      "                                                                                                                       \n",
      "-1\t0.9765862536882294\tExtraTreesClassifier(CombineDFs(input_matrix, input_matrix), ExtraTreesClassifier__criterion=entropy, ExtraTreesClassifier__max_depth=87, ExtraTreesClassifier__max_features=13, ExtraTreesClassifier__min_samples_leaf=2, ExtraTreesClassifier__min_samples_split=2, ExtraTreesClassifier__n_estimators=47)\n",
      "                                                                                                                       \n",
      "-2\t0.9800623891965013\tExtraTreesClassifier(ExtraTreesClassifier(input_matrix, ExtraTreesClassifier__criterion=entropy, ExtraTreesClassifier__max_depth=90, ExtraTreesClassifier__max_features=18, ExtraTreesClassifier__min_samples_leaf=4, ExtraTreesClassifier__min_samples_split=6, ExtraTreesClassifier__n_estimators=186), ExtraTreesClassifier__criterion=gini, ExtraTreesClassifier__max_depth=23, ExtraTreesClassifier__max_features=6, ExtraTreesClassifier__min_samples_leaf=6, ExtraTreesClassifier__min_samples_split=3, ExtraTreesClassifier__n_estimators=142)\n",
      "                                                                                                                       \n",
      "Generation 3 - Current Pareto front scores:\n",
      "                                                                                                                       \n",
      "-1\t0.980421981659271\tExtraTreesClassifier(input_matrix, ExtraTreesClassifier__criterion=entropy, ExtraTreesClassifier__max_depth=87, ExtraTreesClassifier__max_features=13, ExtraTreesClassifier__min_samples_leaf=2, ExtraTreesClassifier__min_samples_split=2, ExtraTreesClassifier__n_estimators=47)\n",
      "                                                                                                                       \n",
      "-3\t0.9822599359425398\tExtraTreesClassifier(ExtraTreesClassifier(CombineDFs(input_matrix, ExtraTreesClassifier(input_matrix, ExtraTreesClassifier__criterion=gini, ExtraTreesClassifier__max_depth=24, ExtraTreesClassifier__max_features=18, ExtraTreesClassifier__min_samples_leaf=2, ExtraTreesClassifier__min_samples_split=8, ExtraTreesClassifier__n_estimators=178)), ExtraTreesClassifier__criterion=entropy, ExtraTreesClassifier__max_depth=25, ExtraTreesClassifier__max_features=4, ExtraTreesClassifier__min_samples_leaf=7, ExtraTreesClassifier__min_samples_split=5, ExtraTreesClassifier__n_estimators=148), ExtraTreesClassifier__criterion=entropy, ExtraTreesClassifier__max_depth=87, ExtraTreesClassifier__max_features=13, ExtraTreesClassifier__min_samples_leaf=2, ExtraTreesClassifier__min_samples_split=2, ExtraTreesClassifier__n_estimators=47)\n",
      "                                                                                                                       \r"
     ]
    }
   ],
   "source": [
    "#Random Forest\n",
    "from tpot import TPOTClassifier\n",
    "# Define the hyperparameter configuration space\n",
    "parameters = {\n",
    "    'n_estimators': range(20,200),\n",
    "    \"max_features\":range(1,20),\n",
    "    'max_depth': range(10,100),\n",
    "    \"min_samples_split\":range(2,11),\n",
    "    \"min_samples_leaf\":range(1,11),\n",
    "    \"criterion\":['gini','entropy']\n",
    "             }\n",
    "# Set the hyperparameters of GA                 \n",
    "ga = TPOTClassifier(generations= 3, population_size= 10, offspring_size= 5,\n",
    "                                 verbosity= 3, early_stop= 5,\n",
    "                                 config_dict=\n",
    "                                 {'sklearn.ensemble.ExtraTreesClassifier': parameters}, \n",
    "                                 cv = 3, scoring = 'accuracy')\n",
    "start_time = time.time()\n",
    "ga.fit(X_combined, y_combined)\n",
    "end_time = time.time()"
   ]
  },
  {
   "cell_type": "code",
   "execution_count": 89,
   "metadata": {},
   "outputs": [
    {
     "name": "stdout",
     "output_type": "stream",
     "text": [
      "Accuracy of ET: 0.9838194166999601\n",
      "Precision of ET: 0.983738070031325\n",
      "Recall of ET: 0.9838194166999601\n",
      "F1-score of ET: 0.9835976836993465\n",
      "              precision    recall  f1-score   support\n",
      "\n",
      "           0       1.00      0.99      1.00       476\n",
      "           1       0.95      0.87      0.91       280\n",
      "           2       0.98      1.00      0.99      3328\n",
      "           3       1.00      0.97      0.98       321\n",
      "           4       0.99      0.97      0.98       601\n",
      "\n",
      "    accuracy                           0.98      5006\n",
      "   macro avg       0.98      0.96      0.97      5006\n",
      "weighted avg       0.98      0.98      0.98      5006\n",
      "\n"
     ]
    },
    {
     "data": {
      "image/png": "[encoded data removed]",
      "text/plain": [
       "<Figure size 360x360 with 2 Axes>"
      ]
     },
     "metadata": {
      "needs_background": "light"
     },
     "output_type": "display_data"
    }
   ],
   "source": [
    "et_hpo = ExtraTreesClassifier(**get_ga_optimized_parameters(ga, 'ExtraTreesClassifier'))\n",
    "et_hpo.fit(X_train,y_train) \n",
    "et_score=et_hpo.score(X_test,y_test)\n",
    "y_predict=et_hpo.predict(X_test)\n",
    "y_true=y_test\n",
    "print('Accuracy of ET: '+ str(et_score))\n",
    "precision,recall,fscore,none= precision_recall_fscore_support(y_true, y_predict, average='weighted') \n",
    "print('Precision of ET: '+(str(precision)))\n",
    "print('Recall of ET: '+(str(recall)))\n",
    "print('F1-score of ET: '+(str(fscore)))\n",
    "print(classification_report(y_true,y_predict))\n",
    "cm=confusion_matrix(y_true,y_predict)\n",
    "f,ax=plt.subplots(figsize=(5,5))\n",
    "sns.heatmap(cm,annot=True,linewidth=0.5,linecolor=\"red\",fmt=\".0f\",ax=ax)\n",
    "plt.xlabel(\"y_pred\")\n",
    "plt.ylabel(\"y_true\")\n",
    "plt.show()"
   ]
  },
  {
   "cell_type": "code",
   "execution_count": 90,
   "metadata": {},
   "outputs": [
    {
     "name": "stderr",
     "output_type": "stream",
     "text": [
      "C:\\Users\\FOCUS\\AppData\\Local\\Temp\\ipykernel_5504\\2417959707.py:9: FutureWarning: The frame.append method is deprecated and will be removed from pandas in a future version. Use pandas.concat instead.\n",
      "  output_df = output_df.append(result_dict, ignore_index=True)\n"
     ]
    }
   ],
   "source": [
    "# Add to output sheet\n",
    "result_dict = {\n",
    "    'Accuracy': et_score,\n",
    "    'Precision': precision,\n",
    "    'Recall': recall,\n",
    "    'F1-Score': fscore,\n",
    "    'Time': end_time-start_time\n",
    "}\n",
    "output_df = output_df.append(result_dict, ignore_index=True)\n",
    "# Add index name\n",
    "output_index.append('ET (GA)')"
   ]
  },
  {
   "cell_type": "markdown",
   "metadata": {},
   "source": [
    "### Apply stacking"
   ]
  },
  {
   "cell_type": "code",
   "execution_count": 91,
   "metadata": {},
   "outputs": [
    {
     "data": {
      "text/html": [
       "<div>\n",
       "<style scoped>\n",
       "    .dataframe tbody tr th:only-of-type {\n",
       "        vertical-align: middle;\n",
       "    }\n",
       "\n",
       "    .dataframe tbody tr th {\n",
       "        vertical-align: top;\n",
       "    }\n",
       "\n",
       "    .dataframe thead th {\n",
       "        text-align: right;\n",
       "    }\n",
       "</style>\n",
       "<table border=\"1\" class=\"dataframe\">\n",
       "  <thead>\n",
       "    <tr style=\"text-align: right;\">\n",
       "      <th></th>\n",
       "      <th>DecisionTree</th>\n",
       "      <th>RandomForest</th>\n",
       "      <th>ExtraTrees</th>\n",
       "      <th>XgBoost</th>\n",
       "    </tr>\n",
       "  </thead>\n",
       "  <tbody>\n",
       "    <tr>\n",
       "      <th>0</th>\n",
       "      <td>2</td>\n",
       "      <td>2</td>\n",
       "      <td>2</td>\n",
       "      <td>2</td>\n",
       "    </tr>\n",
       "    <tr>\n",
       "      <th>1</th>\n",
       "      <td>0</td>\n",
       "      <td>0</td>\n",
       "      <td>0</td>\n",
       "      <td>0</td>\n",
       "    </tr>\n",
       "    <tr>\n",
       "      <th>2</th>\n",
       "      <td>2</td>\n",
       "      <td>2</td>\n",
       "      <td>2</td>\n",
       "      <td>2</td>\n",
       "    </tr>\n",
       "    <tr>\n",
       "      <th>3</th>\n",
       "      <td>2</td>\n",
       "      <td>2</td>\n",
       "      <td>2</td>\n",
       "      <td>2</td>\n",
       "    </tr>\n",
       "    <tr>\n",
       "      <th>4</th>\n",
       "      <td>2</td>\n",
       "      <td>2</td>\n",
       "      <td>2</td>\n",
       "      <td>2</td>\n",
       "    </tr>\n",
       "  </tbody>\n",
       "</table>\n",
       "</div>"
      ],
      "text/plain": [
       "   DecisionTree  RandomForest  ExtraTrees  XgBoost\n",
       "0             2             2           2        2\n",
       "1             0             0           0        0\n",
       "2             2             2           2        2\n",
       "3             2             2           2        2\n",
       "4             2             2           2        2"
      ]
     },
     "execution_count": 91,
     "metadata": {},
     "output_type": "execute_result"
    }
   ],
   "source": [
    "base_predictions_train = pd.DataFrame( {\n",
    "    'DecisionTree': dt_train.ravel(),\n",
    "        'RandomForest': rf_train.ravel(),\n",
    "     'ExtraTrees': et_train.ravel(),\n",
    "     'XgBoost': xg_train.ravel(),\n",
    "    })\n",
    "base_predictions_train.head(5)"
   ]
  },
  {
   "cell_type": "code",
   "execution_count": 92,
   "metadata": {},
   "outputs": [],
   "source": [
    "dt_train=dt_train.reshape(-1, 1)\n",
    "et_train=et_train.reshape(-1, 1)\n",
    "rf_train=rf_train.reshape(-1, 1)\n",
    "xg_train=xg_train.reshape(-1, 1)\n",
    "dt_test=dt_test.reshape(-1, 1)\n",
    "et_test=et_test.reshape(-1, 1)\n",
    "rf_test=rf_test.reshape(-1, 1)\n",
    "xg_test=xg_test.reshape(-1, 1)"
   ]
  },
  {
   "cell_type": "code",
   "execution_count": 93,
   "metadata": {},
   "outputs": [
    {
     "data": {
      "text/plain": [
       "(20022, 1)"
      ]
     },
     "execution_count": 93,
     "metadata": {},
     "output_type": "execute_result"
    }
   ],
   "source": [
    "dt_train.shape"
   ]
  },
  {
   "cell_type": "code",
   "execution_count": 94,
   "metadata": {},
   "outputs": [],
   "source": [
    "x_train = np.concatenate(( dt_train, et_train, rf_train, xg_train), axis=1)\n",
    "x_test = np.concatenate(( dt_test, et_test, rf_test, xg_test), axis=1)"
   ]
  },
  {
   "cell_type": "code",
   "execution_count": 95,
   "metadata": {},
   "outputs": [
    {
     "name": "stdout",
     "output_type": "stream",
     "text": [
      "Accuracy of Stacking: 0.9902117459049141\n",
      "Precision of Stacking: 0.9901616829282035\n",
      "Recall of Stacking: 0.9902117459049141\n",
      "F1-score of Stacking: 0.9901472948051812\n",
      "              precision    recall  f1-score   support\n",
      "\n",
      "           0       1.00      1.00      1.00       476\n",
      "           1       0.96      0.93      0.94       280\n",
      "           2       0.99      1.00      0.99      3328\n",
      "           3       1.00      0.98      0.99       321\n",
      "           4       0.99      0.98      0.99       601\n",
      "\n",
      "    accuracy                           0.99      5006\n",
      "   macro avg       0.99      0.98      0.98      5006\n",
      "weighted avg       0.99      0.99      0.99      5006\n",
      "\n"
     ]
    },
    {
     "data": {
      "image/png": "[encoded data removed]",
      "text/plain": [
       "<Figure size 360x360 with 2 Axes>"
      ]
     },
     "metadata": {
      "needs_background": "light"
     },
     "output_type": "display_data"
    }
   ],
   "source": [
    "start_time = time.time()\n",
    "stk = xgb.XGBClassifier().fit(x_train, y_train)\n",
    "end_time = time.time()\n",
    "y_predict=stk.predict(x_test)\n",
    "y_true=y_test\n",
    "stk_score=accuracy_score(y_true,y_predict)\n",
    "print('Accuracy of Stacking: '+ str(stk_score))\n",
    "precision,recall,fscore,none= precision_recall_fscore_support(y_true, y_predict, average='weighted') \n",
    "print('Precision of Stacking: '+(str(precision)))\n",
    "print('Recall of Stacking: '+(str(recall)))\n",
    "print('F1-score of Stacking: '+(str(fscore)))\n",
    "print(classification_report(y_true,y_predict))\n",
    "cm=confusion_matrix(y_true,y_predict)\n",
    "f,ax=plt.subplots(figsize=(5,5))\n",
    "sns.heatmap(cm,annot=True,linewidth=0.5,linecolor=\"red\",fmt=\".0f\",ax=ax)\n",
    "plt.xlabel(\"y_pred\")\n",
    "plt.ylabel(\"y_true\")\n",
    "plt.show()"
   ]
  },
  {
   "cell_type": "code",
   "execution_count": 96,
   "metadata": {},
   "outputs": [
    {
     "name": "stderr",
     "output_type": "stream",
     "text": [
      "C:\\Users\\FOCUS\\AppData\\Local\\Temp\\ipykernel_5504\\2158505031.py:9: FutureWarning: The frame.append method is deprecated and will be removed from pandas in a future version. Use pandas.concat instead.\n",
      "  output_df = output_df.append(result_dict, ignore_index=True)\n"
     ]
    }
   ],
   "source": [
    "# Add to output sheet\n",
    "result_dict = {\n",
    "    'Accuracy': stk_score,\n",
    "    'Precision': precision,\n",
    "    'Recall': recall,\n",
    "    'F1-Score': fscore,\n",
    "    'Time': end_time-start_time\n",
    "}\n",
    "output_df = output_df.append(result_dict, ignore_index=True)\n",
    "# Add index name\n",
    "output_index.append('Stacking (Original)')"
   ]
  },
  {
   "cell_type": "markdown",
   "metadata": {},
   "source": [
    "#### Hyperparameter optimization (HPO) of the stacking ensemble model (XGBoost) using Bayesian optimization with tree-based Parzen estimator (BO-TPE)\n",
    "Based on the GitHub repo for HPO: https://github.com/LiYangHart/Hyperparameter-Optimization-of-Machine-Learning-Algorithms"
   ]
  },
  {
   "cell_type": "code",
   "execution_count": 97,
   "metadata": {},
   "outputs": [
    {
     "name": "stdout",
     "output_type": "stream",
     "text": [
      "100%|███████████████████████████████████████████████| 20/20 [00:03<00:00,  5.10trial/s, best loss: -0.9902117459049141]\n",
      "XGBoost: Hyperopt estimated optimum {'learning_rate': -0.40724960118916514, 'max_depth': 33.0, 'n_estimators': 60.0}\n"
     ]
    }
   ],
   "source": [
    "from hyperopt import hp, fmin, tpe, STATUS_OK, Trials\n",
    "from sklearn.model_selection import cross_val_score, StratifiedKFold\n",
    "def objective(params):\n",
    "    params = {\n",
    "        'n_estimators': int(params['n_estimators']), \n",
    "        'max_depth': int(params['max_depth']),\n",
    "        'learning_rate':  abs(float(params['learning_rate'])),\n",
    "\n",
    "    }\n",
    "    clf = xgb.XGBClassifier( **params)\n",
    "    clf.fit(x_train, y_train)\n",
    "    y_pred = clf.predict(x_test)\n",
    "    score = accuracy_score(y_test, y_pred)\n",
    "\n",
    "    return {'loss':-score, 'status': STATUS_OK }\n",
    "\n",
    "space = {\n",
    "    'n_estimators': hp.quniform('n_estimators', 10, 100, 5),\n",
    "    'max_depth': hp.quniform('max_depth', 4, 100, 1),\n",
    "    'learning_rate': hp.normal('learning_rate', 0.01, 0.9),\n",
    "}\n",
    "\n",
    "start_time = time.time()\n",
    "\n",
    "best = fmin(fn=objective,\n",
    "            space=space,\n",
    "            algo=tpe.suggest,\n",
    "            max_evals=20)\n",
    "\n",
    "end_time = time.time()\n",
    "\n",
    "print(\"XGBoost: Hyperopt estimated optimum {}\".format(best))"
   ]
  },
  {
   "cell_type": "code",
   "execution_count": 98,
   "metadata": {},
   "outputs": [
    {
     "name": "stdout",
     "output_type": "stream",
     "text": [
      "Accuracy of XGBoost: 0.9902117459049141\n",
      "Precision of XGBoost: 0.9901616829282035\n",
      "Recall of XGBoost: 0.9902117459049141\n",
      "F1-score of XGBoost: 0.9901472948051812\n",
      "              precision    recall  f1-score   support\n",
      "\n",
      "           0       1.00      1.00      1.00       476\n",
      "           1       0.96      0.93      0.94       280\n",
      "           2       0.99      1.00      0.99      3328\n",
      "           3       1.00      0.98      0.99       321\n",
      "           4       0.99      0.98      0.99       601\n",
      "\n",
      "    accuracy                           0.99      5006\n",
      "   macro avg       0.99      0.98      0.98      5006\n",
      "weighted avg       0.99      0.99      0.99      5006\n",
      "\n"
     ]
    },
    {
     "data": {
      "image/png": "[encoded data removed]",
      "text/plain": [
       "<Figure size 360x360 with 2 Axes>"
      ]
     },
     "metadata": {
      "needs_background": "light"
     },
     "output_type": "display_data"
    }
   ],
   "source": [
    "params = {\n",
    "    'n_estimators': int(best['n_estimators']), \n",
    "    'max_depth': int(best['max_depth']),\n",
    "    'learning_rate':  abs(float(best['learning_rate'])),\n",
    "}\n",
    "xg = xgb.XGBClassifier(**params)\n",
    "xg.fit(x_train,y_train)\n",
    "xg_score=xg.score(x_test,y_test)\n",
    "y_predict=xg.predict(x_test)\n",
    "y_true=y_test\n",
    "print('Accuracy of XGBoost: '+ str(xg_score))\n",
    "precision,recall,fscore,none= precision_recall_fscore_support(y_true, y_predict, average='weighted') \n",
    "print('Precision of XGBoost: '+(str(precision)))\n",
    "print('Recall of XGBoost: '+(str(recall)))\n",
    "print('F1-score of XGBoost: '+(str(fscore)))\n",
    "print(classification_report(y_true,y_predict))\n",
    "cm=confusion_matrix(y_true,y_predict)\n",
    "f,ax=plt.subplots(figsize=(5,5))\n",
    "sns.heatmap(cm,annot=True,linewidth=0.5,linecolor=\"red\",fmt=\".0f\",ax=ax)\n",
    "plt.xlabel(\"y_pred\")\n",
    "plt.ylabel(\"y_true\")\n",
    "plt.show()"
   ]
  },
  {
   "cell_type": "code",
   "execution_count": 99,
   "metadata": {},
   "outputs": [
    {
     "name": "stderr",
     "output_type": "stream",
     "text": [
      "C:\\Users\\FOCUS\\AppData\\Local\\Temp\\ipykernel_5504\\2176909609.py:9: FutureWarning: The frame.append method is deprecated and will be removed from pandas in a future version. Use pandas.concat instead.\n",
      "  output_df = output_df.append(result_dict, ignore_index=True)\n"
     ]
    }
   ],
   "source": [
    "# Add to output sheet\n",
    "result_dict = {\n",
    "    'Accuracy': xg_score,\n",
    "    'Precision': precision,\n",
    "    'Recall': recall,\n",
    "    'F1-Score': fscore,\n",
    "    'Time': end_time-start_time\n",
    "}\n",
    "output_df = output_df.append(result_dict, ignore_index=True)\n",
    "# Add index name\n",
    "output_index.append('Stacking (BO-TPE)')"
   ]
  },
  {
   "cell_type": "markdown",
   "metadata": {},
   "source": [
    "#### Hyperparameter optimization (HPO) of stacking ensemble model (XGBoost) using Particle Swarm Optimization (PSO)\n",
    "Based on the GitHub repo for HPO: https://github.com/LiYangHart/Hyperparameter-Optimization-of-Machine-Learning-Algorithms"
   ]
  },
  {
   "cell_type": "code",
   "execution_count": 100,
   "metadata": {},
   "outputs": [
    {
     "name": "stdout",
     "output_type": "stream",
     "text": [
      "{'n_estimators': 86.0693359375, 'max_depth': 20.53466796875, 'learning_rate': 0.7144384765625}\n",
      "Accuracy:0.9898122253296044\n"
     ]
    }
   ],
   "source": [
    "#XGBoost\n",
    "import optunity\n",
    "import optunity.metrics\n",
    "\n",
    "data= X_combined\n",
    "labels= y_combined.tolist()\n",
    "Y_train = y_train\n",
    "Y_test = y_test\n",
    "# Define the hyperparameter configuration space\n",
    "search = {\n",
    "    'n_estimators': [10, 100],\n",
    "    'max_depth': [5,50],\n",
    "    'learning_rate': [0.01, 0.9]\n",
    "}\n",
    "# Define the objective function\n",
    "@optunity.cross_validated(x=data, y=labels, num_folds=3)\n",
    "def performance(x_train, y_train, x_test, y_test,n_estimators=None, max_depth=None,learning_rate=None):\n",
    "    # fit the model\n",
    "    params = {\n",
    "        'n_estimators': int(n_estimators), \n",
    "        'max_depth': int(max_depth),\n",
    "        'learning_rate':  abs(float(learning_rate)),\n",
    "    }\n",
    "    model = xgb.XGBClassifier( **params)\n",
    "    model.fit(X_train, Y_train)\n",
    "    predictions = model.predict(X_test)\n",
    "    # scores=np.mean(cross_val_score(model, X, y, cv=3, n_jobs=-1,\n",
    "    #                                 scoring=\"accuracy\"))\n",
    "    #return optunity.metrics.roc_auc(y_test, predictions, positive=True)\n",
    "    return optunity.metrics.accuracy(Y_test, predictions)\n",
    "\n",
    "start_time = time.time()\n",
    "\n",
    "optimal_configuration, info, _ = optunity.maximize(performance,\n",
    "                                                  solver_name='particle swarm',\n",
    "                                                  num_evals=20,\n",
    "                                                   **search\n",
    "                                                  )\n",
    "\n",
    "end_time = time.time()\n",
    "\n",
    "print(optimal_configuration)\n",
    "print(\"Accuracy:\"+ str(info.optimum))"
   ]
  },
  {
   "cell_type": "code",
   "execution_count": 101,
   "metadata": {},
   "outputs": [
    {
     "name": "stdout",
     "output_type": "stream",
     "text": [
      "Accuracy of XGBoost: 0.9902117459049141\n",
      "Precision of XGBoost: 0.9901616829282035\n",
      "Recall of XGBoost: 0.9902117459049141\n",
      "F1-score of XGBoost: 0.9901472948051812\n",
      "              precision    recall  f1-score   support\n",
      "\n",
      "           0       1.00      1.00      1.00       476\n",
      "           1       0.96      0.93      0.94       280\n",
      "           2       0.99      1.00      0.99      3328\n",
      "           3       1.00      0.98      0.99       321\n",
      "           4       0.99      0.98      0.99       601\n",
      "\n",
      "    accuracy                           0.99      5006\n",
      "   macro avg       0.99      0.98      0.98      5006\n",
      "weighted avg       0.99      0.99      0.99      5006\n",
      "\n"
     ]
    },
    {
     "data": {
      "image/png": "[encoded data removed]",
      "text/plain": [
       "<Figure size 360x360 with 2 Axes>"
      ]
     },
     "metadata": {
      "needs_background": "light"
     },
     "output_type": "display_data"
    }
   ],
   "source": [
    "params = {\n",
    "    'n_estimators': int(optimal_configuration['n_estimators']), \n",
    "    'max_depth': int(optimal_configuration['max_depth']), \n",
    "    'learning_rate': abs(float(optimal_configuration['learning_rate']))\n",
    "}\n",
    "xg = xgb.XGBClassifier(**params)\n",
    "xg.fit(x_train,y_train)\n",
    "xg_score=xg.score(x_test,y_test)\n",
    "y_predict=xg.predict(x_test)\n",
    "y_true=y_test\n",
    "print('Accuracy of XGBoost: '+ str(xg_score))\n",
    "precision,recall,fscore,none= precision_recall_fscore_support(y_true, y_predict, average='weighted') \n",
    "print('Precision of XGBoost: '+(str(precision)))\n",
    "print('Recall of XGBoost: '+(str(recall)))\n",
    "print('F1-score of XGBoost: '+(str(fscore)))\n",
    "print(classification_report(y_true,y_predict))\n",
    "cm=confusion_matrix(y_true,y_predict)\n",
    "f,ax=plt.subplots(figsize=(5,5))\n",
    "sns.heatmap(cm,annot=True,linewidth=0.5,linecolor=\"red\",fmt=\".0f\",ax=ax)\n",
    "plt.xlabel(\"y_pred\")\n",
    "plt.ylabel(\"y_true\")\n",
    "plt.show()"
   ]
  },
  {
   "cell_type": "code",
   "execution_count": 102,
   "metadata": {},
   "outputs": [
    {
     "name": "stderr",
     "output_type": "stream",
     "text": [
      "C:\\Users\\FOCUS\\AppData\\Local\\Temp\\ipykernel_5504\\1408219009.py:9: FutureWarning: The frame.append method is deprecated and will be removed from pandas in a future version. Use pandas.concat instead.\n",
      "  output_df = output_df.append(result_dict, ignore_index=True)\n"
     ]
    }
   ],
   "source": [
    "# Add to output sheet\n",
    "result_dict = {\n",
    "    'Accuracy': xg_score,\n",
    "    'Precision': precision,\n",
    "    'Recall': recall,\n",
    "    'F1-Score': fscore,\n",
    "    'Time': end_time-start_time\n",
    "}\n",
    "output_df = output_df.append(result_dict, ignore_index=True)\n",
    "# Add index name\n",
    "output_index.append('Stacking (PSO)')"
   ]
  },
  {
   "cell_type": "markdown",
   "metadata": {},
   "source": [
    "#### Hyperparameter optimization (HPO) of stacking ensemble model (XGBoost) using Genetic Algorithm (GA)\n",
    "Based on the GitHub repo for HPO: https://github.com/LiYangHart/Hyperparameter-Optimization-of-Machine-Learning-Algorithms"
   ]
  },
  {
   "cell_type": "code",
   "execution_count": 103,
   "metadata": {},
   "outputs": [
    {
     "name": "stdout",
     "output_type": "stream",
     "text": [
      "1 operators have been imported by TPOT.\n",
      "                                                                                                                       \n",
      "Generation 1 - Current Pareto front scores:\n",
      "                                                                                                                       \n",
      "-1\t0.9877337637178082\tXGBClassifier(input_matrix, XGBClassifier__learning_rate=0.66, XGBClassifier__max_depth=4, XGBClassifier__n_estimators=85)\n",
      "                                                                                                                       \n",
      "Generation 2 - Current Pareto front scores:\n",
      "                                                                                                                       \n",
      "-1\t0.9877337637178082\tXGBClassifier(input_matrix, XGBClassifier__learning_rate=0.66, XGBClassifier__max_depth=4, XGBClassifier__n_estimators=85)\n",
      "                                                                                                                       \n",
      "Generation 3 - Current Pareto front scores:\n",
      "                                                                                                                       \n",
      "-1\t0.9877337637178082\tXGBClassifier(input_matrix, XGBClassifier__learning_rate=0.66, XGBClassifier__max_depth=4, XGBClassifier__n_estimators=85)\n",
      "                                                                                                                       \r"
     ]
    }
   ],
   "source": [
    "#XGBoost\n",
    "from tpot import TPOTClassifier\n",
    "# Define the hyperparameter configuration space\n",
    "parameters = {\n",
    "    'n_estimators': range(10,100),\n",
    "    'max_depth': range(4,100),\n",
    "    'learning_rate': [i/100 for i in range(1, 90)]\n",
    "}\n",
    "# Set the hyperparameters of GA                 \n",
    "ga = TPOTClassifier(generations= 3, population_size= 10, offspring_size= 5,\n",
    "                                 verbosity= 3, early_stop= 5,\n",
    "                                 config_dict=\n",
    "                                 {'xgboost.XGBClassifier': parameters}, \n",
    "                                 cv = 3, scoring = 'accuracy')\n",
    "start_time = time.time()\n",
    "ga.fit(X_combined, y_combined)\n",
    "end_time = time.time()"
   ]
  },
  {
   "cell_type": "code",
   "execution_count": 104,
   "metadata": {},
   "outputs": [
    {
     "name": "stdout",
     "output_type": "stream",
     "text": [
      "Accuracy of XGBoost: 0.9902117459049141\n",
      "Precision of XGBoost: 0.9901616829282035\n",
      "Recall of XGBoost: 0.9902117459049141\n",
      "F1-score of XGBoost: 0.9901472948051812\n",
      "              precision    recall  f1-score   support\n",
      "\n",
      "           0       1.00      1.00      1.00       476\n",
      "           1       0.96      0.93      0.94       280\n",
      "           2       0.99      1.00      0.99      3328\n",
      "           3       1.00      0.98      0.99       321\n",
      "           4       0.99      0.98      0.99       601\n",
      "\n",
      "    accuracy                           0.99      5006\n",
      "   macro avg       0.99      0.98      0.98      5006\n",
      "weighted avg       0.99      0.99      0.99      5006\n",
      "\n"
     ]
    },
    {
     "data": {
      "image/png": "[encoded data removed]",
      "text/plain": [
       "<Figure size 360x360 with 2 Axes>"
      ]
     },
     "metadata": {
      "needs_background": "light"
     },
     "output_type": "display_data"
    }
   ],
   "source": [
    "xg = xgb.XGBClassifier(**get_ga_optimized_parameters(ga, 'XGBClassifier'))\n",
    "xg.fit(x_train,y_train)\n",
    "xg_score=xg.score(x_test,y_test)\n",
    "y_predict=xg.predict(x_test)\n",
    "y_true=y_test\n",
    "print('Accuracy of XGBoost: '+ str(xg_score))\n",
    "precision,recall,fscore,none= precision_recall_fscore_support(y_true, y_predict, average='weighted') \n",
    "print('Precision of XGBoost: '+(str(precision)))\n",
    "print('Recall of XGBoost: '+(str(recall)))\n",
    "print('F1-score of XGBoost: '+(str(fscore)))\n",
    "print(classification_report(y_true,y_predict))\n",
    "cm=confusion_matrix(y_true,y_predict)\n",
    "f,ax=plt.subplots(figsize=(5,5))\n",
    "sns.heatmap(cm,annot=True,linewidth=0.5,linecolor=\"red\",fmt=\".0f\",ax=ax)\n",
    "plt.xlabel(\"y_pred\")\n",
    "plt.ylabel(\"y_true\")\n",
    "plt.show()"
   ]
  },
  {
   "cell_type": "code",
   "execution_count": 105,
   "metadata": {},
   "outputs": [
    {
     "name": "stderr",
     "output_type": "stream",
     "text": [
      "C:\\Users\\FOCUS\\AppData\\Local\\Temp\\ipykernel_5504\\1928403416.py:9: FutureWarning: The frame.append method is deprecated and will be removed from pandas in a future version. Use pandas.concat instead.\n",
      "  output_df = output_df.append(result_dict, ignore_index=True)\n"
     ]
    }
   ],
   "source": [
    "# Add to output sheet\n",
    "result_dict = {\n",
    "    'Accuracy': xg_score,\n",
    "    'Precision': precision,\n",
    "    'Recall': recall,\n",
    "    'F1-Score': fscore,\n",
    "    'Time': end_time-start_time\n",
    "}\n",
    "output_df = output_df.append(result_dict, ignore_index=True)\n",
    "# Add index name\n",
    "output_index.append('Stacking (GA)')"
   ]
  },
  {
   "cell_type": "code",
   "execution_count": 107,
   "metadata": {},
   "outputs": [],
   "source": [
    "# Rename the index\n",
    "output_df.index = output_index\n",
    "# Save the result to file\n",
    "import datetime\n",
    "output_df.to_excel('result-{}.xlsx'.format(datetime.datetime.now().strftime('%y%m%d-%H%M%S')))"
   ]
  },
  {
   "cell_type": "code",
   "execution_count": null,
   "metadata": {},
   "outputs": [],
   "source": []
  },
  {
   "cell_type": "code",
   "execution_count": null,
   "metadata": {},
   "outputs": [],
   "source": []
  },
  {
   "cell_type": "code",
   "execution_count": null,
   "metadata": {},
   "outputs": [],
   "source": []
  },
  {
   "cell_type": "code",
   "execution_count": null,
   "metadata": {},
   "outputs": [],
   "source": []
  }
 ],
 "metadata": {
  "anaconda-cloud": {},
  "interpreter": {
   "hash": "bc342a2d18cd8de928dda5685bacff2bb239146e0847e732d8a85b5d43ec132e"
  },
  "kernelspec": {
   "display_name": "tf2",
   "language": "python",
   "name": "tf2"
  },
  "language_info": {
   "codemirror_mode": {
    "name": "ipython",
    "version": 3
   },
   "file_extension": ".py",
   "mimetype": "text/x-python",
   "name": "python",
   "nbconvert_exporter": "python",
   "pygments_lexer": "ipython3",
   "version": "3.8.13"
  }
 },
 "nbformat": 4,
 "nbformat_minor": 2
}
