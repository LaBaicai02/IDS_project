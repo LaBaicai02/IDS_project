{
 "cells": [
  {
   "cell_type": "code",
   "execution_count": 1,
   "id": "58256e76",
   "metadata": {},
   "outputs": [],
   "source": [
    "import numpy as np\n",
    "import pandas as pd\n",
    "import seaborn as sns\n",
    "import matplotlib.pyplot as plt\n",
    "from sklearn.preprocessing import LabelEncoder\n",
    "from sklearn.model_selection import train_test_split\n",
    "from sklearn.metrics import classification_report,confusion_matrix,accuracy_score,precision_recall_fscore_support\n",
    "from sklearn.metrics import f1_score,roc_auc_score\n",
    "from sklearn.ensemble import RandomForestClassifier,ExtraTreesClassifier\n",
    "from sklearn.tree import DecisionTreeClassifier\n",
    "from sklearn.model_selection import cross_val_score\n",
    "import xgboost as xgb\n",
    "from xgboost import plot_importance"
   ]
  },
  {
   "cell_type": "code",
   "execution_count": 2,
   "id": "4215b3f5",
   "metadata": {},
   "outputs": [],
   "source": [
    "#Read dataset\n",
    "df = pd.read_csv('./data/IoT Network Intrusion Dataset.csv')"
   ]
  },
  {
   "cell_type": "code",
   "execution_count": 3,
   "id": "596c5419",
   "metadata": {},
   "outputs": [
    {
     "data": {
      "text/plain": [
       "['Flow_ID', 'Src_IP', 'Dst_IP', 'Timestamp', 'Label', 'Cat', 'Sub_Cat']"
      ]
     },
     "execution_count": 3,
     "metadata": {},
     "output_type": "execute_result"
    }
   ],
   "source": [
    "cols = (df.dtypes=='object')\n",
    "object_cols = list(cols[cols].index)\n",
    "object_cols"
   ]
  },
  {
   "cell_type": "code",
   "execution_count": 4,
   "id": "9c6b8a57",
   "metadata": {
    "scrolled": true
   },
   "outputs": [],
   "source": [
    "x=[0,1,3,85]\n",
    "df.drop(df.columns[x], axis = 1, inplace=True)\n",
    "df.drop('Timestamp', axis=1, inplace = True)"
   ]
  },
  {
   "cell_type": "code",
   "execution_count": 5,
   "id": "c7b7beda",
   "metadata": {
    "scrolled": false
   },
   "outputs": [
    {
     "data": {
      "text/html": [
       "<div>\n",
       "<style scoped>\n",
       "    .dataframe tbody tr th:only-of-type {\n",
       "        vertical-align: middle;\n",
       "    }\n",
       "\n",
       "    .dataframe tbody tr th {\n",
       "        vertical-align: top;\n",
       "    }\n",
       "\n",
       "    .dataframe thead th {\n",
       "        text-align: right;\n",
       "    }\n",
       "</style>\n",
       "<table border=\"1\" class=\"dataframe\">\n",
       "  <thead>\n",
       "    <tr style=\"text-align: right;\">\n",
       "      <th></th>\n",
       "      <th>Src_Port</th>\n",
       "      <th>Dst_Port</th>\n",
       "      <th>Protocol</th>\n",
       "      <th>Flow_Duration</th>\n",
       "      <th>Tot_Fwd_Pkts</th>\n",
       "      <th>Tot_Bwd_Pkts</th>\n",
       "      <th>TotLen_Fwd_Pkts</th>\n",
       "      <th>TotLen_Bwd_Pkts</th>\n",
       "      <th>Fwd_Pkt_Len_Max</th>\n",
       "      <th>Fwd_Pkt_Len_Min</th>\n",
       "      <th>...</th>\n",
       "      <th>Active_Mean</th>\n",
       "      <th>Active_Std</th>\n",
       "      <th>Active_Max</th>\n",
       "      <th>Active_Min</th>\n",
       "      <th>Idle_Mean</th>\n",
       "      <th>Idle_Std</th>\n",
       "      <th>Idle_Max</th>\n",
       "      <th>Idle_Min</th>\n",
       "      <th>Label</th>\n",
       "      <th>Cat</th>\n",
       "    </tr>\n",
       "  </thead>\n",
       "  <tbody>\n",
       "    <tr>\n",
       "      <th>0</th>\n",
       "      <td>10000</td>\n",
       "      <td>10101</td>\n",
       "      <td>17</td>\n",
       "      <td>75</td>\n",
       "      <td>1</td>\n",
       "      <td>1</td>\n",
       "      <td>982.0</td>\n",
       "      <td>1430.0</td>\n",
       "      <td>982.0</td>\n",
       "      <td>982.0</td>\n",
       "      <td>...</td>\n",
       "      <td>0.0</td>\n",
       "      <td>0.0</td>\n",
       "      <td>0.0</td>\n",
       "      <td>0.0</td>\n",
       "      <td>75.0</td>\n",
       "      <td>0.000000</td>\n",
       "      <td>75.0</td>\n",
       "      <td>75.0</td>\n",
       "      <td>Anomaly</td>\n",
       "      <td>Mirai</td>\n",
       "    </tr>\n",
       "    <tr>\n",
       "      <th>1</th>\n",
       "      <td>2179</td>\n",
       "      <td>554</td>\n",
       "      <td>6</td>\n",
       "      <td>5310</td>\n",
       "      <td>1</td>\n",
       "      <td>2</td>\n",
       "      <td>0.0</td>\n",
       "      <td>0.0</td>\n",
       "      <td>0.0</td>\n",
       "      <td>0.0</td>\n",
       "      <td>...</td>\n",
       "      <td>0.0</td>\n",
       "      <td>0.0</td>\n",
       "      <td>0.0</td>\n",
       "      <td>0.0</td>\n",
       "      <td>2655.0</td>\n",
       "      <td>2261.327486</td>\n",
       "      <td>4254.0</td>\n",
       "      <td>1056.0</td>\n",
       "      <td>Anomaly</td>\n",
       "      <td>DoS</td>\n",
       "    </tr>\n",
       "    <tr>\n",
       "      <th>2</th>\n",
       "      <td>52727</td>\n",
       "      <td>9020</td>\n",
       "      <td>6</td>\n",
       "      <td>141</td>\n",
       "      <td>0</td>\n",
       "      <td>3</td>\n",
       "      <td>0.0</td>\n",
       "      <td>2806.0</td>\n",
       "      <td>0.0</td>\n",
       "      <td>0.0</td>\n",
       "      <td>...</td>\n",
       "      <td>0.0</td>\n",
       "      <td>0.0</td>\n",
       "      <td>0.0</td>\n",
       "      <td>0.0</td>\n",
       "      <td>70.5</td>\n",
       "      <td>0.707107</td>\n",
       "      <td>71.0</td>\n",
       "      <td>70.0</td>\n",
       "      <td>Anomaly</td>\n",
       "      <td>Scan</td>\n",
       "    </tr>\n",
       "    <tr>\n",
       "      <th>3</th>\n",
       "      <td>52964</td>\n",
       "      <td>9020</td>\n",
       "      <td>6</td>\n",
       "      <td>151</td>\n",
       "      <td>0</td>\n",
       "      <td>2</td>\n",
       "      <td>0.0</td>\n",
       "      <td>2776.0</td>\n",
       "      <td>0.0</td>\n",
       "      <td>0.0</td>\n",
       "      <td>...</td>\n",
       "      <td>0.0</td>\n",
       "      <td>0.0</td>\n",
       "      <td>0.0</td>\n",
       "      <td>0.0</td>\n",
       "      <td>151.0</td>\n",
       "      <td>0.000000</td>\n",
       "      <td>151.0</td>\n",
       "      <td>151.0</td>\n",
       "      <td>Anomaly</td>\n",
       "      <td>Mirai</td>\n",
       "    </tr>\n",
       "    <tr>\n",
       "      <th>4</th>\n",
       "      <td>36763</td>\n",
       "      <td>1900</td>\n",
       "      <td>17</td>\n",
       "      <td>153</td>\n",
       "      <td>2</td>\n",
       "      <td>1</td>\n",
       "      <td>886.0</td>\n",
       "      <td>420.0</td>\n",
       "      <td>452.0</td>\n",
       "      <td>434.0</td>\n",
       "      <td>...</td>\n",
       "      <td>0.0</td>\n",
       "      <td>0.0</td>\n",
       "      <td>0.0</td>\n",
       "      <td>0.0</td>\n",
       "      <td>76.5</td>\n",
       "      <td>0.707107</td>\n",
       "      <td>77.0</td>\n",
       "      <td>76.0</td>\n",
       "      <td>Anomaly</td>\n",
       "      <td>Mirai</td>\n",
       "    </tr>\n",
       "    <tr>\n",
       "      <th>...</th>\n",
       "      <td>...</td>\n",
       "      <td>...</td>\n",
       "      <td>...</td>\n",
       "      <td>...</td>\n",
       "      <td>...</td>\n",
       "      <td>...</td>\n",
       "      <td>...</td>\n",
       "      <td>...</td>\n",
       "      <td>...</td>\n",
       "      <td>...</td>\n",
       "      <td>...</td>\n",
       "      <td>...</td>\n",
       "      <td>...</td>\n",
       "      <td>...</td>\n",
       "      <td>...</td>\n",
       "      <td>...</td>\n",
       "      <td>...</td>\n",
       "      <td>...</td>\n",
       "      <td>...</td>\n",
       "      <td>...</td>\n",
       "      <td>...</td>\n",
       "    </tr>\n",
       "    <tr>\n",
       "      <th>625778</th>\n",
       "      <td>56112</td>\n",
       "      <td>8043</td>\n",
       "      <td>17</td>\n",
       "      <td>277</td>\n",
       "      <td>1</td>\n",
       "      <td>1</td>\n",
       "      <td>18.0</td>\n",
       "      <td>18.0</td>\n",
       "      <td>18.0</td>\n",
       "      <td>18.0</td>\n",
       "      <td>...</td>\n",
       "      <td>0.0</td>\n",
       "      <td>0.0</td>\n",
       "      <td>0.0</td>\n",
       "      <td>0.0</td>\n",
       "      <td>277.0</td>\n",
       "      <td>0.000000</td>\n",
       "      <td>277.0</td>\n",
       "      <td>277.0</td>\n",
       "      <td>Anomaly</td>\n",
       "      <td>Mirai</td>\n",
       "    </tr>\n",
       "    <tr>\n",
       "      <th>625779</th>\n",
       "      <td>4570</td>\n",
       "      <td>554</td>\n",
       "      <td>6</td>\n",
       "      <td>1658</td>\n",
       "      <td>0</td>\n",
       "      <td>2</td>\n",
       "      <td>0.0</td>\n",
       "      <td>0.0</td>\n",
       "      <td>0.0</td>\n",
       "      <td>0.0</td>\n",
       "      <td>...</td>\n",
       "      <td>0.0</td>\n",
       "      <td>0.0</td>\n",
       "      <td>0.0</td>\n",
       "      <td>0.0</td>\n",
       "      <td>1658.0</td>\n",
       "      <td>0.000000</td>\n",
       "      <td>1658.0</td>\n",
       "      <td>1658.0</td>\n",
       "      <td>Anomaly</td>\n",
       "      <td>DoS</td>\n",
       "    </tr>\n",
       "    <tr>\n",
       "      <th>625780</th>\n",
       "      <td>52739</td>\n",
       "      <td>9020</td>\n",
       "      <td>6</td>\n",
       "      <td>77</td>\n",
       "      <td>1</td>\n",
       "      <td>1</td>\n",
       "      <td>0.0</td>\n",
       "      <td>0.0</td>\n",
       "      <td>0.0</td>\n",
       "      <td>0.0</td>\n",
       "      <td>...</td>\n",
       "      <td>0.0</td>\n",
       "      <td>0.0</td>\n",
       "      <td>0.0</td>\n",
       "      <td>0.0</td>\n",
       "      <td>77.0</td>\n",
       "      <td>0.000000</td>\n",
       "      <td>77.0</td>\n",
       "      <td>77.0</td>\n",
       "      <td>Anomaly</td>\n",
       "      <td>Scan</td>\n",
       "    </tr>\n",
       "    <tr>\n",
       "      <th>625781</th>\n",
       "      <td>9020</td>\n",
       "      <td>49784</td>\n",
       "      <td>6</td>\n",
       "      <td>240</td>\n",
       "      <td>2</td>\n",
       "      <td>1</td>\n",
       "      <td>2776.0</td>\n",
       "      <td>1388.0</td>\n",
       "      <td>1388.0</td>\n",
       "      <td>1388.0</td>\n",
       "      <td>...</td>\n",
       "      <td>0.0</td>\n",
       "      <td>0.0</td>\n",
       "      <td>0.0</td>\n",
       "      <td>0.0</td>\n",
       "      <td>120.0</td>\n",
       "      <td>7.071068</td>\n",
       "      <td>125.0</td>\n",
       "      <td>115.0</td>\n",
       "      <td>Normal</td>\n",
       "      <td>Normal</td>\n",
       "    </tr>\n",
       "    <tr>\n",
       "      <th>625782</th>\n",
       "      <td>10000</td>\n",
       "      <td>10101</td>\n",
       "      <td>17</td>\n",
       "      <td>198</td>\n",
       "      <td>2</td>\n",
       "      <td>1</td>\n",
       "      <td>2860.0</td>\n",
       "      <td>1430.0</td>\n",
       "      <td>1430.0</td>\n",
       "      <td>1430.0</td>\n",
       "      <td>...</td>\n",
       "      <td>0.0</td>\n",
       "      <td>0.0</td>\n",
       "      <td>0.0</td>\n",
       "      <td>0.0</td>\n",
       "      <td>99.0</td>\n",
       "      <td>32.526912</td>\n",
       "      <td>122.0</td>\n",
       "      <td>76.0</td>\n",
       "      <td>Anomaly</td>\n",
       "      <td>Mirai</td>\n",
       "    </tr>\n",
       "  </tbody>\n",
       "</table>\n",
       "<p>625783 rows × 81 columns</p>\n",
       "</div>"
      ],
      "text/plain": [
       "        Src_Port  Dst_Port  Protocol  Flow_Duration  Tot_Fwd_Pkts  \\\n",
       "0          10000     10101        17             75             1   \n",
       "1           2179       554         6           5310             1   \n",
       "2          52727      9020         6            141             0   \n",
       "3          52964      9020         6            151             0   \n",
       "4          36763      1900        17            153             2   \n",
       "...          ...       ...       ...            ...           ...   \n",
       "625778     56112      8043        17            277             1   \n",
       "625779      4570       554         6           1658             0   \n",
       "625780     52739      9020         6             77             1   \n",
       "625781      9020     49784         6            240             2   \n",
       "625782     10000     10101        17            198             2   \n",
       "\n",
       "        Tot_Bwd_Pkts  TotLen_Fwd_Pkts  TotLen_Bwd_Pkts  Fwd_Pkt_Len_Max  \\\n",
       "0                  1            982.0           1430.0            982.0   \n",
       "1                  2              0.0              0.0              0.0   \n",
       "2                  3              0.0           2806.0              0.0   \n",
       "3                  2              0.0           2776.0              0.0   \n",
       "4                  1            886.0            420.0            452.0   \n",
       "...              ...              ...              ...              ...   \n",
       "625778             1             18.0             18.0             18.0   \n",
       "625779             2              0.0              0.0              0.0   \n",
       "625780             1              0.0              0.0              0.0   \n",
       "625781             1           2776.0           1388.0           1388.0   \n",
       "625782             1           2860.0           1430.0           1430.0   \n",
       "\n",
       "        Fwd_Pkt_Len_Min  ...  Active_Mean  Active_Std  Active_Max  Active_Min  \\\n",
       "0                 982.0  ...          0.0         0.0         0.0         0.0   \n",
       "1                   0.0  ...          0.0         0.0         0.0         0.0   \n",
       "2                   0.0  ...          0.0         0.0         0.0         0.0   \n",
       "3                   0.0  ...          0.0         0.0         0.0         0.0   \n",
       "4                 434.0  ...          0.0         0.0         0.0         0.0   \n",
       "...                 ...  ...          ...         ...         ...         ...   \n",
       "625778             18.0  ...          0.0         0.0         0.0         0.0   \n",
       "625779              0.0  ...          0.0         0.0         0.0         0.0   \n",
       "625780              0.0  ...          0.0         0.0         0.0         0.0   \n",
       "625781           1388.0  ...          0.0         0.0         0.0         0.0   \n",
       "625782           1430.0  ...          0.0         0.0         0.0         0.0   \n",
       "\n",
       "        Idle_Mean     Idle_Std  Idle_Max  Idle_Min    Label     Cat  \n",
       "0            75.0     0.000000      75.0      75.0  Anomaly   Mirai  \n",
       "1          2655.0  2261.327486    4254.0    1056.0  Anomaly     DoS  \n",
       "2            70.5     0.707107      71.0      70.0  Anomaly    Scan  \n",
       "3           151.0     0.000000     151.0     151.0  Anomaly   Mirai  \n",
       "4            76.5     0.707107      77.0      76.0  Anomaly   Mirai  \n",
       "...           ...          ...       ...       ...      ...     ...  \n",
       "625778      277.0     0.000000     277.0     277.0  Anomaly   Mirai  \n",
       "625779     1658.0     0.000000    1658.0    1658.0  Anomaly     DoS  \n",
       "625780       77.0     0.000000      77.0      77.0  Anomaly    Scan  \n",
       "625781      120.0     7.071068     125.0     115.0   Normal  Normal  \n",
       "625782       99.0    32.526912     122.0      76.0  Anomaly   Mirai  \n",
       "\n",
       "[625783 rows x 81 columns]"
      ]
     },
     "execution_count": 5,
     "metadata": {},
     "output_type": "execute_result"
    }
   ],
   "source": [
    "df"
   ]
  },
  {
   "cell_type": "code",
   "execution_count": 6,
   "id": "fb10d171",
   "metadata": {
    "scrolled": true
   },
   "outputs": [
    {
     "data": {
      "text/plain": [
       "Mirai                415677\n",
       "Scan                  75265\n",
       "DoS                   59391\n",
       "Normal                40073\n",
       "MITM ARP Spoofing     35377\n",
       "Name: Cat, dtype: int64"
      ]
     },
     "execution_count": 6,
     "metadata": {},
     "output_type": "execute_result"
    }
   ],
   "source": [
    "df.Cat.value_counts()"
   ]
  },
  {
   "cell_type": "code",
   "execution_count": 7,
   "id": "c086fc90",
   "metadata": {},
   "outputs": [
    {
     "data": {
      "text/plain": [
       "Src_Port           int64\n",
       "Dst_Port           int64\n",
       "Protocol           int64\n",
       "Flow_Duration      int64\n",
       "Tot_Fwd_Pkts       int64\n",
       "                  ...   \n",
       "Idle_Std         float64\n",
       "Idle_Max         float64\n",
       "Idle_Min         float64\n",
       "Label             object\n",
       "Cat               object\n",
       "Length: 81, dtype: object"
      ]
     },
     "execution_count": 7,
     "metadata": {},
     "output_type": "execute_result"
    }
   ],
   "source": [
    "df.dtypes"
   ]
  },
  {
   "cell_type": "code",
   "execution_count": 8,
   "id": "531cb95f",
   "metadata": {},
   "outputs": [],
   "source": [
    "# Z-score normalization\n",
    "features = df.dtypes[df.dtypes != 'object'].index\n",
    "df[features] = df[features].apply(\n",
    "    lambda x: (x - x.mean()) / (x.std()))\n",
    "# Fill empty values by 0\n",
    "df = df.fillna(0)"
   ]
  },
  {
   "cell_type": "code",
   "execution_count": 9,
   "id": "0e39e3d0",
   "metadata": {},
   "outputs": [],
   "source": [
    "labelencoder = LabelEncoder()\n",
    "df.iloc[:, -1] = labelencoder.fit_transform(df.iloc[:, -1])\n",
    "df.iloc[:, -2] = labelencoder.fit_transform(df.iloc[:, -2])\n"
   ]
  },
  {
   "cell_type": "code",
   "execution_count": 10,
   "id": "d37cb5c3",
   "metadata": {},
   "outputs": [
    {
     "data": {
      "text/plain": [
       "2    415677\n",
       "4     75265\n",
       "0     59391\n",
       "3     40073\n",
       "1     35377\n",
       "Name: Cat, dtype: int64"
      ]
     },
     "execution_count": 10,
     "metadata": {},
     "output_type": "execute_result"
    }
   ],
   "source": [
    "df.Cat.value_counts()"
   ]
  },
  {
   "cell_type": "code",
   "execution_count": 11,
   "id": "82769102",
   "metadata": {},
   "outputs": [],
   "source": [
    "# df_minor = df[(df['Cat']==1)|(df['Cat']==3)]\n",
    "# df_major = df.drop(df_minor.index)"
   ]
  },
  {
   "cell_type": "code",
   "execution_count": 12,
   "id": "d4a081d4",
   "metadata": {},
   "outputs": [],
   "source": [
    "# df_major.Cat.value_counts()"
   ]
  },
  {
   "cell_type": "code",
   "execution_count": 13,
   "id": "8930fec6",
   "metadata": {},
   "outputs": [],
   "source": [
    "# X = df_major.drop(['Cat'],axis=1) \n",
    "# y = df_major.iloc[:, -1].values.reshape(-1,1)\n",
    "# y=np.ravel(y)\n"
   ]
  },
  {
   "cell_type": "code",
   "execution_count": 14,
   "id": "c5ebe194",
   "metadata": {},
   "outputs": [],
   "source": [
    "X = df.drop(['Cat'],axis=1) \n",
    "y = df.iloc[:, -1].values.reshape(-1,1)\n",
    "y=np.ravel(y)"
   ]
  },
  {
   "cell_type": "code",
   "execution_count": 15,
   "id": "851fe41f",
   "metadata": {},
   "outputs": [],
   "source": [
    "# use k-means to cluster the data samples and select a proportion of data from each cluster\n",
    "from sklearn.cluster import MiniBatchKMeans\n",
    "kmeans = MiniBatchKMeans(n_clusters=1000, random_state=0).fit(X)"
   ]
  },
  {
   "cell_type": "code",
   "execution_count": 16,
   "id": "eb94c4d1",
   "metadata": {},
   "outputs": [],
   "source": [
    "klabel=kmeans.labels_\n",
    "df['klabel']=klabel"
   ]
  },
  {
   "cell_type": "code",
   "execution_count": 17,
   "id": "c990d748",
   "metadata": {},
   "outputs": [
    {
     "data": {
      "text/plain": [
       "628    4303\n",
       "943    4268\n",
       "709    4221\n",
       "516    3932\n",
       "196    3834\n",
       "       ... \n",
       "442       9\n",
       "786       9\n",
       "247       7\n",
       "683       4\n",
       "214       3\n",
       "Name: klabel, Length: 990, dtype: int64"
      ]
     },
     "execution_count": 17,
     "metadata": {},
     "output_type": "execute_result"
    }
   ],
   "source": [
    "df['klabel'].value_counts()"
   ]
  },
  {
   "cell_type": "code",
   "execution_count": 18,
   "id": "66f31972",
   "metadata": {},
   "outputs": [],
   "source": [
    "cols = list(df)\n",
    "cols.insert(81, cols.pop(cols.index('Cat')))\n",
    "df = df.loc[:, cols]"
   ]
  },
  {
   "cell_type": "code",
   "execution_count": 19,
   "id": "058e4073",
   "metadata": {},
   "outputs": [],
   "source": [
    "def typicalSampling(group):\n",
    "    name = group.name\n",
    "    frac = 0.04 #0.008\n",
    "    return group.sample(frac=frac)\n",
    "\n",
    "result = df.groupby(\n",
    "    'klabel', group_keys=False\n",
    ").apply(typicalSampling)"
   ]
  },
  {
   "cell_type": "code",
   "execution_count": 20,
   "id": "f4711484",
   "metadata": {},
   "outputs": [
    {
     "data": {
      "text/plain": [
       "2    16603\n",
       "4     3032\n",
       "0     2381\n",
       "3     1603\n",
       "1     1411\n",
       "Name: Cat, dtype: int64"
      ]
     },
     "execution_count": 20,
     "metadata": {},
     "output_type": "execute_result"
    }
   ],
   "source": [
    "result['Cat'].value_counts()"
   ]
  },
  {
   "cell_type": "code",
   "execution_count": 21,
   "id": "045c8055",
   "metadata": {},
   "outputs": [
    {
     "data": {
      "text/html": [
       "<div>\n",
       "<style scoped>\n",
       "    .dataframe tbody tr th:only-of-type {\n",
       "        vertical-align: middle;\n",
       "    }\n",
       "\n",
       "    .dataframe tbody tr th {\n",
       "        vertical-align: top;\n",
       "    }\n",
       "\n",
       "    .dataframe thead th {\n",
       "        text-align: right;\n",
       "    }\n",
       "</style>\n",
       "<table border=\"1\" class=\"dataframe\">\n",
       "  <thead>\n",
       "    <tr style=\"text-align: right;\">\n",
       "      <th></th>\n",
       "      <th>Src_Port</th>\n",
       "      <th>Dst_Port</th>\n",
       "      <th>Protocol</th>\n",
       "      <th>Flow_Duration</th>\n",
       "      <th>Tot_Fwd_Pkts</th>\n",
       "      <th>Tot_Bwd_Pkts</th>\n",
       "      <th>TotLen_Fwd_Pkts</th>\n",
       "      <th>TotLen_Bwd_Pkts</th>\n",
       "      <th>Fwd_Pkt_Len_Max</th>\n",
       "      <th>Fwd_Pkt_Len_Min</th>\n",
       "      <th>...</th>\n",
       "      <th>Active_Std</th>\n",
       "      <th>Active_Max</th>\n",
       "      <th>Active_Min</th>\n",
       "      <th>Idle_Mean</th>\n",
       "      <th>Idle_Std</th>\n",
       "      <th>Idle_Max</th>\n",
       "      <th>Idle_Min</th>\n",
       "      <th>Label</th>\n",
       "      <th>klabel</th>\n",
       "      <th>Cat</th>\n",
       "    </tr>\n",
       "  </thead>\n",
       "  <tbody>\n",
       "    <tr>\n",
       "      <th>457107</th>\n",
       "      <td>0.166896</td>\n",
       "      <td>-0.908473</td>\n",
       "      <td>-0.738205</td>\n",
       "      <td>-0.140251</td>\n",
       "      <td>-0.388765</td>\n",
       "      <td>0.435813</td>\n",
       "      <td>-0.491223</td>\n",
       "      <td>1.135676</td>\n",
       "      <td>-0.633481</td>\n",
       "      <td>-0.591889</td>\n",
       "      <td>...</td>\n",
       "      <td>-0.017052</td>\n",
       "      <td>-0.047774</td>\n",
       "      <td>-0.054003</td>\n",
       "      <td>-0.169196</td>\n",
       "      <td>-0.045443</td>\n",
       "      <td>-0.145313</td>\n",
       "      <td>-0.166811</td>\n",
       "      <td>0</td>\n",
       "      <td>0</td>\n",
       "      <td>2</td>\n",
       "    </tr>\n",
       "    <tr>\n",
       "      <th>387596</th>\n",
       "      <td>0.156621</td>\n",
       "      <td>-0.908473</td>\n",
       "      <td>-0.738205</td>\n",
       "      <td>-0.147973</td>\n",
       "      <td>-0.388765</td>\n",
       "      <td>0.435813</td>\n",
       "      <td>-0.491223</td>\n",
       "      <td>1.135676</td>\n",
       "      <td>-0.633481</td>\n",
       "      <td>-0.591889</td>\n",
       "      <td>...</td>\n",
       "      <td>-0.017052</td>\n",
       "      <td>-0.047774</td>\n",
       "      <td>-0.054003</td>\n",
       "      <td>-0.181974</td>\n",
       "      <td>-0.045443</td>\n",
       "      <td>-0.154733</td>\n",
       "      <td>-0.180787</td>\n",
       "      <td>0</td>\n",
       "      <td>0</td>\n",
       "      <td>2</td>\n",
       "    </tr>\n",
       "    <tr>\n",
       "      <th>487179</th>\n",
       "      <td>0.163903</td>\n",
       "      <td>-0.908473</td>\n",
       "      <td>-0.738205</td>\n",
       "      <td>-0.158268</td>\n",
       "      <td>-0.388765</td>\n",
       "      <td>0.435813</td>\n",
       "      <td>-0.491223</td>\n",
       "      <td>1.135676</td>\n",
       "      <td>-0.633481</td>\n",
       "      <td>-0.591889</td>\n",
       "      <td>...</td>\n",
       "      <td>-0.017052</td>\n",
       "      <td>-0.047774</td>\n",
       "      <td>-0.054003</td>\n",
       "      <td>-0.199012</td>\n",
       "      <td>-0.045443</td>\n",
       "      <td>-0.167291</td>\n",
       "      <td>-0.199422</td>\n",
       "      <td>0</td>\n",
       "      <td>0</td>\n",
       "      <td>2</td>\n",
       "    </tr>\n",
       "    <tr>\n",
       "      <th>474437</th>\n",
       "      <td>0.157026</td>\n",
       "      <td>-0.908473</td>\n",
       "      <td>-0.738205</td>\n",
       "      <td>-0.136534</td>\n",
       "      <td>-0.388765</td>\n",
       "      <td>0.435813</td>\n",
       "      <td>-0.491223</td>\n",
       "      <td>1.135676</td>\n",
       "      <td>-0.633481</td>\n",
       "      <td>-0.591889</td>\n",
       "      <td>...</td>\n",
       "      <td>-0.017052</td>\n",
       "      <td>-0.047774</td>\n",
       "      <td>-0.054003</td>\n",
       "      <td>-0.163043</td>\n",
       "      <td>-0.045443</td>\n",
       "      <td>-0.140778</td>\n",
       "      <td>-0.160082</td>\n",
       "      <td>0</td>\n",
       "      <td>0</td>\n",
       "      <td>2</td>\n",
       "    </tr>\n",
       "    <tr>\n",
       "      <th>387834</th>\n",
       "      <td>0.163983</td>\n",
       "      <td>-0.908473</td>\n",
       "      <td>-0.738205</td>\n",
       "      <td>-0.132244</td>\n",
       "      <td>-0.388765</td>\n",
       "      <td>0.435813</td>\n",
       "      <td>-0.491223</td>\n",
       "      <td>1.135676</td>\n",
       "      <td>-0.633481</td>\n",
       "      <td>-0.591889</td>\n",
       "      <td>...</td>\n",
       "      <td>-0.017052</td>\n",
       "      <td>-0.047774</td>\n",
       "      <td>-0.054003</td>\n",
       "      <td>-0.155944</td>\n",
       "      <td>-0.045443</td>\n",
       "      <td>-0.135545</td>\n",
       "      <td>-0.152318</td>\n",
       "      <td>0</td>\n",
       "      <td>0</td>\n",
       "      <td>2</td>\n",
       "    </tr>\n",
       "    <tr>\n",
       "      <th>...</th>\n",
       "      <td>...</td>\n",
       "      <td>...</td>\n",
       "      <td>...</td>\n",
       "      <td>...</td>\n",
       "      <td>...</td>\n",
       "      <td>...</td>\n",
       "      <td>...</td>\n",
       "      <td>...</td>\n",
       "      <td>...</td>\n",
       "      <td>...</td>\n",
       "      <td>...</td>\n",
       "      <td>...</td>\n",
       "      <td>...</td>\n",
       "      <td>...</td>\n",
       "      <td>...</td>\n",
       "      <td>...</td>\n",
       "      <td>...</td>\n",
       "      <td>...</td>\n",
       "      <td>...</td>\n",
       "      <td>...</td>\n",
       "      <td>...</td>\n",
       "    </tr>\n",
       "    <tr>\n",
       "      <th>108980</th>\n",
       "      <td>-1.051984</td>\n",
       "      <td>2.069300</td>\n",
       "      <td>-0.738205</td>\n",
       "      <td>-0.157696</td>\n",
       "      <td>-0.156745</td>\n",
       "      <td>-0.384201</td>\n",
       "      <td>0.703399</td>\n",
       "      <td>0.264886</td>\n",
       "      <td>1.606761</td>\n",
       "      <td>1.768006</td>\n",
       "      <td>...</td>\n",
       "      <td>-0.017052</td>\n",
       "      <td>-0.047774</td>\n",
       "      <td>-0.054003</td>\n",
       "      <td>-0.198065</td>\n",
       "      <td>-0.045443</td>\n",
       "      <td>-0.166594</td>\n",
       "      <td>-0.198386</td>\n",
       "      <td>0</td>\n",
       "      <td>999</td>\n",
       "      <td>4</td>\n",
       "    </tr>\n",
       "    <tr>\n",
       "      <th>217195</th>\n",
       "      <td>-1.051984</td>\n",
       "      <td>2.070041</td>\n",
       "      <td>-0.738205</td>\n",
       "      <td>-0.157124</td>\n",
       "      <td>-0.156745</td>\n",
       "      <td>-0.384201</td>\n",
       "      <td>0.703399</td>\n",
       "      <td>0.264886</td>\n",
       "      <td>1.606761</td>\n",
       "      <td>1.768006</td>\n",
       "      <td>...</td>\n",
       "      <td>-0.017052</td>\n",
       "      <td>-0.047774</td>\n",
       "      <td>-0.054003</td>\n",
       "      <td>-0.197119</td>\n",
       "      <td>-0.045443</td>\n",
       "      <td>-0.165896</td>\n",
       "      <td>-0.197351</td>\n",
       "      <td>0</td>\n",
       "      <td>999</td>\n",
       "      <td>4</td>\n",
       "    </tr>\n",
       "    <tr>\n",
       "      <th>537184</th>\n",
       "      <td>-1.051984</td>\n",
       "      <td>2.071295</td>\n",
       "      <td>-0.738205</td>\n",
       "      <td>-0.158840</td>\n",
       "      <td>-0.156745</td>\n",
       "      <td>-0.384201</td>\n",
       "      <td>0.703399</td>\n",
       "      <td>0.264886</td>\n",
       "      <td>1.606761</td>\n",
       "      <td>1.768006</td>\n",
       "      <td>...</td>\n",
       "      <td>-0.017052</td>\n",
       "      <td>-0.047774</td>\n",
       "      <td>-0.054003</td>\n",
       "      <td>-0.199959</td>\n",
       "      <td>-0.045443</td>\n",
       "      <td>-0.167989</td>\n",
       "      <td>-0.200457</td>\n",
       "      <td>0</td>\n",
       "      <td>999</td>\n",
       "      <td>4</td>\n",
       "    </tr>\n",
       "    <tr>\n",
       "      <th>189883</th>\n",
       "      <td>-1.051984</td>\n",
       "      <td>2.071295</td>\n",
       "      <td>-0.738205</td>\n",
       "      <td>-0.158554</td>\n",
       "      <td>-0.156745</td>\n",
       "      <td>-0.384201</td>\n",
       "      <td>0.703399</td>\n",
       "      <td>0.264886</td>\n",
       "      <td>1.606761</td>\n",
       "      <td>1.768006</td>\n",
       "      <td>...</td>\n",
       "      <td>-0.017052</td>\n",
       "      <td>-0.047774</td>\n",
       "      <td>-0.054003</td>\n",
       "      <td>-0.199485</td>\n",
       "      <td>-0.045443</td>\n",
       "      <td>-0.167640</td>\n",
       "      <td>-0.199939</td>\n",
       "      <td>0</td>\n",
       "      <td>999</td>\n",
       "      <td>4</td>\n",
       "    </tr>\n",
       "    <tr>\n",
       "      <th>137196</th>\n",
       "      <td>-1.051984</td>\n",
       "      <td>2.071295</td>\n",
       "      <td>-0.738205</td>\n",
       "      <td>-0.158554</td>\n",
       "      <td>-0.156745</td>\n",
       "      <td>-0.384201</td>\n",
       "      <td>0.703399</td>\n",
       "      <td>0.264886</td>\n",
       "      <td>1.606761</td>\n",
       "      <td>1.768006</td>\n",
       "      <td>...</td>\n",
       "      <td>-0.017052</td>\n",
       "      <td>-0.047774</td>\n",
       "      <td>-0.054003</td>\n",
       "      <td>-0.199485</td>\n",
       "      <td>-0.045443</td>\n",
       "      <td>-0.167640</td>\n",
       "      <td>-0.199939</td>\n",
       "      <td>0</td>\n",
       "      <td>999</td>\n",
       "      <td>4</td>\n",
       "    </tr>\n",
       "  </tbody>\n",
       "</table>\n",
       "<p>25030 rows × 82 columns</p>\n",
       "</div>"
      ],
      "text/plain": [
       "        Src_Port  Dst_Port  Protocol  Flow_Duration  Tot_Fwd_Pkts  \\\n",
       "457107  0.166896 -0.908473 -0.738205      -0.140251     -0.388765   \n",
       "387596  0.156621 -0.908473 -0.738205      -0.147973     -0.388765   \n",
       "487179  0.163903 -0.908473 -0.738205      -0.158268     -0.388765   \n",
       "474437  0.157026 -0.908473 -0.738205      -0.136534     -0.388765   \n",
       "387834  0.163983 -0.908473 -0.738205      -0.132244     -0.388765   \n",
       "...          ...       ...       ...            ...           ...   \n",
       "108980 -1.051984  2.069300 -0.738205      -0.157696     -0.156745   \n",
       "217195 -1.051984  2.070041 -0.738205      -0.157124     -0.156745   \n",
       "537184 -1.051984  2.071295 -0.738205      -0.158840     -0.156745   \n",
       "189883 -1.051984  2.071295 -0.738205      -0.158554     -0.156745   \n",
       "137196 -1.051984  2.071295 -0.738205      -0.158554     -0.156745   \n",
       "\n",
       "        Tot_Bwd_Pkts  TotLen_Fwd_Pkts  TotLen_Bwd_Pkts  Fwd_Pkt_Len_Max  \\\n",
       "457107      0.435813        -0.491223         1.135676        -0.633481   \n",
       "387596      0.435813        -0.491223         1.135676        -0.633481   \n",
       "487179      0.435813        -0.491223         1.135676        -0.633481   \n",
       "474437      0.435813        -0.491223         1.135676        -0.633481   \n",
       "387834      0.435813        -0.491223         1.135676        -0.633481   \n",
       "...              ...              ...              ...              ...   \n",
       "108980     -0.384201         0.703399         0.264886         1.606761   \n",
       "217195     -0.384201         0.703399         0.264886         1.606761   \n",
       "537184     -0.384201         0.703399         0.264886         1.606761   \n",
       "189883     -0.384201         0.703399         0.264886         1.606761   \n",
       "137196     -0.384201         0.703399         0.264886         1.606761   \n",
       "\n",
       "        Fwd_Pkt_Len_Min  ...  Active_Std  Active_Max  Active_Min  Idle_Mean  \\\n",
       "457107        -0.591889  ...   -0.017052   -0.047774   -0.054003  -0.169196   \n",
       "387596        -0.591889  ...   -0.017052   -0.047774   -0.054003  -0.181974   \n",
       "487179        -0.591889  ...   -0.017052   -0.047774   -0.054003  -0.199012   \n",
       "474437        -0.591889  ...   -0.017052   -0.047774   -0.054003  -0.163043   \n",
       "387834        -0.591889  ...   -0.017052   -0.047774   -0.054003  -0.155944   \n",
       "...                 ...  ...         ...         ...         ...        ...   \n",
       "108980         1.768006  ...   -0.017052   -0.047774   -0.054003  -0.198065   \n",
       "217195         1.768006  ...   -0.017052   -0.047774   -0.054003  -0.197119   \n",
       "537184         1.768006  ...   -0.017052   -0.047774   -0.054003  -0.199959   \n",
       "189883         1.768006  ...   -0.017052   -0.047774   -0.054003  -0.199485   \n",
       "137196         1.768006  ...   -0.017052   -0.047774   -0.054003  -0.199485   \n",
       "\n",
       "        Idle_Std  Idle_Max  Idle_Min  Label  klabel  Cat  \n",
       "457107 -0.045443 -0.145313 -0.166811      0       0    2  \n",
       "387596 -0.045443 -0.154733 -0.180787      0       0    2  \n",
       "487179 -0.045443 -0.167291 -0.199422      0       0    2  \n",
       "474437 -0.045443 -0.140778 -0.160082      0       0    2  \n",
       "387834 -0.045443 -0.135545 -0.152318      0       0    2  \n",
       "...          ...       ...       ...    ...     ...  ...  \n",
       "108980 -0.045443 -0.166594 -0.198386      0     999    4  \n",
       "217195 -0.045443 -0.165896 -0.197351      0     999    4  \n",
       "537184 -0.045443 -0.167989 -0.200457      0     999    4  \n",
       "189883 -0.045443 -0.167640 -0.199939      0     999    4  \n",
       "137196 -0.045443 -0.167640 -0.199939      0     999    4  \n",
       "\n",
       "[25030 rows x 82 columns]"
      ]
     },
     "execution_count": 21,
     "metadata": {},
     "output_type": "execute_result"
    }
   ],
   "source": [
    "result"
   ]
  },
  {
   "cell_type": "code",
   "execution_count": 22,
   "id": "323134be",
   "metadata": {},
   "outputs": [],
   "source": [
    "result = result.drop(['klabel'],axis=1)\n",
    "#result = result.append(df_minor)"
   ]
  },
  {
   "cell_type": "code",
   "execution_count": 23,
   "id": "eed93331",
   "metadata": {},
   "outputs": [],
   "source": [
    "result.to_csv('./data/IoTID20_sample_km.csv',index=0)"
   ]
  },
  {
   "cell_type": "code",
   "execution_count": 24,
   "id": "4f478a9f",
   "metadata": {},
   "outputs": [],
   "source": [
    "df=pd.read_csv('./data/IoTID20_sample_km.csv')"
   ]
  },
  {
   "cell_type": "code",
   "execution_count": 25,
   "id": "19c0f62a",
   "metadata": {},
   "outputs": [],
   "source": [
    "X = df.drop(['Cat'],axis=1).values\n",
    "y = df.iloc[:, -1].values.reshape(-1,1)\n",
    "y=np.ravel(y)"
   ]
  },
  {
   "cell_type": "code",
   "execution_count": 26,
   "id": "8bc8f4c0",
   "metadata": {},
   "outputs": [],
   "source": [
    "X_train, X_test, y_train, y_test = train_test_split(X,y, train_size = 0.8, test_size = 0.2, random_state = 0,stratify = y)"
   ]
  },
  {
   "cell_type": "code",
   "execution_count": 27,
   "id": "2727901b",
   "metadata": {},
   "outputs": [],
   "source": [
    "from sklearn.feature_selection import mutual_info_classif\n",
    "importances = mutual_info_classif(X_train, y_train)"
   ]
  },
  {
   "cell_type": "code",
   "execution_count": 28,
   "id": "2e6d355a",
   "metadata": {},
   "outputs": [],
   "source": [
    "# calculate the sum of importance scores\n",
    "f_list = sorted(zip(map(lambda x: round(x, 4), importances), features), reverse=True)\n",
    "Sum = 0\n",
    "fs = []\n",
    "for i in range(0, len(f_list)):\n",
    "    Sum = Sum + f_list[i][0]\n",
    "    fs.append(f_list[i][1])"
   ]
  },
  {
   "cell_type": "code",
   "execution_count": 29,
   "id": "e701dc65",
   "metadata": {},
   "outputs": [],
   "source": [
    "# select the important features from top to bottom until the accumulated importance reaches 90%\n",
    "f_list2 = sorted(zip(map(lambda x: round(x, 4), importances/Sum), features), reverse=True)\n",
    "Sum2 = 0\n",
    "fs = []\n",
    "for i in range(0, len(f_list2)):\n",
    "    Sum2 = Sum2 + f_list2[i][0]\n",
    "    fs.append(f_list2[i][1])\n",
    "    if Sum2>=0.9:\n",
    "        break        "
   ]
  },
  {
   "cell_type": "code",
   "execution_count": 30,
   "id": "92bcafbb",
   "metadata": {},
   "outputs": [],
   "source": [
    "X_fs = df[fs].values"
   ]
  },
  {
   "cell_type": "code",
   "execution_count": 31,
   "id": "2e4a725c",
   "metadata": {},
   "outputs": [
    {
     "data": {
      "text/plain": [
       "(25030, 39)"
      ]
     },
     "execution_count": 31,
     "metadata": {},
     "output_type": "execute_result"
    }
   ],
   "source": [
    "X_fs.shape"
   ]
  },
  {
   "cell_type": "code",
   "execution_count": 32,
   "id": "294f4d4b",
   "metadata": {},
   "outputs": [],
   "source": [
    "from FCBF_module import FCBF, FCBFK, FCBFiP, get_i\n",
    "fcbf = FCBFK(k = 20)\n",
    "#fcbf.fit(X_fs, y)"
   ]
  },
  {
   "cell_type": "code",
   "execution_count": 33,
   "id": "3cdfad4c",
   "metadata": {},
   "outputs": [],
   "source": [
    "X_fss = fcbf.fit_transform(X_fs,y)"
   ]
  },
  {
   "cell_type": "code",
   "execution_count": 34,
   "id": "9a4bb152",
   "metadata": {},
   "outputs": [
    {
     "data": {
      "text/plain": [
       "(25030, 20)"
      ]
     },
     "execution_count": 34,
     "metadata": {},
     "output_type": "execute_result"
    }
   ],
   "source": [
    "X_fss.shape"
   ]
  },
  {
   "cell_type": "code",
   "execution_count": 35,
   "id": "d6d13185",
   "metadata": {},
   "outputs": [],
   "source": [
    "X_train, X_test, y_train, y_test = train_test_split(X_fss,y, train_size = 0.8, test_size = 0.2, random_state = 0,stratify = y)"
   ]
  },
  {
   "cell_type": "code",
   "execution_count": 36,
   "id": "3abacae0",
   "metadata": {},
   "outputs": [
    {
     "data": {
      "text/plain": [
       "(20024, 20)"
      ]
     },
     "execution_count": 36,
     "metadata": {},
     "output_type": "execute_result"
    }
   ],
   "source": [
    "X_train.shape"
   ]
  },
  {
   "cell_type": "code",
   "execution_count": 37,
   "id": "44e5bf69",
   "metadata": {},
   "outputs": [
    {
     "data": {
      "text/plain": [
       "2    13282\n",
       "4     2426\n",
       "0     1905\n",
       "3     1282\n",
       "1     1129\n",
       "dtype: int64"
      ]
     },
     "execution_count": 37,
     "metadata": {},
     "output_type": "execute_result"
    }
   ],
   "source": [
    "pd.Series(y_train).value_counts()"
   ]
  },
  {
   "cell_type": "markdown",
   "id": "c6918a0f",
   "metadata": {},
   "source": [
    "# XGBoost"
   ]
  },
  {
   "cell_type": "code",
   "execution_count": 38,
   "id": "40d0e5af",
   "metadata": {},
   "outputs": [
    {
     "name": "stdout",
     "output_type": "stream",
     "text": [
      "Accuracy of XGBoost: 0.9748302037554935\n",
      "Precision of XGBoost: 0.9748179968787276\n",
      "Recall of XGBoost: 0.9748302037554935\n",
      "F1-score of XGBoost: 0.9742337622865396\n",
      "              precision    recall  f1-score   support\n",
      "\n",
      "           0       1.00      1.00      1.00       476\n",
      "           1       0.93      0.79      0.86       282\n",
      "           2       0.97      1.00      0.98      3321\n",
      "           3       1.00      0.97      0.98       321\n",
      "           4       0.99      0.93      0.96       606\n",
      "\n",
      "    accuracy                           0.97      5006\n",
      "   macro avg       0.98      0.94      0.96      5006\n",
      "weighted avg       0.97      0.97      0.97      5006\n",
      "\n"
     ]
    },
    {
     "data": {
      "image/png": "[encoded data removed]",
      "text/plain": [
       "<Figure size 360x360 with 2 Axes>"
      ]
     },
     "metadata": {
      "needs_background": "light"
     },
     "output_type": "display_data"
    }
   ],
   "source": [
    "xg = xgb.XGBClassifier(n_estimators = 10)\n",
    "xg.fit(X_train,y_train)\n",
    "xg_score=xg.score(X_test,y_test)\n",
    "y_predict=xg.predict(X_test)\n",
    "y_true=y_test\n",
    "print('Accuracy of XGBoost: '+ str(xg_score))\n",
    "precision,recall,fscore,none= precision_recall_fscore_support(y_true, y_predict, average='weighted') \n",
    "print('Precision of XGBoost: '+(str(precision)))\n",
    "print('Recall of XGBoost: '+(str(recall)))\n",
    "print('F1-score of XGBoost: '+(str(fscore)))\n",
    "print(classification_report(y_true,y_predict))\n",
    "cm=confusion_matrix(y_true,y_predict)\n",
    "f,ax=plt.subplots(figsize=(5,5))\n",
    "sns.heatmap(cm,annot=True,linewidth=0.5,linecolor=\"red\",fmt=\".0f\",ax=ax)\n",
    "plt.xlabel(\"y_pred\")\n",
    "plt.ylabel(\"y_true\")\n",
    "plt.show()"
   ]
  },
  {
   "cell_type": "markdown",
   "id": "db82e4a2",
   "metadata": {},
   "source": [
    "### BO-TPE"
   ]
  },
  {
   "cell_type": "code",
   "execution_count": 74,
   "id": "fc21f653",
   "metadata": {},
   "outputs": [
    {
     "name": "stdout",
     "output_type": "stream",
     "text": [
      "100%|███████████████████████████████████████████████| 20/20 [00:44<00:00,  2.21s/trial, best loss: -0.9874151018777467]\n",
      "XGBoost: Hyperopt estimated optimum {'learning_rate': 0.8919517746167342, 'max_depth': 84.0, 'n_estimators': 70.0}\n"
     ]
    }
   ],
   "source": [
    "from hyperopt import hp, fmin, tpe, STATUS_OK, Trials\n",
    "from sklearn.model_selection import cross_val_score, StratifiedKFold\n",
    "def objective(params):\n",
    "    params = {\n",
    "        'n_estimators': int(params['n_estimators']), \n",
    "        'max_depth': int(params['max_depth']),\n",
    "        'learning_rate':  abs(float(params['learning_rate'])),\n",
    "\n",
    "    }\n",
    "    clf = xgb.XGBClassifier( **params)\n",
    "    clf.fit(X_train, y_train)\n",
    "    y_pred = clf.predict(X_test)\n",
    "    score = accuracy_score(y_test, y_pred)\n",
    "\n",
    "    return {'loss':-score, 'status': STATUS_OK }\n",
    "\n",
    "space = {\n",
    "    'n_estimators': hp.quniform('n_estimators', 10, 100, 5),\n",
    "    'max_depth': hp.quniform('max_depth', 4, 100, 1),\n",
    "    'learning_rate': hp.normal('learning_rate', 0.01, 0.9),\n",
    "}\n",
    "\n",
    "best = fmin(fn=objective,\n",
    "            space=space,\n",
    "            algo=tpe.suggest,\n",
    "            max_evals=20)\n",
    "print(\"XGBoost: Hyperopt estimated optimum {}\".format(best))"
   ]
  },
  {
   "cell_type": "code",
   "execution_count": 39,
   "id": "d20b3322",
   "metadata": {},
   "outputs": [
    {
     "name": "stdout",
     "output_type": "stream",
     "text": [
      "Accuracy of XGBoost: 0.9862165401518178\n",
      "Precision of XGBoost: 0.9861529145058426\n",
      "Recall of XGBoost: 0.9862165401518178\n",
      "F1-score of XGBoost: 0.9861469379284884\n",
      "              precision    recall  f1-score   support\n",
      "\n",
      "           0       1.00      1.00      1.00       476\n",
      "           1       0.93      0.90      0.91       282\n",
      "           2       0.99      0.99      0.99      3321\n",
      "           3       1.00      0.98      0.99       321\n",
      "           4       0.99      0.98      0.99       606\n",
      "\n",
      "    accuracy                           0.99      5006\n",
      "   macro avg       0.98      0.97      0.97      5006\n",
      "weighted avg       0.99      0.99      0.99      5006\n",
      "\n"
     ]
    },
    {
     "data": {
      "image/png": "[encoded data removed]",
      "text/plain": [
       "<Figure size 360x360 with 2 Axes>"
      ]
     },
     "metadata": {
      "needs_background": "light"
     },
     "output_type": "display_data"
    }
   ],
   "source": [
    "xg = xgb.XGBClassifier(learning_rate= 0.8919517746167342, n_estimators = 70, max_depth = 84)\n",
    "xg.fit(X_train,y_train)\n",
    "xg_score=xg.score(X_test,y_test)\n",
    "y_predict=xg.predict(X_test)\n",
    "y_true=y_test\n",
    "print('Accuracy of XGBoost: '+ str(xg_score))\n",
    "precision,recall,fscore,none= precision_recall_fscore_support(y_true, y_predict, average='weighted') \n",
    "print('Precision of XGBoost: '+(str(precision)))\n",
    "print('Recall of XGBoost: '+(str(recall)))\n",
    "print('F1-score of XGBoost: '+(str(fscore)))\n",
    "print(classification_report(y_true,y_predict))\n",
    "cm=confusion_matrix(y_true,y_predict)\n",
    "f,ax=plt.subplots(figsize=(5,5))\n",
    "sns.heatmap(cm,annot=True,linewidth=0.5,linecolor=\"red\",fmt=\".0f\",ax=ax)\n",
    "plt.xlabel(\"y_pred\")\n",
    "plt.ylabel(\"y_true\")\n",
    "plt.show()"
   ]
  },
  {
   "cell_type": "code",
   "execution_count": 40,
   "id": "bfb5ec6f",
   "metadata": {},
   "outputs": [],
   "source": [
    "xg_train=xg.predict(X_train)\n",
    "xg_test=xg.predict(X_test)"
   ]
  },
  {
   "cell_type": "markdown",
   "id": "4f304a53",
   "metadata": {},
   "source": [
    "# Random Forest "
   ]
  },
  {
   "cell_type": "code",
   "execution_count": 41,
   "id": "abaa3d4a",
   "metadata": {},
   "outputs": [
    {
     "name": "stdout",
     "output_type": "stream",
     "text": [
      "Accuracy of RF: 0.9794246903715541\n",
      "Precision of RF: 0.9792639107542914\n",
      "Recall of RF: 0.9794246903715541\n",
      "F1-score of RF: 0.9792330945522596\n",
      "              precision    recall  f1-score   support\n",
      "\n",
      "           0       1.00      1.00      1.00       476\n",
      "           1       0.90      0.85      0.87       282\n",
      "           2       0.98      0.99      0.99      3321\n",
      "           3       0.99      0.97      0.98       321\n",
      "           4       0.99      0.96      0.98       606\n",
      "\n",
      "    accuracy                           0.98      5006\n",
      "   macro avg       0.97      0.95      0.96      5006\n",
      "weighted avg       0.98      0.98      0.98      5006\n",
      "\n"
     ]
    },
    {
     "data": {
      "image/png": "[encoded data removed]",
      "text/plain": [
       "<Figure size 360x360 with 2 Axes>"
      ]
     },
     "metadata": {
      "needs_background": "light"
     },
     "output_type": "display_data"
    }
   ],
   "source": [
    "rf = RandomForestClassifier(random_state = 0)\n",
    "rf.fit(X_train,y_train) \n",
    "rf_score=rf.score(X_test,y_test)\n",
    "y_predict=rf.predict(X_test)\n",
    "y_true=y_test\n",
    "print('Accuracy of RF: '+ str(rf_score))\n",
    "precision,recall,fscore,none= precision_recall_fscore_support(y_true, y_predict, average='weighted') \n",
    "print('Precision of RF: '+(str(precision)))\n",
    "print('Recall of RF: '+(str(recall)))\n",
    "print('F1-score of RF: '+(str(fscore)))\n",
    "print(classification_report(y_true,y_predict))\n",
    "cm=confusion_matrix(y_true,y_predict)\n",
    "f,ax=plt.subplots(figsize=(5,5))\n",
    "sns.heatmap(cm,annot=True,linewidth=0.5,linecolor=\"red\",fmt=\".0f\",ax=ax)\n",
    "plt.xlabel(\"y_pred\")\n",
    "plt.ylabel(\"y_true\")\n",
    "plt.show()"
   ]
  },
  {
   "cell_type": "markdown",
   "id": "14412ea5",
   "metadata": {},
   "source": [
    "### GA\n"
   ]
  },
  {
   "cell_type": "code",
   "execution_count": 44,
   "id": "fbe6c0fd",
   "metadata": {
    "scrolled": true
   },
   "outputs": [
    {
     "name": "stderr",
     "output_type": "stream",
     "text": [
      "C:\\python310\\lib\\site-packages\\tpot\\builtins\\__init__.py:36: UserWarning: Warning: optional dependency `torch` is not available. - skipping import of NN models.\n",
      "  warnings.warn(\"Warning: optional dependency `torch` is not available. - skipping import of NN models.\")\n"
     ]
    },
    {
     "name": "stdout",
     "output_type": "stream",
     "text": [
      "1 operators have been imported by TPOT.\n"
     ]
    },
    {
     "data": {
      "application/vnd.jupyter.widget-view+json": {
       "model_id": "",
       "version_major": 2,
       "version_minor": 0
      },
      "text/plain": [
       "Optimization Progress:   0%|          | 0/25 [00:00<?, ?pipeline/s]"
      ]
     },
     "metadata": {},
     "output_type": "display_data"
    },
    {
     "name": "stdout",
     "output_type": "stream",
     "text": [
      "\n",
      "Generation 1 - Current Pareto front scores:\n",
      "\n",
      "-1\t0.9387534956095225\tRandomForestClassifier(input_matrix, RandomForestClassifier__criterion=entropy, RandomForestClassifier__max_depth=28, RandomForestClassifier__max_features=17, RandomForestClassifier__min_samples_leaf=3, RandomForestClassifier__min_samples_split=2, RandomForestClassifier__n_estimators=26)\n",
      "\n",
      "Generation 2 - Current Pareto front scores:\n",
      "\n",
      "-1\t0.9387534956095225\tRandomForestClassifier(input_matrix, RandomForestClassifier__criterion=entropy, RandomForestClassifier__max_depth=28, RandomForestClassifier__max_features=17, RandomForestClassifier__min_samples_leaf=3, RandomForestClassifier__min_samples_split=2, RandomForestClassifier__n_estimators=26)\n",
      "\n",
      "Generation 3 - Current Pareto front scores:\n",
      "\n",
      "-1\t0.9387534956095225\tRandomForestClassifier(input_matrix, RandomForestClassifier__criterion=entropy, RandomForestClassifier__max_depth=28, RandomForestClassifier__max_features=17, RandomForestClassifier__min_samples_leaf=3, RandomForestClassifier__min_samples_split=2, RandomForestClassifier__n_estimators=26)\n"
     ]
    },
    {
     "data": {
      "text/plain": [
       "TPOTClassifier(config_dict={'sklearn.ensemble.RandomForestClassifier': {'criterion': ['gini',\n",
       "                                                                                      'entropy'],\n",
       "                                                                        'max_depth': range(10, 100),\n",
       "                                                                        'max_features': range(1, 20),\n",
       "                                                                        'min_samples_leaf': range(1, 11),\n",
       "                                                                        'min_samples_split': range(2, 11),\n",
       "                                                                        'n_estimators': range(20, 200)}},\n",
       "               cv=3, early_stop=5, generations=3, offspring_size=5,\n",
       "               population_size=10, scoring='accuracy', verbosity=3)"
      ]
     },
     "execution_count": 44,
     "metadata": {},
     "output_type": "execute_result"
    }
   ],
   "source": [
    "\n",
    "\n",
    "#Random Forest\n",
    "from tpot import TPOTClassifier\n",
    "# Define the hyperparameter configuration space\n",
    "parameters = {\n",
    "        'n_estimators': range(20,200),\n",
    "    \"max_features\":range(1,20),\n",
    "    'max_depth': range(10,100),\n",
    "    \"min_samples_split\":range(2,11),\n",
    "    \"min_samples_leaf\":range(1,11),\n",
    "    \"criterion\":['gini','entropy']\n",
    "             }\n",
    "# Set the hyperparameters of GA                 \n",
    "ga2 = TPOTClassifier(generations= 3, population_size= 10, offspring_size= 5,\n",
    "                                 verbosity= 3, early_stop= 5,\n",
    "                                 config_dict=\n",
    "                                 {'sklearn.ensemble.RandomForestClassifier': parameters}, \n",
    "                                 cv = 3, scoring = 'accuracy')\n",
    "ga2.fit(X, y)\n",
    "\n"
   ]
  },
  {
   "cell_type": "markdown",
   "id": "c7f295bc",
   "metadata": {},
   "source": [
    "### PSO  RF"
   ]
  },
  {
   "cell_type": "code",
   "execution_count": 49,
   "id": "e3626021",
   "metadata": {},
   "outputs": [
    {
     "name": "stdout",
     "output_type": "stream",
     "text": [
      "{'n_estimators': 69.53969430711243, 'max_features': 18.693497877713614, 'max_depth': 39.88040559643254, 'min_samples_split': 5.36533203125, 'min_samples_leaf': 3.9892578125, 'criterion': 0.85927734375}\n",
      "Accuracy:0.942828867251604\n",
      "Random Forest: Hyperopt estimated optimum {'n_estimators': 69.53969430711243, 'max_features': 18.693497877713614, 'max_depth': 39.88040559643254, 'min_samples_split': 5.36533203125, 'min_samples_leaf': 3.9892578125, 'criterion': 0.85927734375}\n"
     ]
    }
   ],
   "source": [
    "#Random Forest\n",
    "import optunity\n",
    "import optunity.metrics\n",
    "\n",
    "\n",
    "# Define the hyperparameter configuration space\n",
    "search = {\n",
    "    'n_estimators': [10, 100],\n",
    "    'max_features': [1, 20],\n",
    "    'max_depth': [5,50],\n",
    "    \"min_samples_split\":[2,11],\n",
    "    \"min_samples_leaf\":[1,11],\n",
    "    \"criterion\":[0,1]\n",
    "         }\n",
    "# Define the objective function\n",
    "@optunity.cross_validated(x=X, y=y, num_folds=3)\n",
    "def performance(x_train, y_train, x_test, y_test,n_estimators=None, max_features=None,max_depth=None,min_samples_split=None,min_samples_leaf=None,criterion=None):\n",
    "    # fit the model\n",
    "    if criterion<0.5:\n",
    "        cri='gini'\n",
    "    else:\n",
    "        cri='entropy'\n",
    "    model = RandomForestClassifier(n_estimators=int(n_estimators),\n",
    "                                   max_features=int(max_features),\n",
    "                                   max_depth=int(max_depth),\n",
    "                                   min_samples_split=int(min_samples_split),\n",
    "                                   min_samples_leaf=int(min_samples_leaf),\n",
    "                                   criterion=cri,\n",
    "                                  )\n",
    "    #predictions = model.predict(x_test)\n",
    "    scores=np.mean(cross_val_score(model, X, y, cv=3, n_jobs=-1,\n",
    "                                    scoring=\"accuracy\"))\n",
    "    #return optunity.metrics.roc_auc(y_test, predictions, positive=True)\n",
    "    return scores#optunity.metrics.accuracy(y_test, predictions)\n",
    "\n",
    "optimal_configuration, info, _ = optunity.maximize(performance,\n",
    "                                                  solver_name='particle swarm',\n",
    "                                                  num_evals=20,\n",
    "                                                   **search\n",
    "                                                  )\n",
    "print(optimal_configuration)\n",
    "print(\"Accuracy:\"+ str(info.optimum))"
   ]
  },
  {
   "cell_type": "markdown",
   "id": "9c6ae28e",
   "metadata": {},
   "source": [
    "### BO-TPE"
   ]
  },
  {
   "cell_type": "code",
   "execution_count": 78,
   "id": "17eabba1",
   "metadata": {},
   "outputs": [
    {
     "name": "stdout",
     "output_type": "stream",
     "text": [
      "100%|███████████████████████████████████████████████| 20/20 [01:13<00:00,  3.66s/trial, best loss: -0.9844186975629244]\n",
      "Random Forest: Hyperopt estimated optimum {'criterion': 1, 'max_depth': 43.0, 'max_features': 19.0, 'min_samples_leaf': 3.0, 'min_samples_split': 2.0, 'n_estimators': 190.0}\n"
     ]
    }
   ],
   "source": [
    "\n",
    "from hyperopt import hp, fmin, tpe, STATUS_OK, Trials\n",
    "from sklearn.model_selection import cross_val_score, StratifiedKFold\n",
    "# Define the objective function\n",
    "def objective(params):\n",
    "    params = {\n",
    "        'n_estimators': int(params['n_estimators']), \n",
    "        'max_depth': int(params['max_depth']),\n",
    "        'max_features': int(params['max_features']),\n",
    "        \"min_samples_split\":int(params['min_samples_split']),\n",
    "        \"min_samples_leaf\":int(params['min_samples_leaf']),\n",
    "        \"criterion\":str(params['criterion'])\n",
    "    }\n",
    "    clf = RandomForestClassifier( **params)\n",
    "    clf.fit(X_train,y_train)\n",
    "    score=clf.score(X_test,y_test)\n",
    "\n",
    "    return {'loss':-score, 'status': STATUS_OK }\n",
    "# Define the hyperparameter configuration space\n",
    "space = {\n",
    "    'n_estimators': hp.quniform('n_estimators', 10, 200, 1),\n",
    "    'max_depth': hp.quniform('max_depth', 5, 50, 1),\n",
    "    \"max_features\":hp.quniform('max_features', 1, 20, 1),\n",
    "    \"min_samples_split\":hp.quniform('min_samples_split',2,11,1),\n",
    "    \"min_samples_leaf\":hp.quniform('min_samples_leaf',1,11,1),\n",
    "    \"criterion\":hp.choice('criterion',['gini','entropy'])\n",
    "}\n",
    "\n",
    "best = fmin(fn=objective,\n",
    "            space=space,\n",
    "            algo=tpe.suggest,\n",
    "            max_evals=20)\n",
    "print(\"Random Forest: Hyperopt estimated optimum {}\".format(best))"
   ]
  },
  {
   "cell_type": "markdown",
   "id": "7f7ed4bd",
   "metadata": {},
   "source": [
    "## After HPO"
   ]
  },
  {
   "cell_type": "code",
   "execution_count": 42,
   "id": "f2c2fce7",
   "metadata": {
    "scrolled": false
   },
   "outputs": [
    {
     "name": "stdout",
     "output_type": "stream",
     "text": [
      "Accuracy of RF: 0.9830203755493407\n",
      "Precision of RF: 0.9828945306653994\n",
      "Recall of RF: 0.9830203755493407\n",
      "F1-score of RF: 0.9828734178482433\n",
      "              precision    recall  f1-score   support\n",
      "\n",
      "           0       1.00      1.00      1.00       476\n",
      "           1       0.91      0.87      0.89       282\n",
      "           2       0.98      0.99      0.99      3321\n",
      "           3       1.00      0.97      0.98       321\n",
      "           4       0.99      0.97      0.98       606\n",
      "\n",
      "    accuracy                           0.98      5006\n",
      "   macro avg       0.98      0.96      0.97      5006\n",
      "weighted avg       0.98      0.98      0.98      5006\n",
      "\n"
     ]
    },
    {
     "data": {
      "image/png": "[encoded data removed]",
      "text/plain": [
       "<Figure size 360x360 with 2 Axes>"
      ]
     },
     "metadata": {
      "needs_background": "light"
     },
     "output_type": "display_data"
    }
   ],
   "source": [
    "#PSO\n",
    "#{'n_estimators': 52.5390625, 'max_features': 18.14453125, 'max_depth': 14.66796875, '\n",
    "#min_samples_split': 9.69921875, 'min_samples_leaf': 2.4453125, 'criterion': 0.87890625}\n",
    "\n",
    "#BO-TPE\n",
    "#{'criterion': 1, 'max_depth': 43.0, 'max_features': 19.0, 'min_samples_leaf': 3.0,\n",
    "#'min_samples_split': 2.0, 'n_estimators': 190.0}\n",
    "\n",
    "#GA Accuracy of RF: 0.9822213343987215\n",
    "#criterion=entropy, max_depth=28, max_features=17, min_samples_leaf=3, \n",
    "#min_samples_split=2, _n_estimators=26)\n",
    "rf_hpo = RandomForestClassifier(n_estimators =190, min_samples_leaf = 3, max_depth = 43,\n",
    "                                min_samples_split = 2, max_features = 19, criterion = 'entropy')\n",
    "rf_hpo.fit(X_train,y_train)\n",
    "rf_score=rf_hpo.score(X_test,y_test)\n",
    "y_predict=rf_hpo.predict(X_test)\n",
    "y_true=y_test\n",
    "print('Accuracy of RF: '+ str(rf_score))\n",
    "precision,recall,fscore,none= precision_recall_fscore_support(y_true, y_predict, average='weighted') \n",
    "print('Precision of RF: '+(str(precision)))\n",
    "print('Recall of RF: '+(str(recall)))\n",
    "print('F1-score of RF: '+(str(fscore)))\n",
    "print(classification_report(y_true,y_predict))\n",
    "cm=confusion_matrix(y_true,y_predict)\n",
    "f,ax=plt.subplots(figsize=(5,5))\n",
    "sns.heatmap(cm,annot=True,linewidth=0.5,linecolor=\"red\",fmt=\".0f\",ax=ax)\n",
    "plt.xlabel(\"y_pred\")\n",
    "plt.ylabel(\"y_true\")\n",
    "plt.show()"
   ]
  },
  {
   "cell_type": "code",
   "execution_count": 43,
   "id": "7769d961",
   "metadata": {},
   "outputs": [],
   "source": [
    "rf_train=rf_hpo.predict(X_train)\n",
    "rf_test=rf_hpo.predict(X_test)"
   ]
  },
  {
   "cell_type": "markdown",
   "id": "96f5cd45",
   "metadata": {},
   "source": [
    "# Decision Tree"
   ]
  },
  {
   "cell_type": "code",
   "execution_count": 44,
   "id": "dbd24b67",
   "metadata": {},
   "outputs": [
    {
     "name": "stdout",
     "output_type": "stream",
     "text": [
      "Accuracy of DT: 0.9788254095085897\n",
      "Precision of DT: 0.9787503625122437\n",
      "Recall of DT: 0.9788254095085897\n",
      "F1-score of DT: 0.9787838166883147\n",
      "              precision    recall  f1-score   support\n",
      "\n",
      "           0       0.99      1.00      0.99       476\n",
      "           1       0.87      0.87      0.87       282\n",
      "           2       0.99      0.99      0.99      3321\n",
      "           3       0.98      0.98      0.98       321\n",
      "           4       0.98      0.97      0.98       606\n",
      "\n",
      "    accuracy                           0.98      5006\n",
      "   macro avg       0.96      0.96      0.96      5006\n",
      "weighted avg       0.98      0.98      0.98      5006\n",
      "\n"
     ]
    },
    {
     "data": {
      "image/png": "[encoded data removed]",
      "text/plain": [
       "<Figure size 360x360 with 2 Axes>"
      ]
     },
     "metadata": {
      "needs_background": "light"
     },
     "output_type": "display_data"
    }
   ],
   "source": [
    "dt = DecisionTreeClassifier(random_state = 0)\n",
    "dt.fit(X_train,y_train) \n",
    "dt_score=dt.score(X_test,y_test)\n",
    "y_predict=dt.predict(X_test)\n",
    "y_true=y_test\n",
    "print('Accuracy of DT: '+ str(dt_score))\n",
    "precision,recall,fscore,none= precision_recall_fscore_support(y_true, y_predict, average='weighted') \n",
    "print('Precision of DT: '+(str(precision)))\n",
    "print('Recall of DT: '+(str(recall)))\n",
    "print('F1-score of DT: '+(str(fscore)))\n",
    "print(classification_report(y_true,y_predict))\n",
    "cm=confusion_matrix(y_true,y_predict)\n",
    "f,ax=plt.subplots(figsize=(5,5))\n",
    "sns.heatmap(cm,annot=True,linewidth=0.5,linecolor=\"red\",fmt=\".0f\",ax=ax)\n",
    "plt.xlabel(\"y_pred\")\n",
    "plt.ylabel(\"y_true\")\n",
    "plt.show()"
   ]
  },
  {
   "cell_type": "markdown",
   "id": "17b33e19",
   "metadata": {},
   "source": [
    "### GA"
   ]
  },
  {
   "cell_type": "code",
   "execution_count": 82,
   "id": "b1487221",
   "metadata": {},
   "outputs": [
    {
     "name": "stdout",
     "output_type": "stream",
     "text": [
      "1 operators have been imported by TPOT.\n"
     ]
    },
    {
     "data": {
      "application/vnd.jupyter.widget-view+json": {
       "model_id": "",
       "version_major": 2,
       "version_minor": 0
      },
      "text/plain": [
       "Optimization Progress:   0%|          | 0/25 [00:00<?, ?pipeline/s]"
      ]
     },
     "metadata": {},
     "output_type": "display_data"
    },
    {
     "name": "stdout",
     "output_type": "stream",
     "text": [
      "\n",
      "Generation 1 - Current Pareto front scores:\n",
      "\n",
      "-1\t0.8822813914267341\tDecisionTreeClassifier(input_matrix, DecisionTreeClassifier__criterion=gini, DecisionTreeClassifier__max_depth=29, DecisionTreeClassifier__max_features=12, DecisionTreeClassifier__min_samples_leaf=10, DecisionTreeClassifier__min_samples_split=6)\n",
      "\n",
      "Generation 2 - Current Pareto front scores:\n",
      "\n",
      "-1\t0.8822813914267341\tDecisionTreeClassifier(input_matrix, DecisionTreeClassifier__criterion=gini, DecisionTreeClassifier__max_depth=29, DecisionTreeClassifier__max_features=12, DecisionTreeClassifier__min_samples_leaf=10, DecisionTreeClassifier__min_samples_split=6)\n",
      "\n",
      "-2\t0.8933377012582051\tDecisionTreeClassifier(DecisionTreeClassifier(input_matrix, DecisionTreeClassifier__criterion=entropy, DecisionTreeClassifier__max_depth=8, DecisionTreeClassifier__max_features=12, DecisionTreeClassifier__min_samples_leaf=3, DecisionTreeClassifier__min_samples_split=5), DecisionTreeClassifier__criterion=entropy, DecisionTreeClassifier__max_depth=43, DecisionTreeClassifier__max_features=13, DecisionTreeClassifier__min_samples_leaf=5, DecisionTreeClassifier__min_samples_split=6)\n",
      "\n",
      "Generation 3 - Current Pareto front scores:\n",
      "\n",
      "-1\t0.8822813914267341\tDecisionTreeClassifier(input_matrix, DecisionTreeClassifier__criterion=gini, DecisionTreeClassifier__max_depth=29, DecisionTreeClassifier__max_features=12, DecisionTreeClassifier__min_samples_leaf=10, DecisionTreeClassifier__min_samples_split=6)\n",
      "\n",
      "-2\t0.8933377012582051\tDecisionTreeClassifier(DecisionTreeClassifier(input_matrix, DecisionTreeClassifier__criterion=entropy, DecisionTreeClassifier__max_depth=8, DecisionTreeClassifier__max_features=12, DecisionTreeClassifier__min_samples_leaf=3, DecisionTreeClassifier__min_samples_split=5), DecisionTreeClassifier__criterion=entropy, DecisionTreeClassifier__max_depth=43, DecisionTreeClassifier__max_features=13, DecisionTreeClassifier__min_samples_leaf=5, DecisionTreeClassifier__min_samples_split=6)\n"
     ]
    },
    {
     "data": {
      "text/plain": [
       "TPOTClassifier(config_dict={'sklearn.tree.DecisionTreeClassifier': {'criterion': ['gini',\n",
       "                                                                                  'entropy'],\n",
       "                                                                    'max_depth': range(5, 50),\n",
       "                                                                    'max_features': range(1, 20),\n",
       "                                                                    'min_samples_leaf': range(1, 11),\n",
       "                                                                    'min_samples_split': range(2, 11)}},\n",
       "               cv=3, early_stop=5, generations=3, offspring_size=5,\n",
       "               population_size=10, scoring='accuracy', verbosity=3)"
      ]
     },
     "execution_count": 82,
     "metadata": {},
     "output_type": "execute_result"
    }
   ],
   "source": [
    "\n",
    "\n",
    "#Random Forest\n",
    "from tpot import TPOTClassifier\n",
    "# Define the hyperparameter configuration space\n",
    "parameters = {\n",
    "    \"max_features\":range(1,20),\n",
    "    'max_depth': range(5,50),\n",
    "    \"min_samplesa_split\":range(2,11),\n",
    "    \"min_samples_leaf\":range(1,11),\n",
    "    \"criterion\":['gini','entropy']\n",
    "\n",
    "             }\n",
    "# Set the hyperparameters of GA                 \n",
    "ga2 = TPOTClassifier(generations= 3, population_size= 10, offspring_size= 5,\n",
    "                                 verbosity= 3, early_stop= 5,\n",
    "                                 config_dict=\n",
    "                                 {'sklearn.tree.DecisionTreeClassifier': parameters}, \n",
    "                                 cv = 3, scoring = 'accuracy')\n",
    "ga2.fit(X, y)\n",
    "\n"
   ]
  },
  {
   "cell_type": "markdown",
   "id": "ddba7a24",
   "metadata": {},
   "source": [
    "### BO-TPE"
   ]
  },
  {
   "cell_type": "code",
   "execution_count": 86,
   "id": "ea1ee571",
   "metadata": {},
   "outputs": [
    {
     "name": "stdout",
     "output_type": "stream",
     "text": [
      "100%|███████████████████████████████████████████████| 50/50 [00:04<00:00, 10.26trial/s, best loss: -0.9846184578505793]\n",
      "Decision tree: Hyperopt estimated optimum {'criterion': 1, 'max_depth': 26.0, 'max_features': 19.0, 'min_samples_leaf': 1.0, 'min_samples_split': 5.0}\n"
     ]
    }
   ],
   "source": [
    "# Hyperparameter optimization of decision tree\n",
    "from hyperopt import hp, fmin, tpe, STATUS_OK, Trials\n",
    "from sklearn.model_selection import cross_val_score, StratifiedKFold\n",
    "# Define the objective function\n",
    "def objective(params):\n",
    "    params = {\n",
    "        'max_depth': int(params['max_depth']),\n",
    "        'max_features': int(params['max_features']),\n",
    "        \"min_samples_split\":int(params['min_samples_split']),\n",
    "        \"min_samples_leaf\":int(params['min_samples_leaf']),\n",
    "        \"criterion\":str(params['criterion'])\n",
    "    }\n",
    "    clf = DecisionTreeClassifier( **params)\n",
    "    clf.fit(X_train,y_train)\n",
    "    score=clf.score(X_test,y_test)\n",
    "\n",
    "    return {'loss':-score, 'status': STATUS_OK }\n",
    "# Define the hyperparameter configuration space\n",
    "space = {\n",
    "    'max_depth': hp.quniform('max_depth', 5, 50, 1),\n",
    "    \"max_features\":hp.quniform('max_features', 1, 20, 1),\n",
    "    \"min_samples_split\":hp.quniform('min_samples_split',2,11,1),\n",
    "    \"min_samples_leaf\":hp.quniform('min_samples_leaf',1,11,1),\n",
    "    \"criterion\":hp.choice('criterion',['gini','entropy'])\n",
    "}\n",
    "\n",
    "best = fmin(fn=objective,\n",
    "            space=space,\n",
    "            algo=tpe.suggest,\n",
    "            max_evals=50)\n",
    "print(\"Decision tree: Hyperopt estimated optimum {}\".format(best))"
   ]
  },
  {
   "cell_type": "markdown",
   "id": "e4cc7a8c",
   "metadata": {},
   "source": [
    "### PSO"
   ]
  },
  {
   "cell_type": "code",
   "execution_count": 56,
   "id": "c7b45211",
   "metadata": {},
   "outputs": [
    {
     "name": "stdout",
     "output_type": "stream",
     "text": [
      "{'max_features': 16.640168709353286, 'max_depth': 30.809605931608676, 'min_samples_split': 5.716948931970849, 'min_samples_leaf': 2.2131777131676396, 'criterion': 0.5782561963254416}\n",
      "Accuracy:0.8985089791846571\n"
     ]
    }
   ],
   "source": [
    "\n",
    "import optunity\n",
    "import optunity.metrics\n",
    "\n",
    "data=X\n",
    "labels=y\n",
    "# Define the hyperparameter configuration space\n",
    "search = {\n",
    "    'max_features': [1, 20],\n",
    "    'max_depth': [5,50],\n",
    "    \"min_samples_split\":[2,11],\n",
    "    \"min_samples_leaf\":[1,11],\n",
    "    \"criterion\":[0,1]\n",
    "         }\n",
    "# Define the objective function\n",
    "@optunity.cross_validated(x=data, y=labels, num_folds=3)\n",
    "def performance(x_train, y_train, x_test, y_test, max_features=None,max_depth=None,min_samples_split=None,min_samples_leaf=None,criterion=None):\n",
    "    # fit the model\n",
    "    if criterion<0.5:\n",
    "        cri='gini'\n",
    "    else:\n",
    "        cri='entropy'\n",
    "    model = DecisionTreeClassifier(\n",
    "                                   max_features=int(max_features),\n",
    "                                   max_depth=int(max_depth),\n",
    "                                   min_samples_split=int(min_samples_split),\n",
    "                                   min_samples_leaf=int(min_samples_leaf),\n",
    "                                   criterion=cri,\n",
    "                                  )\n",
    "    #predictions = model.predict(x_test)\n",
    "    scores=np.mean(cross_val_score(model, X, y, cv=3, n_jobs=-1,\n",
    "                                    scoring=\"accuracy\"))\n",
    "    #return optunity.metrics.roc_auc(y_test, predictions, positive=True)\n",
    "    return scores#optunity.metrics.accuracy(y_test, predictions)\n",
    "\n",
    "optimal_configuration, info, _ = optunity.maximize(performance,\n",
    "                                                  solver_name='particle swarm',\n",
    "                                                  num_evals=20,\n",
    "                                                   **search\n",
    "                                                  )\n",
    "print(optimal_configuration)\n",
    "print(\"Accuracy:\"+ str(info.optimum))"
   ]
  },
  {
   "cell_type": "markdown",
   "id": "065a2cbf",
   "metadata": {},
   "source": [
    "## After HPO"
   ]
  },
  {
   "cell_type": "code",
   "execution_count": 45,
   "id": "fe9eaf51",
   "metadata": {},
   "outputs": [
    {
     "name": "stdout",
     "output_type": "stream",
     "text": [
      "Accuracy of DT: 0.9518577706751897\n",
      "Precision of DT: 0.9509535513551465\n",
      "Recall of DT: 0.9518577706751897\n",
      "F1-score of DT: 0.9503112416914382\n",
      "              precision    recall  f1-score   support\n",
      "\n",
      "           0       0.99      1.00      0.99       476\n",
      "           1       0.88      0.65      0.75       282\n",
      "           2       0.95      0.98      0.97      3321\n",
      "           3       1.00      0.95      0.97       321\n",
      "           4       0.91      0.92      0.91       606\n",
      "\n",
      "    accuracy                           0.95      5006\n",
      "   macro avg       0.95      0.90      0.92      5006\n",
      "weighted avg       0.95      0.95      0.95      5006\n",
      "\n"
     ]
    },
    {
     "data": {
      "image/png": "[encoded data removed]",
      "text/plain": [
       "<Figure size 360x360 with 2 Axes>"
      ]
     },
     "metadata": {
      "needs_background": "light"
     },
     "output_type": "display_data"
    }
   ],
   "source": [
    "#PSO 没有提升\n",
    "#{'max_features': 16.640168709353286, 'max_depth': 30.809605931608676, 'min_samples_split': 5.716948931970849, \n",
    " #'min_samples_leaf': 2.2131777131676396, 'criterion': 0.5782561963254416}\n",
    "\n",
    "# BO-TPE  Accuracy of DT: 0.982820615261686 提升0.1%\n",
    "# Decision tree: Hyperopt estimated optimum {'criterion': 1, 'max_depth': 45.0, \n",
    "#'max_features': 20.0, 'min_samples_leaf': 2.0, 'min_samples_split': 6.0}\n",
    "#\n",
    "#GA  Accuracy of DT: 0.9447236180904522\n",
    "#(input_matrix, DecisionTreeClassifier__criterion=entropy, DecisionTreeClassifier__max_depth=8, DecisionTreeClassifier__max_features=12, \n",
    " #DecisionTreeClassifier__min_samples_leaf=3, DecisionTreeClassifier__min_samples_split=5)\n",
    "#criterion=entropy, DecisionTreeClassifier__max_depth=43, DecisionTreeClassifier__max_features=13, \n",
    "#DecisionTreeClassifier__min_samples_leaf=5, DecisionTreeClassifier__min_samples_split=6\n",
    "dt_hpo = DecisionTreeClassifier(min_samples_leaf = 3, max_depth = 8, min_samples_split = 5, \n",
    "                                max_features = 12, criterion = 'entropy')\n",
    "dt_hpo.fit(X_train,y_train)\n",
    "dt_score=dt_hpo.score(X_test,y_test)\n",
    "y_predict=dt_hpo.predict(X_test)\n",
    "y_true=y_test\n",
    "print('Accuracy of DT: '+ str(dt_score))\n",
    "precision,recall,fscore,none= precision_recall_fscore_support(y_true, y_predict, average='weighted') \n",
    "print('Precision of DT: '+(str(precision)))\n",
    "print('Recall of DT: '+(str(recall)))\n",
    "print('F1-score of DT: '+(str(fscore)))\n",
    "print(classification_report(y_true,y_predict))\n",
    "cm=confusion_matrix(y_true,y_predict)\n",
    "f,ax=plt.subplots(figsize=(5,5))\n",
    "sns.heatmap(cm,annot=True,linewidth=0.5,linecolor=\"red\",fmt=\".0f\",ax=ax)\n",
    "plt.xlabel(\"y_pred\")\n",
    "plt.ylabel(\"y_true\")\n",
    "plt.show()"
   ]
  },
  {
   "cell_type": "code",
   "execution_count": 46,
   "id": "8563d375",
   "metadata": {},
   "outputs": [],
   "source": [
    "dt_train=dt_hpo.predict(X_train)\n",
    "dt_test=dt_hpo.predict(X_test)"
   ]
  },
  {
   "cell_type": "markdown",
   "id": "8058091e",
   "metadata": {},
   "source": [
    "# Extra Trees"
   ]
  },
  {
   "cell_type": "code",
   "execution_count": 47,
   "id": "e53f5a6f",
   "metadata": {},
   "outputs": [
    {
     "name": "stdout",
     "output_type": "stream",
     "text": [
      "Accuracy of ET: 0.9768278066320415\n",
      "Precision of ET: 0.9766726272744407\n",
      "Recall of ET: 0.9768278066320415\n",
      "F1-score of ET: 0.9767107264647018\n",
      "              precision    recall  f1-score   support\n",
      "\n",
      "           0       1.00      0.99      1.00       476\n",
      "           1       0.88      0.85      0.87       282\n",
      "           2       0.98      0.99      0.99      3321\n",
      "           3       0.99      0.97      0.98       321\n",
      "           4       0.97      0.96      0.97       606\n",
      "\n",
      "    accuracy                           0.98      5006\n",
      "   macro avg       0.96      0.95      0.96      5006\n",
      "weighted avg       0.98      0.98      0.98      5006\n",
      "\n"
     ]
    },
    {
     "data": {
      "image/png": "[encoded data removed]",
      "text/plain": [
       "<Figure size 360x360 with 2 Axes>"
      ]
     },
     "metadata": {
      "needs_background": "light"
     },
     "output_type": "display_data"
    }
   ],
   "source": [
    "et = ExtraTreesClassifier(random_state = 0)\n",
    "et.fit(X_train,y_train) \n",
    "et_score=et.score(X_test,y_test)\n",
    "y_predict=et.predict(X_test)\n",
    "y_true=y_test\n",
    "print('Accuracy of ET: '+ str(et_score))\n",
    "precision,recall,fscore,none= precision_recall_fscore_support(y_true, y_predict, average='weighted') \n",
    "print('Precision of ET: '+(str(precision)))\n",
    "print('Recall of ET: '+(str(recall)))\n",
    "print('F1-score of ET: '+(str(fscore)))\n",
    "print(classification_report(y_true,y_predict))\n",
    "cm=confusion_matrix(y_true,y_predict)\n",
    "f,ax=plt.subplots(figsize=(5,5))\n",
    "sns.heatmap(cm,annot=True,linewidth=0.5,linecolor=\"red\",fmt=\".0f\",ax=ax)\n",
    "plt.xlabel(\"y_pred\")\n",
    "plt.ylabel(\"y_true\")\n",
    "plt.show()"
   ]
  },
  {
   "cell_type": "markdown",
   "id": "78bd3682",
   "metadata": {},
   "source": [
    "### GA"
   ]
  },
  {
   "cell_type": "code",
   "execution_count": 51,
   "id": "2828921a",
   "metadata": {},
   "outputs": [
    {
     "name": "stdout",
     "output_type": "stream",
     "text": [
      "1 operators have been imported by TPOT.\n"
     ]
    },
    {
     "data": {
      "application/vnd.jupyter.widget-view+json": {
       "model_id": "",
       "version_major": 2,
       "version_minor": 0
      },
      "text/plain": [
       "Optimization Progress:   0%|          | 0/25 [00:00<?, ?pipeline/s]"
      ]
     },
     "metadata": {},
     "output_type": "display_data"
    },
    {
     "name": "stdout",
     "output_type": "stream",
     "text": [
      "\n",
      "Generation 1 - Current Pareto front scores:\n",
      "\n",
      "-1\t0.8276864369450325\tExtraTreesClassifier(input_matrix, ExtraTreesClassifier__criterion=gini, ExtraTreesClassifier__max_depth=26, ExtraTreesClassifier__max_features=12, ExtraTreesClassifier__min_samples_leaf=1, ExtraTreesClassifier__min_samples_split=7, ExtraTreesClassifier__n_estimators=49)\n",
      "\n",
      "-2\t0.8434279275350277\tExtraTreesClassifier(ExtraTreesClassifier(input_matrix, ExtraTreesClassifier__criterion=entropy, ExtraTreesClassifier__max_depth=44, ExtraTreesClassifier__max_features=15, ExtraTreesClassifier__min_samples_leaf=1, ExtraTreesClassifier__min_samples_split=6, ExtraTreesClassifier__n_estimators=48), ExtraTreesClassifier__criterion=gini, ExtraTreesClassifier__max_depth=40, ExtraTreesClassifier__max_features=11, ExtraTreesClassifier__min_samples_leaf=3, ExtraTreesClassifier__min_samples_split=6, ExtraTreesClassifier__n_estimators=49)\n",
      "\n",
      "Generation 2 - Current Pareto front scores:\n",
      "\n",
      "-1\t0.8276864369450325\tExtraTreesClassifier(input_matrix, ExtraTreesClassifier__criterion=gini, ExtraTreesClassifier__max_depth=26, ExtraTreesClassifier__max_features=12, ExtraTreesClassifier__min_samples_leaf=1, ExtraTreesClassifier__min_samples_split=7, ExtraTreesClassifier__n_estimators=49)\n",
      "\n",
      "-2\t0.8551336633589407\tExtraTreesClassifier(ExtraTreesClassifier(input_matrix, ExtraTreesClassifier__criterion=entropy, ExtraTreesClassifier__max_depth=24, ExtraTreesClassifier__max_features=18, ExtraTreesClassifier__min_samples_leaf=9, ExtraTreesClassifier__min_samples_split=5, ExtraTreesClassifier__n_estimators=154), ExtraTreesClassifier__criterion=gini, ExtraTreesClassifier__max_depth=13, ExtraTreesClassifier__max_features=16, ExtraTreesClassifier__min_samples_leaf=2, ExtraTreesClassifier__min_samples_split=5, ExtraTreesClassifier__n_estimators=14)\n",
      "\n",
      "Generation 3 - Current Pareto front scores:\n",
      "\n",
      "-1\t0.8276864369450325\tExtraTreesClassifier(input_matrix, ExtraTreesClassifier__criterion=gini, ExtraTreesClassifier__max_depth=26, ExtraTreesClassifier__max_features=12, ExtraTreesClassifier__min_samples_leaf=1, ExtraTreesClassifier__min_samples_split=7, ExtraTreesClassifier__n_estimators=49)\n",
      "\n",
      "-2\t0.8551336633589407\tExtraTreesClassifier(ExtraTreesClassifier(input_matrix, ExtraTreesClassifier__criterion=entropy, ExtraTreesClassifier__max_depth=24, ExtraTreesClassifier__max_features=18, ExtraTreesClassifier__min_samples_leaf=9, ExtraTreesClassifier__min_samples_split=5, ExtraTreesClassifier__n_estimators=154), ExtraTreesClassifier__criterion=gini, ExtraTreesClassifier__max_depth=13, ExtraTreesClassifier__max_features=16, ExtraTreesClassifier__min_samples_leaf=2, ExtraTreesClassifier__min_samples_split=5, ExtraTreesClassifier__n_estimators=14)\n"
     ]
    },
    {
     "data": {
      "text/plain": [
       "TPOTClassifier(config_dict={'sklearn.ensemble.ExtraTreesClassifier': {'criterion': ['gini',\n",
       "                                                                                    'entropy'],\n",
       "                                                                      'max_depth': range(5, 50),\n",
       "                                                                      'max_features': range(1, 20),\n",
       "                                                                      'min_samples_leaf': range(1, 11),\n",
       "                                                                      'min_samples_split': range(2, 11),\n",
       "                                                                      'n_estimators': range(10, 200)}},\n",
       "               cv=3, early_stop=5, generations=3, offspring_size=5,\n",
       "               population_size=10, scoring='accuracy', verbosity=3)"
      ]
     },
     "execution_count": 51,
     "metadata": {},
     "output_type": "execute_result"
    }
   ],
   "source": [
    "\n",
    "\n",
    "#Random Forest\n",
    "from tpot import TPOTClassifier\n",
    "# Define the hyperparameter configuration space\n",
    "parameters = {\n",
    "    'n_estimators': range(10,200),\n",
    "    \"max_features\":range(1,20),\n",
    "    'max_depth': range(5,50),\n",
    "    \"min_samples_split\":range(2,11),\n",
    "    \"min_samples_leaf\":range(1,11),\n",
    "    \"criterion\":['gini','entropy']\n",
    "    \n",
    "             }\n",
    "# Set the hyperparameters of GA                 \n",
    "ga2 = TPOTClassifier(generations= 3, population_size= 10, offspring_size= 5,\n",
    "                                 verbosity= 3, early_stop= 5,\n",
    "                                 config_dict=\n",
    "                                 {'sklearn.ensemble.ExtraTreesClassifier': parameters}, \n",
    "                                 cv = 3, scoring = 'accuracy')\n",
    "ga2.fit(X, y)\n",
    "\n"
   ]
  },
  {
   "cell_type": "markdown",
   "id": "579feee0",
   "metadata": {},
   "source": [
    "### BO-TPE"
   ]
  },
  {
   "cell_type": "code",
   "execution_count": 91,
   "id": "27fe3fca",
   "metadata": {},
   "outputs": [
    {
     "name": "stdout",
     "output_type": "stream",
     "text": [
      "100%|███████████████████████████████████████████████| 20/20 [00:30<00:00,  1.50s/trial, best loss: -0.9790251697962445]\n",
      "Random Forest: Hyperopt estimated optimum {'criterion': 1, 'max_depth': 23.0, 'max_features': 14.0, 'min_samples_leaf': 3.0, 'min_samples_split': 5.0, 'n_estimators': 175.0}\n"
     ]
    }
   ],
   "source": [
    "# Hyperparameter optimization of extra trees\n",
    "from hyperopt import hp, fmin, tpe, STATUS_OK, Trials\n",
    "from sklearn.model_selection import cross_val_score, StratifiedKFold\n",
    "# Define the objective function\n",
    "def objective(params):\n",
    "    params = {\n",
    "        'n_estimators': int(params['n_estimators']), \n",
    "        'max_depth': int(params['max_depth']),\n",
    "        'max_features': int(params['max_features']),\n",
    "        \"min_samples_split\":int(params['min_samples_split']),\n",
    "        \"min_samples_leaf\":int(params['min_samples_leaf']),\n",
    "        \"criterion\":str(params['criterion'])\n",
    "    }\n",
    "    clf = ExtraTreesClassifier( **params)\n",
    "    clf.fit(X_train,y_train)\n",
    "    score=clf.score(X_test,y_test)\n",
    "\n",
    "    return {'loss':-score, 'status': STATUS_OK }\n",
    "# Define the hyperparameter configuration space\n",
    "space = {\n",
    "    'n_estimators': hp.quniform('n_estimators', 10, 200, 1),\n",
    "    'max_depth': hp.quniform('max_depth', 5, 50, 1),\n",
    "    \"max_features\":hp.quniform('max_features', 1, 20, 1),\n",
    "    \"min_samples_split\":hp.quniform('min_samples_split',2,11,1),\n",
    "    \"min_samples_leaf\":hp.quniform('min_samples_leaf',1,11,1),\n",
    "    \"criterion\":hp.choice('criterion',['gini','entropy'])\n",
    "}\n",
    "\n",
    "best = fmin(fn=objective,\n",
    "            space=space,\n",
    "            algo=tpe.suggest,\n",
    "            max_evals=20)\n",
    "print(\"Random Forest: Hyperopt estimated optimum {}\".format(best))"
   ]
  },
  {
   "cell_type": "markdown",
   "id": "531be604",
   "metadata": {},
   "source": [
    "### PSO"
   ]
  },
  {
   "cell_type": "code",
   "execution_count": 65,
   "id": "5226e934",
   "metadata": {},
   "outputs": [
    {
     "name": "stdout",
     "output_type": "stream",
     "text": [
      "{'n_estimators': 159.5322265625, 'max_features': 17.052862004903464, 'max_depth': 48.13951914998281, 'min_samples_split': 3.3291688337522647, 'min_samples_leaf': 6.5283203125, 'criterion': 0.56630859375}\n",
      "Accuracy:0.8445330773286049\n"
     ]
    }
   ],
   "source": [
    "import optunity\n",
    "import optunity.metrics\n",
    "\n",
    "data=X\n",
    "labels=y\n",
    "# Define the hyperparameter configuration space\n",
    "search = {\n",
    "    'n_estimators': [10,200],\n",
    "    'max_features': [1, 20],\n",
    "    'max_depth': [5,50],\n",
    "    \"min_samples_split\":[2,11],\n",
    "    \"min_samples_leaf\":[1,11],\n",
    "    \"criterion\":[0,1]\n",
    "         }\n",
    "# Define the objective function\n",
    "@optunity.cross_validated(x=data, y=labels, num_folds=3)\n",
    "def performance(x_train, y_train, x_test, y_test, n_estimators=None,max_features=None,max_depth=None,min_samples_split=None,min_samples_leaf=None,criterion=None):\n",
    "    # fit the model\n",
    "    if criterion<0.5:\n",
    "        cri='gini'\n",
    "    else:\n",
    "        cri='entropy'\n",
    "    model = ExtraTreesClassifier(n_estimators=int(n_estimators),\n",
    "                                   max_features=int(max_features),\n",
    "                                   max_depth=int(max_depth),\n",
    "                                   min_samples_split=int(min_samples_split),\n",
    "                                   min_samples_leaf=int(min_samples_leaf),\n",
    "                                   criterion=cri,\n",
    "                                  )\n",
    "    #predictions = model.predict(x_test)\n",
    "    scores=np.mean(cross_val_score(model, X, y, cv=3, n_jobs=-1,\n",
    "                                    scoring=\"accuracy\"))\n",
    "    #return optunity.metrics.roc_auc(y_test, predictions, positive=True)\n",
    "    return scores#optunity.metrics.accuracy(y_test, predictions)\n",
    "\n",
    "optimal_configuration, info, _ = optunity.maximize(performance,\n",
    "                                                  solver_name='particle swarm',\n",
    "                                                  num_evals=20,\n",
    "                                                   **search\n",
    "                                                  )\n",
    "print(optimal_configuration)\n",
    "print(\"Accuracy:\"+ str(info.optimum))\n",
    "Accuracy of ET: 0.9836196564123052"
   ]
  },
  {
   "cell_type": "code",
   "execution_count": 53,
   "id": "c6e7e63b",
   "metadata": {},
   "outputs": [
    {
     "name": "stdout",
     "output_type": "stream",
     "text": [
      "Accuracy of ET: 0.9822213343987215\n",
      "Precision of ET: 0.9820827569480821\n",
      "Recall of ET: 0.9822213343987215\n",
      "F1-score of ET: 0.9820476204592857\n",
      "              precision    recall  f1-score   support\n",
      "\n",
      "           0       1.00      0.99      1.00       476\n",
      "           1       0.92      0.87      0.89       282\n",
      "           2       0.98      0.99      0.99      3321\n",
      "           3       0.99      0.97      0.98       321\n",
      "           4       0.99      0.97      0.98       606\n",
      "\n",
      "    accuracy                           0.98      5006\n",
      "   macro avg       0.98      0.96      0.97      5006\n",
      "weighted avg       0.98      0.98      0.98      5006\n",
      "\n"
     ]
    },
    {
     "data": {
      "image/png": "[encoded data removed]",
      "text/plain": [
       "<Figure size 360x360 with 2 Axes>"
      ]
     },
     "metadata": {
      "needs_background": "light"
     },
     "output_type": "display_data"
    }
   ],
   "source": [
    "#PSO  Accuracy of ET: 0.9730323611666001 下降\n",
    "#{'n_estimators': 159.5322265625, 'max_features': 17.052862004903464, 'max_depth': 48.13951914998281, 'min_samples_split': 3.3291688337522647, \n",
    "# 'min_samples_leaf': 6.5283203125, 'criterion': 0.56630859375}\n",
    "\n",
    "#BO-TPE Accuracy of ET: 0.9836196564123052 提升\n",
    "#{'criterion': 0, 'max_depth': 22.0, 'max_features': 15.0, 'min_samples_leaf': 1.0, \n",
    "#'min_samples_split': 7.0, 'n_estimators': 107.0}\n",
    "\n",
    "#GA Accuracy of ET: 0.9822213343987215\n",
    "#ExtraTreesClassifier__criterion=entropy,max_depth=24, ExtraTreesClassifier__max_features=18, \n",
    "#min_samples_leaf=9, ExtraTreesClassifier__min_samples_split=5,ExtraTreesClassifier__n_estimators=154)\n",
    "et_hpo = ExtraTreesClassifier(n_estimators = 49, min_samples_leaf = 1, max_depth = 24, \n",
    "                              min_samples_split = 7, max_features = 16, criterion = 'entropy')\n",
    "et_hpo.fit(X_train,y_train) \n",
    "et_score=et_hpo.score(X_test,y_test)\n",
    "y_predict=et_hpo.predict(X_test)\n",
    "y_true=y_test\n",
    "print('Accuracy of ET: '+ str(et_score))\n",
    "precision,recall,fscore,none= precision_recall_fscore_support(y_true, y_predict, average='weighted') \n",
    "print('Precision of ET: '+(str(precision)))\n",
    "print('Recall of ET: '+(str(recall)))\n",
    "print('F1-score of ET: '+(str(fscore)))\n",
    "print(classification_report(y_true,y_predict))\n",
    "cm=confusion_matrix(y_true,y_predict)\n",
    "f,ax=plt.subplots(figsize=(5,5))\n",
    "sns.heatmap(cm,annot=True,linewidth=0.5,linecolor=\"red\",fmt=\".0f\",ax=ax)\n",
    "plt.xlabel(\"y_pred\")\n",
    "plt.ylabel(\"y_true\")\n",
    "plt.show()"
   ]
  },
  {
   "cell_type": "code",
   "execution_count": 93,
   "id": "4c2f685c",
   "metadata": {},
   "outputs": [],
   "source": [
    "et_train=et_hpo.predict(X_train)\n",
    "et_test=et_hpo.predict(X_test)"
   ]
  },
  {
   "cell_type": "code",
   "execution_count": 94,
   "id": "93e2b3cc",
   "metadata": {},
   "outputs": [
    {
     "data": {
      "text/html": [
       "<div>\n",
       "<style scoped>\n",
       "    .dataframe tbody tr th:only-of-type {\n",
       "        vertical-align: middle;\n",
       "    }\n",
       "\n",
       "    .dataframe tbody tr th {\n",
       "        vertical-align: top;\n",
       "    }\n",
       "\n",
       "    .dataframe thead th {\n",
       "        text-align: right;\n",
       "    }\n",
       "</style>\n",
       "<table border=\"1\" class=\"dataframe\">\n",
       "  <thead>\n",
       "    <tr style=\"text-align: right;\">\n",
       "      <th></th>\n",
       "      <th>DecisionTree</th>\n",
       "      <th>RandomForest</th>\n",
       "      <th>ExtraTrees</th>\n",
       "      <th>XgBoost</th>\n",
       "    </tr>\n",
       "  </thead>\n",
       "  <tbody>\n",
       "    <tr>\n",
       "      <th>0</th>\n",
       "      <td>2</td>\n",
       "      <td>2</td>\n",
       "      <td>2</td>\n",
       "      <td>2</td>\n",
       "    </tr>\n",
       "    <tr>\n",
       "      <th>1</th>\n",
       "      <td>0</td>\n",
       "      <td>0</td>\n",
       "      <td>0</td>\n",
       "      <td>0</td>\n",
       "    </tr>\n",
       "    <tr>\n",
       "      <th>2</th>\n",
       "      <td>2</td>\n",
       "      <td>2</td>\n",
       "      <td>2</td>\n",
       "      <td>2</td>\n",
       "    </tr>\n",
       "    <tr>\n",
       "      <th>3</th>\n",
       "      <td>4</td>\n",
       "      <td>4</td>\n",
       "      <td>4</td>\n",
       "      <td>4</td>\n",
       "    </tr>\n",
       "    <tr>\n",
       "      <th>4</th>\n",
       "      <td>2</td>\n",
       "      <td>2</td>\n",
       "      <td>2</td>\n",
       "      <td>2</td>\n",
       "    </tr>\n",
       "  </tbody>\n",
       "</table>\n",
       "</div>"
      ],
      "text/plain": [
       "   DecisionTree  RandomForest  ExtraTrees  XgBoost\n",
       "0             2             2           2        2\n",
       "1             0             0           0        0\n",
       "2             2             2           2        2\n",
       "3             4             4           4        4\n",
       "4             2             2           2        2"
      ]
     },
     "execution_count": 94,
     "metadata": {},
     "output_type": "execute_result"
    }
   ],
   "source": [
    "base_predictions_train = pd.DataFrame( {\n",
    "    'DecisionTree': dt_train.ravel(),\n",
    "        'RandomForest': rf_train.ravel(),\n",
    "     'ExtraTrees': et_train.ravel(),\n",
    "     'XgBoost': xg_train.ravel(),\n",
    "    })\n",
    "base_predictions_train.head(5)"
   ]
  },
  {
   "cell_type": "code",
   "execution_count": 95,
   "id": "18534dec",
   "metadata": {},
   "outputs": [],
   "source": [
    "dt_train=dt_train.reshape(-1, 1)\n",
    "et_train=et_train.reshape(-1, 1)\n",
    "rf_train=rf_train.reshape(-1, 1)\n",
    "xg_train=xg_train.reshape(-1, 1)\n",
    "dt_test=dt_test.reshape(-1, 1)\n",
    "et_test=et_test.reshape(-1, 1)\n",
    "rf_test=rf_test.reshape(-1, 1)\n",
    "xg_test=xg_test.reshape(-1, 1)"
   ]
  },
  {
   "cell_type": "code",
   "execution_count": 96,
   "id": "a8273c3d",
   "metadata": {},
   "outputs": [
    {
     "data": {
      "text/plain": [
       "(20024, 1)"
      ]
     },
     "execution_count": 96,
     "metadata": {},
     "output_type": "execute_result"
    }
   ],
   "source": [
    "dt_train.shape"
   ]
  },
  {
   "cell_type": "code",
   "execution_count": 97,
   "id": "c8497566",
   "metadata": {},
   "outputs": [],
   "source": [
    "x_train = np.concatenate(( dt_train, et_train, rf_train, xg_train), axis=1)\n",
    "x_test = np.concatenate(( dt_test, et_test, rf_test, xg_test), axis=1)"
   ]
  },
  {
   "cell_type": "code",
   "execution_count": 98,
   "id": "bbc954ef",
   "metadata": {},
   "outputs": [
    {
     "name": "stdout",
     "output_type": "stream",
     "text": [
      "Accuracy of Stacking: 0.9872153415900919\n",
      "Precision of Stacking: 0.9871976853982446\n",
      "Recall of Stacking: 0.9872153415900919\n",
      "F1-score of Stacking: 0.9871734278640755\n",
      "              precision    recall  f1-score   support\n",
      "\n",
      "           0       1.00      0.99      0.99       476\n",
      "           1       0.94      0.92      0.93       277\n",
      "           2       0.99      1.00      0.99      3328\n",
      "           3       0.99      0.98      0.99       320\n",
      "           4       0.99      0.97      0.98       605\n",
      "\n",
      "    accuracy                           0.99      5006\n",
      "   macro avg       0.98      0.97      0.98      5006\n",
      "weighted avg       0.99      0.99      0.99      5006\n",
      "\n"
     ]
    },
    {
     "data": {
      "image/png": "[encoded data removed]",
      "text/plain": [
       "<Figure size 360x360 with 2 Axes>"
      ]
     },
     "metadata": {
      "needs_background": "light"
     },
     "output_type": "display_data"
    }
   ],
   "source": [
    "stk = xgb.XGBClassifier().fit(x_train, y_train)\n",
    "y_predict=stk.predict(x_test)\n",
    "y_true=y_test\n",
    "stk_score=accuracy_score(y_true,y_predict)\n",
    "print('Accuracy of Stacking: '+ str(stk_score))\n",
    "precision,recall,fscore,none= precision_recall_fscore_support(y_true, y_predict, average='weighted') \n",
    "print('Precision of Stacking: '+(str(precision)))\n",
    "print('Recall of Stacking: '+(str(recall)))\n",
    "print('F1-score of Stacking: '+(str(fscore)))\n",
    "print(classification_report(y_true,y_predict))\n",
    "cm=confusion_matrix(y_true,y_predict)\n",
    "f,ax=plt.subplots(figsize=(5,5))\n",
    "sns.heatmap(cm,annot=True,linewidth=0.5,linecolor=\"red\",fmt=\".0f\",ax=ax)\n",
    "plt.xlabel(\"y_pred\")\n",
    "plt.ylabel(\"y_true\")\n",
    "plt.show()"
   ]
  },
  {
   "cell_type": "code",
   "execution_count": 99,
   "id": "b20afabe",
   "metadata": {},
   "outputs": [
    {
     "name": "stdout",
     "output_type": "stream",
     "text": [
      "100%|███████████████████████████████████████████████| 20/20 [00:08<00:00,  2.29trial/s, best loss: -0.9874151018777467]\n",
      "XGBoost: Hyperopt estimated optimum {'learning_rate': 1.3543548153564335, 'max_depth': 92.0, 'n_estimators': 45.0}\n"
     ]
    }
   ],
   "source": [
    "from hyperopt import hp, fmin, tpe, STATUS_OK, Trials\n",
    "from sklearn.model_selection import cross_val_score, StratifiedKFold\n",
    "def objective(params):\n",
    "    params = {\n",
    "        'n_estimators': int(params['n_estimators']), \n",
    "        'max_depth': int(params['max_depth']),\n",
    "        'learning_rate':  abs(float(params['learning_rate'])),\n",
    "\n",
    "    }\n",
    "    clf = xgb.XGBClassifier( **params)\n",
    "    clf.fit(x_train, y_train)\n",
    "    y_pred = clf.predict(x_test)\n",
    "    score = accuracy_score(y_test, y_pred)\n",
    "\n",
    "    return {'loss':-score, 'status': STATUS_OK }\n",
    "\n",
    "space = {\n",
    "    'n_estimators': hp.quniform('n_estimators', 10, 100, 5),\n",
    "    'max_depth': hp.quniform('max_depth', 4, 100, 1),\n",
    "    'learning_rate': hp.normal('learning_rate', 0.01, 0.9),\n",
    "}\n",
    "\n",
    "best = fmin(fn=objective,\n",
    "            space=space,\n",
    "            algo=tpe.suggest,\n",
    "            max_evals=20)\n",
    "print(\"XGBoost: Hyperopt estimated optimum {}\".format(best))"
   ]
  },
  {
   "cell_type": "code",
   "execution_count": 100,
   "id": "f7a7b3b7",
   "metadata": {},
   "outputs": [
    {
     "name": "stdout",
     "output_type": "stream",
     "text": [
      "Accuracy of XGBoost: 0.9872153415900919\n",
      "Precision of XGBoost: 0.9872103947841724\n",
      "Recall of XGBoost: 0.9872153415900919\n",
      "F1-score of XGBoost: 0.987178884512277\n",
      "              precision    recall  f1-score   support\n",
      "\n",
      "           0       1.00      0.99      0.99       476\n",
      "           1       0.93      0.92      0.93       277\n",
      "           2       0.99      1.00      0.99      3328\n",
      "           3       0.99      0.98      0.99       320\n",
      "           4       0.99      0.97      0.98       605\n",
      "\n",
      "    accuracy                           0.99      5006\n",
      "   macro avg       0.98      0.97      0.98      5006\n",
      "weighted avg       0.99      0.99      0.99      5006\n",
      "\n"
     ]
    },
    {
     "data": {
      "image/png": "[encoded data removed]",
      "text/plain": [
       "<Figure size 360x360 with 2 Axes>"
      ]
     },
     "metadata": {
      "needs_background": "light"
     },
     "output_type": "display_data"
    }
   ],
   "source": [
    "xg = xgb.XGBClassifier(learning_rate= 0.19229249758051492, n_estimators = 30, max_depth = 36)\n",
    "xg.fit(x_train,y_train)\n",
    "xg_score=xg.score(x_test,y_test)\n",
    "y_predict=xg.predict(x_test)\n",
    "y_true=y_test\n",
    "print('Accuracy of XGBoost: '+ str(xg_score))\n",
    "precision,recall,fscore,none= precision_recall_fscore_support(y_true, y_predict, average='weighted') \n",
    "print('Precision of XGBoost: '+(str(precision)))\n",
    "print('Recall of XGBoost: '+(str(recall)))\n",
    "print('F1-score of XGBoost: '+(str(fscore)))\n",
    "print(classification_report(y_true,y_predict))\n",
    "cm=confusion_matrix(y_true,y_predict)\n",
    "f,ax=plt.subplots(figsize=(5,5))\n",
    "sns.heatmap(cm,annot=True,linewidth=0.5,linecolor=\"red\",fmt=\".0f\",ax=ax)\n",
    "plt.xlabel(\"y_pred\")\n",
    "plt.ylabel(\"y_true\")\n",
    "plt.show()"
   ]
  },
  {
   "cell_type": "code",
   "execution_count": null,
   "id": "556259af",
   "metadata": {},
   "outputs": [],
   "source": []
  },
  {
   "cell_type": "code",
   "execution_count": null,
   "id": "11cef1ae",
   "metadata": {},
   "outputs": [],
   "source": []
  }
 ],
 "metadata": {
  "interpreter": {
   "hash": "bc342a2d18cd8de928dda5685bacff2bb239146e0847e732d8a85b5d43ec132e"
  },
  "kernelspec": {
   "display_name": "Python 3 (ipykernel)",
   "language": "python",
   "name": "python3"
  },
  "language_info": {
   "codemirror_mode": {
    "name": "ipython",
    "version": 3
   },
   "file_extension": ".py",
   "mimetype": "text/x-python",
   "name": "python",
   "nbconvert_exporter": "python",
   "pygments_lexer": "ipython3",
   "version": "3.10.4"
  }
 },
 "nbformat": 4,
 "nbformat_minor": 5
}
