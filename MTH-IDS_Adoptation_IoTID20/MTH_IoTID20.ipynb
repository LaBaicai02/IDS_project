{
 "cells": [
  {
   "cell_type": "code",
   "execution_count": 1,
   "id": "58256e76",
   "metadata": {},
   "outputs": [],
   "source": [
    "import numpy as np\n",
    "import pandas as pd\n",
    "import seaborn as sns\n",
    "import matplotlib.pyplot as plt\n",
    "from sklearn.preprocessing import LabelEncoder\n",
    "from sklearn.model_selection import train_test_split\n",
    "from sklearn.metrics import classification_report,confusion_matrix,accuracy_score,precision_recall_fscore_support\n",
    "from sklearn.metrics import f1_score,roc_auc_score\n",
    "from sklearn.ensemble import RandomForestClassifier,ExtraTreesClassifier\n",
    "from sklearn.tree import DecisionTreeClassifier\n",
    "import xgboost as xgb\n",
    "from xgboost import plot_importance"
   ]
  },
  {
   "cell_type": "code",
   "execution_count": 2,
   "id": "4215b3f5",
   "metadata": {},
   "outputs": [],
   "source": [
    "#Read dataset\n",
    "df = pd.read_csv('./data/IoT Network Intrusion Dataset.csv')"
   ]
  },
  {
   "cell_type": "code",
   "execution_count": 3,
   "id": "15b6974b",
   "metadata": {
    "scrolled": false
   },
   "outputs": [
    {
     "data": {
      "text/html": [
       "<div>\n",
       "<style scoped>\n",
       "    .dataframe tbody tr th:only-of-type {\n",
       "        vertical-align: middle;\n",
       "    }\n",
       "\n",
       "    .dataframe tbody tr th {\n",
       "        vertical-align: top;\n",
       "    }\n",
       "\n",
       "    .dataframe thead th {\n",
       "        text-align: right;\n",
       "    }\n",
       "</style>\n",
       "<table border=\"1\" class=\"dataframe\">\n",
       "  <thead>\n",
       "    <tr style=\"text-align: right;\">\n",
       "      <th></th>\n",
       "      <th>Flow_ID</th>\n",
       "      <th>Src_IP</th>\n",
       "      <th>Src_Port</th>\n",
       "      <th>Dst_IP</th>\n",
       "      <th>Dst_Port</th>\n",
       "      <th>Protocol</th>\n",
       "      <th>Timestamp</th>\n",
       "      <th>Flow_Duration</th>\n",
       "      <th>Tot_Fwd_Pkts</th>\n",
       "      <th>Tot_Bwd_Pkts</th>\n",
       "      <th>...</th>\n",
       "      <th>Active_Std</th>\n",
       "      <th>Active_Max</th>\n",
       "      <th>Active_Min</th>\n",
       "      <th>Idle_Mean</th>\n",
       "      <th>Idle_Std</th>\n",
       "      <th>Idle_Max</th>\n",
       "      <th>Idle_Min</th>\n",
       "      <th>Label</th>\n",
       "      <th>Cat</th>\n",
       "      <th>Sub_Cat</th>\n",
       "    </tr>\n",
       "  </thead>\n",
       "  <tbody>\n",
       "    <tr>\n",
       "      <th>0</th>\n",
       "      <td>192.168.0.13-192.168.0.16-10000-10101-17</td>\n",
       "      <td>192.168.0.13</td>\n",
       "      <td>10000</td>\n",
       "      <td>192.168.0.16</td>\n",
       "      <td>10101</td>\n",
       "      <td>17</td>\n",
       "      <td>25/07/2019 03:25:53 AM</td>\n",
       "      <td>75</td>\n",
       "      <td>1</td>\n",
       "      <td>1</td>\n",
       "      <td>...</td>\n",
       "      <td>0.0</td>\n",
       "      <td>0.0</td>\n",
       "      <td>0.0</td>\n",
       "      <td>75.0</td>\n",
       "      <td>0.000000</td>\n",
       "      <td>75.0</td>\n",
       "      <td>75.0</td>\n",
       "      <td>Anomaly</td>\n",
       "      <td>Mirai</td>\n",
       "      <td>Mirai-Ackflooding</td>\n",
       "    </tr>\n",
       "    <tr>\n",
       "      <th>1</th>\n",
       "      <td>192.168.0.13-222.160.179.132-554-2179-6</td>\n",
       "      <td>222.160.179.132</td>\n",
       "      <td>2179</td>\n",
       "      <td>192.168.0.13</td>\n",
       "      <td>554</td>\n",
       "      <td>6</td>\n",
       "      <td>26/05/2019 10:11:06 PM</td>\n",
       "      <td>5310</td>\n",
       "      <td>1</td>\n",
       "      <td>2</td>\n",
       "      <td>...</td>\n",
       "      <td>0.0</td>\n",
       "      <td>0.0</td>\n",
       "      <td>0.0</td>\n",
       "      <td>2655.0</td>\n",
       "      <td>2261.327486</td>\n",
       "      <td>4254.0</td>\n",
       "      <td>1056.0</td>\n",
       "      <td>Anomaly</td>\n",
       "      <td>DoS</td>\n",
       "      <td>DoS-Synflooding</td>\n",
       "    </tr>\n",
       "    <tr>\n",
       "      <th>2</th>\n",
       "      <td>192.168.0.13-192.168.0.16-9020-52727-6</td>\n",
       "      <td>192.168.0.16</td>\n",
       "      <td>52727</td>\n",
       "      <td>192.168.0.13</td>\n",
       "      <td>9020</td>\n",
       "      <td>6</td>\n",
       "      <td>11/07/2019 01:24:48 AM</td>\n",
       "      <td>141</td>\n",
       "      <td>0</td>\n",
       "      <td>3</td>\n",
       "      <td>...</td>\n",
       "      <td>0.0</td>\n",
       "      <td>0.0</td>\n",
       "      <td>0.0</td>\n",
       "      <td>70.5</td>\n",
       "      <td>0.707107</td>\n",
       "      <td>71.0</td>\n",
       "      <td>70.0</td>\n",
       "      <td>Anomaly</td>\n",
       "      <td>Scan</td>\n",
       "      <td>Scan Port OS</td>\n",
       "    </tr>\n",
       "    <tr>\n",
       "      <th>3</th>\n",
       "      <td>192.168.0.13-192.168.0.16-9020-52964-6</td>\n",
       "      <td>192.168.0.16</td>\n",
       "      <td>52964</td>\n",
       "      <td>192.168.0.13</td>\n",
       "      <td>9020</td>\n",
       "      <td>6</td>\n",
       "      <td>04/09/2019 03:58:17 AM</td>\n",
       "      <td>151</td>\n",
       "      <td>0</td>\n",
       "      <td>2</td>\n",
       "      <td>...</td>\n",
       "      <td>0.0</td>\n",
       "      <td>0.0</td>\n",
       "      <td>0.0</td>\n",
       "      <td>151.0</td>\n",
       "      <td>0.000000</td>\n",
       "      <td>151.0</td>\n",
       "      <td>151.0</td>\n",
       "      <td>Anomaly</td>\n",
       "      <td>Mirai</td>\n",
       "      <td>Mirai-Hostbruteforceg</td>\n",
       "    </tr>\n",
       "    <tr>\n",
       "      <th>4</th>\n",
       "      <td>192.168.0.1-239.255.255.250-36763-1900-17</td>\n",
       "      <td>192.168.0.1</td>\n",
       "      <td>36763</td>\n",
       "      <td>239.255.255.250</td>\n",
       "      <td>1900</td>\n",
       "      <td>17</td>\n",
       "      <td>10/09/2019 01:41:18 AM</td>\n",
       "      <td>153</td>\n",
       "      <td>2</td>\n",
       "      <td>1</td>\n",
       "      <td>...</td>\n",
       "      <td>0.0</td>\n",
       "      <td>0.0</td>\n",
       "      <td>0.0</td>\n",
       "      <td>76.5</td>\n",
       "      <td>0.707107</td>\n",
       "      <td>77.0</td>\n",
       "      <td>76.0</td>\n",
       "      <td>Anomaly</td>\n",
       "      <td>Mirai</td>\n",
       "      <td>Mirai-Hostbruteforceg</td>\n",
       "    </tr>\n",
       "    <tr>\n",
       "      <th>...</th>\n",
       "      <td>...</td>\n",
       "      <td>...</td>\n",
       "      <td>...</td>\n",
       "      <td>...</td>\n",
       "      <td>...</td>\n",
       "      <td>...</td>\n",
       "      <td>...</td>\n",
       "      <td>...</td>\n",
       "      <td>...</td>\n",
       "      <td>...</td>\n",
       "      <td>...</td>\n",
       "      <td>...</td>\n",
       "      <td>...</td>\n",
       "      <td>...</td>\n",
       "      <td>...</td>\n",
       "      <td>...</td>\n",
       "      <td>...</td>\n",
       "      <td>...</td>\n",
       "      <td>...</td>\n",
       "      <td>...</td>\n",
       "      <td>...</td>\n",
       "    </tr>\n",
       "    <tr>\n",
       "      <th>625778</th>\n",
       "      <td>192.168.0.24-210.89.164.90-56112-8043-17</td>\n",
       "      <td>192.168.0.24</td>\n",
       "      <td>56112</td>\n",
       "      <td>210.89.164.90</td>\n",
       "      <td>8043</td>\n",
       "      <td>17</td>\n",
       "      <td>25/07/2019 03:25:00 AM</td>\n",
       "      <td>277</td>\n",
       "      <td>1</td>\n",
       "      <td>1</td>\n",
       "      <td>...</td>\n",
       "      <td>0.0</td>\n",
       "      <td>0.0</td>\n",
       "      <td>0.0</td>\n",
       "      <td>277.0</td>\n",
       "      <td>0.000000</td>\n",
       "      <td>277.0</td>\n",
       "      <td>277.0</td>\n",
       "      <td>Anomaly</td>\n",
       "      <td>Mirai</td>\n",
       "      <td>Mirai-UDP Flooding</td>\n",
       "    </tr>\n",
       "    <tr>\n",
       "      <th>625779</th>\n",
       "      <td>192.168.0.13-222.131.171.244-554-4570-6</td>\n",
       "      <td>222.131.171.244</td>\n",
       "      <td>4570</td>\n",
       "      <td>192.168.0.13</td>\n",
       "      <td>554</td>\n",
       "      <td>6</td>\n",
       "      <td>26/05/2019 10:06:51 PM</td>\n",
       "      <td>1658</td>\n",
       "      <td>0</td>\n",
       "      <td>2</td>\n",
       "      <td>...</td>\n",
       "      <td>0.0</td>\n",
       "      <td>0.0</td>\n",
       "      <td>0.0</td>\n",
       "      <td>1658.0</td>\n",
       "      <td>0.000000</td>\n",
       "      <td>1658.0</td>\n",
       "      <td>1658.0</td>\n",
       "      <td>Anomaly</td>\n",
       "      <td>DoS</td>\n",
       "      <td>DoS-Synflooding</td>\n",
       "    </tr>\n",
       "    <tr>\n",
       "      <th>625780</th>\n",
       "      <td>192.168.0.13-192.168.0.16-9020-52739-6</td>\n",
       "      <td>192.168.0.16</td>\n",
       "      <td>52739</td>\n",
       "      <td>192.168.0.13</td>\n",
       "      <td>9020</td>\n",
       "      <td>6</td>\n",
       "      <td>11/07/2019 01:29:09 AM</td>\n",
       "      <td>77</td>\n",
       "      <td>1</td>\n",
       "      <td>1</td>\n",
       "      <td>...</td>\n",
       "      <td>0.0</td>\n",
       "      <td>0.0</td>\n",
       "      <td>0.0</td>\n",
       "      <td>77.0</td>\n",
       "      <td>0.000000</td>\n",
       "      <td>77.0</td>\n",
       "      <td>77.0</td>\n",
       "      <td>Anomaly</td>\n",
       "      <td>Scan</td>\n",
       "      <td>Scan Port OS</td>\n",
       "    </tr>\n",
       "    <tr>\n",
       "      <th>625781</th>\n",
       "      <td>192.168.0.13-192.168.0.16-9020-49784-6</td>\n",
       "      <td>192.168.0.13</td>\n",
       "      <td>9020</td>\n",
       "      <td>192.168.0.16</td>\n",
       "      <td>49784</td>\n",
       "      <td>6</td>\n",
       "      <td>20/05/2019 05:00:29 AM</td>\n",
       "      <td>240</td>\n",
       "      <td>2</td>\n",
       "      <td>1</td>\n",
       "      <td>...</td>\n",
       "      <td>0.0</td>\n",
       "      <td>0.0</td>\n",
       "      <td>0.0</td>\n",
       "      <td>120.0</td>\n",
       "      <td>7.071068</td>\n",
       "      <td>125.0</td>\n",
       "      <td>115.0</td>\n",
       "      <td>Normal</td>\n",
       "      <td>Normal</td>\n",
       "      <td>Normal</td>\n",
       "    </tr>\n",
       "    <tr>\n",
       "      <th>625782</th>\n",
       "      <td>192.168.0.13-192.168.0.16-10000-10101-17</td>\n",
       "      <td>192.168.0.13</td>\n",
       "      <td>10000</td>\n",
       "      <td>192.168.0.16</td>\n",
       "      <td>10101</td>\n",
       "      <td>17</td>\n",
       "      <td>25/07/2019 03:25:10 AM</td>\n",
       "      <td>198</td>\n",
       "      <td>2</td>\n",
       "      <td>1</td>\n",
       "      <td>...</td>\n",
       "      <td>0.0</td>\n",
       "      <td>0.0</td>\n",
       "      <td>0.0</td>\n",
       "      <td>99.0</td>\n",
       "      <td>32.526912</td>\n",
       "      <td>122.0</td>\n",
       "      <td>76.0</td>\n",
       "      <td>Anomaly</td>\n",
       "      <td>Mirai</td>\n",
       "      <td>Mirai-UDP Flooding</td>\n",
       "    </tr>\n",
       "  </tbody>\n",
       "</table>\n",
       "<p>625783 rows × 86 columns</p>\n",
       "</div>"
      ],
      "text/plain": [
       "                                          Flow_ID           Src_IP  Src_Port  \\\n",
       "0        192.168.0.13-192.168.0.16-10000-10101-17     192.168.0.13     10000   \n",
       "1         192.168.0.13-222.160.179.132-554-2179-6  222.160.179.132      2179   \n",
       "2          192.168.0.13-192.168.0.16-9020-52727-6     192.168.0.16     52727   \n",
       "3          192.168.0.13-192.168.0.16-9020-52964-6     192.168.0.16     52964   \n",
       "4       192.168.0.1-239.255.255.250-36763-1900-17      192.168.0.1     36763   \n",
       "...                                           ...              ...       ...   \n",
       "625778   192.168.0.24-210.89.164.90-56112-8043-17     192.168.0.24     56112   \n",
       "625779    192.168.0.13-222.131.171.244-554-4570-6  222.131.171.244      4570   \n",
       "625780     192.168.0.13-192.168.0.16-9020-52739-6     192.168.0.16     52739   \n",
       "625781     192.168.0.13-192.168.0.16-9020-49784-6     192.168.0.13      9020   \n",
       "625782   192.168.0.13-192.168.0.16-10000-10101-17     192.168.0.13     10000   \n",
       "\n",
       "                 Dst_IP  Dst_Port  Protocol               Timestamp  \\\n",
       "0          192.168.0.16     10101        17  25/07/2019 03:25:53 AM   \n",
       "1          192.168.0.13       554         6  26/05/2019 10:11:06 PM   \n",
       "2          192.168.0.13      9020         6  11/07/2019 01:24:48 AM   \n",
       "3          192.168.0.13      9020         6  04/09/2019 03:58:17 AM   \n",
       "4       239.255.255.250      1900        17  10/09/2019 01:41:18 AM   \n",
       "...                 ...       ...       ...                     ...   \n",
       "625778    210.89.164.90      8043        17  25/07/2019 03:25:00 AM   \n",
       "625779     192.168.0.13       554         6  26/05/2019 10:06:51 PM   \n",
       "625780     192.168.0.13      9020         6  11/07/2019 01:29:09 AM   \n",
       "625781     192.168.0.16     49784         6  20/05/2019 05:00:29 AM   \n",
       "625782     192.168.0.16     10101        17  25/07/2019 03:25:10 AM   \n",
       "\n",
       "        Flow_Duration  Tot_Fwd_Pkts  Tot_Bwd_Pkts  ...  Active_Std  \\\n",
       "0                  75             1             1  ...         0.0   \n",
       "1                5310             1             2  ...         0.0   \n",
       "2                 141             0             3  ...         0.0   \n",
       "3                 151             0             2  ...         0.0   \n",
       "4                 153             2             1  ...         0.0   \n",
       "...               ...           ...           ...  ...         ...   \n",
       "625778            277             1             1  ...         0.0   \n",
       "625779           1658             0             2  ...         0.0   \n",
       "625780             77             1             1  ...         0.0   \n",
       "625781            240             2             1  ...         0.0   \n",
       "625782            198             2             1  ...         0.0   \n",
       "\n",
       "        Active_Max  Active_Min  Idle_Mean     Idle_Std  Idle_Max  Idle_Min  \\\n",
       "0              0.0         0.0       75.0     0.000000      75.0      75.0   \n",
       "1              0.0         0.0     2655.0  2261.327486    4254.0    1056.0   \n",
       "2              0.0         0.0       70.5     0.707107      71.0      70.0   \n",
       "3              0.0         0.0      151.0     0.000000     151.0     151.0   \n",
       "4              0.0         0.0       76.5     0.707107      77.0      76.0   \n",
       "...            ...         ...        ...          ...       ...       ...   \n",
       "625778         0.0         0.0      277.0     0.000000     277.0     277.0   \n",
       "625779         0.0         0.0     1658.0     0.000000    1658.0    1658.0   \n",
       "625780         0.0         0.0       77.0     0.000000      77.0      77.0   \n",
       "625781         0.0         0.0      120.0     7.071068     125.0     115.0   \n",
       "625782         0.0         0.0       99.0    32.526912     122.0      76.0   \n",
       "\n",
       "          Label     Cat                Sub_Cat  \n",
       "0       Anomaly   Mirai      Mirai-Ackflooding  \n",
       "1       Anomaly     DoS        DoS-Synflooding  \n",
       "2       Anomaly    Scan           Scan Port OS  \n",
       "3       Anomaly   Mirai  Mirai-Hostbruteforceg  \n",
       "4       Anomaly   Mirai  Mirai-Hostbruteforceg  \n",
       "...         ...     ...                    ...  \n",
       "625778  Anomaly   Mirai     Mirai-UDP Flooding  \n",
       "625779  Anomaly     DoS        DoS-Synflooding  \n",
       "625780  Anomaly    Scan           Scan Port OS  \n",
       "625781   Normal  Normal                 Normal  \n",
       "625782  Anomaly   Mirai     Mirai-UDP Flooding  \n",
       "\n",
       "[625783 rows x 86 columns]"
      ]
     },
     "execution_count": 3,
     "metadata": {},
     "output_type": "execute_result"
    }
   ],
   "source": [
    "df\n"
   ]
  },
  {
   "cell_type": "code",
   "execution_count": 4,
   "id": "596c5419",
   "metadata": {},
   "outputs": [
    {
     "data": {
      "text/plain": [
       "['Flow_ID', 'Src_IP', 'Dst_IP', 'Timestamp', 'Label', 'Cat', 'Sub_Cat']"
      ]
     },
     "execution_count": 4,
     "metadata": {},
     "output_type": "execute_result"
    }
   ],
   "source": [
    "cols = (df.dtypes=='object')\n",
    "object_cols = list(cols[cols].index)\n",
    "object_cols"
   ]
  },
  {
   "cell_type": "code",
   "execution_count": 5,
   "id": "9c6b8a57",
   "metadata": {
    "scrolled": true
   },
   "outputs": [],
   "source": [
    "x=[0,1,3,85]\n",
    "df.drop(df.columns[x], axis = 1, inplace=True)\n",
    "df.drop('Timestamp', axis=1, inplace = True)"
   ]
  },
  {
   "cell_type": "code",
   "execution_count": 6,
   "id": "c7b7beda",
   "metadata": {
    "scrolled": false
   },
   "outputs": [
    {
     "data": {
      "text/html": [
       "<div>\n",
       "<style scoped>\n",
       "    .dataframe tbody tr th:only-of-type {\n",
       "        vertical-align: middle;\n",
       "    }\n",
       "\n",
       "    .dataframe tbody tr th {\n",
       "        vertical-align: top;\n",
       "    }\n",
       "\n",
       "    .dataframe thead th {\n",
       "        text-align: right;\n",
       "    }\n",
       "</style>\n",
       "<table border=\"1\" class=\"dataframe\">\n",
       "  <thead>\n",
       "    <tr style=\"text-align: right;\">\n",
       "      <th></th>\n",
       "      <th>Src_Port</th>\n",
       "      <th>Dst_Port</th>\n",
       "      <th>Protocol</th>\n",
       "      <th>Flow_Duration</th>\n",
       "      <th>Tot_Fwd_Pkts</th>\n",
       "      <th>Tot_Bwd_Pkts</th>\n",
       "      <th>TotLen_Fwd_Pkts</th>\n",
       "      <th>TotLen_Bwd_Pkts</th>\n",
       "      <th>Fwd_Pkt_Len_Max</th>\n",
       "      <th>Fwd_Pkt_Len_Min</th>\n",
       "      <th>...</th>\n",
       "      <th>Active_Mean</th>\n",
       "      <th>Active_Std</th>\n",
       "      <th>Active_Max</th>\n",
       "      <th>Active_Min</th>\n",
       "      <th>Idle_Mean</th>\n",
       "      <th>Idle_Std</th>\n",
       "      <th>Idle_Max</th>\n",
       "      <th>Idle_Min</th>\n",
       "      <th>Label</th>\n",
       "      <th>Cat</th>\n",
       "    </tr>\n",
       "  </thead>\n",
       "  <tbody>\n",
       "    <tr>\n",
       "      <th>0</th>\n",
       "      <td>10000</td>\n",
       "      <td>10101</td>\n",
       "      <td>17</td>\n",
       "      <td>75</td>\n",
       "      <td>1</td>\n",
       "      <td>1</td>\n",
       "      <td>982.0</td>\n",
       "      <td>1430.0</td>\n",
       "      <td>982.0</td>\n",
       "      <td>982.0</td>\n",
       "      <td>...</td>\n",
       "      <td>0.0</td>\n",
       "      <td>0.0</td>\n",
       "      <td>0.0</td>\n",
       "      <td>0.0</td>\n",
       "      <td>75.0</td>\n",
       "      <td>0.000000</td>\n",
       "      <td>75.0</td>\n",
       "      <td>75.0</td>\n",
       "      <td>Anomaly</td>\n",
       "      <td>Mirai</td>\n",
       "    </tr>\n",
       "    <tr>\n",
       "      <th>1</th>\n",
       "      <td>2179</td>\n",
       "      <td>554</td>\n",
       "      <td>6</td>\n",
       "      <td>5310</td>\n",
       "      <td>1</td>\n",
       "      <td>2</td>\n",
       "      <td>0.0</td>\n",
       "      <td>0.0</td>\n",
       "      <td>0.0</td>\n",
       "      <td>0.0</td>\n",
       "      <td>...</td>\n",
       "      <td>0.0</td>\n",
       "      <td>0.0</td>\n",
       "      <td>0.0</td>\n",
       "      <td>0.0</td>\n",
       "      <td>2655.0</td>\n",
       "      <td>2261.327486</td>\n",
       "      <td>4254.0</td>\n",
       "      <td>1056.0</td>\n",
       "      <td>Anomaly</td>\n",
       "      <td>DoS</td>\n",
       "    </tr>\n",
       "    <tr>\n",
       "      <th>2</th>\n",
       "      <td>52727</td>\n",
       "      <td>9020</td>\n",
       "      <td>6</td>\n",
       "      <td>141</td>\n",
       "      <td>0</td>\n",
       "      <td>3</td>\n",
       "      <td>0.0</td>\n",
       "      <td>2806.0</td>\n",
       "      <td>0.0</td>\n",
       "      <td>0.0</td>\n",
       "      <td>...</td>\n",
       "      <td>0.0</td>\n",
       "      <td>0.0</td>\n",
       "      <td>0.0</td>\n",
       "      <td>0.0</td>\n",
       "      <td>70.5</td>\n",
       "      <td>0.707107</td>\n",
       "      <td>71.0</td>\n",
       "      <td>70.0</td>\n",
       "      <td>Anomaly</td>\n",
       "      <td>Scan</td>\n",
       "    </tr>\n",
       "    <tr>\n",
       "      <th>3</th>\n",
       "      <td>52964</td>\n",
       "      <td>9020</td>\n",
       "      <td>6</td>\n",
       "      <td>151</td>\n",
       "      <td>0</td>\n",
       "      <td>2</td>\n",
       "      <td>0.0</td>\n",
       "      <td>2776.0</td>\n",
       "      <td>0.0</td>\n",
       "      <td>0.0</td>\n",
       "      <td>...</td>\n",
       "      <td>0.0</td>\n",
       "      <td>0.0</td>\n",
       "      <td>0.0</td>\n",
       "      <td>0.0</td>\n",
       "      <td>151.0</td>\n",
       "      <td>0.000000</td>\n",
       "      <td>151.0</td>\n",
       "      <td>151.0</td>\n",
       "      <td>Anomaly</td>\n",
       "      <td>Mirai</td>\n",
       "    </tr>\n",
       "    <tr>\n",
       "      <th>4</th>\n",
       "      <td>36763</td>\n",
       "      <td>1900</td>\n",
       "      <td>17</td>\n",
       "      <td>153</td>\n",
       "      <td>2</td>\n",
       "      <td>1</td>\n",
       "      <td>886.0</td>\n",
       "      <td>420.0</td>\n",
       "      <td>452.0</td>\n",
       "      <td>434.0</td>\n",
       "      <td>...</td>\n",
       "      <td>0.0</td>\n",
       "      <td>0.0</td>\n",
       "      <td>0.0</td>\n",
       "      <td>0.0</td>\n",
       "      <td>76.5</td>\n",
       "      <td>0.707107</td>\n",
       "      <td>77.0</td>\n",
       "      <td>76.0</td>\n",
       "      <td>Anomaly</td>\n",
       "      <td>Mirai</td>\n",
       "    </tr>\n",
       "    <tr>\n",
       "      <th>...</th>\n",
       "      <td>...</td>\n",
       "      <td>...</td>\n",
       "      <td>...</td>\n",
       "      <td>...</td>\n",
       "      <td>...</td>\n",
       "      <td>...</td>\n",
       "      <td>...</td>\n",
       "      <td>...</td>\n",
       "      <td>...</td>\n",
       "      <td>...</td>\n",
       "      <td>...</td>\n",
       "      <td>...</td>\n",
       "      <td>...</td>\n",
       "      <td>...</td>\n",
       "      <td>...</td>\n",
       "      <td>...</td>\n",
       "      <td>...</td>\n",
       "      <td>...</td>\n",
       "      <td>...</td>\n",
       "      <td>...</td>\n",
       "      <td>...</td>\n",
       "    </tr>\n",
       "    <tr>\n",
       "      <th>625778</th>\n",
       "      <td>56112</td>\n",
       "      <td>8043</td>\n",
       "      <td>17</td>\n",
       "      <td>277</td>\n",
       "      <td>1</td>\n",
       "      <td>1</td>\n",
       "      <td>18.0</td>\n",
       "      <td>18.0</td>\n",
       "      <td>18.0</td>\n",
       "      <td>18.0</td>\n",
       "      <td>...</td>\n",
       "      <td>0.0</td>\n",
       "      <td>0.0</td>\n",
       "      <td>0.0</td>\n",
       "      <td>0.0</td>\n",
       "      <td>277.0</td>\n",
       "      <td>0.000000</td>\n",
       "      <td>277.0</td>\n",
       "      <td>277.0</td>\n",
       "      <td>Anomaly</td>\n",
       "      <td>Mirai</td>\n",
       "    </tr>\n",
       "    <tr>\n",
       "      <th>625779</th>\n",
       "      <td>4570</td>\n",
       "      <td>554</td>\n",
       "      <td>6</td>\n",
       "      <td>1658</td>\n",
       "      <td>0</td>\n",
       "      <td>2</td>\n",
       "      <td>0.0</td>\n",
       "      <td>0.0</td>\n",
       "      <td>0.0</td>\n",
       "      <td>0.0</td>\n",
       "      <td>...</td>\n",
       "      <td>0.0</td>\n",
       "      <td>0.0</td>\n",
       "      <td>0.0</td>\n",
       "      <td>0.0</td>\n",
       "      <td>1658.0</td>\n",
       "      <td>0.000000</td>\n",
       "      <td>1658.0</td>\n",
       "      <td>1658.0</td>\n",
       "      <td>Anomaly</td>\n",
       "      <td>DoS</td>\n",
       "    </tr>\n",
       "    <tr>\n",
       "      <th>625780</th>\n",
       "      <td>52739</td>\n",
       "      <td>9020</td>\n",
       "      <td>6</td>\n",
       "      <td>77</td>\n",
       "      <td>1</td>\n",
       "      <td>1</td>\n",
       "      <td>0.0</td>\n",
       "      <td>0.0</td>\n",
       "      <td>0.0</td>\n",
       "      <td>0.0</td>\n",
       "      <td>...</td>\n",
       "      <td>0.0</td>\n",
       "      <td>0.0</td>\n",
       "      <td>0.0</td>\n",
       "      <td>0.0</td>\n",
       "      <td>77.0</td>\n",
       "      <td>0.000000</td>\n",
       "      <td>77.0</td>\n",
       "      <td>77.0</td>\n",
       "      <td>Anomaly</td>\n",
       "      <td>Scan</td>\n",
       "    </tr>\n",
       "    <tr>\n",
       "      <th>625781</th>\n",
       "      <td>9020</td>\n",
       "      <td>49784</td>\n",
       "      <td>6</td>\n",
       "      <td>240</td>\n",
       "      <td>2</td>\n",
       "      <td>1</td>\n",
       "      <td>2776.0</td>\n",
       "      <td>1388.0</td>\n",
       "      <td>1388.0</td>\n",
       "      <td>1388.0</td>\n",
       "      <td>...</td>\n",
       "      <td>0.0</td>\n",
       "      <td>0.0</td>\n",
       "      <td>0.0</td>\n",
       "      <td>0.0</td>\n",
       "      <td>120.0</td>\n",
       "      <td>7.071068</td>\n",
       "      <td>125.0</td>\n",
       "      <td>115.0</td>\n",
       "      <td>Normal</td>\n",
       "      <td>Normal</td>\n",
       "    </tr>\n",
       "    <tr>\n",
       "      <th>625782</th>\n",
       "      <td>10000</td>\n",
       "      <td>10101</td>\n",
       "      <td>17</td>\n",
       "      <td>198</td>\n",
       "      <td>2</td>\n",
       "      <td>1</td>\n",
       "      <td>2860.0</td>\n",
       "      <td>1430.0</td>\n",
       "      <td>1430.0</td>\n",
       "      <td>1430.0</td>\n",
       "      <td>...</td>\n",
       "      <td>0.0</td>\n",
       "      <td>0.0</td>\n",
       "      <td>0.0</td>\n",
       "      <td>0.0</td>\n",
       "      <td>99.0</td>\n",
       "      <td>32.526912</td>\n",
       "      <td>122.0</td>\n",
       "      <td>76.0</td>\n",
       "      <td>Anomaly</td>\n",
       "      <td>Mirai</td>\n",
       "    </tr>\n",
       "  </tbody>\n",
       "</table>\n",
       "<p>625783 rows × 81 columns</p>\n",
       "</div>"
      ],
      "text/plain": [
       "        Src_Port  Dst_Port  Protocol  Flow_Duration  Tot_Fwd_Pkts  \\\n",
       "0          10000     10101        17             75             1   \n",
       "1           2179       554         6           5310             1   \n",
       "2          52727      9020         6            141             0   \n",
       "3          52964      9020         6            151             0   \n",
       "4          36763      1900        17            153             2   \n",
       "...          ...       ...       ...            ...           ...   \n",
       "625778     56112      8043        17            277             1   \n",
       "625779      4570       554         6           1658             0   \n",
       "625780     52739      9020         6             77             1   \n",
       "625781      9020     49784         6            240             2   \n",
       "625782     10000     10101        17            198             2   \n",
       "\n",
       "        Tot_Bwd_Pkts  TotLen_Fwd_Pkts  TotLen_Bwd_Pkts  Fwd_Pkt_Len_Max  \\\n",
       "0                  1            982.0           1430.0            982.0   \n",
       "1                  2              0.0              0.0              0.0   \n",
       "2                  3              0.0           2806.0              0.0   \n",
       "3                  2              0.0           2776.0              0.0   \n",
       "4                  1            886.0            420.0            452.0   \n",
       "...              ...              ...              ...              ...   \n",
       "625778             1             18.0             18.0             18.0   \n",
       "625779             2              0.0              0.0              0.0   \n",
       "625780             1              0.0              0.0              0.0   \n",
       "625781             1           2776.0           1388.0           1388.0   \n",
       "625782             1           2860.0           1430.0           1430.0   \n",
       "\n",
       "        Fwd_Pkt_Len_Min  ...  Active_Mean  Active_Std  Active_Max  Active_Min  \\\n",
       "0                 982.0  ...          0.0         0.0         0.0         0.0   \n",
       "1                   0.0  ...          0.0         0.0         0.0         0.0   \n",
       "2                   0.0  ...          0.0         0.0         0.0         0.0   \n",
       "3                   0.0  ...          0.0         0.0         0.0         0.0   \n",
       "4                 434.0  ...          0.0         0.0         0.0         0.0   \n",
       "...                 ...  ...          ...         ...         ...         ...   \n",
       "625778             18.0  ...          0.0         0.0         0.0         0.0   \n",
       "625779              0.0  ...          0.0         0.0         0.0         0.0   \n",
       "625780              0.0  ...          0.0         0.0         0.0         0.0   \n",
       "625781           1388.0  ...          0.0         0.0         0.0         0.0   \n",
       "625782           1430.0  ...          0.0         0.0         0.0         0.0   \n",
       "\n",
       "        Idle_Mean     Idle_Std  Idle_Max  Idle_Min    Label     Cat  \n",
       "0            75.0     0.000000      75.0      75.0  Anomaly   Mirai  \n",
       "1          2655.0  2261.327486    4254.0    1056.0  Anomaly     DoS  \n",
       "2            70.5     0.707107      71.0      70.0  Anomaly    Scan  \n",
       "3           151.0     0.000000     151.0     151.0  Anomaly   Mirai  \n",
       "4            76.5     0.707107      77.0      76.0  Anomaly   Mirai  \n",
       "...           ...          ...       ...       ...      ...     ...  \n",
       "625778      277.0     0.000000     277.0     277.0  Anomaly   Mirai  \n",
       "625779     1658.0     0.000000    1658.0    1658.0  Anomaly     DoS  \n",
       "625780       77.0     0.000000      77.0      77.0  Anomaly    Scan  \n",
       "625781      120.0     7.071068     125.0     115.0   Normal  Normal  \n",
       "625782       99.0    32.526912     122.0      76.0  Anomaly   Mirai  \n",
       "\n",
       "[625783 rows x 81 columns]"
      ]
     },
     "execution_count": 6,
     "metadata": {},
     "output_type": "execute_result"
    }
   ],
   "source": [
    "df"
   ]
  },
  {
   "cell_type": "code",
   "execution_count": 7,
   "id": "fb10d171",
   "metadata": {
    "scrolled": true
   },
   "outputs": [
    {
     "data": {
      "text/plain": [
       "Mirai                415677\n",
       "Scan                  75265\n",
       "DoS                   59391\n",
       "Normal                40073\n",
       "MITM ARP Spoofing     35377\n",
       "Name: Cat, dtype: int64"
      ]
     },
     "execution_count": 7,
     "metadata": {},
     "output_type": "execute_result"
    }
   ],
   "source": [
    "df.Cat.value_counts()"
   ]
  },
  {
   "cell_type": "code",
   "execution_count": 8,
   "id": "c086fc90",
   "metadata": {},
   "outputs": [
    {
     "data": {
      "text/plain": [
       "Src_Port           int64\n",
       "Dst_Port           int64\n",
       "Protocol           int64\n",
       "Flow_Duration      int64\n",
       "Tot_Fwd_Pkts       int64\n",
       "                  ...   \n",
       "Idle_Std         float64\n",
       "Idle_Max         float64\n",
       "Idle_Min         float64\n",
       "Label             object\n",
       "Cat               object\n",
       "Length: 81, dtype: object"
      ]
     },
     "execution_count": 8,
     "metadata": {},
     "output_type": "execute_result"
    }
   ],
   "source": [
    "df.dtypes"
   ]
  },
  {
   "cell_type": "code",
   "execution_count": 9,
   "id": "531cb95f",
   "metadata": {},
   "outputs": [],
   "source": [
    "# Z-score normalization\n",
    "features = df.dtypes[df.dtypes != 'object'].index\n",
    "df[features] = df[features].apply(\n",
    "    lambda x: (x - x.mean()) / (x.std()))\n",
    "# Fill empty values by 0\n",
    "df = df.fillna(0)"
   ]
  },
  {
   "cell_type": "code",
   "execution_count": 10,
   "id": "0e39e3d0",
   "metadata": {},
   "outputs": [],
   "source": [
    "labelencoder = LabelEncoder()\n",
    "df.iloc[:, -1] = labelencoder.fit_transform(df.iloc[:, -1])\n",
    "df.iloc[:, -2] = labelencoder.fit_transform(df.iloc[:, -2])\n"
   ]
  },
  {
   "cell_type": "code",
   "execution_count": 11,
   "id": "d37cb5c3",
   "metadata": {},
   "outputs": [
    {
     "data": {
      "text/plain": [
       "2    415677\n",
       "4     75265\n",
       "0     59391\n",
       "3     40073\n",
       "1     35377\n",
       "Name: Cat, dtype: int64"
      ]
     },
     "execution_count": 11,
     "metadata": {},
     "output_type": "execute_result"
    }
   ],
   "source": [
    "df.Cat.value_counts()"
   ]
  },
  {
   "cell_type": "code",
   "execution_count": 11,
   "id": "82769102",
   "metadata": {},
   "outputs": [],
   "source": [
    "# df_minor = df[(df['Cat']==1)|(df['Cat']==3)]\n",
    "# df_major = df.drop(df_minor.index)"
   ]
  },
  {
   "cell_type": "code",
   "execution_count": 12,
   "id": "d4a081d4",
   "metadata": {},
   "outputs": [
    {
     "data": {
      "text/plain": [
       "2    415677\n",
       "4     75265\n",
       "0     59391\n",
       "Name: Cat, dtype: int64"
      ]
     },
     "execution_count": 12,
     "metadata": {},
     "output_type": "execute_result"
    }
   ],
   "source": [
    "# df_major.Cat.value_counts()"
   ]
  },
  {
   "cell_type": "code",
   "execution_count": 13,
   "id": "8930fec6",
   "metadata": {},
   "outputs": [],
   "source": [
    "# X = df_major.drop(['Cat'],axis=1) \n",
    "# y = df_major.iloc[:, -1].values.reshape(-1,1)\n",
    "# y=np.ravel(y)\n"
   ]
  },
  {
   "cell_type": "code",
   "execution_count": 12,
   "id": "c5ebe194",
   "metadata": {},
   "outputs": [],
   "source": [
    "X = df.drop(['Cat'],axis=1) \n",
    "y = df.iloc[:, -1].values.reshape(-1,1)\n",
    "y=np.ravel(y)"
   ]
  },
  {
   "cell_type": "code",
   "execution_count": 13,
   "id": "851fe41f",
   "metadata": {},
   "outputs": [],
   "source": [
    "# use k-means to cluster the data samples and select a proportion of data from each cluster\n",
    "from sklearn.cluster import MiniBatchKMeans\n",
    "kmeans = MiniBatchKMeans(n_clusters=1000, random_state=0).fit(X)"
   ]
  },
  {
   "cell_type": "code",
   "execution_count": 14,
   "id": "eb94c4d1",
   "metadata": {},
   "outputs": [],
   "source": [
    "klabel=kmeans.labels_\n",
    "df['klabel']=klabel"
   ]
  },
  {
   "cell_type": "code",
   "execution_count": 15,
   "id": "c990d748",
   "metadata": {},
   "outputs": [
    {
     "data": {
      "text/plain": [
       "617    4303\n",
       "692    4221\n",
       "521    3857\n",
       "209    3834\n",
       "611    3618\n",
       "       ... \n",
       "682       8\n",
       "486       8\n",
       "235       7\n",
       "678       4\n",
       "230       3\n",
       "Name: klabel, Length: 991, dtype: int64"
      ]
     },
     "execution_count": 15,
     "metadata": {},
     "output_type": "execute_result"
    }
   ],
   "source": [
    "df['klabel'].value_counts()"
   ]
  },
  {
   "cell_type": "code",
   "execution_count": 16,
   "id": "66f31972",
   "metadata": {},
   "outputs": [],
   "source": [
    "cols = list(df)\n",
    "cols.insert(81, cols.pop(cols.index('Cat')))\n",
    "df = df.loc[:, cols]"
   ]
  },
  {
   "cell_type": "code",
   "execution_count": 17,
   "id": "058e4073",
   "metadata": {},
   "outputs": [],
   "source": [
    "def typicalSampling(group):\n",
    "    name = group.name\n",
    "    frac = 0.04 #0.008\n",
    "    return group.sample(frac=frac)\n",
    "\n",
    "result = df.groupby(\n",
    "    'klabel', group_keys=False\n",
    ").apply(typicalSampling)"
   ]
  },
  {
   "cell_type": "code",
   "execution_count": 18,
   "id": "f4711484",
   "metadata": {},
   "outputs": [
    {
     "data": {
      "text/plain": [
       "2    16596\n",
       "4     3011\n",
       "0     2378\n",
       "3     1622\n",
       "1     1421\n",
       "Name: Cat, dtype: int64"
      ]
     },
     "execution_count": 18,
     "metadata": {},
     "output_type": "execute_result"
    }
   ],
   "source": [
    "result['Cat'].value_counts()"
   ]
  },
  {
   "cell_type": "code",
   "execution_count": 19,
   "id": "045c8055",
   "metadata": {},
   "outputs": [
    {
     "data": {
      "text/html": [
       "<div>\n",
       "<style scoped>\n",
       "    .dataframe tbody tr th:only-of-type {\n",
       "        vertical-align: middle;\n",
       "    }\n",
       "\n",
       "    .dataframe tbody tr th {\n",
       "        vertical-align: top;\n",
       "    }\n",
       "\n",
       "    .dataframe thead th {\n",
       "        text-align: right;\n",
       "    }\n",
       "</style>\n",
       "<table border=\"1\" class=\"dataframe\">\n",
       "  <thead>\n",
       "    <tr style=\"text-align: right;\">\n",
       "      <th></th>\n",
       "      <th>Src_Port</th>\n",
       "      <th>Dst_Port</th>\n",
       "      <th>Protocol</th>\n",
       "      <th>Flow_Duration</th>\n",
       "      <th>Tot_Fwd_Pkts</th>\n",
       "      <th>Tot_Bwd_Pkts</th>\n",
       "      <th>TotLen_Fwd_Pkts</th>\n",
       "      <th>TotLen_Bwd_Pkts</th>\n",
       "      <th>Fwd_Pkt_Len_Max</th>\n",
       "      <th>Fwd_Pkt_Len_Min</th>\n",
       "      <th>...</th>\n",
       "      <th>Active_Std</th>\n",
       "      <th>Active_Max</th>\n",
       "      <th>Active_Min</th>\n",
       "      <th>Idle_Mean</th>\n",
       "      <th>Idle_Std</th>\n",
       "      <th>Idle_Max</th>\n",
       "      <th>Idle_Min</th>\n",
       "      <th>Label</th>\n",
       "      <th>klabel</th>\n",
       "      <th>Cat</th>\n",
       "    </tr>\n",
       "  </thead>\n",
       "  <tbody>\n",
       "    <tr>\n",
       "      <th>465633</th>\n",
       "      <td>0.157026</td>\n",
       "      <td>-0.908473</td>\n",
       "      <td>-0.738205</td>\n",
       "      <td>-0.146257</td>\n",
       "      <td>-0.388765</td>\n",
       "      <td>0.435813</td>\n",
       "      <td>-0.491223</td>\n",
       "      <td>1.135676</td>\n",
       "      <td>-0.633481</td>\n",
       "      <td>-0.591889</td>\n",
       "      <td>...</td>\n",
       "      <td>-0.017052</td>\n",
       "      <td>-0.047774</td>\n",
       "      <td>-0.054003</td>\n",
       "      <td>-0.179135</td>\n",
       "      <td>-0.045443</td>\n",
       "      <td>-0.152639</td>\n",
       "      <td>-0.177681</td>\n",
       "      <td>0</td>\n",
       "      <td>0</td>\n",
       "      <td>2</td>\n",
       "    </tr>\n",
       "    <tr>\n",
       "      <th>400308</th>\n",
       "      <td>0.167139</td>\n",
       "      <td>-0.908473</td>\n",
       "      <td>-0.738205</td>\n",
       "      <td>-0.139965</td>\n",
       "      <td>-0.388765</td>\n",
       "      <td>0.435813</td>\n",
       "      <td>-0.491223</td>\n",
       "      <td>1.135676</td>\n",
       "      <td>-0.633481</td>\n",
       "      <td>-0.591889</td>\n",
       "      <td>...</td>\n",
       "      <td>-0.017052</td>\n",
       "      <td>-0.047774</td>\n",
       "      <td>-0.054003</td>\n",
       "      <td>-0.168723</td>\n",
       "      <td>-0.045443</td>\n",
       "      <td>-0.144965</td>\n",
       "      <td>-0.166294</td>\n",
       "      <td>0</td>\n",
       "      <td>0</td>\n",
       "      <td>2</td>\n",
       "    </tr>\n",
       "    <tr>\n",
       "      <th>148885</th>\n",
       "      <td>0.157026</td>\n",
       "      <td>-0.908473</td>\n",
       "      <td>-0.738205</td>\n",
       "      <td>-0.149117</td>\n",
       "      <td>-0.388765</td>\n",
       "      <td>0.435813</td>\n",
       "      <td>-0.491223</td>\n",
       "      <td>1.135676</td>\n",
       "      <td>-0.633481</td>\n",
       "      <td>-0.591889</td>\n",
       "      <td>...</td>\n",
       "      <td>-0.017052</td>\n",
       "      <td>-0.047774</td>\n",
       "      <td>-0.054003</td>\n",
       "      <td>-0.183867</td>\n",
       "      <td>-0.045443</td>\n",
       "      <td>-0.156128</td>\n",
       "      <td>-0.182858</td>\n",
       "      <td>0</td>\n",
       "      <td>0</td>\n",
       "      <td>2</td>\n",
       "    </tr>\n",
       "    <tr>\n",
       "      <th>209252</th>\n",
       "      <td>0.167139</td>\n",
       "      <td>-0.908473</td>\n",
       "      <td>-0.738205</td>\n",
       "      <td>-0.141395</td>\n",
       "      <td>-0.388765</td>\n",
       "      <td>0.435813</td>\n",
       "      <td>-0.491223</td>\n",
       "      <td>1.135676</td>\n",
       "      <td>-0.633481</td>\n",
       "      <td>-0.591889</td>\n",
       "      <td>...</td>\n",
       "      <td>-0.017052</td>\n",
       "      <td>-0.047774</td>\n",
       "      <td>-0.054003</td>\n",
       "      <td>-0.171089</td>\n",
       "      <td>-0.045443</td>\n",
       "      <td>-0.146709</td>\n",
       "      <td>-0.168882</td>\n",
       "      <td>0</td>\n",
       "      <td>0</td>\n",
       "      <td>2</td>\n",
       "    </tr>\n",
       "    <tr>\n",
       "      <th>548978</th>\n",
       "      <td>0.157026</td>\n",
       "      <td>-0.908473</td>\n",
       "      <td>-0.738205</td>\n",
       "      <td>-0.147973</td>\n",
       "      <td>-0.388765</td>\n",
       "      <td>0.435813</td>\n",
       "      <td>-0.491223</td>\n",
       "      <td>1.135676</td>\n",
       "      <td>-0.633481</td>\n",
       "      <td>-0.591889</td>\n",
       "      <td>...</td>\n",
       "      <td>-0.017052</td>\n",
       "      <td>-0.047774</td>\n",
       "      <td>-0.054003</td>\n",
       "      <td>-0.181974</td>\n",
       "      <td>-0.045443</td>\n",
       "      <td>-0.154733</td>\n",
       "      <td>-0.180787</td>\n",
       "      <td>0</td>\n",
       "      <td>0</td>\n",
       "      <td>2</td>\n",
       "    </tr>\n",
       "    <tr>\n",
       "      <th>...</th>\n",
       "      <td>...</td>\n",
       "      <td>...</td>\n",
       "      <td>...</td>\n",
       "      <td>...</td>\n",
       "      <td>...</td>\n",
       "      <td>...</td>\n",
       "      <td>...</td>\n",
       "      <td>...</td>\n",
       "      <td>...</td>\n",
       "      <td>...</td>\n",
       "      <td>...</td>\n",
       "      <td>...</td>\n",
       "      <td>...</td>\n",
       "      <td>...</td>\n",
       "      <td>...</td>\n",
       "      <td>...</td>\n",
       "      <td>...</td>\n",
       "      <td>...</td>\n",
       "      <td>...</td>\n",
       "      <td>...</td>\n",
       "      <td>...</td>\n",
       "    </tr>\n",
       "    <tr>\n",
       "      <th>114671</th>\n",
       "      <td>-1.051984</td>\n",
       "      <td>2.070041</td>\n",
       "      <td>-0.738205</td>\n",
       "      <td>-0.158554</td>\n",
       "      <td>-0.156745</td>\n",
       "      <td>-0.384201</td>\n",
       "      <td>0.703399</td>\n",
       "      <td>0.264886</td>\n",
       "      <td>1.606761</td>\n",
       "      <td>1.768006</td>\n",
       "      <td>...</td>\n",
       "      <td>-0.017052</td>\n",
       "      <td>-0.047774</td>\n",
       "      <td>-0.054003</td>\n",
       "      <td>-0.199485</td>\n",
       "      <td>-0.045443</td>\n",
       "      <td>-0.167640</td>\n",
       "      <td>-0.199939</td>\n",
       "      <td>0</td>\n",
       "      <td>999</td>\n",
       "      <td>4</td>\n",
       "    </tr>\n",
       "    <tr>\n",
       "      <th>589576</th>\n",
       "      <td>-1.051984</td>\n",
       "      <td>2.070041</td>\n",
       "      <td>-0.738205</td>\n",
       "      <td>-0.157982</td>\n",
       "      <td>-0.156745</td>\n",
       "      <td>-0.384201</td>\n",
       "      <td>0.703399</td>\n",
       "      <td>0.264886</td>\n",
       "      <td>1.606761</td>\n",
       "      <td>1.768006</td>\n",
       "      <td>...</td>\n",
       "      <td>-0.017052</td>\n",
       "      <td>-0.047774</td>\n",
       "      <td>-0.054003</td>\n",
       "      <td>-0.198539</td>\n",
       "      <td>-0.045443</td>\n",
       "      <td>-0.166943</td>\n",
       "      <td>-0.198904</td>\n",
       "      <td>0</td>\n",
       "      <td>999</td>\n",
       "      <td>4</td>\n",
       "    </tr>\n",
       "    <tr>\n",
       "      <th>335270</th>\n",
       "      <td>-1.051984</td>\n",
       "      <td>2.070041</td>\n",
       "      <td>-0.738205</td>\n",
       "      <td>-0.159126</td>\n",
       "      <td>-0.156745</td>\n",
       "      <td>-0.384201</td>\n",
       "      <td>0.703399</td>\n",
       "      <td>0.264886</td>\n",
       "      <td>1.606761</td>\n",
       "      <td>1.768006</td>\n",
       "      <td>...</td>\n",
       "      <td>-0.017052</td>\n",
       "      <td>-0.047774</td>\n",
       "      <td>-0.054003</td>\n",
       "      <td>-0.200432</td>\n",
       "      <td>-0.045443</td>\n",
       "      <td>-0.168338</td>\n",
       "      <td>-0.200974</td>\n",
       "      <td>0</td>\n",
       "      <td>999</td>\n",
       "      <td>4</td>\n",
       "    </tr>\n",
       "    <tr>\n",
       "      <th>542493</th>\n",
       "      <td>-1.051984</td>\n",
       "      <td>2.071295</td>\n",
       "      <td>-0.738205</td>\n",
       "      <td>-0.157696</td>\n",
       "      <td>-0.156745</td>\n",
       "      <td>-0.384201</td>\n",
       "      <td>0.703399</td>\n",
       "      <td>0.264886</td>\n",
       "      <td>1.606761</td>\n",
       "      <td>1.768006</td>\n",
       "      <td>...</td>\n",
       "      <td>-0.017052</td>\n",
       "      <td>-0.047774</td>\n",
       "      <td>-0.054003</td>\n",
       "      <td>-0.198065</td>\n",
       "      <td>-0.045443</td>\n",
       "      <td>-0.166594</td>\n",
       "      <td>-0.198386</td>\n",
       "      <td>0</td>\n",
       "      <td>999</td>\n",
       "      <td>4</td>\n",
       "    </tr>\n",
       "    <tr>\n",
       "      <th>315121</th>\n",
       "      <td>-1.051984</td>\n",
       "      <td>2.070041</td>\n",
       "      <td>-0.738205</td>\n",
       "      <td>-0.155694</td>\n",
       "      <td>-0.156745</td>\n",
       "      <td>-0.384201</td>\n",
       "      <td>0.703399</td>\n",
       "      <td>0.264886</td>\n",
       "      <td>1.606761</td>\n",
       "      <td>1.768006</td>\n",
       "      <td>...</td>\n",
       "      <td>-0.017052</td>\n",
       "      <td>-0.047774</td>\n",
       "      <td>-0.054003</td>\n",
       "      <td>-0.194753</td>\n",
       "      <td>-0.045443</td>\n",
       "      <td>-0.164152</td>\n",
       "      <td>-0.194763</td>\n",
       "      <td>0</td>\n",
       "      <td>999</td>\n",
       "      <td>4</td>\n",
       "    </tr>\n",
       "  </tbody>\n",
       "</table>\n",
       "<p>25028 rows × 82 columns</p>\n",
       "</div>"
      ],
      "text/plain": [
       "        Src_Port  Dst_Port  Protocol  Flow_Duration  Tot_Fwd_Pkts  \\\n",
       "465633  0.157026 -0.908473 -0.738205      -0.146257     -0.388765   \n",
       "400308  0.167139 -0.908473 -0.738205      -0.139965     -0.388765   \n",
       "148885  0.157026 -0.908473 -0.738205      -0.149117     -0.388765   \n",
       "209252  0.167139 -0.908473 -0.738205      -0.141395     -0.388765   \n",
       "548978  0.157026 -0.908473 -0.738205      -0.147973     -0.388765   \n",
       "...          ...       ...       ...            ...           ...   \n",
       "114671 -1.051984  2.070041 -0.738205      -0.158554     -0.156745   \n",
       "589576 -1.051984  2.070041 -0.738205      -0.157982     -0.156745   \n",
       "335270 -1.051984  2.070041 -0.738205      -0.159126     -0.156745   \n",
       "542493 -1.051984  2.071295 -0.738205      -0.157696     -0.156745   \n",
       "315121 -1.051984  2.070041 -0.738205      -0.155694     -0.156745   \n",
       "\n",
       "        Tot_Bwd_Pkts  TotLen_Fwd_Pkts  TotLen_Bwd_Pkts  Fwd_Pkt_Len_Max  \\\n",
       "465633      0.435813        -0.491223         1.135676        -0.633481   \n",
       "400308      0.435813        -0.491223         1.135676        -0.633481   \n",
       "148885      0.435813        -0.491223         1.135676        -0.633481   \n",
       "209252      0.435813        -0.491223         1.135676        -0.633481   \n",
       "548978      0.435813        -0.491223         1.135676        -0.633481   \n",
       "...              ...              ...              ...              ...   \n",
       "114671     -0.384201         0.703399         0.264886         1.606761   \n",
       "589576     -0.384201         0.703399         0.264886         1.606761   \n",
       "335270     -0.384201         0.703399         0.264886         1.606761   \n",
       "542493     -0.384201         0.703399         0.264886         1.606761   \n",
       "315121     -0.384201         0.703399         0.264886         1.606761   \n",
       "\n",
       "        Fwd_Pkt_Len_Min  ...  Active_Std  Active_Max  Active_Min  Idle_Mean  \\\n",
       "465633        -0.591889  ...   -0.017052   -0.047774   -0.054003  -0.179135   \n",
       "400308        -0.591889  ...   -0.017052   -0.047774   -0.054003  -0.168723   \n",
       "148885        -0.591889  ...   -0.017052   -0.047774   -0.054003  -0.183867   \n",
       "209252        -0.591889  ...   -0.017052   -0.047774   -0.054003  -0.171089   \n",
       "548978        -0.591889  ...   -0.017052   -0.047774   -0.054003  -0.181974   \n",
       "...                 ...  ...         ...         ...         ...        ...   \n",
       "114671         1.768006  ...   -0.017052   -0.047774   -0.054003  -0.199485   \n",
       "589576         1.768006  ...   -0.017052   -0.047774   -0.054003  -0.198539   \n",
       "335270         1.768006  ...   -0.017052   -0.047774   -0.054003  -0.200432   \n",
       "542493         1.768006  ...   -0.017052   -0.047774   -0.054003  -0.198065   \n",
       "315121         1.768006  ...   -0.017052   -0.047774   -0.054003  -0.194753   \n",
       "\n",
       "        Idle_Std  Idle_Max  Idle_Min  Label  klabel  Cat  \n",
       "465633 -0.045443 -0.152639 -0.177681      0       0    2  \n",
       "400308 -0.045443 -0.144965 -0.166294      0       0    2  \n",
       "148885 -0.045443 -0.156128 -0.182858      0       0    2  \n",
       "209252 -0.045443 -0.146709 -0.168882      0       0    2  \n",
       "548978 -0.045443 -0.154733 -0.180787      0       0    2  \n",
       "...          ...       ...       ...    ...     ...  ...  \n",
       "114671 -0.045443 -0.167640 -0.199939      0     999    4  \n",
       "589576 -0.045443 -0.166943 -0.198904      0     999    4  \n",
       "335270 -0.045443 -0.168338 -0.200974      0     999    4  \n",
       "542493 -0.045443 -0.166594 -0.198386      0     999    4  \n",
       "315121 -0.045443 -0.164152 -0.194763      0     999    4  \n",
       "\n",
       "[25028 rows x 82 columns]"
      ]
     },
     "execution_count": 19,
     "metadata": {},
     "output_type": "execute_result"
    }
   ],
   "source": [
    "result"
   ]
  },
  {
   "cell_type": "code",
   "execution_count": 20,
   "id": "323134be",
   "metadata": {},
   "outputs": [],
   "source": [
    "result = result.drop(['klabel'],axis=1)\n",
    "#result = result.append(df_minor)"
   ]
  },
  {
   "cell_type": "code",
   "execution_count": 21,
   "id": "eed93331",
   "metadata": {},
   "outputs": [],
   "source": [
    "result.to_csv('./data/IoTID20_sample_km.csv',index=0)"
   ]
  },
  {
   "cell_type": "code",
   "execution_count": 22,
   "id": "4f478a9f",
   "metadata": {},
   "outputs": [
    {
     "data": {
      "text/plain": [
       "Src_Port         0\n",
       "Dst_Port         0\n",
       "Protocol         0\n",
       "Flow_Duration    0\n",
       "Tot_Fwd_Pkts     0\n",
       "                ..\n",
       "Idle_Std         0\n",
       "Idle_Max         0\n",
       "Idle_Min         0\n",
       "Label            0\n",
       "Cat              0\n",
       "Length: 81, dtype: int64"
      ]
     },
     "execution_count": 22,
     "metadata": {},
     "output_type": "execute_result"
    }
   ],
   "source": [
    "df=pd.read_csv('./data/IoTID20_sample_km.csv')\n",
    "df.isnull().sum()"
   ]
  },
  {
   "cell_type": "code",
   "execution_count": 23,
   "id": "19c0f62a",
   "metadata": {},
   "outputs": [],
   "source": [
    "X = df.drop(['Cat'],axis=1).values\n",
    "y = df.iloc[:, -1].values.reshape(-1,1)\n",
    "y=np.ravel(y)"
   ]
  },
  {
   "cell_type": "code",
   "execution_count": 24,
   "id": "8bc8f4c0",
   "metadata": {},
   "outputs": [],
   "source": [
    "X_train, X_test, y_train, y_test = train_test_split(X,y, train_size = 0.8, test_size = 0.2, random_state = 0,stratify = y)"
   ]
  },
  {
   "cell_type": "code",
   "execution_count": 25,
   "id": "2727901b",
   "metadata": {},
   "outputs": [],
   "source": [
    "from sklearn.feature_selection import mutual_info_classif\n",
    "importances = mutual_info_classif(X_train, y_train)"
   ]
  },
  {
   "cell_type": "code",
   "execution_count": 26,
   "id": "2e6d355a",
   "metadata": {},
   "outputs": [],
   "source": [
    "# calculate the sum of importance scores\n",
    "f_list = sorted(zip(map(lambda x: round(x, 4), importances), features), reverse=True)\n",
    "Sum = 0\n",
    "fs = []\n",
    "for i in range(0, len(f_list)):\n",
    "    Sum = Sum + f_list[i][0]\n",
    "    fs.append(f_list[i][1])"
   ]
  },
  {
   "cell_type": "code",
   "execution_count": 27,
   "id": "e701dc65",
   "metadata": {},
   "outputs": [],
   "source": [
    "# select the important features from top to bottom until the accumulated importance reaches 90%\n",
    "f_list2 = sorted(zip(map(lambda x: round(x, 4), importances/Sum), features), reverse=True)\n",
    "Sum2 = 0\n",
    "fs = []\n",
    "for i in range(0, len(f_list2)):\n",
    "    Sum2 = Sum2 + f_list2[i][0]\n",
    "    fs.append(f_list2[i][1])\n",
    "    if Sum2>=0.9:\n",
    "        break        "
   ]
  },
  {
   "cell_type": "code",
   "execution_count": 28,
   "id": "92bcafbb",
   "metadata": {},
   "outputs": [],
   "source": [
    "X_fs = df[fs].values"
   ]
  },
  {
   "cell_type": "code",
   "execution_count": 29,
   "id": "2e4a725c",
   "metadata": {},
   "outputs": [
    {
     "data": {
      "text/plain": [
       "(25028, 39)"
      ]
     },
     "execution_count": 29,
     "metadata": {},
     "output_type": "execute_result"
    }
   ],
   "source": [
    "X_fs.shape"
   ]
  },
  {
   "cell_type": "code",
   "execution_count": 30,
   "id": "294f4d4b",
   "metadata": {},
   "outputs": [],
   "source": [
    "from FCBF_module import FCBF, FCBFK, FCBFiP, get_i\n",
    "fcbf = FCBFK(k = 20)\n",
    "#fcbf.fit(X_fs, y)"
   ]
  },
  {
   "cell_type": "code",
   "execution_count": 31,
   "id": "3cdfad4c",
   "metadata": {},
   "outputs": [],
   "source": [
    "X_fss = fcbf.fit_transform(X_fs,y)"
   ]
  },
  {
   "cell_type": "code",
   "execution_count": 32,
   "id": "9a4bb152",
   "metadata": {},
   "outputs": [
    {
     "data": {
      "text/plain": [
       "(25028, 20)"
      ]
     },
     "execution_count": 32,
     "metadata": {},
     "output_type": "execute_result"
    }
   ],
   "source": [
    "X_fss.shape"
   ]
  },
  {
   "cell_type": "code",
   "execution_count": 33,
   "id": "d6d13185",
   "metadata": {},
   "outputs": [],
   "source": [
    "X_train, X_test, y_train, y_test = train_test_split(X_fss,y, train_size = 0.8, test_size = 0.2, random_state = 0,stratify = y)"
   ]
  },
  {
   "cell_type": "code",
   "execution_count": 34,
   "id": "3abacae0",
   "metadata": {},
   "outputs": [
    {
     "data": {
      "text/plain": [
       "(20022, 20)"
      ]
     },
     "execution_count": 34,
     "metadata": {},
     "output_type": "execute_result"
    }
   ],
   "source": [
    "X_train.shape"
   ]
  },
  {
   "cell_type": "code",
   "execution_count": 35,
   "id": "44e5bf69",
   "metadata": {},
   "outputs": [
    {
     "data": {
      "text/plain": [
       "2    13276\n",
       "4     2409\n",
       "0     1902\n",
       "3     1298\n",
       "1     1137\n",
       "dtype: int64"
      ]
     },
     "execution_count": 35,
     "metadata": {},
     "output_type": "execute_result"
    }
   ],
   "source": [
    "pd.Series(y_train).value_counts()"
   ]
  },
  {
   "cell_type": "code",
   "execution_count": 75,
   "id": "b5b4205c",
   "metadata": {},
   "outputs": [],
   "source": [
    "# from imblearn.over_sampling import SMOTE\n",
    "# smote=SMOTE(n_jobs=-1,sampling_strategy={3:1000,1:1000})"
   ]
  },
  {
   "cell_type": "code",
   "execution_count": 39,
   "id": "155961fb",
   "metadata": {},
   "outputs": [
    {
     "ename": "ValueError",
     "evalue": "With over-sampling methods, the number of samples in a class should be greater or equal to the original number of samples. Originally, there is 1287 samples and 1000 samples are asked.",
     "output_type": "error",
     "traceback": [
      "\u001b[1;31m---------------------------------------------------------------------------\u001b[0m",
      "\u001b[1;31mValueError\u001b[0m                                Traceback (most recent call last)",
      "\u001b[1;32m~\\AppData\\Local\\Temp\\ipykernel_19288\\851894918.py\u001b[0m in \u001b[0;36m<module>\u001b[1;34m\u001b[0m\n\u001b[1;32m----> 1\u001b[1;33m \u001b[0mX_train\u001b[0m\u001b[1;33m,\u001b[0m \u001b[0my_train\u001b[0m \u001b[1;33m=\u001b[0m \u001b[0msmote\u001b[0m\u001b[1;33m.\u001b[0m\u001b[0mfit_resample\u001b[0m\u001b[1;33m(\u001b[0m\u001b[0mX_train\u001b[0m\u001b[1;33m,\u001b[0m \u001b[0my_train\u001b[0m\u001b[1;33m)\u001b[0m\u001b[1;33m\u001b[0m\u001b[1;33m\u001b[0m\u001b[0m\n\u001b[0m",
      "\u001b[1;32m~\\.conda\\envs\\py37\\lib\\site-packages\\imblearn\\base.py\u001b[0m in \u001b[0;36mfit_resample\u001b[1;34m(self, X, y)\u001b[0m\n\u001b[0;32m     78\u001b[0m \u001b[1;33m\u001b[0m\u001b[0m\n\u001b[0;32m     79\u001b[0m         self.sampling_strategy_ = check_sampling_strategy(\n\u001b[1;32m---> 80\u001b[1;33m             \u001b[0mself\u001b[0m\u001b[1;33m.\u001b[0m\u001b[0msampling_strategy\u001b[0m\u001b[1;33m,\u001b[0m \u001b[0my\u001b[0m\u001b[1;33m,\u001b[0m \u001b[0mself\u001b[0m\u001b[1;33m.\u001b[0m\u001b[0m_sampling_type\u001b[0m\u001b[1;33m\u001b[0m\u001b[1;33m\u001b[0m\u001b[0m\n\u001b[0m\u001b[0;32m     81\u001b[0m         )\n\u001b[0;32m     82\u001b[0m \u001b[1;33m\u001b[0m\u001b[0m\n",
      "\u001b[1;32m~\\.conda\\envs\\py37\\lib\\site-packages\\imblearn\\utils\\_validation.py\u001b[0m in \u001b[0;36mcheck_sampling_strategy\u001b[1;34m(sampling_strategy, y, sampling_type, **kwargs)\u001b[0m\n\u001b[0;32m    518\u001b[0m     \u001b[1;32melif\u001b[0m \u001b[0misinstance\u001b[0m\u001b[1;33m(\u001b[0m\u001b[0msampling_strategy\u001b[0m\u001b[1;33m,\u001b[0m \u001b[0mdict\u001b[0m\u001b[1;33m)\u001b[0m\u001b[1;33m:\u001b[0m\u001b[1;33m\u001b[0m\u001b[1;33m\u001b[0m\u001b[0m\n\u001b[0;32m    519\u001b[0m         return OrderedDict(\n\u001b[1;32m--> 520\u001b[1;33m             \u001b[0msorted\u001b[0m\u001b[1;33m(\u001b[0m\u001b[0m_sampling_strategy_dict\u001b[0m\u001b[1;33m(\u001b[0m\u001b[0msampling_strategy\u001b[0m\u001b[1;33m,\u001b[0m \u001b[0my\u001b[0m\u001b[1;33m,\u001b[0m \u001b[0msampling_type\u001b[0m\u001b[1;33m)\u001b[0m\u001b[1;33m.\u001b[0m\u001b[0mitems\u001b[0m\u001b[1;33m(\u001b[0m\u001b[1;33m)\u001b[0m\u001b[1;33m)\u001b[0m\u001b[1;33m\u001b[0m\u001b[1;33m\u001b[0m\u001b[0m\n\u001b[0m\u001b[0;32m    521\u001b[0m         )\n\u001b[0;32m    522\u001b[0m     \u001b[1;32melif\u001b[0m \u001b[0misinstance\u001b[0m\u001b[1;33m(\u001b[0m\u001b[0msampling_strategy\u001b[0m\u001b[1;33m,\u001b[0m \u001b[0mlist\u001b[0m\u001b[1;33m)\u001b[0m\u001b[1;33m:\u001b[0m\u001b[1;33m\u001b[0m\u001b[1;33m\u001b[0m\u001b[0m\n",
      "\u001b[1;32m~\\.conda\\envs\\py37\\lib\\site-packages\\imblearn\\utils\\_validation.py\u001b[0m in \u001b[0;36m_sampling_strategy_dict\u001b[1;34m(sampling_strategy, y, sampling_type)\u001b[0m\n\u001b[0;32m    290\u001b[0m             \u001b[1;32mif\u001b[0m \u001b[0mn_samples\u001b[0m \u001b[1;33m<\u001b[0m \u001b[0mtarget_stats\u001b[0m\u001b[1;33m[\u001b[0m\u001b[0mclass_sample\u001b[0m\u001b[1;33m]\u001b[0m\u001b[1;33m:\u001b[0m\u001b[1;33m\u001b[0m\u001b[1;33m\u001b[0m\u001b[0m\n\u001b[0;32m    291\u001b[0m                 raise ValueError(\n\u001b[1;32m--> 292\u001b[1;33m                     \u001b[1;34mf\"With over-sampling methods, the number\"\u001b[0m\u001b[1;33m\u001b[0m\u001b[1;33m\u001b[0m\u001b[0m\n\u001b[0m\u001b[0;32m    293\u001b[0m                     \u001b[1;34mf\" of samples in a class should be greater\"\u001b[0m\u001b[1;33m\u001b[0m\u001b[1;33m\u001b[0m\u001b[0m\n\u001b[0;32m    294\u001b[0m                     \u001b[1;34mf\" or equal to the original number of samples.\"\u001b[0m\u001b[1;33m\u001b[0m\u001b[1;33m\u001b[0m\u001b[0m\n",
      "\u001b[1;31mValueError\u001b[0m: With over-sampling methods, the number of samples in a class should be greater or equal to the original number of samples. Originally, there is 1287 samples and 1000 samples are asked."
     ]
    }
   ],
   "source": [
    "# X_train, y_train = smote.fit_resample(X_train, y_train)"
   ]
  },
  {
   "cell_type": "code",
   "execution_count": null,
   "id": "24f7c18c",
   "metadata": {
    "scrolled": true
   },
   "outputs": [],
   "source": [
    "# pd.Series(y_train).value_counts()"
   ]
  },
  {
   "cell_type": "code",
   "execution_count": 36,
   "id": "40d0e5af",
   "metadata": {},
   "outputs": [
    {
     "name": "stdout",
     "output_type": "stream",
     "text": [
      "Accuracy of XGBoost: 0.9770275669196964\n",
      "Precision of XGBoost: 0.9769840248184848\n",
      "Recall of XGBoost: 0.9770275669196964\n",
      "F1-score of XGBoost: 0.9765422593560934\n",
      "              precision    recall  f1-score   support\n",
      "\n",
      "           0       1.00      1.00      1.00       476\n",
      "           1       0.93      0.81      0.87       284\n",
      "           2       0.97      1.00      0.98      3320\n",
      "           3       1.00      0.96      0.98       324\n",
      "           4       1.00      0.94      0.97       602\n",
      "\n",
      "    accuracy                           0.98      5006\n",
      "   macro avg       0.98      0.94      0.96      5006\n",
      "weighted avg       0.98      0.98      0.98      5006\n",
      "\n"
     ]
    },
    {
     "data": {
      "image/png": "[encoded data removed]",
      "text/plain": [
       "<Figure size 360x360 with 2 Axes>"
      ]
     },
     "metadata": {
      "needs_background": "light"
     },
     "output_type": "display_data"
    }
   ],
   "source": [
    "xg = xgb.XGBClassifier(n_estimators = 10)\n",
    "xg.fit(X_train,y_train)\n",
    "xg_score=xg.score(X_test,y_test)\n",
    "y_predict=xg.predict(X_test)\n",
    "y_true=y_test\n",
    "print('Accuracy of XGBoost: '+ str(xg_score))\n",
    "precision,recall,fscore,none= precision_recall_fscore_support(y_true, y_predict, average='weighted') \n",
    "print('Precision of XGBoost: '+(str(precision)))\n",
    "print('Recall of XGBoost: '+(str(recall)))\n",
    "print('F1-score of XGBoost: '+(str(fscore)))\n",
    "print(classification_report(y_true,y_predict))\n",
    "cm=confusion_matrix(y_true,y_predict)\n",
    "f,ax=plt.subplots(figsize=(5,5))\n",
    "sns.heatmap(cm,annot=True,linewidth=0.5,linecolor=\"red\",fmt=\".0f\",ax=ax)\n",
    "plt.xlabel(\"y_pred\")\n",
    "plt.ylabel(\"y_true\")\n",
    "plt.show()"
   ]
  },
  {
   "cell_type": "code",
   "execution_count": 37,
   "id": "fc21f653",
   "metadata": {},
   "outputs": [
    {
     "name": "stdout",
     "output_type": "stream",
     "text": [
      "100%|███████████████████████████████████████████████| 20/20 [00:26<00:00,  1.33s/trial, best loss: -0.9868158210147823]\n",
      "XGBoost: Hyperopt estimated optimum {'learning_rate': -0.8293364946674092, 'max_depth': 29.0, 'n_estimators': 85.0}\n"
     ]
    }
   ],
   "source": [
    "from hyperopt import hp, fmin, tpe, STATUS_OK, Trials\n",
    "from sklearn.model_selection import cross_val_score, StratifiedKFold\n",
    "def objective(params):\n",
    "    params = {\n",
    "        'n_estimators': int(params['n_estimators']), \n",
    "        'max_depth': int(params['max_depth']),\n",
    "        'learning_rate':  abs(float(params['learning_rate'])),\n",
    "\n",
    "    }\n",
    "    clf = xgb.XGBClassifier( **params)\n",
    "    clf.fit(X_train, y_train)\n",
    "    y_pred = clf.predict(X_test)\n",
    "    score = accuracy_score(y_test, y_pred)\n",
    "\n",
    "    return {'loss':-score, 'status': STATUS_OK }\n",
    "\n",
    "space = {\n",
    "    'n_estimators': hp.quniform('n_estimators', 10, 100, 5),\n",
    "    'max_depth': hp.quniform('max_depth', 4, 100, 1),\n",
    "    'learning_rate': hp.normal('learning_rate', 0.01, 0.9),\n",
    "}\n",
    "\n",
    "best = fmin(fn=objective,\n",
    "            space=space,\n",
    "            algo=tpe.suggest,\n",
    "            max_evals=20)\n",
    "print(\"XGBoost: Hyperopt estimated optimum {}\".format(best))"
   ]
  },
  {
   "cell_type": "code",
   "execution_count": 38,
   "id": "d20b3322",
   "metadata": {},
   "outputs": [
    {
     "name": "stdout",
     "output_type": "stream",
     "text": [
      "Accuracy of XGBoost: 0.9864163004394726\n",
      "Precision of XGBoost: 0.9863498645291989\n",
      "Recall of XGBoost: 0.9864163004394726\n",
      "F1-score of XGBoost: 0.9863308460149923\n",
      "              precision    recall  f1-score   support\n",
      "\n",
      "           0       1.00      1.00      1.00       476\n",
      "           1       0.95      0.91      0.93       284\n",
      "           2       0.99      1.00      0.99      3320\n",
      "           3       0.99      0.97      0.98       324\n",
      "           4       0.99      0.98      0.99       602\n",
      "\n",
      "    accuracy                           0.99      5006\n",
      "   macro avg       0.98      0.97      0.98      5006\n",
      "weighted avg       0.99      0.99      0.99      5006\n",
      "\n"
     ]
    },
    {
     "data": {
      "image/png": "[encoded data removed]",
      "text/plain": [
       "<Figure size 360x360 with 2 Axes>"
      ]
     },
     "metadata": {
      "needs_background": "light"
     },
     "output_type": "display_data"
    }
   ],
   "source": [
    "xg = xgb.XGBClassifier(learning_rate= 0.7340229699980686, n_estimators = 70, max_depth = 14)\n",
    "xg.fit(X_train,y_train)\n",
    "xg_score=xg.score(X_test,y_test)\n",
    "y_predict=xg.predict(X_test)\n",
    "y_true=y_test\n",
    "print('Accuracy of XGBoost: '+ str(xg_score))\n",
    "precision,recall,fscore,none= precision_recall_fscore_support(y_true, y_predict, average='weighted') \n",
    "print('Precision of XGBoost: '+(str(precision)))\n",
    "print('Recall of XGBoost: '+(str(recall)))\n",
    "print('F1-score of XGBoost: '+(str(fscore)))\n",
    "print(classification_report(y_true,y_predict))\n",
    "cm=confusion_matrix(y_true,y_predict)\n",
    "f,ax=plt.subplots(figsize=(5,5))\n",
    "sns.heatmap(cm,annot=True,linewidth=0.5,linecolor=\"red\",fmt=\".0f\",ax=ax)\n",
    "plt.xlabel(\"y_pred\")\n",
    "plt.ylabel(\"y_true\")\n",
    "plt.show()"
   ]
  },
  {
   "cell_type": "code",
   "execution_count": 39,
   "id": "bfb5ec6f",
   "metadata": {},
   "outputs": [],
   "source": [
    "xg_train=xg.predict(X_train)\n",
    "xg_test=xg.predict(X_test)"
   ]
  },
  {
   "cell_type": "code",
   "execution_count": 40,
   "id": "abaa3d4a",
   "metadata": {},
   "outputs": [
    {
     "name": "stdout",
     "output_type": "stream",
     "text": [
      "Accuracy of RF: 0.9786256492209349\n",
      "Precision of RF: 0.9783728324411195\n",
      "Recall of RF: 0.9786256492209349\n",
      "F1-score of RF: 0.9783273218592021\n",
      "              precision    recall  f1-score   support\n",
      "\n",
      "           0       0.99      0.99      0.99       476\n",
      "           1       0.92      0.84      0.88       284\n",
      "           2       0.98      0.99      0.99      3320\n",
      "           3       0.98      0.97      0.97       324\n",
      "           4       0.99      0.96      0.98       602\n",
      "\n",
      "    accuracy                           0.98      5006\n",
      "   macro avg       0.97      0.95      0.96      5006\n",
      "weighted avg       0.98      0.98      0.98      5006\n",
      "\n"
     ]
    },
    {
     "data": {
      "image/png": "[encoded data removed]",
      "text/plain": [
       "<Figure size 360x360 with 2 Axes>"
      ]
     },
     "metadata": {
      "needs_background": "light"
     },
     "output_type": "display_data"
    }
   ],
   "source": [
    "rf = RandomForestClassifier(random_state = 0)\n",
    "rf.fit(X_train,y_train) \n",
    "rf_score=rf.score(X_test,y_test)\n",
    "y_predict=rf.predict(X_test)\n",
    "y_true=y_test\n",
    "print('Accuracy of RF: '+ str(rf_score))\n",
    "precision,recall,fscore,none= precision_recall_fscore_support(y_true, y_predict, average='weighted') \n",
    "print('Precision of RF: '+(str(precision)))\n",
    "print('Recall of RF: '+(str(recall)))\n",
    "print('F1-score of RF: '+(str(fscore)))\n",
    "print(classification_report(y_true,y_predict))\n",
    "cm=confusion_matrix(y_true,y_predict)\n",
    "f,ax=plt.subplots(figsize=(5,5))\n",
    "sns.heatmap(cm,annot=True,linewidth=0.5,linecolor=\"red\",fmt=\".0f\",ax=ax)\n",
    "plt.xlabel(\"y_pred\")\n",
    "plt.ylabel(\"y_true\")\n",
    "plt.show()"
   ]
  },
  {
   "cell_type": "code",
   "execution_count": 41,
   "id": "17eabba1",
   "metadata": {},
   "outputs": [
    {
     "name": "stdout",
     "output_type": "stream",
     "text": [
      "100%|███████████████████████████████████████████████| 20/20 [00:40<00:00,  2.03s/trial, best loss: -0.9814222932481023]\n",
      "Random Forest: Hyperopt estimated optimum {'criterion': 0, 'max_depth': 36.0, 'max_features': 20.0, 'min_samples_leaf': 2.0, 'min_samples_split': 4.0, 'n_estimators': 163.0}\n"
     ]
    }
   ],
   "source": [
    "# Hyperparameter optimization of random forest\n",
    "from hyperopt import hp, fmin, tpe, STATUS_OK, Trials\n",
    "from sklearn.model_selection import cross_val_score, StratifiedKFold\n",
    "# Define the objective function\n",
    "def objective(params):\n",
    "    params = {\n",
    "        'n_estimators': int(params['n_estimators']), \n",
    "        'max_depth': int(params['max_depth']),\n",
    "        'max_features': int(params['max_features']),\n",
    "        \"min_samples_split\":int(params['min_samples_split']),\n",
    "        \"min_samples_leaf\":int(params['min_samples_leaf']),\n",
    "        \"criterion\":str(params['criterion'])\n",
    "    }\n",
    "    clf = RandomForestClassifier( **params)\n",
    "    clf.fit(X_train,y_train)\n",
    "    score=clf.score(X_test,y_test)\n",
    "\n",
    "    return {'loss':-score, 'status': STATUS_OK }\n",
    "# Define the hyperparameter configuration space\n",
    "space = {\n",
    "    'n_estimators': hp.quniform('n_estimators', 10, 200, 1),\n",
    "    'max_depth': hp.quniform('max_depth', 5, 50, 1),\n",
    "    \"max_features\":hp.quniform('max_features', 1, 20, 1),\n",
    "    \"min_samples_split\":hp.quniform('min_samples_split',2,11,1),\n",
    "    \"min_samples_leaf\":hp.quniform('min_samples_leaf',1,11,1),\n",
    "    \"criterion\":hp.choice('criterion',['gini','entropy'])\n",
    "}\n",
    "\n",
    "best = fmin(fn=objective,\n",
    "            space=space,\n",
    "            algo=tpe.suggest,\n",
    "            max_evals=20)\n",
    "print(\"Random Forest: Hyperopt estimated optimum {}\".format(best))"
   ]
  },
  {
   "cell_type": "code",
   "execution_count": 42,
   "id": "f2c2fce7",
   "metadata": {},
   "outputs": [
    {
     "name": "stdout",
     "output_type": "stream",
     "text": [
      "Accuracy of RF: 0.9826208549740312\n",
      "Precision of RF: 0.9825170210475445\n",
      "Recall of RF: 0.9826208549740312\n",
      "F1-score of RF: 0.9824050160075237\n",
      "              precision    recall  f1-score   support\n",
      "\n",
      "           0       1.00      1.00      1.00       476\n",
      "           1       0.93      0.86      0.90       284\n",
      "           2       0.98      1.00      0.99      3320\n",
      "           3       1.00      0.96      0.98       324\n",
      "           4       1.00      0.97      0.98       602\n",
      "\n",
      "    accuracy                           0.98      5006\n",
      "   macro avg       0.98      0.96      0.97      5006\n",
      "weighted avg       0.98      0.98      0.98      5006\n",
      "\n"
     ]
    },
    {
     "data": {
      "image/png": "[encoded data removed]",
      "text/plain": [
       "<Figure size 360x360 with 2 Axes>"
      ]
     },
     "metadata": {
      "needs_background": "light"
     },
     "output_type": "display_data"
    }
   ],
   "source": [
    "rf_hpo = RandomForestClassifier(n_estimators = 71, min_samples_leaf = 1, max_depth = 46, min_samples_split = 9, max_features = 20, criterion = 'entropy')\n",
    "rf_hpo.fit(X_train,y_train)\n",
    "rf_score=rf_hpo.score(X_test,y_test)\n",
    "y_predict=rf_hpo.predict(X_test)\n",
    "y_true=y_test\n",
    "print('Accuracy of RF: '+ str(rf_score))\n",
    "precision,recall,fscore,none= precision_recall_fscore_support(y_true, y_predict, average='weighted') \n",
    "print('Precision of RF: '+(str(precision)))\n",
    "print('Recall of RF: '+(str(recall)))\n",
    "print('F1-score of RF: '+(str(fscore)))\n",
    "print(classification_report(y_true,y_predict))\n",
    "cm=confusion_matrix(y_true,y_predict)\n",
    "f,ax=plt.subplots(figsize=(5,5))\n",
    "sns.heatmap(cm,annot=True,linewidth=0.5,linecolor=\"red\",fmt=\".0f\",ax=ax)\n",
    "plt.xlabel(\"y_pred\")\n",
    "plt.ylabel(\"y_true\")\n",
    "plt.show()"
   ]
  },
  {
   "cell_type": "code",
   "execution_count": 43,
   "id": "7769d961",
   "metadata": {},
   "outputs": [],
   "source": [
    "rf_train=rf_hpo.predict(X_train)\n",
    "rf_test=rf_hpo.predict(X_test)"
   ]
  },
  {
   "cell_type": "code",
   "execution_count": 44,
   "id": "dbd24b67",
   "metadata": {},
   "outputs": [
    {
     "name": "stdout",
     "output_type": "stream",
     "text": [
      "Accuracy of DT: 0.9804234918098282\n",
      "Precision of DT: 0.9803306548752598\n",
      "Recall of DT: 0.9804234918098282\n",
      "F1-score of DT: 0.9803707538039446\n",
      "              precision    recall  f1-score   support\n",
      "\n",
      "           0       0.99      1.00      0.99       476\n",
      "           1       0.90      0.88      0.89       284\n",
      "           2       0.99      0.99      0.99      3320\n",
      "           3       0.97      0.96      0.97       324\n",
      "           4       0.97      0.98      0.97       602\n",
      "\n",
      "    accuracy                           0.98      5006\n",
      "   macro avg       0.96      0.96      0.96      5006\n",
      "weighted avg       0.98      0.98      0.98      5006\n",
      "\n"
     ]
    },
    {
     "data": {
      "image/png": "[encoded data removed]",
      "text/plain": [
       "<Figure size 360x360 with 2 Axes>"
      ]
     },
     "metadata": {
      "needs_background": "light"
     },
     "output_type": "display_data"
    }
   ],
   "source": [
    "dt = DecisionTreeClassifier(random_state = 0)\n",
    "dt.fit(X_train,y_train) \n",
    "dt_score=dt.score(X_test,y_test)\n",
    "y_predict=dt.predict(X_test)\n",
    "y_true=y_test\n",
    "print('Accuracy of DT: '+ str(dt_score))\n",
    "precision,recall,fscore,none= precision_recall_fscore_support(y_true, y_predict, average='weighted') \n",
    "print('Precision of DT: '+(str(precision)))\n",
    "print('Recall of DT: '+(str(recall)))\n",
    "print('F1-score of DT: '+(str(fscore)))\n",
    "print(classification_report(y_true,y_predict))\n",
    "cm=confusion_matrix(y_true,y_predict)\n",
    "f,ax=plt.subplots(figsize=(5,5))\n",
    "sns.heatmap(cm,annot=True,linewidth=0.5,linecolor=\"red\",fmt=\".0f\",ax=ax)\n",
    "plt.xlabel(\"y_pred\")\n",
    "plt.ylabel(\"y_true\")\n",
    "plt.show()"
   ]
  },
  {
   "cell_type": "code",
   "execution_count": 45,
   "id": "ea1ee571",
   "metadata": {},
   "outputs": [
    {
     "name": "stdout",
     "output_type": "stream",
     "text": [
      "100%|███████████████████████████████████████████████| 50/50 [00:01<00:00, 28.47trial/s, best loss: -0.9804234918098282]\n",
      "Decision tree: Hyperopt estimated optimum {'criterion': 1, 'max_depth': 22.0, 'max_features': 14.0, 'min_samples_leaf': 1.0, 'min_samples_split': 4.0}\n"
     ]
    }
   ],
   "source": [
    "# Hyperparameter optimization of decision tree\n",
    "from hyperopt import hp, fmin, tpe, STATUS_OK, Trials\n",
    "from sklearn.model_selection import cross_val_score, StratifiedKFold\n",
    "# Define the objective function\n",
    "def objective(params):\n",
    "    params = {\n",
    "        'max_depth': int(params['max_depth']),\n",
    "        'max_features': int(params['max_features']),\n",
    "        \"min_samples_split\":int(params['min_samples_split']),\n",
    "        \"min_samples_leaf\":int(params['min_samples_leaf']),\n",
    "        \"criterion\":str(params['criterion'])\n",
    "    }\n",
    "    clf = DecisionTreeClassifier( **params)\n",
    "    clf.fit(X_train,y_train)\n",
    "    score=clf.score(X_test,y_test)\n",
    "\n",
    "    return {'loss':-score, 'status': STATUS_OK }\n",
    "# Define the hyperparameter configuration space\n",
    "space = {\n",
    "    'max_depth': hp.quniform('max_depth', 5, 50, 1),\n",
    "    \"max_features\":hp.quniform('max_features', 1, 20, 1),\n",
    "    \"min_samples_split\":hp.quniform('min_samples_split',2,11,1),\n",
    "    \"min_samples_leaf\":hp.quniform('min_samples_leaf',1,11,1),\n",
    "    \"criterion\":hp.choice('criterion',['gini','entropy'])\n",
    "}\n",
    "\n",
    "best = fmin(fn=objective,\n",
    "            space=space,\n",
    "            algo=tpe.suggest,\n",
    "            max_evals=50)\n",
    "print(\"Decision tree: Hyperopt estimated optimum {}\".format(best))"
   ]
  },
  {
   "cell_type": "code",
   "execution_count": 46,
   "id": "fe9eaf51",
   "metadata": {},
   "outputs": [
    {
     "name": "stdout",
     "output_type": "stream",
     "text": [
      "Accuracy of DT: 0.9788254095085897\n",
      "Precision of DT: 0.9789775421070162\n",
      "Recall of DT: 0.9788254095085897\n",
      "F1-score of DT: 0.9788752310326536\n",
      "              precision    recall  f1-score   support\n",
      "\n",
      "           0       0.99      1.00      0.99       476\n",
      "           1       0.86      0.87      0.86       284\n",
      "           2       0.99      0.99      0.99      3320\n",
      "           3       0.99      0.96      0.98       324\n",
      "           4       0.98      0.97      0.97       602\n",
      "\n",
      "    accuracy                           0.98      5006\n",
      "   macro avg       0.96      0.96      0.96      5006\n",
      "weighted avg       0.98      0.98      0.98      5006\n",
      "\n"
     ]
    },
    {
     "data": {
      "image/png": "[encoded data removed]",
      "text/plain": [
       "<Figure size 360x360 with 2 Axes>"
      ]
     },
     "metadata": {
      "needs_background": "light"
     },
     "output_type": "display_data"
    }
   ],
   "source": [
    "dt_hpo = DecisionTreeClassifier(min_samples_leaf = 2, max_depth = 47, min_samples_split = 3, max_features = 19, criterion = 'gini')\n",
    "dt_hpo.fit(X_train,y_train)\n",
    "dt_score=dt_hpo.score(X_test,y_test)\n",
    "y_predict=dt_hpo.predict(X_test)\n",
    "y_true=y_test\n",
    "print('Accuracy of DT: '+ str(dt_score))\n",
    "precision,recall,fscore,none= precision_recall_fscore_support(y_true, y_predict, average='weighted') \n",
    "print('Precision of DT: '+(str(precision)))\n",
    "print('Recall of DT: '+(str(recall)))\n",
    "print('F1-score of DT: '+(str(fscore)))\n",
    "print(classification_report(y_true,y_predict))\n",
    "cm=confusion_matrix(y_true,y_predict)\n",
    "f,ax=plt.subplots(figsize=(5,5))\n",
    "sns.heatmap(cm,annot=True,linewidth=0.5,linecolor=\"red\",fmt=\".0f\",ax=ax)\n",
    "plt.xlabel(\"y_pred\")\n",
    "plt.ylabel(\"y_true\")\n",
    "plt.show()"
   ]
  },
  {
   "cell_type": "code",
   "execution_count": 47,
   "id": "8563d375",
   "metadata": {},
   "outputs": [],
   "source": [
    "dt_train=dt_hpo.predict(X_train)\n",
    "dt_test=dt_hpo.predict(X_test)"
   ]
  },
  {
   "cell_type": "code",
   "execution_count": 48,
   "id": "e53f5a6f",
   "metadata": {},
   "outputs": [
    {
     "name": "stdout",
     "output_type": "stream",
     "text": [
      "Accuracy of ET: 0.9744306831801838\n",
      "Precision of ET: 0.9741137421142624\n",
      "Recall of ET: 0.9744306831801838\n",
      "F1-score of ET: 0.974187425690227\n",
      "              precision    recall  f1-score   support\n",
      "\n",
      "           0       0.99      0.99      0.99       476\n",
      "           1       0.90      0.84      0.87       284\n",
      "           2       0.98      0.99      0.98      3320\n",
      "           3       0.97      0.96      0.96       324\n",
      "           4       0.97      0.96      0.96       602\n",
      "\n",
      "    accuracy                           0.97      5006\n",
      "   macro avg       0.96      0.95      0.95      5006\n",
      "weighted avg       0.97      0.97      0.97      5006\n",
      "\n"
     ]
    },
    {
     "data": {
      "image/png": "[encoded data removed]",
      "text/plain": [
       "<Figure size 360x360 with 2 Axes>"
      ]
     },
     "metadata": {
      "needs_background": "light"
     },
     "output_type": "display_data"
    }
   ],
   "source": [
    "et = ExtraTreesClassifier(random_state = 0)\n",
    "et.fit(X_train,y_train) \n",
    "et_score=et.score(X_test,y_test)\n",
    "y_predict=et.predict(X_test)\n",
    "y_true=y_test\n",
    "print('Accuracy of ET: '+ str(et_score))\n",
    "precision,recall,fscore,none= precision_recall_fscore_support(y_true, y_predict, average='weighted') \n",
    "print('Precision of ET: '+(str(precision)))\n",
    "print('Recall of ET: '+(str(recall)))\n",
    "print('F1-score of ET: '+(str(fscore)))\n",
    "print(classification_report(y_true,y_predict))\n",
    "cm=confusion_matrix(y_true,y_predict)\n",
    "f,ax=plt.subplots(figsize=(5,5))\n",
    "sns.heatmap(cm,annot=True,linewidth=0.5,linecolor=\"red\",fmt=\".0f\",ax=ax)\n",
    "plt.xlabel(\"y_pred\")\n",
    "plt.ylabel(\"y_true\")\n",
    "plt.show()"
   ]
  },
  {
   "cell_type": "code",
   "execution_count": 49,
   "id": "27fe3fca",
   "metadata": {},
   "outputs": [
    {
     "name": "stdout",
     "output_type": "stream",
     "text": [
      "100%|████████████████████████████████████████████████| 20/20 [00:21<00:00,  1.07s/trial, best loss: -0.982820615261686]\n",
      "Random Forest: Hyperopt estimated optimum {'criterion': 1, 'max_depth': 21.0, 'max_features': 18.0, 'min_samples_leaf': 2.0, 'min_samples_split': 4.0, 'n_estimators': 141.0}\n"
     ]
    }
   ],
   "source": [
    "# Hyperparameter optimization of extra trees\n",
    "from hyperopt import hp, fmin, tpe, STATUS_OK, Trials\n",
    "from sklearn.model_selection import cross_val_score, StratifiedKFold\n",
    "# Define the objective function\n",
    "def objective(params):\n",
    "    params = {\n",
    "        'n_estimators': int(params['n_estimators']), \n",
    "        'max_depth': int(params['max_depth']),\n",
    "        'max_features': int(params['max_features']),\n",
    "        \"min_samples_split\":int(params['min_samples_split']),\n",
    "        \"min_samples_leaf\":int(params['min_samples_leaf']),\n",
    "        \"criterion\":str(params['criterion'])\n",
    "    }\n",
    "    clf = ExtraTreesClassifier( **params)\n",
    "    clf.fit(X_train,y_train)\n",
    "    score=clf.score(X_test,y_test)\n",
    "\n",
    "    return {'loss':-score, 'status': STATUS_OK }\n",
    "# Define the hyperparameter configuration space\n",
    "space = {\n",
    "    'n_estimators': hp.quniform('n_estimators', 10, 200, 1),\n",
    "    'max_depth': hp.quniform('max_depth', 5, 50, 1),\n",
    "    \"max_features\":hp.quniform('max_features', 1, 20, 1),\n",
    "    \"min_samples_split\":hp.quniform('min_samples_split',2,11,1),\n",
    "    \"min_samples_leaf\":hp.quniform('min_samples_leaf',1,11,1),\n",
    "    \"criterion\":hp.choice('criterion',['gini','entropy'])\n",
    "}\n",
    "\n",
    "best = fmin(fn=objective,\n",
    "            space=space,\n",
    "            algo=tpe.suggest,\n",
    "            max_evals=20)\n",
    "print(\"Random Forest: Hyperopt estimated optimum {}\".format(best))"
   ]
  },
  {
   "cell_type": "code",
   "execution_count": 50,
   "id": "c6e7e63b",
   "metadata": {},
   "outputs": [
    {
     "name": "stdout",
     "output_type": "stream",
     "text": [
      "Accuracy of ET: 0.9872153415900919\n",
      "Precision of ET: 0.9871376272313415\n",
      "Recall of ET: 0.9872153415900919\n",
      "F1-score of ET: 0.987128876275123\n",
      "              precision    recall  f1-score   support\n",
      "\n",
      "           0       0.99      0.99      0.99       476\n",
      "           1       0.95      0.91      0.93       284\n",
      "           2       0.99      1.00      0.99      3320\n",
      "           3       0.99      0.97      0.98       324\n",
      "           4       0.99      0.98      0.99       602\n",
      "\n",
      "    accuracy                           0.99      5006\n",
      "   macro avg       0.98      0.97      0.98      5006\n",
      "weighted avg       0.99      0.99      0.99      5006\n",
      "\n"
     ]
    },
    {
     "data": {
      "image/png": "[encoded data removed]",
      "text/plain": [
       "<Figure size 360x360 with 2 Axes>"
      ]
     },
     "metadata": {
      "needs_background": "light"
     },
     "output_type": "display_data"
    }
   ],
   "source": [
    "et_hpo = ExtraTreesClassifier(n_estimators = 53, min_samples_leaf = 1, max_depth = 31, min_samples_split = 5, max_features = 20, criterion = 'entropy')\n",
    "et_hpo.fit(X_train,y_train) \n",
    "et_score=et_hpo.score(X_test,y_test)\n",
    "y_predict=et_hpo.predict(X_test)\n",
    "y_true=y_test\n",
    "print('Accuracy of ET: '+ str(et_score))\n",
    "precision,recall,fscore,none= precision_recall_fscore_support(y_true, y_predict, average='weighted') \n",
    "print('Precision of ET: '+(str(precision)))\n",
    "print('Recall of ET: '+(str(recall)))\n",
    "print('F1-score of ET: '+(str(fscore)))\n",
    "print(classification_report(y_true,y_predict))\n",
    "cm=confusion_matrix(y_true,y_predict)\n",
    "f,ax=plt.subplots(figsize=(5,5))\n",
    "sns.heatmap(cm,annot=True,linewidth=0.5,linecolor=\"red\",fmt=\".0f\",ax=ax)\n",
    "plt.xlabel(\"y_pred\")\n",
    "plt.ylabel(\"y_true\")\n",
    "plt.show()"
   ]
  },
  {
   "cell_type": "code",
   "execution_count": 51,
   "id": "4c2f685c",
   "metadata": {},
   "outputs": [],
   "source": [
    "et_train=et_hpo.predict(X_train)\n",
    "et_test=et_hpo.predict(X_test)"
   ]
  },
  {
   "cell_type": "code",
   "execution_count": 52,
   "id": "93e2b3cc",
   "metadata": {},
   "outputs": [
    {
     "data": {
      "text/html": [
       "<div>\n",
       "<style scoped>\n",
       "    .dataframe tbody tr th:only-of-type {\n",
       "        vertical-align: middle;\n",
       "    }\n",
       "\n",
       "    .dataframe tbody tr th {\n",
       "        vertical-align: top;\n",
       "    }\n",
       "\n",
       "    .dataframe thead th {\n",
       "        text-align: right;\n",
       "    }\n",
       "</style>\n",
       "<table border=\"1\" class=\"dataframe\">\n",
       "  <thead>\n",
       "    <tr style=\"text-align: right;\">\n",
       "      <th></th>\n",
       "      <th>DecisionTree</th>\n",
       "      <th>RandomForest</th>\n",
       "      <th>ExtraTrees</th>\n",
       "      <th>XgBoost</th>\n",
       "    </tr>\n",
       "  </thead>\n",
       "  <tbody>\n",
       "    <tr>\n",
       "      <th>0</th>\n",
       "      <td>2</td>\n",
       "      <td>2</td>\n",
       "      <td>2</td>\n",
       "      <td>2</td>\n",
       "    </tr>\n",
       "    <tr>\n",
       "      <th>1</th>\n",
       "      <td>1</td>\n",
       "      <td>1</td>\n",
       "      <td>1</td>\n",
       "      <td>1</td>\n",
       "    </tr>\n",
       "    <tr>\n",
       "      <th>2</th>\n",
       "      <td>4</td>\n",
       "      <td>4</td>\n",
       "      <td>4</td>\n",
       "      <td>4</td>\n",
       "    </tr>\n",
       "    <tr>\n",
       "      <th>3</th>\n",
       "      <td>4</td>\n",
       "      <td>4</td>\n",
       "      <td>4</td>\n",
       "      <td>4</td>\n",
       "    </tr>\n",
       "    <tr>\n",
       "      <th>4</th>\n",
       "      <td>1</td>\n",
       "      <td>1</td>\n",
       "      <td>1</td>\n",
       "      <td>1</td>\n",
       "    </tr>\n",
       "  </tbody>\n",
       "</table>\n",
       "</div>"
      ],
      "text/plain": [
       "   DecisionTree  RandomForest  ExtraTrees  XgBoost\n",
       "0             2             2           2        2\n",
       "1             1             1           1        1\n",
       "2             4             4           4        4\n",
       "3             4             4           4        4\n",
       "4             1             1           1        1"
      ]
     },
     "execution_count": 52,
     "metadata": {},
     "output_type": "execute_result"
    }
   ],
   "source": [
    "base_predictions_train = pd.DataFrame( {\n",
    "    'DecisionTree': dt_train.ravel(),\n",
    "        'RandomForest': rf_train.ravel(),\n",
    "     'ExtraTrees': et_train.ravel(),\n",
    "     'XgBoost': xg_train.ravel(),\n",
    "    })\n",
    "base_predictions_train.head(5)"
   ]
  },
  {
   "cell_type": "code",
   "execution_count": 53,
   "id": "18534dec",
   "metadata": {},
   "outputs": [],
   "source": [
    "dt_train=dt_train.reshape(-1, 1)\n",
    "et_train=et_train.reshape(-1, 1)\n",
    "rf_train=rf_train.reshape(-1, 1)\n",
    "xg_train=xg_train.reshape(-1, 1)\n",
    "dt_test=dt_test.reshape(-1, 1)\n",
    "et_test=et_test.reshape(-1, 1)\n",
    "rf_test=rf_test.reshape(-1, 1)\n",
    "xg_test=xg_test.reshape(-1, 1)"
   ]
  },
  {
   "cell_type": "code",
   "execution_count": 54,
   "id": "a8273c3d",
   "metadata": {},
   "outputs": [
    {
     "data": {
      "text/plain": [
       "(20022, 1)"
      ]
     },
     "execution_count": 54,
     "metadata": {},
     "output_type": "execute_result"
    }
   ],
   "source": [
    "dt_train.shape"
   ]
  },
  {
   "cell_type": "code",
   "execution_count": 55,
   "id": "c8497566",
   "metadata": {},
   "outputs": [],
   "source": [
    "x_train = np.concatenate(( dt_train, et_train, rf_train, xg_train), axis=1)\n",
    "x_test = np.concatenate(( dt_test, et_test, rf_test, xg_test), axis=1)"
   ]
  },
  {
   "cell_type": "code",
   "execution_count": 56,
   "id": "bbc954ef",
   "metadata": {},
   "outputs": [
    {
     "name": "stdout",
     "output_type": "stream",
     "text": [
      "Accuracy of Stacking: 0.986016779864163\n",
      "Precision of Stacking: 0.98594229500457\n",
      "Recall of Stacking: 0.986016779864163\n",
      "F1-score of Stacking: 0.9859273804429787\n",
      "              precision    recall  f1-score   support\n",
      "\n",
      "           0       0.99      0.99      0.99       476\n",
      "           1       0.94      0.90      0.92       284\n",
      "           2       0.99      1.00      0.99      3320\n",
      "           3       0.99      0.97      0.98       324\n",
      "           4       0.99      0.98      0.99       602\n",
      "\n",
      "    accuracy                           0.99      5006\n",
      "   macro avg       0.98      0.97      0.97      5006\n",
      "weighted avg       0.99      0.99      0.99      5006\n",
      "\n"
     ]
    },
    {
     "data": {
      "image/png": "[encoded data removed]",
      "text/plain": [
       "<Figure size 360x360 with 2 Axes>"
      ]
     },
     "metadata": {
      "needs_background": "light"
     },
     "output_type": "display_data"
    }
   ],
   "source": [
    "stk = xgb.XGBClassifier().fit(x_train, y_train)\n",
    "y_predict=stk.predict(x_test)\n",
    "y_true=y_test\n",
    "stk_score=accuracy_score(y_true,y_predict)\n",
    "print('Accuracy of Stacking: '+ str(stk_score))\n",
    "precision,recall,fscore,none= precision_recall_fscore_support(y_true, y_predict, average='weighted') \n",
    "print('Precision of Stacking: '+(str(precision)))\n",
    "print('Recall of Stacking: '+(str(recall)))\n",
    "print('F1-score of Stacking: '+(str(fscore)))\n",
    "print(classification_report(y_true,y_predict))\n",
    "cm=confusion_matrix(y_true,y_predict)\n",
    "f,ax=plt.subplots(figsize=(5,5))\n",
    "sns.heatmap(cm,annot=True,linewidth=0.5,linecolor=\"red\",fmt=\".0f\",ax=ax)\n",
    "plt.xlabel(\"y_pred\")\n",
    "plt.ylabel(\"y_true\")\n",
    "plt.show()"
   ]
  },
  {
   "cell_type": "code",
   "execution_count": 57,
   "id": "b20afabe",
   "metadata": {},
   "outputs": [
    {
     "name": "stdout",
     "output_type": "stream",
     "text": [
      "100%|████████████████████████████████████████████████| 20/20 [00:03<00:00,  5.56trial/s, best loss: -0.986016779864163]\n",
      "XGBoost: Hyperopt estimated optimum {'learning_rate': -1.1023538271348998, 'max_depth': 40.0, 'n_estimators': 10.0}\n"
     ]
    }
   ],
   "source": [
    "from hyperopt import hp, fmin, tpe, STATUS_OK, Trials\n",
    "from sklearn.model_selection import cross_val_score, StratifiedKFold\n",
    "def objective(params):\n",
    "    params = {\n",
    "        'n_estimators': int(params['n_estimators']), \n",
    "        'max_depth': int(params['max_depth']),\n",
    "        'learning_rate':  abs(float(params['learning_rate'])),\n",
    "\n",
    "    }\n",
    "    clf = xgb.XGBClassifier( **params)\n",
    "    clf.fit(x_train, y_train)\n",
    "    y_pred = clf.predict(x_test)\n",
    "    score = accuracy_score(y_test, y_pred)\n",
    "\n",
    "    return {'loss':-score, 'status': STATUS_OK }\n",
    "\n",
    "space = {\n",
    "    'n_estimators': hp.quniform('n_estimators', 10, 100, 5),\n",
    "    'max_depth': hp.quniform('max_depth', 4, 100, 1),\n",
    "    'learning_rate': hp.normal('learning_rate', 0.01, 0.9),\n",
    "}\n",
    "\n",
    "best = fmin(fn=objective,\n",
    "            space=space,\n",
    "            algo=tpe.suggest,\n",
    "            max_evals=20)\n",
    "print(\"XGBoost: Hyperopt estimated optimum {}\".format(best))"
   ]
  },
  {
   "cell_type": "code",
   "execution_count": 66,
   "id": "f7a7b3b7",
   "metadata": {},
   "outputs": [
    {
     "name": "stdout",
     "output_type": "stream",
     "text": [
      "Accuracy of XGBoost: 0.9854174990011986\n",
      "Precision of XGBoost: 0.9855343093957123\n",
      "Recall of XGBoost: 0.9854174990011986\n",
      "F1-score of XGBoost: 0.9854472270923815\n",
      "              precision    recall  f1-score   support\n",
      "\n",
      "           0       0.99      0.99      0.99       476\n",
      "           1       0.91      0.93      0.92       284\n",
      "           2       0.99      0.99      0.99      3326\n",
      "           3       1.00      0.97      0.98       322\n",
      "           4       0.99      0.98      0.99       598\n",
      "\n",
      "    accuracy                           0.99      5006\n",
      "   macro avg       0.98      0.97      0.97      5006\n",
      "weighted avg       0.99      0.99      0.99      5006\n",
      "\n"
     ]
    },
    {
     "data": {
      "image/png": "[encoded data removed]",
      "text/plain": [
       "<Figure size 360x360 with 2 Axes>"
      ]
     },
     "metadata": {
      "needs_background": "light"
     },
     "output_type": "display_data"
    }
   ],
   "source": [
    "xg = xgb.XGBClassifier(learning_rate= 0.19229249758051492, n_estimators = 30, max_depth = 36)\n",
    "xg.fit(x_train,y_train)\n",
    "xg_score=xg.score(x_test,y_test)\n",
    "y_predict=xg.predict(x_test)\n",
    "y_true=y_test\n",
    "print('Accuracy of XGBoost: '+ str(xg_score))\n",
    "precision,recall,fscore,none= precision_recall_fscore_support(y_true, y_predict, average='weighted') \n",
    "print('Precision of XGBoost: '+(str(precision)))\n",
    "print('Recall of XGBoost: '+(str(recall)))\n",
    "print('F1-score of XGBoost: '+(str(fscore)))\n",
    "print(classification_report(y_true,y_predict))\n",
    "cm=confusion_matrix(y_true,y_predict)\n",
    "f,ax=plt.subplots(figsize=(5,5))\n",
    "sns.heatmap(cm,annot=True,linewidth=0.5,linecolor=\"red\",fmt=\".0f\",ax=ax)\n",
    "plt.xlabel(\"y_pred\")\n",
    "plt.ylabel(\"y_true\")\n",
    "plt.show()"
   ]
  },
  {
   "cell_type": "code",
   "execution_count": null,
   "id": "556259af",
   "metadata": {},
   "outputs": [],
   "source": []
  },
  {
   "cell_type": "code",
   "execution_count": null,
   "id": "11cef1ae",
   "metadata": {},
   "outputs": [],
   "source": []
  }
 ],
 "metadata": {
  "interpreter": {
   "hash": "bc342a2d18cd8de928dda5685bacff2bb239146e0847e732d8a85b5d43ec132e"
  },
  "kernelspec": {
   "display_name": "Python 3.9.12 ('IDSml')",
   "language": "python",
   "name": "python3"
  },
  "language_info": {
   "codemirror_mode": {
    "name": "ipython",
    "version": 3
   },
   "file_extension": ".py",
   "mimetype": "text/x-python",
   "name": "python",
   "nbconvert_exporter": "python",
   "pygments_lexer": "ipython3",
   "version": "3.9.12"
  }
 },
 "nbformat": 4,
 "nbformat_minor": 5
}
