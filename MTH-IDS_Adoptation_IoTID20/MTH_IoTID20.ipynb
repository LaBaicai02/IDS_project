{
 "cells": [
  {
   "cell_type": "code",
   "execution_count": 1,
   "id": "58256e76",
   "metadata": {},
   "outputs": [],
   "source": [
    "import numpy as np\n",
    "import pandas as pd\n",
    "import seaborn as sns\n",
    "import matplotlib.pyplot as plt\n",
    "from sklearn.preprocessing import LabelEncoder\n",
    "from sklearn.model_selection import train_test_split\n",
    "from sklearn.metrics import classification_report,confusion_matrix,accuracy_score,precision_recall_fscore_support\n",
    "from sklearn.metrics import f1_score,roc_auc_score\n",
    "from sklearn.ensemble import RandomForestClassifier,ExtraTreesClassifier\n",
    "from sklearn.tree import DecisionTreeClassifier\n",
    "from sklearn.model_selection import cross_val_score\n",
    "import xgboost as xgb\n",
    "from xgboost import plot_importance\n",
    "import smote_variants as sv\n",
    "import sklearn.datasets as datasets"
   ]
  },
  {
   "cell_type": "code",
   "execution_count": 2,
   "id": "4215b3f5",
   "metadata": {},
   "outputs": [],
   "source": [
    "#Read dataset\n",
    "df = pd.read_csv('./data/IoT Network Intrusion Dataset.csv')"
   ]
  },
  {
   "cell_type": "code",
   "execution_count": 3,
   "id": "093078e8",
   "metadata": {},
   "outputs": [
    {
     "data": {
      "text/html": [
       "<div>\n",
       "<style scoped>\n",
       "    .dataframe tbody tr th:only-of-type {\n",
       "        vertical-align: middle;\n",
       "    }\n",
       "\n",
       "    .dataframe tbody tr th {\n",
       "        vertical-align: top;\n",
       "    }\n",
       "\n",
       "    .dataframe thead th {\n",
       "        text-align: right;\n",
       "    }\n",
       "</style>\n",
       "<table border=\"1\" class=\"dataframe\">\n",
       "  <thead>\n",
       "    <tr style=\"text-align: right;\">\n",
       "      <th></th>\n",
       "      <th>Flow_ID</th>\n",
       "      <th>Src_IP</th>\n",
       "      <th>Src_Port</th>\n",
       "      <th>Dst_IP</th>\n",
       "      <th>Dst_Port</th>\n",
       "      <th>Protocol</th>\n",
       "      <th>Timestamp</th>\n",
       "      <th>Flow_Duration</th>\n",
       "      <th>Tot_Fwd_Pkts</th>\n",
       "      <th>Tot_Bwd_Pkts</th>\n",
       "      <th>...</th>\n",
       "      <th>Active_Std</th>\n",
       "      <th>Active_Max</th>\n",
       "      <th>Active_Min</th>\n",
       "      <th>Idle_Mean</th>\n",
       "      <th>Idle_Std</th>\n",
       "      <th>Idle_Max</th>\n",
       "      <th>Idle_Min</th>\n",
       "      <th>Label</th>\n",
       "      <th>Cat</th>\n",
       "      <th>Sub_Cat</th>\n",
       "    </tr>\n",
       "  </thead>\n",
       "  <tbody>\n",
       "    <tr>\n",
       "      <th>0</th>\n",
       "      <td>192.168.0.13-192.168.0.16-10000-10101-17</td>\n",
       "      <td>192.168.0.13</td>\n",
       "      <td>10000</td>\n",
       "      <td>192.168.0.16</td>\n",
       "      <td>10101</td>\n",
       "      <td>17</td>\n",
       "      <td>25/07/2019 03:25:53 AM</td>\n",
       "      <td>75</td>\n",
       "      <td>1</td>\n",
       "      <td>1</td>\n",
       "      <td>...</td>\n",
       "      <td>0.0</td>\n",
       "      <td>0.0</td>\n",
       "      <td>0.0</td>\n",
       "      <td>75.0</td>\n",
       "      <td>0.000000</td>\n",
       "      <td>75.0</td>\n",
       "      <td>75.0</td>\n",
       "      <td>Anomaly</td>\n",
       "      <td>Mirai</td>\n",
       "      <td>Mirai-Ackflooding</td>\n",
       "    </tr>\n",
       "    <tr>\n",
       "      <th>1</th>\n",
       "      <td>192.168.0.13-222.160.179.132-554-2179-6</td>\n",
       "      <td>222.160.179.132</td>\n",
       "      <td>2179</td>\n",
       "      <td>192.168.0.13</td>\n",
       "      <td>554</td>\n",
       "      <td>6</td>\n",
       "      <td>26/05/2019 10:11:06 PM</td>\n",
       "      <td>5310</td>\n",
       "      <td>1</td>\n",
       "      <td>2</td>\n",
       "      <td>...</td>\n",
       "      <td>0.0</td>\n",
       "      <td>0.0</td>\n",
       "      <td>0.0</td>\n",
       "      <td>2655.0</td>\n",
       "      <td>2261.327486</td>\n",
       "      <td>4254.0</td>\n",
       "      <td>1056.0</td>\n",
       "      <td>Anomaly</td>\n",
       "      <td>DoS</td>\n",
       "      <td>DoS-Synflooding</td>\n",
       "    </tr>\n",
       "    <tr>\n",
       "      <th>2</th>\n",
       "      <td>192.168.0.13-192.168.0.16-9020-52727-6</td>\n",
       "      <td>192.168.0.16</td>\n",
       "      <td>52727</td>\n",
       "      <td>192.168.0.13</td>\n",
       "      <td>9020</td>\n",
       "      <td>6</td>\n",
       "      <td>11/07/2019 01:24:48 AM</td>\n",
       "      <td>141</td>\n",
       "      <td>0</td>\n",
       "      <td>3</td>\n",
       "      <td>...</td>\n",
       "      <td>0.0</td>\n",
       "      <td>0.0</td>\n",
       "      <td>0.0</td>\n",
       "      <td>70.5</td>\n",
       "      <td>0.707107</td>\n",
       "      <td>71.0</td>\n",
       "      <td>70.0</td>\n",
       "      <td>Anomaly</td>\n",
       "      <td>Scan</td>\n",
       "      <td>Scan Port OS</td>\n",
       "    </tr>\n",
       "    <tr>\n",
       "      <th>3</th>\n",
       "      <td>192.168.0.13-192.168.0.16-9020-52964-6</td>\n",
       "      <td>192.168.0.16</td>\n",
       "      <td>52964</td>\n",
       "      <td>192.168.0.13</td>\n",
       "      <td>9020</td>\n",
       "      <td>6</td>\n",
       "      <td>04/09/2019 03:58:17 AM</td>\n",
       "      <td>151</td>\n",
       "      <td>0</td>\n",
       "      <td>2</td>\n",
       "      <td>...</td>\n",
       "      <td>0.0</td>\n",
       "      <td>0.0</td>\n",
       "      <td>0.0</td>\n",
       "      <td>151.0</td>\n",
       "      <td>0.000000</td>\n",
       "      <td>151.0</td>\n",
       "      <td>151.0</td>\n",
       "      <td>Anomaly</td>\n",
       "      <td>Mirai</td>\n",
       "      <td>Mirai-Hostbruteforceg</td>\n",
       "    </tr>\n",
       "    <tr>\n",
       "      <th>4</th>\n",
       "      <td>192.168.0.1-239.255.255.250-36763-1900-17</td>\n",
       "      <td>192.168.0.1</td>\n",
       "      <td>36763</td>\n",
       "      <td>239.255.255.250</td>\n",
       "      <td>1900</td>\n",
       "      <td>17</td>\n",
       "      <td>10/09/2019 01:41:18 AM</td>\n",
       "      <td>153</td>\n",
       "      <td>2</td>\n",
       "      <td>1</td>\n",
       "      <td>...</td>\n",
       "      <td>0.0</td>\n",
       "      <td>0.0</td>\n",
       "      <td>0.0</td>\n",
       "      <td>76.5</td>\n",
       "      <td>0.707107</td>\n",
       "      <td>77.0</td>\n",
       "      <td>76.0</td>\n",
       "      <td>Anomaly</td>\n",
       "      <td>Mirai</td>\n",
       "      <td>Mirai-Hostbruteforceg</td>\n",
       "    </tr>\n",
       "    <tr>\n",
       "      <th>...</th>\n",
       "      <td>...</td>\n",
       "      <td>...</td>\n",
       "      <td>...</td>\n",
       "      <td>...</td>\n",
       "      <td>...</td>\n",
       "      <td>...</td>\n",
       "      <td>...</td>\n",
       "      <td>...</td>\n",
       "      <td>...</td>\n",
       "      <td>...</td>\n",
       "      <td>...</td>\n",
       "      <td>...</td>\n",
       "      <td>...</td>\n",
       "      <td>...</td>\n",
       "      <td>...</td>\n",
       "      <td>...</td>\n",
       "      <td>...</td>\n",
       "      <td>...</td>\n",
       "      <td>...</td>\n",
       "      <td>...</td>\n",
       "      <td>...</td>\n",
       "    </tr>\n",
       "    <tr>\n",
       "      <th>625778</th>\n",
       "      <td>192.168.0.24-210.89.164.90-56112-8043-17</td>\n",
       "      <td>192.168.0.24</td>\n",
       "      <td>56112</td>\n",
       "      <td>210.89.164.90</td>\n",
       "      <td>8043</td>\n",
       "      <td>17</td>\n",
       "      <td>25/07/2019 03:25:00 AM</td>\n",
       "      <td>277</td>\n",
       "      <td>1</td>\n",
       "      <td>1</td>\n",
       "      <td>...</td>\n",
       "      <td>0.0</td>\n",
       "      <td>0.0</td>\n",
       "      <td>0.0</td>\n",
       "      <td>277.0</td>\n",
       "      <td>0.000000</td>\n",
       "      <td>277.0</td>\n",
       "      <td>277.0</td>\n",
       "      <td>Anomaly</td>\n",
       "      <td>Mirai</td>\n",
       "      <td>Mirai-UDP Flooding</td>\n",
       "    </tr>\n",
       "    <tr>\n",
       "      <th>625779</th>\n",
       "      <td>192.168.0.13-222.131.171.244-554-4570-6</td>\n",
       "      <td>222.131.171.244</td>\n",
       "      <td>4570</td>\n",
       "      <td>192.168.0.13</td>\n",
       "      <td>554</td>\n",
       "      <td>6</td>\n",
       "      <td>26/05/2019 10:06:51 PM</td>\n",
       "      <td>1658</td>\n",
       "      <td>0</td>\n",
       "      <td>2</td>\n",
       "      <td>...</td>\n",
       "      <td>0.0</td>\n",
       "      <td>0.0</td>\n",
       "      <td>0.0</td>\n",
       "      <td>1658.0</td>\n",
       "      <td>0.000000</td>\n",
       "      <td>1658.0</td>\n",
       "      <td>1658.0</td>\n",
       "      <td>Anomaly</td>\n",
       "      <td>DoS</td>\n",
       "      <td>DoS-Synflooding</td>\n",
       "    </tr>\n",
       "    <tr>\n",
       "      <th>625780</th>\n",
       "      <td>192.168.0.13-192.168.0.16-9020-52739-6</td>\n",
       "      <td>192.168.0.16</td>\n",
       "      <td>52739</td>\n",
       "      <td>192.168.0.13</td>\n",
       "      <td>9020</td>\n",
       "      <td>6</td>\n",
       "      <td>11/07/2019 01:29:09 AM</td>\n",
       "      <td>77</td>\n",
       "      <td>1</td>\n",
       "      <td>1</td>\n",
       "      <td>...</td>\n",
       "      <td>0.0</td>\n",
       "      <td>0.0</td>\n",
       "      <td>0.0</td>\n",
       "      <td>77.0</td>\n",
       "      <td>0.000000</td>\n",
       "      <td>77.0</td>\n",
       "      <td>77.0</td>\n",
       "      <td>Anomaly</td>\n",
       "      <td>Scan</td>\n",
       "      <td>Scan Port OS</td>\n",
       "    </tr>\n",
       "    <tr>\n",
       "      <th>625781</th>\n",
       "      <td>192.168.0.13-192.168.0.16-9020-49784-6</td>\n",
       "      <td>192.168.0.13</td>\n",
       "      <td>9020</td>\n",
       "      <td>192.168.0.16</td>\n",
       "      <td>49784</td>\n",
       "      <td>6</td>\n",
       "      <td>20/05/2019 05:00:29 AM</td>\n",
       "      <td>240</td>\n",
       "      <td>2</td>\n",
       "      <td>1</td>\n",
       "      <td>...</td>\n",
       "      <td>0.0</td>\n",
       "      <td>0.0</td>\n",
       "      <td>0.0</td>\n",
       "      <td>120.0</td>\n",
       "      <td>7.071068</td>\n",
       "      <td>125.0</td>\n",
       "      <td>115.0</td>\n",
       "      <td>Normal</td>\n",
       "      <td>Normal</td>\n",
       "      <td>Normal</td>\n",
       "    </tr>\n",
       "    <tr>\n",
       "      <th>625782</th>\n",
       "      <td>192.168.0.13-192.168.0.16-10000-10101-17</td>\n",
       "      <td>192.168.0.13</td>\n",
       "      <td>10000</td>\n",
       "      <td>192.168.0.16</td>\n",
       "      <td>10101</td>\n",
       "      <td>17</td>\n",
       "      <td>25/07/2019 03:25:10 AM</td>\n",
       "      <td>198</td>\n",
       "      <td>2</td>\n",
       "      <td>1</td>\n",
       "      <td>...</td>\n",
       "      <td>0.0</td>\n",
       "      <td>0.0</td>\n",
       "      <td>0.0</td>\n",
       "      <td>99.0</td>\n",
       "      <td>32.526912</td>\n",
       "      <td>122.0</td>\n",
       "      <td>76.0</td>\n",
       "      <td>Anomaly</td>\n",
       "      <td>Mirai</td>\n",
       "      <td>Mirai-UDP Flooding</td>\n",
       "    </tr>\n",
       "  </tbody>\n",
       "</table>\n",
       "<p>625783 rows × 86 columns</p>\n",
       "</div>"
      ],
      "text/plain": [
       "                                          Flow_ID           Src_IP  Src_Port  \\\n",
       "0        192.168.0.13-192.168.0.16-10000-10101-17     192.168.0.13     10000   \n",
       "1         192.168.0.13-222.160.179.132-554-2179-6  222.160.179.132      2179   \n",
       "2          192.168.0.13-192.168.0.16-9020-52727-6     192.168.0.16     52727   \n",
       "3          192.168.0.13-192.168.0.16-9020-52964-6     192.168.0.16     52964   \n",
       "4       192.168.0.1-239.255.255.250-36763-1900-17      192.168.0.1     36763   \n",
       "...                                           ...              ...       ...   \n",
       "625778   192.168.0.24-210.89.164.90-56112-8043-17     192.168.0.24     56112   \n",
       "625779    192.168.0.13-222.131.171.244-554-4570-6  222.131.171.244      4570   \n",
       "625780     192.168.0.13-192.168.0.16-9020-52739-6     192.168.0.16     52739   \n",
       "625781     192.168.0.13-192.168.0.16-9020-49784-6     192.168.0.13      9020   \n",
       "625782   192.168.0.13-192.168.0.16-10000-10101-17     192.168.0.13     10000   \n",
       "\n",
       "                 Dst_IP  Dst_Port  Protocol               Timestamp  \\\n",
       "0          192.168.0.16     10101        17  25/07/2019 03:25:53 AM   \n",
       "1          192.168.0.13       554         6  26/05/2019 10:11:06 PM   \n",
       "2          192.168.0.13      9020         6  11/07/2019 01:24:48 AM   \n",
       "3          192.168.0.13      9020         6  04/09/2019 03:58:17 AM   \n",
       "4       239.255.255.250      1900        17  10/09/2019 01:41:18 AM   \n",
       "...                 ...       ...       ...                     ...   \n",
       "625778    210.89.164.90      8043        17  25/07/2019 03:25:00 AM   \n",
       "625779     192.168.0.13       554         6  26/05/2019 10:06:51 PM   \n",
       "625780     192.168.0.13      9020         6  11/07/2019 01:29:09 AM   \n",
       "625781     192.168.0.16     49784         6  20/05/2019 05:00:29 AM   \n",
       "625782     192.168.0.16     10101        17  25/07/2019 03:25:10 AM   \n",
       "\n",
       "        Flow_Duration  Tot_Fwd_Pkts  Tot_Bwd_Pkts  ...  Active_Std  \\\n",
       "0                  75             1             1  ...         0.0   \n",
       "1                5310             1             2  ...         0.0   \n",
       "2                 141             0             3  ...         0.0   \n",
       "3                 151             0             2  ...         0.0   \n",
       "4                 153             2             1  ...         0.0   \n",
       "...               ...           ...           ...  ...         ...   \n",
       "625778            277             1             1  ...         0.0   \n",
       "625779           1658             0             2  ...         0.0   \n",
       "625780             77             1             1  ...         0.0   \n",
       "625781            240             2             1  ...         0.0   \n",
       "625782            198             2             1  ...         0.0   \n",
       "\n",
       "        Active_Max  Active_Min  Idle_Mean     Idle_Std  Idle_Max  Idle_Min  \\\n",
       "0              0.0         0.0       75.0     0.000000      75.0      75.0   \n",
       "1              0.0         0.0     2655.0  2261.327486    4254.0    1056.0   \n",
       "2              0.0         0.0       70.5     0.707107      71.0      70.0   \n",
       "3              0.0         0.0      151.0     0.000000     151.0     151.0   \n",
       "4              0.0         0.0       76.5     0.707107      77.0      76.0   \n",
       "...            ...         ...        ...          ...       ...       ...   \n",
       "625778         0.0         0.0      277.0     0.000000     277.0     277.0   \n",
       "625779         0.0         0.0     1658.0     0.000000    1658.0    1658.0   \n",
       "625780         0.0         0.0       77.0     0.000000      77.0      77.0   \n",
       "625781         0.0         0.0      120.0     7.071068     125.0     115.0   \n",
       "625782         0.0         0.0       99.0    32.526912     122.0      76.0   \n",
       "\n",
       "          Label     Cat                Sub_Cat  \n",
       "0       Anomaly   Mirai      Mirai-Ackflooding  \n",
       "1       Anomaly     DoS        DoS-Synflooding  \n",
       "2       Anomaly    Scan           Scan Port OS  \n",
       "3       Anomaly   Mirai  Mirai-Hostbruteforceg  \n",
       "4       Anomaly   Mirai  Mirai-Hostbruteforceg  \n",
       "...         ...     ...                    ...  \n",
       "625778  Anomaly   Mirai     Mirai-UDP Flooding  \n",
       "625779  Anomaly     DoS        DoS-Synflooding  \n",
       "625780  Anomaly    Scan           Scan Port OS  \n",
       "625781   Normal  Normal                 Normal  \n",
       "625782  Anomaly   Mirai     Mirai-UDP Flooding  \n",
       "\n",
       "[625783 rows x 86 columns]"
      ]
     },
     "execution_count": 3,
     "metadata": {},
     "output_type": "execute_result"
    }
   ],
   "source": [
    "df"
   ]
  },
  {
   "cell_type": "code",
   "execution_count": 4,
   "id": "d369141e",
   "metadata": {},
   "outputs": [
    {
     "data": {
      "text/plain": [
       "192.168.0.13       222096\n",
       "192.168.0.16       125890\n",
       "192.168.0.24       122846\n",
       "104.118.134.215     46092\n",
       "104.74.213.186      23308\n",
       "                    ...  \n",
       "111.246.29.11           1\n",
       "222.63.54.185           1\n",
       "222.136.12.181          1\n",
       "111.76.36.36            1\n",
       "222.131.171.244         1\n",
       "Name: Src_IP, Length: 57985, dtype: int64"
      ]
     },
     "execution_count": 4,
     "metadata": {},
     "output_type": "execute_result"
    }
   ],
   "source": [
    "df.Src_IP.value_counts()"
   ]
  },
  {
   "cell_type": "code",
   "execution_count": 5,
   "id": "15ab7d49",
   "metadata": {},
   "outputs": [
    {
     "name": "stdout",
     "output_type": "stream",
     "text": [
      "Cat\n",
      "DoS                  0\n",
      "MITM ARP Spoofing    0\n",
      "Mirai                0\n",
      "Normal               0\n",
      "Scan                 0\n",
      "dtype: int64\n"
     ]
    }
   ],
   "source": [
    "\n",
    "\n",
    "# 选择你关注的类别特征\n",
    "category_feature = 'Cat'\n",
    "\n",
    "# 对数据集按照类别特征进行分组\n",
    "grouped_data = df.groupby(category_feature)\n",
    "\n",
    "# 计算每个分组的缺失值数量\n",
    "# missing_values_count_by_group = grouped_data.apply(lambda g: g.isnull().sum())\n",
    "missing_values_count_by_group = grouped_data.apply(lambda g: g.isnull().any(axis=1).sum())\n",
    "# # 输出每个类别的缺失值数量\n",
    "# print(\"每个类别的缺失值数量：\")\n",
    "print(missing_values_count_by_group)\n",
    "# with open('missing_values_count_by_group.txt', 'w') as f:\n",
    "#     f.write(\"每个类别的缺失值数量：\\n\")\n",
    "#     f.write(str(missing_values_count_by_group))"
   ]
  },
  {
   "cell_type": "code",
   "execution_count": null,
   "id": "7fbe1ca7",
   "metadata": {},
   "outputs": [],
   "source": []
  },
  {
   "cell_type": "code",
   "execution_count": 6,
   "id": "596c5419",
   "metadata": {
    "scrolled": true
   },
   "outputs": [
    {
     "data": {
      "text/plain": [
       "['Flow_ID', 'Src_IP', 'Dst_IP', 'Timestamp', 'Label', 'Cat', 'Sub_Cat']"
      ]
     },
     "execution_count": 6,
     "metadata": {},
     "output_type": "execute_result"
    }
   ],
   "source": [
    "cols = (df.dtypes=='object')\n",
    "object_cols = list(cols[cols].index)\n",
    "object_cols"
   ]
  },
  {
   "cell_type": "code",
   "execution_count": 7,
   "id": "9c6b8a57",
   "metadata": {
    "scrolled": true
   },
   "outputs": [],
   "source": [
    "x=[0,1,3,85]\n",
    "df.drop(df.columns[x], axis = 1, inplace=True)\n",
    "df.drop('Timestamp', axis=1, inplace = True)"
   ]
  },
  {
   "cell_type": "code",
   "execution_count": 8,
   "id": "c7b7beda",
   "metadata": {
    "scrolled": true
   },
   "outputs": [
    {
     "data": {
      "text/html": [
       "<div>\n",
       "<style scoped>\n",
       "    .dataframe tbody tr th:only-of-type {\n",
       "        vertical-align: middle;\n",
       "    }\n",
       "\n",
       "    .dataframe tbody tr th {\n",
       "        vertical-align: top;\n",
       "    }\n",
       "\n",
       "    .dataframe thead th {\n",
       "        text-align: right;\n",
       "    }\n",
       "</style>\n",
       "<table border=\"1\" class=\"dataframe\">\n",
       "  <thead>\n",
       "    <tr style=\"text-align: right;\">\n",
       "      <th></th>\n",
       "      <th>Src_Port</th>\n",
       "      <th>Dst_Port</th>\n",
       "      <th>Protocol</th>\n",
       "      <th>Flow_Duration</th>\n",
       "      <th>Tot_Fwd_Pkts</th>\n",
       "      <th>Tot_Bwd_Pkts</th>\n",
       "      <th>TotLen_Fwd_Pkts</th>\n",
       "      <th>TotLen_Bwd_Pkts</th>\n",
       "      <th>Fwd_Pkt_Len_Max</th>\n",
       "      <th>Fwd_Pkt_Len_Min</th>\n",
       "      <th>...</th>\n",
       "      <th>Active_Mean</th>\n",
       "      <th>Active_Std</th>\n",
       "      <th>Active_Max</th>\n",
       "      <th>Active_Min</th>\n",
       "      <th>Idle_Mean</th>\n",
       "      <th>Idle_Std</th>\n",
       "      <th>Idle_Max</th>\n",
       "      <th>Idle_Min</th>\n",
       "      <th>Label</th>\n",
       "      <th>Cat</th>\n",
       "    </tr>\n",
       "  </thead>\n",
       "  <tbody>\n",
       "    <tr>\n",
       "      <th>0</th>\n",
       "      <td>10000</td>\n",
       "      <td>10101</td>\n",
       "      <td>17</td>\n",
       "      <td>75</td>\n",
       "      <td>1</td>\n",
       "      <td>1</td>\n",
       "      <td>982.0</td>\n",
       "      <td>1430.0</td>\n",
       "      <td>982.0</td>\n",
       "      <td>982.0</td>\n",
       "      <td>...</td>\n",
       "      <td>0.0</td>\n",
       "      <td>0.0</td>\n",
       "      <td>0.0</td>\n",
       "      <td>0.0</td>\n",
       "      <td>75.0</td>\n",
       "      <td>0.000000</td>\n",
       "      <td>75.0</td>\n",
       "      <td>75.0</td>\n",
       "      <td>Anomaly</td>\n",
       "      <td>Mirai</td>\n",
       "    </tr>\n",
       "    <tr>\n",
       "      <th>1</th>\n",
       "      <td>2179</td>\n",
       "      <td>554</td>\n",
       "      <td>6</td>\n",
       "      <td>5310</td>\n",
       "      <td>1</td>\n",
       "      <td>2</td>\n",
       "      <td>0.0</td>\n",
       "      <td>0.0</td>\n",
       "      <td>0.0</td>\n",
       "      <td>0.0</td>\n",
       "      <td>...</td>\n",
       "      <td>0.0</td>\n",
       "      <td>0.0</td>\n",
       "      <td>0.0</td>\n",
       "      <td>0.0</td>\n",
       "      <td>2655.0</td>\n",
       "      <td>2261.327486</td>\n",
       "      <td>4254.0</td>\n",
       "      <td>1056.0</td>\n",
       "      <td>Anomaly</td>\n",
       "      <td>DoS</td>\n",
       "    </tr>\n",
       "    <tr>\n",
       "      <th>2</th>\n",
       "      <td>52727</td>\n",
       "      <td>9020</td>\n",
       "      <td>6</td>\n",
       "      <td>141</td>\n",
       "      <td>0</td>\n",
       "      <td>3</td>\n",
       "      <td>0.0</td>\n",
       "      <td>2806.0</td>\n",
       "      <td>0.0</td>\n",
       "      <td>0.0</td>\n",
       "      <td>...</td>\n",
       "      <td>0.0</td>\n",
       "      <td>0.0</td>\n",
       "      <td>0.0</td>\n",
       "      <td>0.0</td>\n",
       "      <td>70.5</td>\n",
       "      <td>0.707107</td>\n",
       "      <td>71.0</td>\n",
       "      <td>70.0</td>\n",
       "      <td>Anomaly</td>\n",
       "      <td>Scan</td>\n",
       "    </tr>\n",
       "    <tr>\n",
       "      <th>3</th>\n",
       "      <td>52964</td>\n",
       "      <td>9020</td>\n",
       "      <td>6</td>\n",
       "      <td>151</td>\n",
       "      <td>0</td>\n",
       "      <td>2</td>\n",
       "      <td>0.0</td>\n",
       "      <td>2776.0</td>\n",
       "      <td>0.0</td>\n",
       "      <td>0.0</td>\n",
       "      <td>...</td>\n",
       "      <td>0.0</td>\n",
       "      <td>0.0</td>\n",
       "      <td>0.0</td>\n",
       "      <td>0.0</td>\n",
       "      <td>151.0</td>\n",
       "      <td>0.000000</td>\n",
       "      <td>151.0</td>\n",
       "      <td>151.0</td>\n",
       "      <td>Anomaly</td>\n",
       "      <td>Mirai</td>\n",
       "    </tr>\n",
       "    <tr>\n",
       "      <th>4</th>\n",
       "      <td>36763</td>\n",
       "      <td>1900</td>\n",
       "      <td>17</td>\n",
       "      <td>153</td>\n",
       "      <td>2</td>\n",
       "      <td>1</td>\n",
       "      <td>886.0</td>\n",
       "      <td>420.0</td>\n",
       "      <td>452.0</td>\n",
       "      <td>434.0</td>\n",
       "      <td>...</td>\n",
       "      <td>0.0</td>\n",
       "      <td>0.0</td>\n",
       "      <td>0.0</td>\n",
       "      <td>0.0</td>\n",
       "      <td>76.5</td>\n",
       "      <td>0.707107</td>\n",
       "      <td>77.0</td>\n",
       "      <td>76.0</td>\n",
       "      <td>Anomaly</td>\n",
       "      <td>Mirai</td>\n",
       "    </tr>\n",
       "    <tr>\n",
       "      <th>...</th>\n",
       "      <td>...</td>\n",
       "      <td>...</td>\n",
       "      <td>...</td>\n",
       "      <td>...</td>\n",
       "      <td>...</td>\n",
       "      <td>...</td>\n",
       "      <td>...</td>\n",
       "      <td>...</td>\n",
       "      <td>...</td>\n",
       "      <td>...</td>\n",
       "      <td>...</td>\n",
       "      <td>...</td>\n",
       "      <td>...</td>\n",
       "      <td>...</td>\n",
       "      <td>...</td>\n",
       "      <td>...</td>\n",
       "      <td>...</td>\n",
       "      <td>...</td>\n",
       "      <td>...</td>\n",
       "      <td>...</td>\n",
       "      <td>...</td>\n",
       "    </tr>\n",
       "    <tr>\n",
       "      <th>625778</th>\n",
       "      <td>56112</td>\n",
       "      <td>8043</td>\n",
       "      <td>17</td>\n",
       "      <td>277</td>\n",
       "      <td>1</td>\n",
       "      <td>1</td>\n",
       "      <td>18.0</td>\n",
       "      <td>18.0</td>\n",
       "      <td>18.0</td>\n",
       "      <td>18.0</td>\n",
       "      <td>...</td>\n",
       "      <td>0.0</td>\n",
       "      <td>0.0</td>\n",
       "      <td>0.0</td>\n",
       "      <td>0.0</td>\n",
       "      <td>277.0</td>\n",
       "      <td>0.000000</td>\n",
       "      <td>277.0</td>\n",
       "      <td>277.0</td>\n",
       "      <td>Anomaly</td>\n",
       "      <td>Mirai</td>\n",
       "    </tr>\n",
       "    <tr>\n",
       "      <th>625779</th>\n",
       "      <td>4570</td>\n",
       "      <td>554</td>\n",
       "      <td>6</td>\n",
       "      <td>1658</td>\n",
       "      <td>0</td>\n",
       "      <td>2</td>\n",
       "      <td>0.0</td>\n",
       "      <td>0.0</td>\n",
       "      <td>0.0</td>\n",
       "      <td>0.0</td>\n",
       "      <td>...</td>\n",
       "      <td>0.0</td>\n",
       "      <td>0.0</td>\n",
       "      <td>0.0</td>\n",
       "      <td>0.0</td>\n",
       "      <td>1658.0</td>\n",
       "      <td>0.000000</td>\n",
       "      <td>1658.0</td>\n",
       "      <td>1658.0</td>\n",
       "      <td>Anomaly</td>\n",
       "      <td>DoS</td>\n",
       "    </tr>\n",
       "    <tr>\n",
       "      <th>625780</th>\n",
       "      <td>52739</td>\n",
       "      <td>9020</td>\n",
       "      <td>6</td>\n",
       "      <td>77</td>\n",
       "      <td>1</td>\n",
       "      <td>1</td>\n",
       "      <td>0.0</td>\n",
       "      <td>0.0</td>\n",
       "      <td>0.0</td>\n",
       "      <td>0.0</td>\n",
       "      <td>...</td>\n",
       "      <td>0.0</td>\n",
       "      <td>0.0</td>\n",
       "      <td>0.0</td>\n",
       "      <td>0.0</td>\n",
       "      <td>77.0</td>\n",
       "      <td>0.000000</td>\n",
       "      <td>77.0</td>\n",
       "      <td>77.0</td>\n",
       "      <td>Anomaly</td>\n",
       "      <td>Scan</td>\n",
       "    </tr>\n",
       "    <tr>\n",
       "      <th>625781</th>\n",
       "      <td>9020</td>\n",
       "      <td>49784</td>\n",
       "      <td>6</td>\n",
       "      <td>240</td>\n",
       "      <td>2</td>\n",
       "      <td>1</td>\n",
       "      <td>2776.0</td>\n",
       "      <td>1388.0</td>\n",
       "      <td>1388.0</td>\n",
       "      <td>1388.0</td>\n",
       "      <td>...</td>\n",
       "      <td>0.0</td>\n",
       "      <td>0.0</td>\n",
       "      <td>0.0</td>\n",
       "      <td>0.0</td>\n",
       "      <td>120.0</td>\n",
       "      <td>7.071068</td>\n",
       "      <td>125.0</td>\n",
       "      <td>115.0</td>\n",
       "      <td>Normal</td>\n",
       "      <td>Normal</td>\n",
       "    </tr>\n",
       "    <tr>\n",
       "      <th>625782</th>\n",
       "      <td>10000</td>\n",
       "      <td>10101</td>\n",
       "      <td>17</td>\n",
       "      <td>198</td>\n",
       "      <td>2</td>\n",
       "      <td>1</td>\n",
       "      <td>2860.0</td>\n",
       "      <td>1430.0</td>\n",
       "      <td>1430.0</td>\n",
       "      <td>1430.0</td>\n",
       "      <td>...</td>\n",
       "      <td>0.0</td>\n",
       "      <td>0.0</td>\n",
       "      <td>0.0</td>\n",
       "      <td>0.0</td>\n",
       "      <td>99.0</td>\n",
       "      <td>32.526912</td>\n",
       "      <td>122.0</td>\n",
       "      <td>76.0</td>\n",
       "      <td>Anomaly</td>\n",
       "      <td>Mirai</td>\n",
       "    </tr>\n",
       "  </tbody>\n",
       "</table>\n",
       "<p>625783 rows × 81 columns</p>\n",
       "</div>"
      ],
      "text/plain": [
       "        Src_Port  Dst_Port  Protocol  Flow_Duration  Tot_Fwd_Pkts  \\\n",
       "0          10000     10101        17             75             1   \n",
       "1           2179       554         6           5310             1   \n",
       "2          52727      9020         6            141             0   \n",
       "3          52964      9020         6            151             0   \n",
       "4          36763      1900        17            153             2   \n",
       "...          ...       ...       ...            ...           ...   \n",
       "625778     56112      8043        17            277             1   \n",
       "625779      4570       554         6           1658             0   \n",
       "625780     52739      9020         6             77             1   \n",
       "625781      9020     49784         6            240             2   \n",
       "625782     10000     10101        17            198             2   \n",
       "\n",
       "        Tot_Bwd_Pkts  TotLen_Fwd_Pkts  TotLen_Bwd_Pkts  Fwd_Pkt_Len_Max  \\\n",
       "0                  1            982.0           1430.0            982.0   \n",
       "1                  2              0.0              0.0              0.0   \n",
       "2                  3              0.0           2806.0              0.0   \n",
       "3                  2              0.0           2776.0              0.0   \n",
       "4                  1            886.0            420.0            452.0   \n",
       "...              ...              ...              ...              ...   \n",
       "625778             1             18.0             18.0             18.0   \n",
       "625779             2              0.0              0.0              0.0   \n",
       "625780             1              0.0              0.0              0.0   \n",
       "625781             1           2776.0           1388.0           1388.0   \n",
       "625782             1           2860.0           1430.0           1430.0   \n",
       "\n",
       "        Fwd_Pkt_Len_Min  ...  Active_Mean  Active_Std  Active_Max  Active_Min  \\\n",
       "0                 982.0  ...          0.0         0.0         0.0         0.0   \n",
       "1                   0.0  ...          0.0         0.0         0.0         0.0   \n",
       "2                   0.0  ...          0.0         0.0         0.0         0.0   \n",
       "3                   0.0  ...          0.0         0.0         0.0         0.0   \n",
       "4                 434.0  ...          0.0         0.0         0.0         0.0   \n",
       "...                 ...  ...          ...         ...         ...         ...   \n",
       "625778             18.0  ...          0.0         0.0         0.0         0.0   \n",
       "625779              0.0  ...          0.0         0.0         0.0         0.0   \n",
       "625780              0.0  ...          0.0         0.0         0.0         0.0   \n",
       "625781           1388.0  ...          0.0         0.0         0.0         0.0   \n",
       "625782           1430.0  ...          0.0         0.0         0.0         0.0   \n",
       "\n",
       "        Idle_Mean     Idle_Std  Idle_Max  Idle_Min    Label     Cat  \n",
       "0            75.0     0.000000      75.0      75.0  Anomaly   Mirai  \n",
       "1          2655.0  2261.327486    4254.0    1056.0  Anomaly     DoS  \n",
       "2            70.5     0.707107      71.0      70.0  Anomaly    Scan  \n",
       "3           151.0     0.000000     151.0     151.0  Anomaly   Mirai  \n",
       "4            76.5     0.707107      77.0      76.0  Anomaly   Mirai  \n",
       "...           ...          ...       ...       ...      ...     ...  \n",
       "625778      277.0     0.000000     277.0     277.0  Anomaly   Mirai  \n",
       "625779     1658.0     0.000000    1658.0    1658.0  Anomaly     DoS  \n",
       "625780       77.0     0.000000      77.0      77.0  Anomaly    Scan  \n",
       "625781      120.0     7.071068     125.0     115.0   Normal  Normal  \n",
       "625782       99.0    32.526912     122.0      76.0  Anomaly   Mirai  \n",
       "\n",
       "[625783 rows x 81 columns]"
      ]
     },
     "execution_count": 8,
     "metadata": {},
     "output_type": "execute_result"
    }
   ],
   "source": [
    "df"
   ]
  },
  {
   "cell_type": "code",
   "execution_count": 9,
   "id": "fb10d171",
   "metadata": {
    "scrolled": true
   },
   "outputs": [
    {
     "data": {
      "text/plain": [
       "Mirai                415677\n",
       "Scan                  75265\n",
       "DoS                   59391\n",
       "Normal                40073\n",
       "MITM ARP Spoofing     35377\n",
       "Name: Cat, dtype: int64"
      ]
     },
     "execution_count": 9,
     "metadata": {},
     "output_type": "execute_result"
    }
   ],
   "source": [
    "df.Cat.value_counts()"
   ]
  },
  {
   "cell_type": "code",
   "execution_count": 10,
   "id": "c086fc90",
   "metadata": {},
   "outputs": [
    {
     "data": {
      "text/plain": [
       "Src_Port           int64\n",
       "Dst_Port           int64\n",
       "Protocol           int64\n",
       "Flow_Duration      int64\n",
       "Tot_Fwd_Pkts       int64\n",
       "                  ...   \n",
       "Idle_Std         float64\n",
       "Idle_Max         float64\n",
       "Idle_Min         float64\n",
       "Label             object\n",
       "Cat               object\n",
       "Length: 81, dtype: object"
      ]
     },
     "execution_count": 10,
     "metadata": {},
     "output_type": "execute_result"
    }
   ],
   "source": [
    "df.dtypes"
   ]
  },
  {
   "cell_type": "code",
   "execution_count": null,
   "id": "7dea954d",
   "metadata": {},
   "outputs": [],
   "source": []
  },
  {
   "cell_type": "code",
   "execution_count": 11,
   "id": "531cb95f",
   "metadata": {},
   "outputs": [],
   "source": [
    "# Z-score normalization\n",
    "features = df.dtypes[df.dtypes != 'object'].index\n",
    "df[features] = df[features].apply(\n",
    "    lambda x: (x - x.mean()) / (x.std()))\n",
    "# Fill empty values by 0\n",
    "df = df.fillna(0)"
   ]
  },
  {
   "cell_type": "code",
   "execution_count": 12,
   "id": "6beb9952",
   "metadata": {},
   "outputs": [
    {
     "name": "stdout",
     "output_type": "stream",
     "text": [
      "缺失值总数： 0\n"
     ]
    }
   ],
   "source": [
    "\n",
    "\n",
    "# 计算每个特征的缺失值数量\n",
    "missing_values_count = df.isnull().sum()\n",
    "\n",
    "# 计算数据集中的缺失值总数\n",
    "total_missing_values = missing_values_count.sum()\n",
    "\n",
    "print(\"缺失值总数：\", total_missing_values)\n"
   ]
  },
  {
   "cell_type": "code",
   "execution_count": 13,
   "id": "0e39e3d0",
   "metadata": {},
   "outputs": [],
   "source": [
    "labelencoder = LabelEncoder()\n",
    "df.iloc[:, -1] = labelencoder.fit_transform(df.iloc[:, -1])\n",
    "df.iloc[:, -2] = labelencoder.fit_transform(df.iloc[:, -2])\n"
   ]
  },
  {
   "cell_type": "code",
   "execution_count": 14,
   "id": "d37cb5c3",
   "metadata": {},
   "outputs": [
    {
     "data": {
      "text/plain": [
       "2    415677\n",
       "4     75265\n",
       "0     59391\n",
       "3     40073\n",
       "1     35377\n",
       "Name: Cat, dtype: int64"
      ]
     },
     "execution_count": 14,
     "metadata": {},
     "output_type": "execute_result"
    }
   ],
   "source": [
    "df.Cat.value_counts()"
   ]
  },
  {
   "cell_type": "code",
   "execution_count": 15,
   "id": "82769102",
   "metadata": {},
   "outputs": [],
   "source": [
    "# df_minor = df[(df['Cat']==1)|(df['Cat']==3)]\n",
    "# df_major = df.drop(df_minor.index)"
   ]
  },
  {
   "cell_type": "code",
   "execution_count": 16,
   "id": "d4a081d4",
   "metadata": {},
   "outputs": [],
   "source": [
    "# df_major.Cat.value_counts()"
   ]
  },
  {
   "cell_type": "code",
   "execution_count": 17,
   "id": "8930fec6",
   "metadata": {},
   "outputs": [],
   "source": [
    "# X = df_major.drop(['Cat'],axis=1) \n",
    "# y = df_major.iloc[:, -1].values.reshape(-1,1)\n",
    "# y=np.ravel(y)\n"
   ]
  },
  {
   "cell_type": "code",
   "execution_count": 18,
   "id": "c5ebe194",
   "metadata": {},
   "outputs": [],
   "source": [
    "X = df.drop(['Cat'],axis=1) \n",
    "y = df.iloc[:, -1].values.reshape(-1,1)\n",
    "y=np.ravel(y)"
   ]
  },
  {
   "cell_type": "code",
   "execution_count": 19,
   "id": "851fe41f",
   "metadata": {},
   "outputs": [],
   "source": [
    "# use k-means to cluster the data samples and select a proportion of data from each cluster\n",
    "from sklearn.cluster import MiniBatchKMeans\n",
    "kmeans = MiniBatchKMeans(n_clusters=1000, random_state=0).fit(X)"
   ]
  },
  {
   "cell_type": "code",
   "execution_count": 20,
   "id": "eb94c4d1",
   "metadata": {},
   "outputs": [],
   "source": [
    "klabel=kmeans.labels_\n",
    "df['klabel']=klabel"
   ]
  },
  {
   "cell_type": "code",
   "execution_count": 21,
   "id": "c990d748",
   "metadata": {},
   "outputs": [
    {
     "data": {
      "text/plain": [
       "617    4303\n",
       "692    4221\n",
       "521    3857\n",
       "209    3834\n",
       "611    3618\n",
       "       ... \n",
       "682       8\n",
       "486       8\n",
       "235       7\n",
       "678       4\n",
       "230       3\n",
       "Name: klabel, Length: 991, dtype: int64"
      ]
     },
     "execution_count": 21,
     "metadata": {},
     "output_type": "execute_result"
    }
   ],
   "source": [
    "df['klabel'].value_counts()"
   ]
  },
  {
   "cell_type": "code",
   "execution_count": 22,
   "id": "66f31972",
   "metadata": {},
   "outputs": [],
   "source": [
    "cols = list(df)\n",
    "cols.insert(81, cols.pop(cols.index('Cat')))\n",
    "df = df.loc[:, cols]"
   ]
  },
  {
   "cell_type": "code",
   "execution_count": 23,
   "id": "058e4073",
   "metadata": {},
   "outputs": [],
   "source": [
    "def typicalSampling(group):\n",
    "    name = group.name\n",
    "    frac = 0.04 \n",
    "    return group.sample(frac=frac)\n",
    "\n",
    "result = df.groupby(\n",
    "    'klabel', group_keys=False\n",
    ").apply(typicalSampling)"
   ]
  },
  {
   "cell_type": "code",
   "execution_count": 24,
   "id": "f4711484",
   "metadata": {},
   "outputs": [
    {
     "data": {
      "text/plain": [
       "2    16652\n",
       "4     3005\n",
       "0     2378\n",
       "3     1591\n",
       "1     1402\n",
       "Name: Cat, dtype: int64"
      ]
     },
     "execution_count": 24,
     "metadata": {},
     "output_type": "execute_result"
    }
   ],
   "source": [
    "result['Cat'].value_counts()"
   ]
  },
  {
   "cell_type": "code",
   "execution_count": 25,
   "id": "045c8055",
   "metadata": {},
   "outputs": [
    {
     "data": {
      "text/html": [
       "<div>\n",
       "<style scoped>\n",
       "    .dataframe tbody tr th:only-of-type {\n",
       "        vertical-align: middle;\n",
       "    }\n",
       "\n",
       "    .dataframe tbody tr th {\n",
       "        vertical-align: top;\n",
       "    }\n",
       "\n",
       "    .dataframe thead th {\n",
       "        text-align: right;\n",
       "    }\n",
       "</style>\n",
       "<table border=\"1\" class=\"dataframe\">\n",
       "  <thead>\n",
       "    <tr style=\"text-align: right;\">\n",
       "      <th></th>\n",
       "      <th>Src_Port</th>\n",
       "      <th>Dst_Port</th>\n",
       "      <th>Protocol</th>\n",
       "      <th>Flow_Duration</th>\n",
       "      <th>Tot_Fwd_Pkts</th>\n",
       "      <th>Tot_Bwd_Pkts</th>\n",
       "      <th>TotLen_Fwd_Pkts</th>\n",
       "      <th>TotLen_Bwd_Pkts</th>\n",
       "      <th>Fwd_Pkt_Len_Max</th>\n",
       "      <th>Fwd_Pkt_Len_Min</th>\n",
       "      <th>...</th>\n",
       "      <th>Active_Std</th>\n",
       "      <th>Active_Max</th>\n",
       "      <th>Active_Min</th>\n",
       "      <th>Idle_Mean</th>\n",
       "      <th>Idle_Std</th>\n",
       "      <th>Idle_Max</th>\n",
       "      <th>Idle_Min</th>\n",
       "      <th>Label</th>\n",
       "      <th>klabel</th>\n",
       "      <th>Cat</th>\n",
       "    </tr>\n",
       "  </thead>\n",
       "  <tbody>\n",
       "    <tr>\n",
       "      <th>244611</th>\n",
       "      <td>0.166896</td>\n",
       "      <td>-0.908473</td>\n",
       "      <td>-0.738205</td>\n",
       "      <td>-0.147973</td>\n",
       "      <td>-0.388765</td>\n",
       "      <td>0.435813</td>\n",
       "      <td>-0.491223</td>\n",
       "      <td>1.135676</td>\n",
       "      <td>-0.633481</td>\n",
       "      <td>-0.591889</td>\n",
       "      <td>...</td>\n",
       "      <td>-0.017052</td>\n",
       "      <td>-0.047774</td>\n",
       "      <td>-0.054003</td>\n",
       "      <td>-0.181974</td>\n",
       "      <td>-0.045443</td>\n",
       "      <td>-0.154733</td>\n",
       "      <td>-0.180787</td>\n",
       "      <td>0</td>\n",
       "      <td>0</td>\n",
       "      <td>2</td>\n",
       "    </tr>\n",
       "    <tr>\n",
       "      <th>558486</th>\n",
       "      <td>0.157026</td>\n",
       "      <td>-0.908473</td>\n",
       "      <td>-0.738205</td>\n",
       "      <td>-0.144255</td>\n",
       "      <td>-0.388765</td>\n",
       "      <td>0.435813</td>\n",
       "      <td>-0.491223</td>\n",
       "      <td>1.135676</td>\n",
       "      <td>-0.633481</td>\n",
       "      <td>-0.591889</td>\n",
       "      <td>...</td>\n",
       "      <td>-0.017052</td>\n",
       "      <td>-0.047774</td>\n",
       "      <td>-0.054003</td>\n",
       "      <td>-0.175822</td>\n",
       "      <td>-0.045443</td>\n",
       "      <td>-0.150197</td>\n",
       "      <td>-0.174058</td>\n",
       "      <td>0</td>\n",
       "      <td>0</td>\n",
       "      <td>2</td>\n",
       "    </tr>\n",
       "    <tr>\n",
       "      <th>413345</th>\n",
       "      <td>0.157026</td>\n",
       "      <td>-0.908473</td>\n",
       "      <td>-0.738205</td>\n",
       "      <td>-0.148831</td>\n",
       "      <td>-0.388765</td>\n",
       "      <td>0.435813</td>\n",
       "      <td>-0.491223</td>\n",
       "      <td>1.135676</td>\n",
       "      <td>-0.633481</td>\n",
       "      <td>-0.591889</td>\n",
       "      <td>...</td>\n",
       "      <td>-0.017052</td>\n",
       "      <td>-0.047774</td>\n",
       "      <td>-0.054003</td>\n",
       "      <td>-0.183394</td>\n",
       "      <td>-0.045443</td>\n",
       "      <td>-0.155779</td>\n",
       "      <td>-0.182340</td>\n",
       "      <td>0</td>\n",
       "      <td>0</td>\n",
       "      <td>2</td>\n",
       "    </tr>\n",
       "    <tr>\n",
       "      <th>293082</th>\n",
       "      <td>0.163660</td>\n",
       "      <td>-0.908473</td>\n",
       "      <td>-0.738205</td>\n",
       "      <td>-0.138822</td>\n",
       "      <td>-0.388765</td>\n",
       "      <td>0.435813</td>\n",
       "      <td>-0.491223</td>\n",
       "      <td>1.135676</td>\n",
       "      <td>-0.633481</td>\n",
       "      <td>-0.591889</td>\n",
       "      <td>...</td>\n",
       "      <td>-0.017052</td>\n",
       "      <td>-0.047774</td>\n",
       "      <td>-0.054003</td>\n",
       "      <td>-0.166830</td>\n",
       "      <td>-0.045443</td>\n",
       "      <td>-0.143569</td>\n",
       "      <td>-0.164223</td>\n",
       "      <td>0</td>\n",
       "      <td>0</td>\n",
       "      <td>2</td>\n",
       "    </tr>\n",
       "    <tr>\n",
       "      <th>418076</th>\n",
       "      <td>0.157026</td>\n",
       "      <td>-0.908473</td>\n",
       "      <td>-0.738205</td>\n",
       "      <td>-0.142253</td>\n",
       "      <td>-0.388765</td>\n",
       "      <td>0.435813</td>\n",
       "      <td>-0.491223</td>\n",
       "      <td>1.135676</td>\n",
       "      <td>-0.633481</td>\n",
       "      <td>-0.591889</td>\n",
       "      <td>...</td>\n",
       "      <td>-0.017052</td>\n",
       "      <td>-0.047774</td>\n",
       "      <td>-0.054003</td>\n",
       "      <td>-0.172509</td>\n",
       "      <td>-0.045443</td>\n",
       "      <td>-0.147755</td>\n",
       "      <td>-0.170435</td>\n",
       "      <td>0</td>\n",
       "      <td>0</td>\n",
       "      <td>2</td>\n",
       "    </tr>\n",
       "    <tr>\n",
       "      <th>...</th>\n",
       "      <td>...</td>\n",
       "      <td>...</td>\n",
       "      <td>...</td>\n",
       "      <td>...</td>\n",
       "      <td>...</td>\n",
       "      <td>...</td>\n",
       "      <td>...</td>\n",
       "      <td>...</td>\n",
       "      <td>...</td>\n",
       "      <td>...</td>\n",
       "      <td>...</td>\n",
       "      <td>...</td>\n",
       "      <td>...</td>\n",
       "      <td>...</td>\n",
       "      <td>...</td>\n",
       "      <td>...</td>\n",
       "      <td>...</td>\n",
       "      <td>...</td>\n",
       "      <td>...</td>\n",
       "      <td>...</td>\n",
       "      <td>...</td>\n",
       "    </tr>\n",
       "    <tr>\n",
       "      <th>370019</th>\n",
       "      <td>-1.051984</td>\n",
       "      <td>2.070041</td>\n",
       "      <td>-0.738205</td>\n",
       "      <td>-0.158840</td>\n",
       "      <td>-0.156745</td>\n",
       "      <td>-0.384201</td>\n",
       "      <td>0.703399</td>\n",
       "      <td>0.264886</td>\n",
       "      <td>1.606761</td>\n",
       "      <td>1.768006</td>\n",
       "      <td>...</td>\n",
       "      <td>-0.017052</td>\n",
       "      <td>-0.047774</td>\n",
       "      <td>-0.054003</td>\n",
       "      <td>-0.199959</td>\n",
       "      <td>-0.045443</td>\n",
       "      <td>-0.167989</td>\n",
       "      <td>-0.200457</td>\n",
       "      <td>0</td>\n",
       "      <td>999</td>\n",
       "      <td>4</td>\n",
       "    </tr>\n",
       "    <tr>\n",
       "      <th>11702</th>\n",
       "      <td>-1.051984</td>\n",
       "      <td>2.070041</td>\n",
       "      <td>-0.738205</td>\n",
       "      <td>-0.159126</td>\n",
       "      <td>-0.156745</td>\n",
       "      <td>-0.384201</td>\n",
       "      <td>0.703399</td>\n",
       "      <td>0.264886</td>\n",
       "      <td>1.606761</td>\n",
       "      <td>1.768006</td>\n",
       "      <td>...</td>\n",
       "      <td>-0.017052</td>\n",
       "      <td>-0.047774</td>\n",
       "      <td>-0.054003</td>\n",
       "      <td>-0.200432</td>\n",
       "      <td>-0.045443</td>\n",
       "      <td>-0.168338</td>\n",
       "      <td>-0.200974</td>\n",
       "      <td>0</td>\n",
       "      <td>999</td>\n",
       "      <td>4</td>\n",
       "    </tr>\n",
       "    <tr>\n",
       "      <th>431396</th>\n",
       "      <td>-1.051984</td>\n",
       "      <td>2.070041</td>\n",
       "      <td>-0.738205</td>\n",
       "      <td>-0.157124</td>\n",
       "      <td>-0.156745</td>\n",
       "      <td>-0.384201</td>\n",
       "      <td>0.703399</td>\n",
       "      <td>0.264886</td>\n",
       "      <td>1.606761</td>\n",
       "      <td>1.768006</td>\n",
       "      <td>...</td>\n",
       "      <td>-0.017052</td>\n",
       "      <td>-0.047774</td>\n",
       "      <td>-0.054003</td>\n",
       "      <td>-0.197119</td>\n",
       "      <td>-0.045443</td>\n",
       "      <td>-0.165896</td>\n",
       "      <td>-0.197351</td>\n",
       "      <td>0</td>\n",
       "      <td>999</td>\n",
       "      <td>4</td>\n",
       "    </tr>\n",
       "    <tr>\n",
       "      <th>134775</th>\n",
       "      <td>-1.051984</td>\n",
       "      <td>2.070041</td>\n",
       "      <td>-0.738205</td>\n",
       "      <td>-0.158554</td>\n",
       "      <td>-0.156745</td>\n",
       "      <td>-0.384201</td>\n",
       "      <td>0.703399</td>\n",
       "      <td>0.264886</td>\n",
       "      <td>1.606761</td>\n",
       "      <td>1.768006</td>\n",
       "      <td>...</td>\n",
       "      <td>-0.017052</td>\n",
       "      <td>-0.047774</td>\n",
       "      <td>-0.054003</td>\n",
       "      <td>-0.199485</td>\n",
       "      <td>-0.045443</td>\n",
       "      <td>-0.167640</td>\n",
       "      <td>-0.199939</td>\n",
       "      <td>0</td>\n",
       "      <td>999</td>\n",
       "      <td>4</td>\n",
       "    </tr>\n",
       "    <tr>\n",
       "      <th>410792</th>\n",
       "      <td>-1.051984</td>\n",
       "      <td>2.070041</td>\n",
       "      <td>-0.738205</td>\n",
       "      <td>-0.157410</td>\n",
       "      <td>-0.156745</td>\n",
       "      <td>-0.384201</td>\n",
       "      <td>0.703399</td>\n",
       "      <td>0.264886</td>\n",
       "      <td>1.606761</td>\n",
       "      <td>1.768006</td>\n",
       "      <td>...</td>\n",
       "      <td>-0.017052</td>\n",
       "      <td>-0.047774</td>\n",
       "      <td>-0.054003</td>\n",
       "      <td>-0.197592</td>\n",
       "      <td>-0.045443</td>\n",
       "      <td>-0.166245</td>\n",
       "      <td>-0.197869</td>\n",
       "      <td>0</td>\n",
       "      <td>999</td>\n",
       "      <td>4</td>\n",
       "    </tr>\n",
       "  </tbody>\n",
       "</table>\n",
       "<p>25028 rows × 82 columns</p>\n",
       "</div>"
      ],
      "text/plain": [
       "        Src_Port  Dst_Port  Protocol  Flow_Duration  Tot_Fwd_Pkts  \\\n",
       "244611  0.166896 -0.908473 -0.738205      -0.147973     -0.388765   \n",
       "558486  0.157026 -0.908473 -0.738205      -0.144255     -0.388765   \n",
       "413345  0.157026 -0.908473 -0.738205      -0.148831     -0.388765   \n",
       "293082  0.163660 -0.908473 -0.738205      -0.138822     -0.388765   \n",
       "418076  0.157026 -0.908473 -0.738205      -0.142253     -0.388765   \n",
       "...          ...       ...       ...            ...           ...   \n",
       "370019 -1.051984  2.070041 -0.738205      -0.158840     -0.156745   \n",
       "11702  -1.051984  2.070041 -0.738205      -0.159126     -0.156745   \n",
       "431396 -1.051984  2.070041 -0.738205      -0.157124     -0.156745   \n",
       "134775 -1.051984  2.070041 -0.738205      -0.158554     -0.156745   \n",
       "410792 -1.051984  2.070041 -0.738205      -0.157410     -0.156745   \n",
       "\n",
       "        Tot_Bwd_Pkts  TotLen_Fwd_Pkts  TotLen_Bwd_Pkts  Fwd_Pkt_Len_Max  \\\n",
       "244611      0.435813        -0.491223         1.135676        -0.633481   \n",
       "558486      0.435813        -0.491223         1.135676        -0.633481   \n",
       "413345      0.435813        -0.491223         1.135676        -0.633481   \n",
       "293082      0.435813        -0.491223         1.135676        -0.633481   \n",
       "418076      0.435813        -0.491223         1.135676        -0.633481   \n",
       "...              ...              ...              ...              ...   \n",
       "370019     -0.384201         0.703399         0.264886         1.606761   \n",
       "11702      -0.384201         0.703399         0.264886         1.606761   \n",
       "431396     -0.384201         0.703399         0.264886         1.606761   \n",
       "134775     -0.384201         0.703399         0.264886         1.606761   \n",
       "410792     -0.384201         0.703399         0.264886         1.606761   \n",
       "\n",
       "        Fwd_Pkt_Len_Min  ...  Active_Std  Active_Max  Active_Min  Idle_Mean  \\\n",
       "244611        -0.591889  ...   -0.017052   -0.047774   -0.054003  -0.181974   \n",
       "558486        -0.591889  ...   -0.017052   -0.047774   -0.054003  -0.175822   \n",
       "413345        -0.591889  ...   -0.017052   -0.047774   -0.054003  -0.183394   \n",
       "293082        -0.591889  ...   -0.017052   -0.047774   -0.054003  -0.166830   \n",
       "418076        -0.591889  ...   -0.017052   -0.047774   -0.054003  -0.172509   \n",
       "...                 ...  ...         ...         ...         ...        ...   \n",
       "370019         1.768006  ...   -0.017052   -0.047774   -0.054003  -0.199959   \n",
       "11702          1.768006  ...   -0.017052   -0.047774   -0.054003  -0.200432   \n",
       "431396         1.768006  ...   -0.017052   -0.047774   -0.054003  -0.197119   \n",
       "134775         1.768006  ...   -0.017052   -0.047774   -0.054003  -0.199485   \n",
       "410792         1.768006  ...   -0.017052   -0.047774   -0.054003  -0.197592   \n",
       "\n",
       "        Idle_Std  Idle_Max  Idle_Min  Label  klabel  Cat  \n",
       "244611 -0.045443 -0.154733 -0.180787      0       0    2  \n",
       "558486 -0.045443 -0.150197 -0.174058      0       0    2  \n",
       "413345 -0.045443 -0.155779 -0.182340      0       0    2  \n",
       "293082 -0.045443 -0.143569 -0.164223      0       0    2  \n",
       "418076 -0.045443 -0.147755 -0.170435      0       0    2  \n",
       "...          ...       ...       ...    ...     ...  ...  \n",
       "370019 -0.045443 -0.167989 -0.200457      0     999    4  \n",
       "11702  -0.045443 -0.168338 -0.200974      0     999    4  \n",
       "431396 -0.045443 -0.165896 -0.197351      0     999    4  \n",
       "134775 -0.045443 -0.167640 -0.199939      0     999    4  \n",
       "410792 -0.045443 -0.166245 -0.197869      0     999    4  \n",
       "\n",
       "[25028 rows x 82 columns]"
      ]
     },
     "execution_count": 25,
     "metadata": {},
     "output_type": "execute_result"
    }
   ],
   "source": [
    "result"
   ]
  },
  {
   "cell_type": "code",
   "execution_count": 26,
   "id": "323134be",
   "metadata": {},
   "outputs": [],
   "source": [
    "result = result.drop(['klabel'],axis=1)\n",
    "#result = result.append(df_minor)"
   ]
  },
  {
   "cell_type": "code",
   "execution_count": 27,
   "id": "3b98e4b0",
   "metadata": {},
   "outputs": [
    {
     "data": {
      "text/plain": [
       "2    16652\n",
       "4     3005\n",
       "0     2378\n",
       "3     1591\n",
       "1     1402\n",
       "Name: Cat, dtype: int64"
      ]
     },
     "execution_count": 27,
     "metadata": {},
     "output_type": "execute_result"
    }
   ],
   "source": [
    "result['Cat'].value_counts()"
   ]
  },
  {
   "cell_type": "code",
   "execution_count": 28,
   "id": "eed93331",
   "metadata": {},
   "outputs": [],
   "source": [
    "result.to_csv('./data/IoTID20_sample_km.csv',index=0)"
   ]
  },
  {
   "cell_type": "code",
   "execution_count": 55,
   "id": "4f478a9f",
   "metadata": {},
   "outputs": [],
   "source": [
    "df=pd.read_csv('./data/IoTID20_sample_km.csv')"
   ]
  },
  {
   "cell_type": "code",
   "execution_count": 56,
   "id": "19c0f62a",
   "metadata": {},
   "outputs": [],
   "source": [
    "X = df.drop(['Cat'],axis=1).values\n",
    "y = df.iloc[:, -1].values.reshape(-1,1)\n",
    "y=np.ravel(y)"
   ]
  },
  {
   "cell_type": "code",
   "execution_count": 57,
   "id": "8bc8f4c0",
   "metadata": {},
   "outputs": [],
   "source": [
    "X_train, X_test, y_train, y_test = train_test_split(X,y, train_size = 0.8, test_size = 0.2, random_state = 0,stratify = y)"
   ]
  },
  {
   "cell_type": "code",
   "execution_count": 58,
   "id": "5a83502c",
   "metadata": {},
   "outputs": [],
   "source": [
    "# Prepare the result output\n",
    "output_df = pd.DataFrame(columns=['Accuracy', 'Precision', 'Recall', 'F1-Score', 'Train_time', 'Predict_time_per_record', 'HPO_time'])\n",
    "output_index = list()"
   ]
  },
  {
   "cell_type": "code",
   "execution_count": 59,
   "id": "2727901b",
   "metadata": {},
   "outputs": [],
   "source": [
    "from sklearn.feature_selection import mutual_info_classif\n",
    "importances = mutual_info_classif(X_train, y_train)"
   ]
  },
  {
   "cell_type": "code",
   "execution_count": 60,
   "id": "2e6d355a",
   "metadata": {},
   "outputs": [],
   "source": [
    "# calculate the sum of importance scores\n",
    "f_list = sorted(zip(map(lambda x: round(x, 4), importances), features), reverse=True)\n",
    "Sum = 0\n",
    "fs = []\n",
    "for i in range(0, len(f_list)):\n",
    "    Sum = Sum + f_list[i][0]\n",
    "    fs.append(f_list[i][1])"
   ]
  },
  {
   "cell_type": "code",
   "execution_count": 61,
   "id": "e701dc65",
   "metadata": {},
   "outputs": [],
   "source": [
    "# select the important features from top to bottom until the accumulated importance reaches 90%\n",
    "f_list2 = sorted(zip(map(lambda x: round(x, 4), importances/Sum), features), reverse=True)\n",
    "Sum2 = 0\n",
    "fs = []\n",
    "for i in range(0, len(f_list2)):\n",
    "    Sum2 = Sum2 + f_list2[i][0]\n",
    "    fs.append(f_list2[i][1])\n",
    "    if Sum2>=0.9:\n",
    "        break        "
   ]
  },
  {
   "cell_type": "code",
   "execution_count": 62,
   "id": "92bcafbb",
   "metadata": {},
   "outputs": [],
   "source": [
    "X_fs = df[fs].values"
   ]
  },
  {
   "cell_type": "code",
   "execution_count": 63,
   "id": "2e4a725c",
   "metadata": {},
   "outputs": [
    {
     "data": {
      "text/plain": [
       "(25028, 39)"
      ]
     },
     "execution_count": 63,
     "metadata": {},
     "output_type": "execute_result"
    }
   ],
   "source": [
    "X_fs.shape"
   ]
  },
  {
   "cell_type": "code",
   "execution_count": 64,
   "id": "294f4d4b",
   "metadata": {},
   "outputs": [],
   "source": [
    "from FCBF_module import FCBF, FCBFK, FCBFiP, get_i\n",
    "fcbf = FCBFK(k = 20)\n",
    "#fcbf.fit(X_fs, y)"
   ]
  },
  {
   "cell_type": "code",
   "execution_count": 65,
   "id": "ec942964",
   "metadata": {},
   "outputs": [],
   "source": [
    "import datetime\n",
    "start = datetime.datetime.now()"
   ]
  },
  {
   "cell_type": "code",
   "execution_count": 66,
   "id": "3cdfad4c",
   "metadata": {},
   "outputs": [],
   "source": [
    "X_fss = fcbf.fit_transform(X_fs,y)"
   ]
  },
  {
   "cell_type": "code",
   "execution_count": 67,
   "id": "ac086ae6",
   "metadata": {},
   "outputs": [
    {
     "name": "stdout",
     "output_type": "stream",
     "text": [
      "程序运行时间：13秒\n"
     ]
    }
   ],
   "source": [
    "end = datetime.datetime.now()\n",
    "print(\"程序运行时间：\"+str((end-start).seconds)+\"秒\")"
   ]
  },
  {
   "cell_type": "code",
   "execution_count": 68,
   "id": "9a4bb152",
   "metadata": {},
   "outputs": [
    {
     "data": {
      "text/plain": [
       "(25028, 20)"
      ]
     },
     "execution_count": 68,
     "metadata": {},
     "output_type": "execute_result"
    }
   ],
   "source": [
    "X_fss.shape"
   ]
  },
  {
   "cell_type": "code",
   "execution_count": 69,
   "id": "d6d13185",
   "metadata": {},
   "outputs": [],
   "source": [
    "X_train, X_test, y_train, y_test = train_test_split(X_fss,y, train_size = 0.8, test_size = 0.2, random_state = 0,stratify = y)"
   ]
  },
  {
   "cell_type": "code",
   "execution_count": 70,
   "id": "3abacae0",
   "metadata": {},
   "outputs": [
    {
     "data": {
      "text/plain": [
       "(20022, 20)"
      ]
     },
     "execution_count": 70,
     "metadata": {},
     "output_type": "execute_result"
    }
   ],
   "source": [
    "X_train.shape"
   ]
  },
  {
   "cell_type": "code",
   "execution_count": 71,
   "id": "44e5bf69",
   "metadata": {},
   "outputs": [
    {
     "data": {
      "text/plain": [
       "2    13321\n",
       "4     2404\n",
       "0     1902\n",
       "3     1273\n",
       "1     1122\n",
       "dtype: int64"
      ]
     },
     "execution_count": 71,
     "metadata": {},
     "output_type": "execute_result"
    }
   ],
   "source": [
    "pd.Series(y_train).value_counts()"
   ]
  },
  {
   "cell_type": "code",
   "execution_count": 75,
   "id": "489bee49",
   "metadata": {},
   "outputs": [
    {
     "data": {
      "text/plain": [
       "(20022,)"
      ]
     },
     "execution_count": 75,
     "metadata": {},
     "output_type": "execute_result"
    }
   ],
   "source": [
    "y_train.shape"
   ]
  },
  {
   "attachments": {},
   "cell_type": "markdown",
   "id": "9dae228a",
   "metadata": {},
   "source": [
    "### SMOTE to solve class-imbalance"
   ]
  },
  {
   "cell_type": "code",
   "execution_count": 83,
   "id": "16443b80",
   "metadata": {},
   "outputs": [
    {
     "name": "stdout",
     "output_type": "stream",
     "text": [
      "2023-03-25 18:06:43.392584: processing dataset: IDS\n"
     ]
    },
    {
     "ename": "ValueError",
     "evalue": "y_true and y_pred contain different number of classes 5, 2. Please provide the true labels explicitly through the labels argument. Classes found in y_true: [0 1 2 3 4]",
     "output_type": "error",
     "traceback": [
      "\u001b[1;31m---------------------------------------------------------------------------\u001b[0m",
      "\u001b[1;31m_RemoteTraceback\u001b[0m                          Traceback (most recent call last)",
      "\u001b[1;31m_RemoteTraceback\u001b[0m: \n\"\"\"\nTraceback (most recent call last):\n  File \"c:\\Users\\FOCUS\\.conda\\envs\\tf2\\lib\\site-packages\\joblib\\externals\\loky\\process_executor.py\", line 436, in _process_worker\n    r = call_item()\n  File \"c:\\Users\\FOCUS\\.conda\\envs\\tf2\\lib\\site-packages\\joblib\\externals\\loky\\process_executor.py\", line 288, in __call__\n    return self.fn(*self.args, **self.kwargs)\n  File \"c:\\Users\\FOCUS\\.conda\\envs\\tf2\\lib\\site-packages\\joblib\\_parallel_backends.py\", line 595, in __call__\n    return self.func(*args, **kwargs)\n  File \"c:\\Users\\FOCUS\\.conda\\envs\\tf2\\lib\\site-packages\\joblib\\parallel.py\", line 262, in __call__\n    return [func(*args, **kwargs)\n  File \"c:\\Users\\FOCUS\\.conda\\envs\\tf2\\lib\\site-packages\\joblib\\parallel.py\", line 262, in <listcomp>\n    return [func(*args, **kwargs)\n  File \"c:\\Users\\FOCUS\\.conda\\envs\\tf2\\lib\\site-packages\\smote_variants\\evaluation\\_functions.py\", line 68, in execute_1_job\n    results.extend(job.do_evaluation())\n  File \"c:\\Users\\FOCUS\\.conda\\envs\\tf2\\lib\\site-packages\\smote_variants\\evaluation\\_evaluation.py\", line 152, in do_evaluation\n    'scores': calculate_all_scores(oversampling['y_test'],\n  File \"c:\\Users\\FOCUS\\.conda\\envs\\tf2\\lib\\site-packages\\smote_variants\\base\\_metrics.py\", line 210, in calculate_all_scores\n    results = {**results, **calculate_prob_scores(test_labels,\n  File \"c:\\Users\\FOCUS\\.conda\\envs\\tf2\\lib\\site-packages\\smote_variants\\base\\_metrics.py\", line 190, in calculate_prob_scores\n    results['log_loss'] = float(log_loss(test_labels, probabilities))\n  File \"c:\\Users\\FOCUS\\.conda\\envs\\tf2\\lib\\site-packages\\sklearn\\metrics\\_classification.py\", line 2439, in log_loss\n    raise ValueError(\nValueError: y_true and y_pred contain different number of classes 5, 2. Please provide the true labels explicitly through the labels argument. Classes found in y_true: [0 1 2 3 4]\n\"\"\"",
      "\nThe above exception was the direct cause of the following exception:\n",
      "\u001b[1;31mValueError\u001b[0m                                Traceback (most recent call last)",
      "\u001b[1;32md:\\Project\\IDS\\IDS_project副本\\MTH-IDS_Adoptation_IoTID20\\MTH_IoTID20.ipynb 单元格 49\u001b[0m in \u001b[0;36m<cell line: 41>\u001b[1;34m()\u001b[0m\n\u001b[0;32m     <a href='vscode-notebook-cell:/d%3A/Project/IDS/IDS_project%E5%89%AF%E6%9C%AC/MTH-IDS_Adoptation_IoTID20/MTH_IoTID20.ipynb#Y201sZmlsZQ%3D%3D?line=35'>36</a>\u001b[0m os_params \u001b[39m=\u001b[39m sv\u001b[39m.\u001b[39mqueries\u001b[39m.\u001b[39mgenerate_parameter_combinations(oversamplers,\n\u001b[0;32m     <a href='vscode-notebook-cell:/d%3A/Project/IDS/IDS_project%E5%89%AF%E6%9C%AC/MTH-IDS_Adoptation_IoTID20/MTH_IoTID20.ipynb#Y201sZmlsZQ%3D%3D?line=36'>37</a>\u001b[0m                                                       n_max_comb\u001b[39m=\u001b[39m\u001b[39m2\u001b[39m)\n\u001b[0;32m     <a href='vscode-notebook-cell:/d%3A/Project/IDS/IDS_project%E5%89%AF%E6%9C%AC/MTH-IDS_Adoptation_IoTID20/MTH_IoTID20.ipynb#Y201sZmlsZQ%3D%3D?line=38'>39</a>\u001b[0m \u001b[39m# samp_obj and cl_obj contain the oversampling and classifier objects which give the\u001b[39;00m\n\u001b[0;32m     <a href='vscode-notebook-cell:/d%3A/Project/IDS/IDS_project%E5%89%AF%E6%9C%AC/MTH-IDS_Adoptation_IoTID20/MTH_IoTID20.ipynb#Y201sZmlsZQ%3D%3D?line=39'>40</a>\u001b[0m \u001b[39m# best performance together\u001b[39;00m\n\u001b[1;32m---> <a href='vscode-notebook-cell:/d%3A/Project/IDS/IDS_project%E5%89%AF%E6%9C%AC/MTH-IDS_Adoptation_IoTID20/MTH_IoTID20.ipynb#Y201sZmlsZQ%3D%3D?line=40'>41</a>\u001b[0m samp_obj, cl_obj\u001b[39m=\u001b[39m sv\u001b[39m.\u001b[39;49mevaluation\u001b[39m.\u001b[39;49mmodel_selection(dataset\u001b[39m=\u001b[39;49mdataset,\n\u001b[0;32m     <a href='vscode-notebook-cell:/d%3A/Project/IDS/IDS_project%E5%89%AF%E6%9C%AC/MTH-IDS_Adoptation_IoTID20/MTH_IoTID20.ipynb#Y201sZmlsZQ%3D%3D?line=41'>42</a>\u001b[0m                                                 oversamplers\u001b[39m=\u001b[39;49mos_params,\n\u001b[0;32m     <a href='vscode-notebook-cell:/d%3A/Project/IDS/IDS_project%E5%89%AF%E6%9C%AC/MTH-IDS_Adoptation_IoTID20/MTH_IoTID20.ipynb#Y201sZmlsZQ%3D%3D?line=42'>43</a>\u001b[0m                                                 classifiers\u001b[39m=\u001b[39;49mclassifiers,\n\u001b[0;32m     <a href='vscode-notebook-cell:/d%3A/Project/IDS/IDS_project%E5%89%AF%E6%9C%AC/MTH-IDS_Adoptation_IoTID20/MTH_IoTID20.ipynb#Y201sZmlsZQ%3D%3D?line=43'>44</a>\u001b[0m                                                 validator_params\u001b[39m=\u001b[39;49m{\u001b[39m'\u001b[39;49m\u001b[39mn_splits\u001b[39;49m\u001b[39m'\u001b[39;49m: \u001b[39m100\u001b[39;49m,\n\u001b[0;32m     <a href='vscode-notebook-cell:/d%3A/Project/IDS/IDS_project%E5%89%AF%E6%9C%AC/MTH-IDS_Adoptation_IoTID20/MTH_IoTID20.ipynb#Y201sZmlsZQ%3D%3D?line=44'>45</a>\u001b[0m                                                                   \u001b[39m'\u001b[39;49m\u001b[39mn_repeats\u001b[39;49m\u001b[39m'\u001b[39;49m: \u001b[39m5\u001b[39;49m},\n\u001b[0;32m     <a href='vscode-notebook-cell:/d%3A/Project/IDS/IDS_project%E5%89%AF%E6%9C%AC/MTH-IDS_Adoptation_IoTID20/MTH_IoTID20.ipynb#Y201sZmlsZQ%3D%3D?line=45'>46</a>\u001b[0m                                                 n_jobs\u001b[39m=\u001b[39;49m \u001b[39m5\u001b[39;49m)\n\u001b[0;32m     <a href='vscode-notebook-cell:/d%3A/Project/IDS/IDS_project%E5%89%AF%E6%9C%AC/MTH-IDS_Adoptation_IoTID20/MTH_IoTID20.ipynb#Y201sZmlsZQ%3D%3D?line=47'>48</a>\u001b[0m \u001b[39m# training the best techniques using the entire dataset\u001b[39;00m\n\u001b[0;32m     <a href='vscode-notebook-cell:/d%3A/Project/IDS/IDS_project%E5%89%AF%E6%9C%AC/MTH-IDS_Adoptation_IoTID20/MTH_IoTID20.ipynb#Y201sZmlsZQ%3D%3D?line=48'>49</a>\u001b[0m X_samp, y_samp\u001b[39m=\u001b[39m samp_obj\u001b[39m.\u001b[39msample(X_train,\n\u001b[0;32m     <a href='vscode-notebook-cell:/d%3A/Project/IDS/IDS_project%E5%89%AF%E6%9C%AC/MTH-IDS_Adoptation_IoTID20/MTH_IoTID20.ipynb#Y201sZmlsZQ%3D%3D?line=49'>50</a>\u001b[0m                                 y_train)\n",
      "File \u001b[1;32mc:\\Users\\FOCUS\\.conda\\envs\\tf2\\lib\\site-packages\\smote_variants\\evaluation\\_functions.py:582\u001b[0m, in \u001b[0;36mmodel_selection\u001b[1;34m(dataset, oversamplers, classifiers, score, cache_path, validator_params, scaler, serialization, clean_up, n_jobs, timeout)\u001b[0m\n\u001b[0;32m    523\u001b[0m \u001b[39mdef\u001b[39;00m \u001b[39mmodel_selection\u001b[39m(dataset,\n\u001b[0;32m    524\u001b[0m                     oversamplers,\n\u001b[0;32m    525\u001b[0m                     classifiers,\n\u001b[1;32m   (...)\u001b[0m\n\u001b[0;32m    535\u001b[0m                     n_jobs\u001b[39m=\u001b[39m\u001b[39m1\u001b[39m,\n\u001b[0;32m    536\u001b[0m                     timeout\u001b[39m=\u001b[39m\u001b[39m-\u001b[39m\u001b[39m1\u001b[39m):\n\u001b[0;32m    537\u001b[0m     \u001b[39m\"\"\"\u001b[39;00m\n\u001b[0;32m    538\u001b[0m \u001b[39m    Executes model selection using various classifiers on\u001b[39;00m\n\u001b[0;32m    539\u001b[0m \u001b[39m    various datasets\u001b[39;00m\n\u001b[1;32m   (...)\u001b[0m\n\u001b[0;32m    580\u001b[0m \u001b[39m                                       classifiers)\u001b[39;00m\n\u001b[0;32m    581\u001b[0m \u001b[39m    \"\"\"\u001b[39;00m\n\u001b[1;32m--> 582\u001b[0m     pdf \u001b[39m=\u001b[39m evaluate_oversamplers(datasets\u001b[39m=\u001b[39;49m[dataset],\n\u001b[0;32m    583\u001b[0m                                     oversamplers\u001b[39m=\u001b[39;49moversamplers,\n\u001b[0;32m    584\u001b[0m                                     classifiers\u001b[39m=\u001b[39;49mclassifiers,\n\u001b[0;32m    585\u001b[0m                                     cache_path\u001b[39m=\u001b[39;49mcache_path,\n\u001b[0;32m    586\u001b[0m                                     validator_params\u001b[39m=\u001b[39;49mvalidator_params,\n\u001b[0;32m    587\u001b[0m                                     scaler\u001b[39m=\u001b[39;49mscaler,\n\u001b[0;32m    588\u001b[0m                                     serialization\u001b[39m=\u001b[39;49mserialization,\n\u001b[0;32m    589\u001b[0m                                     clean_up\u001b[39m=\u001b[39;49mclean_up,\n\u001b[0;32m    590\u001b[0m                                     n_jobs\u001b[39m=\u001b[39;49mn_jobs,\n\u001b[0;32m    591\u001b[0m                                     parse_results\u001b[39m=\u001b[39;49m\u001b[39mTrue\u001b[39;49;00m,\n\u001b[0;32m    592\u001b[0m                                     timeout\u001b[39m=\u001b[39;49mtimeout)\n\u001b[0;32m    594\u001b[0m     pdf \u001b[39m=\u001b[39m pdf\u001b[39m.\u001b[39mgroupby([\u001b[39m'\u001b[39m\u001b[39mdataset\u001b[39m\u001b[39m'\u001b[39m, \u001b[39m'\u001b[39m\u001b[39moversampler\u001b[39m\u001b[39m'\u001b[39m, \u001b[39m'\u001b[39m\u001b[39moversampler_module\u001b[39m\u001b[39m'\u001b[39m,\n\u001b[0;32m    595\u001b[0m                         \u001b[39m'\u001b[39m\u001b[39mclassifier\u001b[39m\u001b[39m'\u001b[39m, \u001b[39m'\u001b[39m\u001b[39mclassifier_module\u001b[39m\u001b[39m'\u001b[39m])\\\n\u001b[0;32m    596\u001b[0m                         \u001b[39m.\u001b[39mapply(_pivot_best_scores)\\\n\u001b[0;32m    597\u001b[0m                         \u001b[39m.\u001b[39mreset_index(drop\u001b[39m=\u001b[39m\u001b[39mFalse\u001b[39;00m)\\\n\u001b[0;32m    598\u001b[0m                         \u001b[39m.\u001b[39mdrop(\u001b[39m'\u001b[39m\u001b[39mlevel_5\u001b[39m\u001b[39m'\u001b[39m, axis\u001b[39m=\u001b[39m\u001b[39m'\u001b[39m\u001b[39mcolumns\u001b[39m\u001b[39m'\u001b[39m)\n\u001b[0;32m    600\u001b[0m     best_row \u001b[39m=\u001b[39m pdf[pdf[\u001b[39mf\u001b[39m\u001b[39m'\u001b[39m\u001b[39m{\u001b[39;00mscore\u001b[39m}\u001b[39;00m\u001b[39m_mean\u001b[39m\u001b[39m'\u001b[39m] \u001b[39m==\u001b[39m pdf[\u001b[39mf\u001b[39m\u001b[39m'\u001b[39m\u001b[39m{\u001b[39;00mscore\u001b[39m}\u001b[39;00m\u001b[39m_mean\u001b[39m\u001b[39m'\u001b[39m]\u001b[39m.\u001b[39mmax()]\u001b[39m.\u001b[39miloc[\u001b[39m0\u001b[39m]\n",
      "File \u001b[1;32mc:\\Users\\FOCUS\\.conda\\envs\\tf2\\lib\\site-packages\\smote_variants\\evaluation\\_functions.py:508\u001b[0m, in \u001b[0;36mevaluate_oversamplers\u001b[1;34m(datasets, oversamplers, classifiers, cache_path, validator_params, scaler, serialization, clean_up, n_jobs, timeout, parse_results, explicit_gc, verbosity)\u001b[0m\n\u001b[0;32m    505\u001b[0m \u001b[39mfor\u001b[39;00m dataset \u001b[39min\u001b[39;00m datasets:\n\u001b[0;32m    506\u001b[0m     _verbose_logging(\u001b[39mf\u001b[39m\u001b[39m\"\u001b[39m\u001b[39mprocessing dataset: \u001b[39m\u001b[39m{\u001b[39;00mdataset[\u001b[39m'\u001b[39m\u001b[39mname\u001b[39m\u001b[39m'\u001b[39m]\u001b[39m}\u001b[39;00m\u001b[39m\"\u001b[39m, verbosity)\n\u001b[1;32m--> 508\u001b[0m     all_results\u001b[39m.\u001b[39mextend(evaluate_oversampler_on_dataset(dataset\u001b[39m=\u001b[39;49mdataset,\n\u001b[0;32m    509\u001b[0m                                                         oversamplers\u001b[39m=\u001b[39;49moversamplers,\n\u001b[0;32m    510\u001b[0m                                                         classifiers\u001b[39m=\u001b[39;49mclassifiers,\n\u001b[0;32m    511\u001b[0m                                                         cache_path\u001b[39m=\u001b[39;49mcache_path,\n\u001b[0;32m    512\u001b[0m                                                         validator_params\u001b[39m=\u001b[39;49mvalidator_params,\n\u001b[0;32m    513\u001b[0m                                                         scaler\u001b[39m=\u001b[39;49mscaler,\n\u001b[0;32m    514\u001b[0m                                                         serialization\u001b[39m=\u001b[39;49mserialization,\n\u001b[0;32m    515\u001b[0m                                                         clean_up\u001b[39m=\u001b[39;49mclean_up,\n\u001b[0;32m    516\u001b[0m                                                         n_jobs\u001b[39m=\u001b[39;49mn_jobs,\n\u001b[0;32m    517\u001b[0m                                                         timeout\u001b[39m=\u001b[39;49mtimeout,\n\u001b[0;32m    518\u001b[0m                                                         explicit_gc\u001b[39m=\u001b[39;49mexplicit_gc))\n\u001b[0;32m    520\u001b[0m all_results \u001b[39m=\u001b[39m _unify_lists(all_results)\n\u001b[0;32m    521\u001b[0m \u001b[39mreturn\u001b[39;00m do_parse_results(all_results, parse_results, serialization)\n",
      "File \u001b[1;32mc:\\Users\\FOCUS\\.conda\\envs\\tf2\\lib\\site-packages\\smote_variants\\evaluation\\_functions.py:410\u001b[0m, in \u001b[0;36mevaluate_oversampler_on_dataset\u001b[1;34m(dataset, oversamplers, classifiers, cache_path, validator_params, scaler, serialization, clean_up, n_jobs, timeout, explicit_gc)\u001b[0m\n\u001b[0;32m    404\u001b[0m folding \u001b[39m=\u001b[39m Folding(dataset,\n\u001b[0;32m    405\u001b[0m                     cache_path\u001b[39m=\u001b[39mcache_path,\n\u001b[0;32m    406\u001b[0m                     validator_params\u001b[39m=\u001b[39mvalidator_params,\n\u001b[0;32m    407\u001b[0m                     serialization\u001b[39m=\u001b[39mserialization)\n\u001b[0;32m    409\u001b[0m \u001b[39mif\u001b[39;00m cache_path \u001b[39mis\u001b[39;00m \u001b[39mNone\u001b[39;00m:\n\u001b[1;32m--> 410\u001b[0m     all_results\u001b[39m.\u001b[39mextend(Parallel(n_jobs\u001b[39m=\u001b[39;49mn_jobs,\n\u001b[0;32m    411\u001b[0m                                 batch_size\u001b[39m=\u001b[39;49m\u001b[39m1\u001b[39;49m)(delayed(execute_1_job)(fold,\n\u001b[0;32m    412\u001b[0m                                                                 oversamplers,\n\u001b[0;32m    413\u001b[0m                                                                 scaler,\n\u001b[0;32m    414\u001b[0m                                                                 classifiers,\n\u001b[0;32m    415\u001b[0m                                                                 serialization)\n\u001b[0;32m    416\u001b[0m                                                 \u001b[39mfor\u001b[39;49;00m fold \u001b[39min\u001b[39;49;00m folding\u001b[39m.\u001b[39;49mfold()))\n\u001b[0;32m    418\u001b[0m \u001b[39melse\u001b[39;00m:\n\u001b[0;32m    419\u001b[0m     all_results\u001b[39m.\u001b[39mextend(cached_evaluation(folding\u001b[39m=\u001b[39mfolding,\n\u001b[0;32m    420\u001b[0m                                         oversamplers\u001b[39m=\u001b[39moversamplers,\n\u001b[0;32m    421\u001b[0m                                         classifiers\u001b[39m=\u001b[39mclassifiers,\n\u001b[1;32m   (...)\u001b[0m\n\u001b[0;32m    426\u001b[0m                                         timeout\u001b[39m=\u001b[39mtimeout,\n\u001b[0;32m    427\u001b[0m                                         clean_up\u001b[39m=\u001b[39mclean_up))\n",
      "File \u001b[1;32mc:\\Users\\FOCUS\\.conda\\envs\\tf2\\lib\\site-packages\\joblib\\parallel.py:1056\u001b[0m, in \u001b[0;36mParallel.__call__\u001b[1;34m(self, iterable)\u001b[0m\n\u001b[0;32m   1053\u001b[0m     \u001b[39mself\u001b[39m\u001b[39m.\u001b[39m_iterating \u001b[39m=\u001b[39m \u001b[39mFalse\u001b[39;00m\n\u001b[0;32m   1055\u001b[0m \u001b[39mwith\u001b[39;00m \u001b[39mself\u001b[39m\u001b[39m.\u001b[39m_backend\u001b[39m.\u001b[39mretrieval_context():\n\u001b[1;32m-> 1056\u001b[0m     \u001b[39mself\u001b[39;49m\u001b[39m.\u001b[39;49mretrieve()\n\u001b[0;32m   1057\u001b[0m \u001b[39m# Make sure that we get a last message telling us we are done\u001b[39;00m\n\u001b[0;32m   1058\u001b[0m elapsed_time \u001b[39m=\u001b[39m time\u001b[39m.\u001b[39mtime() \u001b[39m-\u001b[39m \u001b[39mself\u001b[39m\u001b[39m.\u001b[39m_start_time\n",
      "File \u001b[1;32mc:\\Users\\FOCUS\\.conda\\envs\\tf2\\lib\\site-packages\\joblib\\parallel.py:935\u001b[0m, in \u001b[0;36mParallel.retrieve\u001b[1;34m(self)\u001b[0m\n\u001b[0;32m    933\u001b[0m \u001b[39mtry\u001b[39;00m:\n\u001b[0;32m    934\u001b[0m     \u001b[39mif\u001b[39;00m \u001b[39mgetattr\u001b[39m(\u001b[39mself\u001b[39m\u001b[39m.\u001b[39m_backend, \u001b[39m'\u001b[39m\u001b[39msupports_timeout\u001b[39m\u001b[39m'\u001b[39m, \u001b[39mFalse\u001b[39;00m):\n\u001b[1;32m--> 935\u001b[0m         \u001b[39mself\u001b[39m\u001b[39m.\u001b[39m_output\u001b[39m.\u001b[39mextend(job\u001b[39m.\u001b[39;49mget(timeout\u001b[39m=\u001b[39;49m\u001b[39mself\u001b[39;49m\u001b[39m.\u001b[39;49mtimeout))\n\u001b[0;32m    936\u001b[0m     \u001b[39melse\u001b[39;00m:\n\u001b[0;32m    937\u001b[0m         \u001b[39mself\u001b[39m\u001b[39m.\u001b[39m_output\u001b[39m.\u001b[39mextend(job\u001b[39m.\u001b[39mget())\n",
      "File \u001b[1;32mc:\\Users\\FOCUS\\.conda\\envs\\tf2\\lib\\site-packages\\joblib\\_parallel_backends.py:542\u001b[0m, in \u001b[0;36mLokyBackend.wrap_future_result\u001b[1;34m(future, timeout)\u001b[0m\n\u001b[0;32m    539\u001b[0m \u001b[39m\"\"\"Wrapper for Future.result to implement the same behaviour as\u001b[39;00m\n\u001b[0;32m    540\u001b[0m \u001b[39mAsyncResults.get from multiprocessing.\"\"\"\u001b[39;00m\n\u001b[0;32m    541\u001b[0m \u001b[39mtry\u001b[39;00m:\n\u001b[1;32m--> 542\u001b[0m     \u001b[39mreturn\u001b[39;00m future\u001b[39m.\u001b[39;49mresult(timeout\u001b[39m=\u001b[39;49mtimeout)\n\u001b[0;32m    543\u001b[0m \u001b[39mexcept\u001b[39;00m CfTimeoutError \u001b[39mas\u001b[39;00m e:\n\u001b[0;32m    544\u001b[0m     \u001b[39mraise\u001b[39;00m \u001b[39mTimeoutError\u001b[39;00m \u001b[39mfrom\u001b[39;00m \u001b[39me\u001b[39;00m\n",
      "File \u001b[1;32mc:\\Users\\FOCUS\\.conda\\envs\\tf2\\lib\\concurrent\\futures\\_base.py:444\u001b[0m, in \u001b[0;36mFuture.result\u001b[1;34m(self, timeout)\u001b[0m\n\u001b[0;32m    442\u001b[0m     \u001b[39mraise\u001b[39;00m CancelledError()\n\u001b[0;32m    443\u001b[0m \u001b[39melif\u001b[39;00m \u001b[39mself\u001b[39m\u001b[39m.\u001b[39m_state \u001b[39m==\u001b[39m FINISHED:\n\u001b[1;32m--> 444\u001b[0m     \u001b[39mreturn\u001b[39;00m \u001b[39mself\u001b[39;49m\u001b[39m.\u001b[39;49m__get_result()\n\u001b[0;32m    445\u001b[0m \u001b[39melse\u001b[39;00m:\n\u001b[0;32m    446\u001b[0m     \u001b[39mraise\u001b[39;00m \u001b[39mTimeoutError\u001b[39;00m()\n",
      "File \u001b[1;32mc:\\Users\\FOCUS\\.conda\\envs\\tf2\\lib\\concurrent\\futures\\_base.py:389\u001b[0m, in \u001b[0;36mFuture.__get_result\u001b[1;34m(self)\u001b[0m\n\u001b[0;32m    387\u001b[0m \u001b[39mif\u001b[39;00m \u001b[39mself\u001b[39m\u001b[39m.\u001b[39m_exception:\n\u001b[0;32m    388\u001b[0m     \u001b[39mtry\u001b[39;00m:\n\u001b[1;32m--> 389\u001b[0m         \u001b[39mraise\u001b[39;00m \u001b[39mself\u001b[39m\u001b[39m.\u001b[39m_exception\n\u001b[0;32m    390\u001b[0m     \u001b[39mfinally\u001b[39;00m:\n\u001b[0;32m    391\u001b[0m         \u001b[39m# Break a reference cycle with the exception in self._exception\u001b[39;00m\n\u001b[0;32m    392\u001b[0m         \u001b[39mself\u001b[39m \u001b[39m=\u001b[39m \u001b[39mNone\u001b[39;00m\n",
      "\u001b[1;31mValueError\u001b[0m: y_true and y_pred contain different number of classes 5, 2. Please provide the true labels explicitly through the labels argument. Classes found in y_true: [0 1 2 3 4]"
     ]
    }
   ],
   "source": [
    "# from sklearn.neighbors import KNeighborsClassifier\n",
    "# from sklearn.tree import DecisionTreeClassifier\n",
    "# import smote_variants as sv\n",
    "# import sklearn.datasets as datasets\n",
    "# from sklearn.neighbors import KNeighborsClassifier\n",
    "# from sklearn.tree import DecisionTreeClassifier\n",
    "# from sklearn.ensemble import RandomForestClassifier\n",
    "# from sklearn.svm import SVC\n",
    "# from sklearn.linear_model import LogisticRegression\n",
    "# from sklearn.ensemble import AdaBoostClassifier\n",
    "# from sklearn.ensemble import GradientBoostingClassifier\n",
    "\n",
    "# #dataset= datasets.load_breast_cancer()\n",
    "\n",
    "# dataset= {'data': X_train,\n",
    "#           'target': y_train,\n",
    "#           'name': 'IDS'}\n",
    "\n",
    "# # classifiers = [('sklearn.neighbors', 'KNeighborsClassifier', {}),\n",
    "# #               ('sklearn.tree', 'DecisionTreeClassifier', {})]\n",
    "# classifiers = [\n",
    "#     ('sklearn.neighbors', 'KNeighborsClassifier', {}),\n",
    "#     ('sklearn.tree', 'DecisionTreeClassifier', {}),\n",
    "#     ('sklearn.ensemble', 'RandomForestClassifier', {}),\n",
    "#     ('sklearn.svm', 'SVC', {}),\n",
    "#     ('sklearn.linear_model', 'LogisticRegression', {}),\n",
    "#     ('sklearn.ensemble', 'AdaBoostClassifier', {}),\n",
    "#     ('sklearn.ensemble', 'GradientBoostingClassifier', {})\n",
    "# ]\n",
    "\n",
    "# #oversamplers = sv.queries.get_all_oversamplers(n_quickest=2)\n",
    "# oversamplers = [sv.polynom_fit_SMOTE_bus,\n",
    "#                 sv.polynom_fit_SMOTE_mesh,\n",
    "#                 sv.polynom_fit_SMOTE_poly,\n",
    "#                 sv.polynom_fit_SMOTE_star]\n",
    "# os_params = sv.queries.generate_parameter_combinations(oversamplers,\n",
    "#                                                       n_max_comb=2)\n",
    "\n",
    "# # samp_obj and cl_obj contain the oversampling and classifier objects which give the\n",
    "# # best performance together\n",
    "# samp_obj, cl_obj= sv.evaluation.model_selection(dataset=dataset,\n",
    "#                                                 oversamplers=os_params,\n",
    "#                                                 classifiers=classifiers,\n",
    "#                                                 validator_params={'n_splits': 2,\n",
    "#                                                                   'n_repeats': 1},\n",
    "#                                                 n_jobs= 5)\n",
    "\n",
    "# # training the best techniques using the entire dataset\n",
    "# X_samp, y_samp= samp_obj.sample(X_train,\n",
    "#                                 y_train)\n",
    "# cl_obj.fit(X_samp, y_samp)"
   ]
  },
  {
   "cell_type": "code",
   "execution_count": 84,
   "id": "e2417957",
   "metadata": {},
   "outputs": [
    {
     "name": "stderr",
     "output_type": "stream",
     "text": [
      "2023-03-25 18:51:20,907:INFO:MulticlassOversampling: Running multiclass oversampling with strategy eq_1_vs_many_successive\n",
      "2023-03-25 18:51:20,911:INFO:MulticlassOversampling: Sampling minority class with label: 4\n",
      "2023-03-25 18:51:20,913:INFO:polynom_fit_SMOTE_bus: Running sampling via ('polynom_fit_SMOTE_bus', \"{'proportion': 1.0, 'topology': 'bus', 'random_state': 5, 'class_name': 'polynom_fit_SMOTE_bus'}\")\n",
      "2023-03-25 18:51:20,914:INFO:polynom_fit_SMOTE: Running sampling via ('polynom_fit_SMOTE', \"{'proportion': 1.0, 'topology': 'bus', 'random_state': 5, 'class_name': 'polynom_fit_SMOTE'}\")\n",
      "2023-03-25 18:51:20,942:INFO:MulticlassOversampling: Sampling minority class with label: 0\n",
      "2023-03-25 18:51:20,945:INFO:polynom_fit_SMOTE_bus: Running sampling via ('polynom_fit_SMOTE_bus', \"{'proportion': 0.46156022635408245, 'topology': 'bus', 'random_state': 5, 'class_name': 'polynom_fit_SMOTE_bus'}\")\n",
      "2023-03-25 18:51:20,947:INFO:polynom_fit_SMOTE: Running sampling via ('polynom_fit_SMOTE', \"{'proportion': 0.46156022635408245, 'topology': 'bus', 'random_state': 5, 'class_name': 'polynom_fit_SMOTE'}\")\n",
      "2023-03-25 18:51:20,980:INFO:MulticlassOversampling: Sampling minority class with label: 3\n",
      "2023-03-25 18:51:20,984:INFO:polynom_fit_SMOTE_bus: Running sampling via ('polynom_fit_SMOTE_bus', \"{'proportion': 0.31139829413285086, 'topology': 'bus', 'random_state': 5, 'class_name': 'polynom_fit_SMOTE_bus'}\")\n",
      "2023-03-25 18:51:20,986:INFO:polynom_fit_SMOTE: Running sampling via ('polynom_fit_SMOTE', \"{'proportion': 0.31139829413285086, 'topology': 'bus', 'random_state': 5, 'class_name': 'polynom_fit_SMOTE'}\")\n",
      "2023-03-25 18:51:21,020:INFO:MulticlassOversampling: Sampling minority class with label: 1\n",
      "2023-03-25 18:51:21,023:INFO:polynom_fit_SMOTE_bus: Running sampling via ('polynom_fit_SMOTE_bus', \"{'proportion': 0.23386756642766765, 'topology': 'bus', 'random_state': 5, 'class_name': 'polynom_fit_SMOTE_bus'}\")\n",
      "2023-03-25 18:51:21,024:INFO:polynom_fit_SMOTE: Running sampling via ('polynom_fit_SMOTE', \"{'proportion': 0.23386756642766765, 'topology': 'bus', 'random_state': 5, 'class_name': 'polynom_fit_SMOTE'}\")\n"
     ]
    }
   ],
   "source": [
    "\n",
    "\n",
    "oversampler= sv.MulticlassOversampling(oversampler='polynom_fit_SMOTE_bus',\n",
    "                                      oversampler_params={'random_state': 5})\n",
    "\n",
    "# X_samp and y_samp contain the oversampled dataset\n",
    "X_samp, y_samp= oversampler.sample(X_train, y_train)"
   ]
  },
  {
   "cell_type": "code",
   "execution_count": 85,
   "id": "6aa9069e",
   "metadata": {},
   "outputs": [
    {
     "data": {
      "text/plain": [
       "4    14419\n",
       "3    13993\n",
       "1    13453\n",
       "2    13321\n",
       "0    13308\n",
       "dtype: int64"
      ]
     },
     "execution_count": 85,
     "metadata": {},
     "output_type": "execute_result"
    }
   ],
   "source": [
    "pd.Series(y_samp).value_counts()"
   ]
  },
  {
   "cell_type": "markdown",
   "id": "c6918a0f",
   "metadata": {},
   "source": [
    "# XGBoost"
   ]
  },
  {
   "cell_type": "code",
   "execution_count": 40,
   "id": "40d0e5af",
   "metadata": {},
   "outputs": [
    {
     "name": "stdout",
     "output_type": "stream",
     "text": [
      "Accuracy of XGBoost: 0.9784258889332801\n",
      "Precision of XGBoost: 0.9782680168145382\n",
      "Recall of XGBoost: 0.9784258889332801\n",
      "F1-score of XGBoost: 0.9780693745531226\n",
      "              precision    recall  f1-score   support\n",
      "\n",
      "           0       1.00      1.00      1.00       476\n",
      "           1       0.93      0.84      0.88       279\n",
      "           2       0.98      1.00      0.99      3332\n",
      "           3       1.00      0.98      0.99       321\n",
      "           4       0.99      0.93      0.96       598\n",
      "\n",
      "    accuracy                           0.98      5006\n",
      "   macro avg       0.98      0.95      0.96      5006\n",
      "weighted avg       0.98      0.98      0.98      5006\n",
      "\n"
     ]
    },
    {
     "data": {
      "image/png": "[encoded data removed]",
      "text/plain": [
       "<Figure size 360x360 with 2 Axes>"
      ]
     },
     "metadata": {
      "needs_background": "light"
     },
     "output_type": "display_data"
    }
   ],
   "source": [
    "xg = xgb.XGBClassifier(n_estimators = 10)\n",
    "xg.fit(X_train,y_train)\n",
    "xg_score=xg.score(X_test,y_test)\n",
    "y_predict=xg.predict(X_test)\n",
    "y_true=y_test\n",
    "print('Accuracy of XGBoost: '+ str(xg_score))\n",
    "precision,recall,fscore,none= precision_recall_fscore_support(y_true, y_predict, average='weighted') \n",
    "print('Precision of XGBoost: '+(str(precision)))\n",
    "print('Recall of XGBoost: '+(str(recall)))\n",
    "print('F1-score of XGBoost: '+(str(fscore)))\n",
    "print(classification_report(y_true,y_predict))\n",
    "cm=confusion_matrix(y_true,y_predict)\n",
    "f,ax=plt.subplots(figsize=(5,5))\n",
    "sns.heatmap(cm,annot=True,linewidth=0.5,linecolor=\"red\",fmt=\".0f\",ax=ax)\n",
    "plt.xlabel(\"y_pred\")\n",
    "plt.ylabel(\"y_true\")\n",
    "plt.show()"
   ]
  },
  {
   "cell_type": "markdown",
   "id": "db82e4a2",
   "metadata": {},
   "source": [
    "### BO-TPE"
   ]
  },
  {
   "cell_type": "code",
   "execution_count": 41,
   "id": "fc21f653",
   "metadata": {},
   "outputs": [
    {
     "name": "stdout",
     "output_type": "stream",
     "text": [
      "100%|███████████████████████████████████████████████| 20/20 [00:27<00:00,  1.37s/trial, best loss: -0.9866160607271275]\n",
      "XGBoost: Hyperopt estimated optimum {'learning_rate': -0.7389091535365018, 'max_depth': 26.0, 'n_estimators': 35.0}\n"
     ]
    }
   ],
   "source": [
    "from hyperopt import hp, fmin, tpe, STATUS_OK, Trials\n",
    "from sklearn.model_selection import cross_val_score, StratifiedKFold\n",
    "def objective(params):\n",
    "    params = {\n",
    "        'n_estimators': int(params['n_estimators']), \n",
    "        'max_depth': int(params['max_depth']),\n",
    "        'learning_rate':  abs(float(params['learning_rate'])),\n",
    "\n",
    "    }\n",
    "    clf = xgb.XGBClassifier( **params)\n",
    "    clf.fit(X_train, y_train)\n",
    "    y_pred = clf.predict(X_test)\n",
    "    score = accuracy_score(y_test, y_pred)\n",
    "\n",
    "    return {'loss':-score, 'status': STATUS_OK }\n",
    "\n",
    "space = {\n",
    "    'n_estimators': hp.quniform('n_estimators', 10, 100, 5),\n",
    "    'max_depth': hp.quniform('max_depth', 4, 100, 1),\n",
    "    'learning_rate': hp.normal('learning_rate', 0.01, 0.9),\n",
    "}\n",
    "\n",
    "best = fmin(fn=objective,\n",
    "            space=space,\n",
    "            algo=tpe.suggest,\n",
    "            max_evals=20)\n",
    "print(\"XGBoost: Hyperopt estimated optimum {}\".format(best))"
   ]
  },
  {
   "cell_type": "code",
   "execution_count": 42,
   "id": "d20b3322",
   "metadata": {},
   "outputs": [
    {
     "name": "stdout",
     "output_type": "stream",
     "text": [
      "Accuracy of XGBoost: 0.9866160607271275\n",
      "Precision of XGBoost: 0.9866604395211346\n",
      "Recall of XGBoost: 0.9866160607271275\n",
      "F1-score of XGBoost: 0.986623766429528\n",
      "              precision    recall  f1-score   support\n",
      "\n",
      "           0       1.00      1.00      1.00       476\n",
      "           1       0.91      0.92      0.91       279\n",
      "           2       0.99      0.99      0.99      3332\n",
      "           3       1.00      0.98      0.99       321\n",
      "           4       0.98      0.97      0.98       598\n",
      "\n",
      "    accuracy                           0.99      5006\n",
      "   macro avg       0.98      0.97      0.97      5006\n",
      "weighted avg       0.99      0.99      0.99      5006\n",
      "\n"
     ]
    },
    {
     "data": {
      "image/png": "[encoded data removed]",
      "text/plain": [
       "<Figure size 360x360 with 2 Axes>"
      ]
     },
     "metadata": {
      "needs_background": "light"
     },
     "output_type": "display_data"
    }
   ],
   "source": [
    "xg = xgb.XGBClassifier(learning_rate=0.7389091535365018, n_estimators = 35, max_depth = 26\n",
    "                    )\n",
    "xg.fit(X_train,y_train)\n",
    "xg_score=xg.score(X_test,y_test)\n",
    "y_predict=xg.predict(X_test)\n",
    "y_true=y_test\n",
    "print('Accuracy of XGBoost: '+ str(xg_score))\n",
    "precision,recall,fscore,none= precision_recall_fscore_support(y_true, y_predict, average='weighted') \n",
    "print('Precision of XGBoost: '+(str(precision)))\n",
    "print('Recall of XGBoost: '+(str(recall)))\n",
    "print('F1-score of XGBoost: '+(str(fscore)))\n",
    "print(classification_report(y_true,y_predict))\n",
    "cm=confusion_matrix(y_true,y_predict)\n",
    "f,ax=plt.subplots(figsize=(5,5))\n",
    "sns.heatmap(cm,annot=True,linewidth=0.5,linecolor=\"red\",fmt=\".0f\",ax=ax)\n",
    "plt.xlabel(\"y_pred\")\n",
    "plt.ylabel(\"y_true\")\n",
    "plt.show()"
   ]
  },
  {
   "cell_type": "code",
   "execution_count": 43,
   "id": "bfb5ec6f",
   "metadata": {},
   "outputs": [],
   "source": [
    "xg_train=xg.predict(X_train)\n",
    "xg_test=xg.predict(X_test)"
   ]
  },
  {
   "cell_type": "markdown",
   "id": "4f304a53",
   "metadata": {},
   "source": [
    "# Random Forest "
   ]
  },
  {
   "cell_type": "code",
   "execution_count": 44,
   "id": "abaa3d4a",
   "metadata": {},
   "outputs": [
    {
     "name": "stdout",
     "output_type": "stream",
     "text": [
      "Accuracy of RF: 0.979624450659209\n",
      "Precision of RF: 0.9794429354960806\n",
      "Recall of RF: 0.979624450659209\n",
      "F1-score of RF: 0.9793899218152312\n",
      "              precision    recall  f1-score   support\n",
      "\n",
      "           0       1.00      1.00      1.00       476\n",
      "           1       0.92      0.86      0.89       279\n",
      "           2       0.98      0.99      0.99      3332\n",
      "           3       0.99      0.97      0.98       321\n",
      "           4       0.98      0.94      0.96       598\n",
      "\n",
      "    accuracy                           0.98      5006\n",
      "   macro avg       0.97      0.95      0.96      5006\n",
      "weighted avg       0.98      0.98      0.98      5006\n",
      "\n"
     ]
    },
    {
     "data": {
      "image/png": "[encoded data removed]",
      "text/plain": [
       "<Figure size 360x360 with 2 Axes>"
      ]
     },
     "metadata": {
      "needs_background": "light"
     },
     "output_type": "display_data"
    }
   ],
   "source": [
    "rf = RandomForestClassifier(random_state = 0)\n",
    "rf.fit(X_train,y_train) \n",
    "rf_score=rf.score(X_test,y_test)\n",
    "y_predict=rf.predict(X_test)\n",
    "y_true=y_test\n",
    "print('Accuracy of RF: '+ str(rf_score))\n",
    "precision,recall,fscore,none= precision_recall_fscore_support(y_true, y_predict, average='weighted') \n",
    "print('Precision of RF: '+(str(precision)))\n",
    "print('Recall of RF: '+(str(recall)))\n",
    "print('F1-score of RF: '+(str(fscore)))\n",
    "print(classification_report(y_true,y_predict))\n",
    "cm=confusion_matrix(y_true,y_predict)\n",
    "f,ax=plt.subplots(figsize=(5,5))\n",
    "sns.heatmap(cm,annot=True,linewidth=0.5,linecolor=\"red\",fmt=\".0f\",ax=ax)\n",
    "plt.xlabel(\"y_pred\")\n",
    "plt.ylabel(\"y_true\")\n",
    "plt.show()"
   ]
  },
  {
   "cell_type": "markdown",
   "id": "14412ea5",
   "metadata": {},
   "source": [
    "### GA\n"
   ]
  },
  {
   "cell_type": "code",
   "execution_count": 47,
   "id": "fbe6c0fd",
   "metadata": {
    "scrolled": true
   },
   "outputs": [
    {
     "name": "stderr",
     "output_type": "stream",
     "text": [
      "C:\\Users\\FOCUS\\.conda\\envs\\tf2\\lib\\site-packages\\tpot\\builtins\\__init__.py:36: UserWarning: Warning: optional dependency `torch` is not available. - skipping import of NN models.\n",
      "  warnings.warn(\"Warning: optional dependency `torch` is not available. - skipping import of NN models.\")\n"
     ]
    },
    {
     "name": "stdout",
     "output_type": "stream",
     "text": [
      "1 operators have been imported by TPOT.\n",
      "                                                                                                                       \n",
      "Generation 1 - Current Pareto front scores:\n",
      "                                                                                                                       \n",
      "-1\t0.9322358684400801\tRandomForestClassifier(CombineDFs(input_matrix, input_matrix), RandomForestClassifier__criterion=gini, RandomForestClassifier__max_depth=13, RandomForestClassifier__max_features=19, RandomForestClassifier__min_samples_leaf=7, RandomForestClassifier__min_samples_split=6, RandomForestClassifier__n_estimators=89)\n",
      "                                                                                                                       \n",
      "Generation 2 - Current Pareto front scores:\n",
      "                                                                                                                       \n",
      "-1\t0.9322358684400801\tRandomForestClassifier(CombineDFs(input_matrix, input_matrix), RandomForestClassifier__criterion=gini, RandomForestClassifier__max_depth=13, RandomForestClassifier__max_features=19, RandomForestClassifier__min_samples_leaf=7, RandomForestClassifier__min_samples_split=6, RandomForestClassifier__n_estimators=89)\n",
      "                                                                                                                       \n",
      "Generation 3 - Current Pareto front scores:\n",
      "                                                                                                                       \n",
      "-1\t0.9360719364625982\tRandomForestClassifier(input_matrix, RandomForestClassifier__criterion=gini, RandomForestClassifier__max_depth=98, RandomForestClassifier__max_features=18, RandomForestClassifier__min_samples_leaf=4, RandomForestClassifier__min_samples_split=7, RandomForestClassifier__n_estimators=25)\n",
      "                                                                                                                       \r"
     ]
    },
    {
     "data": {
      "text/html": [
       "<style>#sk-container-id-1 {color: black;background-color: white;}#sk-container-id-1 pre{padding: 0;}#sk-container-id-1 div.sk-toggleable {background-color: white;}#sk-container-id-1 label.sk-toggleable__label {cursor: pointer;display: block;width: 100%;margin-bottom: 0;padding: 0.3em;box-sizing: border-box;text-align: center;}#sk-container-id-1 label.sk-toggleable__label-arrow:before {content: \"▸\";float: left;margin-right: 0.25em;color: #696969;}#sk-container-id-1 label.sk-toggleable__label-arrow:hover:before {color: black;}#sk-container-id-1 div.sk-estimator:hover label.sk-toggleable__label-arrow:before {color: black;}#sk-container-id-1 div.sk-toggleable__content {max-height: 0;max-width: 0;overflow: hidden;text-align: left;background-color: #f0f8ff;}#sk-container-id-1 div.sk-toggleable__content pre {margin: 0.2em;color: black;border-radius: 0.25em;background-color: #f0f8ff;}#sk-container-id-1 input.sk-toggleable__control:checked~div.sk-toggleable__content {max-height: 200px;max-width: 100%;overflow: auto;}#sk-container-id-1 input.sk-toggleable__control:checked~label.sk-toggleable__label-arrow:before {content: \"▾\";}#sk-container-id-1 div.sk-estimator input.sk-toggleable__control:checked~label.sk-toggleable__label {background-color: #d4ebff;}#sk-container-id-1 div.sk-label input.sk-toggleable__control:checked~label.sk-toggleable__label {background-color: #d4ebff;}#sk-container-id-1 input.sk-hidden--visually {border: 0;clip: rect(1px 1px 1px 1px);clip: rect(1px, 1px, 1px, 1px);height: 1px;margin: -1px;overflow: hidden;padding: 0;position: absolute;width: 1px;}#sk-container-id-1 div.sk-estimator {font-family: monospace;background-color: #f0f8ff;border: 1px dotted black;border-radius: 0.25em;box-sizing: border-box;margin-bottom: 0.5em;}#sk-container-id-1 div.sk-estimator:hover {background-color: #d4ebff;}#sk-container-id-1 div.sk-parallel-item::after {content: \"\";width: 100%;border-bottom: 1px solid gray;flex-grow: 1;}#sk-container-id-1 div.sk-label:hover label.sk-toggleable__label {background-color: #d4ebff;}#sk-container-id-1 div.sk-serial::before {content: \"\";position: absolute;border-left: 1px solid gray;box-sizing: border-box;top: 0;bottom: 0;left: 50%;z-index: 0;}#sk-container-id-1 div.sk-serial {display: flex;flex-direction: column;align-items: center;background-color: white;padding-right: 0.2em;padding-left: 0.2em;position: relative;}#sk-container-id-1 div.sk-item {position: relative;z-index: 1;}#sk-container-id-1 div.sk-parallel {display: flex;align-items: stretch;justify-content: center;background-color: white;position: relative;}#sk-container-id-1 div.sk-item::before, #sk-container-id-1 div.sk-parallel-item::before {content: \"\";position: absolute;border-left: 1px solid gray;box-sizing: border-box;top: 0;bottom: 0;left: 50%;z-index: -1;}#sk-container-id-1 div.sk-parallel-item {display: flex;flex-direction: column;z-index: 1;position: relative;background-color: white;}#sk-container-id-1 div.sk-parallel-item:first-child::after {align-self: flex-end;width: 50%;}#sk-container-id-1 div.sk-parallel-item:last-child::after {align-self: flex-start;width: 50%;}#sk-container-id-1 div.sk-parallel-item:only-child::after {width: 0;}#sk-container-id-1 div.sk-dashed-wrapped {border: 1px dashed gray;margin: 0 0.4em 0.5em 0.4em;box-sizing: border-box;padding-bottom: 0.4em;background-color: white;}#sk-container-id-1 div.sk-label label {font-family: monospace;font-weight: bold;display: inline-block;line-height: 1.2em;}#sk-container-id-1 div.sk-label-container {text-align: center;}#sk-container-id-1 div.sk-container {/* jupyter's `normalize.less` sets `[hidden] { display: none; }` but bootstrap.min.css set `[hidden] { display: none !important; }` so we also need the `!important` here to be able to override the default hidden behavior on the sphinx rendered scikit-learn.org. See: https://github.com/scikit-learn/scikit-learn/issues/21755 */display: inline-block !important;position: relative;}#sk-container-id-1 div.sk-text-repr-fallback {display: none;}</style><div id=\"sk-container-id-1\" class=\"sk-top-container\"><div class=\"sk-text-repr-fallback\"><pre>TPOTClassifier(config_dict={&#x27;sklearn.ensemble.RandomForestClassifier&#x27;: {&#x27;criterion&#x27;: [&#x27;gini&#x27;,\n",
       "                                                                                      &#x27;entropy&#x27;],\n",
       "                                                                        &#x27;max_depth&#x27;: range(10, 100),\n",
       "                                                                        &#x27;max_features&#x27;: range(1, 20),\n",
       "                                                                        &#x27;min_samples_leaf&#x27;: range(1, 11),\n",
       "                                                                        &#x27;min_samples_split&#x27;: range(2, 11),\n",
       "                                                                        &#x27;n_estimators&#x27;: range(20, 200)}},\n",
       "               cv=3, early_stop=5, generations=3, offspring_size=5,\n",
       "               population_size=10, scoring=&#x27;accuracy&#x27;, verbosity=3)</pre><b>In a Jupyter environment, please rerun this cell to show the HTML representation or trust the notebook. <br />On GitHub, the HTML representation is unable to render, please try loading this page with nbviewer.org.</b></div><div class=\"sk-container\" hidden><div class=\"sk-item\"><div class=\"sk-estimator sk-toggleable\"><input class=\"sk-toggleable__control sk-hidden--visually\" id=\"sk-estimator-id-1\" type=\"checkbox\" checked><label for=\"sk-estimator-id-1\" class=\"sk-toggleable__label sk-toggleable__label-arrow\">TPOTClassifier</label><div class=\"sk-toggleable__content\"><pre>TPOTClassifier(config_dict={&#x27;sklearn.ensemble.RandomForestClassifier&#x27;: {&#x27;criterion&#x27;: [&#x27;gini&#x27;,\n",
       "                                                                                      &#x27;entropy&#x27;],\n",
       "                                                                        &#x27;max_depth&#x27;: range(10, 100),\n",
       "                                                                        &#x27;max_features&#x27;: range(1, 20),\n",
       "                                                                        &#x27;min_samples_leaf&#x27;: range(1, 11),\n",
       "                                                                        &#x27;min_samples_split&#x27;: range(2, 11),\n",
       "                                                                        &#x27;n_estimators&#x27;: range(20, 200)}},\n",
       "               cv=3, early_stop=5, generations=3, offspring_size=5,\n",
       "               population_size=10, scoring=&#x27;accuracy&#x27;, verbosity=3)</pre></div></div></div></div></div>"
      ],
      "text/plain": [
       "TPOTClassifier(config_dict={'sklearn.ensemble.RandomForestClassifier': {'criterion': ['gini',\n",
       "                                                                                      'entropy'],\n",
       "                                                                        'max_depth': range(10, 100),\n",
       "                                                                        'max_features': range(1, 20),\n",
       "                                                                        'min_samples_leaf': range(1, 11),\n",
       "                                                                        'min_samples_split': range(2, 11),\n",
       "                                                                        'n_estimators': range(20, 200)}},\n",
       "               cv=3, early_stop=5, generations=3, offspring_size=5,\n",
       "               population_size=10, scoring='accuracy', verbosity=3)"
      ]
     },
     "execution_count": 47,
     "metadata": {},
     "output_type": "execute_result"
    }
   ],
   "source": [
    "\n",
    "\n",
    "#Random Forest\n",
    "from tpot import TPOTClassifier\n",
    "# Define the hyperparameter configuration space\n",
    "parameters = {\n",
    "        'n_estimators': range(20,200),\n",
    "    \"max_features\":range(1,20),\n",
    "    'max_depth': range(10,100),\n",
    "    \"min_samples_split\":range(2,11),\n",
    "    \"min_samples_leaf\":range(1,11),\n",
    "    \"criterion\":['gini','entropy']\n",
    "             }\n",
    "# Set the hyperparameters of GA                 \n",
    "ga2 = TPOTClassifier(generations= 3, population_size= 10, offspring_size= 5,\n",
    "                                 verbosity= 3, early_stop= 5,\n",
    "                                 config_dict=\n",
    "                                 {'sklearn.ensemble.RandomForestClassifier': parameters}, \n",
    "                                 cv = 3, scoring = 'accuracy')\n",
    "ga2.fit(X, y)\n",
    "\n"
   ]
  },
  {
   "cell_type": "markdown",
   "id": "c7f295bc",
   "metadata": {},
   "source": [
    "### PSO  RF"
   ]
  },
  {
   "cell_type": "code",
   "execution_count": 45,
   "id": "e3626021",
   "metadata": {},
   "outputs": [
    {
     "name": "stdout",
     "output_type": "stream",
     "text": [
      "{'n_estimators': 198.0625, 'max_features': 19.593838489042422, 'max_depth': 22.595703125, 'min_samples_split': 6.918359375, 'min_samples_leaf': 2.2343480215779783, 'criterion': 0.05648063003637588}\n",
      "Accuracy:0.9344069151182374\n"
     ]
    }
   ],
   "source": [
    "#Random Forest\n",
    "import optunity\n",
    "import optunity.metrics\n",
    "\n",
    "\n",
    "# Define the hyperparameter configuration space\n",
    "search = {\n",
    "    'n_estimators': [100, 260],\n",
    "    'max_features': [1, 20],\n",
    "    'max_depth': [5,50],\n",
    "    \"min_samples_split\":[2,11],\n",
    "    \"min_samples_leaf\":[1,11],\n",
    "    \"criterion\":[0,1]\n",
    "         }\n",
    "# Define the objective function\n",
    "@optunity.cross_validated(x=X, y=y, num_folds=3)\n",
    "def performance(x_train, y_train, x_test, y_test,n_estimators=None, max_features=None,max_depth=None,min_samples_split=None,min_samples_leaf=None,criterion=None):\n",
    "    # fit the model\n",
    "    if criterion<0.5:\n",
    "        cri='gini'\n",
    "    else:\n",
    "        cri='entropy'\n",
    "    model = RandomForestClassifier(n_estimators=int(n_estimators),\n",
    "                                   max_features=int(max_features),\n",
    "                                   max_depth=int(max_depth),\n",
    "                                   min_samples_split=int(min_samples_split),\n",
    "                                   min_samples_leaf=int(min_samples_leaf),\n",
    "                                   criterion=cri,\n",
    "                                  )\n",
    "    #predictions = model.predict(x_test)\n",
    "    scores=np.mean(cross_val_score(model, X, y, cv=3, n_jobs=-1,\n",
    "                                    scoring=\"accuracy\"))\n",
    "    #return optunity.metrics.roc_auc(y_test, predictions, positive=True)\n",
    "    return scores#optunity.metrics.accuracy(y_test, predictions)\n",
    "\n",
    "optimal_configuration, info, _ = optunity.maximize(performance,\n",
    "                                                  solver_name='particle swarm',\n",
    "                                                  num_evals=20,\n",
    "                                                   **search\n",
    "                                                  )\n",
    "print(optimal_configuration)\n",
    "print(\"Accuracy:\"+ str(info.optimum))"
   ]
  },
  {
   "cell_type": "markdown",
   "id": "9c6ae28e",
   "metadata": {},
   "source": [
    "### BO-TPE"
   ]
  },
  {
   "cell_type": "code",
   "execution_count": 45,
   "id": "17eabba1",
   "metadata": {},
   "outputs": [
    {
     "name": "stdout",
     "output_type": "stream",
     "text": [
      "100%|███████████████████████████████████████████████| 20/20 [00:47<00:00,  2.38s/trial, best loss: -0.9804234918098282]\n",
      "Random Forest: Hyperopt estimated optimum {'criterion': 0, 'max_depth': 18.0, 'max_features': 7.0, 'min_samples_leaf': 2.0, 'min_samples_split': 5.0, 'n_estimators': 161.0}\n"
     ]
    }
   ],
   "source": [
    "\n",
    "from hyperopt import hp, fmin, tpe, STATUS_OK, Trials\n",
    "from sklearn.model_selection import cross_val_score, StratifiedKFold\n",
    "# Define the objective function\n",
    "def objective(params):\n",
    "    params = {\n",
    "        'n_estimators': int(params['n_estimators']), \n",
    "        'max_depth': int(params['max_depth']),\n",
    "        'max_features': int(params['max_features']),\n",
    "        \"min_samples_split\":int(params['min_samples_split']),\n",
    "        \"min_samples_leaf\":int(params['min_samples_leaf']),\n",
    "        \"criterion\":str(params['criterion'])\n",
    "    }\n",
    "    clf = RandomForestClassifier( **params)\n",
    "    clf.fit(X_train,y_train)\n",
    "    score=clf.score(X_test,y_test)\n",
    "\n",
    "    return {'loss':-score, 'status': STATUS_OK }\n",
    "# Define the hyperparameter configuration space\n",
    "space = {\n",
    "    'n_estimators': hp.quniform('n_estimators', 10, 200, 1),\n",
    "    'max_depth': hp.quniform('max_depth', 5, 50, 1),\n",
    "    \"max_features\":hp.quniform('max_features', 1, 20, 1),\n",
    "    \"min_samples_split\":hp.quniform('min_samples_split',2,11,1),\n",
    "    \"min_samples_leaf\":hp.quniform('min_samples_leaf',1,11,1),\n",
    "    \"criterion\":hp.choice('criterion',['gini','entropy'])\n",
    "}\n",
    "\n",
    "best = fmin(fn=objective,\n",
    "            space=space,\n",
    "            algo=tpe.suggest,\n",
    "            max_evals=20)\n",
    "print(\"Random Forest: Hyperopt estimated optimum {}\".format(best))"
   ]
  },
  {
   "cell_type": "markdown",
   "id": "7f7ed4bd",
   "metadata": {},
   "source": [
    "## After HPO"
   ]
  },
  {
   "cell_type": "code",
   "execution_count": 46,
   "id": "f2c2fce7",
   "metadata": {
    "scrolled": false
   },
   "outputs": [
    {
     "name": "stdout",
     "output_type": "stream",
     "text": [
      "Accuracy of RF: 0.9780263683579704\n",
      "Precision of RF: 0.9778194484097114\n",
      "Recall of RF: 0.9780263683579704\n",
      "F1-score of RF: 0.9777316171234004\n",
      "              precision    recall  f1-score   support\n",
      "\n",
      "           0       1.00      1.00      1.00       476\n",
      "           1       0.90      0.84      0.87       279\n",
      "           2       0.98      0.99      0.99      3332\n",
      "           3       0.99      0.98      0.98       321\n",
      "           4       0.99      0.94      0.96       598\n",
      "\n",
      "    accuracy                           0.98      5006\n",
      "   macro avg       0.97      0.95      0.96      5006\n",
      "weighted avg       0.98      0.98      0.98      5006\n",
      "\n"
     ]
    },
    {
     "data": {
      "image/png": "[encoded data removed]",
      "text/plain": [
       "<Figure size 360x360 with 2 Axes>"
      ]
     },
     "metadata": {
      "needs_background": "light"
     },
     "output_type": "display_data"
    }
   ],
   "source": [
    "\n",
    "rf_hpo = RandomForestClassifier(n_estimators =161, min_samples_leaf = 2, max_depth =18,\n",
    "                                min_samples_split = 5, max_features =7, criterion = 'gini')\n",
    "rf_hpo.fit(X_train,y_train)\n",
    "rf_score=rf_hpo.score(X_test,y_test)\n",
    "y_predict=rf_hpo.predict(X_test)\n",
    "y_true=y_test\n",
    "print('Accuracy of RF: '+ str(rf_score))\n",
    "precision,recall,fscore,none= precision_recall_fscore_support(y_true, y_predict, average='weighted') \n",
    "print('Precision of RF: '+(str(precision)))\n",
    "print('Recall of RF: '+(str(recall)))\n",
    "print('F1-score of RF: '+(str(fscore)))\n",
    "print(classification_report(y_true,y_predict))\n",
    "cm=confusion_matrix(y_true,y_predict)\n",
    "f,ax=plt.subplots(figsize=(5,5))\n",
    "sns.heatmap(cm,annot=True,linewidth=0.5,linecolor=\"red\",fmt=\".0f\",ax=ax)\n",
    "plt.xlabel(\"y_pred\")\n",
    "plt.ylabel(\"y_true\")\n",
    "plt.show()"
   ]
  },
  {
   "cell_type": "code",
   "execution_count": 47,
   "id": "7769d961",
   "metadata": {},
   "outputs": [],
   "source": [
    "rf_train=rf_hpo.predict(X_train)\n",
    "rf_test=rf_hpo.predict(X_test)"
   ]
  },
  {
   "cell_type": "markdown",
   "id": "96f5cd45",
   "metadata": {},
   "source": [
    "# Decision Tree"
   ]
  },
  {
   "cell_type": "code",
   "execution_count": 48,
   "id": "dbd24b67",
   "metadata": {},
   "outputs": [
    {
     "name": "stdout",
     "output_type": "stream",
     "text": [
      "Accuracy of DT: 0.9840191769876149\n",
      "Precision of DT: 0.9842373397560988\n",
      "Recall of DT: 0.9840191769876149\n",
      "F1-score of DT: 0.9841066819128552\n",
      "              precision    recall  f1-score   support\n",
      "\n",
      "           0       1.00      0.99      0.99       476\n",
      "           1       0.89      0.92      0.90       281\n",
      "           2       0.99      0.99      0.99      3330\n",
      "           3       1.00      0.98      0.99       319\n",
      "           4       0.98      0.98      0.98       600\n",
      "\n",
      "    accuracy                           0.98      5006\n",
      "   macro avg       0.97      0.97      0.97      5006\n",
      "weighted avg       0.98      0.98      0.98      5006\n",
      "\n"
     ]
    },
    {
     "data": {
      "image/png": "[encoded data removed]",
      "text/plain": [
       "<Figure size 360x360 with 2 Axes>"
      ]
     },
     "metadata": {
      "needs_background": "light"
     },
     "output_type": "display_data"
    }
   ],
   "source": [
    "dt = DecisionTreeClassifier(random_state = 0)\n",
    "dt.fit(X_train,y_train) \n",
    "dt_score=dt.score(X_test,y_test)\n",
    "y_predict=dt.predict(X_test)\n",
    "y_true=y_test\n",
    "print('Accuracy of DT: '+ str(dt_score))\n",
    "precision,recall,fscore,none= precision_recall_fscore_support(y_true, y_predict, average='weighted') \n",
    "print('Precision of DT: '+(str(precision)))\n",
    "print('Recall of DT: '+(str(recall)))\n",
    "print('F1-score of DT: '+(str(fscore)))\n",
    "print(classification_report(y_true,y_predict))\n",
    "cm=confusion_matrix(y_true,y_predict)\n",
    "f,ax=plt.subplots(figsize=(5,5))\n",
    "sns.heatmap(cm,annot=True,linewidth=0.5,linecolor=\"red\",fmt=\".0f\",ax=ax)\n",
    "plt.xlabel(\"y_pred\")\n",
    "plt.ylabel(\"y_true\")\n",
    "plt.show()"
   ]
  },
  {
   "cell_type": "markdown",
   "id": "17b33e19",
   "metadata": {},
   "source": [
    "### GA"
   ]
  },
  {
   "cell_type": "code",
   "execution_count": 51,
   "id": "b1487221",
   "metadata": {},
   "outputs": [
    {
     "name": "stdout",
     "output_type": "stream",
     "text": [
      "1 operators have been imported by TPOT.\n",
      "                                                                                                                       \n",
      "Generation 1 - Current Pareto front scores:\n",
      "                                                                                                                       \n",
      "-1\t0.8846490791851437\tDecisionTreeClassifier(input_matrix, DecisionTreeClassifier__criterion=entropy, DecisionTreeClassifier__max_depth=45, DecisionTreeClassifier__max_features=12, DecisionTreeClassifier__min_samples_leaf=10, DecisionTreeClassifier__min_samples_split=6)\n",
      "                                                                                                                       \n",
      "-2\t0.90031247761228\tDecisionTreeClassifier(DecisionTreeClassifier(input_matrix, DecisionTreeClassifier__criterion=entropy, DecisionTreeClassifier__max_depth=45, DecisionTreeClassifier__max_features=19, DecisionTreeClassifier__min_samples_leaf=1, DecisionTreeClassifier__min_samples_split=10), DecisionTreeClassifier__criterion=gini, DecisionTreeClassifier__max_depth=45, DecisionTreeClassifier__max_features=16, DecisionTreeClassifier__min_samples_leaf=8, DecisionTreeClassifier__min_samples_split=8)\n",
      "                                                                                                                       \n",
      "Generation 2 - Current Pareto front scores:\n",
      "                                                                                                                       \n",
      "-1\t0.8846490791851437\tDecisionTreeClassifier(input_matrix, DecisionTreeClassifier__criterion=entropy, DecisionTreeClassifier__max_depth=45, DecisionTreeClassifier__max_features=12, DecisionTreeClassifier__min_samples_leaf=10, DecisionTreeClassifier__min_samples_split=6)\n",
      "                                                                                                                       \n",
      "-2\t0.90031247761228\tDecisionTreeClassifier(DecisionTreeClassifier(input_matrix, DecisionTreeClassifier__criterion=entropy, DecisionTreeClassifier__max_depth=45, DecisionTreeClassifier__max_features=19, DecisionTreeClassifier__min_samples_leaf=1, DecisionTreeClassifier__min_samples_split=10), DecisionTreeClassifier__criterion=gini, DecisionTreeClassifier__max_depth=45, DecisionTreeClassifier__max_features=16, DecisionTreeClassifier__min_samples_leaf=8, DecisionTreeClassifier__min_samples_split=8)\n",
      "                                                                                                                       \n",
      "Generation 3 - Current Pareto front scores:\n",
      "                                                                                                                       \n",
      "-1\t0.8846490791851437\tDecisionTreeClassifier(input_matrix, DecisionTreeClassifier__criterion=entropy, DecisionTreeClassifier__max_depth=45, DecisionTreeClassifier__max_features=12, DecisionTreeClassifier__min_samples_leaf=10, DecisionTreeClassifier__min_samples_split=6)\n",
      "                                                                                                                       \n",
      "-2\t0.90031247761228\tDecisionTreeClassifier(DecisionTreeClassifier(input_matrix, DecisionTreeClassifier__criterion=entropy, DecisionTreeClassifier__max_depth=45, DecisionTreeClassifier__max_features=19, DecisionTreeClassifier__min_samples_leaf=1, DecisionTreeClassifier__min_samples_split=10), DecisionTreeClassifier__criterion=gini, DecisionTreeClassifier__max_depth=45, DecisionTreeClassifier__max_features=16, DecisionTreeClassifier__min_samples_leaf=8, DecisionTreeClassifier__min_samples_split=8)\n",
      "                                                                                                                       \r"
     ]
    },
    {
     "data": {
      "text/html": [
       "<style>#sk-container-id-2 {color: black;background-color: white;}#sk-container-id-2 pre{padding: 0;}#sk-container-id-2 div.sk-toggleable {background-color: white;}#sk-container-id-2 label.sk-toggleable__label {cursor: pointer;display: block;width: 100%;margin-bottom: 0;padding: 0.3em;box-sizing: border-box;text-align: center;}#sk-container-id-2 label.sk-toggleable__label-arrow:before {content: \"▸\";float: left;margin-right: 0.25em;color: #696969;}#sk-container-id-2 label.sk-toggleable__label-arrow:hover:before {color: black;}#sk-container-id-2 div.sk-estimator:hover label.sk-toggleable__label-arrow:before {color: black;}#sk-container-id-2 div.sk-toggleable__content {max-height: 0;max-width: 0;overflow: hidden;text-align: left;background-color: #f0f8ff;}#sk-container-id-2 div.sk-toggleable__content pre {margin: 0.2em;color: black;border-radius: 0.25em;background-color: #f0f8ff;}#sk-container-id-2 input.sk-toggleable__control:checked~div.sk-toggleable__content {max-height: 200px;max-width: 100%;overflow: auto;}#sk-container-id-2 input.sk-toggleable__control:checked~label.sk-toggleable__label-arrow:before {content: \"▾\";}#sk-container-id-2 div.sk-estimator input.sk-toggleable__control:checked~label.sk-toggleable__label {background-color: #d4ebff;}#sk-container-id-2 div.sk-label input.sk-toggleable__control:checked~label.sk-toggleable__label {background-color: #d4ebff;}#sk-container-id-2 input.sk-hidden--visually {border: 0;clip: rect(1px 1px 1px 1px);clip: rect(1px, 1px, 1px, 1px);height: 1px;margin: -1px;overflow: hidden;padding: 0;position: absolute;width: 1px;}#sk-container-id-2 div.sk-estimator {font-family: monospace;background-color: #f0f8ff;border: 1px dotted black;border-radius: 0.25em;box-sizing: border-box;margin-bottom: 0.5em;}#sk-container-id-2 div.sk-estimator:hover {background-color: #d4ebff;}#sk-container-id-2 div.sk-parallel-item::after {content: \"\";width: 100%;border-bottom: 1px solid gray;flex-grow: 1;}#sk-container-id-2 div.sk-label:hover label.sk-toggleable__label {background-color: #d4ebff;}#sk-container-id-2 div.sk-serial::before {content: \"\";position: absolute;border-left: 1px solid gray;box-sizing: border-box;top: 0;bottom: 0;left: 50%;z-index: 0;}#sk-container-id-2 div.sk-serial {display: flex;flex-direction: column;align-items: center;background-color: white;padding-right: 0.2em;padding-left: 0.2em;position: relative;}#sk-container-id-2 div.sk-item {position: relative;z-index: 1;}#sk-container-id-2 div.sk-parallel {display: flex;align-items: stretch;justify-content: center;background-color: white;position: relative;}#sk-container-id-2 div.sk-item::before, #sk-container-id-2 div.sk-parallel-item::before {content: \"\";position: absolute;border-left: 1px solid gray;box-sizing: border-box;top: 0;bottom: 0;left: 50%;z-index: -1;}#sk-container-id-2 div.sk-parallel-item {display: flex;flex-direction: column;z-index: 1;position: relative;background-color: white;}#sk-container-id-2 div.sk-parallel-item:first-child::after {align-self: flex-end;width: 50%;}#sk-container-id-2 div.sk-parallel-item:last-child::after {align-self: flex-start;width: 50%;}#sk-container-id-2 div.sk-parallel-item:only-child::after {width: 0;}#sk-container-id-2 div.sk-dashed-wrapped {border: 1px dashed gray;margin: 0 0.4em 0.5em 0.4em;box-sizing: border-box;padding-bottom: 0.4em;background-color: white;}#sk-container-id-2 div.sk-label label {font-family: monospace;font-weight: bold;display: inline-block;line-height: 1.2em;}#sk-container-id-2 div.sk-label-container {text-align: center;}#sk-container-id-2 div.sk-container {/* jupyter's `normalize.less` sets `[hidden] { display: none; }` but bootstrap.min.css set `[hidden] { display: none !important; }` so we also need the `!important` here to be able to override the default hidden behavior on the sphinx rendered scikit-learn.org. See: https://github.com/scikit-learn/scikit-learn/issues/21755 */display: inline-block !important;position: relative;}#sk-container-id-2 div.sk-text-repr-fallback {display: none;}</style><div id=\"sk-container-id-2\" class=\"sk-top-container\"><div class=\"sk-text-repr-fallback\"><pre>TPOTClassifier(config_dict={&#x27;sklearn.tree.DecisionTreeClassifier&#x27;: {&#x27;criterion&#x27;: [&#x27;gini&#x27;,\n",
       "                                                                                  &#x27;entropy&#x27;],\n",
       "                                                                    &#x27;max_depth&#x27;: range(5, 50),\n",
       "                                                                    &#x27;max_features&#x27;: range(1, 20),\n",
       "                                                                    &#x27;min_samples_leaf&#x27;: range(1, 11),\n",
       "                                                                    &#x27;min_samples_split&#x27;: range(2, 11)}},\n",
       "               cv=3, early_stop=5, generations=3, offspring_size=5,\n",
       "               population_size=10, scoring=&#x27;accuracy&#x27;, verbosity=3)</pre><b>In a Jupyter environment, please rerun this cell to show the HTML representation or trust the notebook. <br />On GitHub, the HTML representation is unable to render, please try loading this page with nbviewer.org.</b></div><div class=\"sk-container\" hidden><div class=\"sk-item\"><div class=\"sk-estimator sk-toggleable\"><input class=\"sk-toggleable__control sk-hidden--visually\" id=\"sk-estimator-id-2\" type=\"checkbox\" checked><label for=\"sk-estimator-id-2\" class=\"sk-toggleable__label sk-toggleable__label-arrow\">TPOTClassifier</label><div class=\"sk-toggleable__content\"><pre>TPOTClassifier(config_dict={&#x27;sklearn.tree.DecisionTreeClassifier&#x27;: {&#x27;criterion&#x27;: [&#x27;gini&#x27;,\n",
       "                                                                                  &#x27;entropy&#x27;],\n",
       "                                                                    &#x27;max_depth&#x27;: range(5, 50),\n",
       "                                                                    &#x27;max_features&#x27;: range(1, 20),\n",
       "                                                                    &#x27;min_samples_leaf&#x27;: range(1, 11),\n",
       "                                                                    &#x27;min_samples_split&#x27;: range(2, 11)}},\n",
       "               cv=3, early_stop=5, generations=3, offspring_size=5,\n",
       "               population_size=10, scoring=&#x27;accuracy&#x27;, verbosity=3)</pre></div></div></div></div></div>"
      ],
      "text/plain": [
       "TPOTClassifier(config_dict={'sklearn.tree.DecisionTreeClassifier': {'criterion': ['gini',\n",
       "                                                                                  'entropy'],\n",
       "                                                                    'max_depth': range(5, 50),\n",
       "                                                                    'max_features': range(1, 20),\n",
       "                                                                    'min_samples_leaf': range(1, 11),\n",
       "                                                                    'min_samples_split': range(2, 11)}},\n",
       "               cv=3, early_stop=5, generations=3, offspring_size=5,\n",
       "               population_size=10, scoring='accuracy', verbosity=3)"
      ]
     },
     "execution_count": 51,
     "metadata": {},
     "output_type": "execute_result"
    }
   ],
   "source": [
    "\n",
    "\n",
    "#Random Forest\n",
    "from tpot import TPOTClassifier\n",
    "# Define the hyperparameter configuration space\n",
    "parameters = {\n",
    "    \"max_features\":range(1,20),\n",
    "    'max_depth': range(5,50),\n",
    "    \"min_samples_split\":range(2,11),\n",
    "    \"min_samples_leaf\":range(1,11),\n",
    "    \"criterion\":['gini','entropy']\n",
    "\n",
    "             }\n",
    "# Set the hyperparameters of GA                 \n",
    "ga2 = TPOTClassifier(generations= 3, population_size= 10, offspring_size= 5,\n",
    "                                 verbosity= 3, early_stop= 5,\n",
    "                                 config_dict=\n",
    "                                 {'sklearn.tree.DecisionTreeClassifier': parameters}, \n",
    "                                 cv = 3, scoring = 'accuracy')\n",
    "ga2.fit(X, y)\n",
    "\n"
   ]
  },
  {
   "cell_type": "markdown",
   "id": "ddba7a24",
   "metadata": {},
   "source": [
    "### BO-TPE"
   ]
  },
  {
   "cell_type": "code",
   "execution_count": 49,
   "id": "ea1ee571",
   "metadata": {},
   "outputs": [
    {
     "name": "stdout",
     "output_type": "stream",
     "text": [
      "100%|███████████████████████████████████████████████| 50/50 [00:02<00:00, 18.95trial/s, best loss: -0.9844186975629244]\n",
      "Decision tree: Hyperopt estimated optimum {'criterion': 0, 'max_depth': 30.0, 'max_features': 18.0, 'min_samples_leaf': 1.0, 'min_samples_split': 5.0}\n"
     ]
    }
   ],
   "source": [
    "# Hyperparameter optimization of decision tree\n",
    "from hyperopt import hp, fmin, tpe, STATUS_OK, Trials\n",
    "from sklearn.model_selection import cross_val_score, StratifiedKFold\n",
    "# Define the objective function\n",
    "def objective(params):\n",
    "    params = {\n",
    "        'max_depth': int(params['max_depth']),\n",
    "        'max_features': int(params['max_features']),\n",
    "        \"min_samples_split\":int(params['min_samples_split']),\n",
    "        \"min_samples_leaf\":int(params['min_samples_leaf']),\n",
    "        \"criterion\":str(params['criterion'])\n",
    "    }\n",
    "    clf = DecisionTreeClassifier( **params)\n",
    "    clf.fit(X_train,y_train)\n",
    "    score=clf.score(X_test,y_test)\n",
    "\n",
    "    return {'loss':-score, 'status': STATUS_OK }\n",
    "# Define the hyperparameter configuration space\n",
    "space = {\n",
    "    'max_depth': hp.quniform('max_depth', 5, 50, 1),\n",
    "    \"max_features\":hp.quniform('max_features', 1, 20, 1),\n",
    "    \"min_samples_split\":hp.quniform('min_samples_split',2,11,1),\n",
    "    \"min_samples_leaf\":hp.quniform('min_samples_leaf',1,11,1),\n",
    "    \"criterion\":hp.choice('criterion',['gini','entropy'])\n",
    "}\n",
    "\n",
    "best = fmin(fn=objective,\n",
    "            space=space,\n",
    "            algo=tpe.suggest,\n",
    "            max_evals=50)\n",
    "print(\"Decision tree: Hyperopt estimated optimum {}\".format(best))"
   ]
  },
  {
   "cell_type": "markdown",
   "id": "e4cc7a8c",
   "metadata": {},
   "source": [
    "### PSO"
   ]
  },
  {
   "cell_type": "code",
   "execution_count": 50,
   "id": "c7b45211",
   "metadata": {},
   "outputs": [
    {
     "name": "stdout",
     "output_type": "stream",
     "text": [
      "{'max_features': 16.22150343263128, 'max_depth': 33.25244140625, 'min_samples_split': 7.16708984375, 'min_samples_leaf': 6.0302734375, 'criterion': 0.51279296875}\n",
      "Accuracy:0.8908821940128927\n"
     ]
    }
   ],
   "source": [
    "\n",
    "import optunity\n",
    "import optunity.metrics\n",
    "\n",
    "data=X\n",
    "labels=y\n",
    "# Define the hyperparameter configuration space\n",
    "search = {\n",
    "    'max_features': [1, 20],\n",
    "    'max_depth': [5,50],\n",
    "    \"min_samples_split\":[2,11],\n",
    "    \"min_samples_leaf\":[1,11],\n",
    "    \"criterion\":[0,1]\n",
    "         }\n",
    "# Define the objective function\n",
    "@optunity.cross_validated(x=data, y=labels, num_folds=3)\n",
    "def performance(x_train, y_train, x_test, y_test, max_features=None,max_depth=None,min_samples_split=None,min_samples_leaf=None,criterion=None):\n",
    "    # fit the model\n",
    "    if criterion<0.5:\n",
    "        cri='gini'\n",
    "    else:\n",
    "        cri='entropy'\n",
    "    model = DecisionTreeClassifier(\n",
    "                                   max_features=int(max_features),\n",
    "                                   max_depth=int(max_depth),\n",
    "                                   min_samples_split=int(min_samples_split),\n",
    "                                   min_samples_leaf=int(min_samples_leaf),\n",
    "                                   criterion=cri,\n",
    "                                  )\n",
    "    #predictions = model.predict(x_test)\n",
    "    scores=np.mean(cross_val_score(model, X, y, cv=3, n_jobs=-1,\n",
    "                                    scoring=\"accuracy\"))\n",
    "    #return optunity.metrics.roc_auc(y_test, predictions, positive=True)\n",
    "    return scores#optunity.metrics.accuracy(y_test, predictions)\n",
    "\n",
    "optimal_configuration, info, _ = optunity.maximize(performance,\n",
    "                                                  solver_name='particle swarm',\n",
    "                                                  num_evals=20,\n",
    "                                                   **search\n",
    "                                                  )\n",
    "print(optimal_configuration)\n",
    "print(\"Accuracy:\"+ str(info.optimum))"
   ]
  },
  {
   "cell_type": "markdown",
   "id": "065a2cbf",
   "metadata": {},
   "source": [
    "## After HPO"
   ]
  },
  {
   "cell_type": "code",
   "execution_count": 50,
   "id": "fe9eaf51",
   "metadata": {},
   "outputs": [
    {
     "name": "stdout",
     "output_type": "stream",
     "text": [
      "Accuracy of DT: 0.9830203755493407\n",
      "Precision of DT: 0.9832799884441911\n",
      "Recall of DT: 0.9830203755493407\n",
      "F1-score of DT: 0.9831214482986241\n",
      "              precision    recall  f1-score   support\n",
      "\n",
      "           0       0.99      0.99      0.99       476\n",
      "           1       0.89      0.93      0.91       281\n",
      "           2       0.99      0.99      0.99      3330\n",
      "           3       0.98      0.97      0.98       319\n",
      "           4       0.98      0.97      0.98       600\n",
      "\n",
      "    accuracy                           0.98      5006\n",
      "   macro avg       0.97      0.97      0.97      5006\n",
      "weighted avg       0.98      0.98      0.98      5006\n",
      "\n"
     ]
    },
    {
     "data": {
      "image/png": "[encoded data removed]",
      "text/plain": [
       "<Figure size 360x360 with 2 Axes>"
      ]
     },
     "metadata": {
      "needs_background": "light"
     },
     "output_type": "display_data"
    }
   ],
   "source": [
    "\n",
    "dt_hpo = DecisionTreeClassifier(min_samples_leaf = 1, max_depth = 30, min_samples_split = 5, \n",
    "                                max_features = 18, criterion = 'gini')\n",
    "dt_hpo.fit(X_train,y_train)\n",
    "dt_score=dt_hpo.score(X_test,y_test)\n",
    "y_predict=dt_hpo.predict(X_test)\n",
    "y_true=y_test\n",
    "print('Accuracy of DT: '+ str(dt_score))\n",
    "precision,recall,fscore,none= precision_recall_fscore_support(y_true, y_predict, average='weighted') \n",
    "print('Precision of DT: '+(str(precision)))\n",
    "print('Recall of DT: '+(str(recall)))\n",
    "print('F1-score of DT: '+(str(fscore)))\n",
    "print(classification_report(y_true,y_predict))\n",
    "cm=confusion_matrix(y_true,y_predict)\n",
    "f,ax=plt.subplots(figsize=(5,5))\n",
    "sns.heatmap(cm,annot=True,linewidth=0.5,linecolor=\"red\",fmt=\".0f\",ax=ax)\n",
    "plt.xlabel(\"y_pred\")\n",
    "plt.ylabel(\"y_true\")\n",
    "plt.show()"
   ]
  },
  {
   "cell_type": "code",
   "execution_count": 51,
   "id": "8563d375",
   "metadata": {},
   "outputs": [],
   "source": [
    "dt_train=dt_hpo.predict(X_train)\n",
    "dt_test=dt_hpo.predict(X_test)"
   ]
  },
  {
   "cell_type": "markdown",
   "id": "8058091e",
   "metadata": {},
   "source": [
    "# Extra Trees"
   ]
  },
  {
   "cell_type": "code",
   "execution_count": 52,
   "id": "e53f5a6f",
   "metadata": {},
   "outputs": [
    {
     "name": "stdout",
     "output_type": "stream",
     "text": [
      "Accuracy of ET: 0.9772273272073512\n",
      "Precision of ET: 0.9771197342557829\n",
      "Recall of ET: 0.9772273272073512\n",
      "F1-score of ET: 0.9771399982825544\n",
      "              precision    recall  f1-score   support\n",
      "\n",
      "           0       1.00      0.99      0.99       476\n",
      "           1       0.89      0.87      0.88       281\n",
      "           2       0.98      0.99      0.98      3330\n",
      "           3       0.99      0.96      0.98       319\n",
      "           4       0.96      0.96      0.96       600\n",
      "\n",
      "    accuracy                           0.98      5006\n",
      "   macro avg       0.97      0.96      0.96      5006\n",
      "weighted avg       0.98      0.98      0.98      5006\n",
      "\n"
     ]
    },
    {
     "data": {
      "image/png": "[encoded data removed]",
      "text/plain": [
       "<Figure size 360x360 with 2 Axes>"
      ]
     },
     "metadata": {
      "needs_background": "light"
     },
     "output_type": "display_data"
    }
   ],
   "source": [
    "et = ExtraTreesClassifier(random_state = 0)\n",
    "et.fit(X_train,y_train) \n",
    "et_score=et.score(X_test,y_test)\n",
    "y_predict=et.predict(X_test)\n",
    "y_true=y_test\n",
    "print('Accuracy of ET: '+ str(et_score))\n",
    "precision,recall,fscore,none= precision_recall_fscore_support(y_true, y_predict, average='weighted') \n",
    "print('Precision of ET: '+(str(precision)))\n",
    "print('Recall of ET: '+(str(recall)))\n",
    "print('F1-score of ET: '+(str(fscore)))\n",
    "print(classification_report(y_true,y_predict))\n",
    "cm=confusion_matrix(y_true,y_predict)\n",
    "f,ax=plt.subplots(figsize=(5,5))\n",
    "sns.heatmap(cm,annot=True,linewidth=0.5,linecolor=\"red\",fmt=\".0f\",ax=ax)\n",
    "plt.xlabel(\"y_pred\")\n",
    "plt.ylabel(\"y_true\")\n",
    "plt.show()"
   ]
  },
  {
   "cell_type": "markdown",
   "id": "78bd3682",
   "metadata": {},
   "source": [
    "### GA"
   ]
  },
  {
   "cell_type": "code",
   "execution_count": 55,
   "id": "2828921a",
   "metadata": {},
   "outputs": [
    {
     "name": "stdout",
     "output_type": "stream",
     "text": [
      "1 operators have been imported by TPOT.\n",
      "                                                                                                                       \n",
      "Generation 1 - Current Pareto front scores:\n",
      "                                                                                                                       \n",
      "-1\t0.8430156956554228\tExtraTreesClassifier(input_matrix, ExtraTreesClassifier__criterion=gini, ExtraTreesClassifier__max_depth=47, ExtraTreesClassifier__max_features=16, ExtraTreesClassifier__min_samples_leaf=3, ExtraTreesClassifier__min_samples_split=6, ExtraTreesClassifier__n_estimators=33)\n",
      "                                                                                                                       \n",
      "-2\t0.8521650775773802\tExtraTreesClassifier(ExtraTreesClassifier(CombineDFs(input_matrix, input_matrix), ExtraTreesClassifier__criterion=entropy, ExtraTreesClassifier__max_depth=13, ExtraTreesClassifier__max_features=9, ExtraTreesClassifier__min_samples_leaf=3, ExtraTreesClassifier__min_samples_split=8, ExtraTreesClassifier__n_estimators=138), ExtraTreesClassifier__criterion=gini, ExtraTreesClassifier__max_depth=44, ExtraTreesClassifier__max_features=15, ExtraTreesClassifier__min_samples_leaf=2, ExtraTreesClassifier__min_samples_split=4, ExtraTreesClassifier__n_estimators=109)\n",
      "                                                                                                                       \n",
      "Generation 2 - Current Pareto front scores:\n",
      "                                                                                                                       \n",
      "-1\t0.8480496309248906\tExtraTreesClassifier(CombineDFs(input_matrix, input_matrix), ExtraTreesClassifier__criterion=gini, ExtraTreesClassifier__max_depth=47, ExtraTreesClassifier__max_features=16, ExtraTreesClassifier__min_samples_leaf=4, ExtraTreesClassifier__min_samples_split=6, ExtraTreesClassifier__n_estimators=33)\n",
      "                                                                                                                       \n",
      "-2\t0.8521650775773802\tExtraTreesClassifier(ExtraTreesClassifier(CombineDFs(input_matrix, input_matrix), ExtraTreesClassifier__criterion=entropy, ExtraTreesClassifier__max_depth=13, ExtraTreesClassifier__max_features=9, ExtraTreesClassifier__min_samples_leaf=3, ExtraTreesClassifier__min_samples_split=8, ExtraTreesClassifier__n_estimators=138), ExtraTreesClassifier__criterion=gini, ExtraTreesClassifier__max_depth=44, ExtraTreesClassifier__max_features=15, ExtraTreesClassifier__min_samples_leaf=2, ExtraTreesClassifier__min_samples_split=4, ExtraTreesClassifier__n_estimators=109)\n",
      "                                                                                                                       \n",
      "Generation 3 - Current Pareto front scores:\n",
      "                                                                                                                       \n",
      "-1\t0.8494079689425525\tExtraTreesClassifier(input_matrix, ExtraTreesClassifier__criterion=gini, ExtraTreesClassifier__max_depth=17, ExtraTreesClassifier__max_features=16, ExtraTreesClassifier__min_samples_leaf=2, ExtraTreesClassifier__min_samples_split=5, ExtraTreesClassifier__n_estimators=71)\n",
      "                                                                                                                       \n",
      "-2\t0.8521650775773802\tExtraTreesClassifier(ExtraTreesClassifier(CombineDFs(input_matrix, input_matrix), ExtraTreesClassifier__criterion=entropy, ExtraTreesClassifier__max_depth=13, ExtraTreesClassifier__max_features=9, ExtraTreesClassifier__min_samples_leaf=3, ExtraTreesClassifier__min_samples_split=8, ExtraTreesClassifier__n_estimators=138), ExtraTreesClassifier__criterion=gini, ExtraTreesClassifier__max_depth=44, ExtraTreesClassifier__max_features=15, ExtraTreesClassifier__min_samples_leaf=2, ExtraTreesClassifier__min_samples_split=4, ExtraTreesClassifier__n_estimators=109)\n",
      "                                                                                                                       \r"
     ]
    },
    {
     "data": {
      "text/html": [
       "<style>#sk-container-id-3 {color: black;background-color: white;}#sk-container-id-3 pre{padding: 0;}#sk-container-id-3 div.sk-toggleable {background-color: white;}#sk-container-id-3 label.sk-toggleable__label {cursor: pointer;display: block;width: 100%;margin-bottom: 0;padding: 0.3em;box-sizing: border-box;text-align: center;}#sk-container-id-3 label.sk-toggleable__label-arrow:before {content: \"▸\";float: left;margin-right: 0.25em;color: #696969;}#sk-container-id-3 label.sk-toggleable__label-arrow:hover:before {color: black;}#sk-container-id-3 div.sk-estimator:hover label.sk-toggleable__label-arrow:before {color: black;}#sk-container-id-3 div.sk-toggleable__content {max-height: 0;max-width: 0;overflow: hidden;text-align: left;background-color: #f0f8ff;}#sk-container-id-3 div.sk-toggleable__content pre {margin: 0.2em;color: black;border-radius: 0.25em;background-color: #f0f8ff;}#sk-container-id-3 input.sk-toggleable__control:checked~div.sk-toggleable__content {max-height: 200px;max-width: 100%;overflow: auto;}#sk-container-id-3 input.sk-toggleable__control:checked~label.sk-toggleable__label-arrow:before {content: \"▾\";}#sk-container-id-3 div.sk-estimator input.sk-toggleable__control:checked~label.sk-toggleable__label {background-color: #d4ebff;}#sk-container-id-3 div.sk-label input.sk-toggleable__control:checked~label.sk-toggleable__label {background-color: #d4ebff;}#sk-container-id-3 input.sk-hidden--visually {border: 0;clip: rect(1px 1px 1px 1px);clip: rect(1px, 1px, 1px, 1px);height: 1px;margin: -1px;overflow: hidden;padding: 0;position: absolute;width: 1px;}#sk-container-id-3 div.sk-estimator {font-family: monospace;background-color: #f0f8ff;border: 1px dotted black;border-radius: 0.25em;box-sizing: border-box;margin-bottom: 0.5em;}#sk-container-id-3 div.sk-estimator:hover {background-color: #d4ebff;}#sk-container-id-3 div.sk-parallel-item::after {content: \"\";width: 100%;border-bottom: 1px solid gray;flex-grow: 1;}#sk-container-id-3 div.sk-label:hover label.sk-toggleable__label {background-color: #d4ebff;}#sk-container-id-3 div.sk-serial::before {content: \"\";position: absolute;border-left: 1px solid gray;box-sizing: border-box;top: 0;bottom: 0;left: 50%;z-index: 0;}#sk-container-id-3 div.sk-serial {display: flex;flex-direction: column;align-items: center;background-color: white;padding-right: 0.2em;padding-left: 0.2em;position: relative;}#sk-container-id-3 div.sk-item {position: relative;z-index: 1;}#sk-container-id-3 div.sk-parallel {display: flex;align-items: stretch;justify-content: center;background-color: white;position: relative;}#sk-container-id-3 div.sk-item::before, #sk-container-id-3 div.sk-parallel-item::before {content: \"\";position: absolute;border-left: 1px solid gray;box-sizing: border-box;top: 0;bottom: 0;left: 50%;z-index: -1;}#sk-container-id-3 div.sk-parallel-item {display: flex;flex-direction: column;z-index: 1;position: relative;background-color: white;}#sk-container-id-3 div.sk-parallel-item:first-child::after {align-self: flex-end;width: 50%;}#sk-container-id-3 div.sk-parallel-item:last-child::after {align-self: flex-start;width: 50%;}#sk-container-id-3 div.sk-parallel-item:only-child::after {width: 0;}#sk-container-id-3 div.sk-dashed-wrapped {border: 1px dashed gray;margin: 0 0.4em 0.5em 0.4em;box-sizing: border-box;padding-bottom: 0.4em;background-color: white;}#sk-container-id-3 div.sk-label label {font-family: monospace;font-weight: bold;display: inline-block;line-height: 1.2em;}#sk-container-id-3 div.sk-label-container {text-align: center;}#sk-container-id-3 div.sk-container {/* jupyter's `normalize.less` sets `[hidden] { display: none; }` but bootstrap.min.css set `[hidden] { display: none !important; }` so we also need the `!important` here to be able to override the default hidden behavior on the sphinx rendered scikit-learn.org. See: https://github.com/scikit-learn/scikit-learn/issues/21755 */display: inline-block !important;position: relative;}#sk-container-id-3 div.sk-text-repr-fallback {display: none;}</style><div id=\"sk-container-id-3\" class=\"sk-top-container\"><div class=\"sk-text-repr-fallback\"><pre>TPOTClassifier(config_dict={&#x27;sklearn.ensemble.ExtraTreesClassifier&#x27;: {&#x27;criterion&#x27;: [&#x27;gini&#x27;,\n",
       "                                                                                    &#x27;entropy&#x27;],\n",
       "                                                                      &#x27;max_depth&#x27;: range(5, 50),\n",
       "                                                                      &#x27;max_features&#x27;: range(1, 20),\n",
       "                                                                      &#x27;min_samples_leaf&#x27;: range(1, 11),\n",
       "                                                                      &#x27;min_samples_split&#x27;: range(2, 11),\n",
       "                                                                      &#x27;n_estimators&#x27;: range(10, 200)}},\n",
       "               cv=3, early_stop=5, generations=3, offspring_size=5,\n",
       "               population_size=10, scoring=&#x27;accuracy&#x27;, verbosity=3)</pre><b>In a Jupyter environment, please rerun this cell to show the HTML representation or trust the notebook. <br />On GitHub, the HTML representation is unable to render, please try loading this page with nbviewer.org.</b></div><div class=\"sk-container\" hidden><div class=\"sk-item\"><div class=\"sk-estimator sk-toggleable\"><input class=\"sk-toggleable__control sk-hidden--visually\" id=\"sk-estimator-id-3\" type=\"checkbox\" checked><label for=\"sk-estimator-id-3\" class=\"sk-toggleable__label sk-toggleable__label-arrow\">TPOTClassifier</label><div class=\"sk-toggleable__content\"><pre>TPOTClassifier(config_dict={&#x27;sklearn.ensemble.ExtraTreesClassifier&#x27;: {&#x27;criterion&#x27;: [&#x27;gini&#x27;,\n",
       "                                                                                    &#x27;entropy&#x27;],\n",
       "                                                                      &#x27;max_depth&#x27;: range(5, 50),\n",
       "                                                                      &#x27;max_features&#x27;: range(1, 20),\n",
       "                                                                      &#x27;min_samples_leaf&#x27;: range(1, 11),\n",
       "                                                                      &#x27;min_samples_split&#x27;: range(2, 11),\n",
       "                                                                      &#x27;n_estimators&#x27;: range(10, 200)}},\n",
       "               cv=3, early_stop=5, generations=3, offspring_size=5,\n",
       "               population_size=10, scoring=&#x27;accuracy&#x27;, verbosity=3)</pre></div></div></div></div></div>"
      ],
      "text/plain": [
       "TPOTClassifier(config_dict={'sklearn.ensemble.ExtraTreesClassifier': {'criterion': ['gini',\n",
       "                                                                                    'entropy'],\n",
       "                                                                      'max_depth': range(5, 50),\n",
       "                                                                      'max_features': range(1, 20),\n",
       "                                                                      'min_samples_leaf': range(1, 11),\n",
       "                                                                      'min_samples_split': range(2, 11),\n",
       "                                                                      'n_estimators': range(10, 200)}},\n",
       "               cv=3, early_stop=5, generations=3, offspring_size=5,\n",
       "               population_size=10, scoring='accuracy', verbosity=3)"
      ]
     },
     "execution_count": 55,
     "metadata": {},
     "output_type": "execute_result"
    }
   ],
   "source": [
    "\n",
    "\n",
    "#Random Forest\n",
    "from tpot import TPOTClassifier\n",
    "# Define the hyperparameter configuration space\n",
    "parameters = {\n",
    "    'n_estimators': range(10,200),\n",
    "    \"max_features\":range(1,20),\n",
    "    'max_depth': range(5,50),\n",
    "    \"min_samples_split\":range(2,11),\n",
    "    \"min_samples_leaf\":range(1,11),\n",
    "    \"criterion\":['gini','entropy']\n",
    "    \n",
    "             }\n",
    "# Set the hyperparameters of GA                 \n",
    "ga2 = TPOTClassifier(generations= 3, population_size= 10, offspring_size= 5,\n",
    "                                 verbosity= 3, early_stop= 5,\n",
    "                                 config_dict=\n",
    "                                 {'sklearn.ensemble.ExtraTreesClassifier': parameters}, \n",
    "                                 cv = 3, scoring = 'accuracy')\n",
    "ga2.fit(X, y)\n",
    "\n"
   ]
  },
  {
   "cell_type": "markdown",
   "id": "579feee0",
   "metadata": {},
   "source": [
    "### BO-TPE"
   ]
  },
  {
   "cell_type": "code",
   "execution_count": 53,
   "id": "27fe3fca",
   "metadata": {},
   "outputs": [
    {
     "name": "stdout",
     "output_type": "stream",
     "text": [
      "100%|███████████████████████████████████████████████| 20/20 [00:31<00:00,  1.56s/trial, best loss: -0.9864163004394726]\n",
      "Random Forest: Hyperopt estimated optimum {'criterion': 0, 'max_depth': 46.0, 'max_features': 17.0, 'min_samples_leaf': 1.0, 'min_samples_split': 5.0, 'n_estimators': 38.0}\n"
     ]
    }
   ],
   "source": [
    "# Hyperparameter optimization of extra trees\n",
    "from hyperopt import hp, fmin, tpe, STATUS_OK, Trials\n",
    "from sklearn.model_selection import cross_val_score, StratifiedKFold\n",
    "# Define the objective function\n",
    "def objective(params):\n",
    "    params = {\n",
    "        'n_estimators': int(params['n_estimators']), \n",
    "        'max_depth': int(params['max_depth']),\n",
    "        'max_features': int(params['max_features']),\n",
    "        \"min_samples_split\":int(params['min_samples_split']),\n",
    "        \"min_samples_leaf\":int(params['min_samples_leaf']),\n",
    "        \"criterion\":str(params['criterion'])\n",
    "    }\n",
    "    clf = ExtraTreesClassifier( **params)\n",
    "    clf.fit(X_train,y_train)\n",
    "    score=clf.score(X_test,y_test)\n",
    "\n",
    "    return {'loss':-score, 'status': STATUS_OK }\n",
    "# Define the hyperparameter configuration space\n",
    "space = {\n",
    "    'n_estimators': hp.quniform('n_estimators', 10, 200, 1),\n",
    "    'max_depth': hp.quniform('max_depth', 5, 50, 1),\n",
    "    \"max_features\":hp.quniform('max_features', 1, 20, 1),\n",
    "    \"min_samples_split\":hp.quniform('min_samples_split',2,11,1),\n",
    "    \"min_samples_leaf\":hp.quniform('min_samples_leaf',1,11,1),\n",
    "    \"criterion\":hp.choice('criterion',['gini','entropy'])\n",
    "}\n",
    "\n",
    "best = fmin(fn=objective,\n",
    "            space=space,\n",
    "            algo=tpe.suggest,\n",
    "            max_evals=20)\n",
    "print(\"Random Forest: Hyperopt estimated optimum {}\".format(best))"
   ]
  },
  {
   "cell_type": "markdown",
   "id": "531be604",
   "metadata": {},
   "source": [
    "### PSO"
   ]
  },
  {
   "cell_type": "code",
   "execution_count": 54,
   "id": "5226e934",
   "metadata": {},
   "outputs": [
    {
     "name": "stdout",
     "output_type": "stream",
     "text": [
      "{'n_estimators': 123.00435902209072, 'max_features': 18.003515625, 'max_depth': 34.021484375, 'min_samples_split': 9.83838127062509, 'min_samples_leaf': 3.18359375, 'criterion': 0.402734375}\n",
      "Accuracy:0.8503937206994765\n"
     ]
    }
   ],
   "source": [
    "import optunity\n",
    "import optunity.metrics\n",
    "\n",
    "data=X\n",
    "labels=y\n",
    "# Define the hyperparameter configuration space\n",
    "search = {\n",
    "    'n_estimators': [10,200],\n",
    "    'max_features': [1, 20],\n",
    "    'max_depth': [5,50],\n",
    "    \"min_samples_split\":[2,11],\n",
    "    \"min_samples_leaf\":[1,11],\n",
    "    \"criterion\":[0,1]\n",
    "         }\n",
    "# Define the objective function\n",
    "@optunity.cross_validated(x=data, y=labels, num_folds=3)\n",
    "def performance(x_train, y_train, x_test, y_test, n_estimators=None,max_features=None,max_depth=None,min_samples_split=None,min_samples_leaf=None,criterion=None):\n",
    "    # fit the model\n",
    "    if criterion<0.5:\n",
    "        cri='gini'\n",
    "    else:\n",
    "        cri='entropy'\n",
    "    model = ExtraTreesClassifier(n_estimators=int(n_estimators),\n",
    "                                   max_features=int(max_features),\n",
    "                                   max_depth=int(max_depth),\n",
    "                                   min_samples_split=int(min_samples_split),\n",
    "                                   min_samples_leaf=int(min_samples_leaf),\n",
    "                                   criterion=cri,\n",
    "                                  )\n",
    "    #predictions = model.predict(x_test)\n",
    "    scores=np.mean(cross_val_score(model, X, y, cv=3, n_jobs=-1,\n",
    "                                    scoring=\"accuracy\"))\n",
    "    #return optunity.metrics.roc_auc(y_test, predictions, positive=True)\n",
    "    return scores#optunity.metrics.accuracy(y_test, predictions)\n",
    "\n",
    "optimal_configuration, info, _ = optunity.maximize(performance,\n",
    "                                                  solver_name='particle swarm',\n",
    "                                                  num_evals=20,\n",
    "                                                   **search\n",
    "                                                  )\n",
    "print(optimal_configuration)\n",
    "print(\"Accuracy:\"+ str(info.optimum))\n"
   ]
  },
  {
   "cell_type": "code",
   "execution_count": 54,
   "id": "c6e7e63b",
   "metadata": {
    "scrolled": false
   },
   "outputs": [
    {
     "name": "stdout",
     "output_type": "stream",
     "text": [
      "Accuracy of ET: 0.986016779864163\n",
      "Precision of ET: 0.9859811516143199\n",
      "Recall of ET: 0.986016779864163\n",
      "F1-score of ET: 0.9859855596044618\n",
      "              precision    recall  f1-score   support\n",
      "\n",
      "           0       1.00      0.99      0.99       476\n",
      "           1       0.94      0.92      0.93       281\n",
      "           2       0.99      0.99      0.99      3330\n",
      "           3       0.99      0.97      0.98       319\n",
      "           4       0.98      0.98      0.98       600\n",
      "\n",
      "    accuracy                           0.99      5006\n",
      "   macro avg       0.98      0.97      0.97      5006\n",
      "weighted avg       0.99      0.99      0.99      5006\n",
      "\n"
     ]
    },
    {
     "data": {
      "image/png": "[encoded data removed]",
      "text/plain": [
       "<Figure size 360x360 with 2 Axes>"
      ]
     },
     "metadata": {
      "needs_background": "light"
     },
     "output_type": "display_data"
    }
   ],
   "source": [
    "\n",
    "       \n",
    "et_hpo = ExtraTreesClassifier(n_estimators = 38, min_samples_leaf = 1, max_depth =46, \n",
    "                              min_samples_split = 5, max_features = 17, criterion = 'gini')\n",
    "et_hpo.fit(X_train,y_train) \n",
    "et_score=et_hpo.score(X_test,y_test)\n",
    "y_predict=et_hpo.predict(X_test)\n",
    "y_true=y_test\n",
    "print('Accuracy of ET: '+ str(et_score))\n",
    "precision,recall,fscore,none= precision_recall_fscore_support(y_true, y_predict, average='weighted') \n",
    "print('Precision of ET: '+(str(precision)))\n",
    "print('Recall of ET: '+(str(recall)))\n",
    "print('F1-score of ET: '+(str(fscore)))\n",
    "print(classification_report(y_true,y_predict))\n",
    "cm=confusion_matrix(y_true,y_predict)\n",
    "f,ax=plt.subplots(figsize=(5,5))\n",
    "sns.heatmap(cm,annot=True,linewidth=0.5,linecolor=\"red\",fmt=\".0f\",ax=ax)\n",
    "plt.xlabel(\"y_pred\")\n",
    "plt.ylabel(\"y_true\")\n",
    "plt.show()"
   ]
  },
  {
   "cell_type": "code",
   "execution_count": 55,
   "id": "4c2f685c",
   "metadata": {},
   "outputs": [],
   "source": [
    "et_train=et_hpo.predict(X_train)\n",
    "et_test=et_hpo.predict(X_test)"
   ]
  },
  {
   "cell_type": "code",
   "execution_count": 56,
   "id": "93e2b3cc",
   "metadata": {},
   "outputs": [
    {
     "data": {
      "text/html": [
       "<div>\n",
       "<style scoped>\n",
       "    .dataframe tbody tr th:only-of-type {\n",
       "        vertical-align: middle;\n",
       "    }\n",
       "\n",
       "    .dataframe tbody tr th {\n",
       "        vertical-align: top;\n",
       "    }\n",
       "\n",
       "    .dataframe thead th {\n",
       "        text-align: right;\n",
       "    }\n",
       "</style>\n",
       "<table border=\"1\" class=\"dataframe\">\n",
       "  <thead>\n",
       "    <tr style=\"text-align: right;\">\n",
       "      <th></th>\n",
       "      <th>DecisionTree</th>\n",
       "      <th>RandomForest</th>\n",
       "      <th>ExtraTrees</th>\n",
       "      <th>XgBoost</th>\n",
       "    </tr>\n",
       "  </thead>\n",
       "  <tbody>\n",
       "    <tr>\n",
       "      <th>0</th>\n",
       "      <td>2</td>\n",
       "      <td>2</td>\n",
       "      <td>2</td>\n",
       "      <td>2</td>\n",
       "    </tr>\n",
       "    <tr>\n",
       "      <th>1</th>\n",
       "      <td>2</td>\n",
       "      <td>2</td>\n",
       "      <td>2</td>\n",
       "      <td>2</td>\n",
       "    </tr>\n",
       "    <tr>\n",
       "      <th>2</th>\n",
       "      <td>2</td>\n",
       "      <td>2</td>\n",
       "      <td>2</td>\n",
       "      <td>2</td>\n",
       "    </tr>\n",
       "    <tr>\n",
       "      <th>3</th>\n",
       "      <td>2</td>\n",
       "      <td>2</td>\n",
       "      <td>2</td>\n",
       "      <td>2</td>\n",
       "    </tr>\n",
       "    <tr>\n",
       "      <th>4</th>\n",
       "      <td>2</td>\n",
       "      <td>2</td>\n",
       "      <td>2</td>\n",
       "      <td>2</td>\n",
       "    </tr>\n",
       "  </tbody>\n",
       "</table>\n",
       "</div>"
      ],
      "text/plain": [
       "   DecisionTree  RandomForest  ExtraTrees  XgBoost\n",
       "0             2             2           2        2\n",
       "1             2             2           2        2\n",
       "2             2             2           2        2\n",
       "3             2             2           2        2\n",
       "4             2             2           2        2"
      ]
     },
     "execution_count": 56,
     "metadata": {},
     "output_type": "execute_result"
    }
   ],
   "source": [
    "base_predictions_train = pd.DataFrame( {\n",
    "    'DecisionTree': dt_train.ravel(),\n",
    "        'RandomForest': rf_train.ravel(),\n",
    "     'ExtraTrees': et_train.ravel(),\n",
    "     'XgBoost': xg_train.ravel(),\n",
    "    })\n",
    "base_predictions_train.head(5)"
   ]
  },
  {
   "cell_type": "code",
   "execution_count": 57,
   "id": "18534dec",
   "metadata": {},
   "outputs": [],
   "source": [
    "dt_train=dt_train.reshape(-1, 1)\n",
    "et_train=et_train.reshape(-1, 1)\n",
    "rf_train=rf_train.reshape(-1, 1)\n",
    "xg_train=xg_train.reshape(-1, 1)\n",
    "dt_test=dt_test.reshape(-1, 1)\n",
    "et_test=et_test.reshape(-1, 1)\n",
    "rf_test=rf_test.reshape(-1, 1)\n",
    "xg_test=xg_test.reshape(-1, 1)"
   ]
  },
  {
   "cell_type": "code",
   "execution_count": 58,
   "id": "a8273c3d",
   "metadata": {},
   "outputs": [
    {
     "data": {
      "text/plain": [
       "(20022, 1)"
      ]
     },
     "execution_count": 58,
     "metadata": {},
     "output_type": "execute_result"
    }
   ],
   "source": [
    "dt_train.shape"
   ]
  },
  {
   "cell_type": "code",
   "execution_count": 59,
   "id": "c8497566",
   "metadata": {},
   "outputs": [],
   "source": [
    "x_train = np.concatenate(( dt_train, et_train, rf_train, xg_train), axis=1)\n",
    "x_test = np.concatenate(( dt_test, et_test, rf_test, xg_test), axis=1)"
   ]
  },
  {
   "cell_type": "code",
   "execution_count": 60,
   "id": "bbc954ef",
   "metadata": {},
   "outputs": [
    {
     "name": "stdout",
     "output_type": "stream",
     "text": [
      "Accuracy of Stacking: 0.9890131841789852\n",
      "Precision of Stacking: 0.9889833246636558\n",
      "Recall of Stacking: 0.9890131841789852\n",
      "F1-score of Stacking: 0.9889872688706302\n",
      "              precision    recall  f1-score   support\n",
      "\n",
      "           0       1.00      0.99      0.99       476\n",
      "           1       0.95      0.94      0.95       281\n",
      "           2       0.99      1.00      0.99      3330\n",
      "           3       0.99      0.98      0.98       319\n",
      "           4       0.98      0.98      0.98       600\n",
      "\n",
      "    accuracy                           0.99      5006\n",
      "   macro avg       0.98      0.98      0.98      5006\n",
      "weighted avg       0.99      0.99      0.99      5006\n",
      "\n"
     ]
    },
    {
     "data": {
      "image/png": "[encoded data removed]",
      "text/plain": [
       "<Figure size 360x360 with 2 Axes>"
      ]
     },
     "metadata": {
      "needs_background": "light"
     },
     "output_type": "display_data"
    }
   ],
   "source": [
    "stk = xgb.XGBClassifier().fit(x_train, y_train)\n",
    "y_predict=stk.predict(x_test)\n",
    "y_true=y_test\n",
    "stk_score=accuracy_score(y_true,y_predict)\n",
    "print('Accuracy of Stacking: '+ str(stk_score))\n",
    "precision,recall,fscore,none= precision_recall_fscore_support(y_true, y_predict, average='weighted') \n",
    "print('Precision of Stacking: '+(str(precision)))\n",
    "print('Recall of Stacking: '+(str(recall)))\n",
    "print('F1-score of Stacking: '+(str(fscore)))\n",
    "print(classification_report(y_true,y_predict))\n",
    "cm=confusion_matrix(y_true,y_predict)\n",
    "f,ax=plt.subplots(figsize=(5,5))\n",
    "sns.heatmap(cm,annot=True,linewidth=0.5,linecolor=\"red\",fmt=\".0f\",ax=ax)\n",
    "plt.xlabel(\"y_pred\")\n",
    "plt.ylabel(\"y_true\")\n",
    "plt.show()"
   ]
  },
  {
   "cell_type": "code",
   "execution_count": 61,
   "id": "b20afabe",
   "metadata": {},
   "outputs": [
    {
     "name": "stdout",
     "output_type": "stream",
     "text": [
      "100%|█████████████████████████████████████████████████| 20/20 [00:04<00:00,  4.20trial/s, best loss: -0.98921294446664]\n",
      "XGBoost: Hyperopt estimated optimum {'learning_rate': 1.7558125912383415, 'max_depth': 81.0, 'n_estimators': 90.0}\n"
     ]
    }
   ],
   "source": [
    "from hyperopt import hp, fmin, tpe, STATUS_OK, Trials\n",
    "from sklearn.model_selection import cross_val_score, StratifiedKFold\n",
    "def objective(params):\n",
    "    params = {\n",
    "        'n_estimators': int(params['n_estimators']), \n",
    "        'max_depth': int(params['max_depth']),\n",
    "        'learning_rate':  abs(float(params['learning_rate'])),\n",
    "\n",
    "    }\n",
    "    clf = xgb.XGBClassifier( **params)\n",
    "    clf.fit(x_train, y_train)\n",
    "    y_pred = clf.predict(x_test)\n",
    "    score = accuracy_score(y_test, y_pred)\n",
    "\n",
    "    return {'loss':-score, 'status': STATUS_OK }\n",
    "\n",
    "space = {\n",
    "    'n_estimators': hp.quniform('n_estimators', 10, 100, 5),\n",
    "    'max_depth': hp.quniform('max_depth', 4, 100, 1),\n",
    "    'learning_rate': hp.normal('learning_rate', 0.01, 0.9),\n",
    "}\n",
    "\n",
    "best = fmin(fn=objective,\n",
    "            space=space,\n",
    "            algo=tpe.suggest,\n",
    "            max_evals=20)\n",
    "print(\"XGBoost: Hyperopt estimated optimum {}\".format(best))"
   ]
  },
  {
   "cell_type": "code",
   "execution_count": 62,
   "id": "f7a7b3b7",
   "metadata": {},
   "outputs": [
    {
     "name": "stdout",
     "output_type": "stream",
     "text": [
      "Accuracy of XGBoost: 0.98921294446664\n",
      "Precision of XGBoost: 0.9892015042805775\n",
      "Recall of XGBoost: 0.98921294446664\n",
      "F1-score of XGBoost: 0.9891955557489782\n",
      "              precision    recall  f1-score   support\n",
      "\n",
      "           0       1.00      0.99      0.99       476\n",
      "           1       0.95      0.95      0.95       281\n",
      "           2       0.99      1.00      0.99      3330\n",
      "           3       0.99      0.98      0.98       319\n",
      "           4       0.99      0.98      0.98       600\n",
      "\n",
      "    accuracy                           0.99      5006\n",
      "   macro avg       0.98      0.98      0.98      5006\n",
      "weighted avg       0.99      0.99      0.99      5006\n",
      "\n"
     ]
    },
    {
     "data": {
      "image/png": "[encoded data removed]",
      "text/plain": [
       "<Figure size 360x360 with 2 Axes>"
      ]
     },
     "metadata": {
      "needs_background": "light"
     },
     "output_type": "display_data"
    }
   ],
   "source": [
    "xg = xgb.XGBClassifier(learning_rate=1.7558125912383415, n_estimators =90 , max_depth = 81)\n",
    "xg.fit(x_train,y_train)\n",
    "xg_score=xg.score(x_test,y_test)\n",
    "y_predict=xg.predict(x_test)\n",
    "y_true=y_test\n",
    "print('Accuracy of XGBoost: '+ str(xg_score))\n",
    "precision,recall,fscore,none= precision_recall_fscore_support(y_true, y_predict, average='weighted') \n",
    "print('Precision of XGBoost: '+(str(precision)))\n",
    "print('Recall of XGBoost: '+(str(recall)))\n",
    "print('F1-score of XGBoost: '+(str(fscore)))\n",
    "print(classification_report(y_true,y_predict))\n",
    "cm=confusion_matrix(y_true,y_predict)\n",
    "f,ax=plt.subplots(figsize=(5,5))\n",
    "sns.heatmap(cm,annot=True,linewidth=0.5,linecolor=\"red\",fmt=\".0f\",ax=ax)\n",
    "plt.xlabel(\"y_pred\")\n",
    "plt.ylabel(\"y_true\")\n",
    "plt.show()"
   ]
  },
  {
   "cell_type": "code",
   "execution_count": null,
   "id": "556259af",
   "metadata": {},
   "outputs": [],
   "source": []
  },
  {
   "cell_type": "code",
   "execution_count": null,
   "id": "11cef1ae",
   "metadata": {},
   "outputs": [],
   "source": []
  },
  {
   "cell_type": "markdown",
   "id": "bfb57929",
   "metadata": {},
   "source": [
    "## Anomaly-based IDS"
   ]
  },
  {
   "cell_type": "markdown",
   "id": "39bab4ae",
   "metadata": {},
   "source": [
    "### Generate the port-scan datasets for unknown attack detection"
   ]
  },
  {
   "cell_type": "code",
   "execution_count": 52,
   "id": "03781d14",
   "metadata": {},
   "outputs": [],
   "source": [
    "df=pd.read_csv('./data/IoTID20_sample_km.csv')"
   ]
  },
  {
   "cell_type": "code",
   "execution_count": 53,
   "id": "245b0f84",
   "metadata": {},
   "outputs": [
    {
     "data": {
      "text/plain": [
       "2    16652\n",
       "4     3005\n",
       "0     2378\n",
       "3     1591\n",
       "1     1402\n",
       "Name: Cat, dtype: int64"
      ]
     },
     "execution_count": 53,
     "metadata": {},
     "output_type": "execute_result"
    }
   ],
   "source": [
    "df.Cat.value_counts()"
   ]
  },
  {
   "cell_type": "code",
   "execution_count": 54,
   "id": "0a4a1525",
   "metadata": {},
   "outputs": [],
   "source": [
    "df1 = df[df['Cat'] != 3]\n",
    "\n",
    "\n",
    "df1.loc[df1['Cat'] != 2, 'Cat'] = 1\n",
    "\n",
    "\n",
    "\n",
    "df1.to_csv('./data/IoTID20_sample_km_without_portscan.csv',index=0)"
   ]
  },
  {
   "cell_type": "code",
   "execution_count": 55,
   "id": "d0c445e0",
   "metadata": {},
   "outputs": [],
   "source": [
    "df2 = df[df['Cat'] == 3]\n",
    "\n",
    "df2.loc[df2['Cat'] == 3, 'Cat'] = 1\n",
    "\n",
    "df2.to_csv('./data/IoTID20_sample_km_portscan.csv',index=0)"
   ]
  },
  {
   "cell_type": "code",
   "execution_count": 70,
   "id": "115086f4",
   "metadata": {},
   "outputs": [],
   "source": [
    "df1 = pd.read_csv('./data/IoTID20_sample_km_without_portscan.csv')\n",
    "df2 = pd.read_csv('./data/IoTID20_sample_km_portscan.csv')"
   ]
  },
  {
   "cell_type": "code",
   "execution_count": 71,
   "id": "eea7423f",
   "metadata": {},
   "outputs": [],
   "source": [
    "features = df1.drop(['Cat'],axis=1).dtypes[df1.dtypes != 'object'].index\n",
    "df1[features] = df1[features].apply(\n",
    "    lambda x: (x - x.mean()) / (x.std()))\n",
    "df2[features] = df2[features].apply(\n",
    "    lambda x: (x - x.mean()) / (x.std()))\n",
    "df1 = df1.fillna(0)\n",
    "df2 = df2.fillna(0)"
   ]
  },
  {
   "cell_type": "code",
   "execution_count": 72,
   "id": "5070b15d",
   "metadata": {},
   "outputs": [
    {
     "name": "stderr",
     "output_type": "stream",
     "text": [
      "C:\\Users\\FOCUS\\AppData\\Local\\Temp\\ipykernel_34448\\3839162035.py:1: SettingWithCopyWarning: \n",
      "A value is trying to be set on a copy of a slice from a DataFrame\n",
      "\n",
      "See the caveats in the documentation: https://pandas.pydata.org/pandas-docs/stable/user_guide/indexing.html#returning-a-view-versus-a-copy\n",
      "  df1['Cat'][df1['Cat'] == 2] = 0\n"
     ]
    }
   ],
   "source": [
    "df1['Cat'][df1['Cat'] == 2] = 0\n",
    "\n"
   ]
  },
  {
   "cell_type": "code",
   "execution_count": 73,
   "id": "cb4961cc",
   "metadata": {},
   "outputs": [
    {
     "data": {
      "text/plain": [
       "0    16652\n",
       "1     6785\n",
       "Name: Cat, dtype: int64"
      ]
     },
     "execution_count": 73,
     "metadata": {},
     "output_type": "execute_result"
    }
   ],
   "source": [
    "df1.Cat.value_counts()"
   ]
  },
  {
   "cell_type": "code",
   "execution_count": 74,
   "id": "9dd11e2f",
   "metadata": {},
   "outputs": [
    {
     "data": {
      "text/plain": [
       "1    1591\n",
       "Name: Cat, dtype: int64"
      ]
     },
     "execution_count": 74,
     "metadata": {},
     "output_type": "execute_result"
    }
   ],
   "source": [
    "df2.Cat.value_counts()"
   ]
  },
  {
   "cell_type": "code",
   "execution_count": 75,
   "id": "3bd2f4e7",
   "metadata": {},
   "outputs": [],
   "source": [
    "df2p=df1[df1['Cat']==0]\n",
    "df2pp=df2p.sample(n=None, frac=1591/16652, replace=False, weights=None, random_state=None, axis=0)\n",
    "df2=pd.concat([df2, df2pp])"
   ]
  },
  {
   "cell_type": "code",
   "execution_count": 76,
   "id": "a945cce9",
   "metadata": {},
   "outputs": [
    {
     "data": {
      "text/plain": [
       "1    1591\n",
       "0    1591\n",
       "Name: Cat, dtype: int64"
      ]
     },
     "execution_count": 76,
     "metadata": {},
     "output_type": "execute_result"
    }
   ],
   "source": [
    "df2.Cat.value_counts()"
   ]
  },
  {
   "cell_type": "code",
   "execution_count": 77,
   "id": "1517ccf9",
   "metadata": {},
   "outputs": [
    {
     "name": "stderr",
     "output_type": "stream",
     "text": [
      "C:\\Users\\FOCUS\\AppData\\Local\\Temp\\ipykernel_34448\\281634162.py:1: FutureWarning: The frame.append method is deprecated and will be removed from pandas in a future version. Use pandas.concat instead.\n",
      "  df = df1.append(df2)\n"
     ]
    }
   ],
   "source": [
    "df = df1.append(df2)"
   ]
  },
  {
   "cell_type": "code",
   "execution_count": 78,
   "id": "809263cf",
   "metadata": {},
   "outputs": [
    {
     "data": {
      "text/plain": [
       "0    18243\n",
       "1     8376\n",
       "dtype: int64"
      ]
     },
     "execution_count": 78,
     "metadata": {},
     "output_type": "execute_result"
    }
   ],
   "source": [
    "X = df.drop(['Label'],axis=1) .values\n",
    "y = df.iloc[:, -1].values.reshape(-1,1)\n",
    "y=np.ravel(y)\n",
    "pd.Series(y).value_counts()"
   ]
  },
  {
   "cell_type": "code",
   "execution_count": 79,
   "id": "8f3ce5d5",
   "metadata": {},
   "outputs": [
    {
     "name": "stderr",
     "output_type": "stream",
     "text": [
      "C:\\Users\\FOCUS\\AppData\\Local\\Temp\\ipykernel_34448\\281634162.py:1: FutureWarning: The frame.append method is deprecated and will be removed from pandas in a future version. Use pandas.concat instead.\n",
      "  df = df1.append(df2)\n"
     ]
    }
   ],
   "source": [
    "df = df1.append(df2)"
   ]
  },
  {
   "cell_type": "code",
   "execution_count": null,
   "id": "cf526703",
   "metadata": {},
   "outputs": [],
   "source": []
  },
  {
   "cell_type": "markdown",
   "id": "b4e846a2",
   "metadata": {},
   "source": [
    "### Feature engineering (IG, FCBF, and KPCA)"
   ]
  },
  {
   "cell_type": "markdown",
   "id": "d2661216",
   "metadata": {},
   "source": [
    "#### Feature selection by information gain (IG)"
   ]
  },
  {
   "cell_type": "code",
   "execution_count": null,
   "id": "be5cbbd5",
   "metadata": {},
   "outputs": [],
   "source": []
  },
  {
   "cell_type": "code",
   "execution_count": 80,
   "id": "692e4057",
   "metadata": {},
   "outputs": [],
   "source": [
    "from sklearn.feature_selection import mutual_info_classif\n",
    "importances = mutual_info_classif(X, y)"
   ]
  },
  {
   "cell_type": "code",
   "execution_count": 81,
   "id": "021f4417",
   "metadata": {},
   "outputs": [],
   "source": [
    "# calculate the sum of importance scores\n",
    "f_list = sorted(zip(map(lambda x: round(x, 4), importances), features), reverse=True)\n",
    "Sum = 0\n",
    "fs = []\n",
    "for i in range(0, len(f_list)):\n",
    "    Sum = Sum + f_list[i][0]\n",
    "    fs.append(f_list[i][1])"
   ]
  },
  {
   "cell_type": "code",
   "execution_count": 82,
   "id": "2cc114a5",
   "metadata": {},
   "outputs": [],
   "source": [
    "# select the important features from top to bottom until the accumulated importance reaches 90%\n",
    "f_list2 = sorted(zip(map(lambda x: round(x, 4), importances/Sum), features), reverse=True)\n",
    "Sum2 = 0\n",
    "fs = []\n",
    "for i in range(0, len(f_list2)):\n",
    "    Sum2 = Sum2 + f_list2[i][0]\n",
    "    fs.append(f_list2[i][1])\n",
    "    if Sum2>=0.9:\n",
    "        break        "
   ]
  },
  {
   "cell_type": "code",
   "execution_count": 83,
   "id": "0ea88256",
   "metadata": {},
   "outputs": [],
   "source": [
    "X_fs = df[fs].values"
   ]
  },
  {
   "cell_type": "code",
   "execution_count": 84,
   "id": "7813fcfe",
   "metadata": {},
   "outputs": [
    {
     "data": {
      "text/plain": [
       "(26619, 51)"
      ]
     },
     "execution_count": 84,
     "metadata": {},
     "output_type": "execute_result"
    }
   ],
   "source": [
    "X_fs.shape"
   ]
  },
  {
   "cell_type": "code",
   "execution_count": 85,
   "id": "ccbc6cda",
   "metadata": {},
   "outputs": [
    {
     "data": {
      "text/plain": [
       "array([[ 0.        ,  0.11348089, -0.87689178, ..., -0.03092391,\n",
       "        -0.73376073, -0.36589311],\n",
       "       [ 0.        ,  0.10358334, -0.87689178, ..., -0.03092391,\n",
       "        -0.73376073, -0.36589311],\n",
       "       [ 0.        ,  0.10358334, -0.87689178, ..., -0.03092391,\n",
       "        -0.73376073, -0.36589311],\n",
       "       ...,\n",
       "       [ 0.        ,  1.15304808, -0.28550888, ..., -0.03042634,\n",
       "        -0.73376073, -0.36589311],\n",
       "       [ 0.        ,  0.96475126, -0.87689178, ..., -0.03092391,\n",
       "        -0.73376073, -0.36589311],\n",
       "       [ 0.        ,  0.81154207, -0.2785077 , ..., -0.03092391,\n",
       "         1.2518241 ,  0.75518806]])"
      ]
     },
     "execution_count": 85,
     "metadata": {},
     "output_type": "execute_result"
    }
   ],
   "source": [
    "X_fs"
   ]
  },
  {
   "cell_type": "markdown",
   "id": "368d62cf",
   "metadata": {},
   "source": [
    "#### Feature selection by Fast Correlation Based Filter (FCBF)\n",
    "\n",
    "The module is imported from the GitHub repo: https://github.com/SantiagoEG/FCBF_module"
   ]
  },
  {
   "cell_type": "code",
   "execution_count": 86,
   "id": "f525f517",
   "metadata": {},
   "outputs": [],
   "source": [
    "from FCBF_module import FCBF, FCBFK, FCBFiP, get_i\n",
    "fcbf = FCBFK(k = 20)\n",
    "#fcbf.fit(X_fs, y)"
   ]
  },
  {
   "cell_type": "code",
   "execution_count": 87,
   "id": "e2f464e9",
   "metadata": {},
   "outputs": [],
   "source": [
    "X_fss = fcbf.fit_transform(X_fs,y)"
   ]
  },
  {
   "cell_type": "code",
   "execution_count": 88,
   "id": "b630bdf4",
   "metadata": {},
   "outputs": [
    {
     "data": {
      "text/plain": [
       "(26619, 20)"
      ]
     },
     "execution_count": 88,
     "metadata": {},
     "output_type": "execute_result"
    }
   ],
   "source": [
    "X_fss.shape"
   ]
  },
  {
   "cell_type": "code",
   "execution_count": 89,
   "id": "4471b80a",
   "metadata": {},
   "outputs": [
    {
     "data": {
      "text/plain": [
       "array([[-0.33192593, -0.77668086, -0.87689178, ...,  1.23871741,\n",
       "         1.76959884,  1.76959884],\n",
       "       [-0.33192593, -0.77668086, -0.87689178, ...,  1.23871741,\n",
       "         1.76959884,  1.76959884],\n",
       "       [-0.33192593, -0.77668086, -0.87689178, ...,  1.23871741,\n",
       "         1.76959884,  1.76959884],\n",
       "       ...,\n",
       "       [-0.33192593,  1.23983285, -0.28550888, ..., -0.88073915,\n",
       "        -0.78160276, -0.78160276],\n",
       "       [-0.33192593, -0.77668086, -0.87689178, ...,  1.23871741,\n",
       "         1.76959884,  1.76959884],\n",
       "       [-0.33192593,  1.23983285, -0.2785077 , ...,  1.21177516,\n",
       "         0.46371143,  0.46371143]])"
      ]
     },
     "execution_count": 89,
     "metadata": {},
     "output_type": "execute_result"
    }
   ],
   "source": [
    "X_fss"
   ]
  },
  {
   "cell_type": "code",
   "execution_count": 90,
   "id": "dcae6776",
   "metadata": {},
   "outputs": [],
   "source": [
    "from sklearn.decomposition import KernelPCA\n",
    "kpca = KernelPCA(n_components = 10, kernel = 'rbf')\n",
    "kpca.fit(X_fss, y)\n",
    "X_kpca = kpca.transform(X_fss)\n",
    "\n",
    "# from sklearn.decomposition import PCA\n",
    "# kpca = PCA(n_components = 10)\n",
    "# kpca.fit(X_fss, y)\n",
    "# X_kpca = kpca.transform(X_fss)"
   ]
  },
  {
   "cell_type": "code",
   "execution_count": null,
   "id": "bc9ca8da",
   "metadata": {},
   "outputs": [],
   "source": [
    "X_train = X_kpca[:len(df1)]\n",
    "y_train = y[:len(df1)]\n",
    "X_test = X_kpca[len(df1):]\n",
    "y_test = y[len(df1):]"
   ]
  },
  {
   "cell_type": "code",
   "execution_count": null,
   "id": "6a69722b",
   "metadata": {},
   "outputs": [],
   "source": [
    "\n",
    "\n",
    "# %%\n",
    "\n",
    "\n",
    "# %% [markdown]\n",
    "# ### Solve class-imbalance by SMOTE\n",
    "\n",
    "# %%\n",
    "pd.Series(y_train).value_counts()\n",
    "\n",
    "# %%\n",
    "from imblearn.over_sampling import SMOTE\n",
    "smote=SMOTE(n_jobs=-1,sampling_strategy={1:18225})\n",
    "X_train, y_train = smote.fit_sample(X_train, y_train)\n",
    "\n",
    "# %%\n",
    "pd.Series(y_train).value_counts()\n",
    "\n",
    "# %%\n",
    "pd.Series(y_test).value_counts()\n",
    "\n",
    "# %% [markdown]\n",
    "# ### Apply the cluster labeling (CL) k-means method\n",
    "\n",
    "# %%\n",
    "from sklearn.cluster import KMeans\n",
    "from sklearn.cluster import DBSCAN,MeanShift\n",
    "from sklearn.cluster import SpectralClustering,AgglomerativeClustering,AffinityPropagation,Birch,MiniBatchKMeans,MeanShift \n",
    "from sklearn.mixture import GaussianMixture, BayesianGaussianMixture\n",
    "from sklearn.metrics import classification_report\n",
    "from sklearn import metrics\n",
    "\n",
    "# %%\n",
    "def CL_kmeans(X_train, X_test, y_train, y_test,n,b=100):\n",
    "    km_cluster = MiniBatchKMeans(n_clusters=n,batch_size=b)\n",
    "    result = km_cluster.fit_predict(X_train)\n",
    "    result2 = km_cluster.predict(X_test)\n",
    "\n",
    "    count=0\n",
    "    a=np.zeros(n)\n",
    "    b=np.zeros(n)\n",
    "    for v in range(0,n):\n",
    "        for i in range(0,len(y_train)):\n",
    "            if result[i]==v:\n",
    "                if y_train[i]==1:\n",
    "                    a[v]=a[v]+1\n",
    "                else:\n",
    "                    b[v]=b[v]+1\n",
    "    list1=[]\n",
    "    list2=[]\n",
    "    for v in range(0,n):\n",
    "        if a[v]<=b[v]:\n",
    "            list1.append(v)\n",
    "        else: \n",
    "            list2.append(v)\n",
    "    for v in range(0,len(y_test)):\n",
    "        if result2[v] in list1:\n",
    "            result2[v]=0\n",
    "        elif result2[v] in list2:\n",
    "            result2[v]=1\n",
    "        else:\n",
    "            print(\"-1\")\n",
    "    print(classification_report(y_test, result2))\n",
    "    cm=confusion_matrix(y_test,result2)\n",
    "    acc=metrics.accuracy_score(y_test,result2)\n",
    "    print(str(acc))\n",
    "    print(cm)\n",
    "\n",
    "# %%\n",
    "CL_kmeans(X_train, X_test, y_train, y_test, 8)\n",
    "\n",
    "# %% [markdown]\n",
    "# ### Hyperparameter optimization of CL-k-means\n",
    "# Tune \"k\"\n",
    "\n",
    "# %%\n",
    "#Hyperparameter optimization by BO-GP\n",
    "from skopt.space import Real, Integer\n",
    "from skopt.utils import use_named_args\n",
    "from sklearn import metrics\n",
    "\n",
    "space  = [Integer(2, 50, name='n_clusters')]\n",
    "@use_named_args(space)\n",
    "def objective(**params):\n",
    "    km_cluster = MiniBatchKMeans(batch_size=100, **params)\n",
    "    n=params['n_clusters']\n",
    "    \n",
    "    result = km_cluster.fit_predict(X_train)\n",
    "    result2 = km_cluster.predict(X_test)\n",
    "\n",
    "    count=0\n",
    "    a=np.zeros(n)\n",
    "    b=np.zeros(n)\n",
    "    for v in range(0,n):\n",
    "        for i in range(0,len(y_train)):\n",
    "            if result[i]==v:\n",
    "                if y_train[i]==1:\n",
    "                    a[v]=a[v]+1\n",
    "                else:\n",
    "                    b[v]=b[v]+1\n",
    "    list1=[]\n",
    "    list2=[]\n",
    "    for v in range(0,n):\n",
    "        if a[v]<=b[v]:\n",
    "            list1.append(v)\n",
    "        else: \n",
    "            list2.append(v)\n",
    "    for v in range(0,len(y_test)):\n",
    "        if result2[v] in list1:\n",
    "            result2[v]=0\n",
    "        elif result2[v] in list2:\n",
    "            result2[v]=1\n",
    "        else:\n",
    "            print(\"-1\")\n",
    "    cm=metrics.accuracy_score(y_test,result2)\n",
    "    print(str(n)+\" \"+str(cm))\n",
    "    return (1-cm)\n",
    "from skopt import gp_minimize\n",
    "import time\n",
    "t1=time.time()\n",
    "res_gp = gp_minimize(objective, space, n_calls=20, random_state=0)\n",
    "t2=time.time()\n",
    "print(t2-t1)\n",
    "print(\"Best score=%.4f\" % (1-res_gp.fun))\n",
    "print(\"\"\"Best parameters: n_clusters=%d\"\"\" % (res_gp.x[0]))\n",
    "\n",
    "# %%\n",
    "#Hyperparameter optimization by BO-TPE\n",
    "from hyperopt import hp, fmin, tpe, STATUS_OK, Trials\n",
    "from sklearn.model_selection import cross_val_score, StratifiedKFold\n",
    "from sklearn.cluster import MiniBatchKMeans\n",
    "from sklearn import metrics\n",
    "\n",
    "def objective(params):\n",
    "    params = {\n",
    "        'n_clusters': int(params['n_clusters']), \n",
    "    }\n",
    "    km_cluster = MiniBatchKMeans(batch_size=100, **params)\n",
    "    n=params['n_clusters']\n",
    "    \n",
    "    result = km_cluster.fit_predict(X_train)\n",
    "    result2 = km_cluster.predict(X_test)\n",
    "\n",
    "    count=0\n",
    "    a=np.zeros(n)\n",
    "    b=np.zeros(n)\n",
    "    for v in range(0,n):\n",
    "        for i in range(0,len(y_train)):\n",
    "            if result[i]==v:\n",
    "                if y_train[i]==1:\n",
    "                    a[v]=a[v]+1\n",
    "                else:\n",
    "                    b[v]=b[v]+1\n",
    "    list1=[]\n",
    "    list2=[]\n",
    "    for v in range(0,n):\n",
    "        if a[v]<=b[v]:\n",
    "            list1.append(v)\n",
    "        else: \n",
    "            list2.append(v)\n",
    "    for v in range(0,len(y_test)):\n",
    "        if result2[v] in list1:\n",
    "            result2[v]=0\n",
    "        elif result2[v] in list2:\n",
    "            result2[v]=1\n",
    "        else:\n",
    "            print(\"-1\")\n",
    "    score=metrics.accuracy_score(y_test,result2)\n",
    "    print(str(params['n_clusters'])+\" \"+str(score))\n",
    "    return {'loss':1-score, 'status': STATUS_OK }\n",
    "space = {\n",
    "    'n_clusters': hp.quniform('n_clusters', 2, 50, 1),\n",
    "}\n",
    "\n",
    "best = fmin(fn=objective,\n",
    "            space=space,\n",
    "            algo=tpe.suggest,\n",
    "            max_evals=20)\n",
    "print(\"Random Forest: Hyperopt estimated optimum {}\".format(best))\n",
    "\n",
    "# %%\n",
    "CL_kmeans(X_train, X_test, y_train, y_test, 16)\n",
    "\n",
    "# %% [markdown]\n",
    "# ### Apply the CL-k-means model with biased classifiers\n",
    "\n",
    "# %%\n",
    "# needs to work on the entire dataset to generate sufficient training samples for biased classifiers\n",
    "def Anomaly_IDS(X_train, X_test, y_train, y_test,n,b=100):\n",
    "    # CL-kmeans\n",
    "    km_cluster = MiniBatchKMeans(n_clusters=n,batch_size=b)\n",
    "    result = km_cluster.fit_predict(X_train)\n",
    "    result2 = km_cluster.predict(X_test)\n",
    "\n",
    "    count=0\n",
    "    a=np.zeros(n)\n",
    "    b=np.zeros(n)\n",
    "    for v in range(0,n):\n",
    "        for i in range(0,len(y_train)):\n",
    "            if result[i]==v:\n",
    "                if y_train[i]==1:\n",
    "                    a[v]=a[v]+1\n",
    "                else:\n",
    "                    b[v]=b[v]+1\n",
    "    list1=[]\n",
    "    list2=[]\n",
    "    for v in range(0,n):\n",
    "        if a[v]<=b[v]:\n",
    "            list1.append(v)\n",
    "        else: \n",
    "            list2.append(v)\n",
    "    for v in range(0,len(y_test)):\n",
    "        if result2[v] in list1:\n",
    "            result2[v]=0\n",
    "        elif result2[v] in list2:\n",
    "            result2[v]=1\n",
    "        else:\n",
    "            print(\"-1\")\n",
    "    print(classification_report(y_test, result2))\n",
    "    cm=confusion_matrix(y_test,result2)\n",
    "    acc=metrics.accuracy_score(y2,result2)\n",
    "    print(str(acc))\n",
    "    print(cm)\n",
    "    \n",
    "    #Biased classifier construction\n",
    "    count=0\n",
    "    print(len(y))\n",
    "    a=np.zeros(n)\n",
    "    b=np.zeros(n)\n",
    "    FNL=[]\n",
    "    FPL=[]\n",
    "    for v in range(0,n):\n",
    "        al=[]\n",
    "        bl=[]\n",
    "        for i in range(0,len(y)):   \n",
    "            if result[i]==v:        \n",
    "                if y[i]==1:        #label 1\n",
    "                    a[v]=a[v]+1\n",
    "                    al.append(i)\n",
    "                else:             #label 0\n",
    "                    b[v]=b[v]+1\n",
    "                    bl.append(i)\n",
    "        if a[v]<=b[v]:\n",
    "            FNL.extend(al)\n",
    "        else:\n",
    "            FPL.extend(bl)\n",
    "        #print(str(v)+\"=\"+str(a[v]/(a[v]+b[v])))\n",
    "        \n",
    "    dffp=df.iloc[FPL, :]\n",
    "    dffn=df.iloc[FNL, :]\n",
    "    dfva0=df[df['Label']==0]\n",
    "    dfva1=df[df['Label']==1]\n",
    "    \n",
    "    dffpp=dfva1.sample(n=None, frac=len(FPL)/dfva1.shape[0], replace=False, weights=None, random_state=None, axis=0)\n",
    "    dffnp=dfva0.sample(n=None, frac=len(FNL)/dfva0.shape[0], replace=False, weights=None, random_state=None, axis=0)\n",
    "    \n",
    "    dffp_f=pd.concat([dffp, dffpp])\n",
    "    dffn_f=pd.concat([dffn, dffnp])\n",
    "    \n",
    "    Xp = dffp_f.drop(['Label'],axis=1)  \n",
    "    yp = dffp_f.iloc[:, -1].values.reshape(-1,1)\n",
    "    yp=np.ravel(yp)\n",
    "\n",
    "    Xn = dffn_f.drop(['Label'],axis=1)  \n",
    "    yn = dffn_f.iloc[:, -1].values.reshape(-1,1)\n",
    "    yn=np.ravel(yn)\n",
    "    \n",
    "    rfp = RandomForestClassifier(random_state = 0)\n",
    "    rfp.fit(Xp,yp)\n",
    "    rfn = RandomForestClassifier(random_state = 0)\n",
    "    rfn.fit(Xn,yn)\n",
    "\n",
    "    dffnn_f=pd.concat([dffn, dffnp])\n",
    "    \n",
    "    Xnn = dffn_f.drop(['Label'],axis=1)  \n",
    "    ynn = dffn_f.iloc[:, -1].values.reshape(-1,1)\n",
    "    ynn=np.ravel(ynn)\n",
    "\n",
    "    rfnn = RandomForestClassifier(random_state = 0)\n",
    "    rfnn.fit(Xnn,ynn)\n",
    "\n",
    "    X2p = df2.drop(['Label'],axis=1) \n",
    "    y2p = df2.iloc[:, -1].values.reshape(-1,1)\n",
    "    y2p=np.ravel(y2p)\n",
    "\n",
    "    result2 = km_cluster.predict(X2p)\n",
    "\n",
    "    count=0\n",
    "    a=np.zeros(n)\n",
    "    b=np.zeros(n)\n",
    "    for v in range(0,n):\n",
    "        for i in range(0,len(y)):\n",
    "            if result[i]==v:\n",
    "                if y[i]==1:\n",
    "                    a[v]=a[v]+1\n",
    "                else:\n",
    "                    b[v]=b[v]+1\n",
    "    list1=[]\n",
    "    list2=[]\n",
    "    l1=[]\n",
    "    l0=[]\n",
    "    for v in range(0,n):\n",
    "        if a[v]<=b[v]:\n",
    "            list1.append(v)\n",
    "        else: \n",
    "            list2.append(v)\n",
    "    for v in range(0,len(y2p)):\n",
    "        if result2[v] in list1:\n",
    "            result2[v]=0\n",
    "            l0.append(v)\n",
    "        elif result2[v] in list2:\n",
    "            result2[v]=1\n",
    "            l1.append(v)\n",
    "        else:\n",
    "            print(\"-1\")\n",
    "    print(classification_report(y2p, result2))\n",
    "    cm=confusion_matrix(y2p,result2)\n",
    "    print(cm)\n"
   ]
  }
 ],
 "metadata": {
  "interpreter": {
   "hash": "bc342a2d18cd8de928dda5685bacff2bb239146e0847e732d8a85b5d43ec132e"
  },
  "kernelspec": {
   "display_name": "tf2",
   "language": "python",
   "name": "tf2"
  },
  "language_info": {
   "codemirror_mode": {
    "name": "ipython",
    "version": 3
   },
   "file_extension": ".py",
   "mimetype": "text/x-python",
   "name": "python",
   "nbconvert_exporter": "python",
   "pygments_lexer": "ipython3",
   "version": "3.8.13"
  }
 },
 "nbformat": 4,
 "nbformat_minor": 5
}
