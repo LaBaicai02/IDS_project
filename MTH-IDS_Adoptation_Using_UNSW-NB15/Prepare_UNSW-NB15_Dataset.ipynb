{
 "cells": [
  {
   "cell_type": "markdown",
   "metadata": {},
   "source": [
    "# Prepare UNSW-NB15 Dataset\n",
    "This notebook is used to prepare the UNSW-NB15 dataset for the project to run. For more information about the UNSW-NB15 dataset, please checck *[UNSW-NB15: a comprehensive data set for network intrusion detection systems (UNSW-NB15 network data set)](https://ieeexplore.ieee.org/document/7348942) by Nour Moustafa and Jill Slay*.  \n",
    "## Major steps\n",
    "1. Download the UNSW-NB15 dataset from Kaggle\n",
    "2. Merge the 4 pieces of the dataset into 1 complete dataset\n",
    "3. Save dataset to .csv file  \n",
    "******"
   ]
  },
  {
   "cell_type": "markdown",
   "metadata": {},
   "source": [
    "## Download dataset\n",
    "***Only needed when running the project for the first time***"
   ]
  },
  {
   "cell_type": "code",
   "execution_count": 1,
   "metadata": {},
   "outputs": [],
   "source": [
    "# Dataset to download from Kaggle\n",
    "kaggle_name = 'mrwellsdavid/unsw-nb15'\n",
    "# Prepare directory to store the datasets\n",
    "import os\n",
    "if not os.path.exists('data'):\n",
    "    os.mkdir('data')\n",
    "if not os.path.exists('data/achieve'):\n",
    "    os.mkdir('data/achieve')"
   ]
  },
  {
   "cell_type": "markdown",
   "metadata": {},
   "source": [
    "### Requirement\n",
    "Please ensure you have installed and configured **[Kaggle API Tool](https://www.kaggle.com/docs/api#getting-started-installation-&-authentication)** in your environment in order to automatically download the dataset.  \n",
    "Kaggle API Documentation: <https://www.kaggle.com/docs/api>  \n",
    "**Important**: Make sure the **[authentication part](https://www.kaggle.com/docs/api#getting-started-installation-&-authentication)** of the set-up process is corretcly performed. "
   ]
  },
  {
   "cell_type": "code",
   "execution_count": 2,
   "metadata": {},
   "outputs": [],
   "source": [
    "# Download the original UNSW-NB15 dataset using Kaggle API (This may take some time depending on internet connection)\n",
    "# This cell equals running the command in the system shell\n",
    "status = os.system('kaggle datasets download --force --unzip -d {} -p data/achieve'.format(kaggle_name))\n",
    "if (status != 0):\n",
    "    raise RuntimeError('Downloading Failed')"
   ]
  },
  {
   "cell_type": "markdown",
   "metadata": {},
   "source": [
    "### Manual Replacement\n",
    "Download the dataset from [kaggle page](https://www.kaggle.com/datasets/mrwellsdavid/unsw-nb15) and put all the unziped files under `data/achieve`. "
   ]
  },
  {
   "cell_type": "markdown",
   "metadata": {},
   "source": [
    "----\n",
    "## Merge the datasets\n",
    "This step will merge `UNSW-NB15_{1,2,3,4}.csv` according to the feature definition in `NUSW-NB15_features.csv`."
   ]
  },
  {
   "cell_type": "code",
   "execution_count": 21,
   "metadata": {},
   "outputs": [
    {
     "name": "stdout",
     "output_type": "stream",
     "text": [
      "(49, 3)\n"
     ]
    },
    {
     "data": {
      "text/html": [
       "<div>\n",
       "<style scoped>\n",
       "    .dataframe tbody tr th:only-of-type {\n",
       "        vertical-align: middle;\n",
       "    }\n",
       "\n",
       "    .dataframe tbody tr th {\n",
       "        vertical-align: top;\n",
       "    }\n",
       "\n",
       "    .dataframe thead th {\n",
       "        text-align: right;\n",
       "    }\n",
       "</style>\n",
       "<table border=\"1\" class=\"dataframe\">\n",
       "  <thead>\n",
       "    <tr style=\"text-align: right;\">\n",
       "      <th></th>\n",
       "      <th>Name</th>\n",
       "      <th>Type</th>\n",
       "      <th>Description</th>\n",
       "    </tr>\n",
       "    <tr>\n",
       "      <th>No.</th>\n",
       "      <th></th>\n",
       "      <th></th>\n",
       "      <th></th>\n",
       "    </tr>\n",
       "  </thead>\n",
       "  <tbody>\n",
       "    <tr>\n",
       "      <th>1</th>\n",
       "      <td>srcip</td>\n",
       "      <td>nominal</td>\n",
       "      <td>Source IP address</td>\n",
       "    </tr>\n",
       "    <tr>\n",
       "      <th>2</th>\n",
       "      <td>sport</td>\n",
       "      <td>integer</td>\n",
       "      <td>Source port number</td>\n",
       "    </tr>\n",
       "    <tr>\n",
       "      <th>3</th>\n",
       "      <td>dstip</td>\n",
       "      <td>nominal</td>\n",
       "      <td>Destination IP address</td>\n",
       "    </tr>\n",
       "    <tr>\n",
       "      <th>4</th>\n",
       "      <td>dsport</td>\n",
       "      <td>integer</td>\n",
       "      <td>Destination port number</td>\n",
       "    </tr>\n",
       "    <tr>\n",
       "      <th>5</th>\n",
       "      <td>proto</td>\n",
       "      <td>nominal</td>\n",
       "      <td>Transaction protocol</td>\n",
       "    </tr>\n",
       "  </tbody>\n",
       "</table>\n",
       "</div>"
      ],
      "text/plain": [
       "       Name    Type               Description\n",
       "No.                                          \n",
       "1     srcip  nominal        Source IP address\n",
       "2     sport  integer       Source port number\n",
       "3     dstip  nominal   Destination IP address\n",
       "4    dsport  integer  Destination port number\n",
       "5     proto  nominal     Transaction protocol"
      ]
     },
     "execution_count": 21,
     "metadata": {},
     "output_type": "execute_result"
    }
   ],
   "source": [
    "# Read feature definition in NUSW-NB15_features.csv\n",
    "import pandas as pd\n",
    "df_features = pd.read_csv('data/achieve/NUSW-NB15_features.csv', encoding='cp1252', index_col=0)\n",
    "print(df_features.shape)\n",
    "df_features.head()"
   ]
  },
  {
   "cell_type": "code",
   "execution_count": 23,
   "metadata": {},
   "outputs": [
    {
     "data": {
      "text/plain": [
       "integer      20\n",
       "Float        10\n",
       "Integer       8\n",
       "nominal       6\n",
       "Timestamp     2\n",
       "Binary        2\n",
       "binary        1\n",
       "Name: Type , dtype: int64"
      ]
     },
     "execution_count": 23,
     "metadata": {},
     "output_type": "execute_result"
    }
   ],
   "source": [
    "df_features.iloc[:, 1].value_counts()"
   ]
  },
  {
   "cell_type": "code",
   "execution_count": 25,
   "metadata": {},
   "outputs": [],
   "source": [
    "# Get Feature Names\n",
    "col_names = df_features.iloc[:, 0].to_list()\n",
    "# Get Feature Types\n",
    "type_dict = {'integer': pd.Int64Dtype, 'float': , }"
   ]
  }
 ],
 "metadata": {
  "interpreter": {
   "hash": "bc342a2d18cd8de928dda5685bacff2bb239146e0847e732d8a85b5d43ec132e"
  },
  "kernelspec": {
   "display_name": "Python 3.9.12 ('IDSml')",
   "language": "python",
   "name": "python3"
  },
  "language_info": {
   "codemirror_mode": {
    "name": "ipython",
    "version": 3
   },
   "file_extension": ".py",
   "mimetype": "text/x-python",
   "name": "python",
   "nbconvert_exporter": "python",
   "pygments_lexer": "ipython3",
   "version": "3.9.12"
  },
  "orig_nbformat": 4
 },
 "nbformat": 4,
 "nbformat_minor": 2
}
